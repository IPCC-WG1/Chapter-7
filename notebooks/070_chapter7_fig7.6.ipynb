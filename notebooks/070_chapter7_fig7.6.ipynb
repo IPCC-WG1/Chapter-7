{
 "cells": [
  {
   "cell_type": "markdown",
   "metadata": {},
   "source": [
    "# Plot fig. 7.6"
   ]
  },
  {
   "cell_type": "code",
   "execution_count": 8,
   "metadata": {},
   "outputs": [],
   "source": [
    "import numpy as np\n",
    "import matplotlib.pyplot as pl\n",
    "import matplotlib.gridspec as gridspec\n",
    "import pandas as pd\n",
    "from matplotlib import rc\n",
    "from netCDF4 import Dataset\n",
    "import scipy.stats as st\n",
    "import warnings"
   ]
  },
  {
   "cell_type": "code",
   "execution_count": 2,
   "metadata": {},
   "outputs": [],
   "source": [
    "pl.rcParams['figure.figsize'] = (18/2.54, 11/2.54)\n",
    "pl.rcParams['font.size'] = 11\n",
    "pl.rcParams['font.family'] = 'Arial'\n",
    "pl.rcParams['xtick.direction'] = 'out'\n",
    "pl.rcParams['xtick.minor.visible'] = True\n",
    "pl.rcParams['ytick.major.left'] = True\n",
    "pl.rcParams['ytick.major.size'] = 0\n",
    "pl.rcParams['xtick.top'] = True\n",
    "pl.rcParams['figure.dpi'] = 150"
   ]
  },
  {
   "cell_type": "code",
   "execution_count": null,
   "metadata": {},
   "outputs": [],
   "source": [
    "expts = {\n",
    "    3: r'10$\\times$BC',\n",
    "    1: r'3$\\times$CH$_4$',\n",
    "    0: r'2$\\times$CO$_2$',\n",
    "    2: '+2%Sol',\n",
    "    4: r'5$\\times$Sul',\n",
    "    5: r'9$\\times$CFC-12',\n",
    "    6: r'8$\\times$CFC-11',\n",
    "    7: r'3$\\times$N$_2$O',\n",
    "    8: r'5$\\times$O$_3$',\n",
    "    9: 'Volcanic (Pinatubo)'\n",
    "}\n",
    "\n",
    "# 10 models, 4 kernels, 10 experiments and 7 adjustments\n",
    "# do adjust[model, kernel, exp]\n",
    "n_mod = 10; n_ker = 6; n_exp=10\n",
    "\n",
    "flux = {}\n",
    "flux_u90 = {}\n",
    "valid_count = {}"
   ]
  },
  {
   "cell_type": "markdown",
   "metadata": {},
   "source": [
    "## Smith et al. 2018"
   ]
  },
  {
   "cell_type": "code",
   "execution_count": 3,
   "metadata": {},
   "outputs": [],
   "source": [
    "indirs = ['../data_input/Smith_et_al_GRL_2018/pdrmip_kernel_ryan_kramer/', \n",
    "          '../data_input/Smith_et_al_GRL_2018/pdrmip_kernel_ryan_kramer/', \n",
    "          '../data_input/Smith_et_al_GRL_2018/pdrmip_kernel_ryan_kramer/', \n",
    "          '../data_input/Smith_et_al_GRL_2018/pdrmip_kernel_ryan_kramer/', \n",
    "          '../data_input/Smith_et_al_GRL_2018/pdrmip_kernel_ryan_kramer/', \n",
    "          '../data_input/Smith_et_al_GRL_2018/pdrmip_kernel_ECMWF-Oslo_gunnar_myhre/']\n",
    "models = ['CanESM2', 'GISS-E2-R', 'HadGEM2', 'HadGEM3', 'IPSL-CM5A', 'MIROC-SPRINTARS', 'MPI-ESM', 'NCAR-CESM1-CAM4', 'NCAR-CESM1-CAM5', 'NorESM1']\n",
    "kernels = ['HadGEM2', 'GFDL', 'BMRC', 'CCSM4', 'CESM', 'Oslo']\n",
    "vars = ['ERF_SW','IRF_SW','tas_SW','ta_trop_SW','ta_strat_SW','hus_SW','alb_SW','cloud_SW','ERF_LW','IRF_LW','tas_LW','ta_trop_LW','ta_strat_LW','hus_LW','alb_LW','cloud_LW']\n",
    "\n",
    "for var in vars:\n",
    "    flux[var] = np.ones((n_mod, n_ker, n_exp)) * np.nan\n",
    "    flux_u90[var] = np.ones((n_mod, n_ker, n_exp)) * np.nan\n",
    "    for i_mod,model in enumerate(models):\n",
    "        for i_ker,kernel in enumerate(kernels):\n",
    "            nc = Dataset(indirs[i_ker]+'%s_K%s_LWSW_TOA.nc' % (model, kernel))\n",
    "            flux[var][i_mod,i_ker,:]    = nc.variables[var][:]\n",
    "            nc.close()\n",
    "            \n",
    "# replace MPI 10xBC with ECHAM.\n",
    "for var in vars:\n",
    "    for i_ker,kernel in enumerate(kernels[:]):\n",
    "        nc = Dataset(indirs[i_ker]+'ECHAM-HAM_K%s_LWSW_TOA.nc' % kernel)\n",
    "        flux[var][6,i_ker,3]    = nc.variables[var][3]\n",
    "        nc.close()\n",
    "\n",
    "# Remove SO4 clouds and IRF from Ryan for all except CAM4 as they are not correct (in GISS) or contain some component of IRF (in SPRINTARS or HadGEM2)\n",
    "flux['cloud_SW'][0:7,:5,4] = np.nan\n",
    "flux['cloud_LW'][0:7,:5,4] = np.nan\n",
    "flux['cloud_SW'][8:10,:5,4] = np.nan\n",
    "flux['cloud_LW'][8:10,:5,4] = np.nan\n",
    "\n",
    "flux['IRF_SW'][0:7,:5,4] = np.nan\n",
    "flux['IRF_LW'][0:7,:5,4] = np.nan\n",
    "flux['IRF_SW'][8:10,:5,4] = np.nan\n",
    "flux['IRF_LW'][8:10,:5,4] = np.nan\n",
    "\n",
    "# Remove MPI SO4 and BC from Gunnar\n",
    "for var in vars:\n",
    "    flux[var][6,5,4] = np.nan\n",
    "    flux[var][6,5,4] = np.nan\n",
    "    valid_count[var] = np.count_nonzero(~np.isnan(flux[var][:]), axis=(0,1))\n",
    "\n",
    "# Remove CAM5 clouds from Gunnar\n",
    "flux['cloud_SW'][8,5,:] = np.nan\n",
    "flux['cloud_LW'][8,5,:] = np.nan"
   ]
  },
  {
   "cell_type": "markdown",
   "metadata": {},
   "source": [
    "## Hodnebrog et al 2020"
   ]
  },
  {
   "cell_type": "code",
   "execution_count": 13,
   "metadata": {},
   "outputs": [
    {
     "data": {
      "text/html": [
       "<div>\n",
       "<style scoped>\n",
       "    .dataframe tbody tr th:only-of-type {\n",
       "        vertical-align: middle;\n",
       "    }\n",
       "\n",
       "    .dataframe tbody tr th {\n",
       "        vertical-align: top;\n",
       "    }\n",
       "\n",
       "    .dataframe thead th {\n",
       "        text-align: right;\n",
       "    }\n",
       "</style>\n",
       "<table border=\"1\" class=\"dataframe\">\n",
       "  <thead>\n",
       "    <tr style=\"text-align: right;\">\n",
       "      <th></th>\n",
       "      <th>Experiment</th>\n",
       "      <th>Model</th>\n",
       "      <th>IRF</th>\n",
       "      <th>Ts</th>\n",
       "      <th>Ttrop</th>\n",
       "      <th>Tstrat</th>\n",
       "      <th>WV</th>\n",
       "      <th>alpha</th>\n",
       "      <th>Clouds</th>\n",
       "      <th>RA</th>\n",
       "      <th>ERF</th>\n",
       "    </tr>\n",
       "  </thead>\n",
       "  <tbody>\n",
       "    <tr>\n",
       "      <th>0</th>\n",
       "      <td>CFC11x8</td>\n",
       "      <td>ECHAM-HAM</td>\n",
       "      <td>1.13</td>\n",
       "      <td>-0.0771</td>\n",
       "      <td>-0.1090</td>\n",
       "      <td>-0.0537</td>\n",
       "      <td>0.1380</td>\n",
       "      <td>0.016000</td>\n",
       "      <td>0.2540</td>\n",
       "      <td>0.16800</td>\n",
       "      <td>1.29</td>\n",
       "    </tr>\n",
       "    <tr>\n",
       "      <th>1</th>\n",
       "      <td>CFC11x8</td>\n",
       "      <td>HadGEM2</td>\n",
       "      <td>1.23</td>\n",
       "      <td>-0.0656</td>\n",
       "      <td>-0.2740</td>\n",
       "      <td>-0.0342</td>\n",
       "      <td>0.2590</td>\n",
       "      <td>0.000187</td>\n",
       "      <td>0.0807</td>\n",
       "      <td>-0.03400</td>\n",
       "      <td>1.20</td>\n",
       "    </tr>\n",
       "    <tr>\n",
       "      <th>2</th>\n",
       "      <td>CFC11x8</td>\n",
       "      <td>MIROC-SPRINTARS</td>\n",
       "      <td>1.15</td>\n",
       "      <td>-0.0410</td>\n",
       "      <td>-0.1220</td>\n",
       "      <td>-0.0774</td>\n",
       "      <td>0.1070</td>\n",
       "      <td>0.008430</td>\n",
       "      <td>0.1260</td>\n",
       "      <td>0.00101</td>\n",
       "      <td>1.15</td>\n",
       "    </tr>\n",
       "    <tr>\n",
       "      <th>3</th>\n",
       "      <td>CFC11x8</td>\n",
       "      <td>NCAR-CESM1-CAM4</td>\n",
       "      <td>1.17</td>\n",
       "      <td>-0.0362</td>\n",
       "      <td>-0.0374</td>\n",
       "      <td>-0.0345</td>\n",
       "      <td>0.0927</td>\n",
       "      <td>0.003190</td>\n",
       "      <td>0.1290</td>\n",
       "      <td>0.11700</td>\n",
       "      <td>1.29</td>\n",
       "    </tr>\n",
       "  </tbody>\n",
       "</table>\n",
       "</div>"
      ],
      "text/plain": [
       "  Experiment            Model   IRF      Ts   Ttrop  Tstrat      WV     alpha  \\\n",
       "0    CFC11x8        ECHAM-HAM  1.13 -0.0771 -0.1090 -0.0537  0.1380  0.016000   \n",
       "1    CFC11x8          HadGEM2  1.23 -0.0656 -0.2740 -0.0342  0.2590  0.000187   \n",
       "2    CFC11x8  MIROC-SPRINTARS  1.15 -0.0410 -0.1220 -0.0774  0.1070  0.008430   \n",
       "3    CFC11x8  NCAR-CESM1-CAM4  1.17 -0.0362 -0.0374 -0.0345  0.0927  0.003190   \n",
       "\n",
       "   Clouds       RA   ERF  \n",
       "0  0.2540  0.16800  1.29  \n",
       "1  0.0807 -0.03400  1.20  \n",
       "2  0.1260  0.00101  1.15  \n",
       "3  0.1290  0.11700  1.29  "
      ]
     },
     "execution_count": 13,
     "metadata": {},
     "output_type": "execute_result"
    }
   ],
   "source": [
    "df_hod = pd.read_csv('../data_input/Hodnebrog_et_al_2020_adjustments.csv')\n",
    "\n",
    "df_hod[df_hod['Experiment']=='CFC11x8']['Ttrop']\n",
    "df_hod[df_hod['Experiment']=='CFC11x8']['Tstrat']\n",
    "df_hod[df_hod['Experiment']=='CFC11x8']['WV']\n",
    "df_hod[df_hod['Experiment']=='CFC11x8']['alpha']\n",
    "df_hod[df_hod['Experiment']=='CFC11x8']['Coulds']"
   ]
  },
  {
   "cell_type": "code",
   "execution_count": 4,
   "metadata": {},
   "outputs": [],
   "source": [
    "warnings.simplefilter('ignore')\n",
    "flux_avK = {}\n",
    "flux_avMK = {}\n",
    "\n",
    "for var in vars:\n",
    "    flux_avK[var] = np.nanmean(flux[var][:], axis=1)\n",
    "    flux_avMK[var] = np.nanmean(flux_avK[var][:], axis=0)\n",
    "    valid_count[var] = np.count_nonzero(~np.isnan(flux[var][:]), axis=(0,1))\n",
    "\n",
    "tas = flux_avMK['tas_SW'] + flux_avMK['tas_LW']\n",
    "ta_trop = flux_avMK['ta_trop_SW'] + flux_avMK['ta_trop_LW']\n",
    "ta_strat = flux_avMK['ta_strat_SW'] + flux_avMK['ta_strat_LW']\n",
    "hus = flux_avMK['hus_SW'] + flux_avMK['hus_LW']\n",
    "alb = flux_avMK['alb_SW'] + flux_avMK['alb_LW']\n",
    "cloud = flux_avMK['cloud_SW'] + flux_avMK['cloud_LW']\n",
    "ERF = flux_avMK['ERF_SW'] + flux_avMK['ERF_LW'] - tas\n",
    "RA = ta_trop+ta_strat+hus+alb+cloud\n",
    "IRF = ERF-RA\n",
    "\n",
    "u90_ERF = np.nanstd(flux_avK['ERF_LW']+flux_avK['ERF_SW']-flux_avK['tas_LW']-flux_avK['tas_SW'], ddof=0, axis=0) * 1.645 #st.t.ppf(0.95, valid_count['ERF_LW']-1)\n",
    "u90_tas = np.nanstd(flux_avK['tas_LW']+flux_avK['tas_SW'], ddof=0, axis=0) * 1.645 #* st.t.ppf(0.95, valid_count['tas_LW']-1)\n",
    "u90_ta_trop = np.nanstd(flux_avK['ta_trop_LW']+flux_avK['ta_trop_SW'], ddof=0, axis=0) * 1.645 #* st.t.ppf(0.95, valid_count['ta_trop_LW']-1)\n",
    "u90_ta_strat = np.nanstd(flux_avK['ta_strat_LW']+flux_avK['ta_strat_SW'], ddof=0, axis=0) * 1.645 #* st.t.ppf(0.95, valid_count['ta_strat_LW']-1)\n",
    "u90_hus = np.nanstd(flux_avK['hus_LW']+flux_avK['hus_SW'], ddof=0, axis=0) * 1.645 #* st.t.ppf(0.95, valid_count['hus_LW']-1)\n",
    "u90_alb = np.nanstd(flux_avK['alb_LW']+flux_avK['alb_SW'], ddof=0, axis=0) * 1.645 #* st.t.ppf(0.95, valid_count['alb_SW']-1)\n",
    "u90_cloud = np.nanstd(flux_avK['cloud_LW']+flux_avK['cloud_SW'], ddof=0, axis=0) * 1.645 #* st.t.ppf(0.95, valid_count['cloud_LW']-1)\n",
    "u90_RA = np.nanstd(flux_avK['tas_LW']+flux_avK['tas_SW']+flux_avK['ta_trop_LW']+flux_avK['ta_trop_SW']+\n",
    "               flux_avK['ta_strat_LW']+flux_avK['ta_strat_SW']+flux_avK['hus_LW']+flux_avK['hus_SW']+\n",
    "               flux_avK['alb_LW']+flux_avK['alb_SW']+flux_avK['cloud_LW']+flux_avK['cloud_SW'], ddof=0, axis=0) * 1.645 #* st.t.ppf(0.95, valid_count['cloud_LW']-1)\n",
    "u90_IRF = np.nanstd(flux_avK['ERF_LW']+flux_avK['ERF_SW']-flux_avK['tas_LW']-flux_avK['tas_SW']-\n",
    "                (flux_avK['tas_LW']+flux_avK['tas_SW']+flux_avK['ta_trop_LW']+flux_avK['ta_trop_SW']+\n",
    "               flux_avK['ta_strat_LW']+flux_avK['ta_strat_SW']+flux_avK['hus_LW']+flux_avK['hus_SW']+\n",
    "               flux_avK['alb_LW']+flux_avK['alb_SW']+flux_avK['cloud_LW']+flux_avK['cloud_SW']), ddof=0, axis=0) * 1.645 #* st.t.ppf(0.95, valid_count['cloud_LW']-1)"
   ]
  },
  {
   "cell_type": "code",
   "execution_count": 5,
   "metadata": {},
   "outputs": [
    {
     "data": {
      "image/png": "[encoded data removed]",
      "text/plain": [
       "<Figure size 531.496x531.496 with 1 Axes>"
      ]
     },
     "metadata": {
      "needs_background": "light"
     },
     "output_type": "display_data"
    }
   ],
   "source": [
    "pl.rcParams['figure.figsize'] = (9/2.54, 9/2.54)\n",
    "gs = gridspec.GridSpec(1,1)\n",
    "ax1 = pl.subplot(gs[0,0])\n",
    "\n",
    "colors = ['slateblue', 'indigo', 'black', 'dimgray']\n",
    "labels = ['Instantaneous radiative forcing',\n",
    "          'Effective radiative forcing',\n",
    "          'Adjustment',\n",
    "          'Residual']\n",
    "\n",
    "\n",
    "colors = ['#a03800','#d08000','#e0c000','#0090ff','#40ff20','#d0d0d0','black']\n",
    "labels = ['Surface temperature','Tropospheric temperature','Stratospheric temperature','Water vapour','Surface albedo','Clouds','Total']\n",
    "for a in range(1,5):\n",
    "    ax1.bar(0.15+a, ta_trop[a], 0.14, color=colors[1], yerr=u90_ta_trop[a], capsize=2, zorder=3)\n",
    "    ax1.bar(0.29+a, ta_strat[a], 0.14, color=colors[2], yerr=u90_ta_strat[a], capsize=2, zorder=3)\n",
    "    ax1.bar(0.43+a, hus[a], 0.14, color=colors[3], yerr=u90_hus[a], capsize=2, zorder=3)\n",
    "    ax1.bar(0.57+a, alb[a], 0.14, color=colors[4], yerr=u90_alb[a], capsize=2, zorder=3)\n",
    "    ax1.bar(0.71+a, cloud[a], 0.14, color=colors[5], yerr=u90_cloud[a], capsize=2, zorder=3)\n",
    "    ax1.bar(0.85+a, RA[a], 0.14, color=colors[6], yerr=u90_RA[a], ecolor='gray', capsize=2, zorder=3)\n",
    "    ax1.text(0.5+a,1.8,expts[a], ha='center' , fontsize=8)\n",
    "a=0\n",
    "ax1.bar(0.15+a, ta_trop[a], 0.14, color=colors[1], label=labels[1], yerr=u90_ta_trop[a], capsize=2, zorder=3)\n",
    "ax1.bar(0.29+a, ta_strat[a], 0.14, color=colors[2], label=labels[2], yerr=u90_ta_strat[a], capsize=2, zorder=3)\n",
    "ax1.bar(0.43+a, hus[a], 0.14, color=colors[3], label=labels[3], yerr=u90_hus[a], capsize=2, zorder=3)\n",
    "ax1.bar(0.57+a, alb[a], 0.14, color=colors[4], label=labels[4], yerr=u90_alb[a], capsize=2, zorder=3)\n",
    "ax1.bar(0.71+a, cloud[a], 0.14, color=colors[5], label=labels[5], yerr=u90_cloud[a], capsize=2, zorder=3)\n",
    "ax1.bar(0.85+a, RA[a], 0.14, color=colors[6], label=labels[6], yerr=u90_RA[a], ecolor='gray', capsize=2, zorder=3)\n",
    "\n",
    "ax1.text(0.5+a,1.8,expts[a], ha='center', fontsize=8)\n",
    "\n",
    "ax1.set_ylabel('Adjustment, W m$^{-2}$')\n",
    "\n",
    "ax1.axhline(0, color='k', lw=1, zorder=4)\n",
    "\n",
    "ax1.spines['right'].set_visible(False)\n",
    "ax1.spines['left'].set_visible(True)\n",
    "ax1.spines['top'].set_visible(False)\n",
    "ax1.spines['bottom'].set_visible(False)\n",
    "ax1.xaxis.set_visible(False)\n",
    "\n",
    "mn,mx = ax1.get_ylim()\n",
    "backfill = [0,1,1,2,2,3,3,4,4,5]\n",
    "fillind  = [1,1,0,0,1,1,0,0,1,1]\n",
    "ax1.fill_between(backfill, -4, 5.6, where=fillind, color='moccasin', zorder=0.6)\n",
    "ax1.legend(loc='lower left', framealpha=1, fontsize=7, ncol=1)#, bbox_to_anchor=[0.46,1])\n",
    "ax1.set_ylim(-2.7,2)\n",
    "ax1.set_xlim(0,5)\n",
    "ax1.grid(axis='y', zorder=-11, lw=0.5)\n",
    "\n",
    "ax1.set_title('Adjustments by component', fontsize=11)\n",
    "\n",
    "pl.tight_layout()\n",
    "\n",
    "pl.savefig('../figures/fig7.6.png')\n",
    "pl.savefig('../figures/fig7.6.pdf')"
   ]
  },
  {
   "cell_type": "code",
   "execution_count": 6,
   "metadata": {},
   "outputs": [
    {
     "data": {
      "text/plain": [
       "array([0.47295976, 0.13653773, 0.152923  , 0.56374997, 0.49332245])"
      ]
     },
     "execution_count": 6,
     "metadata": {},
     "output_type": "execute_result"
    }
   ],
   "source": [
    "np.nanstd(flux_avK['ERF_LW'],axis=0)"
   ]
  },
  {
   "cell_type": "code",
   "execution_count": null,
   "metadata": {},
   "outputs": [],
   "source": []
  }
 ],
 "metadata": {
  "kernelspec": {
   "display_name": "Python 3",
   "language": "python",
   "name": "python3"
  },
  "language_info": {
   "codemirror_mode": {
    "name": "ipython",
    "version": 3
   },
   "file_extension": ".py",
   "mimetype": "text/x-python",
   "name": "python",
   "nbconvert_exporter": "python",
   "pygments_lexer": "ipython3",
   "version": "3.7.9"
  }
 },
 "nbformat": 4,
 "nbformat_minor": 2
}
