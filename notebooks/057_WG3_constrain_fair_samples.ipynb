{
 "cells": [
  {
   "cell_type": "markdown",
   "metadata": {},
   "source": [
    "# Constraining the \"large\" ensemble\n",
    "\n",
    "After parameter sets are drawn from draw-fair-samples, this notebook applies constraints.\n",
    "\n",
    "This notebook generates the parameter sets to run FaIR with for AR6 setups. This will be used in chapter 7 WG1 and passed on also to WG3 through `openscm-runner`"
   ]
  },
  {
   "cell_type": "code",
   "execution_count": 1,
   "metadata": {},
   "outputs": [
    {
     "data": {
      "application/javascript": [
       "IPython.OutputArea.prototype._should_scroll = function(lines) { return false; }"
      ],
      "text/plain": [
       "<IPython.core.display.Javascript object>"
      ]
     },
     "metadata": {},
     "output_type": "display_data"
    },
    {
     "name": "stderr",
     "output_type": "stream",
     "text": [
      "/nfs/b0110/Users/mencsm/miniconda3/envs/ar6/lib/python3.7/site-packages/openscm_runner/run.py:7: TqdmExperimentalWarning: Using `tqdm.autonotebook.tqdm` in notebook mode. Use `tqdm.tqdm` instead to force console mode (e.g. in jupyter console)\n",
      "  from tqdm.autonotebook import tqdm\n"
     ]
    }
   ],
   "source": [
    "import errno\n",
    "import fair\n",
    "import json\n",
    "import sys\n",
    "import os\n",
    "import random\n",
    "import numpy as np\n",
    "import scipy.stats as st       # v1.4+ needed\n",
    "import matplotlib.pyplot as pl\n",
    "import pandas as pd\n",
    "import pickle\n",
    "import warnings\n",
    "from multiprocessing import Pool\n",
    "\n",
    "from netCDF4 import Dataset\n",
    "from tqdm.notebook import tqdm\n",
    "from scipy.interpolate import interp1d\n",
    "from scipy.optimize import root\n",
    "from fair.constants import molwt\n",
    "from fair.ancil import natural, cmip6_volcanic, cmip6_solar\n",
    "from fair.forward import fair_scm\n",
    "from fair.inverse import inverse_fair_scm\n",
    "from fair.constants.general import ppm_gtc, EARTH_RADIUS, SECONDS_PER_YEAR\n",
    "NTOA_ZJ = 4 * np.pi * EARTH_RADIUS**2 * SECONDS_PER_YEAR * 1e-21\n",
    "\n",
    "from openscm_units import unit_registry as ur\n",
    "\n",
    "import openscm_runner\n",
    "from openscm_twolayermodel import TwoLayerModel"
   ]
  },
  {
   "cell_type": "code",
   "execution_count": 2,
   "metadata": {},
   "outputs": [],
   "source": [
    "pl.rcParams['figure.figsize'] = (12/2.54, 9/2.54)\n",
    "pl.rcParams['font.size'] = 14\n",
    "pl.rcParams['font.family'] = 'Arial'\n",
    "pl.rcParams['xtick.direction'] = 'out'\n",
    "pl.rcParams['xtick.minor.visible'] = True\n",
    "pl.rcParams['ytick.minor.visible'] = True\n",
    "pl.rcParams['ytick.right'] = True\n",
    "pl.rcParams['xtick.top'] = True\n",
    "pl.rcParams['figure.dpi'] = 96"
   ]
  },
  {
   "cell_type": "code",
   "execution_count": 3,
   "metadata": {},
   "outputs": [
    {
     "data": {
      "text/plain": [
       "'1.6.2'"
      ]
     },
     "execution_count": 3,
     "metadata": {},
     "output_type": "execute_result"
    }
   ],
   "source": [
    "fair.__version__"
   ]
  },
  {
   "cell_type": "code",
   "execution_count": 4,
   "metadata": {},
   "outputs": [
    {
     "data": {
      "text/plain": [
       "'0.4.4'"
      ]
     },
     "execution_count": 4,
     "metadata": {},
     "output_type": "execute_result"
    }
   ],
   "source": [
    "openscm_runner.__version__"
   ]
  },
  {
   "cell_type": "markdown",
   "metadata": {},
   "source": [
    "## Observational data"
   ]
  },
  {
   "cell_type": "code",
   "execution_count": 63,
   "metadata": {},
   "outputs": [
    {
     "data": {
      "text/plain": [
       "1.064936137254902"
      ]
     },
     "execution_count": 63,
     "metadata": {},
     "output_type": "execute_result"
    },
    {
     "data": {
      "image/png": "[encoded data removed]",
      "text/plain": [
       "<Figure size 453.543x340.157 with 1 Axes>"
      ]
     },
     "metadata": {
      "needs_background": "light"
     },
     "output_type": "display_data"
    }
   ],
   "source": [
    "xl = pd.read_excel('../data_input/observations/Consolidated GMST time series.xlsx', skiprows=8, skipfooter=9)\n",
    "temp_gmst=xl['5-set mean'][:-1].values\n",
    "temp_year=xl['Unnamed: 0'][:-1].values\n",
    "pl.plot(temp_year, temp_gmst)\n",
    "\n",
    "temp_gmst[-1]"
   ]
  },
  {
   "cell_type": "code",
   "execution_count": 6,
   "metadata": {},
   "outputs": [
    {
     "data": {
      "text/html": [
       "<div>\n",
       "<style scoped>\n",
       "    .dataframe tbody tr th:only-of-type {\n",
       "        vertical-align: middle;\n",
       "    }\n",
       "\n",
       "    .dataframe tbody tr th {\n",
       "        vertical-align: top;\n",
       "    }\n",
       "\n",
       "    .dataframe thead th {\n",
       "        text-align: right;\n",
       "    }\n",
       "</style>\n",
       "<table border=\"1\" class=\"dataframe\">\n",
       "  <thead>\n",
       "    <tr style=\"text-align: right;\">\n",
       "      <th></th>\n",
       "      <th>Year</th>\n",
       "      <th>Central Estimate 0-700m</th>\n",
       "      <th>0-700m Uncertainty (1-sigma)</th>\n",
       "      <th>Central Estimate 700-2000m</th>\n",
       "      <th>700-2000m Uncertainty (1-sigma</th>\n",
       "      <th>Central Estimate &gt;2000m</th>\n",
       "      <th>&gt;2000m Uncertainty (1-sigma)</th>\n",
       "      <th>Central Estimate Full-depth</th>\n",
       "      <th>Full-depth Uncertainty (1-sigma)</th>\n",
       "    </tr>\n",
       "  </thead>\n",
       "  <tbody>\n",
       "    <tr>\n",
       "      <th>0</th>\n",
       "      <td>1971.5</td>\n",
       "      <td>0.000000</td>\n",
       "      <td>46.719967</td>\n",
       "      <td>0.000000</td>\n",
       "      <td>12.660520</td>\n",
       "      <td>0.00</td>\n",
       "      <td>0.000000</td>\n",
       "      <td>0.000000</td>\n",
       "      <td>59.380488</td>\n",
       "    </tr>\n",
       "    <tr>\n",
       "      <th>1</th>\n",
       "      <td>1972.5</td>\n",
       "      <td>9.791417</td>\n",
       "      <td>46.491790</td>\n",
       "      <td>-0.277343</td>\n",
       "      <td>13.196417</td>\n",
       "      <td>0.00</td>\n",
       "      <td>0.000000</td>\n",
       "      <td>9.514074</td>\n",
       "      <td>59.688206</td>\n",
       "    </tr>\n",
       "    <tr>\n",
       "      <th>2</th>\n",
       "      <td>1973.5</td>\n",
       "      <td>4.528171</td>\n",
       "      <td>50.269297</td>\n",
       "      <td>-3.910480</td>\n",
       "      <td>14.898312</td>\n",
       "      <td>0.00</td>\n",
       "      <td>0.000000</td>\n",
       "      <td>0.617691</td>\n",
       "      <td>65.167609</td>\n",
       "    </tr>\n",
       "    <tr>\n",
       "      <th>3</th>\n",
       "      <td>1974.5</td>\n",
       "      <td>11.580189</td>\n",
       "      <td>52.396967</td>\n",
       "      <td>1.635750</td>\n",
       "      <td>15.118808</td>\n",
       "      <td>0.00</td>\n",
       "      <td>0.000000</td>\n",
       "      <td>13.215939</td>\n",
       "      <td>67.515775</td>\n",
       "    </tr>\n",
       "    <tr>\n",
       "      <th>4</th>\n",
       "      <td>1975.5</td>\n",
       "      <td>4.454305</td>\n",
       "      <td>53.868706</td>\n",
       "      <td>4.517913</td>\n",
       "      <td>15.285554</td>\n",
       "      <td>0.00</td>\n",
       "      <td>0.000000</td>\n",
       "      <td>8.972219</td>\n",
       "      <td>69.154259</td>\n",
       "    </tr>\n",
       "    <tr>\n",
       "      <th>5</th>\n",
       "      <td>1976.5</td>\n",
       "      <td>18.985673</td>\n",
       "      <td>54.101031</td>\n",
       "      <td>7.868500</td>\n",
       "      <td>15.087668</td>\n",
       "      <td>0.00</td>\n",
       "      <td>0.000000</td>\n",
       "      <td>26.854173</td>\n",
       "      <td>69.188699</td>\n",
       "    </tr>\n",
       "    <tr>\n",
       "      <th>6</th>\n",
       "      <td>1977.5</td>\n",
       "      <td>18.069725</td>\n",
       "      <td>53.131147</td>\n",
       "      <td>6.285167</td>\n",
       "      <td>14.375839</td>\n",
       "      <td>0.00</td>\n",
       "      <td>0.000000</td>\n",
       "      <td>24.354892</td>\n",
       "      <td>67.506986</td>\n",
       "    </tr>\n",
       "    <tr>\n",
       "      <th>7</th>\n",
       "      <td>1978.5</td>\n",
       "      <td>34.943991</td>\n",
       "      <td>49.275054</td>\n",
       "      <td>4.770844</td>\n",
       "      <td>12.514669</td>\n",
       "      <td>0.00</td>\n",
       "      <td>0.000000</td>\n",
       "      <td>39.714835</td>\n",
       "      <td>61.789724</td>\n",
       "    </tr>\n",
       "    <tr>\n",
       "      <th>8</th>\n",
       "      <td>1979.5</td>\n",
       "      <td>46.680326</td>\n",
       "      <td>48.300047</td>\n",
       "      <td>7.726577</td>\n",
       "      <td>10.164641</td>\n",
       "      <td>0.00</td>\n",
       "      <td>0.000000</td>\n",
       "      <td>54.406903</td>\n",
       "      <td>58.464688</td>\n",
       "    </tr>\n",
       "    <tr>\n",
       "      <th>9</th>\n",
       "      <td>1980.5</td>\n",
       "      <td>65.130278</td>\n",
       "      <td>47.629291</td>\n",
       "      <td>9.711603</td>\n",
       "      <td>9.248468</td>\n",
       "      <td>0.00</td>\n",
       "      <td>0.000000</td>\n",
       "      <td>74.841882</td>\n",
       "      <td>56.877759</td>\n",
       "    </tr>\n",
       "    <tr>\n",
       "      <th>10</th>\n",
       "      <td>1981.5</td>\n",
       "      <td>74.444686</td>\n",
       "      <td>50.880996</td>\n",
       "      <td>8.938817</td>\n",
       "      <td>9.139187</td>\n",
       "      <td>0.00</td>\n",
       "      <td>0.000000</td>\n",
       "      <td>83.383503</td>\n",
       "      <td>60.020184</td>\n",
       "    </tr>\n",
       "    <tr>\n",
       "      <th>11</th>\n",
       "      <td>1982.5</td>\n",
       "      <td>63.890679</td>\n",
       "      <td>49.131652</td>\n",
       "      <td>6.204110</td>\n",
       "      <td>10.132766</td>\n",
       "      <td>0.00</td>\n",
       "      <td>0.000000</td>\n",
       "      <td>70.094789</td>\n",
       "      <td>59.264417</td>\n",
       "    </tr>\n",
       "    <tr>\n",
       "      <th>12</th>\n",
       "      <td>1983.5</td>\n",
       "      <td>50.853105</td>\n",
       "      <td>46.650860</td>\n",
       "      <td>6.135427</td>\n",
       "      <td>11.772956</td>\n",
       "      <td>0.00</td>\n",
       "      <td>0.000000</td>\n",
       "      <td>56.988531</td>\n",
       "      <td>58.423816</td>\n",
       "    </tr>\n",
       "    <tr>\n",
       "      <th>13</th>\n",
       "      <td>1984.5</td>\n",
       "      <td>40.941342</td>\n",
       "      <td>44.148810</td>\n",
       "      <td>11.225933</td>\n",
       "      <td>13.679322</td>\n",
       "      <td>0.00</td>\n",
       "      <td>0.000000</td>\n",
       "      <td>52.167276</td>\n",
       "      <td>57.828132</td>\n",
       "    </tr>\n",
       "    <tr>\n",
       "      <th>14</th>\n",
       "      <td>1985.5</td>\n",
       "      <td>48.022326</td>\n",
       "      <td>42.858003</td>\n",
       "      <td>16.178740</td>\n",
       "      <td>13.463453</td>\n",
       "      <td>0.00</td>\n",
       "      <td>0.000000</td>\n",
       "      <td>64.201066</td>\n",
       "      <td>56.321456</td>\n",
       "    </tr>\n",
       "    <tr>\n",
       "      <th>15</th>\n",
       "      <td>1986.5</td>\n",
       "      <td>57.498624</td>\n",
       "      <td>40.556128</td>\n",
       "      <td>16.684597</td>\n",
       "      <td>12.298992</td>\n",
       "      <td>0.00</td>\n",
       "      <td>0.000000</td>\n",
       "      <td>74.183221</td>\n",
       "      <td>52.855120</td>\n",
       "    </tr>\n",
       "    <tr>\n",
       "      <th>16</th>\n",
       "      <td>1987.5</td>\n",
       "      <td>76.739480</td>\n",
       "      <td>39.400837</td>\n",
       "      <td>17.842797</td>\n",
       "      <td>11.369342</td>\n",
       "      <td>0.00</td>\n",
       "      <td>0.000000</td>\n",
       "      <td>94.582277</td>\n",
       "      <td>50.770179</td>\n",
       "    </tr>\n",
       "    <tr>\n",
       "      <th>17</th>\n",
       "      <td>1988.5</td>\n",
       "      <td>88.240990</td>\n",
       "      <td>38.917577</td>\n",
       "      <td>17.874030</td>\n",
       "      <td>11.309743</td>\n",
       "      <td>0.00</td>\n",
       "      <td>0.000000</td>\n",
       "      <td>106.115020</td>\n",
       "      <td>50.227321</td>\n",
       "    </tr>\n",
       "    <tr>\n",
       "      <th>18</th>\n",
       "      <td>1989.5</td>\n",
       "      <td>97.454418</td>\n",
       "      <td>36.275948</td>\n",
       "      <td>20.063167</td>\n",
       "      <td>10.386580</td>\n",
       "      <td>0.00</td>\n",
       "      <td>0.000000</td>\n",
       "      <td>117.517585</td>\n",
       "      <td>46.662529</td>\n",
       "    </tr>\n",
       "    <tr>\n",
       "      <th>19</th>\n",
       "      <td>1990.5</td>\n",
       "      <td>100.209832</td>\n",
       "      <td>31.934146</td>\n",
       "      <td>21.107100</td>\n",
       "      <td>10.892946</td>\n",
       "      <td>0.00</td>\n",
       "      <td>0.000000</td>\n",
       "      <td>121.316932</td>\n",
       "      <td>42.827092</td>\n",
       "    </tr>\n",
       "    <tr>\n",
       "      <th>20</th>\n",
       "      <td>1991.5</td>\n",
       "      <td>92.680992</td>\n",
       "      <td>26.470313</td>\n",
       "      <td>26.343100</td>\n",
       "      <td>10.191762</td>\n",
       "      <td>0.00</td>\n",
       "      <td>0.000000</td>\n",
       "      <td>119.024092</td>\n",
       "      <td>36.662075</td>\n",
       "    </tr>\n",
       "    <tr>\n",
       "      <th>21</th>\n",
       "      <td>1992.5</td>\n",
       "      <td>93.194830</td>\n",
       "      <td>21.456372</td>\n",
       "      <td>33.907533</td>\n",
       "      <td>9.723407</td>\n",
       "      <td>1.15</td>\n",
       "      <td>0.346505</td>\n",
       "      <td>128.252363</td>\n",
       "      <td>31.526283</td>\n",
       "    </tr>\n",
       "    <tr>\n",
       "      <th>22</th>\n",
       "      <td>1993.5</td>\n",
       "      <td>89.969075</td>\n",
       "      <td>19.711231</td>\n",
       "      <td>40.514633</td>\n",
       "      <td>8.864878</td>\n",
       "      <td>2.30</td>\n",
       "      <td>0.693009</td>\n",
       "      <td>132.783708</td>\n",
       "      <td>29.269118</td>\n",
       "    </tr>\n",
       "    <tr>\n",
       "      <th>23</th>\n",
       "      <td>1994.5</td>\n",
       "      <td>90.352084</td>\n",
       "      <td>18.078945</td>\n",
       "      <td>37.586600</td>\n",
       "      <td>8.280751</td>\n",
       "      <td>3.45</td>\n",
       "      <td>1.039514</td>\n",
       "      <td>131.388684</td>\n",
       "      <td>27.399210</td>\n",
       "    </tr>\n",
       "    <tr>\n",
       "      <th>24</th>\n",
       "      <td>1995.5</td>\n",
       "      <td>97.530096</td>\n",
       "      <td>19.427508</td>\n",
       "      <td>36.571000</td>\n",
       "      <td>8.284898</td>\n",
       "      <td>4.60</td>\n",
       "      <td>1.386018</td>\n",
       "      <td>138.701096</td>\n",
       "      <td>29.098425</td>\n",
       "    </tr>\n",
       "    <tr>\n",
       "      <th>25</th>\n",
       "      <td>1996.5</td>\n",
       "      <td>107.177722</td>\n",
       "      <td>21.183719</td>\n",
       "      <td>37.940467</td>\n",
       "      <td>8.212588</td>\n",
       "      <td>5.75</td>\n",
       "      <td>1.732523</td>\n",
       "      <td>150.868189</td>\n",
       "      <td>31.128830</td>\n",
       "    </tr>\n",
       "    <tr>\n",
       "      <th>26</th>\n",
       "      <td>1997.5</td>\n",
       "      <td>107.200942</td>\n",
       "      <td>20.278074</td>\n",
       "      <td>37.866233</td>\n",
       "      <td>8.713079</td>\n",
       "      <td>6.90</td>\n",
       "      <td>2.079027</td>\n",
       "      <td>151.967175</td>\n",
       "      <td>31.070180</td>\n",
       "    </tr>\n",
       "    <tr>\n",
       "      <th>27</th>\n",
       "      <td>1998.5</td>\n",
       "      <td>97.594379</td>\n",
       "      <td>20.173582</td>\n",
       "      <td>38.771500</td>\n",
       "      <td>9.189032</td>\n",
       "      <td>8.05</td>\n",
       "      <td>2.425532</td>\n",
       "      <td>144.415879</td>\n",
       "      <td>31.788145</td>\n",
       "    </tr>\n",
       "    <tr>\n",
       "      <th>28</th>\n",
       "      <td>1999.5</td>\n",
       "      <td>96.826274</td>\n",
       "      <td>23.744672</td>\n",
       "      <td>36.407567</td>\n",
       "      <td>10.517380</td>\n",
       "      <td>9.20</td>\n",
       "      <td>2.772036</td>\n",
       "      <td>142.433840</td>\n",
       "      <td>37.034089</td>\n",
       "    </tr>\n",
       "    <tr>\n",
       "      <th>29</th>\n",
       "      <td>2000.5</td>\n",
       "      <td>105.303084</td>\n",
       "      <td>35.410020</td>\n",
       "      <td>42.591167</td>\n",
       "      <td>9.037015</td>\n",
       "      <td>10.35</td>\n",
       "      <td>3.118541</td>\n",
       "      <td>158.244251</td>\n",
       "      <td>47.565576</td>\n",
       "    </tr>\n",
       "    <tr>\n",
       "      <th>30</th>\n",
       "      <td>2001.5</td>\n",
       "      <td>128.697067</td>\n",
       "      <td>38.297779</td>\n",
       "      <td>46.420600</td>\n",
       "      <td>8.471369</td>\n",
       "      <td>11.50</td>\n",
       "      <td>3.465046</td>\n",
       "      <td>186.617667</td>\n",
       "      <td>50.234194</td>\n",
       "    </tr>\n",
       "    <tr>\n",
       "      <th>31</th>\n",
       "      <td>2002.5</td>\n",
       "      <td>138.694799</td>\n",
       "      <td>36.850010</td>\n",
       "      <td>54.671567</td>\n",
       "      <td>7.355833</td>\n",
       "      <td>12.65</td>\n",
       "      <td>3.811550</td>\n",
       "      <td>206.016366</td>\n",
       "      <td>48.017392</td>\n",
       "    </tr>\n",
       "    <tr>\n",
       "      <th>32</th>\n",
       "      <td>2003.5</td>\n",
       "      <td>155.773023</td>\n",
       "      <td>23.670684</td>\n",
       "      <td>60.313500</td>\n",
       "      <td>6.855993</td>\n",
       "      <td>13.80</td>\n",
       "      <td>4.158055</td>\n",
       "      <td>229.886523</td>\n",
       "      <td>34.684732</td>\n",
       "    </tr>\n",
       "    <tr>\n",
       "      <th>33</th>\n",
       "      <td>2004.5</td>\n",
       "      <td>157.414255</td>\n",
       "      <td>16.271595</td>\n",
       "      <td>66.273133</td>\n",
       "      <td>6.794860</td>\n",
       "      <td>14.95</td>\n",
       "      <td>4.504559</td>\n",
       "      <td>238.637388</td>\n",
       "      <td>27.571015</td>\n",
       "    </tr>\n",
       "    <tr>\n",
       "      <th>34</th>\n",
       "      <td>2005.5</td>\n",
       "      <td>164.187383</td>\n",
       "      <td>11.994656</td>\n",
       "      <td>70.849967</td>\n",
       "      <td>6.698437</td>\n",
       "      <td>16.10</td>\n",
       "      <td>4.851064</td>\n",
       "      <td>251.137350</td>\n",
       "      <td>23.544157</td>\n",
       "    </tr>\n",
       "    <tr>\n",
       "      <th>35</th>\n",
       "      <td>2006.5</td>\n",
       "      <td>167.026369</td>\n",
       "      <td>11.662652</td>\n",
       "      <td>73.630567</td>\n",
       "      <td>6.660339</td>\n",
       "      <td>17.25</td>\n",
       "      <td>5.197568</td>\n",
       "      <td>257.906936</td>\n",
       "      <td>23.520559</td>\n",
       "    </tr>\n",
       "    <tr>\n",
       "      <th>36</th>\n",
       "      <td>2007.5</td>\n",
       "      <td>174.606675</td>\n",
       "      <td>11.487502</td>\n",
       "      <td>75.646167</td>\n",
       "      <td>6.279004</td>\n",
       "      <td>18.40</td>\n",
       "      <td>5.544073</td>\n",
       "      <td>268.652842</td>\n",
       "      <td>23.310580</td>\n",
       "    </tr>\n",
       "    <tr>\n",
       "      <th>37</th>\n",
       "      <td>2008.5</td>\n",
       "      <td>183.954273</td>\n",
       "      <td>11.898162</td>\n",
       "      <td>76.938500</td>\n",
       "      <td>5.797262</td>\n",
       "      <td>19.55</td>\n",
       "      <td>5.890578</td>\n",
       "      <td>280.442773</td>\n",
       "      <td>23.586001</td>\n",
       "    </tr>\n",
       "    <tr>\n",
       "      <th>38</th>\n",
       "      <td>2009.5</td>\n",
       "      <td>190.196413</td>\n",
       "      <td>11.751941</td>\n",
       "      <td>80.375333</td>\n",
       "      <td>5.542864</td>\n",
       "      <td>20.70</td>\n",
       "      <td>6.237082</td>\n",
       "      <td>291.271746</td>\n",
       "      <td>23.531887</td>\n",
       "    </tr>\n",
       "    <tr>\n",
       "      <th>39</th>\n",
       "      <td>2010.5</td>\n",
       "      <td>194.772933</td>\n",
       "      <td>11.955753</td>\n",
       "      <td>84.947933</td>\n",
       "      <td>5.527127</td>\n",
       "      <td>21.85</td>\n",
       "      <td>6.583587</td>\n",
       "      <td>301.570866</td>\n",
       "      <td>24.066466</td>\n",
       "    </tr>\n",
       "    <tr>\n",
       "      <th>40</th>\n",
       "      <td>2011.5</td>\n",
       "      <td>198.628477</td>\n",
       "      <td>12.260241</td>\n",
       "      <td>89.720700</td>\n",
       "      <td>5.607494</td>\n",
       "      <td>23.00</td>\n",
       "      <td>6.930091</td>\n",
       "      <td>311.349177</td>\n",
       "      <td>24.797826</td>\n",
       "    </tr>\n",
       "    <tr>\n",
       "      <th>41</th>\n",
       "      <td>2012.5</td>\n",
       "      <td>206.673474</td>\n",
       "      <td>12.677361</td>\n",
       "      <td>97.048133</td>\n",
       "      <td>6.371082</td>\n",
       "      <td>24.15</td>\n",
       "      <td>7.276596</td>\n",
       "      <td>327.871607</td>\n",
       "      <td>26.325039</td>\n",
       "    </tr>\n",
       "    <tr>\n",
       "      <th>42</th>\n",
       "      <td>2013.5</td>\n",
       "      <td>211.895670</td>\n",
       "      <td>12.366883</td>\n",
       "      <td>103.526100</td>\n",
       "      <td>6.781820</td>\n",
       "      <td>25.30</td>\n",
       "      <td>7.623100</td>\n",
       "      <td>340.721770</td>\n",
       "      <td>26.771803</td>\n",
       "    </tr>\n",
       "    <tr>\n",
       "      <th>43</th>\n",
       "      <td>2014.5</td>\n",
       "      <td>219.729646</td>\n",
       "      <td>11.535804</td>\n",
       "      <td>110.093533</td>\n",
       "      <td>7.604826</td>\n",
       "      <td>26.45</td>\n",
       "      <td>7.969605</td>\n",
       "      <td>356.273179</td>\n",
       "      <td>27.110235</td>\n",
       "    </tr>\n",
       "    <tr>\n",
       "      <th>44</th>\n",
       "      <td>2015.5</td>\n",
       "      <td>227.141186</td>\n",
       "      <td>12.412655</td>\n",
       "      <td>113.028867</td>\n",
       "      <td>7.562032</td>\n",
       "      <td>27.60</td>\n",
       "      <td>8.316109</td>\n",
       "      <td>367.770053</td>\n",
       "      <td>28.290796</td>\n",
       "    </tr>\n",
       "    <tr>\n",
       "      <th>45</th>\n",
       "      <td>2016.5</td>\n",
       "      <td>237.538883</td>\n",
       "      <td>13.080182</td>\n",
       "      <td>117.127867</td>\n",
       "      <td>8.337115</td>\n",
       "      <td>28.75</td>\n",
       "      <td>8.662614</td>\n",
       "      <td>383.416750</td>\n",
       "      <td>30.079911</td>\n",
       "    </tr>\n",
       "    <tr>\n",
       "      <th>46</th>\n",
       "      <td>2017.5</td>\n",
       "      <td>240.849303</td>\n",
       "      <td>12.551590</td>\n",
       "      <td>118.894533</td>\n",
       "      <td>8.498655</td>\n",
       "      <td>29.90</td>\n",
       "      <td>9.009119</td>\n",
       "      <td>389.643837</td>\n",
       "      <td>30.059364</td>\n",
       "    </tr>\n",
       "    <tr>\n",
       "      <th>47</th>\n",
       "      <td>2018.5</td>\n",
       "      <td>240.944588</td>\n",
       "      <td>11.156313</td>\n",
       "      <td>123.284867</td>\n",
       "      <td>10.675039</td>\n",
       "      <td>31.05</td>\n",
       "      <td>9.355623</td>\n",
       "      <td>395.279454</td>\n",
       "      <td>31.186975</td>\n",
       "    </tr>\n",
       "  </tbody>\n",
       "</table>\n",
       "</div>"
      ],
      "text/plain": [
       "      Year  Central Estimate 0-700m  0-700m Uncertainty (1-sigma)  \\\n",
       "0   1971.5                 0.000000                     46.719967   \n",
       "1   1972.5                 9.791417                     46.491790   \n",
       "2   1973.5                 4.528171                     50.269297   \n",
       "3   1974.5                11.580189                     52.396967   \n",
       "4   1975.5                 4.454305                     53.868706   \n",
       "5   1976.5                18.985673                     54.101031   \n",
       "6   1977.5                18.069725                     53.131147   \n",
       "7   1978.5                34.943991                     49.275054   \n",
       "8   1979.5                46.680326                     48.300047   \n",
       "9   1980.5                65.130278                     47.629291   \n",
       "10  1981.5                74.444686                     50.880996   \n",
       "11  1982.5                63.890679                     49.131652   \n",
       "12  1983.5                50.853105                     46.650860   \n",
       "13  1984.5                40.941342                     44.148810   \n",
       "14  1985.5                48.022326                     42.858003   \n",
       "15  1986.5                57.498624                     40.556128   \n",
       "16  1987.5                76.739480                     39.400837   \n",
       "17  1988.5                88.240990                     38.917577   \n",
       "18  1989.5                97.454418                     36.275948   \n",
       "19  1990.5               100.209832                     31.934146   \n",
       "20  1991.5                92.680992                     26.470313   \n",
       "21  1992.5                93.194830                     21.456372   \n",
       "22  1993.5                89.969075                     19.711231   \n",
       "23  1994.5                90.352084                     18.078945   \n",
       "24  1995.5                97.530096                     19.427508   \n",
       "25  1996.5               107.177722                     21.183719   \n",
       "26  1997.5               107.200942                     20.278074   \n",
       "27  1998.5                97.594379                     20.173582   \n",
       "28  1999.5                96.826274                     23.744672   \n",
       "29  2000.5               105.303084                     35.410020   \n",
       "30  2001.5               128.697067                     38.297779   \n",
       "31  2002.5               138.694799                     36.850010   \n",
       "32  2003.5               155.773023                     23.670684   \n",
       "33  2004.5               157.414255                     16.271595   \n",
       "34  2005.5               164.187383                     11.994656   \n",
       "35  2006.5               167.026369                     11.662652   \n",
       "36  2007.5               174.606675                     11.487502   \n",
       "37  2008.5               183.954273                     11.898162   \n",
       "38  2009.5               190.196413                     11.751941   \n",
       "39  2010.5               194.772933                     11.955753   \n",
       "40  2011.5               198.628477                     12.260241   \n",
       "41  2012.5               206.673474                     12.677361   \n",
       "42  2013.5               211.895670                     12.366883   \n",
       "43  2014.5               219.729646                     11.535804   \n",
       "44  2015.5               227.141186                     12.412655   \n",
       "45  2016.5               237.538883                     13.080182   \n",
       "46  2017.5               240.849303                     12.551590   \n",
       "47  2018.5               240.944588                     11.156313   \n",
       "\n",
       "    Central Estimate 700-2000m  700-2000m Uncertainty (1-sigma  \\\n",
       "0                     0.000000                       12.660520   \n",
       "1                    -0.277343                       13.196417   \n",
       "2                    -3.910480                       14.898312   \n",
       "3                     1.635750                       15.118808   \n",
       "4                     4.517913                       15.285554   \n",
       "5                     7.868500                       15.087668   \n",
       "6                     6.285167                       14.375839   \n",
       "7                     4.770844                       12.514669   \n",
       "8                     7.726577                       10.164641   \n",
       "9                     9.711603                        9.248468   \n",
       "10                    8.938817                        9.139187   \n",
       "11                    6.204110                       10.132766   \n",
       "12                    6.135427                       11.772956   \n",
       "13                   11.225933                       13.679322   \n",
       "14                   16.178740                       13.463453   \n",
       "15                   16.684597                       12.298992   \n",
       "16                   17.842797                       11.369342   \n",
       "17                   17.874030                       11.309743   \n",
       "18                   20.063167                       10.386580   \n",
       "19                   21.107100                       10.892946   \n",
       "20                   26.343100                       10.191762   \n",
       "21                   33.907533                        9.723407   \n",
       "22                   40.514633                        8.864878   \n",
       "23                   37.586600                        8.280751   \n",
       "24                   36.571000                        8.284898   \n",
       "25                   37.940467                        8.212588   \n",
       "26                   37.866233                        8.713079   \n",
       "27                   38.771500                        9.189032   \n",
       "28                   36.407567                       10.517380   \n",
       "29                   42.591167                        9.037015   \n",
       "30                   46.420600                        8.471369   \n",
       "31                   54.671567                        7.355833   \n",
       "32                   60.313500                        6.855993   \n",
       "33                   66.273133                        6.794860   \n",
       "34                   70.849967                        6.698437   \n",
       "35                   73.630567                        6.660339   \n",
       "36                   75.646167                        6.279004   \n",
       "37                   76.938500                        5.797262   \n",
       "38                   80.375333                        5.542864   \n",
       "39                   84.947933                        5.527127   \n",
       "40                   89.720700                        5.607494   \n",
       "41                   97.048133                        6.371082   \n",
       "42                  103.526100                        6.781820   \n",
       "43                  110.093533                        7.604826   \n",
       "44                  113.028867                        7.562032   \n",
       "45                  117.127867                        8.337115   \n",
       "46                  118.894533                        8.498655   \n",
       "47                  123.284867                       10.675039   \n",
       "\n",
       "    Central Estimate >2000m  >2000m Uncertainty (1-sigma)  \\\n",
       "0                      0.00                      0.000000   \n",
       "1                      0.00                      0.000000   \n",
       "2                      0.00                      0.000000   \n",
       "3                      0.00                      0.000000   \n",
       "4                      0.00                      0.000000   \n",
       "5                      0.00                      0.000000   \n",
       "6                      0.00                      0.000000   \n",
       "7                      0.00                      0.000000   \n",
       "8                      0.00                      0.000000   \n",
       "9                      0.00                      0.000000   \n",
       "10                     0.00                      0.000000   \n",
       "11                     0.00                      0.000000   \n",
       "12                     0.00                      0.000000   \n",
       "13                     0.00                      0.000000   \n",
       "14                     0.00                      0.000000   \n",
       "15                     0.00                      0.000000   \n",
       "16                     0.00                      0.000000   \n",
       "17                     0.00                      0.000000   \n",
       "18                     0.00                      0.000000   \n",
       "19                     0.00                      0.000000   \n",
       "20                     0.00                      0.000000   \n",
       "21                     1.15                      0.346505   \n",
       "22                     2.30                      0.693009   \n",
       "23                     3.45                      1.039514   \n",
       "24                     4.60                      1.386018   \n",
       "25                     5.75                      1.732523   \n",
       "26                     6.90                      2.079027   \n",
       "27                     8.05                      2.425532   \n",
       "28                     9.20                      2.772036   \n",
       "29                    10.35                      3.118541   \n",
       "30                    11.50                      3.465046   \n",
       "31                    12.65                      3.811550   \n",
       "32                    13.80                      4.158055   \n",
       "33                    14.95                      4.504559   \n",
       "34                    16.10                      4.851064   \n",
       "35                    17.25                      5.197568   \n",
       "36                    18.40                      5.544073   \n",
       "37                    19.55                      5.890578   \n",
       "38                    20.70                      6.237082   \n",
       "39                    21.85                      6.583587   \n",
       "40                    23.00                      6.930091   \n",
       "41                    24.15                      7.276596   \n",
       "42                    25.30                      7.623100   \n",
       "43                    26.45                      7.969605   \n",
       "44                    27.60                      8.316109   \n",
       "45                    28.75                      8.662614   \n",
       "46                    29.90                      9.009119   \n",
       "47                    31.05                      9.355623   \n",
       "\n",
       "    Central Estimate Full-depth  Full-depth Uncertainty (1-sigma)  \n",
       "0                      0.000000                         59.380488  \n",
       "1                      9.514074                         59.688206  \n",
       "2                      0.617691                         65.167609  \n",
       "3                     13.215939                         67.515775  \n",
       "4                      8.972219                         69.154259  \n",
       "5                     26.854173                         69.188699  \n",
       "6                     24.354892                         67.506986  \n",
       "7                     39.714835                         61.789724  \n",
       "8                     54.406903                         58.464688  \n",
       "9                     74.841882                         56.877759  \n",
       "10                    83.383503                         60.020184  \n",
       "11                    70.094789                         59.264417  \n",
       "12                    56.988531                         58.423816  \n",
       "13                    52.167276                         57.828132  \n",
       "14                    64.201066                         56.321456  \n",
       "15                    74.183221                         52.855120  \n",
       "16                    94.582277                         50.770179  \n",
       "17                   106.115020                         50.227321  \n",
       "18                   117.517585                         46.662529  \n",
       "19                   121.316932                         42.827092  \n",
       "20                   119.024092                         36.662075  \n",
       "21                   128.252363                         31.526283  \n",
       "22                   132.783708                         29.269118  \n",
       "23                   131.388684                         27.399210  \n",
       "24                   138.701096                         29.098425  \n",
       "25                   150.868189                         31.128830  \n",
       "26                   151.967175                         31.070180  \n",
       "27                   144.415879                         31.788145  \n",
       "28                   142.433840                         37.034089  \n",
       "29                   158.244251                         47.565576  \n",
       "30                   186.617667                         50.234194  \n",
       "31                   206.016366                         48.017392  \n",
       "32                   229.886523                         34.684732  \n",
       "33                   238.637388                         27.571015  \n",
       "34                   251.137350                         23.544157  \n",
       "35                   257.906936                         23.520559  \n",
       "36                   268.652842                         23.310580  \n",
       "37                   280.442773                         23.586001  \n",
       "38                   291.271746                         23.531887  \n",
       "39                   301.570866                         24.066466  \n",
       "40                   311.349177                         24.797826  \n",
       "41                   327.871607                         26.325039  \n",
       "42                   340.721770                         26.771803  \n",
       "43                   356.273179                         27.110235  \n",
       "44                   367.770053                         28.290796  \n",
       "45                   383.416750                         30.079911  \n",
       "46                   389.643837                         30.059364  \n",
       "47                   395.279454                         31.186975  "
      ]
     },
     "execution_count": 6,
     "metadata": {},
     "output_type": "execute_result"
    }
   ],
   "source": [
    "OHC_df = pd.read_csv(\"../data_input/observations/AR6_OHC_ensemble_FGDprelim.csv\", skiprows=1)\n",
    "OHC_df"
   ]
  },
  {
   "cell_type": "code",
   "execution_count": 7,
   "metadata": {},
   "outputs": [],
   "source": [
    "OHUobs = OHC_df['Central Estimate Full-depth'].values\n",
    "OHUyears = OHC_df['Year'].values"
   ]
  },
  {
   "cell_type": "code",
   "execution_count": 8,
   "metadata": {},
   "outputs": [],
   "source": [
    "OHU90 = OHC_df['Full-depth Uncertainty (1-sigma)'].values"
   ]
  },
  {
   "cell_type": "markdown",
   "metadata": {},
   "source": [
    "## Ensemble generation\n",
    "\n",
    "We want to ensure reproducible results that don't change when this script is re-run. Grab list of pre-generated random seeds."
   ]
  },
  {
   "cell_type": "code",
   "execution_count": 9,
   "metadata": {},
   "outputs": [],
   "source": [
    "with open('../data_input/random_seeds.json', 'r') as filehandle:\n",
    "    SEEDS = json.load(filehandle)"
   ]
  },
  {
   "cell_type": "code",
   "execution_count": 10,
   "metadata": {},
   "outputs": [],
   "source": [
    "SAMPLES = 1000000\n",
    "NINETY_TO_ONESIGMA = st.norm.ppf(0.95)\n",
    "F2XCO2_MEAN = 4.00\n",
    "F2XCO2_NINETY = 0.48"
   ]
  },
  {
   "cell_type": "markdown",
   "metadata": {},
   "source": [
    "## Thermal parameters"
   ]
  },
  {
   "cell_type": "code",
   "execution_count": 11,
   "metadata": {},
   "outputs": [
    {
     "data": {
      "text/html": [
       "<div>\n",
       "<style scoped>\n",
       "    .dataframe tbody tr th:only-of-type {\n",
       "        vertical-align: middle;\n",
       "    }\n",
       "\n",
       "    .dataframe tbody tr th {\n",
       "        vertical-align: top;\n",
       "    }\n",
       "\n",
       "    .dataframe thead th {\n",
       "        text-align: right;\n",
       "    }\n",
       "</style>\n",
       "<table border=\"1\" class=\"dataframe\">\n",
       "  <thead>\n",
       "    <tr style=\"text-align: right;\">\n",
       "      <th></th>\n",
       "      <th>q4x</th>\n",
       "      <th>lamg</th>\n",
       "      <th>cmix</th>\n",
       "      <th>cdeep</th>\n",
       "      <th>gamma_2l</th>\n",
       "      <th>eff</th>\n",
       "    </tr>\n",
       "  </thead>\n",
       "  <tbody>\n",
       "    <tr>\n",
       "      <th>0</th>\n",
       "      <td>8.142751</td>\n",
       "      <td>-1.286708</td>\n",
       "      <td>9.493752</td>\n",
       "      <td>56.066688</td>\n",
       "      <td>0.455056</td>\n",
       "      <td>1.344132</td>\n",
       "    </tr>\n",
       "    <tr>\n",
       "      <th>1</th>\n",
       "      <td>6.119064</td>\n",
       "      <td>-1.827114</td>\n",
       "      <td>8.747261</td>\n",
       "      <td>52.676899</td>\n",
       "      <td>0.461327</td>\n",
       "      <td>1.077195</td>\n",
       "    </tr>\n",
       "    <tr>\n",
       "      <th>2</th>\n",
       "      <td>8.617112</td>\n",
       "      <td>-1.273035</td>\n",
       "      <td>8.009019</td>\n",
       "      <td>123.943687</td>\n",
       "      <td>0.566571</td>\n",
       "      <td>1.153560</td>\n",
       "    </tr>\n",
       "    <tr>\n",
       "      <th>3</th>\n",
       "      <td>8.254456</td>\n",
       "      <td>-0.824922</td>\n",
       "      <td>8.534034</td>\n",
       "      <td>27.923307</td>\n",
       "      <td>0.584929</td>\n",
       "      <td>1.258868</td>\n",
       "    </tr>\n",
       "    <tr>\n",
       "      <th>4</th>\n",
       "      <td>6.304924</td>\n",
       "      <td>-0.573755</td>\n",
       "      <td>7.735344</td>\n",
       "      <td>53.271103</td>\n",
       "      <td>0.597592</td>\n",
       "      <td>1.844047</td>\n",
       "    </tr>\n",
       "    <tr>\n",
       "      <th>...</th>\n",
       "      <td>...</td>\n",
       "      <td>...</td>\n",
       "      <td>...</td>\n",
       "      <td>...</td>\n",
       "      <td>...</td>\n",
       "      <td>...</td>\n",
       "    </tr>\n",
       "    <tr>\n",
       "      <th>999995</th>\n",
       "      <td>8.973556</td>\n",
       "      <td>-2.500639</td>\n",
       "      <td>12.052220</td>\n",
       "      <td>116.136073</td>\n",
       "      <td>0.353004</td>\n",
       "      <td>0.630253</td>\n",
       "    </tr>\n",
       "    <tr>\n",
       "      <th>999996</th>\n",
       "      <td>8.437961</td>\n",
       "      <td>-0.968444</td>\n",
       "      <td>7.848429</td>\n",
       "      <td>159.044475</td>\n",
       "      <td>0.632644</td>\n",
       "      <td>1.965492</td>\n",
       "    </tr>\n",
       "    <tr>\n",
       "      <th>999997</th>\n",
       "      <td>8.436179</td>\n",
       "      <td>-0.920766</td>\n",
       "      <td>9.308652</td>\n",
       "      <td>54.379028</td>\n",
       "      <td>0.336028</td>\n",
       "      <td>1.308952</td>\n",
       "    </tr>\n",
       "    <tr>\n",
       "      <th>999998</th>\n",
       "      <td>6.443242</td>\n",
       "      <td>-1.737844</td>\n",
       "      <td>9.018594</td>\n",
       "      <td>360.956402</td>\n",
       "      <td>0.429140</td>\n",
       "      <td>0.169097</td>\n",
       "    </tr>\n",
       "    <tr>\n",
       "      <th>999999</th>\n",
       "      <td>8.747038</td>\n",
       "      <td>-1.324393</td>\n",
       "      <td>8.625533</td>\n",
       "      <td>122.633959</td>\n",
       "      <td>0.911193</td>\n",
       "      <td>1.412442</td>\n",
       "    </tr>\n",
       "  </tbody>\n",
       "</table>\n",
       "<p>1000000 rows × 6 columns</p>\n",
       "</div>"
      ],
      "text/plain": [
       "             q4x      lamg       cmix       cdeep  gamma_2l       eff\n",
       "0       8.142751 -1.286708   9.493752   56.066688  0.455056  1.344132\n",
       "1       6.119064 -1.827114   8.747261   52.676899  0.461327  1.077195\n",
       "2       8.617112 -1.273035   8.009019  123.943687  0.566571  1.153560\n",
       "3       8.254456 -0.824922   8.534034   27.923307  0.584929  1.258868\n",
       "4       6.304924 -0.573755   7.735344   53.271103  0.597592  1.844047\n",
       "...          ...       ...        ...         ...       ...       ...\n",
       "999995  8.973556 -2.500639  12.052220  116.136073  0.353004  0.630253\n",
       "999996  8.437961 -0.968444   7.848429  159.044475  0.632644  1.965492\n",
       "999997  8.436179 -0.920766   9.308652   54.379028  0.336028  1.308952\n",
       "999998  6.443242 -1.737844   9.018594  360.956402  0.429140  0.169097\n",
       "999999  8.747038 -1.324393   8.625533  122.633959  0.911193  1.412442\n",
       "\n",
       "[1000000 rows x 6 columns]"
      ]
     },
     "execution_count": 11,
     "metadata": {},
     "output_type": "execute_result"
    }
   ],
   "source": [
    "geoff_sample_df = pd.read_csv('../data_output_large/geoff_sample.csv', index_col=0)\n",
    "geoff_sample_df"
   ]
  },
  {
   "cell_type": "code",
   "execution_count": 12,
   "metadata": {},
   "outputs": [],
   "source": [
    "ecs = np.load('../data_input_large/fair-samples/ecs_unconstrained.npy')\n",
    "tcr = np.load('../data_input_large/fair-samples/tcr_unconstrained.npy')\n",
    "f2x = np.load('../data_input_large/fair-samples/f2x_unconstrained.npy')"
   ]
  },
  {
   "cell_type": "markdown",
   "metadata": {},
   "source": [
    "## Carbon cycle parameters\n",
    "\n",
    "Uniform distributions from Leach et al"
   ]
  },
  {
   "cell_type": "code",
   "execution_count": 13,
   "metadata": {},
   "outputs": [],
   "source": [
    "r0 = np.load('../data_input_large/fair-samples/r0_unconstrained.npy')\n",
    "rC = np.load('../data_input_large/fair-samples/rC_unconstrained.npy')\n",
    "rT = np.load('../data_input_large/fair-samples/rT_unconstrained.npy')\n",
    "pre_ind_co2 = np.load('../data_input_large/fair-samples/pre_ind_co2_unconstrained.npy')"
   ]
  },
  {
   "cell_type": "markdown",
   "metadata": {},
   "source": [
    "# Constraining starts here"
   ]
  },
  {
   "cell_type": "code",
   "execution_count": 14,
   "metadata": {},
   "outputs": [],
   "source": [
    "C_CO2 = np.load('../data_output_large/fair-samples/C_CO2_unconstrained.npy')\n",
    "F_O3 = np.load('../data_output_large/fair-samples/F_O3_unconstrained.npy')\n",
    "F_dir = np.load('../data_output_large/fair-samples/F_ERFari_unconstrained.npy')\n",
    "F_ind = np.load('../data_output_large/fair-samples/F_ERFaci_unconstrained.npy')\n",
    "F_ant = np.load('../data_output_large/fair-samples/F_anthro_unconstrained.npy')\n",
    "F_tot = np.load('../data_output_large/fair-samples/F_total_unconstrained.npy')\n",
    "T = np.load('../data_output_large/fair-samples/T_unconstrained.npy')\n",
    "OHU = np.load('../data_output_large/fair-samples/OHU_unconstrained.npy')\n",
    "AF = np.load('../data_output_large/fair-samples/AF_unconstrained.npy')"
   ]
  },
  {
   "cell_type": "code",
   "execution_count": 15,
   "metadata": {},
   "outputs": [
    {
     "data": {
      "text/plain": [
       "(351, 1000000)"
      ]
     },
     "execution_count": 15,
     "metadata": {},
     "output_type": "execute_result"
    }
   ],
   "source": [
    "F_O3.shape"
   ]
  },
  {
   "cell_type": "code",
   "execution_count": 16,
   "metadata": {},
   "outputs": [],
   "source": [
    "def rmse(obs, mod):\n",
    "    return np.sqrt(np.sum((obs-mod)**2)/len(obs))"
   ]
  },
  {
   "cell_type": "markdown",
   "metadata": {},
   "source": [
    "## 1. GMST 1850-2019"
   ]
  },
  {
   "cell_type": "code",
   "execution_count": 17,
   "metadata": {},
   "outputs": [
    {
     "name": "stdout",
     "output_type": "stream",
     "text": [
      "280222\n"
     ]
    }
   ],
   "source": [
    "# simple criterion: RMSE of temperature 1850-2019 < 0.135\n",
    "rmse_temp = np.zeros((SAMPLES))\n",
    "for i in range(SAMPLES):\n",
    "    rmse_temp[i] = rmse(temp_gmst, (T[100:269,i]-np.mean(T[100:151,i], axis=0))/1.04)\n",
    "    #rmse_temp[i] = rmse(temp_gmst, (T[100:269,i]-np.mean(T[100:151,i], axis=0)))\n",
    "accept_temp=(rmse_temp<0.135)#\n",
    "print(np.sum(accept_temp))\n",
    "valid_temp = np.arange(SAMPLES, dtype=int)[accept_temp]"
   ]
  },
  {
   "cell_type": "code",
   "execution_count": 18,
   "metadata": {},
   "outputs": [
    {
     "data": {
      "image/png": "[encoded data removed]",
      "text/plain": [
       "<Figure size 453.543x340.157 with 1 Axes>"
      ]
     },
     "metadata": {
      "needs_background": "light"
     },
     "output_type": "display_data"
    }
   ],
   "source": [
    "pl.fill_between(\n",
    "    np.arange(1850, 2019),\n",
    "    np.percentile(T[100:269,accept_temp]-np.mean(T[100:151,accept_temp], axis=0), 5, axis=1),\n",
    "    np.percentile(T[100:269,accept_temp]-np.mean(T[100:151,accept_temp], axis=0), 95, axis=1), \n",
    "    color='gray', lw=0, alpha=0.5\n",
    ")\n",
    "pl.plot(\n",
    "    np.arange(1850, 2019), \n",
    "    np.percentile(T[100:269,accept_temp]-np.mean(T[100:151,accept_temp], axis=0), 50, axis=1),\n",
    "    color='k'\n",
    ")\n",
    "pl.plot(np.arange(1850, 2019), temp_gmst, color='blue')\n",
    "pl.title('Historically constrained - temperature')\n",
    "pl.ylabel('K')\n",
    "pl.tight_layout()"
   ]
  },
  {
   "cell_type": "code",
   "execution_count": 19,
   "metadata": {},
   "outputs": [
    {
     "name": "stdout",
     "output_type": "stream",
     "text": [
      "[0.71201773 0.75625981 0.85612062 0.95130983 0.98968191]\n",
      "[0.74049844 0.78651021 0.89036545 0.98936222 1.02926919]\n"
     ]
    }
   ],
   "source": [
    "# GMST target 0.71 0.84 0.98\n",
    "print(np.percentile((np.mean(T[245:265,accept_temp], axis=0)-np.mean(T[100:151,accept_temp], axis=0))/1.04, (5, 16, 50, 84, 95)))\n",
    "print(np.percentile(np.mean(T[245:265,accept_temp], axis=0)-np.mean(T[100:151,accept_temp], axis=0), (5, 16, 50, 84, 95)))"
   ]
  },
  {
   "cell_type": "markdown",
   "metadata": {},
   "source": [
    "## 2. Ocean heat uptake 1971-2018"
   ]
  },
  {
   "cell_type": "code",
   "execution_count": 20,
   "metadata": {},
   "outputs": [
    {
     "name": "stdout",
     "output_type": "stream",
     "text": [
      "389828\n"
     ]
    }
   ],
   "source": [
    "accept_ohu = np.logical_and(\n",
    "    ((OHUobs[-1]-OHUobs[0]) - np.sqrt(OHU90[0]**2+OHU90[-1]**2)) < 0.90*(OHU[268,:]-OHU[221,:])*1e-21,\n",
    "    0.90*(OHU[268,:]-OHU[221,:])*1e-21 < ((OHUobs[-1]-OHUobs[0]) + np.sqrt(OHU90[0]**2+OHU90[-1]**2))\n",
    ")\n",
    "valid_ohu = np.arange(SAMPLES, dtype=int)[accept_ohu]\n",
    "print(np.sum(accept_ohu))"
   ]
  },
  {
   "cell_type": "code",
   "execution_count": 21,
   "metadata": {},
   "outputs": [
    {
     "data": {
      "image/png": "[encoded data removed]",
      "text/plain": [
       "<Figure size 453.543x340.157 with 1 Axes>"
      ]
     },
     "metadata": {
      "needs_background": "light"
     },
     "output_type": "display_data"
    }
   ],
   "source": [
    "pl.fill_between(OHUyears, OHUobs-OHU90, OHUobs+OHU90, color='blue', lw=0, alpha=0.5)\n",
    "pl.plot(OHUyears, OHUobs, color='blue')\n",
    "pl.fill_between(np.arange(1750.5, 2019), OHUobs[-1]+1e-21*np.percentile(0.90*(OHU[:269,accept_ohu]-OHU[268,accept_ohu]), 5, axis=1), OHUobs[-1]+1e-21*np.percentile(0.90*(OHU[:269,accept_ohu]-OHU[268,accept_ohu]), 95, axis=1), color='gray', lw=0, alpha=0.5)\n",
    "pl.plot(np.arange(1750.5,2019), OHUobs[-1]+1e-21*np.percentile(0.90*(OHU[:269,accept_ohu]-OHU[268,accept_ohu]), 50, axis=1), color='k')\n",
    "pl.title('Historically constrained - ocean heat')\n",
    "pl.xlim(1971,2019)\n",
    "pl.ylim(-100,440)\n",
    "pl.ylabel('ZJ')\n",
    "pl.tight_layout()"
   ]
  },
  {
   "cell_type": "markdown",
   "metadata": {},
   "source": [
    "## 3. CO2 concentrations in 2014*\n",
    "\n",
    "*avoids scenario selection effects"
   ]
  },
  {
   "cell_type": "code",
   "execution_count": 22,
   "metadata": {},
   "outputs": [
    {
     "data": {
      "text/plain": [
       "(269,)"
      ]
     },
     "execution_count": 22,
     "metadata": {},
     "output_type": "execute_result"
    }
   ],
   "source": [
    "conc_all = pd.read_csv('../data_input_large/rcmip-concentrations-annual-means-v5-1-0.csv')\n",
    "co2_obs = conc_all[(conc_all['Scenario']=='ssp245')&(conc_all['Region']=='World')&(conc_all.Variable.str.endswith('CO2'))].loc[:,'1750':'2018'].values.squeeze()\n",
    "co2_obs.shape"
   ]
  },
  {
   "cell_type": "code",
   "execution_count": 23,
   "metadata": {},
   "outputs": [
    {
     "data": {
      "text/plain": [
       "(array([1.90000e+01, 8.26000e+02, 1.57470e+04, 1.13282e+05, 3.21406e+05,\n",
       "        3.60226e+05, 1.59118e+05, 2.75140e+04, 1.81800e+03, 4.40000e+01]),\n",
       " array([262.24068083, 265.15863001, 268.07657918, 270.99452835,\n",
       "        273.91247753, 276.8304267 , 279.74837588, 282.66632505,\n",
       "        285.58427423, 288.5022234 , 291.42017258]),\n",
       " <BarContainer object of 10 artists>)"
      ]
     },
     "execution_count": 23,
     "metadata": {},
     "output_type": "execute_result"
    },
    {
     "data": {
      "image/png": "[encoded data removed]",
      "text/plain": [
       "<Figure size 453.543x340.157 with 1 Axes>"
      ]
     },
     "metadata": {
      "needs_background": "light"
     },
     "output_type": "display_data"
    }
   ],
   "source": [
    "pl.hist(C_CO2[0,:])"
   ]
  },
  {
   "cell_type": "code",
   "execution_count": 24,
   "metadata": {},
   "outputs": [
    {
     "data": {
      "text/plain": [
       "(351, 1000000)"
      ]
     },
     "execution_count": 24,
     "metadata": {},
     "output_type": "execute_result"
    }
   ],
   "source": [
    "C_CO2.shape"
   ]
  },
  {
   "cell_type": "code",
   "execution_count": 25,
   "metadata": {},
   "outputs": [
    {
     "name": "stdout",
     "output_type": "stream",
     "text": [
      "21016\n"
     ]
    }
   ],
   "source": [
    "accept_co2 = np.logical_and( (co2_obs[264] - 0.36) < C_CO2[264], C_CO2[264] < (co2_obs[264] + 0.36) )\n",
    "print(np.sum(accept_co2))\n",
    "valid_co2 = np.arange(SAMPLES, dtype=int)[accept_co2]"
   ]
  },
  {
   "cell_type": "code",
   "execution_count": 26,
   "metadata": {},
   "outputs": [
    {
     "data": {
      "image/png": "[encoded data removed]",
      "text/plain": [
       "<Figure size 453.543x340.157 with 1 Axes>"
      ]
     },
     "metadata": {
      "needs_background": "light"
     },
     "output_type": "display_data"
    }
   ],
   "source": [
    "pl.fill_between(\n",
    "    np.arange(1750, 2019),\n",
    "    np.percentile(C_CO2[:269,accept_co2], 5, axis=1),\n",
    "    np.percentile(C_CO2[:269,accept_co2], 95, axis=1), \n",
    "    color='gray', lw=0, alpha=0.5\n",
    ")\n",
    "pl.plot(\n",
    "    np.arange(1750, 2019), \n",
    "    np.percentile(C_CO2[:269,accept_co2], 50, axis=1),\n",
    "    color='k'\n",
    ")\n",
    "pl.plot(np.arange(1750, 2019), co2_obs, color='blue')\n",
    "pl.title('Historically constrained - CO2')\n",
    "pl.ylabel('ppm')\n",
    "pl.tight_layout()"
   ]
  },
  {
   "cell_type": "code",
   "execution_count": 27,
   "metadata": {},
   "outputs": [
    {
     "data": {
      "text/plain": [
       "(array([1886., 2211., 2254., 2377., 2320., 2320., 2435., 2220., 1850.,\n",
       "        1143.]),\n",
       " array([-0.00711718, -0.00158649,  0.0039442 ,  0.00947489,  0.01500558,\n",
       "         0.02053626,  0.02606695,  0.03159764,  0.03712833,  0.04265902,\n",
       "         0.04818971]),\n",
       " <BarContainer object of 10 artists>)"
      ]
     },
     "execution_count": 27,
     "metadata": {},
     "output_type": "execute_result"
    },
    {
     "data": {
      "image/png": "[encoded data removed]",
      "text/plain": [
       "<Figure size 453.543x340.157 with 1 Axes>"
      ]
     },
     "metadata": {
      "needs_background": "light"
     },
     "output_type": "display_data"
    }
   ],
   "source": [
    "pl.hist(rC[accept_co2])"
   ]
  },
  {
   "cell_type": "markdown",
   "metadata": {},
   "source": [
    "## 4. Airborne fraction\n",
    "\n",
    "Do a 1% CO2 run"
   ]
  },
  {
   "cell_type": "code",
   "execution_count": 28,
   "metadata": {},
   "outputs": [
    {
     "data": {
      "text/plain": [
       "array([   838,    949,   1137, ..., 999362, 999380, 999843])"
      ]
     },
     "execution_count": 28,
     "metadata": {},
     "output_type": "execute_result"
    }
   ],
   "source": [
    "accept_ssp245 = accept_temp * accept_ohu * accept_co2\n",
    "accept_inds = (np.arange(len(accept_ssp245), dtype=int))[accept_ssp245]\n",
    "accept_inds"
   ]
  },
  {
   "cell_type": "code",
   "execution_count": 29,
   "metadata": {},
   "outputs": [
    {
     "data": {
      "application/vnd.jupyter.widget-view+json": {
       "model_id": "944def9aea244ac7b4be37c5cc2831bc",
       "version_major": 2,
       "version_minor": 0
      },
      "text/plain": [
       "HBox(children=(HTML(value='parameters'), FloatProgress(value=0.0, max=4302.0), HTML(value='')))"
      ]
     },
     "metadata": {},
     "output_type": "display_data"
    },
    {
     "name": "stdout",
     "output_type": "stream",
     "text": [
      "\n"
     ]
    },
    {
     "data": {
      "application/vnd.jupyter.widget-view+json": {
       "model_id": "882778b4e73243eeb6cee8c71a0b2ee2",
       "version_major": 2,
       "version_minor": 0
      },
      "text/plain": [
       "HBox(children=(HTML(value='climate model'), FloatProgress(value=0.0, max=4302.0), HTML(value='')))"
      ]
     },
     "metadata": {},
     "output_type": "display_data"
    },
    {
     "name": "stderr",
     "output_type": "stream",
     "text": [
      "/nfs/b0110/Users/mencsm/miniconda3/envs/ar6/lib/python3.7/site-packages/fair/inverse.py:307: RuntimeWarning: invalid value encountered in true_divide\n",
      "  return emissions, F, T, lambda_eff, ohc, heatflux, airborne_emissions/cumulative_emissions\n",
      "/nfs/b0110/Users/mencsm/miniconda3/envs/ar6/lib/python3.7/site-packages/ipykernel_launcher.py:83: RuntimeWarning: divide by zero encountered in true_divide\n",
      "/nfs/b0110/Users/mencsm/miniconda3/envs/ar6/lib/python3.7/site-packages/fair/inverse.py:307: RuntimeWarning: invalid value encountered in true_divide\n",
      "  return emissions, F, T, lambda_eff, ohc, heatflux, airborne_emissions/cumulative_emissions\n",
      "/nfs/b0110/Users/mencsm/miniconda3/envs/ar6/lib/python3.7/site-packages/fair/inverse.py:307: RuntimeWarning: invalid value encountered in true_divide\n",
      "  return emissions, F, T, lambda_eff, ohc, heatflux, airborne_emissions/cumulative_emissions\n",
      "/nfs/b0110/Users/mencsm/miniconda3/envs/ar6/lib/python3.7/site-packages/ipykernel_launcher.py:83: RuntimeWarning: divide by zero encountered in true_divide\n",
      "/nfs/b0110/Users/mencsm/miniconda3/envs/ar6/lib/python3.7/site-packages/ipykernel_launcher.py:83: RuntimeWarning: divide by zero encountered in true_divide\n",
      "/nfs/b0110/Users/mencsm/miniconda3/envs/ar6/lib/python3.7/site-packages/fair/inverse.py:307: RuntimeWarning: invalid value encountered in true_divide\n",
      "  return emissions, F, T, lambda_eff, ohc, heatflux, airborne_emissions/cumulative_emissions\n",
      "/nfs/b0110/Users/mencsm/miniconda3/envs/ar6/lib/python3.7/site-packages/ipykernel_launcher.py:83: RuntimeWarning: divide by zero encountered in true_divide\n",
      "/nfs/b0110/Users/mencsm/miniconda3/envs/ar6/lib/python3.7/site-packages/fair/inverse.py:307: RuntimeWarning: invalid value encountered in true_divide\n",
      "  return emissions, F, T, lambda_eff, ohc, heatflux, airborne_emissions/cumulative_emissions\n",
      "/nfs/b0110/Users/mencsm/miniconda3/envs/ar6/lib/python3.7/site-packages/ipykernel_launcher.py:83: RuntimeWarning: divide by zero encountered in true_divide\n",
      "/nfs/b0110/Users/mencsm/miniconda3/envs/ar6/lib/python3.7/site-packages/fair/inverse.py:307: RuntimeWarning: invalid value encountered in true_divide\n",
      "  return emissions, F, T, lambda_eff, ohc, heatflux, airborne_emissions/cumulative_emissions\n",
      "/nfs/b0110/Users/mencsm/miniconda3/envs/ar6/lib/python3.7/site-packages/ipykernel_launcher.py:83: RuntimeWarning: divide by zero encountered in true_divide\n",
      "/nfs/b0110/Users/mencsm/miniconda3/envs/ar6/lib/python3.7/site-packages/fair/inverse.py:307: RuntimeWarning: invalid value encountered in true_divide\n",
      "  return emissions, F, T, lambda_eff, ohc, heatflux, airborne_emissions/cumulative_emissions\n",
      "/nfs/b0110/Users/mencsm/miniconda3/envs/ar6/lib/python3.7/site-packages/ipykernel_launcher.py:83: RuntimeWarning: divide by zero encountered in true_divide\n",
      "/nfs/b0110/Users/mencsm/miniconda3/envs/ar6/lib/python3.7/site-packages/fair/inverse.py:307: RuntimeWarning: invalid value encountered in true_divide\n",
      "  return emissions, F, T, lambda_eff, ohc, heatflux, airborne_emissions/cumulative_emissions\n",
      "/nfs/b0110/Users/mencsm/miniconda3/envs/ar6/lib/python3.7/site-packages/fair/inverse.py:307: RuntimeWarning: invalid value encountered in true_divide\n",
      "  return emissions, F, T, lambda_eff, ohc, heatflux, airborne_emissions/cumulative_emissions\n",
      "/nfs/b0110/Users/mencsm/miniconda3/envs/ar6/lib/python3.7/site-packages/ipykernel_launcher.py:83: RuntimeWarning: divide by zero encountered in true_divide\n",
      "/nfs/b0110/Users/mencsm/miniconda3/envs/ar6/lib/python3.7/site-packages/ipykernel_launcher.py:83: RuntimeWarning: divide by zero encountered in true_divide\n",
      "/nfs/b0110/Users/mencsm/miniconda3/envs/ar6/lib/python3.7/site-packages/fair/inverse.py:307: RuntimeWarning: invalid value encountered in true_divide\n",
      "  return emissions, F, T, lambda_eff, ohc, heatflux, airborne_emissions/cumulative_emissions\n",
      "/nfs/b0110/Users/mencsm/miniconda3/envs/ar6/lib/python3.7/site-packages/fair/inverse.py:307: RuntimeWarning: invalid value encountered in true_divide\n",
      "  return emissions, F, T, lambda_eff, ohc, heatflux, airborne_emissions/cumulative_emissions\n",
      "/nfs/b0110/Users/mencsm/miniconda3/envs/ar6/lib/python3.7/site-packages/ipykernel_launcher.py:83: RuntimeWarning: divide by zero encountered in true_divide\n",
      "/nfs/b0110/Users/mencsm/miniconda3/envs/ar6/lib/python3.7/site-packages/ipykernel_launcher.py:83: RuntimeWarning: divide by zero encountered in true_divide\n",
      "/nfs/b0110/Users/mencsm/miniconda3/envs/ar6/lib/python3.7/site-packages/fair/inverse.py:307: RuntimeWarning: invalid value encountered in true_divide\n",
      "  return emissions, F, T, lambda_eff, ohc, heatflux, airborne_emissions/cumulative_emissions\n",
      "/nfs/b0110/Users/mencsm/miniconda3/envs/ar6/lib/python3.7/site-packages/ipykernel_launcher.py:83: RuntimeWarning: divide by zero encountered in true_divide\n",
      "/nfs/b0110/Users/mencsm/miniconda3/envs/ar6/lib/python3.7/site-packages/fair/inverse.py:307: RuntimeWarning: invalid value encountered in true_divide\n",
      "  return emissions, F, T, lambda_eff, ohc, heatflux, airborne_emissions/cumulative_emissions\n",
      "/nfs/b0110/Users/mencsm/miniconda3/envs/ar6/lib/python3.7/site-packages/fair/inverse.py:307: RuntimeWarning: invalid value encountered in true_divide\n",
      "  return emissions, F, T, lambda_eff, ohc, heatflux, airborne_emissions/cumulative_emissions\n",
      "/nfs/b0110/Users/mencsm/miniconda3/envs/ar6/lib/python3.7/site-packages/ipykernel_launcher.py:83: RuntimeWarning: divide by zero encountered in true_divide\n",
      "/nfs/b0110/Users/mencsm/miniconda3/envs/ar6/lib/python3.7/site-packages/ipykernel_launcher.py:83: RuntimeWarning: divide by zero encountered in true_divide\n",
      "/nfs/b0110/Users/mencsm/miniconda3/envs/ar6/lib/python3.7/site-packages/fair/inverse.py:307: RuntimeWarning: invalid value encountered in true_divide\n",
      "  return emissions, F, T, lambda_eff, ohc, heatflux, airborne_emissions/cumulative_emissions\n",
      "/nfs/b0110/Users/mencsm/miniconda3/envs/ar6/lib/python3.7/site-packages/fair/inverse.py:307: RuntimeWarning: invalid value encountered in true_divide\n",
      "  return emissions, F, T, lambda_eff, ohc, heatflux, airborne_emissions/cumulative_emissions\n",
      "/nfs/b0110/Users/mencsm/miniconda3/envs/ar6/lib/python3.7/site-packages/ipykernel_launcher.py:83: RuntimeWarning: divide by zero encountered in true_divide\n",
      "/nfs/b0110/Users/mencsm/miniconda3/envs/ar6/lib/python3.7/site-packages/ipykernel_launcher.py:83: RuntimeWarning: divide by zero encountered in true_divide\n",
      "/nfs/b0110/Users/mencsm/miniconda3/envs/ar6/lib/python3.7/site-packages/fair/gas_cycle/fair1.py:66: RuntimeWarning: overflow encountered in exp\n",
      "  iirf_arr = alp_b*(np.sum(a*tau*(1.0 - np.exp(-iirf_h/(tau*alp_b)))))\n",
      "/nfs/b0110/Users/mencsm/miniconda3/envs/ar6/lib/python3.7/site-packages/fair/gas_cycle/fair1.py:66: RuntimeWarning: overflow encountered in exp\n",
      "  iirf_arr = alp_b*(np.sum(a*tau*(1.0 - np.exp(-iirf_h/(tau*alp_b)))))\n",
      "/nfs/b0110/Users/mencsm/miniconda3/envs/ar6/lib/python3.7/site-packages/fair/gas_cycle/fair1.py:66: RuntimeWarning: overflow encountered in exp\n",
      "  iirf_arr = alp_b*(np.sum(a*tau*(1.0 - np.exp(-iirf_h/(tau*alp_b)))))\n",
      "/nfs/b0110/Users/mencsm/miniconda3/envs/ar6/lib/python3.7/site-packages/fair/gas_cycle/fair1.py:66: RuntimeWarning: overflow encountered in exp\n",
      "  iirf_arr = alp_b*(np.sum(a*tau*(1.0 - np.exp(-iirf_h/(tau*alp_b)))))\n",
      "/nfs/b0110/Users/mencsm/miniconda3/envs/ar6/lib/python3.7/site-packages/fair/gas_cycle/fair1.py:66: RuntimeWarning: overflow encountered in exp\n",
      "  iirf_arr = alp_b*(np.sum(a*tau*(1.0 - np.exp(-iirf_h/(tau*alp_b)))))\n",
      "/nfs/b0110/Users/mencsm/miniconda3/envs/ar6/lib/python3.7/site-packages/fair/gas_cycle/fair1.py:66: RuntimeWarning: overflow encountered in exp\n",
      "  iirf_arr = alp_b*(np.sum(a*tau*(1.0 - np.exp(-iirf_h/(tau*alp_b)))))\n",
      "/nfs/b0110/Users/mencsm/miniconda3/envs/ar6/lib/python3.7/site-packages/fair/gas_cycle/fair1.py:66: RuntimeWarning: overflow encountered in exp\n",
      "  iirf_arr = alp_b*(np.sum(a*tau*(1.0 - np.exp(-iirf_h/(tau*alp_b)))))\n",
      "/nfs/b0110/Users/mencsm/miniconda3/envs/ar6/lib/python3.7/site-packages/fair/gas_cycle/fair1.py:66: RuntimeWarning: overflow encountered in exp\n",
      "  iirf_arr = alp_b*(np.sum(a*tau*(1.0 - np.exp(-iirf_h/(tau*alp_b)))))\n",
      "/nfs/b0110/Users/mencsm/miniconda3/envs/ar6/lib/python3.7/site-packages/fair/gas_cycle/fair1.py:66: RuntimeWarning: overflow encountered in exp\n",
      "  iirf_arr = alp_b*(np.sum(a*tau*(1.0 - np.exp(-iirf_h/(tau*alp_b)))))\n"
     ]
    },
    {
     "name": "stderr",
     "output_type": "stream",
     "text": [
      "/nfs/b0110/Users/mencsm/miniconda3/envs/ar6/lib/python3.7/site-packages/fair/gas_cycle/fair1.py:66: RuntimeWarning: overflow encountered in exp\n",
      "  iirf_arr = alp_b*(np.sum(a*tau*(1.0 - np.exp(-iirf_h/(tau*alp_b)))))\n",
      "/nfs/b0110/Users/mencsm/miniconda3/envs/ar6/lib/python3.7/site-packages/fair/gas_cycle/fair1.py:66: RuntimeWarning: overflow encountered in exp\n",
      "  iirf_arr = alp_b*(np.sum(a*tau*(1.0 - np.exp(-iirf_h/(tau*alp_b)))))\n",
      "/nfs/b0110/Users/mencsm/miniconda3/envs/ar6/lib/python3.7/site-packages/fair/gas_cycle/fair1.py:66: RuntimeWarning: overflow encountered in exp\n",
      "  iirf_arr = alp_b*(np.sum(a*tau*(1.0 - np.exp(-iirf_h/(tau*alp_b)))))\n",
      "/nfs/b0110/Users/mencsm/miniconda3/envs/ar6/lib/python3.7/site-packages/fair/gas_cycle/fair1.py:66: RuntimeWarning: overflow encountered in exp\n",
      "  iirf_arr = alp_b*(np.sum(a*tau*(1.0 - np.exp(-iirf_h/(tau*alp_b)))))\n",
      "/nfs/b0110/Users/mencsm/miniconda3/envs/ar6/lib/python3.7/site-packages/fair/gas_cycle/fair1.py:66: RuntimeWarning: overflow encountered in exp\n",
      "  iirf_arr = alp_b*(np.sum(a*tau*(1.0 - np.exp(-iirf_h/(tau*alp_b)))))\n",
      "/nfs/b0110/Users/mencsm/miniconda3/envs/ar6/lib/python3.7/site-packages/fair/gas_cycle/fair1.py:66: RuntimeWarning: overflow encountered in exp\n",
      "  iirf_arr = alp_b*(np.sum(a*tau*(1.0 - np.exp(-iirf_h/(tau*alp_b)))))\n"
     ]
    },
    {
     "name": "stdout",
     "output_type": "stream",
     "text": [
      "\n"
     ]
    }
   ],
   "source": [
    "conc_subset = conc_all[(conc_all['Model']=='unspecified')&(conc_all['Scenario']=='1pctCO2')&(conc_all['Region']=='World')]\n",
    "gases=['CO2','CH4','N2O','CF4','C2F6','C6F14','HFC23','HFC32','HFC4310mee','HFC125','HFC134a','HFC143a',\n",
    "       'HFC227ea','HFC245fa','SF6','CFC11','CFC12','CFC113','CFC114','CFC115','CCl4','CH3CCl3','HCFC22',\n",
    "       'HCFC141b','HCFC142b','Halon1211','Halon1202','Halon1301','Halon2402','CH3Br','CH3Cl']\n",
    "conc = np.zeros((151,31))\n",
    "for ig, gas in enumerate(gases):\n",
    "    try:\n",
    "        conc[:,ig] = conc_subset[conc_subset.Variable.str.endswith(gas)].loc[:,'1850':'2000'].values\n",
    "    except:\n",
    "        conc[:,ig] = 0\n",
    "\n",
    "results = np.empty((151,0))\n",
    "expt = '1pctCO2'\n",
    "\n",
    "arglist=[]\n",
    "for ens in tqdm(accept_inds, desc='parameters'):\n",
    "    C_pi=np.zeros(31)\n",
    "    C_pi[0] = pre_ind_co2[ens]\n",
    "    C_pi[1]=731.406\n",
    "    C_pi[2]=273.8651\n",
    "    C_pi[3]=34.05\n",
    "    C_pi[4] = 32.28077001\n",
    "    C_pi[25]=0.00434894\n",
    "    C_pi[29]=8.75191031\n",
    "    C_pi[30]=755.7838942\n",
    "    arglist.append(\n",
    "        {\n",
    "            'emissions_driven':False,\n",
    "            'C_pi': C_pi,\n",
    "            'C': conc,\n",
    "            'F_volcanic': 0,\n",
    "            'F_solar': 0,\n",
    "            'F2x': f2x[ens],\n",
    "            'ariaci_out': True,\n",
    "            'efficacy': np.ones(13),\n",
    "            'temperature_function': 'Geoffroy',\n",
    "            'lambda_global': -geoff_sample_df.loc[ens, 'lamg'],  # this and the below only used in two-layer model\n",
    "            'ocean_heat_capacity': np.array([geoff_sample_df.loc[ens, 'cmix'], geoff_sample_df.loc[ens, 'cdeep']]),\n",
    "            'ocean_heat_exchange': geoff_sample_df.loc[ens, 'gamma_2l'],\n",
    "            'deep_ocean_efficacy': geoff_sample_df.loc[ens, 'eff'],\n",
    "            'r0': r0[ens],\n",
    "            'rt': rT[ens],\n",
    "            'rc': rC[ens],\n",
    "        }\n",
    "    )\n",
    "\n",
    "def run_fair(args):\n",
    "    Ctemp, Ftemp, Ttemp, _, _, _, heatfluxtemp = fair.forward.fair_scm(\n",
    "        emissions_driven = args['emissions_driven'],\n",
    "        C_pi = args['C_pi'],\n",
    "        C = args['C'],\n",
    "        F_volcanic = args['F_volcanic'],\n",
    "        F_solar = args['F_solar'],\n",
    "        F2x = args['F2x'],\n",
    "        ariaci_out = args['ariaci_out'],\n",
    "        efficacy = args['efficacy'],\n",
    "        temperature_function = args['temperature_function'],\n",
    "        lambda_global = args['lambda_global'],\n",
    "        ocean_heat_capacity = args['ocean_heat_capacity'],\n",
    "        ocean_heat_exchange = args['ocean_heat_exchange'],\n",
    "        deep_ocean_efficacy = args['deep_ocean_efficacy'],\n",
    "    )\n",
    "    Etemp, Fetemp, Tetemp, _, _, _, aftemp = inverse_fair_scm(\n",
    "        C = args['C'][:,0],\n",
    "        F2x = args['F2x'],\n",
    "        C_pi = args['C'][0,0],\n",
    "        r0 = args['r0'],\n",
    "        rt = args['rt'],\n",
    "        rc = args['rc'],\n",
    "        F_in = np.sum(Ftemp, axis=1),\n",
    "        temperature_function = args['temperature_function'],\n",
    "        lambda_global = args['lambda_global'],\n",
    "        ocean_heat_capacity = args['ocean_heat_capacity'],\n",
    "        ocean_heat_exchange = args['ocean_heat_exchange'],\n",
    "        deep_ocean_efficacy = args['deep_ocean_efficacy'],\n",
    "    )\n",
    "    nt = len(Ttemp)\n",
    "    cumE = np.cumsum(Etemp) * molwt.CO2/molwt.C*1000.\n",
    "    Catmpool = Ctemp[:,0]*ppm_gtc*molwt.CO2/molwt.C*1000.\n",
    "    Cburden = (Ctemp[:,0]-Ctemp[0,0])*ppm_gtc*molwt.CO2/molwt.C*1000.\n",
    "\n",
    "    return (Ttemp, np.sum(Ftemp, axis=1), heatfluxtemp*NTOA_ZJ,\n",
    "        aftemp, cumE, Ttemp/cumE)\n",
    "\n",
    "if __name__ == '__main__':\n",
    "    with Pool(16) as pool, warnings.catch_warnings():\n",
    "        warnings.simplefilter('ignore')\n",
    "        results = list(tqdm(pool.imap(run_fair, arglist), total=len(accept_inds), desc='climate model'))\n",
    "        \n",
    "    results = np.array(results).transpose(1,2,0)"
   ]
  },
  {
   "cell_type": "code",
   "execution_count": 30,
   "metadata": {},
   "outputs": [
    {
     "data": {
      "text/plain": [
       "(6, 151, 4302)"
      ]
     },
     "execution_count": 30,
     "metadata": {},
     "output_type": "execute_result"
    }
   ],
   "source": [
    "results.shape"
   ]
  },
  {
   "cell_type": "code",
   "execution_count": 31,
   "metadata": {},
   "outputs": [
    {
     "data": {
      "text/plain": [
       "4302"
      ]
     },
     "execution_count": 31,
     "metadata": {},
     "output_type": "execute_result"
    }
   ],
   "source": [
    "len(accept_inds)"
   ]
  },
  {
   "cell_type": "code",
   "execution_count": 32,
   "metadata": {},
   "outputs": [
    {
     "data": {
      "text/plain": [
       "2565"
      ]
     },
     "execution_count": 32,
     "metadata": {},
     "output_type": "execute_result"
    }
   ],
   "source": [
    "af140 = results[3,140,:]\n",
    "af70 = results[3,70,:]\n",
    "tcre70_unscale = results[5,70,:]\n",
    "accept_prob = st.uniform.rvs(loc=0, scale=1, size=SAMPLES, random_state=SEEDS[79])\n",
    "accept_af = np.zeros(len(accept_inds), dtype=bool)\n",
    "for i in range(len(accept_inds)):\n",
    "    likelihood = st.norm.pdf(af140[i], loc=.597, scale=.049)/st.norm.pdf(.597, loc=.597, scale=.049)\n",
    "    if likelihood>=accept_prob[i]:\n",
    "        accept_af[i] = True\n",
    "    #print(likelihood)\n",
    "np.sum(accept_af)"
   ]
  },
  {
   "cell_type": "code",
   "execution_count": 33,
   "metadata": {},
   "outputs": [],
   "source": [
    "valid = np.arange(SAMPLES, dtype=int)[accept_ssp245][accept_af]\n",
    "accept_ssp245 = np.zeros(SAMPLES, dtype=bool)\n",
    "accept_ssp245[valid] = True"
   ]
  },
  {
   "cell_type": "code",
   "execution_count": 34,
   "metadata": {},
   "outputs": [
    {
     "data": {
      "text/plain": [
       "array([   838,    949,   1242, ..., 999362, 999380, 999843])"
      ]
     },
     "execution_count": 34,
     "metadata": {},
     "output_type": "execute_result"
    }
   ],
   "source": [
    "valid"
   ]
  },
  {
   "cell_type": "markdown",
   "metadata": {},
   "source": [
    "## 5. WG1 chapter 4 future warming\n",
    "\n",
    "- formal constraint or just sense check?  -just sense check, it's too hard"
   ]
  },
  {
   "cell_type": "code",
   "execution_count": 35,
   "metadata": {},
   "outputs": [],
   "source": [
    "# chapter4_tas = {}\n",
    "# varnames = {\n",
    "#     '05': 'Q05',\n",
    "#     'central': 'mean',\n",
    "#     '95': 'Q95'\n",
    "# }\n",
    "# for scen in ['ssp119','ssp126','ssp245','ssp370','ssp585']:\n",
    "#     chapter4_tas[scen] = {}\n",
    "#     for pc in ['05','central','95']:\n",
    "#         nc = Dataset('../data/wg1-chapter4/assessed_%s_%s.nc' % (scen, pc))\n",
    "#         chapter4_tas[scen][pc] = nc.variables[varnames[pc]][:]\n",
    "#         if pc=='95' and scen=='ssp119':\n",
    "#             print(nc.variables['time'])\n",
    "#             print(nc.variables['time'][:])\n",
    "#             print(chapter4_tas[scen][pc])\n",
    "#         nc.close()"
   ]
  },
  {
   "cell_type": "code",
   "execution_count": 36,
   "metadata": {},
   "outputs": [],
   "source": [
    "# pl.fill_between(np.arange(2010.5, 2091), chapter4_tas['ssp119']['05'], chapter4_tas['ssp119']['95'])\n",
    "# pl.plot(np.arange(2010.5, 2091), chapter4_tas['ssp119']['central'], color='k')"
   ]
  },
  {
   "cell_type": "markdown",
   "metadata": {},
   "source": [
    "### for all the ones that make it to here, run FaIR with SSP1-1.9, SSP1-2.6, SSP2-4.5, SSP3-7.0 and SSP5-8.5 with the so-far constrained runs"
   ]
  },
  {
   "cell_type": "code",
   "execution_count": 37,
   "metadata": {},
   "outputs": [],
   "source": [
    "# with open('../data/cmip6_aerosol_coefficients.json') as json_file:\n",
    "#     cmip6_aerosol_data = json.load(json_file)\n",
    "# cmip6_aci = np.zeros((11, 2))\n",
    "# for i, model in enumerate(['CanESM5', 'E3SM', 'GFDL-ESM4', 'GFDL-CM4', 'GISS-E2-1-G', 'HadGEM3-GC31-LL', 'IPSL-CM6A-LR', 'MIROC6', 'MRI-ESM2-0', 'NorESM2-LM', 'UKESM1-0-LL']):\n",
    "#     for j, species in enumerate(['n0','n1']):\n",
    "#         cmip6_aci[i,j] = np.log(cmip6_aerosol_data[model]['ERFaci'][species])\n",
    "# kde = st.gaussian_kde(cmip6_aci.T)\n",
    "# aci_coeffs=np.exp(kde.resample(size=int(SAMPLES), seed=SEEDS[8]).T)\n",
    "\n",
    "# beta = np.loadtxt('../data/beta_unconstrained.csv')\n",
    "# beta_so2 = np.loadtxt('../data/beta_so2_unconstrained.csv')\n",
    "# beta_bc = np.loadtxt('../data/beta_bc_unconstrained.csv')\n",
    "# beta_oc = np.loadtxt('../data/beta_oc_unconstrained.csv')\n",
    "# beta_nh3 = np.loadtxt('../data/beta_nh3_unconstrained.csv')\n",
    "# beta_ch4 = np.loadtxt('../data/beta_ch4_unconstrained.csv')\n",
    "# beta_n2o = np.loadtxt('../data/beta_n2o_unconstrained.csv')\n",
    "# beta_ods = np.loadtxt('../data/beta_ods_unconstrained.csv')\n",
    "# beta_co = np.loadtxt('../data/beta_co_unconstrained.csv')\n",
    "# beta_voc = np.loadtxt('../data/beta_voc_unconstrained.csv')\n",
    "# beta_nox = np.loadtxt('../data/beta_nox_unconstrained.csv')\n",
    "# ozone_feedback = np.loadtxt('../data/ozone_feedback_unconstrained.csv')\n",
    "\n",
    "# scale_normals = np.loadtxt('../data/scale_normals.csv', delimiter=',')\n",
    "# trend_solar = np.loadtxt('../data/scale_trend_solar.csv', delimiter=',')\n",
    "\n",
    "# # add in natural emissions and natural forcing\n",
    "# ch4_n2o_df = pd.read_csv('../data/cmip6_natural_ch4_n2o.csv')\n",
    "# ch4_n2o = ch4_n2o_df.values[:351,1:]\n",
    "\n",
    "# df = pd.read_csv('../data/solar_erf.csv', index_col='year')\n",
    "# solar_forcing = df.solar_erf.loc[1750:2100].values\n",
    "\n",
    "# df = pd.read_csv('../data/volcanic_erf.csv', index_col='year')\n",
    "# volcanic_forcing = np.zeros((351))\n",
    "# volcanic_forcing[:269] = df.volcanic_erf.loc[1750:2018].values\n",
    "# # ramp down last 10 years to zero according to https://www.geosci-model-dev.net/9/3461/2016/gmd-9-3461-2016.html\n",
    "# volcanic_forcing[268:279] = volcanic_forcing[268] * np.linspace(1,0,11)\n",
    "# volcanic_forcing[279:] = 0.\n",
    "\n",
    "# E_pi=np.zeros(40)\n",
    "# # unit convert not necessary as this has been done going in\n",
    "# E_pi[5]=1.22002422\n",
    "# E_pi[6]=348.527359\n",
    "# E_pi[7]=60.0218262\n",
    "# E_pi[8]=3.87593407\n",
    "# E_pi[9]=2.09777075\n",
    "# E_pi[10]=15.4476682\n",
    "# E_pi[11]=6.92769009\n",
    "\n",
    "# #ssp_df = pd.read_csv(os.path.join(os.path.dirname(fair.__file__), 'SSPs/data/rcmip-emissions-annual-means-4-0-0-ssp-only.csv'))\n",
    "# ssp_df = pd.read_csv('../data/rcmip-emissions-annual-means-v5-1-0.csv')\n",
    "\n",
    "# years = np.arange(1750,2101)\n",
    "# startyear = 1750\n",
    "# first_scenyear = 2015\n",
    "# last_scenyear = 2100\n",
    "# first_row = int(first_scenyear-startyear)\n",
    "# last_row = int(last_scenyear-startyear)\n",
    "\n",
    "# species = [  # in fair 1.6, order is important\n",
    "#     '|CO2|MAGICC Fossil and Industrial',\n",
    "#     '|CO2|MAGICC AFOLU',\n",
    "#     '|CH4',\n",
    "#     '|N2O',\n",
    "#     '|Sulfur',\n",
    "#     '|CO',\n",
    "#     '|VOC',\n",
    "#     '|NOx',\n",
    "#     '|BC',\n",
    "#     '|OC',\n",
    "#     '|NH3',\n",
    "#     '|CF4',\n",
    "#     '|C2F6',\n",
    "#     '|C6F14',\n",
    "#     '|HFC23',\n",
    "#     '|HFC32',\n",
    "#     '|HFC4310mee',\n",
    "#     '|HFC125',\n",
    "#     '|HFC134a',\n",
    "#     '|HFC143a',\n",
    "#     '|HFC227ea',\n",
    "#     '|HFC245fa',\n",
    "#     '|SF6',\n",
    "#     '|CFC11',\n",
    "#     '|CFC12',\n",
    "#     '|CFC113',\n",
    "#     '|CFC114',\n",
    "#     '|CFC115',\n",
    "#     '|CCl4',\n",
    "#     '|CH3CCl3',\n",
    "#     '|HCFC22',\n",
    "#     '|HCFC141b',\n",
    "#     '|HCFC142b',\n",
    "#     '|Halon1211',\n",
    "#     '|Halon1202',\n",
    "#     '|Halon1301',\n",
    "#     '|Halon2402',\n",
    "#     '|CH3Br',\n",
    "#     '|CH3Cl',\n",
    "# ]\n",
    "\n",
    "# # Assume that units coming out of aneris don't change. One day I'll do unit parsing\n",
    "# unit_convert = np.ones(40)\n",
    "# unit_convert[1] = 12/44/1000\n",
    "# unit_convert[2] = 12/44/1000\n",
    "# unit_convert[4] = 28/44/1000\n",
    "# unit_convert[5] = 32/64\n",
    "# unit_convert[8] = 14/46\n",
    "\n",
    "# data_out = {}\n",
    "\n",
    "# scens = ['ssp119', 'ssp126', 'ssp245', 'ssp370', 'ssp585']\n",
    "# for scen in scens:\n",
    "#     data_out[scen] = np.ones((351, 40)) * np.nan\n",
    "#     data_out[scen][:,0] = years\n",
    "\n",
    "#     years_future = [2015] + list(range(2020,2101,10))\n",
    "#     for i, specie in enumerate(species):\n",
    "#         data_out[scen][:first_row,i+1] = ssp_df.loc[(ssp_df['Region']=='World')&(ssp_df['Scenario']==scen)&(ssp_df['Variable'].str.endswith(specie)),str(startyear):'2014']*unit_convert[i+1]\n",
    "#         f = interp1d(years_future, ssp_df.loc[(ssp_df['Region']=='World')&(ssp_df['Scenario']==scen)&(ssp_df['Variable'].str.endswith(specie)),'2015':'2100'].dropna(axis=1))\n",
    "#         data_out[scen][first_row:(last_row+1), i+1] = f(np.arange(first_scenyear, last_scenyear+1))*unit_convert[i+1]\n",
    "\n",
    "# arglist = {}\n",
    "# for scen in tqdm(['ssp119', 'ssp126', 'ssp245', 'ssp370', 'ssp585']):\n",
    "#     arglist[scen] = []\n",
    "#     for i in tqdm(valid, leave=False):\n",
    "#         C_pi=np.zeros(31)\n",
    "#         C_pi[0] = pre_ind_co2[i]\n",
    "#         C_pi[1]=731.406\n",
    "#         C_pi[2]=273.8651\n",
    "#         C_pi[3]=34.05\n",
    "#         C_pi[4] = 32.28077001\n",
    "#         C_pi[25]=0.00434894\n",
    "#         C_pi[29]=8.75191031\n",
    "#         C_pi[30]=755.7838942\n",
    "#         scale = np.ones(45)\n",
    "#         scale[1:3] = scale_normals[i,1:3]\n",
    "#         scale[3:31] = scale_normals[i,3]\n",
    "#         scale[33:35] = scale_normals[i,5:7]\n",
    "#         scale[41:44] = scale_normals[i,7:10]   \n",
    "#         F_solar = np.zeros(351)\n",
    "#         F_solar[:270] = np.linspace(0,trend_solar[i],270) + solar_forcing[:270]*scale_normals[i,10]\n",
    "#         F_solar[270:351] = trend_solar[i] + solar_forcing[270:351]*scale_normals[i,10]\n",
    "#         arglist[scen].append(\n",
    "#             {\n",
    "#                 'ghg_forcing': 'Meinshausen',\n",
    "#                 'emissions': data_out[scen],\n",
    "#                 'natural': ch4_n2o,\n",
    "#                 'F_volcanic': volcanic_forcing,\n",
    "#                 'F_solar': solar_forcing,\n",
    "#                 'efficacy': np.ones(45),\n",
    "#                 'diagnostics': 'AR6',\n",
    "#                 'gir_carbon_cycle': True,\n",
    "#                 'aerosol_forcing': 'aerocom+ghan2',\n",
    "#                 'fixPre1850RCP': False,\n",
    "#                 'E_pi': E_pi,\n",
    "#                 'temperature_function': 'Geoffroy',\n",
    "#                 'b_tro3': np.array([beta_ch4[i], beta_n2o[i], beta_ods[i], beta_co[i], beta_voc[i], beta_nox[i]]),\n",
    "#                 'ozone_feedback': ozone_feedback[i],\n",
    "#                 'tropO3_forcing': 'thornhill-skeie',\n",
    "#                 'aCO2land': 0.0006394631886297174,\n",
    "#                 'C_pi': C_pi,\n",
    "#                 'F2x': f2x[i],\n",
    "#                 'r0': r0[i],\n",
    "#                 'rc': rC[i],\n",
    "#                 'rt': rT[i],\n",
    "#                 'lambda_global': -geoff_sample_df.loc[i, 'lamg'],  # this and the below only used in two-layer model\n",
    "#                 'ocean_heat_capacity': np.array([geoff_sample_df.loc[i, 'cmix'], geoff_sample_df.loc[i, 'cdeep']]),\n",
    "#                 'ocean_heat_exchange': geoff_sample_df.loc[i, 'gamma_2l'],\n",
    "#                 'deep_ocean_efficacy': geoff_sample_df.loc[i, 'eff'],\n",
    "#                 'b_aero': np.array([beta_so2[i], 0.0, 0.0, 0.0, beta_bc[i], beta_oc[i], beta_nh3[i]]),\n",
    "#                 'ghan_params': np.array([beta[i], aci_coeffs[i,0], aci_coeffs[i,1]]),\n",
    "#                 'scale': scale,\n",
    "#             }\n",
    "#         )"
   ]
  },
  {
   "cell_type": "code",
   "execution_count": 38,
   "metadata": {},
   "outputs": [],
   "source": [
    "# def run_fair(args):\n",
    "#     thisC, thisF, thisT, _, thisOHU, _, thisAF = fair.forward.fair_scm(**args)\n",
    "#     return thisT\n",
    "\n",
    "# temperature = {}\n",
    "# if __name__ == '__main__':\n",
    "#     for scen in tqdm(['ssp119', 'ssp126', 'ssp245', 'ssp370', 'ssp585']):\n",
    "#         with Pool(16) as pool:\n",
    "#             result = list(tqdm(pool.imap(run_fair, arglist[scen]), total=len(valid), leave=False))\n",
    "#         temperature[scen] = np.array(result).T"
   ]
  },
  {
   "cell_type": "code",
   "execution_count": 39,
   "metadata": {},
   "outputs": [],
   "source": [
    "# chapter4_tas['ssp126']['05'][-1], chapter4_tas['ssp126']['central'][-1], chapter4_tas['ssp126']['95'][-1]\n",
    "\n",
    "# def fit_gamma(x, scen):\n",
    "#     q05,q50,q95 = st.gamma.ppf((0.05,0.50,0.95), x[0], loc=x[1], scale=x[2])\n",
    "#     return [q05 - chapter4_tas[scen]['05'][-1], q50-chapter4_tas[scen]['central'][-1], q95 - chapter4_tas[scen]['95'][-1]]\n",
    "\n",
    "# gamma_params_assessment = {}\n",
    "# gamma_params_emulated = {}\n",
    "# for scen in ['ssp119', 'ssp126', 'ssp245', 'ssp370', 'ssp585']:\n",
    "#     gamma_params_assessment[scen] = root(fit_gamma, [15, 0, 0.1], args=scen).x\n",
    "#     gamma_params_emulated[scen] = st.gamma.fit((temperature[scen][330:350,:]-temperature[scen][245:265,:]).mean(axis=0))"
   ]
  },
  {
   "cell_type": "code",
   "execution_count": 40,
   "metadata": {},
   "outputs": [],
   "source": [
    "# fig,ax=pl.subplots(3,2, figsize=(10,10))\n",
    "\n",
    "# for i, scen in enumerate(scens):\n",
    "#     ax[i//2,i%2].hist((temperature[scen][330:350,:]-temperature[scen][245:265,:]).mean(axis=0), density=True)\n",
    "#     ax[i//2,i%2].axvline(chapter4_tas[scen]['05'][-1], ls='--', color='k')\n",
    "#     ax[i//2,i%2].axvline(chapter4_tas[scen]['central'][-1], ls='-', color='k')\n",
    "#     ax[i//2,i%2].axvline(chapter4_tas[scen]['95'][-1], ls='--', color='k')\n",
    "#     ax[i//2,i%2].set_title(scen)\n",
    "#     ax[i//2,i%2].plot(\n",
    "#         np.linspace(\n",
    "#             (temperature[scen][330:350,:]-temperature[scen][245:265,:]).mean(axis=0).min(),\n",
    "#             (temperature[scen][330:350,:]-temperature[scen][245:265,:]).mean(axis=0).max()\n",
    "#         ), st.gamma.pdf(\n",
    "#             np.linspace(\n",
    "#                 (temperature[scen][330:350,:]-temperature[scen][245:265,:]).mean(axis=0).min(),\n",
    "#                 (temperature[scen][330:350,:]-temperature[scen][245:265,:]).mean(axis=0).max()\n",
    "#             ), gamma_params_emulated[scen][0], scale=gamma_params_emulated[scen][2], loc=gamma_params_emulated[scen][1]),\n",
    "#         color='darkblue'\n",
    "#     )    \n",
    "#     ax[i//2,i%2].plot(\n",
    "#         np.linspace(\n",
    "#             (temperature[scen][330:350,:]-temperature[scen][245:265,:]).mean(axis=0).min(),\n",
    "#             (temperature[scen][330:350,:]-temperature[scen][245:265,:]).mean(axis=0).max()\n",
    "#         ), st.gamma.pdf(\n",
    "#             np.linspace(\n",
    "#                 (temperature[scen][330:350,:]-temperature[scen][245:265,:]).mean(axis=0).min(),\n",
    "#                 (temperature[scen][330:350,:]-temperature[scen][245:265,:]).mean(axis=0).max()\n",
    "#             ), gamma_params_assessment[scen][0], scale=gamma_params_assessment[scen][2], loc=gamma_params_assessment[scen][1])\n",
    "#     )"
   ]
  },
  {
   "cell_type": "code",
   "execution_count": 41,
   "metadata": {},
   "outputs": [],
   "source": [
    "# accept_prob = st.uniform.rvs(loc=0, scale=1, size=SAMPLES, random_state=SEEDS[78])\n",
    "# accept_futuretemp = np.zeros(len(valid), dtype=bool)\n",
    "\n",
    "# for i in range(len(valid)):\n",
    "#     likelihood = 1\n",
    "#     for scen in ['ssp119', 'ssp126', 'ssp245', 'ssp370', 'ssp585']:\n",
    "#         test = (temperature[scen][330:350,:]-temperature[scen][245:265,:]).mean(axis=0)\n",
    "#         likelihood = likelihood * (\n",
    "#             st.gamma.pdf(test[i], gamma_params_assessment[scen][0], loc=gamma_params_assessment[scen][1], scale=gamma_params_assessment[scen][2])/\n",
    "#             st.gamma.pdf(test[i], gamma_params_emulated[scen][0], loc=gamma_params_emulated[scen][1], scale=gamma_params_emulated[scen][2])\n",
    "#         )\n",
    "# #    print(likelihood)\n",
    "#     if likelihood>=accept_prob[i]:\n",
    "#         accept_futuretemp[i] = True\n",
    "#     #print(likelihood)\n",
    "# np.sum(accept_futuretemp)"
   ]
  },
  {
   "cell_type": "code",
   "execution_count": 42,
   "metadata": {},
   "outputs": [],
   "source": [
    "# fig,ax=pl.subplots(3,2, figsize=(10,10))\n",
    "\n",
    "# for i, scen in enumerate(scens):\n",
    "#     ax[i//2,i%2].hist((temperature[scen][330:350,:]-temperature[scen][245:265,:]).mean(axis=0), density=True, alpha=0.5)\n",
    "#     ax[i//2,i%2].hist((temperature[scen][330:350,accept_futuretemp]-temperature[scen][245:265,accept_futuretemp]).mean(axis=0), density=True, alpha=0.5)\n",
    "#     ax[i//2,i%2].axvline(chapter4_tas[scen]['05'][-1], ls='--', color='k')\n",
    "#     ax[i//2,i%2].axvline(chapter4_tas[scen]['central'][-1], ls='-', color='k')\n",
    "#     ax[i//2,i%2].axvline(chapter4_tas[scen]['95'][-1], ls='--', color='k')\n",
    "#     ax[i//2,i%2].set_title(scen)\n",
    "#     ax[i//2,i%2].plot(\n",
    "#         np.linspace(\n",
    "#             (temperature[scen][330:350,:]-temperature[scen][245:265,:]).mean(axis=0).min(),\n",
    "#             (temperature[scen][330:350,:]-temperature[scen][245:265,:]).mean(axis=0).max()\n",
    "#         ), st.gamma.pdf(\n",
    "#             np.linspace(\n",
    "#                 (temperature[scen][330:350,:]-temperature[scen][245:265,:]).mean(axis=0).min(),\n",
    "#                 (temperature[scen][330:350,:]-temperature[scen][245:265,:]).mean(axis=0).max()\n",
    "#             ), gamma_params_emulated[scen][0], scale=gamma_params_emulated[scen][2], loc=gamma_params_emulated[scen][1]),\n",
    "#         color='darkblue'\n",
    "#     )    \n",
    "#     ax[i//2,i%2].plot(\n",
    "#         np.linspace(\n",
    "#             (temperature[scen][330:350,:]-temperature[scen][245:265,:]).mean(axis=0).min(),\n",
    "#             (temperature[scen][330:350,:]-temperature[scen][245:265,:]).mean(axis=0).max()\n",
    "#         ), st.gamma.pdf(\n",
    "#             np.linspace(\n",
    "#                 (temperature[scen][330:350,:]-temperature[scen][245:265,:]).mean(axis=0).min(),\n",
    "#                 (temperature[scen][330:350,:]-temperature[scen][245:265,:]).mean(axis=0).max()\n",
    "#             ), gamma_params_assessment[scen][0], scale=gamma_params_assessment[scen][2], loc=gamma_params_assessment[scen][1]),\n",
    "#         color='darkorange'\n",
    "#     )"
   ]
  },
  {
   "cell_type": "code",
   "execution_count": 43,
   "metadata": {},
   "outputs": [
    {
     "name": "stdout",
     "output_type": "stream",
     "text": [
      "2565\n"
     ]
    }
   ],
   "source": [
    "accept = accept_ssp245\n",
    "print(np.sum(accept))\n",
    "valid = np.arange(SAMPLES, dtype=int)[accept]"
   ]
  },
  {
   "cell_type": "code",
   "execution_count": 44,
   "metadata": {},
   "outputs": [
    {
     "data": {
      "text/plain": [
       "(array([ 18.,  80., 187., 314., 386., 432., 429., 363., 246., 110.]),\n",
       " array([-0.00502001,  0.00027825,  0.00557651,  0.01087477,  0.01617302,\n",
       "         0.02147128,  0.02676954,  0.0320678 ,  0.03736606,  0.04266432,\n",
       "         0.04796258]),\n",
       " <BarContainer object of 10 artists>)"
      ]
     },
     "execution_count": 44,
     "metadata": {},
     "output_type": "execute_result"
    },
    {
     "data": {
      "image/png": "[encoded data removed]",
      "text/plain": [
       "<Figure size 453.543x340.157 with 1 Axes>"
      ]
     },
     "metadata": {
      "needs_background": "light"
     },
     "output_type": "display_data"
    }
   ],
   "source": [
    "pl.hist(rC[accept])"
   ]
  },
  {
   "cell_type": "code",
   "execution_count": 45,
   "metadata": {},
   "outputs": [
    {
     "data": {
      "text/plain": [
       "(array([272., 244., 259., 266., 255., 255., 260., 259., 245., 250.]),\n",
       " array([-0.08297963,  0.37639099,  0.83576161,  1.29513223,  1.75450285,\n",
       "         2.21387347,  2.67324409,  3.13261471,  3.59198533,  4.05135595,\n",
       "         4.51072657]),\n",
       " <BarContainer object of 10 artists>)"
      ]
     },
     "execution_count": 45,
     "metadata": {},
     "output_type": "execute_result"
    },
    {
     "data": {
      "image/png": "[encoded data removed]",
      "text/plain": [
       "<Figure size 453.543x340.157 with 1 Axes>"
      ]
     },
     "metadata": {
      "needs_background": "light"
     },
     "output_type": "display_data"
    }
   ],
   "source": [
    "pl.hist(rT[accept])"
   ]
  },
  {
   "cell_type": "code",
   "execution_count": 46,
   "metadata": {},
   "outputs": [
    {
     "data": {
      "text/plain": [
       "(array([0.07507443, 0.09192184, 0.11793188, 0.12561667, 0.12266098,\n",
       "        0.09842435, 0.06857192, 0.03783278, 0.01655184, 0.00354682]),\n",
       " array([27.70307469, 29.02210354, 30.3411324 , 31.66016125, 32.97919011,\n",
       "        34.29821896, 35.61724782, 36.93627668, 38.25530553, 39.57433439,\n",
       "        40.89336324]),\n",
       " <BarContainer object of 10 artists>)"
      ]
     },
     "execution_count": 46,
     "metadata": {},
     "output_type": "execute_result"
    },
    {
     "data": {
      "image/png": "[encoded data removed]",
      "text/plain": [
       "<Figure size 453.543x340.157 with 1 Axes>"
      ]
     },
     "metadata": {
      "needs_background": "light"
     },
     "output_type": "display_data"
    }
   ],
   "source": [
    "pl.hist(r0[accept], density=True)"
   ]
  },
  {
   "cell_type": "code",
   "execution_count": 47,
   "metadata": {},
   "outputs": [
    {
     "data": {
      "text/plain": [
       "Text(0.5, 1.0, 'Historically constrained - CO2')"
      ]
     },
     "execution_count": 47,
     "metadata": {},
     "output_type": "execute_result"
    },
    {
     "data": {
      "image/png": "[encoded data removed]",
      "text/plain": [
       "<Figure size 453.543x340.157 with 1 Axes>"
      ]
     },
     "metadata": {
      "needs_background": "light"
     },
     "output_type": "display_data"
    }
   ],
   "source": [
    "pl.fill_between(\n",
    "    np.arange(1750, 2101),\n",
    "    np.percentile(C_CO2[:,accept], 5, axis=1),\n",
    "    np.percentile(C_CO2[:,accept], 95, axis=1), \n",
    "    color='gray', lw=0, alpha=0.5\n",
    ")\n",
    "pl.plot(\n",
    "    np.arange(1750, 2101), \n",
    "    np.percentile(C_CO2[:,accept], 50, axis=1),\n",
    "    color='k'\n",
    ")\n",
    "pl.plot(np.arange(1750, 2019), co2_obs, color='blue')\n",
    "pl.title('Historically constrained - CO2')"
   ]
  },
  {
   "cell_type": "code",
   "execution_count": 48,
   "metadata": {},
   "outputs": [
    {
     "data": {
      "text/plain": [
       "Text(0.5, 1.0, 'Historically constrained - temperature')"
      ]
     },
     "execution_count": 48,
     "metadata": {},
     "output_type": "execute_result"
    },
    {
     "data": {
      "image/png": "[encoded data removed]",
      "text/plain": [
       "<Figure size 453.543x340.157 with 1 Axes>"
      ]
     },
     "metadata": {
      "needs_background": "light"
     },
     "output_type": "display_data"
    }
   ],
   "source": [
    "pl.fill_between(\n",
    "    np.arange(1850, 2019),\n",
    "    np.percentile(T[100:269,accept]-np.mean(T[100:151,accept], axis=0), 5, axis=1),\n",
    "    np.percentile(T[100:269,accept]-np.mean(T[100:151,accept], axis=0), 95, axis=1), \n",
    "    color='gray', lw=0, alpha=0.5\n",
    ")\n",
    "pl.plot(\n",
    "    np.arange(1850, 2019), \n",
    "    np.percentile(T[100:269,accept]-np.mean(T[100:151,accept], axis=0), 50, axis=1),\n",
    "    color='k'\n",
    ")\n",
    "pl.plot(np.arange(1850, 2019), temp_gmst, color='blue')\n",
    "pl.title('Historically constrained - temperature')"
   ]
  },
  {
   "cell_type": "code",
   "execution_count": 49,
   "metadata": {},
   "outputs": [
    {
     "name": "stdout",
     "output_type": "stream",
     "text": [
      "[0.72061317 0.76459538 0.85539892 0.94350446 0.98503032]\n",
      "[0.7494377  0.7951792  0.88961487 0.98124464 1.02443154]\n"
     ]
    }
   ],
   "source": [
    "# target 0.71 0.84 0.98 GMST\n",
    "print(np.percentile((np.mean(T[245:265,accept], axis=0)-np.mean(T[100:151,accept], axis=0))/1.04, (5, 16, 50, 84, 95)))\n",
    "print(np.percentile(np.mean(T[245:265,accept], axis=0)-np.mean(T[100:151,accept], axis=0), (5, 16, 50, 84, 95)))"
   ]
  },
  {
   "cell_type": "code",
   "execution_count": 50,
   "metadata": {},
   "outputs": [
    {
     "data": {
      "image/png": "[encoded data removed]",
      "text/plain": [
       "<Figure size 453.543x340.157 with 1 Axes>"
      ]
     },
     "metadata": {
      "needs_background": "light"
     },
     "output_type": "display_data"
    }
   ],
   "source": [
    "pl.fill_between(OHUyears, OHUobs-OHU90, OHUobs+OHU90, color='blue', lw=0, alpha=0.5)\n",
    "pl.plot(OHUyears, OHUobs, color='blue')\n",
    "pl.fill_between(np.arange(1750.5, 2019), OHUobs[-1]+1e-21*np.percentile(0.90*(OHU[:269,accept]-OHU[268,accept]), 5, axis=1), OHUobs[-1]+1e-21*np.percentile(0.90*(OHU[:269,accept]-OHU[268,accept]), 95, axis=1), color='gray', lw=0, alpha=0.5)\n",
    "pl.plot(np.arange(1750.5,2019), OHUobs[-1]+1e-21*np.percentile(0.90*(OHU[:269,accept]-OHU[268,accept]), 50, axis=1), color='k')\n",
    "pl.title('Historically constrained - ocean heat')\n",
    "pl.xlim(1971,2019)\n",
    "pl.ylim(-100,440)\n",
    "pl.ylabel('ZJ')\n",
    "pl.tight_layout()"
   ]
  },
  {
   "cell_type": "code",
   "execution_count": 51,
   "metadata": {},
   "outputs": [
    {
     "data": {
      "text/plain": [
       "array([0.7494377 , 0.7951792 , 0.88961487, 0.98124464, 1.02443154])"
      ]
     },
     "execution_count": 51,
     "metadata": {},
     "output_type": "execute_result"
    }
   ],
   "source": [
    "# target 0.71 0.84 0.98\n",
    "np.percentile(np.mean(T[245:265,accept],axis=0)-np.mean(T[100:151,accept],axis=0), (5,16,50,84,95))"
   ]
  },
  {
   "cell_type": "code",
   "execution_count": 52,
   "metadata": {},
   "outputs": [
    {
     "data": {
      "text/plain": [
       "array([1.98471344, 2.27803601, 2.94719868, 4.12687365, 5.34716406])"
      ]
     },
     "execution_count": 52,
     "metadata": {},
     "output_type": "execute_result"
    },
    {
     "data": {
      "image/png": "[encoded data removed]",
      "text/plain": [
       "<Figure size 453.543x340.157 with 1 Axes>"
      ]
     },
     "metadata": {
      "needs_background": "light"
     },
     "output_type": "display_data"
    }
   ],
   "source": [
    "pl.hist(ecs[accept], bins=np.arange(1.6,8.8,0.4), density=True)\n",
    "# target 2.0 2.5 3.0 4.0 5.0\n",
    "pl.xlabel('K')\n",
    "pl.title('ECS: constrained')\n",
    "pl.tight_layout()\n",
    "np.percentile(ecs[accept], (5,16,50,84,95))"
   ]
  },
  {
   "cell_type": "code",
   "execution_count": 53,
   "metadata": {},
   "outputs": [
    {
     "data": {
      "text/plain": [
       "array([1.249245  , 1.42054054, 1.74812355, 2.13976061, 2.4297918 ])"
      ]
     },
     "execution_count": 53,
     "metadata": {},
     "output_type": "execute_result"
    },
    {
     "data": {
      "image/png": "[encoded data removed]",
      "text/plain": [
       "<Figure size 453.543x340.157 with 1 Axes>"
      ]
     },
     "metadata": {
      "needs_background": "light"
     },
     "output_type": "display_data"
    }
   ],
   "source": [
    "pl.hist(tcr[accept], bins=np.arange(0.8,3.2,0.2), density=True)\n",
    "# target 1.2 1.4 1.8 2.2 2.4\n",
    "pl.xlabel('K')\n",
    "pl.title('TCR: constrained')\n",
    "pl.tight_layout()\n",
    "np.percentile(tcr[accept], (5,16,50,84,95))"
   ]
  },
  {
   "cell_type": "code",
   "execution_count": 54,
   "metadata": {},
   "outputs": [
    {
     "data": {
      "text/plain": [
       "array([-0.5860434 , -0.47354196, -0.3062624 , -0.13408438, -0.01931943])"
      ]
     },
     "execution_count": 54,
     "metadata": {},
     "output_type": "execute_result"
    },
    {
     "data": {
      "image/png": "[encoded data removed]",
      "text/plain": [
       "<Figure size 453.543x340.157 with 1 Axes>"
      ]
     },
     "metadata": {
      "needs_background": "light"
     },
     "output_type": "display_data"
    }
   ],
   "source": [
    "# target -0.6 -0.3 -0.0\n",
    "pl.hist(np.mean(F_dir[255:265,accept], axis=0), bins=np.arange(-0.8,0.2,0.1));\n",
    "pl.title('aerosol ERFari')\n",
    "np.percentile(np.mean(F_dir[255:265,accept], axis=0), (5,16,50,84,95))"
   ]
  },
  {
   "cell_type": "code",
   "execution_count": 55,
   "metadata": {},
   "outputs": [
    {
     "data": {
      "text/plain": [
       "array([-1.54414941, -1.34561319, -1.01648485, -0.68550182, -0.47409075])"
      ]
     },
     "execution_count": 55,
     "metadata": {},
     "output_type": "execute_result"
    },
    {
     "data": {
      "image/png": "[encoded data removed]",
      "text/plain": [
       "<Figure size 453.543x340.157 with 1 Axes>"
      ]
     },
     "metadata": {
      "needs_background": "light"
     },
     "output_type": "display_data"
    }
   ],
   "source": [
    "# target -1.7 -1.0 -0.3\n",
    "pl.hist(np.mean(F_ind[255:265,accept], axis=0), bins=np.arange(-2.0,0.2,0.1));\n",
    "pl.title('aerosol ERFaci')\n",
    "np.percentile(np.mean(F_ind[255:265,accept], axis=0), (5,16,50,84,95))"
   ]
  },
  {
   "cell_type": "code",
   "execution_count": 56,
   "metadata": {},
   "outputs": [
    {
     "data": {
      "text/plain": [
       "array([-1.86624992, -1.65584935, -1.32076322, -0.98525691, -0.74601237])"
      ]
     },
     "execution_count": 56,
     "metadata": {},
     "output_type": "execute_result"
    },
    {
     "data": {
      "image/png": "[encoded data removed]",
      "text/plain": [
       "<Figure size 453.543x340.157 with 1 Axes>"
      ]
     },
     "metadata": {
      "needs_background": "light"
     },
     "output_type": "display_data"
    }
   ],
   "source": [
    "# target -2 -1.3 -0.6\n",
    "pl.hist(np.mean(F_dir[255:265,accept], axis=0)+np.mean(F_ind[255:265,accept], axis=0), bins=np.arange(-2.2,0.2,0.1), density=True);\n",
    "pl.title('Aerosol ERF: 1750-2010')\n",
    "pl.xlabel('W m$^{-2}$')\n",
    "pl.tight_layout()\n",
    "np.percentile(np.mean(F_dir[255:265,accept], axis=0)+np.mean(F_ind[255:265,accept], axis=0), (5,16,50,84,95))"
   ]
  },
  {
   "cell_type": "code",
   "execution_count": 57,
   "metadata": {},
   "outputs": [
    {
     "data": {
      "text/plain": [
       "<matplotlib.collections.PathCollection at 0x7f51dfc54890>"
      ]
     },
     "execution_count": 57,
     "metadata": {},
     "output_type": "execute_result"
    },
    {
     "data": {
      "image/png": "[encoded data removed]",
      "text/plain": [
       "<Figure size 453.543x340.157 with 1 Axes>"
      ]
     },
     "metadata": {
      "needs_background": "light"
     },
     "output_type": "display_data"
    }
   ],
   "source": [
    "pl.scatter(ecs[accept], np.mean(F_dir[255:265,accept], axis=0)+np.mean(F_ind[255:265,accept], axis=0))"
   ]
  },
  {
   "cell_type": "code",
   "execution_count": 58,
   "metadata": {},
   "outputs": [
    {
     "data": {
      "text/plain": [
       "<matplotlib.collections.PathCollection at 0x7f51dfba5350>"
      ]
     },
     "execution_count": 58,
     "metadata": {},
     "output_type": "execute_result"
    },
    {
     "data": {
      "image/png": "[encoded data removed]",
      "text/plain": [
       "<Figure size 453.543x340.157 with 1 Axes>"
      ]
     },
     "metadata": {
      "needs_background": "light"
     },
     "output_type": "display_data"
    }
   ],
   "source": [
    "pl.scatter(ecs[accept], tcr[accept])"
   ]
  },
  {
   "cell_type": "code",
   "execution_count": 59,
   "metadata": {},
   "outputs": [],
   "source": [
    "accept_inds = (np.arange(len(accept), dtype=int))[accept]\n",
    "np.savetxt('../data_output_large/fair-samples/accept_inds.csv', accept_inds, fmt='%d')"
   ]
  },
  {
   "cell_type": "markdown",
   "metadata": {},
   "source": [
    "## Save arg lists that pass constraint for running openscm-runner"
   ]
  },
  {
   "cell_type": "code",
   "execution_count": 60,
   "metadata": {},
   "outputs": [],
   "source": [
    "# ozone\n",
    "ozone_feedback = np.load('../data_input_large/fair-samples/ozone_feedback_unconstrained.npy')\n",
    "beta_ch4 = np.load('../data_input_large/fair-samples/beta_ch4_unconstrained.npy')\n",
    "beta_n2o = np.load('../data_input_large/fair-samples/beta_n2o_unconstrained.npy')\n",
    "beta_ods = np.load('../data_input_large/fair-samples/beta_ods_unconstrained.npy')\n",
    "beta_co = np.load('../data_input_large/fair-samples/beta_co_unconstrained.npy')\n",
    "beta_voc = np.load('../data_input_large/fair-samples/beta_voc_unconstrained.npy')\n",
    "beta_nox = np.load('../data_input_large/fair-samples/beta_nox_unconstrained.npy')\n",
    "\n",
    "# carbon cycle\n",
    "r0 = np.load('../data_input_large/fair-samples/r0_unconstrained.npy')\n",
    "rC = np.load('../data_input_large/fair-samples/rC_unconstrained.npy')\n",
    "rT = np.load('../data_input_large/fair-samples/rT_unconstrained.npy')\n",
    "pre_ind_co2 = np.load('../data_input_large/fair-samples/pre_ind_co2_unconstrained.npy')\n",
    "\n",
    "# aerosol\n",
    "beta_so2 = np.load('../data_input_large/fair-samples/beta_so2_unconstrained.npy')\n",
    "beta_bc = np.load('../data_input_large/fair-samples/beta_bc_unconstrained.npy')\n",
    "beta_oc = np.load('../data_input_large/fair-samples/beta_oc_unconstrained.npy')\n",
    "beta_nh3 = np.load('../data_input_large/fair-samples/beta_nh3_unconstrained.npy')\n",
    "beta = np.load('../data_input_large/fair-samples/beta_unconstrained.npy')\n",
    "aci_coeffs = np.load('../data_input_large/fair-samples/aci_coeffs.npy')\n",
    "\n",
    "# forcing\n",
    "scale_normals = np.load('../data_input_large/fair-samples/scale_normals.npy')\n",
    "trend_solar = np.load('../data_input_large/fair-samples/scale_trend_solar.npy')\n",
    "\n",
    "# climate response\n",
    "geoff_sample_df = pd.read_csv('../data_output_large/geoff_sample.csv')\n",
    "f2x = np.load('../data_input_large/fair-samples/f2x_unconstrained.npy')\n",
    "\n",
    "# add in natural emissions and natural forcing\n",
    "ch4_n2o_df = pd.read_csv('../data_output/fair_wg3_natural_ch4_n2o.csv')\n",
    "ch4_n2o = ch4_n2o_df.values[:351,1:]\n",
    "\n",
    "df = pd.read_csv('../data_output/solar_erf.csv', index_col='year')\n",
    "solar_forcing = df.solar_erf.loc[1750:2100].values\n",
    "\n",
    "df = pd.read_csv('../data_output/volcanic_erf.csv', index_col='year')\n",
    "volcanic_forcing = np.zeros((351))\n",
    "volcanic_forcing[:269] = df.volcanic_erf.loc[1750:2018].values\n",
    "# ramp down last 10 years to zero according to https://www.geosci-model-dev.net/9/3461/2016/gmd-9-3461-2016.html\n",
    "volcanic_forcing[268:279] = volcanic_forcing[268] * np.linspace(1,0,11)\n",
    "volcanic_forcing[279:] = 0."
   ]
  },
  {
   "cell_type": "code",
   "execution_count": 61,
   "metadata": {},
   "outputs": [],
   "source": [
    "config_list = []\n",
    "for ens in valid:\n",
    "    scale = np.ones(45)\n",
    "    scale[1:3] = scale_normals[ens,1:3]\n",
    "    scale[3:31] = scale_normals[ens,3]\n",
    "    scale[31:35] = scale_normals[ens,4:8]\n",
    "    scale[41:44] = scale_normals[ens,8:11]\n",
    "    F_solar = np.zeros(351)\n",
    "    F_solar[:270] = np.linspace(0,trend_solar[i],270) + solar_forcing[:270]*scale_normals[i,10]\n",
    "    F_solar[270:351] = trend_solar[i] + solar_forcing[270:351]*scale_normals[i,10]\n",
    "    C_pi=np.zeros(31)\n",
    "    C_pi[1]=731.406\n",
    "    C_pi[2]=273.8651\n",
    "    C_pi[3]=34.05\n",
    "    C_pi[20] = 0.025\n",
    "    C_pi[25]=0.004447\n",
    "    C_pi[29]=5.3\n",
    "    C_pi[30]=457\n",
    "    C_pi[0] = pre_ind_co2[ens]\n",
    "    E_pi=np.zeros(40)\n",
    "    E_pi[5]=1.22002422\n",
    "    E_pi[6]=348.527359\n",
    "    E_pi[7]=60.0218262\n",
    "    E_pi[8]=3.87593407\n",
    "    E_pi[9]=2.09777075\n",
    "    E_pi[10]=15.4476682\n",
    "    E_pi[11]=6.92769009\n",
    "    fair_params = {\n",
    "        'F2x' : f2x[ens],\n",
    "        'r0'  : r0[ens],\n",
    "        'rt'  : rT[ens],\n",
    "        'rc'  : rC[ens],\n",
    "        'lambda_global': -geoff_sample_df.loc[ens, 'lamg'],  # this and the below only used in two-layer model\n",
    "        'ocean_heat_capacity':[geoff_sample_df.loc[ens, 'cmix'], geoff_sample_df.loc[ens, 'cdeep']],\n",
    "        'ocean_heat_exchange':geoff_sample_df.loc[ens, 'gamma_2l'],\n",
    "        'deep_ocean_efficacy':geoff_sample_df.loc[ens,'eff'],\n",
    "        'b_aero': [beta_so2[ens], 0.0, 0.0, 0.0, beta_bc[ens], beta_oc[ens], beta_nh3[ens]],\n",
    "        'ghan_params':[beta[ens], aci_coeffs[ens,0], aci_coeffs[ens, 1]],\n",
    "        'scale':scale.tolist(),\n",
    "        'C_pi':C_pi.tolist(),\n",
    "        'E_pi':E_pi.tolist(),\n",
    "        'ghg_forcing':'Meinshausen',\n",
    "        'aCO2land':0.0006394631886297174,\n",
    "        'F_solar':F_solar.tolist(),\n",
    "        'F_volcanic':volcanic_forcing.tolist(),\n",
    "        'tropO3_forcing': 'thornhill-skeie',\n",
    "        'b_tro3': [beta_ch4[ens], beta_n2o[ens], beta_ods[ens], beta_co[ens], beta_voc[ens], beta_nox[ens]],\n",
    "        'ozone_feedback': ozone_feedback[ens],\n",
    "        'natural': ch4_n2o.tolist(),\n",
    "    }\n",
    "    config_list.append(fair_params)\n",
    "with open('../data_output_large/fair-samples/fair-1.6.2-wg3-params.json', 'w') as filehandle:\n",
    "    json.dump(config_list, filehandle)"
   ]
  },
  {
   "cell_type": "code",
   "execution_count": 62,
   "metadata": {},
   "outputs": [
    {
     "data": {
      "text/plain": [
       "2565"
      ]
     },
     "execution_count": 62,
     "metadata": {},
     "output_type": "execute_result"
    }
   ],
   "source": [
    "len(config_list)"
   ]
  },
  {
   "cell_type": "code",
   "execution_count": null,
   "metadata": {},
   "outputs": [],
   "source": []
  }
 ],
 "metadata": {
  "kernelspec": {
   "display_name": "Python 3",
   "language": "python",
   "name": "python3"
  },
  "language_info": {
   "codemirror_mode": {
    "name": "ipython",
    "version": 3
   },
   "file_extension": ".py",
   "mimetype": "text/x-python",
   "name": "python",
   "nbconvert_exporter": "python",
   "pygments_lexer": "ipython3",
   "version": "3.7.9"
  }
 },
 "nbformat": 4,
 "nbformat_minor": 4
}
