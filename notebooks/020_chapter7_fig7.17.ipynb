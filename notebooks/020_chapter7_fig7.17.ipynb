{
 "cells": [
  {
   "cell_type": "markdown",
   "metadata": {},
   "source": [
    "# Plot fig. 7.17\n",
    "\n",
    "Theme Song: A Map, A String, A Light<br>\n",
    "Artist: Yvette Young<br>\n",
    "Album: Acoustics - EP<br>\n",
    "Released: 2014\n",
    "\n",
    "- figure contact: Masa Watanabe\n",
    "- This notebook should not depend on anything else in the AR6 package (though it does depend on the ERF2xCO2 assessment) so it comes quite early in the sequence."
   ]
  },
  {
   "cell_type": "code",
   "execution_count": 1,
   "metadata": {},
   "outputs": [],
   "source": [
    "import matplotlib.pyplot as pl\n",
    "import numpy as np\n",
    "from numpy import cos, sin\n",
    "import scipy.stats as st\n",
    "from scipy.optimize import minimize\n",
    "import matplotlib"
   ]
  },
  {
   "cell_type": "code",
   "execution_count": 2,
   "metadata": {},
   "outputs": [],
   "source": [
    "pl.rcParams['font.size'] = 7\n",
    "pl.rcParams['font.family'] = 'Arial'\n",
    "pl.rcParams['xtick.direction'] = 'out'"
   ]
  },
  {
   "cell_type": "code",
   "execution_count": 3,
   "metadata": {},
   "outputs": [
    {
     "data": {
      "text/plain": [
       "<matplotlib.collections.PathCollection at 0x7f8f3aff4e10>"
      ]
     },
     "execution_count": 3,
     "metadata": {},
     "output_type": "execute_result"
    },
    {
     "data": {
      "image/png": "[encoded data removed]",
      "text/plain": [
       "<Figure size 432x288 with 1 Axes>"
      ]
     },
     "metadata": {
      "needs_background": "light"
     },
     "output_type": "display_data"
    }
   ],
   "source": [
    "# create distribiutions of (ERF, lambda)\n",
    "mu = {\n",
    "    'CMIP5' : {\n",
    "        'ERF'    : 3.55,\n",
    "        'lambda' : -1.1\n",
    "    },\n",
    "    'Process Assessment': {\n",
    "        #'ERF'    : 3.7,\n",
    "        #'lambda' : -1.37\n",
    "        'ERF'    : 4.00,\n",
    "        'lambda' : -1.23,\n",
    "    }\n",
    "}\n",
    "\n",
    "sigma = {\n",
    "    'CMIP5' : {\n",
    "        'ERF'    : 0.49,\n",
    "        'lambda' : 0.5\n",
    "    },\n",
    "    'Process Assessment' : {\n",
    "#        'ERF'    : 0.3,\n",
    "#        'lambda' : 0.42\n",
    "        'ERF'    : 0.48,\n",
    "        'lambda' : 0.422,\n",
    "    }\n",
    "}\n",
    "\n",
    "\n",
    "# equation of confidence region: from http://www.visiondummy.com/2014/04/draw-error-ellipse-representing-covariance-matrix/\n",
    "# suitable when covariance is zero\n",
    "chi2_crit = st.chi2.ppf(0.95, df=2)\n",
    "theta        = np.linspace(0, 2*np.pi,101)\n",
    "ellipse_x_r  = sigma['CMIP5']['ERF']*np.sqrt(chi2_crit)*cos(theta) + mu['CMIP5']['ERF'];\n",
    "ellipse_y_r  = sigma['CMIP5']['lambda']*np.sqrt(chi2_crit)*sin(theta) + mu['CMIP5']['lambda'];\n",
    "pl.plot(ellipse_x_r, ellipse_y_r, color='k')\n",
    "\n",
    "cmip5 = st.multivariate_normal([mu['CMIP5']['ERF'], mu['CMIP5']['lambda']], np.diag([sigma['CMIP5']['ERF'], sigma['CMIP5']['lambda']])**2)\n",
    "s = cmip5.rvs(size=200)\n",
    "pl.scatter(s[:,0], s[:,1])"
   ]
  },
  {
   "cell_type": "code",
   "execution_count": 4,
   "metadata": {},
   "outputs": [],
   "source": [
    "ERF_CMIP5_Forster2013 = np.array(\n",
    "    [2.98, 3.23, 3.55, 3.84, 3.57, 3.72, 2.59, 3.85, 2.99, 3.09, 3.36, 3.81,\n",
    "     3.78, 2.93, 2.98, 3.1,  2.66, 4.13, 4.26, 4.09, 4.31, 3.25, 3.11])\n",
    "lambda_CMIP5_Forster2013 = -1 * np.array(\n",
    "    [0.78, 1.14, 1.24, 1.04, 1.23, 1.14, 0.63, 0.92, 0.75, 1.29, 1.38, 1.65,\n",
    "     1.79, 0.64, 1.43, 0.75, 1.02, 1.52, 0.91, 1.13, 1.25, 1.25, 1.11])\n",
    "\n",
    "# Reference: https://www.nature.com/articles/s41558-018-0272-0\n",
    "ERF_CMIP5_Watanabe2018 = np.array(\n",
    "    [2.915, 2.86, 3.22, 3.38, 3.77, 3.64, 3.685, 3.765, 2.55,\n",
    "     2.845, 2.965, 3.0, 3.355, 3.77, 3.61, 2.91, 3.015, 3.07,\n",
    "     3.265, 2.625, 4.095, 4.045, 4.045, 4.22, 3.26, 3.095])\n",
    "lambda_CMIP5_Watanabe2018 = np.array(\n",
    "    [-0.75, -0.804, -1.13, -1.153, -1.029, -1.232, -1.13, -1.1, -0.611,\n",
    "     -0.845, -0.744, -1.238, -1.376, -1.6, -1.669, -0.631, -1.46, -0.739,\n",
    "     -0.787, -1.007, -1.501, -1.108, -1.164, -1.215, -1.253, -1.104])\n",
    "ECS_CMIP5_Watanabe2018 = np.array(\n",
    "    [3.887, 3.557, 2.850, 2.931, 3.664, 2.955, 3.261, 3.423, 4.173,\n",
    "     3.367, 3.985, 2.423, 2.438, 2.356, 2.163, 4.612, 2.065, 4.154,\n",
    "     4.149, 2.607, 2.728, 3.651, 3.475, 3.473, 2.602, 2.803])\n",
    "\n",
    "ERF_CMIP6_Zelinka2020 = np.array(\n",
    "    [3.10, 3.01, 4.17, 3.26, 3.30, 3.64, 3.96, 2.97, 3.68,\n",
    "     3.33, 3.31, 3.37, 4.17, 3.19, 3.94, 3.53, 3.49, 2.70,\n",
    "     3.41, 4.11, 3.65, 3.65, 3.43, 3.62, 3.44, 3.89, 3.61]\n",
    "    )\n",
    "lambda_CMIP6_Zelinka2020 = np.array(\n",
    "    [-1.03, -0.92, -1.82, -0.63, -0.71, -0.74, -0.92, -0.62, -0.65,\n",
    "     -0.63, -0.81, -0.78, -1.40, -0.82, -1.45, -1.13, -0.63, -1.48,\n",
    "     -0.75, -1.54, -1.40, -1.22, -1.10, -0.76, -1.34, -1.05, -0.67]\n",
    "    )\n",
    "\n",
    "\n",
    "mu = {\n",
    "    'CMIP5' : {\n",
    "        'ERF'    : np.mean(ERF_CMIP5_Watanabe2018),\n",
    "        'lambda' : np.mean(lambda_CMIP5_Watanabe2018),\n",
    "        'ECS'    : np.mean(ECS_CMIP5_Watanabe2018)\n",
    "    },\n",
    "    'CMIP6' : {\n",
    "        'ERF'    : np.mean(ERF_CMIP6_Zelinka2020),\n",
    "        'lambda' : np.mean(lambda_CMIP6_Zelinka2020)\n",
    "    },\n",
    "    'Process Assessment': {\n",
    "        'ERF'    : 4.00,\n",
    "        'lambda' : -1.1608,\n",
    "    }\n",
    "}\n",
    "\n",
    "sigma = {\n",
    "    'CMIP5' : {\n",
    "        'ERF'    : np.std(ERF_CMIP5_Watanabe2018),\n",
    "        'lambda' : np.std(lambda_CMIP5_Watanabe2018),\n",
    "        'ECS'    : np.std(ECS_CMIP5_Watanabe2018)\n",
    "    },\n",
    "    'CMIP6' : {\n",
    "        'ERF'    : np.std(ERF_CMIP6_Zelinka2020),\n",
    "        'lambda' : np.std(lambda_CMIP6_Zelinka2020)\n",
    "    },\n",
    "    'Process Assessment' : {\n",
    "#        'ERF'    : 0.3,\n",
    "#        'lambda' : 0.42\n",
    "        'ERF'    : 0.304,\n",
    "        'lambda' : 0.396548353,\n",
    "    }\n",
    "}\n",
    "\n",
    "CMIP5_Watanabe2018_cov = np.cov((ERF_CMIP5_Watanabe2018, lambda_CMIP5_Watanabe2018))\n",
    "CMIP6_Zelinka2020_cov = np.cov((ERF_CMIP6_Zelinka2020, lambda_CMIP6_Zelinka2020))\n",
    "\n",
    "# objective: 90% confidence ellipse for joint process assessment distribution\n",
    "# with the same correlation coefficient as for the CMIP5 data\n",
    "\n",
    "corrcoef = np.corrcoef((ERF_CMIP5_Watanabe2018, lambda_CMIP5_Watanabe2018))\n",
    "corrcoef = np.corrcoef((ERF_CMIP6_Zelinka2020, lambda_CMIP6_Zelinka2020))\n",
    "# construct a covariance matrix with the diagonals as the variance of process assessment and the off-diagonals being \n",
    "# rho = cov / sigma(x)sigma(y)\n",
    "# cov = rho * sigma(x)sigma(y)   <---- this!\n",
    "pcov = corrcoef[1,0]*(sigma['Process Assessment']['ERF']*sigma['Process Assessment']['lambda'])\n",
    "process_cov = np.array(([sigma['Process Assessment']['ERF']**2, pcov],[pcov, sigma['Process Assessment']['lambda']**2]))\n",
    "\n",
    "cmip5_uncorrelated = st.multivariate_normal([mu['CMIP5']['ERF'], mu['CMIP5']['lambda']], np.diag([sigma['CMIP5']['ERF'], sigma['CMIP5']['lambda']])**2)\n",
    "cmip5_correlated = st.multivariate_normal([mu['CMIP5']['ERF'], mu['CMIP5']['lambda']], CMIP5_Watanabe2018_cov)\n",
    "cmip5_ecs_dist = st.norm(loc=mu['CMIP5']['ECS'], scale=sigma['CMIP5']['ECS'])\n",
    "process_uncorrelated = st.multivariate_normal([mu['Process Assessment']['ERF'], mu['Process Assessment']['lambda']], np.diag([sigma['Process Assessment']['ERF'], sigma['Process Assessment']['lambda']])**2)\n",
    "process_correlated = st.multivariate_normal([mu['Process Assessment']['ERF'], mu['Process Assessment']['lambda']], process_cov)\n"
   ]
  },
  {
   "cell_type": "code",
   "execution_count": 5,
   "metadata": {},
   "outputs": [
    {
     "data": {
      "text/plain": [
       "(array([6.4000e+01, 1.2900e+02, 2.5900e+02, 5.2300e+02, 1.0180e+03,\n",
       "        1.8530e+03, 3.1640e+03, 5.5960e+03, 8.9010e+03, 1.4019e+04,\n",
       "        2.0286e+04, 2.8165e+04, 3.8145e+04, 4.8499e+04, 5.9823e+04,\n",
       "        6.9796e+04, 7.7717e+04, 8.3257e+04, 8.5643e+04, 8.3070e+04,\n",
       "        7.7222e+04, 6.9024e+04, 5.9007e+04, 4.7667e+04, 3.6896e+04,\n",
       "        2.7264e+04, 1.9279e+04, 1.3106e+04, 8.6300e+03, 5.2260e+03,\n",
       "        3.1230e+03, 1.7380e+03, 9.3200e+02, 5.0500e+02, 2.4100e+02,\n",
       "        1.0800e+02, 4.5000e+01, 1.8000e+01, 1.1000e+01, 0.0000e+00]),\n",
       " array([1.5, 1.6, 1.7, 1.8, 1.9, 2. , 2.1, 2.2, 2.3, 2.4, 2.5, 2.6, 2.7,\n",
       "        2.8, 2.9, 3. , 3.1, 3.2, 3.3, 3.4, 3.5, 3.6, 3.7, 3.8, 3.9, 4. ,\n",
       "        4.1, 4.2, 4.3, 4.4, 4.5, 4.6, 4.7, 4.8, 4.9, 5. , 5.1, 5.2, 5.3,\n",
       "        5.4, 5.5]),\n",
       " <a list of 40 Patch objects>)"
      ]
     },
     "execution_count": 5,
     "metadata": {},
     "output_type": "execute_result"
    },
    {
     "data": {
      "image/png": "[encoded data removed]",
      "text/plain": [
       "<Figure size 432x288 with 1 Axes>"
      ]
     },
     "metadata": {
      "needs_background": "light"
     },
     "output_type": "display_data"
    }
   ],
   "source": [
    "# do marginal PDFs look the same?\n",
    "rv_cor = cmip5_correlated.rvs(size=1000000)\n",
    "rv_unc = cmip5_uncorrelated.rvs(size=1000000)\n",
    "rv_pco = process_correlated.rvs(size=1000000)\n",
    "rv_pun = process_uncorrelated.rvs(size=1000000)\n",
    "\n",
    "pl.hist(rv_cor[:,0], alpha=0.5, bins=np.arange(1.5,5.6,0.1))\n",
    "pl.hist(rv_unc[:,0], alpha=0.5, bins=np.arange(1.5,5.6,0.1))"
   ]
  },
  {
   "cell_type": "code",
   "execution_count": 6,
   "metadata": {},
   "outputs": [
    {
     "name": "stdout",
     "output_type": "stream",
     "text": [
      "[2.24496237 2.51612681 3.06488842 3.93409492 4.89761313]\n",
      "[1.96336367 2.32560261 3.06437246 4.25013871 5.5532616 ]\n",
      "[2.27458133 2.62572644 3.44059521 5.05863884 7.4073191 ]\n",
      "[2.15225189 2.54068005 3.44203815 5.23443481 7.81043516]\n"
     ]
    },
    {
     "data": {
      "image/png": "[encoded data removed]",
      "text/plain": [
       "<Figure size 432x288 with 1 Axes>"
      ]
     },
     "metadata": {
      "needs_background": "light"
     },
     "output_type": "display_data"
    }
   ],
   "source": [
    "ecs_inferred = rv_cor[:,0]/-rv_cor[:,1]\n",
    "ecs_unc_inferred = rv_unc[:,0]/-rv_unc[:,1]\n",
    "ecs_proc_inferred = rv_pco[:,0]/-rv_pco[:,1]\n",
    "ecs_procunc_inferred = rv_pun[:,0]/-rv_pun[:,1]\n",
    "pl.hist(ecs_inferred, bins=np.arange(1.5,5.6,0.1), label='dist. of ERF/lambda', density=True)\n",
    "pl.plot(np.arange(1.5,5.6,0.1), cmip5_ecs_dist.pdf(np.arange(1.5,5.6,0.1)), label='dist of ECS')\n",
    "pl.legend()\n",
    "print ((np.percentile(ecs_inferred, [5,16,50,84,95])))\n",
    "print (np.percentile(ecs_unc_inferred, [5,16,50,84,95]))\n",
    "print (np.percentile(ecs_proc_inferred, [5,16,50,84,95]))\n",
    "print (np.percentile(ecs_procunc_inferred, [5,16,50,84,95]))\n",
    "\n",
    "ppci = np.percentile(ecs_inferred, [5,16,50,84,95])\n",
    "ppui = np.percentile(ecs_unc_inferred, [5,16,50,84,95])\n",
    "ppcp = np.percentile(ecs_proc_inferred, [5,16,50,84,95])\n",
    "ppup = np.percentile(ecs_procunc_inferred, [5,16,50,84,95])"
   ]
  },
  {
   "cell_type": "code",
   "execution_count": 7,
   "metadata": {},
   "outputs": [],
   "source": [
    "def confidence_region(x, y, ntheta=101, conf=0.95, cov=np.eye(2)):\n",
    "    \"calculate x and y points to plot 2D confidence region\"\n",
    "    mean_x = np.mean(x)\n",
    "    mean_y = np.mean(y)\n",
    "    eigval, eigvec = np.linalg.eig(cov)\n",
    "    eigval_max = np.max(eigval)\n",
    "    eigval_min = np.min(eigval)\n",
    "    loc_max = np.argmax(eigval)\n",
    "    loc_min = np.argmin(eigval)\n",
    "    alpha = np.arctan2(eigvec[1,loc_max], eigvec[0,loc_max])\n",
    "    chi2_crit = st.chi2.ppf(conf, df=2)\n",
    "    theta = np.linspace(0, 2*np.pi, ntheta)\n",
    "    a            = np.sqrt(eigval_max)*np.sqrt(chi2_crit)\n",
    "    b            = np.sqrt(eigval_min)*np.sqrt(chi2_crit)\n",
    "    print (a, b)\n",
    "    ellipse_x_r  = a*np.cos(theta)\n",
    "    ellipse_y_r  = b*np.sin(theta)\n",
    "    rotation     = np.array([[np.cos(alpha), np.sin(alpha)],[-np.sin(alpha), np.cos(alpha)]])\n",
    "    r_ellipse    = np.matmul(np.array([ellipse_x_r, ellipse_y_r]).T, rotation)\n",
    "    x_points     = r_ellipse[:,0] + mean_x\n",
    "    y_points     = r_ellipse[:,1] + mean_y\n",
    "    return x_points, y_points"
   ]
  },
  {
   "cell_type": "code",
   "execution_count": 8,
   "metadata": {},
   "outputs": [],
   "source": [
    "def confidence_from_distribution(mu, cov, conf=0.95, ntheta=101):\n",
    "    \"get confidence ellipse from mu and covariance matrices\"\n",
    "    eigval, eigvec = np.linalg.eig(cov)\n",
    "    eigval_max = np.max(eigval)\n",
    "    eigval_min = np.min(eigval)\n",
    "    loc_max = np.argmax(eigval)\n",
    "    loc_min = np.argmin(eigval)\n",
    "    alpha = np.arctan2(eigvec[1,loc_max], eigvec[0,loc_max])\n",
    "    chi2_crit = st.chi2.ppf(conf, df=2)\n",
    "    theta = np.linspace(0, 2*np.pi, ntheta)\n",
    "    a            = np.sqrt(eigval_max)*np.sqrt(chi2_crit)\n",
    "    b            = np.sqrt(eigval_min)*np.sqrt(chi2_crit)\n",
    "    print (a, b)\n",
    "    ellipse_x_r  = a*np.cos(theta)\n",
    "    ellipse_y_r  = b*np.sin(theta)\n",
    "    rotation     = np.array([[np.cos(alpha), np.sin(alpha)],[-np.sin(alpha), np.cos(alpha)]])\n",
    "    r_ellipse    = np.matmul(np.array([ellipse_x_r, ellipse_y_r]).T, rotation)\n",
    "    x_points     = r_ellipse[:,0] + mu[0]\n",
    "    y_points     = r_ellipse[:,1] + mu[1]\n",
    "    return x_points, y_points"
   ]
  },
  {
   "cell_type": "code",
   "execution_count": 9,
   "metadata": {},
   "outputs": [],
   "source": [
    "def ellipse_params(mu, cov, conf=0.95):\n",
    "    \"\"\"Return the a, b and alpha parameters for the ellipse\n",
    "    (x cos alpha + y sin alpha)**2/a**2 + (x sin alpha - y cos alpha)**2/b**2 = 1\n",
    "    \"\"\"\n",
    "    eigval, eigvec = np.linalg.eig(cov)\n",
    "    eigval_max = np.max(eigval)\n",
    "    eigval_min = np.min(eigval)\n",
    "    loc_max = np.argmax(eigval)\n",
    "    loc_min = np.argmin(eigval)\n",
    "    alpha = np.arctan2(eigvec[1,loc_max], eigvec[0,loc_max])\n",
    "    chi2_crit = st.chi2.ppf(conf, df=2)\n",
    "    a            = np.sqrt(eigval_max)*np.sqrt(chi2_crit)\n",
    "    b            = np.sqrt(eigval_min)*np.sqrt(chi2_crit)\n",
    "    return a, b, alpha"
   ]
  },
  {
   "cell_type": "code",
   "execution_count": 10,
   "metadata": {},
   "outputs": [],
   "source": [
    "# ECS values at 5%-95% and one-sigma\n",
    "z95 = st.norm.ppf(0.95)\n",
    "ECS_crit = mu['CMIP5']['ECS'] + sigma['CMIP5']['ECS'] * np.array([-z95, -1., 0., 1., z95])"
   ]
  },
  {
   "cell_type": "code",
   "execution_count": 11,
   "metadata": {},
   "outputs": [],
   "source": [
    "def func(x):\n",
    "    return -cmip5_correlated.pdf([x[0],x[1]])\n",
    "\n",
    "cmip5_correlated_curve_x95 = np.zeros(71)\n",
    "cmip5_correlated_curve_y95 = np.zeros(71)\n",
    "cmip5_correlated_curve_x84 = np.zeros(41)\n",
    "cmip5_correlated_curve_y84 = np.zeros(41)\n",
    "\n",
    "for i, ecs in enumerate(np.linspace(ppci[0],ppci[4],71)):\n",
    "    cons = {'type': 'eq', 'fun': lambda x:  -x[1]*ecs - x[0]}    \n",
    "    cmip5_correlated_curve_x95[i], cmip5_correlated_curve_y95[i] = minimize(func, (3, -1.1), constraints=cons, bounds=((0, None), (None, 0)))['x']\n",
    "\n",
    "for i, ecs in enumerate(np.linspace(ppci[1],ppci[3],41)):\n",
    "    cons = {'type': 'eq', 'fun': lambda x:  -x[1]*ecs - x[0]}    \n",
    "    cmip5_correlated_curve_x84[i], cmip5_correlated_curve_y84[i] = minimize(func, (3, -1.1), constraints=cons, bounds=((0, None), (None, 0)))['x']\n",
    "\n",
    "def func(x):\n",
    "    return -cmip5_uncorrelated.pdf([x[0],x[1]])\n",
    "\n",
    "cmip5_uncorrelated_curve_x95 = np.zeros(71)\n",
    "cmip5_uncorrelated_curve_y95 = np.zeros(71)\n",
    "cmip5_uncorrelated_curve_x84 = np.zeros(41)\n",
    "cmip5_uncorrelated_curve_y84 = np.zeros(41)\n",
    "\n",
    "for i, ecs in enumerate(np.linspace(ppui[0],ppui[4],71)):\n",
    "    cons = {'type': 'eq', 'fun': lambda x:  -x[1]*ecs - x[0]}    \n",
    "    cmip5_uncorrelated_curve_x95[i], cmip5_uncorrelated_curve_y95[i] = minimize(func, (3, -1.1), constraints=cons, bounds=((0, None), (None, 0)))['x']\n",
    "\n",
    "for i, ecs in enumerate(np.linspace(ppui[1],ppui[3],41)):\n",
    "    cons = {'type': 'eq', 'fun': lambda x:  -x[1]*ecs - x[0]}    \n",
    "    cmip5_uncorrelated_curve_x84[i], cmip5_uncorrelated_curve_y84[i] = minimize(func, (3, -1.1), constraints=cons, bounds=((0, None), (None, 0)))['x']\n",
    "\n",
    "def func(x):\n",
    "    return -process_correlated.pdf([x[0],x[1]])\n",
    "\n",
    "process_correlated_curve_x95 = np.zeros(71)\n",
    "process_correlated_curve_y95 = np.zeros(71)\n",
    "process_correlated_curve_x84 = np.zeros(41)\n",
    "process_correlated_curve_y84 = np.zeros(41)\n",
    "\n",
    "for i, ecs in enumerate(np.linspace(ppcp[0],ppcp[4],71)):\n",
    "    cons = {'type': 'eq', 'fun': lambda x:  -x[1]*ecs - x[0]}    \n",
    "    process_correlated_curve_x95[i], process_correlated_curve_y95[i] = minimize(func, (3, -1.1), constraints=cons, bounds=((0, None), (None, 0)))['x']\n",
    "\n",
    "for i, ecs in enumerate(np.linspace(ppcp[1],ppcp[3],41)):\n",
    "    cons = {'type': 'eq', 'fun': lambda x:  -x[1]*ecs - x[0]}    \n",
    "    process_correlated_curve_x84[i], process_correlated_curve_y84[i] = minimize(func, (3, -1.1), constraints=cons, bounds=((0, None), (None, 0)))['x']\n",
    "\n",
    "def func(x):\n",
    "    return -process_uncorrelated.pdf([x[0],x[1]])\n",
    "\n",
    "process_uncorrelated_curve_x95 = np.zeros(71)\n",
    "process_uncorrelated_curve_y95 = np.zeros(71)\n",
    "process_uncorrelated_curve_x84 = np.zeros(41)\n",
    "process_uncorrelated_curve_y84 = np.zeros(41)\n",
    "\n",
    "for i, ecs in enumerate(np.linspace(ppup[0],ppup[4],71)):\n",
    "    cons = {'type': 'eq', 'fun': lambda x:  -x[1]*ecs - x[0]}    \n",
    "    process_uncorrelated_curve_x95[i], process_uncorrelated_curve_y95[i] = minimize(func, (3, -1.1), constraints=cons, bounds=((0, None), (None, 0)))['x']\n",
    "\n",
    "for i, ecs in enumerate(np.linspace(ppup[1],ppup[3],41)):\n",
    "    cons = {'type': 'eq', 'fun': lambda x:  -x[1]*ecs - x[0]}    \n",
    "    process_uncorrelated_curve_x84[i], process_uncorrelated_curve_y84[i] = minimize(func, (3, -1.6), constraints=cons, bounds=((0, None), (None, 0)))['x']\n",
    "    \n",
    "#[ 1.89506535  2.14256085  2.69932929  3.72384317  5.04152611]\n",
    "#[ 1.74610409  2.03949749  2.69861402  3.90524541  5.47669259]"
   ]
  },
  {
   "cell_type": "code",
   "execution_count": 12,
   "metadata": {},
   "outputs": [
    {
     "data": {
      "text/plain": [
       "array([3.91246504, 3.92268934, 3.932132  , 3.94062257, 3.94890328,\n",
       "       3.95647162, 3.96307566, 3.96936467, 3.97517468, 3.98054669,\n",
       "       3.98563149, 3.99027393, 3.99438773, 3.99844013, 4.00224765,\n",
       "       4.00542454, 4.00859162, 4.01153546, 4.014273  , 4.01681968,\n",
       "       4.01918965, 4.02139587, 4.02345022, 4.02536377, 4.02714679,\n",
       "       4.02897577, 4.03035679, 4.03179265, 4.03314365, 4.03439621,\n",
       "       4.03556277, 4.03664951, 4.03766265, 4.03860662, 4.03964698,\n",
       "       4.0403184 , 4.04085987, 4.04176642, 4.04234717, 4.04303216,\n",
       "       4.04357511])"
      ]
     },
     "execution_count": 12,
     "metadata": {},
     "output_type": "execute_result"
    }
   ],
   "source": [
    "process_uncorrelated_curve_x84"
   ]
  },
  {
   "cell_type": "code",
   "execution_count": 13,
   "metadata": {},
   "outputs": [],
   "source": [
    "def intersect_params(a, b, alpha, m, c, e, f):\n",
    "    \"Find where the line y=mx+c intercepts the ellipse parameterised by a, b and alpha, offset by e and f.\"\n",
    "    d = c + (e*m - f)\n",
    "    A = b**2 * (cos(alpha)**2 + 2*m*cos(alpha)*sin(alpha) + m**2 * sin(alpha)**2) + a**2 * (m**2*cos(alpha)**2 - 2*m*cos(alpha)*sin(alpha) + sin(alpha)**2)\n",
    "    B = 2*b**2*d*(cos(alpha)*sin(alpha)+m*sin(alpha)**2) + 2*a**2*d*(m*cos(alpha)-cos(alpha)*sin(alpha))\n",
    "    C = d**2*(b**2*sin(alpha)**2 + a**2*cos(alpha)**2) - a**2*b**2\n",
    "    x1 = (-B + np.sqrt(B**2 - 4*A*C))/(2*A)\n",
    "    x2 = (-B - np.sqrt(B**2 - 4*A*C))/(2*A)\n",
    "    return np.array([[x1 + e, m*(x1+e)+c], [x2 + e, m*(x2+e)+c]])"
   ]
  },
  {
   "cell_type": "code",
   "execution_count": 14,
   "metadata": {},
   "outputs": [
    {
     "name": "stdout",
     "output_type": "stream",
     "text": [
      "-3.0646582100070474 3.221230769230769\n"
     ]
    }
   ],
   "source": [
    "print (mu['CMIP5']['ERF']/mu['CMIP5']['lambda'], mu['CMIP5']['ECS'])"
   ]
  },
  {
   "cell_type": "code",
   "execution_count": 15,
   "metadata": {},
   "outputs": [],
   "source": [
    "mu_x = mu['CMIP5']['ERF']\n",
    "mu_y = mu['CMIP5']['lambda']\n",
    "point = np.arange(0.05, 0.50, 0.01)\n",
    "\n",
    "r1 = np.zeros((91,2))\n",
    "r2 = np.zeros((91,2))\n",
    "for i, ip in enumerate(point):\n",
    "    z = st.norm.ppf(ip)\n",
    "    ECS = mu['CMIP5']['ECS'] + sigma['CMIP5']['ECS']*z\n",
    "    conf = 1-ip*2.0\n",
    "    a, b, alpha = ellipse_params([mu_x, mu_y],\n",
    "                                 np.diag([sigma['CMIP5']['ERF'], sigma['CMIP5']['lambda']])**2,\n",
    "                                 conf=conf)\n",
    "    m = -1/ECS\n",
    "    r1[i,:], r2[i,:] = intersect_params(a, b, alpha, m, 0, mu_x, mu_y)\n",
    "point = np.arange(0.51, 0.96, 0.01)\n",
    "for i, ip in enumerate(point):\n",
    "    z = st.norm.ppf(ip)\n",
    "    ECS = mu['CMIP5']['ECS'] + sigma['CMIP5']['ECS']*z\n",
    "    conf = ip*2.0-1\n",
    "    a, b, alpha = ellipse_params([mu_x, mu_y],\n",
    "                                 np.diag([sigma['CMIP5']['ERF'], sigma['CMIP5']['lambda']])**2,\n",
    "                                 conf=conf)\n",
    "    m = -1/ECS\n",
    "    r1[i+46,:], r2[i+46,:] = intersect_params(a, b, alpha, m, 0, mu_x, mu_y)\n",
    "r1[45,:] = [mu_x, mu_y]\n",
    "r2[45,:] = [mu_x, mu_y]\n",
    "#print r1, r2#, ECS, z, conf"
   ]
  },
  {
   "cell_type": "code",
   "execution_count": 16,
   "metadata": {},
   "outputs": [
    {
     "name": "stdout",
     "output_type": "stream",
     "text": [
      "0.9258649759750792 0.5408615458956556\n"
     ]
    },
    {
     "data": {
      "image/png": "[encoded data removed]",
      "text/plain": [
       "<Figure size 255.118x255.118 with 6 Axes>"
      ]
     },
     "metadata": {
      "needs_background": "light"
     },
     "output_type": "display_data"
    }
   ],
   "source": [
    "from matplotlib import rc\n",
    "from matplotlib.ticker import NullFormatter\n",
    "\n",
    "fig = pl.figure(figsize=(9/2.54,9/2.54))\n",
    "\n",
    "# definitions for the axes\n",
    "left, width = 0.15, 0.54\n",
    "bottom, height = 0.11, 0.56\n",
    "left_h = left + width + 0.03\n",
    "bottom_h = bottom + height + 0.03\n",
    "\n",
    "x = np.arange(3.25,4.76,0.01)\n",
    "y = np.arange(-2.25,-0.24,0.01)\n",
    "\n",
    "rect_joint = [left, bottom, width, height]\n",
    "rect_marginal_ERF = [left, bottom_h, width, 0.80-height]\n",
    "rect_marginal_lambda = [left_h, bottom, 0.83-width, height]\n",
    "\n",
    "ax_joint = pl.axes(rect_joint)\n",
    "ax_marginal_ERF = pl.axes(rect_marginal_ERF)\n",
    "ax_marginal_lambda = pl.axes(rect_marginal_lambda)\n",
    "\n",
    "# top plot\n",
    "marginal_pdf_process_ERF = st.norm.pdf(x, loc=mu['Process Assessment']['ERF'], scale=sigma['Process Assessment']['ERF'])\n",
    "ax_marginal_ERF.plot(x, marginal_pdf_process_ERF, color='black', lw=0.8)\n",
    "\n",
    "# right plot\n",
    "marginal_pdf_process_lambda = st.norm.pdf(y, loc=mu['Process Assessment']['lambda'], scale=sigma['Process Assessment']['lambda'])\n",
    "ax_marginal_lambda.plot(marginal_pdf_process_lambda, y, color='black', lw=0.8)\n",
    "\n",
    "# centre plot\n",
    "X,Y = np.meshgrid(x,y)\n",
    "Z = -X/Y\n",
    "\n",
    "cf = ax_joint.contourf(X,Y,Z, levels=[1.5,2.5,3.5,4.5,6], extend='both', cmap=pl.cm.YlOrRd)\n",
    "cbax = pl.axes([left_h, bottom_h+0.01, 0.26, 0.2])\n",
    "cb = pl.colorbar(cf, ax=cbax, orientation='horizontal', fraction=0.5, aspect=7.5, extendfrac=0.1, extendrect=True)\n",
    "cbax.axis('off')\n",
    "cb.set_label('ECS, $^{\\circ}$C', labelpad=-0.2)\n",
    "#cb.tick_params()\n",
    "cb.ax.tick_params(length=0)\n",
    "\n",
    "# get confidence ellipse points\n",
    "chi2_crit = st.chi2.ppf(0.90, df=2)\n",
    "theta        = np.linspace(0, 2*np.pi,101)\n",
    "joint_pdf_process_x  = sigma['Process Assessment']['ERF']*np.sqrt(chi2_crit)*np.cos(theta) + mu['Process Assessment']['ERF'];\n",
    "joint_pdf_process_y  = sigma['Process Assessment']['lambda']*np.sqrt(chi2_crit)*np.sin(theta) + mu['Process Assessment']['lambda'];\n",
    "\n",
    "joint_pdf_process_dist_correlated_x, joint_pdf_process_dist_correlated_y = confidence_from_distribution(\n",
    "    [mu['Process Assessment']['ERF'], mu['Process Assessment']['lambda']], process_cov, conf=0.90)\n",
    "\n",
    "h_process_dist = ax_joint.plot(\n",
    "    joint_pdf_process_x,\n",
    "    joint_pdf_process_y,\n",
    "    color='red',\n",
    "    label='Process Assessment (uncorrelated)',\n",
    "    zorder=14.5,\n",
    "    lw=1.6,\n",
    ")\n",
    "h_process_dist_correlated = ax_joint.plot(\n",
    "    joint_pdf_process_dist_correlated_x,\n",
    "    joint_pdf_process_dist_correlated_y,\n",
    "    color='salmon',\n",
    "    label='Process Assessment (correlated)',\n",
    "    zorder=14,\n",
    "    lw=0.8,\n",
    ")\n",
    "\n",
    "# limits and labels\n",
    "ax_joint.set_xlim(x[0], x[-1])\n",
    "ax_joint.set_ylim(y[0], y[-1])\n",
    "ax_marginal_lambda.set_xlim(0, ax_marginal_lambda.get_xlim()[1])\n",
    "ax_marginal_lambda.set_ylim(y[0], y[-1])\n",
    "ax_marginal_ERF.set_xlim(x[0], x[-1])\n",
    "ax_marginal_ERF.set_ylim(0, ax_marginal_ERF.get_ylim()[1])\n",
    "ax_marginal_lambda.set_xlabel('Probability density')\n",
    "ax_marginal_ERF.set_ylabel('Probability density')\n",
    "ax_joint.set_xlabel(r'Effective radiative forcing from 2$\\times$CO$_2$ (W m$^{-2}$)')\n",
    "ax_joint.set_ylabel(r'Climate feedback parameter (W m$^{-2}$ $^{\\circ}$C$^{-1}$)')\n",
    "\n",
    "# spines off\n",
    "ax_marginal_ERF.spines['right'].set_visible(False)\n",
    "ax_marginal_ERF.spines['top'].set_visible(False)\n",
    "ax_marginal_lambda.spines['right'].set_visible(False)\n",
    "ax_marginal_lambda.spines['top'].set_visible(False)\n",
    "\n",
    "# legend and annotation\n",
    "handles, labels = ax_joint.get_legend_handles_labels()\n",
    "order=[0,1,2]\n",
    "\n",
    "# no tick labels on marginals\n",
    "nullfmt = NullFormatter()\n",
    "ax_marginal_ERF.xaxis.set_major_formatter(nullfmt)\n",
    "ax_marginal_ERF.yaxis.set_major_formatter(nullfmt)\n",
    "ax_marginal_ERF.set_yticks([])\n",
    "ax_marginal_lambda.yaxis.set_major_formatter(nullfmt)\n",
    "ax_marginal_lambda.xaxis.set_major_formatter(nullfmt)\n",
    "ax_marginal_lambda.set_xticks([])\n",
    "\n",
    "# plot CMIP5 model mean - this is correct\n",
    "ax_joint.scatter(\n",
    "    mu['Process Assessment']['ERF'],\n",
    "    mu['Process Assessment']['lambda'],\n",
    "    s=25,\n",
    "    color='white',\n",
    "    marker='o',\n",
    "    zorder=16, \n",
    "    edgecolor='k',\n",
    "    lw=1\n",
    ")#, linestyle=':')\n",
    "ax_joint.plot(process_correlated_curve_x95, process_correlated_curve_y95, color='salmon', lw=1.6, zorder=11, solid_capstyle='butt')\n",
    "ax_joint.plot(process_correlated_curve_x84, process_correlated_curve_y84, color='salmon', lw=5, zorder=11, solid_capstyle='butt')\n",
    "ax_joint.plot(process_uncorrelated_curve_x95, process_uncorrelated_curve_y95, color='red', lw=1.6, zorder=12, solid_capstyle='butt')\n",
    "ax_joint.plot(process_uncorrelated_curve_x84, process_uncorrelated_curve_y84, color='red', lw=5, zorder=12, solid_capstyle='butt')\n",
    "ax_joint.text(process_uncorrelated_curve_x95[0]+0.03, process_uncorrelated_curve_y95[0]-0.03, '%4.2f'%ppup[0])\n",
    "ax_joint.text(process_uncorrelated_curve_x84[0]-0.18, process_uncorrelated_curve_y84[0]-0.01, '%4.2f'%ppup[1])\n",
    "ax_joint.text(mu['Process Assessment']['ERF']+0.06, mu['Process Assessment']['lambda']-0.04, '%4.2f$^{\\circ}$C'%ppup[2])\n",
    "ax_joint.text(process_uncorrelated_curve_x84[-1]+0.05, process_uncorrelated_curve_y84[-1]-0.02, '%4.2f'%ppup[3], color='w')\n",
    "ax_joint.text(process_uncorrelated_curve_x95[-1]-0.16, process_uncorrelated_curve_y95[-1]-0.02, '%4.2f'%ppup[4], color='w')\n",
    "\n",
    "# dummy legend for ECS confidence range\n",
    "lgax = pl.axes([left_h, bottom_h+0.13, 0.26, 0.1])\n",
    "lgax.plot((2.3, 3.2), (-2.1, -2.1), color='gray', lw=1.6)\n",
    "lgax.plot((2.5, 3.0), (-2.1, -2.1), color='gray', lw=5, solid_capstyle='butt')\n",
    "lgax.scatter(2.75, -2.1, s=25, color='white', marker='o', edgecolor='k', lw=1, zorder=16)\n",
    "lgax.text(2.3, -1.98, '5', ha='center', va='center')\n",
    "lgax.text(2.5, -1.98, '16', ha='center', va='center')\n",
    "lgax.text(2.75, -1.98, '50', ha='center', va='center')\n",
    "lgax.text(3.0, -1.98, '84', ha='center', va='center')\n",
    "lgax.text(3.2, -1.98, '95', ha='center', va='center')\n",
    "lgax.text(2.75, -1.85, 'ECS distribution quantile', ha='center', va='center')\n",
    "lgax.set_xlim(2.25,3.25)\n",
    "lgax.set_ylim(-2.2,-1.8)\n",
    "lgax.axis('off')\n",
    "\n",
    "ax_joint.set_xticks(np.arange(np.min(x),np.max(x)+0.01,0.25))\n",
    "ax_marginal_ERF.set_xticks(np.arange(np.min(x),np.max(x)+0.01,0.25))\n",
    "\n",
    "ax_joint.text(4.00, -2.22, 'Process assessment 5-95% ranges', va='bottom', ha='center')\n",
    "ax_joint.text(3.27,-2.11,'Uncorrelated', color='red', va='bottom', ha='left')\n",
    "ax_joint.text(4.73,-2.11,'Correlated', color='salmon', va='bottom', ha='right')\n",
    "\n",
    "#pl.figtext(0.5,0.974,'Process assessment of Equilibrium Climate Sensitivity (ECS)', ha='center')\n",
    "pl.suptitle('Process assessment of Equilibrium Climate Sensitivity (ECS)')\n",
    "\n",
    "xdum = np.linspace(2.75,5.25)\n",
    "\n",
    "#fig.tight_layout(rect=[0.1,0,1,1])\n",
    "pl.savefig('../figures/fig7.17.png', dpi=300)\n",
    "pl.savefig('../figures/fig7.17.pdf')"
   ]
  },
  {
   "cell_type": "code",
   "execution_count": null,
   "metadata": {},
   "outputs": [],
   "source": []
  }
 ],
 "metadata": {
  "kernelspec": {
   "display_name": "Python 2",
   "language": "python",
   "name": "python2"
  },
  "language_info": {
   "codemirror_mode": {
    "name": "ipython",
    "version": 3
   },
   "file_extension": ".py",
   "mimetype": "text/x-python",
   "name": "python",
   "nbconvert_exporter": "python",
   "pygments_lexer": "ipython3",
   "version": "3.7.9"
  }
 },
 "nbformat": 4,
 "nbformat_minor": 2
}
