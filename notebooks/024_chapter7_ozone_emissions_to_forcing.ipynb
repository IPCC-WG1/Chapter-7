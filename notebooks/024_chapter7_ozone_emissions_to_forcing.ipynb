{
 "cells": [
  {
   "cell_type": "markdown",
   "metadata": {},
   "source": [
    "# Correspondence of precursor emissions to ozone forcing\n",
    "\n",
    "In AR6, we do not separate tropospheric and stratospheric ozone.\n",
    "\n",
    "Coefficients provided by AerChemMIP models contributing to Thornhill et al. 2020, and historical time series from Skeie et al. 2020.\n",
    "\n",
    "Once this is tuned, update FaIR (may need 1.6.2 release)"
   ]
  },
  {
   "cell_type": "code",
   "execution_count": 1,
   "metadata": {},
   "outputs": [],
   "source": [
    "import fair\n",
    "import numpy as np\n",
    "import pandas as pd\n",
    "import matplotlib.pyplot as pl\n",
    "from fair.constants import molwt\n",
    "from fair.forcing.ozone_tr import stevenson\n",
    "from scipy.interpolate import interp1d\n",
    "from scipy.optimize import curve_fit\n",
    "\n",
    "from ar6.forcing.ozone import eesc"
   ]
  },
  {
   "cell_type": "markdown",
   "metadata": {},
   "source": [
    "## Tropospheric ozone\n",
    "\n",
    "Follow Skeie et al., 2020 exclusively for the historical (1850-2010)"
   ]
  },
  {
   "cell_type": "code",
   "execution_count": 2,
   "metadata": {},
   "outputs": [],
   "source": [
    "good_models = ['BCC-ESM1', 'CESM2(WACCM6)', 'GFDL-ESM4', 'GISS-E2-1-H', 'MRI-ESM2-0', 'OsloCTM3']\n",
    "skeie_trop = pd.read_csv('../data_input/skeie_ozone_trop.csv', index_col=0)\n",
    "skeie_trop = skeie_trop.loc[good_models]\n",
    "skeie_trop.insert(0, 1850, 0)\n",
    "skeie_trop.columns = pd.to_numeric(skeie_trop.columns)\n",
    "skeie_trop.interpolate(axis=1, method='values', limit_area='inside', inplace=True)\n",
    "#skeie_trop.insert(0, 1750, -0.03)\n",
    "#skeie_trop_post2010 = skeie_trop.loc['OsloCTM3',[2014,2017,2020]]-skeie_trop.loc['OsloCTM3', 2010]\n",
    "#skeie_trop.loc[:,[2014,2017,2020]] = skeie_trop.loc[:,2010:2010].values + skeie_trop_post2010.values[None,:]\n",
    "#skeie_trop = skeie_trop + 0.03"
   ]
  },
  {
   "cell_type": "code",
   "execution_count": 3,
   "metadata": {},
   "outputs": [
    {
     "data": {
      "text/html": [
       "<div>\n",
       "<style scoped>\n",
       "    .dataframe tbody tr th:only-of-type {\n",
       "        vertical-align: middle;\n",
       "    }\n",
       "\n",
       "    .dataframe tbody tr th {\n",
       "        vertical-align: top;\n",
       "    }\n",
       "\n",
       "    .dataframe thead th {\n",
       "        text-align: right;\n",
       "    }\n",
       "</style>\n",
       "<table border=\"1\" class=\"dataframe\">\n",
       "  <thead>\n",
       "    <tr style=\"text-align: right;\">\n",
       "      <th></th>\n",
       "      <th>1850</th>\n",
       "      <th>1920</th>\n",
       "      <th>1930</th>\n",
       "      <th>1940</th>\n",
       "      <th>1950</th>\n",
       "      <th>1960</th>\n",
       "      <th>1970</th>\n",
       "      <th>1980</th>\n",
       "      <th>1990</th>\n",
       "      <th>2000</th>\n",
       "      <th>2007</th>\n",
       "      <th>2010</th>\n",
       "      <th>2014</th>\n",
       "      <th>2017</th>\n",
       "      <th>2020</th>\n",
       "    </tr>\n",
       "    <tr>\n",
       "      <th>Model</th>\n",
       "      <th></th>\n",
       "      <th></th>\n",
       "      <th></th>\n",
       "      <th></th>\n",
       "      <th></th>\n",
       "      <th></th>\n",
       "      <th></th>\n",
       "      <th></th>\n",
       "      <th></th>\n",
       "      <th></th>\n",
       "      <th></th>\n",
       "      <th></th>\n",
       "      <th></th>\n",
       "      <th></th>\n",
       "      <th></th>\n",
       "    </tr>\n",
       "  </thead>\n",
       "  <tbody>\n",
       "    <tr>\n",
       "      <th>BCC-ESM1</th>\n",
       "      <td>0.0</td>\n",
       "      <td>0.05020</td>\n",
       "      <td>0.06650</td>\n",
       "      <td>0.07970</td>\n",
       "      <td>0.1030</td>\n",
       "      <td>0.14860</td>\n",
       "      <td>0.2012</td>\n",
       "      <td>0.2367</td>\n",
       "      <td>0.2643</td>\n",
       "      <td>0.3086</td>\n",
       "      <td>0.3347</td>\n",
       "      <td>0.3404</td>\n",
       "      <td>NaN</td>\n",
       "      <td>NaN</td>\n",
       "      <td>NaN</td>\n",
       "    </tr>\n",
       "    <tr>\n",
       "      <th>CESM2(WACCM6)</th>\n",
       "      <td>0.0</td>\n",
       "      <td>0.04420</td>\n",
       "      <td>0.05930</td>\n",
       "      <td>0.08410</td>\n",
       "      <td>0.1003</td>\n",
       "      <td>0.14520</td>\n",
       "      <td>0.1939</td>\n",
       "      <td>0.2350</td>\n",
       "      <td>0.2822</td>\n",
       "      <td>0.3318</td>\n",
       "      <td>0.3518</td>\n",
       "      <td>0.3711</td>\n",
       "      <td>NaN</td>\n",
       "      <td>NaN</td>\n",
       "      <td>NaN</td>\n",
       "    </tr>\n",
       "    <tr>\n",
       "      <th>GFDL-ESM4</th>\n",
       "      <td>0.0</td>\n",
       "      <td>0.05220</td>\n",
       "      <td>0.06250</td>\n",
       "      <td>0.08600</td>\n",
       "      <td>0.1096</td>\n",
       "      <td>0.16210</td>\n",
       "      <td>0.2113</td>\n",
       "      <td>0.2463</td>\n",
       "      <td>0.2733</td>\n",
       "      <td>0.3116</td>\n",
       "      <td>0.3280</td>\n",
       "      <td>0.3392</td>\n",
       "      <td>NaN</td>\n",
       "      <td>NaN</td>\n",
       "      <td>NaN</td>\n",
       "    </tr>\n",
       "    <tr>\n",
       "      <th>GISS-E2-1-H</th>\n",
       "      <td>0.0</td>\n",
       "      <td>0.04930</td>\n",
       "      <td>0.06740</td>\n",
       "      <td>0.07670</td>\n",
       "      <td>0.1137</td>\n",
       "      <td>0.14790</td>\n",
       "      <td>0.1850</td>\n",
       "      <td>0.2209</td>\n",
       "      <td>0.2684</td>\n",
       "      <td>0.3266</td>\n",
       "      <td>0.3593</td>\n",
       "      <td>0.3660</td>\n",
       "      <td>NaN</td>\n",
       "      <td>NaN</td>\n",
       "      <td>NaN</td>\n",
       "    </tr>\n",
       "    <tr>\n",
       "      <th>MRI-ESM2-0</th>\n",
       "      <td>0.0</td>\n",
       "      <td>0.05700</td>\n",
       "      <td>0.07230</td>\n",
       "      <td>0.08570</td>\n",
       "      <td>0.1096</td>\n",
       "      <td>0.15920</td>\n",
       "      <td>0.2159</td>\n",
       "      <td>0.2661</td>\n",
       "      <td>0.3122</td>\n",
       "      <td>0.3320</td>\n",
       "      <td>0.3397</td>\n",
       "      <td>0.3448</td>\n",
       "      <td>NaN</td>\n",
       "      <td>NaN</td>\n",
       "      <td>NaN</td>\n",
       "    </tr>\n",
       "    <tr>\n",
       "      <th>OsloCTM3</th>\n",
       "      <td>0.0</td>\n",
       "      <td>0.08204</td>\n",
       "      <td>0.09376</td>\n",
       "      <td>0.10548</td>\n",
       "      <td>0.1172</td>\n",
       "      <td>0.17065</td>\n",
       "      <td>0.2241</td>\n",
       "      <td>0.2777</td>\n",
       "      <td>0.3173</td>\n",
       "      <td>0.3527</td>\n",
       "      <td>0.3987</td>\n",
       "      <td>0.4047</td>\n",
       "      <td>0.4209</td>\n",
       "      <td>0.4117</td>\n",
       "      <td>0.4274</td>\n",
       "    </tr>\n",
       "  </tbody>\n",
       "</table>\n",
       "</div>"
      ],
      "text/plain": [
       "               1850     1920     1930     1940    1950     1960    1970  \\\n",
       "Model                                                                     \n",
       "BCC-ESM1        0.0  0.05020  0.06650  0.07970  0.1030  0.14860  0.2012   \n",
       "CESM2(WACCM6)   0.0  0.04420  0.05930  0.08410  0.1003  0.14520  0.1939   \n",
       "GFDL-ESM4       0.0  0.05220  0.06250  0.08600  0.1096  0.16210  0.2113   \n",
       "GISS-E2-1-H     0.0  0.04930  0.06740  0.07670  0.1137  0.14790  0.1850   \n",
       "MRI-ESM2-0      0.0  0.05700  0.07230  0.08570  0.1096  0.15920  0.2159   \n",
       "OsloCTM3        0.0  0.08204  0.09376  0.10548  0.1172  0.17065  0.2241   \n",
       "\n",
       "                 1980    1990    2000    2007    2010    2014    2017    2020  \n",
       "Model                                                                          \n",
       "BCC-ESM1       0.2367  0.2643  0.3086  0.3347  0.3404     NaN     NaN     NaN  \n",
       "CESM2(WACCM6)  0.2350  0.2822  0.3318  0.3518  0.3711     NaN     NaN     NaN  \n",
       "GFDL-ESM4      0.2463  0.2733  0.3116  0.3280  0.3392     NaN     NaN     NaN  \n",
       "GISS-E2-1-H    0.2209  0.2684  0.3266  0.3593  0.3660     NaN     NaN     NaN  \n",
       "MRI-ESM2-0     0.2661  0.3122  0.3320  0.3397  0.3448     NaN     NaN     NaN  \n",
       "OsloCTM3       0.2777  0.3173  0.3527  0.3987  0.4047  0.4209  0.4117  0.4274  "
      ]
     },
     "execution_count": 3,
     "metadata": {},
     "output_type": "execute_result"
    }
   ],
   "source": [
    "skeie_trop"
   ]
  },
  {
   "cell_type": "code",
   "execution_count": 4,
   "metadata": {},
   "outputs": [
    {
     "data": {
      "text/html": [
       "<div>\n",
       "<style scoped>\n",
       "    .dataframe tbody tr th:only-of-type {\n",
       "        vertical-align: middle;\n",
       "    }\n",
       "\n",
       "    .dataframe tbody tr th {\n",
       "        vertical-align: top;\n",
       "    }\n",
       "\n",
       "    .dataframe thead th {\n",
       "        text-align: right;\n",
       "    }\n",
       "</style>\n",
       "<table border=\"1\" class=\"dataframe\">\n",
       "  <thead>\n",
       "    <tr style=\"text-align: right;\">\n",
       "      <th></th>\n",
       "      <th>1850</th>\n",
       "      <th>1920</th>\n",
       "      <th>1930</th>\n",
       "      <th>1940</th>\n",
       "      <th>1950</th>\n",
       "      <th>1960</th>\n",
       "      <th>1970</th>\n",
       "      <th>1980</th>\n",
       "      <th>1990</th>\n",
       "      <th>2000</th>\n",
       "      <th>2007</th>\n",
       "      <th>2010</th>\n",
       "      <th>2014</th>\n",
       "      <th>2017</th>\n",
       "      <th>2020</th>\n",
       "    </tr>\n",
       "    <tr>\n",
       "      <th>Model</th>\n",
       "      <th></th>\n",
       "      <th></th>\n",
       "      <th></th>\n",
       "      <th></th>\n",
       "      <th></th>\n",
       "      <th></th>\n",
       "      <th></th>\n",
       "      <th></th>\n",
       "      <th></th>\n",
       "      <th></th>\n",
       "      <th></th>\n",
       "      <th></th>\n",
       "      <th></th>\n",
       "      <th></th>\n",
       "      <th></th>\n",
       "    </tr>\n",
       "  </thead>\n",
       "  <tbody>\n",
       "    <tr>\n",
       "      <th>BCC-ESM1</th>\n",
       "      <td>0.0</td>\n",
       "      <td>0.00760</td>\n",
       "      <td>0.0092</td>\n",
       "      <td>0.01430</td>\n",
       "      <td>0.0239</td>\n",
       "      <td>0.03590</td>\n",
       "      <td>0.0496</td>\n",
       "      <td>0.0367</td>\n",
       "      <td>0.0085</td>\n",
       "      <td>0.0147</td>\n",
       "      <td>0.0189</td>\n",
       "      <td>0.0207</td>\n",
       "      <td>NaN</td>\n",
       "      <td>NaN</td>\n",
       "      <td>NaN</td>\n",
       "    </tr>\n",
       "    <tr>\n",
       "      <th>CESM2(WACCM6)</th>\n",
       "      <td>0.0</td>\n",
       "      <td>0.02020</td>\n",
       "      <td>0.0221</td>\n",
       "      <td>0.04000</td>\n",
       "      <td>0.0346</td>\n",
       "      <td>0.04460</td>\n",
       "      <td>0.0533</td>\n",
       "      <td>0.0530</td>\n",
       "      <td>0.0282</td>\n",
       "      <td>0.0468</td>\n",
       "      <td>0.0456</td>\n",
       "      <td>0.0578</td>\n",
       "      <td>NaN</td>\n",
       "      <td>NaN</td>\n",
       "      <td>NaN</td>\n",
       "    </tr>\n",
       "    <tr>\n",
       "      <th>GFDL-ESM4</th>\n",
       "      <td>0.0</td>\n",
       "      <td>0.01380</td>\n",
       "      <td>0.0126</td>\n",
       "      <td>0.02260</td>\n",
       "      <td>0.0315</td>\n",
       "      <td>0.03600</td>\n",
       "      <td>0.0331</td>\n",
       "      <td>0.0145</td>\n",
       "      <td>-0.0397</td>\n",
       "      <td>-0.0209</td>\n",
       "      <td>-0.0206</td>\n",
       "      <td>-0.0170</td>\n",
       "      <td>NaN</td>\n",
       "      <td>NaN</td>\n",
       "      <td>NaN</td>\n",
       "    </tr>\n",
       "    <tr>\n",
       "      <th>GISS-E2-1-H</th>\n",
       "      <td>0.0</td>\n",
       "      <td>0.01820</td>\n",
       "      <td>0.0122</td>\n",
       "      <td>-0.00030</td>\n",
       "      <td>0.0248</td>\n",
       "      <td>0.02330</td>\n",
       "      <td>0.0321</td>\n",
       "      <td>0.0913</td>\n",
       "      <td>0.1171</td>\n",
       "      <td>0.0737</td>\n",
       "      <td>0.0776</td>\n",
       "      <td>0.0898</td>\n",
       "      <td>NaN</td>\n",
       "      <td>NaN</td>\n",
       "      <td>NaN</td>\n",
       "    </tr>\n",
       "    <tr>\n",
       "      <th>MRI-ESM2-0</th>\n",
       "      <td>0.0</td>\n",
       "      <td>0.00720</td>\n",
       "      <td>0.0144</td>\n",
       "      <td>0.01230</td>\n",
       "      <td>0.0198</td>\n",
       "      <td>0.03200</td>\n",
       "      <td>0.0570</td>\n",
       "      <td>0.0668</td>\n",
       "      <td>0.0618</td>\n",
       "      <td>0.0474</td>\n",
       "      <td>0.0403</td>\n",
       "      <td>0.0411</td>\n",
       "      <td>NaN</td>\n",
       "      <td>NaN</td>\n",
       "      <td>NaN</td>\n",
       "    </tr>\n",
       "    <tr>\n",
       "      <th>OsloCTM3</th>\n",
       "      <td>0.0</td>\n",
       "      <td>0.02485</td>\n",
       "      <td>0.0284</td>\n",
       "      <td>0.03195</td>\n",
       "      <td>0.0355</td>\n",
       "      <td>0.04535</td>\n",
       "      <td>0.0552</td>\n",
       "      <td>0.0710</td>\n",
       "      <td>0.0819</td>\n",
       "      <td>0.0876</td>\n",
       "      <td>0.1102</td>\n",
       "      <td>0.1198</td>\n",
       "      <td>0.1318</td>\n",
       "      <td>0.1294</td>\n",
       "      <td>0.1359</td>\n",
       "    </tr>\n",
       "  </tbody>\n",
       "</table>\n",
       "</div>"
      ],
      "text/plain": [
       "               1850     1920    1930     1940    1950     1960    1970  \\\n",
       "Model                                                                    \n",
       "BCC-ESM1        0.0  0.00760  0.0092  0.01430  0.0239  0.03590  0.0496   \n",
       "CESM2(WACCM6)   0.0  0.02020  0.0221  0.04000  0.0346  0.04460  0.0533   \n",
       "GFDL-ESM4       0.0  0.01380  0.0126  0.02260  0.0315  0.03600  0.0331   \n",
       "GISS-E2-1-H     0.0  0.01820  0.0122 -0.00030  0.0248  0.02330  0.0321   \n",
       "MRI-ESM2-0      0.0  0.00720  0.0144  0.01230  0.0198  0.03200  0.0570   \n",
       "OsloCTM3        0.0  0.02485  0.0284  0.03195  0.0355  0.04535  0.0552   \n",
       "\n",
       "                 1980    1990    2000    2007    2010    2014    2017    2020  \n",
       "Model                                                                          \n",
       "BCC-ESM1       0.0367  0.0085  0.0147  0.0189  0.0207     NaN     NaN     NaN  \n",
       "CESM2(WACCM6)  0.0530  0.0282  0.0468  0.0456  0.0578     NaN     NaN     NaN  \n",
       "GFDL-ESM4      0.0145 -0.0397 -0.0209 -0.0206 -0.0170     NaN     NaN     NaN  \n",
       "GISS-E2-1-H    0.0913  0.1171  0.0737  0.0776  0.0898     NaN     NaN     NaN  \n",
       "MRI-ESM2-0     0.0668  0.0618  0.0474  0.0403  0.0411     NaN     NaN     NaN  \n",
       "OsloCTM3       0.0710  0.0819  0.0876  0.1102  0.1198  0.1318  0.1294  0.1359  "
      ]
     },
     "execution_count": 4,
     "metadata": {},
     "output_type": "execute_result"
    }
   ],
   "source": [
    "skeie_strat = pd.read_csv('../data_input/skeie_ozone_strat.csv', index_col=0)\n",
    "skeie_strat = skeie_strat.loc[good_models]\n",
    "skeie_strat.insert(0, 1850, 0)\n",
    "skeie_strat.columns = pd.to_numeric(skeie_strat.columns)\n",
    "skeie_strat.interpolate(axis=1, method='values', limit_area='inside', inplace=True)\n",
    "skeie_strat"
   ]
  },
  {
   "cell_type": "code",
   "execution_count": 5,
   "metadata": {},
   "outputs": [
    {
     "data": {
      "text/html": [
       "<div>\n",
       "<style scoped>\n",
       "    .dataframe tbody tr th:only-of-type {\n",
       "        vertical-align: middle;\n",
       "    }\n",
       "\n",
       "    .dataframe tbody tr th {\n",
       "        vertical-align: top;\n",
       "    }\n",
       "\n",
       "    .dataframe thead th {\n",
       "        text-align: right;\n",
       "    }\n",
       "</style>\n",
       "<table border=\"1\" class=\"dataframe\">\n",
       "  <thead>\n",
       "    <tr style=\"text-align: right;\">\n",
       "      <th></th>\n",
       "      <th>1850</th>\n",
       "      <th>1920</th>\n",
       "      <th>1930</th>\n",
       "      <th>1940</th>\n",
       "      <th>1950</th>\n",
       "      <th>1960</th>\n",
       "      <th>1970</th>\n",
       "      <th>1980</th>\n",
       "      <th>1990</th>\n",
       "      <th>2000</th>\n",
       "      <th>2007</th>\n",
       "      <th>2010</th>\n",
       "    </tr>\n",
       "    <tr>\n",
       "      <th>Model</th>\n",
       "      <th></th>\n",
       "      <th></th>\n",
       "      <th></th>\n",
       "      <th></th>\n",
       "      <th></th>\n",
       "      <th></th>\n",
       "      <th></th>\n",
       "      <th></th>\n",
       "      <th></th>\n",
       "      <th></th>\n",
       "      <th></th>\n",
       "      <th></th>\n",
       "    </tr>\n",
       "  </thead>\n",
       "  <tbody>\n",
       "    <tr>\n",
       "      <th>BCC-ESM1</th>\n",
       "      <td>0.0</td>\n",
       "      <td>0.05780</td>\n",
       "      <td>0.07570</td>\n",
       "      <td>0.09400</td>\n",
       "      <td>0.1269</td>\n",
       "      <td>0.1845</td>\n",
       "      <td>0.2508</td>\n",
       "      <td>0.2734</td>\n",
       "      <td>0.2728</td>\n",
       "      <td>0.3233</td>\n",
       "      <td>0.3536</td>\n",
       "      <td>0.3611</td>\n",
       "    </tr>\n",
       "    <tr>\n",
       "      <th>CESM2(WACCM6)</th>\n",
       "      <td>0.0</td>\n",
       "      <td>0.06440</td>\n",
       "      <td>0.08140</td>\n",
       "      <td>0.12410</td>\n",
       "      <td>0.1349</td>\n",
       "      <td>0.1898</td>\n",
       "      <td>0.2472</td>\n",
       "      <td>0.2880</td>\n",
       "      <td>0.3104</td>\n",
       "      <td>0.3786</td>\n",
       "      <td>0.3974</td>\n",
       "      <td>0.4289</td>\n",
       "    </tr>\n",
       "    <tr>\n",
       "      <th>GFDL-ESM4</th>\n",
       "      <td>0.0</td>\n",
       "      <td>0.06600</td>\n",
       "      <td>0.07510</td>\n",
       "      <td>0.10860</td>\n",
       "      <td>0.1411</td>\n",
       "      <td>0.1981</td>\n",
       "      <td>0.2444</td>\n",
       "      <td>0.2608</td>\n",
       "      <td>0.2336</td>\n",
       "      <td>0.2907</td>\n",
       "      <td>0.3074</td>\n",
       "      <td>0.3222</td>\n",
       "    </tr>\n",
       "    <tr>\n",
       "      <th>GISS-E2-1-H</th>\n",
       "      <td>0.0</td>\n",
       "      <td>0.06750</td>\n",
       "      <td>0.07960</td>\n",
       "      <td>0.07640</td>\n",
       "      <td>0.1385</td>\n",
       "      <td>0.1712</td>\n",
       "      <td>0.2171</td>\n",
       "      <td>0.3122</td>\n",
       "      <td>0.3855</td>\n",
       "      <td>0.4003</td>\n",
       "      <td>0.4369</td>\n",
       "      <td>0.4558</td>\n",
       "    </tr>\n",
       "    <tr>\n",
       "      <th>MRI-ESM2-0</th>\n",
       "      <td>0.0</td>\n",
       "      <td>0.06420</td>\n",
       "      <td>0.08670</td>\n",
       "      <td>0.09800</td>\n",
       "      <td>0.1294</td>\n",
       "      <td>0.1912</td>\n",
       "      <td>0.2729</td>\n",
       "      <td>0.3329</td>\n",
       "      <td>0.3740</td>\n",
       "      <td>0.3794</td>\n",
       "      <td>0.3800</td>\n",
       "      <td>0.3859</td>\n",
       "    </tr>\n",
       "    <tr>\n",
       "      <th>OsloCTM3</th>\n",
       "      <td>0.0</td>\n",
       "      <td>0.10689</td>\n",
       "      <td>0.12216</td>\n",
       "      <td>0.13743</td>\n",
       "      <td>0.1527</td>\n",
       "      <td>0.2160</td>\n",
       "      <td>0.2793</td>\n",
       "      <td>0.3487</td>\n",
       "      <td>0.3992</td>\n",
       "      <td>0.4403</td>\n",
       "      <td>0.5089</td>\n",
       "      <td>0.5245</td>\n",
       "    </tr>\n",
       "  </tbody>\n",
       "</table>\n",
       "</div>"
      ],
      "text/plain": [
       "               1850     1920     1930     1940    1950    1960    1970  \\\n",
       "Model                                                                    \n",
       "BCC-ESM1        0.0  0.05780  0.07570  0.09400  0.1269  0.1845  0.2508   \n",
       "CESM2(WACCM6)   0.0  0.06440  0.08140  0.12410  0.1349  0.1898  0.2472   \n",
       "GFDL-ESM4       0.0  0.06600  0.07510  0.10860  0.1411  0.1981  0.2444   \n",
       "GISS-E2-1-H     0.0  0.06750  0.07960  0.07640  0.1385  0.1712  0.2171   \n",
       "MRI-ESM2-0      0.0  0.06420  0.08670  0.09800  0.1294  0.1912  0.2729   \n",
       "OsloCTM3        0.0  0.10689  0.12216  0.13743  0.1527  0.2160  0.2793   \n",
       "\n",
       "                 1980    1990    2000    2007    2010  \n",
       "Model                                                  \n",
       "BCC-ESM1       0.2734  0.2728  0.3233  0.3536  0.3611  \n",
       "CESM2(WACCM6)  0.2880  0.3104  0.3786  0.3974  0.4289  \n",
       "GFDL-ESM4      0.2608  0.2336  0.2907  0.3074  0.3222  \n",
       "GISS-E2-1-H    0.3122  0.3855  0.4003  0.4369  0.4558  \n",
       "MRI-ESM2-0     0.3329  0.3740  0.3794  0.3800  0.3859  \n",
       "OsloCTM3       0.3487  0.3992  0.4403  0.5089  0.5245  "
      ]
     },
     "execution_count": 5,
     "metadata": {},
     "output_type": "execute_result"
    }
   ],
   "source": [
    "skeie_total = skeie_trop + skeie_strat\n",
    "skeie_total.drop([2014,2017,2020], inplace=True, axis=1)\n",
    "skeie_total"
   ]
  },
  {
   "cell_type": "code",
   "execution_count": 6,
   "metadata": {},
   "outputs": [
    {
     "data": {
      "text/plain": [
       "0.41306666666666664"
      ]
     },
     "execution_count": 6,
     "metadata": {},
     "output_type": "execute_result"
    }
   ],
   "source": [
    "skeie_total.loc[:,2010].mean()"
   ]
  },
  {
   "cell_type": "code",
   "execution_count": 7,
   "metadata": {},
   "outputs": [
    {
     "name": "stdout",
     "output_type": "stream",
     "text": [
      "2014-1850 ozone ERF from Skeie: 0.4339999999999999\n",
      "2019-1850 ozone ERF from Skeie: 0.46016666666666645\n"
     ]
    },
    {
     "data": {
      "image/png": "[encoded data removed]",
      "text/plain": [
       "<Figure size 432x288 with 1 Axes>"
      ]
     },
     "metadata": {
      "needs_background": "light"
     },
     "output_type": "display_data"
    }
   ],
   "source": [
    "f = interp1d(skeie_total.columns, skeie_total.mean(), bounds_error=False, fill_value='extrapolate')\n",
    "years = np.arange(1850,2020)\n",
    "o3tr = f(years)\n",
    "pl.plot(years, o3tr)\n",
    "print(\"2014-1850 ozone ERF from Skeie:\", o3tr[164])\n",
    "print(\"2019-1850 ozone ERF from Skeie:\", o3tr[169])"
   ]
  },
  {
   "cell_type": "markdown",
   "metadata": {},
   "source": [
    "Thornhill et al (2020) contributions to 2014-1850 ozone forcing: \n",
    "\n",
    "|species  | best  | unc    |\n",
    "|---------|-------|--------|\n",
    "|CH4      | +0.14 | (0.05) |\n",
    "|NOx      | +0.20 | (0.11) |\n",
    "|CO + VOC | +0.11 | (0.07) |\n",
    "|N2O      | +0.03 | (0.02) |\n",
    "|ODS      | -0.11 | (0.10) |  \n",
    "|Sum      | +0.37 | (0.18) |\n",
    "\n",
    "Uncertainties, in brackets, taken to be 5-95%.\n",
    "\n",
    "How do we define ODS here? Perhaps revert back to the Velders EESC definition."
   ]
  },
  {
   "cell_type": "code",
   "execution_count": 8,
   "metadata": {},
   "outputs": [],
   "source": [
    "emissions = pd.read_csv('../data_input_large/rcmip-emissions-annual-means-v5-1-0.csv')\n",
    "concentrations = pd.read_csv('../data_input_large/rcmip-concentrations-annual-means-v5-1-0.csv')\n",
    "\n",
    "scenario = 'ssp245'\n",
    "ch4 = concentrations.loc[(concentrations['Scenario']==scenario)&(concentrations['Region']=='World')&(concentrations.Variable.str.endswith('|CH4')),'1850':'2019'].values.squeeze()\n",
    "n2o = concentrations.loc[(concentrations['Scenario']==scenario)&(concentrations['Region']=='World')&(concentrations.Variable.str.endswith('|N2O')),'1850':'2019'].values.squeeze()\n",
    "ods = {}\n",
    "ods_species = [\n",
    "    'CCl4',\n",
    "    'CFC11',\n",
    "    'CFC113',\n",
    "    'CFC114',\n",
    "    'CFC115',\n",
    "    'CFC12',\n",
    "    'CH2Cl2',\n",
    "    'CH3Br',\n",
    "    'CH3CCl3',\n",
    "    'CH3Cl',\n",
    "    'CHCl3',\n",
    "    'HCFC141b',\n",
    "    'HCFC142b',\n",
    "    'HCFC22',\n",
    "    'Halon1211',\n",
    "    'Halon1301',\n",
    "    'Halon2402',\n",
    "]\n",
    "for specie in ods_species:\n",
    "    ods[specie] = concentrations.loc[(concentrations['Scenario']==scenario)&(concentrations['Region']=='World')&(concentrations.Variable.str.endswith('|%s' % specie)),'1850':'2019'].values.squeeze()\n",
    "\n",
    "co  = emissions.loc[(emissions['Scenario']==scenario)&(emissions['Region']=='World')&(emissions.Variable.str.endswith('|CO')),'1850':'2020'].interpolate(axis=1).values.squeeze()[:-1]\n",
    "nox = emissions.loc[(emissions['Scenario']==scenario)&(emissions['Region']=='World')&(emissions.Variable.str.endswith('|NOx')),'1850':'2020'].interpolate(axis=1).values.squeeze()[:-1]\n",
    "voc = emissions.loc[(emissions['Scenario']==scenario)&(emissions['Region']=='World')&(emissions.Variable.str.endswith('|VOC')),'1850':'2020'].interpolate(axis=1).values.squeeze()[:-1]"
   ]
  },
  {
   "cell_type": "code",
   "execution_count": 9,
   "metadata": {},
   "outputs": [],
   "source": [
    "eesc_total = np.zeros((170))\n",
    "for specie in ods_species:\n",
    "    eesc_total = eesc_total + eesc(ods[specie], specie)"
   ]
  },
  {
   "cell_type": "code",
   "execution_count": 10,
   "metadata": {},
   "outputs": [
    {
     "data": {
      "text/plain": [
       "[<matplotlib.lines.Line2D at 0x7efbf1132b50>]"
      ]
     },
     "execution_count": 10,
     "metadata": {},
     "output_type": "execute_result"
    },
    {
     "data": {
      "image/png": "[encoded data removed]",
      "text/plain": [
       "<Figure size 432x288 with 1 Axes>"
      ]
     },
     "metadata": {
      "needs_background": "light"
     },
     "output_type": "display_data"
    }
   ],
   "source": [
    "pl.plot(np.arange(1850,2020), eesc_total)"
   ]
  },
  {
   "cell_type": "code",
   "execution_count": 11,
   "metadata": {},
   "outputs": [],
   "source": [
    "delta_Cch4 = ch4[164] - ch4[0]\n",
    "delta_Cn2o = n2o[164] - n2o[0]\n",
    "delta_Cods = eesc_total[164] - eesc_total[0]\n",
    "delta_Eco  = co[164] - co[0]\n",
    "delta_Evoc = voc[164] - voc[0]\n",
    "delta_Enox = nox[164] - nox[0]"
   ]
  },
  {
   "cell_type": "code",
   "execution_count": 12,
   "metadata": {},
   "outputs": [],
   "source": [
    "# best estimate radiative efficienices from 2014 - 1850\n",
    "\n",
    "radeff_ch4 = 0.14/delta_Cch4\n",
    "radeff_n2o = 0.03/delta_Cn2o\n",
    "radeff_ods = -0.11/delta_Cods\n",
    "radeff_co  = 0.067/delta_Eco    # stevenson rescaled\n",
    "radeff_voc = 0.043/delta_Evoc   # stevenson rescaled\n",
    "radeff_nox = 0.20/delta_Enox"
   ]
  },
  {
   "cell_type": "code",
   "execution_count": 13,
   "metadata": {},
   "outputs": [],
   "source": [
    "fac_cmip6_skeie = (\n",
    "    (\n",
    "    radeff_ch4 * delta_Cch4 +\n",
    "    radeff_n2o * delta_Cn2o +\n",
    "    radeff_ods * delta_Cods +\n",
    "    radeff_co  * delta_Eco +\n",
    "    radeff_voc * delta_Evoc +\n",
    "    radeff_nox * delta_Enox \n",
    "    ) / (o3tr[164]-o3tr[0])\n",
    ")\n",
    "ts = np.vstack((ch4, n2o, eesc_total, co, voc, nox)).T"
   ]
  },
  {
   "cell_type": "code",
   "execution_count": 14,
   "metadata": {},
   "outputs": [
    {
     "data": {
      "text/plain": [
       "array([[ 808.24902852,  273.02104696,    0.        ,  411.46287432,\n",
       "          66.78304875,   13.45657685],\n",
       "       [ 808.41410828,  273.09405009,    0.        ,  402.24481525,\n",
       "          64.95004659,   13.17243992],\n",
       "       [ 809.16313171,  273.16805013,    0.        ,  397.49851999,\n",
       "          63.95789986,   13.00181932],\n",
       "       ...,\n",
       "       [1873.79921468,  329.78497569, 1093.58667076,  913.61751556,\n",
       "         223.88894547,  152.53991803],\n",
       "       [1887.04099528,  330.54097239, 1081.28293378,  903.25133099,\n",
       "         222.21100855,  151.04965204],\n",
       "       [1899.4105835 ,  331.30197652, 1068.45175863,  892.88514643,\n",
       "         220.53307163,  149.55938605]])"
      ]
     },
     "execution_count": 14,
     "metadata": {},
     "output_type": "execute_result"
    }
   ],
   "source": [
    "ts"
   ]
  },
  {
   "cell_type": "code",
   "execution_count": 15,
   "metadata": {},
   "outputs": [
    {
     "data": {
      "text/plain": [
       "[<matplotlib.lines.Line2D at 0x7efbf107d090>]"
      ]
     },
     "execution_count": 15,
     "metadata": {},
     "output_type": "execute_result"
    },
    {
     "data": {
      "image/png": "[encoded data removed]",
      "text/plain": [
       "<Figure size 432x288 with 1 Axes>"
      ]
     },
     "metadata": {
      "needs_background": "light"
     },
     "output_type": "display_data"
    }
   ],
   "source": [
    "def fit_precursors(x, rch4, rn2o, rods, rco, rvoc, rnox):\n",
    "    return rch4*x[0] + rn2o*x[1] + rods*x[2] + rco*x[3] + rvoc*x[4] + rnox*x[5]\n",
    "\n",
    "p, cov = curve_fit(\n",
    "    fit_precursors, \n",
    "    ts[:165,:].T - ts[0:1, :].T,\n",
    "    o3tr[:165],\n",
    "    bounds=((0.09/delta_Cch4/fac_cmip6_skeie, 0.01/delta_Cn2o/fac_cmip6_skeie, -0.21/delta_Cods/fac_cmip6_skeie, 0.017/delta_Eco/fac_cmip6_skeie, -0.007/delta_Evoc/fac_cmip6_skeie, 0.09/delta_Enox/fac_cmip6_skeie),\n",
    "            (0.19/delta_Cch4/fac_cmip6_skeie, 0.05/delta_Cn2o/fac_cmip6_skeie, -0.01/delta_Cods/fac_cmip6_skeie, 0.117/delta_Eco/fac_cmip6_skeie, 0.093/delta_Evoc/fac_cmip6_skeie, 0.31/delta_Enox/fac_cmip6_skeie))\n",
    ")\n",
    "\n",
    "forcing = (\n",
    "    p[0] * (ch4 - ch4[0]) +\n",
    "    p[1] * (n2o - n2o[0]) +\n",
    "    p[2] * (eesc_total - eesc_total[0]) +\n",
    "    p[3] * (co  - co[0]) +\n",
    "    p[4] * (voc  - voc[0]) +\n",
    "    p[5] * (nox  - nox[0])\n",
    ")\n",
    "\n",
    "pl.plot(np.arange(1850,2020), forcing)"
   ]
  },
  {
   "cell_type": "code",
   "execution_count": 16,
   "metadata": {},
   "outputs": [
    {
     "data": {
      "text/plain": [
       "<matplotlib.legend.Legend at 0x7efbf103e550>"
      ]
     },
     "execution_count": 16,
     "metadata": {},
     "output_type": "execute_result"
    },
    {
     "data": {
      "image/png": "[encoded data removed]",
      "text/plain": [
       "<Figure size 432x288 with 1 Axes>"
      ]
     },
     "metadata": {
      "needs_background": "light"
     },
     "output_type": "display_data"
    }
   ],
   "source": [
    "pl.plot(np.arange(1850,2020), forcing, label='Precursor fit')\n",
    "pl.plot(np.arange(1850,2020), o3tr, label='Skeie et al. 2020 mean')\n",
    "pl.legend()"
   ]
  },
  {
   "cell_type": "code",
   "execution_count": 17,
   "metadata": {},
   "outputs": [
    {
     "name": "stdout",
     "output_type": "stream",
     "text": [
      "[ 2.17806958e-04  1.08675131e-03 -5.99546209e-05  7.00793760e-05\n",
      " -4.92424155e-05  1.29886170e-03]\n",
      "0.00013682270725101268 0.0005558958422888328 -9.787056469289512e-05 0.00012124837094765557 0.0002578827109376753 0.001406631507469693\n"
     ]
    }
   ],
   "source": [
    "print(p)  # these coefficients we export to the ERF time series\n",
    "print(radeff_ch4, radeff_n2o, radeff_ods, radeff_co, radeff_voc, radeff_nox)"
   ]
  },
  {
   "cell_type": "markdown",
   "metadata": {},
   "source": [
    "## extrapolate back to 1750"
   ]
  },
  {
   "cell_type": "code",
   "execution_count": 18,
   "metadata": {},
   "outputs": [],
   "source": [
    "ch4 = concentrations.loc[(concentrations['Scenario']==scenario)&(concentrations['Region']=='World')&(concentrations.Variable.str.endswith('|CH4')),'1750':'2019'].values.squeeze()\n",
    "n2o = concentrations.loc[(concentrations['Scenario']==scenario)&(concentrations['Region']=='World')&(concentrations.Variable.str.endswith('|N2O')),'1750':'2019'].values.squeeze()\n",
    "ods = {}\n",
    "ods_species = [\n",
    "    'CCl4',\n",
    "    'CFC11',\n",
    "    'CFC113',\n",
    "    'CFC114',\n",
    "    'CFC115',\n",
    "    'CFC12',\n",
    "    'CH2Cl2',\n",
    "    'CH3Br',\n",
    "    'CH3CCl3',\n",
    "    'CH3Cl',\n",
    "    'CHCl3',\n",
    "    'HCFC141b',\n",
    "    'HCFC142b',\n",
    "    'HCFC22',\n",
    "    'Halon1211',\n",
    "    'Halon1301',\n",
    "    'Halon2402',\n",
    "]\n",
    "for specie in ods_species:\n",
    "    ods[specie] = concentrations.loc[(concentrations['Scenario']==scenario)&(concentrations['Region']=='World')&(concentrations.Variable.str.endswith('|%s' % specie)),'1750':'2019'].values.squeeze()\n",
    "\n",
    "co  = emissions.loc[(emissions['Scenario']==scenario)&(emissions['Region']=='World')&(emissions.Variable.str.endswith('|CO')),'1750':'2020'].interpolate(axis=1).values.squeeze()[:-1]\n",
    "nox = emissions.loc[(emissions['Scenario']==scenario)&(emissions['Region']=='World')&(emissions.Variable.str.endswith('|NOx')),'1750':'2020'].interpolate(axis=1).values.squeeze()[:-1]\n",
    "voc = emissions.loc[(emissions['Scenario']==scenario)&(emissions['Region']=='World')&(emissions.Variable.str.endswith('|VOC')),'1750':'2020'].interpolate(axis=1).values.squeeze()[:-1]\n",
    "\n",
    "eesc_total = np.zeros((270))\n",
    "for specie in ods_species:\n",
    "    eesc_total = eesc_total + eesc(ods[specie], specie)"
   ]
  },
  {
   "cell_type": "code",
   "execution_count": 19,
   "metadata": {},
   "outputs": [
    {
     "data": {
      "text/plain": [
       "[<matplotlib.lines.Line2D at 0x7efbf0f7e050>]"
      ]
     },
     "execution_count": 19,
     "metadata": {},
     "output_type": "execute_result"
    },
    {
     "data": {
      "image/png": "[encoded data removed]",
      "text/plain": [
       "<Figure size 432x288 with 1 Axes>"
      ]
     },
     "metadata": {
      "needs_background": "light"
     },
     "output_type": "display_data"
    }
   ],
   "source": [
    "forcing = (\n",
    "    p[0] * (ch4 - ch4[0]) +\n",
    "    p[1] * (n2o - n2o[0]) +\n",
    "    p[2] * (eesc_total - eesc_total[0]) +\n",
    "    p[3] * (co  - co[0]) +\n",
    "    p[4] * (voc  - voc[0]) +\n",
    "    p[5] * (nox  - nox[0])\n",
    ")\n",
    "\n",
    "pl.plot(np.arange(1750,2020), forcing)"
   ]
  },
  {
   "cell_type": "code",
   "execution_count": 20,
   "metadata": {},
   "outputs": [
    {
     "data": {
      "text/plain": [
       "0.45015361748706606"
      ]
     },
     "execution_count": 20,
     "metadata": {},
     "output_type": "execute_result"
    }
   ],
   "source": [
    "forcing[264]"
   ]
  },
  {
   "cell_type": "code",
   "execution_count": 21,
   "metadata": {},
   "outputs": [
    {
     "data": {
      "text/plain": [
       "0.41635398309211996"
      ]
     },
     "execution_count": 21,
     "metadata": {},
     "output_type": "execute_result"
    }
   ],
   "source": [
    "forcing[260]-forcing[100]"
   ]
  },
  {
   "cell_type": "code",
   "execution_count": 22,
   "metadata": {},
   "outputs": [
    {
     "data": {
      "text/plain": [
       "0.0208342204314228"
      ]
     },
     "execution_count": 22,
     "metadata": {},
     "output_type": "execute_result"
    }
   ],
   "source": [
    "forcing[100]"
   ]
  },
  {
   "cell_type": "code",
   "execution_count": 28,
   "metadata": {},
   "outputs": [
    {
     "data": {
      "text/plain": [
       "0.02353232874522765"
      ]
     },
     "execution_count": 28,
     "metadata": {},
     "output_type": "execute_result"
    }
   ],
   "source": [
    "forcing[269]-forcing[260]"
   ]
  },
  {
   "cell_type": "code",
   "execution_count": 29,
   "metadata": {},
   "outputs": [
    {
     "data": {
      "text/plain": [
       "0.4607205322687704"
      ]
     },
     "execution_count": 29,
     "metadata": {},
     "output_type": "execute_result"
    }
   ],
   "source": [
    "forcing[269]"
   ]
  },
  {
   "cell_type": "code",
   "execution_count": 31,
   "metadata": {},
   "outputs": [],
   "source": [
    "np.savetxt('../data_diagnostics/cmip6_ssp245_ozone_fit.txt', forcing)"
   ]
  }
 ],
 "metadata": {
  "kernelspec": {
   "display_name": "Python 3",
   "language": "python",
   "name": "python3"
  },
  "language_info": {
   "codemirror_mode": {
    "name": "ipython",
    "version": 3
   },
   "file_extension": ".py",
   "mimetype": "text/x-python",
   "name": "python",
   "nbconvert_exporter": "python",
   "pygments_lexer": "ipython3",
   "version": "3.7.9"
  }
 },
 "nbformat": 4,
 "nbformat_minor": 2
}
