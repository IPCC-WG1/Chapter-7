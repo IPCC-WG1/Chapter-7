{
 "cells": [
  {
   "cell_type": "markdown",
   "id": "transsexual-tuning",
   "metadata": {},
   "source": [
    "# Plot doubling CO2 cases\n",
    "\n",
    "Thanks to Tim Andrews for his data\n",
    "\n",
    "Theme Song: Cemented Shoes<br>\n",
    "Artist: My Vitriol<br>\n",
    "Album: Finelines<br>\n",
    "Released: 2001"
   ]
  },
  {
   "cell_type": "code",
   "execution_count": 17,
   "id": "paperback-centre",
   "metadata": {},
   "outputs": [],
   "source": [
    "from fair.forcing.ghg import meinshausen, etminan, myhre\n",
    "import matplotlib.pyplot as pl\n",
    "import pandas as pd\n",
    "import numpy as np"
   ]
  },
  {
   "cell_type": "code",
   "execution_count": 18,
   "id": "similar-resort",
   "metadata": {},
   "outputs": [],
   "source": [
    "ghg_obs = pd.read_excel('../data_input/observations/LLGHG_history_AR6_v9_updated.xlsx', skiprows=22, sheet_name=\"MR_output\", index_col=0)\n",
    "for addyear in range(1751,1850):\n",
    "    ghg_obs.loc[addyear, 'YYYY'] = np.nan\n",
    "ghg_obs = ghg_obs.sort_index()\n",
    "ghg_obs = ghg_obs.interpolate()"
   ]
  },
  {
   "cell_type": "code",
   "execution_count": 3,
   "id": "technological-riding",
   "metadata": {},
   "outputs": [],
   "source": [
    "co2_pi = ghg_obs.loc[1750,'CO2']\n",
    "ch4_pi = ghg_obs.loc[1750,'CH4']\n",
    "n2o_pi = ghg_obs.loc[1750,'N2O']"
   ]
  },
  {
   "cell_type": "code",
   "execution_count": 44,
   "id": "false-classroom",
   "metadata": {},
   "outputs": [],
   "source": [
    "logrange = np.logspace(np.log(1/8)/np.log(10),np.log(32)/np.log(10),501)\n",
    "co2 = co2_pi * logrange"
   ]
  },
  {
   "cell_type": "code",
   "execution_count": 45,
   "id": "graphic-delivery",
   "metadata": {},
   "outputs": [],
   "source": [
    "meins = np.zeros(501)\n",
    "etm = np.zeros(501)\n",
    "my = np.zeros(501)\n",
    "for i in range(501):\n",
    "    meins[i] = meinshausen(np.array([co2[i], ch4_pi, n2o_pi]), Cpi=np.array([co2_pi, ch4_pi, n2o_pi]), scale_F2x=False)[0]\n",
    "    etm[i] = etminan(np.array([co2[i], ch4_pi, n2o_pi]), Cpi=np.array([co2_pi, ch4_pi, n2o_pi]), scale_F2x=False)[0]\n",
    "    my[i] = myhre(np.array([co2[i], ch4_pi, n2o_pi]), Cpi=np.array([co2_pi, ch4_pi, n2o_pi]), scale_F2x=False)[0]"
   ]
  },
  {
   "cell_type": "code",
   "execution_count": 47,
   "id": "continued-midwest",
   "metadata": {},
   "outputs": [
    {
     "ename": "AttributeError",
     "evalue": "module 'matplotlib.pyplot' has no attribute 'xtick_labels'",
     "output_type": "error",
     "traceback": [
      "\u001b[0;31m---------------------------------------------------------------------------\u001b[0m",
      "\u001b[0;31mAttributeError\u001b[0m                            Traceback (most recent call last)",
      "\u001b[0;32m<ipython-input-47-e06263c84eb5>\u001b[0m in \u001b[0;36m<module>\u001b[0;34m\u001b[0m\n\u001b[1;32m      2\u001b[0m \u001b[0mpl\u001b[0m\u001b[0;34m.\u001b[0m\u001b[0mplot\u001b[0m\u001b[0;34m(\u001b[0m\u001b[0mnp\u001b[0m\u001b[0;34m.\u001b[0m\u001b[0mlog\u001b[0m\u001b[0;34m(\u001b[0m\u001b[0mlogrange\u001b[0m\u001b[0;34m)\u001b[0m\u001b[0;34m/\u001b[0m\u001b[0mnp\u001b[0m\u001b[0;34m.\u001b[0m\u001b[0mlog\u001b[0m\u001b[0;34m(\u001b[0m\u001b[0;36m2\u001b[0m\u001b[0;34m)\u001b[0m\u001b[0;34m,\u001b[0m \u001b[0metm\u001b[0m\u001b[0;34m)\u001b[0m\u001b[0;34m\u001b[0m\u001b[0;34m\u001b[0m\u001b[0m\n\u001b[1;32m      3\u001b[0m \u001b[0mpl\u001b[0m\u001b[0;34m.\u001b[0m\u001b[0mplot\u001b[0m\u001b[0;34m(\u001b[0m\u001b[0mnp\u001b[0m\u001b[0;34m.\u001b[0m\u001b[0mlog\u001b[0m\u001b[0;34m(\u001b[0m\u001b[0mlogrange\u001b[0m\u001b[0;34m)\u001b[0m\u001b[0;34m/\u001b[0m\u001b[0mnp\u001b[0m\u001b[0;34m.\u001b[0m\u001b[0mlog\u001b[0m\u001b[0;34m(\u001b[0m\u001b[0;36m2\u001b[0m\u001b[0;34m)\u001b[0m\u001b[0;34m,\u001b[0m \u001b[0mmy\u001b[0m\u001b[0;34m)\u001b[0m\u001b[0;34m\u001b[0m\u001b[0;34m\u001b[0m\u001b[0m\n\u001b[0;32m----> 4\u001b[0;31m \u001b[0mpl\u001b[0m\u001b[0;34m.\u001b[0m\u001b[0mxtick_labels\u001b[0m\u001b[0;34m(\u001b[0m\u001b[0;34m[\u001b[0m\u001b[0;36m1\u001b[0m\u001b[0;34m/\u001b[0m\u001b[0;36m8\u001b[0m\u001b[0;34m,\u001b[0m \u001b[0;36m1\u001b[0m\u001b[0;34m/\u001b[0m\u001b[0;36m4\u001b[0m\u001b[0;34m,\u001b[0m \u001b[0;36m1\u001b[0m\u001b[0;34m/\u001b[0m\u001b[0;36m2\u001b[0m\u001b[0;34m,\u001b[0m \u001b[0;36m1\u001b[0m\u001b[0;34m,\u001b[0m \u001b[0;36m2\u001b[0m\u001b[0;34m,\u001b[0m \u001b[0;36m4\u001b[0m\u001b[0;34m,\u001b[0m \u001b[0;36m8\u001b[0m\u001b[0;34m,\u001b[0m \u001b[0;36m16\u001b[0m\u001b[0;34m,\u001b[0m \u001b[0;36m32\u001b[0m\u001b[0;34m]\u001b[0m\u001b[0;34m)\u001b[0m\u001b[0;34m\u001b[0m\u001b[0;34m\u001b[0m\u001b[0m\n\u001b[0m",
      "\u001b[0;31mAttributeError\u001b[0m: module 'matplotlib.pyplot' has no attribute 'xtick_labels'"
     ]
    },
    {
     "data": {
      "image/png": "[encoded data removed]",
      "text/plain": [
       "<Figure size 432x288 with 1 Axes>"
      ]
     },
     "metadata": {
      "needs_background": "light"
     },
     "output_type": "display_data"
    }
   ],
   "source": [
    "pl.plot(np.log(logrange)/np.log(2), meins)\n",
    "pl.plot(np.log(logrange)/np.log(2), etm)\n",
    "pl.plot(np.log(logrange)/np.log(2), my)\n",
    "pl.xtick_labels([1/8, 1/4, 1/2, 1, 2, 4, 8, 16, 32])"
   ]
  },
  {
   "cell_type": "code",
   "execution_count": 4,
   "id": "subjective-dating",
   "metadata": {},
   "outputs": [
    {
     "data": {
      "text/plain": [
       "0.47630403979167685"
      ]
     },
     "execution_count": 4,
     "metadata": {},
     "output_type": "execute_result"
    }
   ],
   "source": [
    "m4x = meinshausen(np.array([4*co2_pi, ch4_pi, n2o_pi]), Cpi=np.array([co2_pi, ch4_pi, n2o_pi]), scale_F2x=False)\n",
    "m2x = meinshausen(np.array([2*co2_pi, ch4_pi, n2o_pi]), Cpi=np.array([co2_pi, ch4_pi, n2o_pi]), scale_F2x=False)\n",
    "m2x[0]/m4x[0]"
   ]
  },
  {
   "cell_type": "code",
   "execution_count": 5,
   "id": "detected-james",
   "metadata": {},
   "outputs": [
    {
     "data": {
      "text/plain": [
       "0.4780337002434125"
      ]
     },
     "execution_count": 5,
     "metadata": {},
     "output_type": "execute_result"
    }
   ],
   "source": [
    "e4x = etminan(np.array([4*co2_pi, ch4_pi, n2o_pi]), Cpi=np.array([co2_pi, ch4_pi, n2o_pi]), scale_F2x=False)\n",
    "e2x = etminan(np.array([2*co2_pi, ch4_pi, n2o_pi]), Cpi=np.array([co2_pi, ch4_pi, n2o_pi]), scale_F2x=False)\n",
    "e2x[0]/e4x[0]"
   ]
  },
  {
   "cell_type": "code",
   "execution_count": 6,
   "id": "related-department",
   "metadata": {},
   "outputs": [
    {
     "data": {
      "text/plain": [
       "3.80195857817616"
      ]
     },
     "execution_count": 6,
     "metadata": {},
     "output_type": "execute_result"
    }
   ],
   "source": [
    "e2x[0]"
   ]
  },
  {
   "cell_type": "code",
   "execution_count": 7,
   "id": "equivalent-communication",
   "metadata": {},
   "outputs": [
    {
     "data": {
      "text/plain": [
       "3.746826975133355"
      ]
     },
     "execution_count": 7,
     "metadata": {},
     "output_type": "execute_result"
    }
   ],
   "source": [
    "m2x[0]"
   ]
  },
  {
   "cell_type": "code",
   "execution_count": 8,
   "id": "express-secretary",
   "metadata": {},
   "outputs": [
    {
     "data": {
      "text/plain": [
       "array([3.83754147, 0.        , 0.        ])"
      ]
     },
     "execution_count": 8,
     "metadata": {},
     "output_type": "execute_result"
    }
   ],
   "source": [
    "etminan(np.array([2*co2_2011, ch4_2011, n2o_2011]), Cpi=np.array([co2_2011, ch4_2011, n2o_2011]), scale_F2x=False)"
   ]
  },
  {
   "cell_type": "code",
   "execution_count": 9,
   "id": "associate-occurrence",
   "metadata": {},
   "outputs": [
    {
     "data": {
      "text/plain": [
       "array([3.79059855, 0.        , 0.        ])"
      ]
     },
     "execution_count": 9,
     "metadata": {},
     "output_type": "execute_result"
    }
   ],
   "source": [
    "meinshausen(np.array([2*co2_2011, ch4_2011, n2o_2011]), Cpi=np.array([co2_2011, ch4_2011, n2o_2011]), scale_F2x=False)"
   ]
  },
  {
   "cell_type": "code",
   "execution_count": 10,
   "id": "graduate-router",
   "metadata": {},
   "outputs": [
    {
     "data": {
      "text/plain": [
       "array([3.7494039, 0.       , 0.       ])"
      ]
     },
     "execution_count": 10,
     "metadata": {},
     "output_type": "execute_result"
    }
   ],
   "source": [
    "meinshausen(np.array([284.3*2, ch4_pi, n2o_pi]), Cpi=np.array([284.3, ch4_pi, n2o_pi]), scale_F2x=False)"
   ]
  },
  {
   "cell_type": "code",
   "execution_count": 11,
   "id": "conventional-infrastructure",
   "metadata": {},
   "outputs": [
    {
     "data": {
      "text/plain": [
       "array([2.08539106, 0.62916705, 0.19523587])"
      ]
     },
     "execution_count": 11,
     "metadata": {},
     "output_type": "execute_result"
    }
   ],
   "source": [
    "etminan(np.array([co2_2019, ch4_2019, n2o_2019]), Cpi=np.array([co2_pi, ch4_pi, n2o_pi]), scale_F2x=False)"
   ]
  },
  {
   "cell_type": "code",
   "execution_count": 12,
   "id": "polyphonic-destination",
   "metadata": {},
   "outputs": [
    {
     "data": {
      "text/plain": [
       "array([2.05359802, 0.63253836, 0.19482489])"
      ]
     },
     "execution_count": 12,
     "metadata": {},
     "output_type": "execute_result"
    }
   ],
   "source": [
    "meinshausen(np.array([co2_2019, ch4_2019, n2o_2019]), Cpi=np.array([co2_pi, ch4_pi, n2o_pi]), scale_F2x=False)"
   ]
  },
  {
   "cell_type": "code",
   "execution_count": 13,
   "id": "legendary-retail",
   "metadata": {},
   "outputs": [
    {
     "data": {
      "text/plain": [
       "array([3.93416832, 0.        , 0.        ])"
      ]
     },
     "execution_count": 13,
     "metadata": {},
     "output_type": "execute_result"
    }
   ],
   "source": [
    "meinshausen(np.array([2*co2_pi, ch4_pi, n2o_pi]), Cpi=np.array([co2_pi, ch4_pi, n2o_pi]), scale_F2x=False) * np.array([1.05, 0.86, 1.07])"
   ]
  },
  {
   "cell_type": "code",
   "execution_count": 14,
   "id": "republican-petite",
   "metadata": {},
   "outputs": [
    {
     "data": {
      "text/plain": [
       "array([3.74682698, 0.        , 0.        ])"
      ]
     },
     "execution_count": 14,
     "metadata": {},
     "output_type": "execute_result"
    }
   ],
   "source": [
    "meinshausen(np.array([2*co2_pi, ch4_pi, n2o_pi]), Cpi=np.array([co2_pi, ch4_pi, n2o_pi]), scale_F2x=False)"
   ]
  },
  {
   "cell_type": "code",
   "execution_count": 15,
   "id": "mysterious-newcastle",
   "metadata": {},
   "outputs": [
    {
     "data": {
      "text/plain": [
       "array([3.93731869, 0.        , 0.        ])"
      ]
     },
     "execution_count": 15,
     "metadata": {},
     "output_type": "execute_result"
    }
   ],
   "source": [
    "meinshausen(np.array([2*co2_1850, ch4_1850, n2o_1850]), Cpi=np.array([co2_1850, ch4_1850, n2o_1850]), scale_F2x=False) * np.array([1.05, 0.86, 1.07])"
   ]
  },
  {
   "cell_type": "code",
   "execution_count": 16,
   "id": "documented-coaching",
   "metadata": {},
   "outputs": [
    {
     "data": {
      "text/plain": [
       "array([3.80195858, 0.        , 0.        ])"
      ]
     },
     "execution_count": 16,
     "metadata": {},
     "output_type": "execute_result"
    }
   ],
   "source": [
    "etminan(np.array([2*co2_pi, ch4_pi, n2o_pi]), Cpi=np.array([co2_pi, ch4_pi, n2o_pi]), scale_F2x=False)"
   ]
  },
  {
   "cell_type": "code",
   "execution_count": 17,
   "id": "bulgarian-assumption",
   "metadata": {},
   "outputs": [
    {
     "data": {
      "text/plain": [
       "array([3.99205651, 0.        , 0.        ])"
      ]
     },
     "execution_count": 17,
     "metadata": {},
     "output_type": "execute_result"
    }
   ],
   "source": [
    "etminan(np.array([2*co2_pi, ch4_pi, n2o_pi]), Cpi=np.array([co2_pi, ch4_pi, n2o_pi]), scale_F2x=False) * np.array([1.05, 0.86, 1.07])"
   ]
  },
  {
   "cell_type": "code",
   "execution_count": 18,
   "id": "healthy-instrument",
   "metadata": {},
   "outputs": [
    {
     "name": "stdout",
     "output_type": "stream",
     "text": [
      "[3.22707066 0.         0.        ]\n",
      "[3.18558871 0.         0.        ]\n"
     ]
    }
   ],
   "source": [
    "print(etminan(np.array([700, 1800, 323]), Cpi=np.array([389, 1800, 323]), scale_F2x=False))\n",
    "print(meinshausen(np.array([700, 1800, 323]), Cpi=np.array([389, 1800, 323]), scale_F2x=False))"
   ]
  },
  {
   "cell_type": "code",
   "execution_count": 19,
   "id": "legitimate-astrology",
   "metadata": {},
   "outputs": [
    {
     "name": "stdout",
     "output_type": "stream",
     "text": [
      "[4.18614974 0.         0.        ]\n",
      "[4.12898865 0.         0.        ]\n"
     ]
    }
   ],
   "source": [
    "print(etminan(np.array([389, 1800, 323]), Cpi=np.array([180, 1800, 323]), scale_F2x=False))\n",
    "print(meinshausen(np.array([389, 1800, 323]), Cpi=np.array([180, 1800, 323]), scale_F2x=False))"
   ]
  },
  {
   "cell_type": "code",
   "execution_count": 20,
   "id": "national-dealer",
   "metadata": {},
   "outputs": [
    {
     "name": "stdout",
     "output_type": "stream",
     "text": [
      "[7.60776501 0.         0.        ]\n",
      "[7.52110683 0.         0.        ]\n"
     ]
    }
   ],
   "source": [
    "print(etminan(np.array([700, 1800, 323]), Cpi=np.array([180, 1800, 323]), scale_F2x=False))\n",
    "print(meinshausen(np.array([700, 1800, 323]), Cpi=np.array([180, 1800, 323]), scale_F2x=False))"
   ]
  },
  {
   "cell_type": "code",
   "execution_count": 21,
   "id": "spanish-munich",
   "metadata": {},
   "outputs": [
    {
     "data": {
      "text/plain": [
       "7.4132204"
      ]
     },
     "execution_count": 21,
     "metadata": {},
     "output_type": "execute_result"
    }
   ],
   "source": [
    "3.22707066 +4.18614974 "
   ]
  },
  {
   "cell_type": "code",
   "execution_count": 22,
   "id": "employed-stock",
   "metadata": {},
   "outputs": [
    {
     "data": {
      "text/plain": [
       "7.31457736"
      ]
     },
     "execution_count": 22,
     "metadata": {},
     "output_type": "execute_result"
    }
   ],
   "source": [
    "3.18558871 + 4.12898865 "
   ]
  },
  {
   "cell_type": "markdown",
   "id": "former-graphics",
   "metadata": {},
   "source": [
    "### chapter 2 1750"
   ]
  },
  {
   "cell_type": "code",
   "execution_count": 23,
   "id": "three-avenue",
   "metadata": {},
   "outputs": [
    {
     "name": "stdout",
     "output_type": "stream",
     "text": [
      "[3.80195858 0.         0.        ]\n",
      "[3.99205651 0.         0.        ]\n",
      "[3.74682698 0.         0.        ]\n",
      "[3.93416832 0.         0.        ]\n"
     ]
    }
   ],
   "source": [
    "print(etminan(np.array([2*co2_pi, ch4_pi, n2o_pi]), Cpi=np.array([co2_pi, ch4_pi, n2o_pi]), scale_F2x=False))\n",
    "print(etminan(np.array([2*co2_pi, ch4_pi, n2o_pi]), Cpi=np.array([co2_pi, ch4_pi, n2o_pi]), scale_F2x=False)*np.array([1.05, 0.86, 1.07]))\n",
    "\n",
    "print(meinshausen(np.array([2*co2_pi, ch4_pi, n2o_pi]), Cpi=np.array([co2_pi, ch4_pi, n2o_pi]), scale_F2x=False))\n",
    "print(meinshausen(np.array([2*co2_pi, ch4_pi, n2o_pi]), Cpi=np.array([co2_pi, ch4_pi, n2o_pi]), scale_F2x=False)*np.array([1.05, 0.86, 1.07]))"
   ]
  },
  {
   "cell_type": "markdown",
   "id": "norwegian-wallpaper",
   "metadata": {},
   "source": [
    "### Meinshausen et al original 1750"
   ]
  },
  {
   "cell_type": "code",
   "execution_count": 24,
   "id": "moving-illness",
   "metadata": {},
   "outputs": [
    {
     "name": "stdout",
     "output_type": "stream",
     "text": [
      "[3.80094215 0.         0.        ]\n",
      "[3.99098926 0.         0.        ]\n",
      "[3.74616138 0.         0.        ]\n",
      "[3.93346945 0.         0.        ]\n"
     ]
    }
   ],
   "source": [
    "print(etminan(np.array([2*277.15, ch4_pi, 273.87]), Cpi=np.array([277.15, ch4_pi, 273.87]), scale_F2x=False))\n",
    "print(etminan(np.array([2*277.15, ch4_pi, 273.87]), Cpi=np.array([277.15, ch4_pi, 273.87]), scale_F2x=False)*np.array([1.05, 0.86, 1.07]))\n",
    "\n",
    "print(meinshausen(np.array([2*277.15, ch4_pi, 273.87]), Cpi=np.array([277.15, ch4_pi, 273.87]), scale_F2x=False))\n",
    "print(meinshausen(np.array([2*277.15, ch4_pi, 273.87]), Cpi=np.array([277.15, ch4_pi, 273.87]), scale_F2x=False)*np.array([1.05, 0.86, 1.07]))"
   ]
  },
  {
   "cell_type": "markdown",
   "id": "significant-booking",
   "metadata": {},
   "source": [
    "### Meinshausen CMIP6 1850"
   ]
  },
  {
   "cell_type": "code",
   "execution_count": 25,
   "id": "strategic-screw",
   "metadata": {},
   "outputs": [
    {
     "name": "stdout",
     "output_type": "stream",
     "text": [
      "[3.80397448 0.         0.        ]\n",
      "[3.9941732 0.        0.       ]\n",
      "[3.74928048 0.         0.        ]\n",
      "[3.93674451 0.         0.        ]\n"
     ]
    }
   ],
   "source": [
    "print(etminan(np.array([2*284.32, ch4_pi, 273.02]), Cpi=np.array([284.32, ch4_pi, 273.02]), scale_F2x=False))\n",
    "print(etminan(np.array([2*284.32, ch4_pi, 273.02]), Cpi=np.array([284.32, ch4_pi, 273.02]), scale_F2x=False)*np.array([1.05, 0.86, 1.07]))\n",
    "\n",
    "print(meinshausen(np.array([2*284.32, ch4_pi, 273.02]), Cpi=np.array([284.32, ch4_pi, 273.02]), scale_F2x=False))\n",
    "print(meinshausen(np.array([2*284.32, ch4_pi, 273.02]), Cpi=np.array([284.32, ch4_pi, 273.02]), scale_F2x=False)*np.array([1.05, 0.86, 1.07]))"
   ]
  },
  {
   "cell_type": "markdown",
   "id": "efficient-capture",
   "metadata": {},
   "source": [
    "### Etminan 2011 values"
   ]
  },
  {
   "cell_type": "code",
   "execution_count": 26,
   "id": "photographic-doctrine",
   "metadata": {},
   "outputs": [
    {
     "name": "stdout",
     "output_type": "stream",
     "text": [
      "[3.83721632 0.         0.        ]\n",
      "[4.02907714 0.         0.        ]\n",
      "[3.79008967 0.         0.        ]\n",
      "[3.97959416 0.         0.        ]\n"
     ]
    }
   ],
   "source": [
    "print(etminan(np.array([2*389, ch4_pi, 323]), Cpi=np.array([389, ch4_pi, 323]), scale_F2x=False))\n",
    "print(etminan(np.array([2*389, ch4_pi, 323]), Cpi=np.array([389, ch4_pi, 323]), scale_F2x=False)*np.array([1.05, 0.86, 1.07]))\n",
    "\n",
    "print(meinshausen(np.array([2*389, ch4_pi, 323]), Cpi=np.array([389, ch4_pi, 323]), scale_F2x=False))\n",
    "print(meinshausen(np.array([2*389, ch4_pi, 323]), Cpi=np.array([389, ch4_pi, 323]), scale_F2x=False)*np.array([1.05, 0.86, 1.07]))"
   ]
  },
  {
   "cell_type": "markdown",
   "id": "political-gibraltar",
   "metadata": {},
   "source": [
    "### chapter 2 2019"
   ]
  },
  {
   "cell_type": "code",
   "execution_count": 27,
   "id": "confidential-greek",
   "metadata": {},
   "outputs": [
    {
     "name": "stdout",
     "output_type": "stream",
     "text": [
      "[3.84352774 0.         0.        ]\n",
      "[4.03570412 0.         0.        ]\n",
      "[3.79782409 0.         0.        ]\n",
      "[3.9877153 0.        0.       ]\n"
     ]
    }
   ],
   "source": [
    "print(etminan(np.array([2*co2_2019, ch4_2019, n2o_2019]), Cpi=np.array([co2_2019, ch4_2019, n2o_2019]), scale_F2x=False))\n",
    "print(etminan(np.array([2*co2_2019, ch4_2019, n2o_2019]), Cpi=np.array([co2_2019, ch4_2019, n2o_2019]), scale_F2x=False)*np.array([1.05, 0.86, 1.07]))\n",
    "\n",
    "print(meinshausen(np.array([2*co2_2019, ch4_2019, n2o_2019]), Cpi=np.array([co2_2019, ch4_2019, n2o_2019]), scale_F2x=False))\n",
    "print(meinshausen(np.array([2*co2_2019, ch4_2019, n2o_2019]), Cpi=np.array([co2_2019, ch4_2019, n2o_2019]), scale_F2x=False)*np.array([1.05, 0.86, 1.07]))"
   ]
  },
  {
   "cell_type": "code",
   "execution_count": null,
   "id": "cosmetic-period",
   "metadata": {},
   "outputs": [],
   "source": []
  }
 ],
 "metadata": {
  "kernelspec": {
   "display_name": "Python 3",
   "language": "python",
   "name": "python3"
  },
  "language_info": {
   "codemirror_mode": {
    "name": "ipython",
    "version": 3
   },
   "file_extension": ".py",
   "mimetype": "text/x-python",
   "name": "python",
   "nbconvert_exporter": "python",
   "pygments_lexer": "ipython3",
   "version": "3.7.9"
  }
 },
 "nbformat": 4,
 "nbformat_minor": 5
}
