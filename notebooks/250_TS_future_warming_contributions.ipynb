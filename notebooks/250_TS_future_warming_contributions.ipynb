{
 "cells": [
  {
   "cell_type": "markdown",
   "metadata": {},
   "source": [
    "# For figure TS13\n",
    "\n",
    "Temperature response to forcing 1750-2100"
   ]
  },
  {
   "cell_type": "code",
   "execution_count": 1,
   "metadata": {},
   "outputs": [],
   "source": [
    "import numpy as np\n",
    "import scipy.stats as st\n",
    "import pandas as pd\n",
    "import matplotlib.pyplot as pl\n",
    "import os\n",
    "from matplotlib import gridspec, rc\n",
    "from matplotlib.lines import Line2D\n",
    "import matplotlib.patches as mp\n",
    "from netCDF4 import Dataset\n",
    "import warnings\n",
    "\n",
    "from ar6.utils.h5 import *"
   ]
  },
  {
   "cell_type": "code",
   "execution_count": 2,
   "metadata": {},
   "outputs": [],
   "source": [
    "# TODO - sort out figure sizing\n",
    "\n",
    "pl.rcParams['figure.figsize'] = (18/2.54, 11/2.54)\n",
    "pl.rcParams['font.size'] = 11\n",
    "pl.rcParams['font.family'] = 'Arial'\n",
    "pl.rcParams['xtick.direction'] = 'out'\n",
    "pl.rcParams['xtick.minor.visible'] = True\n",
    "pl.rcParams['ytick.major.left'] = True\n",
    "pl.rcParams['ytick.major.size'] = 0\n",
    "pl.rcParams['xtick.top'] = True\n",
    "pl.rcParams['figure.dpi'] = 150"
   ]
  },
  {
   "cell_type": "code",
   "execution_count": 3,
   "metadata": {},
   "outputs": [],
   "source": [
    "results = load_dict_from_hdf5('../data_output_large/twolayer_SSPs.h5')"
   ]
  },
  {
   "cell_type": "code",
   "execution_count": 4,
   "metadata": {},
   "outputs": [
    {
     "data": {
      "text/plain": [
       "dict_keys(['ssp119', 'ssp119_climuncert', 'ssp119_remove_aerosol', 'ssp119_remove_aerosol_climuncert', 'ssp119_remove_bc_on_snow', 'ssp119_remove_bc_on_snow_climuncert', 'ssp119_remove_ch4', 'ssp119_remove_ch4_climuncert', 'ssp119_remove_co2', 'ssp119_remove_co2_climuncert', 'ssp119_remove_hfc', 'ssp119_remove_hfc_climuncert', 'ssp119_remove_o3', 'ssp119_remove_o3_climuncert', 'ssp119_remove_other_anthro', 'ssp119_remove_other_anthro_climuncert', 'ssp119_remove_other_ghg', 'ssp119_remove_other_ghg_climuncert', 'ssp119_remove_slcf', 'ssp119_remove_slcf_climuncert', 'ssp126', 'ssp126_climuncert', 'ssp126_remove_aerosol', 'ssp126_remove_aerosol_climuncert', 'ssp126_remove_bc_on_snow', 'ssp126_remove_bc_on_snow_climuncert', 'ssp126_remove_ch4', 'ssp126_remove_ch4_climuncert', 'ssp126_remove_co2', 'ssp126_remove_co2_climuncert', 'ssp126_remove_hfc', 'ssp126_remove_hfc_climuncert', 'ssp126_remove_o3', 'ssp126_remove_o3_climuncert', 'ssp126_remove_other_anthro', 'ssp126_remove_other_anthro_climuncert', 'ssp126_remove_other_ghg', 'ssp126_remove_other_ghg_climuncert', 'ssp126_remove_slcf', 'ssp126_remove_slcf_climuncert', 'ssp245', 'ssp245_climuncert', 'ssp245_remove_aerosol', 'ssp245_remove_aerosol_climuncert', 'ssp245_remove_bc_on_snow', 'ssp245_remove_bc_on_snow_climuncert', 'ssp245_remove_ch4', 'ssp245_remove_ch4_climuncert', 'ssp245_remove_co2', 'ssp245_remove_co2_climuncert', 'ssp245_remove_hfc', 'ssp245_remove_hfc_climuncert', 'ssp245_remove_o3', 'ssp245_remove_o3_climuncert', 'ssp245_remove_other_anthro', 'ssp245_remove_other_anthro_climuncert', 'ssp245_remove_other_ghg', 'ssp245_remove_other_ghg_climuncert', 'ssp245_remove_slcf', 'ssp245_remove_slcf_climuncert', 'ssp370', 'ssp370-lowNTCF-aerchemmip', 'ssp370-lowNTCF-aerchemmip_climuncert', 'ssp370-lowNTCF-aerchemmip_remove_aerosol', 'ssp370-lowNTCF-aerchemmip_remove_aerosol_climuncert', 'ssp370-lowNTCF-aerchemmip_remove_bc_on_snow', 'ssp370-lowNTCF-aerchemmip_remove_bc_on_snow_climuncert', 'ssp370-lowNTCF-aerchemmip_remove_ch4', 'ssp370-lowNTCF-aerchemmip_remove_ch4_climuncert', 'ssp370-lowNTCF-aerchemmip_remove_co2', 'ssp370-lowNTCF-aerchemmip_remove_co2_climuncert', 'ssp370-lowNTCF-aerchemmip_remove_hfc', 'ssp370-lowNTCF-aerchemmip_remove_hfc_climuncert', 'ssp370-lowNTCF-aerchemmip_remove_o3', 'ssp370-lowNTCF-aerchemmip_remove_o3_climuncert', 'ssp370-lowNTCF-aerchemmip_remove_other_anthro', 'ssp370-lowNTCF-aerchemmip_remove_other_anthro_climuncert', 'ssp370-lowNTCF-aerchemmip_remove_other_ghg', 'ssp370-lowNTCF-aerchemmip_remove_other_ghg_climuncert', 'ssp370-lowNTCF-aerchemmip_remove_slcf', 'ssp370-lowNTCF-aerchemmip_remove_slcf_climuncert', 'ssp370-lowNTCF-gidden', 'ssp370-lowNTCF-gidden_climuncert', 'ssp370-lowNTCF-gidden_remove_aerosol', 'ssp370-lowNTCF-gidden_remove_aerosol_climuncert', 'ssp370-lowNTCF-gidden_remove_bc_on_snow', 'ssp370-lowNTCF-gidden_remove_bc_on_snow_climuncert', 'ssp370-lowNTCF-gidden_remove_ch4', 'ssp370-lowNTCF-gidden_remove_ch4_climuncert', 'ssp370-lowNTCF-gidden_remove_co2', 'ssp370-lowNTCF-gidden_remove_co2_climuncert', 'ssp370-lowNTCF-gidden_remove_hfc', 'ssp370-lowNTCF-gidden_remove_hfc_climuncert', 'ssp370-lowNTCF-gidden_remove_o3', 'ssp370-lowNTCF-gidden_remove_o3_climuncert', 'ssp370-lowNTCF-gidden_remove_other_anthro', 'ssp370-lowNTCF-gidden_remove_other_anthro_climuncert', 'ssp370-lowNTCF-gidden_remove_other_ghg', 'ssp370-lowNTCF-gidden_remove_other_ghg_climuncert', 'ssp370-lowNTCF-gidden_remove_slcf', 'ssp370-lowNTCF-gidden_remove_slcf_climuncert', 'ssp370_climuncert', 'ssp370_remove_aerosol', 'ssp370_remove_aerosol_climuncert', 'ssp370_remove_bc_on_snow', 'ssp370_remove_bc_on_snow_climuncert', 'ssp370_remove_ch4', 'ssp370_remove_ch4_climuncert', 'ssp370_remove_co2', 'ssp370_remove_co2_climuncert', 'ssp370_remove_hfc', 'ssp370_remove_hfc_climuncert', 'ssp370_remove_o3', 'ssp370_remove_o3_climuncert', 'ssp370_remove_other_anthro', 'ssp370_remove_other_anthro_climuncert', 'ssp370_remove_other_ghg', 'ssp370_remove_other_ghg_climuncert', 'ssp370_remove_slcf', 'ssp370_remove_slcf_climuncert', 'ssp434', 'ssp434_climuncert', 'ssp434_remove_aerosol', 'ssp434_remove_aerosol_climuncert', 'ssp434_remove_bc_on_snow', 'ssp434_remove_bc_on_snow_climuncert', 'ssp434_remove_ch4', 'ssp434_remove_ch4_climuncert', 'ssp434_remove_co2', 'ssp434_remove_co2_climuncert', 'ssp434_remove_hfc', 'ssp434_remove_hfc_climuncert', 'ssp434_remove_o3', 'ssp434_remove_o3_climuncert', 'ssp434_remove_other_anthro', 'ssp434_remove_other_anthro_climuncert', 'ssp434_remove_other_ghg', 'ssp434_remove_other_ghg_climuncert', 'ssp434_remove_slcf', 'ssp434_remove_slcf_climuncert', 'ssp460', 'ssp460_climuncert', 'ssp460_remove_aerosol', 'ssp460_remove_aerosol_climuncert', 'ssp460_remove_bc_on_snow', 'ssp460_remove_bc_on_snow_climuncert', 'ssp460_remove_ch4', 'ssp460_remove_ch4_climuncert', 'ssp460_remove_co2', 'ssp460_remove_co2_climuncert', 'ssp460_remove_hfc', 'ssp460_remove_hfc_climuncert', 'ssp460_remove_o3', 'ssp460_remove_o3_climuncert', 'ssp460_remove_other_anthro', 'ssp460_remove_other_anthro_climuncert', 'ssp460_remove_other_ghg', 'ssp460_remove_other_ghg_climuncert', 'ssp460_remove_slcf', 'ssp460_remove_slcf_climuncert', 'ssp534-over', 'ssp534-over_climuncert', 'ssp534-over_remove_aerosol', 'ssp534-over_remove_aerosol_climuncert', 'ssp534-over_remove_bc_on_snow', 'ssp534-over_remove_bc_on_snow_climuncert', 'ssp534-over_remove_ch4', 'ssp534-over_remove_ch4_climuncert', 'ssp534-over_remove_co2', 'ssp534-over_remove_co2_climuncert', 'ssp534-over_remove_hfc', 'ssp534-over_remove_hfc_climuncert', 'ssp534-over_remove_o3', 'ssp534-over_remove_o3_climuncert', 'ssp534-over_remove_other_anthro', 'ssp534-over_remove_other_anthro_climuncert', 'ssp534-over_remove_other_ghg', 'ssp534-over_remove_other_ghg_climuncert', 'ssp534-over_remove_slcf', 'ssp534-over_remove_slcf_climuncert', 'ssp585', 'ssp585_climuncert', 'ssp585_remove_aerosol', 'ssp585_remove_aerosol_climuncert', 'ssp585_remove_bc_on_snow', 'ssp585_remove_bc_on_snow_climuncert', 'ssp585_remove_ch4', 'ssp585_remove_ch4_climuncert', 'ssp585_remove_co2', 'ssp585_remove_co2_climuncert', 'ssp585_remove_hfc', 'ssp585_remove_hfc_climuncert', 'ssp585_remove_o3', 'ssp585_remove_o3_climuncert', 'ssp585_remove_other_anthro', 'ssp585_remove_other_anthro_climuncert', 'ssp585_remove_other_ghg', 'ssp585_remove_other_ghg_climuncert', 'ssp585_remove_slcf', 'ssp585_remove_slcf_climuncert'])"
      ]
     },
     "execution_count": 4,
     "metadata": {},
     "output_type": "execute_result"
    }
   ],
   "source": [
    "results.keys()"
   ]
  },
  {
   "cell_type": "code",
   "execution_count": 5,
   "metadata": {},
   "outputs": [
    {
     "data": {
      "text/plain": [
       "(351, 2237)"
      ]
     },
     "execution_count": 5,
     "metadata": {},
     "output_type": "execute_result"
    }
   ],
   "source": [
    "results['ssp245']['surface_temperature'].shape"
   ]
  },
  {
   "cell_type": "code",
   "execution_count": 6,
   "metadata": {},
   "outputs": [
    {
     "data": {
      "text/plain": [
       "1.288290462454323"
      ]
     },
     "execution_count": 6,
     "metadata": {},
     "output_type": "execute_result"
    }
   ],
   "source": [
    "results['ssp245']['surface_temperature'][269].mean()"
   ]
  },
  {
   "cell_type": "code",
   "execution_count": 7,
   "metadata": {},
   "outputs": [
    {
     "name": "stdout",
     "output_type": "stream",
     "text": [
      "ssp119 co2 1.184257818138237\n",
      "ssp119 other_ghg 0.4861647258767829\n",
      "ssp119 other_anthro -0.25795296675811524\n",
      "ssp126 co2 1.5144231930207592\n",
      "ssp126 other_ghg 0.5063625349676361\n",
      "ssp126 other_anthro -0.23845712442740466\n",
      "ssp245 co2 2.2183557849766404\n",
      "ssp245 other_ghg 0.8222079954746065\n",
      "ssp245 other_anthro -0.2982050143319578\n",
      "ssp370 co2 2.9466805281762944\n",
      "ssp370 other_ghg 1.34018733848262\n",
      "ssp370 other_anthro -0.600848755105281\n",
      "ssp585 co2 3.598980300937219\n",
      "ssp585 other_ghg 1.2204077450601272\n",
      "ssp585 other_anthro -0.35563907643431164\n"
     ]
    }
   ],
   "source": [
    "forcings = ['co2', 'other_ghg', 'other_anthro']\n",
    "scenarios = ['ssp119', 'ssp126', 'ssp245', 'ssp370', 'ssp585']\n",
    "for scenario in scenarios:\n",
    "    for forcing in forcings:\n",
    "        print(scenario, forcing, (results[scenario]['surface_temperature'][331:351] - results['%s_remove_%s' % (scenario, forcing)]['surface_temperature'][331:351]).mean())"
   ]
  },
  {
   "cell_type": "code",
   "execution_count": 8,
   "metadata": {},
   "outputs": [
    {
     "data": {
      "text/plain": [
       "(20, 2237)"
      ]
     },
     "execution_count": 8,
     "metadata": {},
     "output_type": "execute_result"
    }
   ],
   "source": [
    "(results['%s_remove_%s' % (scenario, forcing)]['surface_temperature'][331:351] - results['%s_remove_%s' % (scenario, forcing)]['surface_temperature'][0]).shape"
   ]
  },
  {
   "cell_type": "code",
   "execution_count": 9,
   "metadata": {},
   "outputs": [],
   "source": [
    "forcings = ['co2', 'other_ghg', 'other_anthro']\n",
    "\n",
    "AR6_forc = {}\n",
    "AR6_ecsforc = {}\n",
    "scenarios = ['ssp119', 'ssp126', 'ssp245', 'ssp370', 'ssp585']\n",
    "\n",
    "base_periods = {\n",
    "    '1750': 0,\n",
    "    '1850-1900': slice(100,151),\n",
    "    '1995-2014': slice(245,265),\n",
    "    '2010-2019': slice(260,270)\n",
    "}\n",
    "\n",
    "for scenario in scenarios:\n",
    "    AR6_forc[scenario] = {}\n",
    "    AR6_ecsforc[scenario] = {}\n",
    "    for forcing in forcings:\n",
    "        AR6_forc[scenario][forcing] = {}\n",
    "        AR6_ecsforc[scenario][forcing] = {}\n",
    "        for base_period in base_periods:\n",
    "            AR6_forc[scenario][forcing][base_period] = np.zeros(5)\n",
    "            AR6_forc[scenario][forcing][base_period] = np.percentile(\n",
    "                (\n",
    "                    (results[scenario]['surface_temperature'][331:351].mean(axis=0) - results[scenario]['surface_temperature'][base_periods[base_period]].mean(axis=0))-\n",
    "                    (results['%s_remove_%s' % (scenario, forcing)]['surface_temperature'][331:351].mean(axis=0) - results['%s_remove_%s' % (scenario, forcing)]['surface_temperature'][base_periods[base_period]].mean(axis=0))\n",
    "                ), (5,16,50,84,95)\n",
    "            )\n",
    "            AR6_ecsforc[scenario][forcing][base_period] = np.zeros(5)\n",
    "            AR6_ecsforc[scenario][forcing][base_period] = np.percentile(\n",
    "                (\n",
    "                    (results['%s_climuncert' % scenario]['surface_temperature'][331:351].mean(axis=0) - results['%s_climuncert' % scenario]['surface_temperature'][base_periods[base_period]].mean(axis=0))-\n",
    "                    (results['%s_remove_%s_climuncert' % (scenario, forcing)]['surface_temperature'][331:351].mean(axis=0) - results['%s_remove_%s_climuncert' % (scenario, forcing)]['surface_temperature'][base_periods[base_period]].mean(axis=0))\n",
    "                ), (5,16,50,84,95)\n",
    "            )\n",
    "    AR6_forc[scenario]['anthro'] = {}\n",
    "    AR6_ecsforc[scenario]['anthro'] = {}\n",
    "    for base_period in base_periods:\n",
    "        AR6_forc[scenario]['anthro'][base_period] = np.percentile(results[scenario]['surface_temperature'][331:351].mean(axis=0) - results[scenario]['surface_temperature'][base_periods[base_period]].mean(axis=0), (5,16,50,84,95))\n",
    "        AR6_ecsforc[scenario]['anthro'][base_period] = np.percentile(results['%s_climuncert' % scenario]['surface_temperature'][331:351].mean(axis=0) - results['%s_climuncert' % scenario]['surface_temperature'][base_periods[base_period]].mean(axis=0), (5,16,50,84,95))"
   ]
  },
  {
   "cell_type": "code",
   "execution_count": 10,
   "metadata": {},
   "outputs": [
    {
     "name": "stdout",
     "output_type": "stream",
     "text": [
      "[2.06093682 2.29201153 2.75741662 3.32491126 3.77580863]\n",
      "[1.60798856 1.82667164 2.23003025 2.73381763 3.16305307]\n",
      "[0.5914765  0.66602244 0.82773111 1.02892951 1.20466559]\n",
      "[-0.59556644 -0.46164841 -0.29546272 -0.18396343 -0.13168723]\n"
     ]
    }
   ],
   "source": [
    "print(AR6_ecsforc['ssp245']['anthro']['1750'])\n",
    "print(AR6_ecsforc['ssp245']['co2']['1750'])\n",
    "print(AR6_ecsforc['ssp245']['other_ghg']['1750'])\n",
    "print(AR6_ecsforc['ssp245']['other_anthro']['1750'])"
   ]
  },
  {
   "cell_type": "code",
   "execution_count": 11,
   "metadata": {},
   "outputs": [
    {
     "name": "stdout",
     "output_type": "stream",
     "text": [
      "ssp119 0.24225383730895733 0.5643103232211051 0.9575484813364052\n",
      "ssp126 0.506950733053811 0.9043159359522661 1.4826491059645592\n",
      "ssp245 1.243934996453968 1.814827243577203 2.585020146104215\n"
     ]
    },
    {
     "name": "stderr",
     "output_type": "stream",
     "text": [
      "/nfs/b0110/Users/mencsm/miniconda3/envs/ar6/lib/python3.7/site-packages/ipykernel_launcher.py:11: DeprecationWarning: `np.bool` is a deprecated alias for the builtin `bool`. To silence this warning, use `bool` by itself. Doing this will not modify any behavior and is safe. If you specifically wanted the numpy scalar type, use `np.bool_` here.\n",
      "Deprecated in NumPy 1.20; for more details and guidance: https://numpy.org/devdocs/release/1.20.0-notes.html#deprecations\n",
      "  # This is added back by InteractiveShellApp.init_path()\n"
     ]
    },
    {
     "name": "stdout",
     "output_type": "stream",
     "text": [
      "ssp370 1.997464504676968 2.7563576355060757 3.745606165340795\n",
      "ssp585 2.4421390507522727 3.5006266858546886 4.817334752006395\n"
     ]
    }
   ],
   "source": [
    "chapter4_tas = {}\n",
    "varnames = {\n",
    "    '05': 'Q05',\n",
    "    'central': 'mean',\n",
    "    '95': 'Q95'\n",
    "}\n",
    "for scenario in scenarios:\n",
    "    chapter4_tas[scenario] = {}\n",
    "    for pc in ['05','central','95']:\n",
    "        nc = Dataset('../data_input/chapter4_assessed_ranges/assessed_%s_%s.nc' % (scenario, pc))\n",
    "        chapter4_tas[scenario][pc] = nc.variables[varnames[pc]][:]\n",
    "        #if pc=='95' and scen=='ssp119':\n",
    "            #print(nc.variables['time'])\n",
    "            #print(nc.variables['time'][:])\n",
    "            #print(chapter4_tas[scen][pc])\n",
    "        nc.close()\n",
    "    print(scenario, chapter4_tas[scenario]['05'][-1], chapter4_tas[scenario]['central'][-1], chapter4_tas[scenario]['95'][-1])"
   ]
  },
  {
   "cell_type": "code",
   "execution_count": 12,
   "metadata": {},
   "outputs": [
    {
     "name": "stdout",
     "output_type": "stream",
     "text": [
      "ssp119 [0.18526482 0.4873317  1.00715859]\n",
      "ssp126 [0.48410125 0.8561092  1.48209107]\n",
      "ssp245 [1.24454062 1.8227577  2.71540659]\n",
      "ssp370 [2.04358786 2.77952582 3.79594328]\n",
      "ssp585 [2.55150771 3.56435529 5.02484144]\n"
     ]
    }
   ],
   "source": [
    "for scenario in scenarios:\n",
    "    print(scenario, AR6_ecsforc[scenario]['anthro']['1995-2014'][[0,2,4]])"
   ]
  },
  {
   "cell_type": "code",
   "execution_count": 13,
   "metadata": {},
   "outputs": [],
   "source": [
    "output = []\n",
    "for scenario in scenarios:\n",
    "    for base_period in base_periods:\n",
    "        for forcing in ['co2', 'other_ghg', 'other_anthro', 'anthro']:\n",
    "            output.append([scenario, forcing, base_period, \n",
    "                           AR6_ecsforc[scenario][forcing][base_period][0],\n",
    "                           AR6_ecsforc[scenario][forcing][base_period][1],\n",
    "                           AR6_ecsforc[scenario][forcing][base_period][2],\n",
    "                           AR6_ecsforc[scenario][forcing][base_period][3],\n",
    "                           AR6_ecsforc[scenario][forcing][base_period][4],\n",
    "                        ])\n",
    "\n",
    "    output.append([scenario, 'chapter4', '1995-2014', chapter4_tas[scenario]['05'][-1],\n",
    "                   np.nan, \n",
    "                   chapter4_tas[scenario]['central'][-1],\n",
    "                   np.nan,\n",
    "                   chapter4_tas[scenario]['95'][-1]])\n",
    "df = pd.DataFrame(output, columns=['scenario', 'forcing', 'base_period', 'p05','p16','p50','p84','p95'])\n",
    "df.to_csv('../data_output/ts_warming_ranges.csv')"
   ]
  },
  {
   "cell_type": "code",
   "execution_count": null,
   "metadata": {},
   "outputs": [],
   "source": []
  }
 ],
 "metadata": {
  "kernelspec": {
   "display_name": "Python 3",
   "language": "python",
   "name": "python3"
  },
  "language_info": {
   "codemirror_mode": {
    "name": "ipython",
    "version": 3
   },
   "file_extension": ".py",
   "mimetype": "text/x-python",
   "name": "python",
   "nbconvert_exporter": "python",
   "pygments_lexer": "ipython3",
   "version": "3.7.9"
  }
 },
 "nbformat": 4,
 "nbformat_minor": 4
}
