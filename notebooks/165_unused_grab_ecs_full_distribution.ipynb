{
 "cells": [
  {
   "cell_type": "markdown",
   "metadata": {},
   "source": [
    "# Produce ECS distribution in standalone file\n",
    "\n",
    "Theme Song: Mr Blue Sky<br>\n",
    "Artist: Electric Light Orchestra<br>\n",
    "Album: Out of the Blue<br>\n",
    "Released: 1977\n",
    "\n",
    "For Camilla's non-IPCC work :)"
   ]
  },
  {
   "cell_type": "code",
   "execution_count": 6,
   "metadata": {},
   "outputs": [],
   "source": [
    "import numpy as np\n",
    "import matplotlib.pyplot as pl"
   ]
  },
  {
   "cell_type": "code",
   "execution_count": 4,
   "metadata": {},
   "outputs": [],
   "source": [
    "ecs = np.load('../data_input_large/fair-samples/ecs_unconstrained.npy')\n",
    "accept_inds = np.loadtxt('../data_output_large/fair-samples/accept_inds.csv').astype(int)"
   ]
  },
  {
   "cell_type": "code",
   "execution_count": 5,
   "metadata": {},
   "outputs": [
    {
     "data": {
      "text/plain": [
       "array([2.11534868, 2.13367855, 1.80091073, ..., 2.57175912, 2.75880555,\n",
       "       2.38211563])"
      ]
     },
     "execution_count": 5,
     "metadata": {},
     "output_type": "execute_result"
    }
   ],
   "source": [
    "ecs[accept_inds]"
   ]
  },
  {
   "cell_type": "code",
   "execution_count": 12,
   "metadata": {},
   "outputs": [
    {
     "data": {
      "image/png": "[encoded data removed]",
      "text/plain": [
       "<Figure size 432x288 with 1 Axes>"
      ]
     },
     "metadata": {
      "needs_background": "light"
     },
     "output_type": "display_data"
    }
   ],
   "source": [
    "pl.hist(ecs[accept_inds], bins=np.arange(1.6,12.0,0.2), density=True, alpha=0.5);\n",
    "pl.hist(ecs[accept_inds][:600], bins=np.arange(1.6,12.0,0.2), density=True, alpha=0.5);"
   ]
  },
  {
   "cell_type": "code",
   "execution_count": 15,
   "metadata": {},
   "outputs": [],
   "source": [
    "np.savetxt('../data_output_large/fair-samples/ecs.csv', ecs[accept_inds], fmt='%f')"
   ]
  },
  {
   "cell_type": "code",
   "execution_count": null,
   "metadata": {},
   "outputs": [],
   "source": []
  }
 ],
 "metadata": {
  "kernelspec": {
   "display_name": "Python 3",
   "language": "python",
   "name": "python3"
  },
  "language_info": {
   "codemirror_mode": {
    "name": "ipython",
    "version": 3
   },
   "file_extension": ".py",
   "mimetype": "text/x-python",
   "name": "python",
   "nbconvert_exporter": "python",
   "pygments_lexer": "ipython3",
   "version": "3.7.10"
  }
 },
 "nbformat": 4,
 "nbformat_minor": 4
}
