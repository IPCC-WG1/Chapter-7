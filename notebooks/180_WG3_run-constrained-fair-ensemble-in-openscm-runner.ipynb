{
 "cells": [
  {
   "cell_type": "markdown",
   "metadata": {},
   "source": [
    "# Apply the constrained setup and run in openscm-runner\n",
    "\n",
    "- Working Group 3 style setup\n",
    "- TODO: parallel\n",
    "- TODO: update variable names for openscm-runner-0.5.0\n",
    "\n",
    "Theme Song: The Chain<br>\n",
    "Artist: Fleetwood Mac<br>\n",
    "Album: Rumours<br>\n",
    "Released: 1977"
   ]
  },
  {
   "cell_type": "code",
   "execution_count": 1,
   "metadata": {},
   "outputs": [
    {
     "data": {
      "application/javascript": [
       "IPython.OutputArea.prototype._should_scroll = function(lines) { return false; }"
      ],
      "text/plain": [
       "<IPython.core.display.Javascript object>"
      ]
     },
     "metadata": {},
     "output_type": "display_data"
    },
    {
     "name": "stderr",
     "output_type": "stream",
     "text": [
      "/nfs/b0110/Users/mencsm/miniconda3/envs/ar6/lib/python3.7/site-packages/openscm_runner/progress.py:5: TqdmExperimentalWarning: Using `tqdm.autonotebook.tqdm` in notebook mode. Use `tqdm.tqdm` instead to force console mode (e.g. in jupyter console)\n",
      "  from tqdm.autonotebook import tqdm\n"
     ]
    }
   ],
   "source": [
    "import os.path\n",
    "\n",
    "import json\n",
    "import numpy as np\n",
    "import matplotlib.pyplot as plt\n",
    "import pandas as pd\n",
    "import pyam\n",
    "from fair.forward import fair_scm\n",
    "from scmdata import ScmRun, run_append\n",
    "from tqdm import tqdm_notebook\n",
    "\n",
    "import openscm_runner\n",
    "from openscm_runner.run import run\n",
    "from openscm_runner.adapters import FAIR"
   ]
  },
  {
   "cell_type": "code",
   "execution_count": 2,
   "metadata": {},
   "outputs": [
    {
     "data": {
      "text/plain": [
       "'0.1.0-alpha.1+309.g0ab51a4'"
      ]
     },
     "execution_count": 2,
     "metadata": {},
     "output_type": "execute_result"
    }
   ],
   "source": [
    "openscm_runner.__version__"
   ]
  },
  {
   "cell_type": "code",
   "execution_count": 3,
   "metadata": {},
   "outputs": [
    {
     "data": {
      "text/plain": [
       "'1.6.2'"
      ]
     },
     "execution_count": 3,
     "metadata": {},
     "output_type": "execute_result"
    }
   ],
   "source": [
    "fair = FAIR()\n",
    "fair.get_version()"
   ]
  },
  {
   "cell_type": "code",
   "execution_count": 4,
   "metadata": {},
   "outputs": [],
   "source": [
    "with open('../data_output_large/fair-samples/fair-1.6.2-wg3-params.json') as f:\n",
    "    config_list = json.load(f)"
   ]
  },
  {
   "cell_type": "code",
   "execution_count": 5,
   "metadata": {},
   "outputs": [],
   "source": [
    "# what a pain\n",
    "\n",
    "species = [\n",
    "'Emissions|BC',\n",
    "'Emissions|CH4',\n",
    "'Emissions|CO',\n",
    "'Emissions|CO2|MAGICC AFOLU',\n",
    "'Emissions|CO2|MAGICC Fossil and Industrial',\n",
    "'Emissions|F-Gases|HFC|HFC125',\n",
    "'Emissions|F-Gases|HFC|HFC134a',\n",
    "'Emissions|F-Gases|HFC|HFC143a',\n",
    "'Emissions|F-Gases|HFC|HFC227ea',\n",
    "'Emissions|F-Gases|HFC|HFC23',\n",
    "'Emissions|F-Gases|HFC|HFC245fa',\n",
    "'Emissions|F-Gases|HFC|HFC32',\n",
    "'Emissions|F-Gases|HFC|HFC4310mee',\n",
    "'Emissions|F-Gases|PFC|C2F6',\n",
    "'Emissions|F-Gases|PFC|C6F14',\n",
    "'Emissions|F-Gases|PFC|CF4',\n",
    "'Emissions|F-Gases|SF6',\n",
    "'Emissions|Montreal Gases|CCl4',\n",
    "'Emissions|Montreal Gases|CFC|CFC11',\n",
    "'Emissions|Montreal Gases|CFC|CFC113',\n",
    "'Emissions|Montreal Gases|CFC|CFC114',\n",
    "'Emissions|Montreal Gases|CFC|CFC115',\n",
    "'Emissions|Montreal Gases|CFC|CFC12',\n",
    "'Emissions|Montreal Gases|CH3Br',\n",
    "'Emissions|Montreal Gases|CH3CCl3',\n",
    "'Emissions|Montreal Gases|CH3Cl',\n",
    "'Emissions|Montreal Gases|HCFC141b',\n",
    "'Emissions|Montreal Gases|HCFC142b',\n",
    "'Emissions|Montreal Gases|HCFC22',\n",
    "'Emissions|Montreal Gases|Halon1202',\n",
    "'Emissions|Montreal Gases|Halon1211',\n",
    "'Emissions|Montreal Gases|Halon1301',\n",
    "'Emissions|Montreal Gases|Halon2402',\n",
    "'Emissions|N2O',\n",
    "'Emissions|NH3',\n",
    "'Emissions|NOx',\n",
    "'Emissions|OC',\n",
    "'Emissions|Sulfur',\n",
    "'Emissions|VOC']"
   ]
  },
  {
   "cell_type": "code",
   "execution_count": 6,
   "metadata": {},
   "outputs": [
    {
     "name": "stdout",
     "output_type": "stream",
     "text": [
      "312\n"
     ]
    }
   ],
   "source": [
    "df_fair = ScmRun('../data_input_large/rcmip-emissions-annual-means-v5-1-0.csv', lowercase_cols=True)\n",
    "df_fair.filter(\n",
    "    scenario=['ssp119','ssp126','ssp245','ssp370','ssp434','ssp460','ssp534-over','ssp585'], \n",
    "#    year=range(2015,2301),\n",
    "    year=range(2015,2101),\n",
    "    variable=species,\n",
    "    region='World', \n",
    "    inplace=True\n",
    ")\n",
    "print(len(df_fair))\n",
    "#df_fair.head(50)"
   ]
  },
  {
   "cell_type": "code",
   "execution_count": 7,
   "metadata": {},
   "outputs": [
    {
     "data": {
      "text/plain": [
       "351"
      ]
     },
     "execution_count": 7,
     "metadata": {},
     "output_type": "execute_result"
    }
   ],
   "source": [
    "nt = df_fair.time_points.years()[-1] - 1750 + 1\n",
    "nt"
   ]
  },
  {
   "cell_type": "code",
   "execution_count": 8,
   "metadata": {},
   "outputs": [],
   "source": [
    "# # add in natural emissions and natural forcing\n",
    "# ch4_n2o_df = pd.read_csv('../data/cmip6_natural_ch4_n2o.csv')\n",
    "# ch4_n2o = ch4_n2o_df.values[:nt,1:]\n",
    "# sol_vol_df = pd.read_csv('../data/cmip6_natural_forcing.csv')\n",
    "# solar_forcing = sol_vol_df.values[:nt,1]\n",
    "# volcanic_forcing = sol_vol_df.values[:nt,2]"
   ]
  },
  {
   "cell_type": "code",
   "execution_count": 9,
   "metadata": {},
   "outputs": [],
   "source": [
    "#config_list[0]"
   ]
  },
  {
   "cell_type": "code",
   "execution_count": 10,
   "metadata": {},
   "outputs": [],
   "source": [
    "# convert lists to numpy arrays\n",
    "updated_config = []\n",
    "for i in range(len(config_list)):\n",
    "    updated_config.append({})\n",
    "    for key, value in config_list[i].items():\n",
    "        if type(value)==list:\n",
    "            updated_config[i][key] = np.asarray(value)\n",
    "        else:\n",
    "            updated_config[i][key] = value\n",
    "#     updated_config[i]['endyear'] = 2300\n",
    "#     updated_config[i]['natural'] = ch4_n2o\n",
    "#     updated_config[i]['F_solar'] = solar_forcing\n",
    "#     updated_config[i]['F_volcanic'] = volcanic_forcing"
   ]
  },
  {
   "cell_type": "code",
   "execution_count": 11,
   "metadata": {},
   "outputs": [
    {
     "data": {
      "application/vnd.jupyter.widget-view+json": {
       "model_id": "2363403f4e544d23b46dd0125389408e",
       "version_major": 2,
       "version_minor": 0
      },
      "text/plain": [
       "Climate models:   0%|          | 0.00/1.00 [00:00<?, ?it/s]"
      ]
     },
     "metadata": {},
     "output_type": "display_data"
    },
    {
     "data": {
      "application/vnd.jupyter.widget-view+json": {
       "model_id": "9b54d0d7aa7e463987cb5fe735872b58",
       "version_major": 2,
       "version_minor": 0
      },
      "text/plain": [
       "Creating FaIR emissions inputs:   0%|          | 0.00/8.00 [00:00<?, ?it/s]"
      ]
     },
     "metadata": {},
     "output_type": "display_data"
    },
    {
     "name": "stderr",
     "output_type": "stream",
     "text": [
      "Surface Temperature not available from FaIR\n",
      "Surface Temperature (GMST) not available from FaIR\n",
      "Effective Radiative Forcing|Aerosols|Direct Effect|Sulfur not available from FaIR\n",
      "Surface Temperature not available from FaIR\n",
      "Surface Temperature not available from FaIR\n",
      "Surface Temperature (GMST) not available from FaIR\n",
      "Surface Temperature (GMST) not available from FaIR\n",
      "Effective Radiative Forcing|Aerosols|Direct Effect|Sulfur not available from FaIR\n",
      "Effective Radiative Forcing|Aerosols|Direct Effect|Sulfur not available from FaIR\n",
      "Surface Temperature not available from FaIR\n",
      "Surface Temperature (GMST) not available from FaIR\n",
      "Effective Radiative Forcing|Aerosols|Direct Effect|Sulfur not available from FaIR\n",
      "Surface Temperature not available from FaIR\n",
      "Surface Temperature (GMST) not available from FaIR\n",
      "Effective Radiative Forcing|Aerosols|Direct Effect|Sulfur not available from FaIR\n",
      "Surface Temperature not available from FaIR\n",
      "Surface Temperature (GMST) not available from FaIR\n",
      "Effective Radiative Forcing|Aerosols|Direct Effect|Sulfur not available from FaIR\n",
      "Surface Temperature not available from FaIR\n",
      "Surface Temperature (GMST) not available from FaIR\n",
      "Effective Radiative Forcing|Aerosols|Direct Effect|Sulfur not available from FaIR\n",
      "Surface Temperature not available from FaIR\n",
      "Surface Temperature not available from FaIR\n",
      "Surface Temperature (GMST) not available from FaIR\n",
      "Effective Radiative Forcing|Aerosols|Direct Effect|Sulfur not available from FaIR\n",
      "Surface Temperature (GMST) not available from FaIR\n",
      "Effective Radiative Forcing|Aerosols|Direct Effect|Sulfur not available from FaIR\n",
      "Surface Temperature not available from FaIR\n",
      "Surface Temperature (GMST) not available from FaIR\n",
      "Effective Radiative Forcing|Aerosols|Direct Effect|Sulfur not available from FaIR\n",
      "Surface Temperature not available from FaIR\n",
      "Surface Temperature (GMST) not available from FaIR\n",
      "Effective Radiative Forcing|Aerosols|Direct Effect|Sulfur not available from FaIR\n",
      "Surface Temperature not available from FaIR\n",
      "Surface Temperature (GMST) not available from FaIR\n",
      "Effective Radiative Forcing|Aerosols|Direct Effect|Sulfur not available from FaIR\n",
      "Surface Temperature not available from FaIR\n",
      "Surface Temperature (GMST) not available from FaIR\n",
      "Effective Radiative Forcing|Aerosols|Direct Effect|Sulfur not available from FaIR\n",
      "Surface Temperature not available from FaIR\n",
      "Surface Temperature (GMST) not available from FaIR\n",
      "Effective Radiative Forcing|Aerosols|Direct Effect|Sulfur not available from FaIR\n",
      "Surface Temperature not available from FaIR\n",
      "Surface Temperature not available from FaIR\n",
      "Surface Temperature (GMST) not available from FaIR\n",
      "Effective Radiative Forcing|Aerosols|Direct Effect|Sulfur not available from FaIR\n",
      "Surface Temperature (GMST) not available from FaIR\n",
      "Surface Temperature not available from FaIR\n",
      "Effective Radiative Forcing|Aerosols|Direct Effect|Sulfur not available from FaIR\n",
      "Surface Temperature (GMST) not available from FaIR\n",
      "Surface Temperature not available from FaIR\n",
      "Surface Temperature not available from FaIR\n",
      "Surface Temperature not available from FaIR\n",
      "Surface Temperature (GMST) not available from FaIR\n",
      "Surface Temperature (GMST) not available from FaIR\n",
      "Effective Radiative Forcing|Aerosols|Direct Effect|Sulfur not available from FaIR\n",
      "Surface Temperature (GMST) not available from FaIR\n",
      "Effective Radiative Forcing|Aerosols|Direct Effect|Sulfur not available from FaIR\n",
      "Effective Radiative Forcing|Aerosols|Direct Effect|Sulfur not available from FaIR\n",
      "Effective Radiative Forcing|Aerosols|Direct Effect|Sulfur not available from FaIR\n",
      "Surface Temperature not available from FaIR\n",
      "Surface Temperature not available from FaIR\n",
      "Surface Temperature not available from FaIR\n",
      "Surface Temperature (GMST) not available from FaIR\n",
      "Surface Temperature (GMST) not available from FaIR\n",
      "Effective Radiative Forcing|Aerosols|Direct Effect|Sulfur not available from FaIR\n",
      "Surface Temperature not available from FaIR\n",
      "Surface Temperature (GMST) not available from FaIR\n",
      "Surface Temperature not available from FaIR\n",
      "Effective Radiative Forcing|Aerosols|Direct Effect|Sulfur not available from FaIR\n",
      "Surface Temperature (GMST) not available from FaIR\n",
      "Effective Radiative Forcing|Aerosols|Direct Effect|Sulfur not available from FaIR\n",
      "Surface Temperature (GMST) not available from FaIR\n",
      "Effective Radiative Forcing|Aerosols|Direct Effect|Sulfur not available from FaIR\n",
      "Surface Temperature not available from FaIR\n",
      "Surface Temperature (GMST) not available from FaIR\n",
      "Effective Radiative Forcing|Aerosols|Direct Effect|Sulfur not available from FaIR\n",
      "Effective Radiative Forcing|Aerosols|Direct Effect|Sulfur not available from FaIR\n",
      "Surface Temperature not available from FaIR\n",
      "Surface Temperature (GMST) not available from FaIR\n",
      "Effective Radiative Forcing|Aerosols|Direct Effect|Sulfur not available from FaIR\n",
      "Surface Temperature not available from FaIR\n",
      "Surface Temperature (GMST) not available from FaIR\n",
      "Surface Temperature not available from FaIR\n",
      "Surface Temperature (GMST) not available from FaIR\n",
      "Surface Temperature not available from FaIR\n",
      "Effective Radiative Forcing|Aerosols|Direct Effect|Sulfur not available from FaIR\n",
      "Surface Temperature not available from FaIR\n",
      "Surface Temperature (GMST) not available from FaIR\n",
      "Effective Radiative Forcing|Aerosols|Direct Effect|Sulfur not available from FaIR\n",
      "Effective Radiative Forcing|Aerosols|Direct Effect|Sulfur not available from FaIR\n",
      "Surface Temperature not available from FaIR\n",
      "Surface Temperature not available from FaIR\n",
      "Surface Temperature not available from FaIR\n",
      "Surface Temperature (GMST) not available from FaIR\n",
      "Surface Temperature (GMST) not available from FaIR\n",
      "Surface Temperature not available from FaIR\n",
      "Effective Radiative Forcing|Aerosols|Direct Effect|Sulfur not available from FaIR\n",
      "Surface Temperature (GMST) not available from FaIR\n",
      "Effective Radiative Forcing|Aerosols|Direct Effect|Sulfur not available from FaIR\n",
      "Surface Temperature (GMST) not available from FaIR\n",
      "Surface Temperature not available from FaIR\n",
      "Surface Temperature (GMST) not available from FaIR\n",
      "Effective Radiative Forcing|Aerosols|Direct Effect|Sulfur not available from FaIR\n",
      "Surface Temperature not available from FaIR\n",
      "Surface Temperature not available from FaIR\n",
      "Effective Radiative Forcing|Aerosols|Direct Effect|Sulfur not available from FaIR\n",
      "Surface Temperature not available from FaIR\n",
      "Surface Temperature (GMST) not available from FaIR\n",
      "Surface Temperature (GMST) not available from FaIR\n",
      "Surface Temperature (GMST) not available from FaIR\n",
      "Effective Radiative Forcing|Aerosols|Direct Effect|Sulfur not available from FaIR\n",
      "Effective Radiative Forcing|Aerosols|Direct Effect|Sulfur not available from FaIR\n",
      "Effective Radiative Forcing|Aerosols|Direct Effect|Sulfur not available from FaIR\n",
      "Surface Temperature (GMST) not available from FaIR\n",
      "Effective Radiative Forcing|Aerosols|Direct Effect|Sulfur not available from FaIR\n",
      "Surface Temperature not available from FaIR\n",
      "Effective Radiative Forcing|Aerosols|Direct Effect|Sulfur not available from FaIR\n",
      "Surface Temperature not available from FaIR\n",
      "Surface Temperature (GMST) not available from FaIR\n",
      "Surface Temperature (GMST) not available from FaIR\n",
      "Effective Radiative Forcing|Aerosols|Direct Effect|Sulfur not available from FaIR\n",
      "Effective Radiative Forcing|Aerosols|Direct Effect|Sulfur not available from FaIR\n",
      "Surface Temperature not available from FaIR\n",
      "Surface Temperature not available from FaIR\n",
      "Surface Temperature not available from FaIR\n",
      "Surface Temperature (GMST) not available from FaIR\n",
      "Surface Temperature (GMST) not available from FaIR\n",
      "Effective Radiative Forcing|Aerosols|Direct Effect|Sulfur not available from FaIR\n",
      "Effective Radiative Forcing|Aerosols|Direct Effect|Sulfur not available from FaIR\n",
      "Surface Temperature (GMST) not available from FaIR\n",
      "Effective Radiative Forcing|Aerosols|Direct Effect|Sulfur not available from FaIR\n",
      "Surface Temperature not available from FaIR\n",
      "Effective Radiative Forcing|Aerosols|Direct Effect|Sulfur not available from FaIR\n",
      "Surface Temperature (GMST) not available from FaIR\n",
      "Surface Temperature not available from FaIR\n",
      "Surface Temperature (GMST) not available from FaIR\n",
      "Effective Radiative Forcing|Aerosols|Direct Effect|Sulfur not available from FaIR\n",
      "Surface Temperature not available from FaIR\n",
      "Surface Temperature (GMST) not available from FaIR\n"
     ]
    },
    {
     "name": "stderr",
     "output_type": "stream",
     "text": [
      "Surface Temperature not available from FaIR\n",
      "Effective Radiative Forcing|Aerosols|Direct Effect|Sulfur not available from FaIR\n",
      "Surface Temperature (GMST) not available from FaIR\n",
      "Surface Temperature not available from FaIR\n",
      "Surface Temperature (GMST) not available from FaIR\n",
      "Surface Temperature not available from FaIR\n",
      "Surface Temperature not available from FaIR\n",
      "Surface Temperature (GMST) not available from FaIR\n",
      "Surface Temperature (GMST) not available from FaIR\n",
      "Effective Radiative Forcing|Aerosols|Direct Effect|Sulfur not available from FaIR\n",
      "Effective Radiative Forcing|Aerosols|Direct Effect|Sulfur not available from FaIR\n",
      "Effective Radiative Forcing|Aerosols|Direct Effect|Sulfur not available from FaIR\n",
      "Effective Radiative Forcing|Aerosols|Direct Effect|Sulfur not available from FaIR\n",
      "Surface Temperature not available from FaIR\n",
      "Surface Temperature not available from FaIR\n",
      "Surface Temperature not available from FaIR\n",
      "Surface Temperature (GMST) not available from FaIR\n",
      "Surface Temperature not available from FaIR\n",
      "Surface Temperature (GMST) not available from FaIR\n",
      "Effective Radiative Forcing|Aerosols|Direct Effect|Sulfur not available from FaIR\n",
      "Effective Radiative Forcing|Aerosols|Direct Effect|Sulfur not available from FaIR\n",
      "Surface Temperature not available from FaIR\n",
      "Surface Temperature (GMST) not available from FaIR\n",
      "Effective Radiative Forcing|Aerosols|Direct Effect|Sulfur not available from FaIR\n",
      "Surface Temperature (GMST) not available from FaIR\n",
      "Effective Radiative Forcing|Aerosols|Direct Effect|Sulfur not available from FaIR\n",
      "Surface Temperature not available from FaIR\n",
      "Surface Temperature (GMST) not available from FaIR\n",
      "Effective Radiative Forcing|Aerosols|Direct Effect|Sulfur not available from FaIR\n",
      "Surface Temperature not available from FaIR\n",
      "Surface Temperature (GMST) not available from FaIR\n",
      "Effective Radiative Forcing|Aerosols|Direct Effect|Sulfur not available from FaIR\n",
      "Surface Temperature not available from FaIR\n",
      "Surface Temperature (GMST) not available from FaIR\n",
      "Surface Temperature (GMST) not available from FaIR\n",
      "Effective Radiative Forcing|Aerosols|Direct Effect|Sulfur not available from FaIR\n",
      "Surface Temperature not available from FaIR\n",
      "Surface Temperature (GMST) not available from FaIR\n",
      "Surface Temperature not available from FaIR\n",
      "Effective Radiative Forcing|Aerosols|Direct Effect|Sulfur not available from FaIR\n",
      "Surface Temperature (GMST) not available from FaIR\n",
      "Effective Radiative Forcing|Aerosols|Direct Effect|Sulfur not available from FaIR\n",
      "Effective Radiative Forcing|Aerosols|Direct Effect|Sulfur not available from FaIR\n",
      "Surface Temperature not available from FaIR\n",
      "Surface Temperature (GMST) not available from FaIR\n",
      "Effective Radiative Forcing|Aerosols|Direct Effect|Sulfur not available from FaIR\n",
      "Surface Temperature not available from FaIR\n",
      "Surface Temperature not available from FaIR\n",
      "Surface Temperature (GMST) not available from FaIR\n",
      "Effective Radiative Forcing|Aerosols|Direct Effect|Sulfur not available from FaIR\n",
      "Surface Temperature not available from FaIR\n",
      "Surface Temperature (GMST) not available from FaIR\n",
      "Surface Temperature (GMST) not available from FaIR\n",
      "Effective Radiative Forcing|Aerosols|Direct Effect|Sulfur not available from FaIR\n",
      "Effective Radiative Forcing|Aerosols|Direct Effect|Sulfur not available from FaIR\n",
      "Surface Temperature not available from FaIR\n",
      "Surface Temperature not available from FaIR\n",
      "Surface Temperature (GMST) not available from FaIR\n",
      "Surface Temperature (GMST) not available from FaIR\n",
      "Effective Radiative Forcing|Aerosols|Direct Effect|Sulfur not available from FaIR\n",
      "Effective Radiative Forcing|Aerosols|Direct Effect|Sulfur not available from FaIR\n",
      "Surface Temperature not available from FaIR\n",
      "Surface Temperature (GMST) not available from FaIR\n",
      "Surface Temperature (GMST) not available from FaIR\n",
      "Surface Temperature not available from FaIR\n",
      "Effective Radiative Forcing|Aerosols|Direct Effect|Sulfur not available from FaIR\n",
      "Effective Radiative Forcing|Aerosols|Direct Effect|Sulfur not available from FaIR\n",
      "Surface Temperature not available from FaIR\n",
      "Surface Temperature (GMST) not available from FaIR\n",
      "Effective Radiative Forcing|Aerosols|Direct Effect|Sulfur not available from FaIR\n",
      "Surface Temperature not available from FaIR\n",
      "Surface Temperature (GMST) not available from FaIR\n",
      "Effective Radiative Forcing|Aerosols|Direct Effect|Sulfur not available from FaIR\n",
      "Surface Temperature not available from FaIR\n",
      "Surface Temperature not available from FaIR\n",
      "Surface Temperature (GMST) not available from FaIR\n",
      "Surface Temperature not available from FaIR\n",
      "Effective Radiative Forcing|Aerosols|Direct Effect|Sulfur not available from FaIR\n",
      "Surface Temperature (GMST) not available from FaIR\n",
      "Surface Temperature (GMST) not available from FaIR\n",
      "Surface Temperature not available from FaIR\n",
      "Effective Radiative Forcing|Aerosols|Direct Effect|Sulfur not available from FaIR\n",
      "Surface Temperature (GMST) not available from FaIR\n",
      "Effective Radiative Forcing|Aerosols|Direct Effect|Sulfur not available from FaIR\n",
      "Effective Radiative Forcing|Aerosols|Direct Effect|Sulfur not available from FaIR\n",
      "Surface Temperature not available from FaIR\n",
      "Surface Temperature (GMST) not available from FaIR\n",
      "Effective Radiative Forcing|Aerosols|Direct Effect|Sulfur not available from FaIR\n",
      "Surface Temperature not available from FaIR\n",
      "Surface Temperature (GMST) not available from FaIR\n",
      "Effective Radiative Forcing|Aerosols|Direct Effect|Sulfur not available from FaIR\n",
      "Surface Temperature not available from FaIR\n",
      "Surface Temperature (GMST) not available from FaIR\n",
      "Effective Radiative Forcing|Aerosols|Direct Effect|Sulfur not available from FaIR\n",
      "Surface Temperature not available from FaIR\n",
      "Surface Temperature (GMST) not available from FaIR\n",
      "Surface Temperature not available from FaIR\n",
      "Effective Radiative Forcing|Aerosols|Direct Effect|Sulfur not available from FaIR\n",
      "Surface Temperature (GMST) not available from FaIR\n",
      "Effective Radiative Forcing|Aerosols|Direct Effect|Sulfur not available from FaIR\n",
      "Surface Temperature not available from FaIR\n",
      "Surface Temperature (GMST) not available from FaIR\n",
      "Effective Radiative Forcing|Aerosols|Direct Effect|Sulfur not available from FaIR\n",
      "Surface Temperature not available from FaIR\n",
      "Surface Temperature not available from FaIR\n",
      "Surface Temperature (GMST) not available from FaIR\n",
      "Surface Temperature (GMST) not available from FaIR\n",
      "Effective Radiative Forcing|Aerosols|Direct Effect|Sulfur not available from FaIR\n",
      "Surface Temperature not available from FaIR\n",
      "Surface Temperature (GMST) not available from FaIR\n",
      "Effective Radiative Forcing|Aerosols|Direct Effect|Sulfur not available from FaIR\n",
      "Effective Radiative Forcing|Aerosols|Direct Effect|Sulfur not available from FaIR\n",
      "Surface Temperature not available from FaIR\n",
      "Surface Temperature not available from FaIR\n",
      "Surface Temperature (GMST) not available from FaIR\n",
      "Surface Temperature (GMST) not available from FaIR\n",
      "Surface Temperature (GMST) not available from FaIR\n",
      "Effective Radiative Forcing|Aerosols|Direct Effect|Sulfur not available from FaIR\n",
      "Surface Temperature (GMST) not available from FaIR\n",
      "Surface Temperature not available from FaIR\n",
      "Surface Temperature not available from FaIR\n",
      "Effective Radiative Forcing|Aerosols|Direct Effect|Sulfur not available from FaIR\n",
      "Effective Radiative Forcing|Aerosols|Direct Effect|Sulfur not available from FaIR\n",
      "Effective Radiative Forcing|Aerosols|Direct Effect|Sulfur not available from FaIR\n",
      "Surface Temperature not available from FaIR\n",
      "Surface Temperature (GMST) not available from FaIR\n",
      "Effective Radiative Forcing|Aerosols|Direct Effect|Sulfur not available from FaIR\n",
      "Surface Temperature not available from FaIR\n",
      "Surface Temperature not available from FaIR\n",
      "Surface Temperature not available from FaIR\n",
      "Surface Temperature not available from FaIR\n",
      "Effective Radiative Forcing|Aerosols|Direct Effect|Sulfur not available from FaIR\n",
      "Surface Temperature (GMST) not available from FaIR\n",
      "Surface Temperature (GMST) not available from FaIR\n",
      "Surface Temperature not available from FaIR\n",
      "Surface Temperature not available from FaIR\n",
      "Surface Temperature (GMST) not available from FaIR\n",
      "Surface Temperature not available from FaIR\n",
      "Surface Temperature (GMST) not available from FaIR\n",
      "Surface Temperature not available from FaIR\n",
      "Surface Temperature (GMST) not available from FaIR\n"
     ]
    },
    {
     "name": "stderr",
     "output_type": "stream",
     "text": [
      "Effective Radiative Forcing|Aerosols|Direct Effect|Sulfur not available from FaIR\n",
      "Surface Temperature (GMST) not available from FaIR\n",
      "Surface Temperature (GMST) not available from FaIR\n",
      "Surface Temperature (GMST) not available from FaIR\n",
      "Effective Radiative Forcing|Aerosols|Direct Effect|Sulfur not available from FaIR\n",
      "Effective Radiative Forcing|Aerosols|Direct Effect|Sulfur not available from FaIR\n",
      "Effective Radiative Forcing|Aerosols|Direct Effect|Sulfur not available from FaIR\n",
      "Surface Temperature not available from FaIR\n",
      "Surface Temperature not available from FaIR\n",
      "Surface Temperature (GMST) not available from FaIR\n",
      "Surface Temperature not available from FaIR\n",
      "Surface Temperature (GMST) not available from FaIR\n",
      "Surface Temperature (GMST) not available from FaIR\n",
      "Effective Radiative Forcing|Aerosols|Direct Effect|Sulfur not available from FaIR\n",
      "Effective Radiative Forcing|Aerosols|Direct Effect|Sulfur not available from FaIR\n",
      "Surface Temperature not available from FaIR\n",
      "Surface Temperature not available from FaIR\n",
      "Effective Radiative Forcing|Aerosols|Direct Effect|Sulfur not available from FaIR\n",
      "Surface Temperature (GMST) not available from FaIR\n",
      "Surface Temperature (GMST) not available from FaIR\n",
      "Effective Radiative Forcing|Aerosols|Direct Effect|Sulfur not available from FaIR\n",
      "Effective Radiative Forcing|Aerosols|Direct Effect|Sulfur not available from FaIR\n",
      "Effective Radiative Forcing|Aerosols|Direct Effect|Sulfur not available from FaIR\n",
      "Surface Temperature not available from FaIR\n",
      "Surface Temperature (GMST) not available from FaIR\n",
      "Effective Radiative Forcing|Aerosols|Direct Effect|Sulfur not available from FaIR\n",
      "Effective Radiative Forcing|Aerosols|Direct Effect|Sulfur not available from FaIR\n",
      "Surface Temperature (GMST) not available from FaIR\n",
      "Surface Temperature not available from FaIR\n",
      "Surface Temperature not available from FaIR\n",
      "Effective Radiative Forcing|Aerosols|Direct Effect|Sulfur not available from FaIR\n",
      "Surface Temperature not available from FaIR\n",
      "Surface Temperature (GMST) not available from FaIR\n",
      "Effective Radiative Forcing|Aerosols|Direct Effect|Sulfur not available from FaIR\n",
      "Effective Radiative Forcing|Aerosols|Direct Effect|Sulfur not available from FaIR\n",
      "Surface Temperature (GMST) not available from FaIR\n",
      "Surface Temperature not available from FaIR\n",
      "Surface Temperature not available from FaIR\n",
      "Surface Temperature (GMST) not available from FaIR\n",
      "Effective Radiative Forcing|Aerosols|Direct Effect|Sulfur not available from FaIR\n",
      "Surface Temperature (GMST) not available from FaIR\n",
      "Effective Radiative Forcing|Aerosols|Direct Effect|Sulfur not available from FaIR\n",
      "Effective Radiative Forcing|Aerosols|Direct Effect|Sulfur not available from FaIR\n",
      "Surface Temperature (GMST) not available from FaIR\n",
      "Effective Radiative Forcing|Aerosols|Direct Effect|Sulfur not available from FaIR\n",
      "Surface Temperature not available from FaIR\n",
      "Surface Temperature not available from FaIR\n",
      "Surface Temperature (GMST) not available from FaIR\n",
      "Effective Radiative Forcing|Aerosols|Direct Effect|Sulfur not available from FaIR\n",
      "Surface Temperature not available from FaIR\n",
      "Surface Temperature not available from FaIR\n",
      "Surface Temperature (GMST) not available from FaIR\n",
      "Surface Temperature (GMST) not available from FaIR\n",
      "Surface Temperature not available from FaIR\n",
      "Effective Radiative Forcing|Aerosols|Direct Effect|Sulfur not available from FaIR\n",
      "Effective Radiative Forcing|Aerosols|Direct Effect|Sulfur not available from FaIR\n",
      "Surface Temperature (GMST) not available from FaIR\n",
      "Effective Radiative Forcing|Aerosols|Direct Effect|Sulfur not available from FaIR\n",
      "Surface Temperature not available from FaIR\n",
      "Surface Temperature not available from FaIR\n",
      "Surface Temperature not available from FaIR\n",
      "Surface Temperature not available from FaIR\n",
      "Surface Temperature not available from FaIR\n",
      "Surface Temperature (GMST) not available from FaIR\n",
      "Surface Temperature (GMST) not available from FaIR\n",
      "Surface Temperature (GMST) not available from FaIR\n",
      "Effective Radiative Forcing|Aerosols|Direct Effect|Sulfur not available from FaIR\n",
      "Effective Radiative Forcing|Aerosols|Direct Effect|Sulfur not available from FaIR\n",
      "Effective Radiative Forcing|Aerosols|Direct Effect|Sulfur not available from FaIR\n",
      "Surface Temperature (GMST) not available from FaIR\n",
      "Effective Radiative Forcing|Aerosols|Direct Effect|Sulfur not available from FaIR\n",
      "Surface Temperature (GMST) not available from FaIR\n",
      "Surface Temperature not available from FaIR\n",
      "Effective Radiative Forcing|Aerosols|Direct Effect|Sulfur not available from FaIR\n",
      "Surface Temperature not available from FaIR\n",
      "Surface Temperature (GMST) not available from FaIR\n",
      "Surface Temperature not available from FaIR\n",
      "Surface Temperature (GMST) not available from FaIR\n",
      "Surface Temperature not available from FaIR\n",
      "Surface Temperature (GMST) not available from FaIR\n",
      "Effective Radiative Forcing|Aerosols|Direct Effect|Sulfur not available from FaIR\n",
      "Surface Temperature not available from FaIR\n",
      "Surface Temperature not available from FaIR\n",
      "Surface Temperature (GMST) not available from FaIR\n",
      "Surface Temperature (GMST) not available from FaIR\n",
      "Effective Radiative Forcing|Aerosols|Direct Effect|Sulfur not available from FaIR\n",
      "Effective Radiative Forcing|Aerosols|Direct Effect|Sulfur not available from FaIR\n",
      "Effective Radiative Forcing|Aerosols|Direct Effect|Sulfur not available from FaIR\n",
      "Surface Temperature (GMST) not available from FaIR\n",
      "Effective Radiative Forcing|Aerosols|Direct Effect|Sulfur not available from FaIR\n",
      "Surface Temperature not available from FaIR\n",
      "Surface Temperature (GMST) not available from FaIR\n",
      "Effective Radiative Forcing|Aerosols|Direct Effect|Sulfur not available from FaIR\n",
      "Effective Radiative Forcing|Aerosols|Direct Effect|Sulfur not available from FaIR\n",
      "Surface Temperature not available from FaIR\n",
      "Surface Temperature not available from FaIR\n",
      "Effective Radiative Forcing|Aerosols|Direct Effect|Sulfur not available from FaIR\n",
      "Surface Temperature (GMST) not available from FaIR\n",
      "Effective Radiative Forcing|Aerosols|Direct Effect|Sulfur not available from FaIR\n",
      "Surface Temperature (GMST) not available from FaIR\n",
      "Surface Temperature (GMST) not available from FaIR\n",
      "Effective Radiative Forcing|Aerosols|Direct Effect|Sulfur not available from FaIR\n",
      "Surface Temperature not available from FaIR\n",
      "Surface Temperature not available from FaIR\n",
      "Surface Temperature not available from FaIR\n",
      "Surface Temperature not available from FaIR\n",
      "Surface Temperature not available from FaIR\n",
      "Surface Temperature (GMST) not available from FaIR\n",
      "Surface Temperature (GMST) not available from FaIR\n",
      "Effective Radiative Forcing|Aerosols|Direct Effect|Sulfur not available from FaIR\n",
      "Surface Temperature (GMST) not available from FaIR\n",
      "Surface Temperature (GMST) not available from FaIR\n",
      "Effective Radiative Forcing|Aerosols|Direct Effect|Sulfur not available from FaIR\n",
      "Effective Radiative Forcing|Aerosols|Direct Effect|Sulfur not available from FaIR\n"
     ]
    }
   ],
   "source": [
    "# need parallel FaIR in openscm-runner\n",
    "\n",
    "x = run(\n",
    "    climate_models_cfgs={\n",
    "        \"FAIR\": updated_config,\n",
    "    },\n",
    "    scenarios=df_fair,\n",
    "    output_variables=(\n",
    "        \"Surface Temperature\",\n",
    "        \"Surface Temperature (GMST)\",\n",
    "        \"Atmospheric Concentrations|CO2\",\n",
    "        \"Atmospheric Concentrations|CH4\",\n",
    "        \"Atmospheric Concentrations|N2O\",\n",
    "        \"Effective Radiative Forcing\",\n",
    "        \"Effective Radiative Forcing|CO2\",\n",
    "        \"Effective Radiative Forcing|CH4\",\n",
    "        \"Effective Radiative Forcing|N2O\",\n",
    "        \"Effective Radiative Forcing|Greenhouse Gases\",\n",
    "        \"Effective Radiative Forcing|Aerosols\",\n",
    "        \"Effective Radiative Forcing|Aerosols|Direct Effect|BC\",\n",
    "        \"Effective Radiative Forcing|Aerosols|Direct Effect|OC\",\n",
    "        \"Effective Radiative Forcing|Aerosols|Direct Effect|Sulfur\",\n",
    "        \"Effective Radiative Forcing|Aerosols|Direct Effect|Nitrate\",\n",
    "        \"Effective Radiative Forcing|Aerosols|Direct Effect\",\n",
    "        \"Effective Radiative Forcing|Aerosols|Indirect Effect\",\n",
    "        \"Heat Uptake\",\n",
    "        \"Heat Uptake|Ocean\",\n",
    "        \"Airborne Fraction\",\n",
    "    ),\n",
    ")"
   ]
  },
  {
   "cell_type": "code",
   "execution_count": null,
   "metadata": {},
   "outputs": [],
   "source": [
    "# convert to ScmRun for better plotting functionality\n",
    "x = ScmRun(x.timeseries())"
   ]
  },
  {
   "cell_type": "code",
   "execution_count": null,
   "metadata": {},
   "outputs": [],
   "source": [
    "x.tail()"
   ]
  },
  {
   "cell_type": "code",
   "execution_count": null,
   "metadata": {},
   "outputs": [],
   "source": [
    "def new_timeseries(\n",
    "    n=100,\n",
    "    count=1,\n",
    "    model=\"example\",\n",
    "    scenario=\"ssp119\",\n",
    "    variable=\"Surface Temperature\",\n",
    "    unit=\"K\",\n",
    "    region=\"World\",\n",
    "    cls=ScmRun,\n",
    "    **kwargs,\n",
    "):\n",
    "    data = np.random.rand(n, count) * np.arange(n)[:, np.newaxis]\n",
    "    index = 2000 + np.arange(n)\n",
    "    return cls(\n",
    "        data,\n",
    "        columns={\n",
    "            \"model\": model,\n",
    "            \"scenario\": scenario,\n",
    "            \"variable\": variable,\n",
    "            \"region\": region,\n",
    "            \"unit\": unit,\n",
    "            **kwargs,\n",
    "        },\n",
    "        index=index,\n",
    "    )"
   ]
  },
  {
   "cell_type": "code",
   "execution_count": null,
   "metadata": {},
   "outputs": [],
   "source": [
    "# save output to netCDF\n",
    "x.to_nc('../data_output_large/fair-samples/ssp_emissions_driven_runs.nc', dimensions=[\"run_id\", \"scenario\", \"model\"])"
   ]
  },
  {
   "cell_type": "code",
   "execution_count": null,
   "metadata": {},
   "outputs": [],
   "source": [
    "x = ScmRun.from_nc('../data_output_large/fair-samples/ssp_emissions_driven_runs.nc')\n",
    "\n",
    "from scmdata.plotting import RCMIP_SCENARIO_COLOURS"
   ]
  },
  {
   "cell_type": "code",
   "execution_count": null,
   "metadata": {},
   "outputs": [],
   "source": [
    "plt.rcParams['font.size'] = 14\n",
    "ax = plt.figure(figsize=(12, 7)).add_subplot(111)\n",
    "# x.filter(variable=\"Surface Temperature\").relative_to_ref_period_mean(year=range(1985,2005)).lineplot(\n",
    "#     hue=\"scenario\", style=\"model\", ax=ax, time_axis=\"year\", palette=RCMIP_SCENARIO_COLOURS,\n",
    "#     hue_order=RCMIP_SCENARIO_COLOURS.keys(),\n",
    "# )\n",
    "x.filter(variable=\"Surface Temperature\").relative_to_ref_period_mean(year=range(1850,1900)).lineplot(\n",
    "    hue=\"scenario\",\n",
    "    ax=ax,\n",
    "    time_axis=\"year\",\n",
    "    palette=RCMIP_SCENARIO_COLOURS,\n",
    "    hue_order=RCMIP_SCENARIO_COLOURS.keys(),\n",
    ")\n",
    "ax.set_xlim(1850,2100)\n",
    "#ax.axhline(0, color='k', ls=':')\n",
    "ax.grid()\n",
    "ax.set_title('SSP projections with FaIR: 1850-2100')\n",
    "plt.tight_layout()"
   ]
  },
  {
   "cell_type": "code",
   "execution_count": null,
   "metadata": {},
   "outputs": [],
   "source": [
    "ax = plt.figure(figsize=(12, 7)).add_subplot(111)\n",
    "x.filter(variable=\"Effective Radiative Forcing|Aerosols\").lineplot(\n",
    "    hue=\"scenario\", style=\"model\", ax=ax, time_axis=\"year\"\n",
    ")"
   ]
  },
  {
   "cell_type": "code",
   "execution_count": null,
   "metadata": {},
   "outputs": [],
   "source": [
    "ax = plt.figure(figsize=(12, 7)).add_subplot(111)\n",
    "x.filter(variable=\"Effective Radiative Forcing|Aerosols|Direct Effect|BC\").lineplot(\n",
    "    hue=\"scenario\", style=\"model\", ax=ax, time_axis=\"year\"\n",
    ")"
   ]
  },
  {
   "cell_type": "code",
   "execution_count": null,
   "metadata": {},
   "outputs": [],
   "source": [
    "ax = plt.figure(figsize=(12, 7)).add_subplot(111)\n",
    "x.filter(variable=\"Effective Radiative Forcing|Aerosols|Direct Effect|OC\").lineplot(\n",
    "    hue=\"scenario\", style=\"model\", ax=ax, time_axis=\"year\"\n",
    ")"
   ]
  },
  {
   "cell_type": "code",
   "execution_count": null,
   "metadata": {},
   "outputs": [],
   "source": [
    "ax = plt.figure(figsize=(12, 7)).add_subplot(111)\n",
    "x.filter(variable=\"Effective Radiative Forcing|Aerosols|Direct Effect|Sulfur\").lineplot(\n",
    "    hue=\"scenario\", style=\"model\", ax=ax, time_axis=\"year\"\n",
    ")"
   ]
  },
  {
   "cell_type": "code",
   "execution_count": null,
   "metadata": {},
   "outputs": [],
   "source": [
    "ax = plt.figure(figsize=(12, 7)).add_subplot(111)\n",
    "x.filter(variable=\"Effective Radiative Forcing|Aerosols|Direct Effect|Nitrate\").lineplot(\n",
    "    hue=\"scenario\", style=\"model\", ax=ax, time_axis=\"year\"\n",
    ")"
   ]
  },
  {
   "cell_type": "code",
   "execution_count": null,
   "metadata": {},
   "outputs": [],
   "source": [
    "ax = plt.figure(figsize=(12, 7)).add_subplot(111)\n",
    "x.filter(variable=\"Effective Radiative Forcing|Aerosols|Direct Effect\").lineplot(\n",
    "    hue=\"scenario\", style=\"model\", ax=ax, time_axis=\"year\"\n",
    ")"
   ]
  },
  {
   "cell_type": "code",
   "execution_count": null,
   "metadata": {},
   "outputs": [],
   "source": [
    "ax = plt.figure(figsize=(12, 7)).add_subplot(111)\n",
    "x.filter(variable=\"Effective Radiative Forcing|Aerosols|Indirect Effect\").lineplot(\n",
    "    hue=\"scenario\", style=\"model\", ax=ax, time_axis=\"year\"\n",
    ")"
   ]
  },
  {
   "cell_type": "code",
   "execution_count": null,
   "metadata": {},
   "outputs": [],
   "source": [
    "ax = plt.figure(figsize=(12, 7)).add_subplot(111)\n",
    "x.filter(variable=\"Atmospheric Concentrations|CO2\").lineplot(\n",
    "    hue=\"scenario\", style=\"model\", ax=ax, time_axis=\"year\"\n",
    ")"
   ]
  },
  {
   "cell_type": "code",
   "execution_count": null,
   "metadata": {},
   "outputs": [],
   "source": [
    "ax = plt.figure(figsize=(12, 7)).add_subplot(111)\n",
    "x.filter(variable=\"Atmospheric Concentrations|CH4\").lineplot(\n",
    "    hue=\"scenario\", style=\"model\", ax=ax, time_axis=\"year\"\n",
    ")"
   ]
  },
  {
   "cell_type": "code",
   "execution_count": null,
   "metadata": {},
   "outputs": [],
   "source": [
    "ax = plt.figure(figsize=(12, 7)).add_subplot(111)\n",
    "x.filter(variable=\"Atmospheric Concentrations|N2O\").lineplot(\n",
    "    hue=\"scenario\", style=\"model\", ax=ax, time_axis=\"year\"\n",
    ")"
   ]
  },
  {
   "cell_type": "code",
   "execution_count": null,
   "metadata": {},
   "outputs": [],
   "source": [
    "ax = plt.figure(figsize=(12, 7)).add_subplot(111)\n",
    "x.filter(variable=\"Heat Uptake\").lineplot(\n",
    "    hue=\"scenario\", style=\"model\", ax=ax, time_axis=\"year\"\n",
    ")"
   ]
  },
  {
   "cell_type": "code",
   "execution_count": null,
   "metadata": {},
   "outputs": [],
   "source": [
    "ax = plt.figure(figsize=(12, 7)).add_subplot(111)\n",
    "x.filter(variable=\"Airborne Fraction\").lineplot(\n",
    "    hue=\"scenario\", style=\"model\", ax=ax, time_axis=\"year\"\n",
    ")"
   ]
  },
  {
   "cell_type": "code",
   "execution_count": null,
   "metadata": {},
   "outputs": [],
   "source": [
    "x.filter(scenario='ssp119', variable=\"Atmospheric Concentrations|CO2\").timeseries()"
   ]
  },
  {
   "cell_type": "code",
   "execution_count": null,
   "metadata": {},
   "outputs": [],
   "source": [
    "x.filter(variable=\"Atmospheric Concentrations|N2O\", scenario='ssp119', run_id=0).timeseries().values.squeeze()[264]"
   ]
  },
  {
   "cell_type": "code",
   "execution_count": null,
   "metadata": {},
   "outputs": [],
   "source": [
    "x.filter(variable=\"Atmospheric Concentrations|CH4\", scenario='ssp119', run_id=0).timeseries().values.squeeze()[264]"
   ]
  },
  {
   "cell_type": "code",
   "execution_count": null,
   "metadata": {},
   "outputs": [],
   "source": []
  }
 ],
 "metadata": {
  "kernelspec": {
   "display_name": "Python 3",
   "language": "python",
   "name": "python3"
  },
  "language_info": {
   "codemirror_mode": {
    "name": "ipython",
    "version": 3
   },
   "file_extension": ".py",
   "mimetype": "text/x-python",
   "name": "python",
   "nbconvert_exporter": "python",
   "pygments_lexer": "ipython3",
   "version": "3.7.9"
  }
 },
 "nbformat": 4,
 "nbformat_minor": 4
}
