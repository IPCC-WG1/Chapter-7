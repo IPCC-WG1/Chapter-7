{
 "cells": [
  {
   "cell_type": "markdown",
   "id": "tutorial-fleece",
   "metadata": {},
   "source": [
    "# Plot fig 4.40\n",
    "\n",
    "This is the difference between RCPs and SSPs for ERF."
   ]
  },
  {
   "cell_type": "code",
   "execution_count": 5,
   "id": "steady-pressure",
   "metadata": {},
   "outputs": [],
   "source": [
    "import matplotlib.pyplot as pl\n",
    "import numpy as np\n",
    "import pandas as pd"
   ]
  },
  {
   "cell_type": "code",
   "execution_count": 59,
   "id": "portuguese-background",
   "metadata": {},
   "outputs": [],
   "source": [
    "pl.rcParams['figure.figsize'] = (18/2.54, 9/2.54)\n",
    "pl.rcParams['font.size'] = 9\n",
    "pl.rcParams['font.family'] = 'Arial'\n",
    "pl.rcParams['ytick.direction'] = 'out'\n",
    "pl.rcParams['ytick.minor.visible'] = True\n",
    "pl.rcParams['ytick.major.right'] = True\n",
    "pl.rcParams['ytick.right'] = True\n",
    "pl.rcParams['xtick.major.bottom'] = False\n",
    "pl.rcParams['axes.spines.bottom'] = False\n",
    "pl.rcParams['axes.spines.top'] = False"
   ]
  },
  {
   "cell_type": "code",
   "execution_count": 60,
   "id": "ongoing-hypothesis",
   "metadata": {},
   "outputs": [],
   "source": [
    "erf = {}\n",
    "scenarios = ['ssp126', 'ssp245', 'ssp585', 'rcp26', 'rcp45', 'rcp85']\n",
    "\n",
    "for scenario in scenarios:\n",
    "    path = '../data_output/' + scenario[:3].upper() + 's/'\n",
    "    erf[scenario] = pd.read_csv(path + 'ERF_%s_1750-2500.csv' % scenario, index_col=0)\n",
    "    erf[scenario]['wmghg'] = erf[scenario]['co2'] + erf[scenario]['ch4'] + erf[scenario]['n2o'] + erf[scenario]['other_wmghg']\n",
    "    erf[scenario]['aerosol'] = erf[scenario]['aerosol-radiation_interactions'] + erf[scenario]['aerosol-cloud_interactions']"
   ]
  },
  {
   "cell_type": "code",
   "execution_count": 105,
   "id": "durable-surprise",
   "metadata": {},
   "outputs": [
    {
     "data": {
      "image/png": "[encoded data removed]",
      "text/plain": [
       "<Figure size 510.236x255.118 with 3 Axes>"
      ]
     },
     "metadata": {
      "needs_background": "light"
     },
     "output_type": "display_data"
    }
   ],
   "source": [
    "colors_ssp = {\n",
    "    'co2' : '#7f0089',\n",
    "    'wmghg' : '#7000c0',\n",
    "    'aerosol': '#66665f',\n",
    "    'total_anthropogenic': '#24937e'\n",
    "}\n",
    "\n",
    "colors_rcp = {\n",
    "    'co2' : '#f457ff',\n",
    "    'wmghg' : '#d08fff',\n",
    "    'aerosol': '#ccccc7',\n",
    "    'total_anthropogenic': '#9ce7d9'\n",
    "}\n",
    "\n",
    "labels = {\n",
    "    'co2': 'Carbon dioxide',\n",
    "    'wmghg': 'Greenhouse gases',\n",
    "    'aerosol': 'Aerosols',\n",
    "    'total_anthropogenic': 'Total'\n",
    "}\n",
    "\n",
    "sspid = {\n",
    "    '26' : '1',\n",
    "    '45' : '2',\n",
    "    '85' : '5'\n",
    "}\n",
    "\n",
    "fig, ax = pl.subplots(1, 3)\n",
    "for iforc, forc in enumerate(['26', '45', '85']):\n",
    "    real_name = forc[0] + '.' + forc[1]\n",
    "    for ispec, specie in enumerate(['co2', 'wmghg', 'aerosol', 'total_anthropogenic']):\n",
    "        ax[iforc].bar(\n",
    "            ispec+0.3, erf['ssp'+sspid[forc]+forc].loc[2100,specie], width=0.4, color=colors_ssp[specie],\n",
    "            label=(labels[specie] if iforc==0 else '')\n",
    "        )\n",
    "        ax[iforc].bar(\n",
    "            ispec+0.7, erf['rcp'+forc].loc[2100,specie], width=0.4, color=colors_rcp[specie],\n",
    "            label=('2100' if (iforc==1 and ispec==3) else '')\n",
    "        )\n",
    "        ax[iforc].bar(ispec+0.3, erf['ssp'+sspid[forc]+forc].loc[2050,specie], width=0.4, color='None', hatch='/', lw=1, edgecolor='k')\n",
    "        ax[iforc].bar(\n",
    "            ispec+0.7, erf['rcp'+forc].loc[2050,specie], width=0.4, color='None', hatch='/', lw=1, edgecolor='k',\n",
    "            label=('2050' if (iforc==1 and ispec==3) else '')\n",
    "        )\n",
    "        ax[iforc].text(ispec+0.3, -2.2, 'SSP', ha='center', va='bottom', rotation=90)\n",
    "        ax[iforc].text(ispec+0.7, -2.2, 'RCP', ha='center', va='bottom', rotation=90)\n",
    "    ax[iforc].axhline(0, ls=':', color='k', lw=0.5)\n",
    "    ax[iforc].set_ylim(-2.2, 12)\n",
    "    ax[iforc].text(2, 11.4, '('+chr(iforc+97)+') SSP'+sspid[forc]+'-'+real_name+'/RCP'+real_name, ha='center', va='bottom')\n",
    "    \n",
    "ax[0].set_ylabel('W m$^{-2}$')\n",
    "ax[1].set_yticklabels([])\n",
    "ax[2].set_yticklabels([])\n",
    "\n",
    "ax[0].legend(loc='upper left', bbox_to_anchor=[0,0.9])\n",
    "ax[1].legend(loc='upper left', bbox_to_anchor=[0,0.9])\n",
    "subplots_center = 0.5 * (ax[1].get_position().x0 + ax[1].get_position().x1)\n",
    "pl.figtext(subplots_center, 0.95, 'Effective radiative forcing in SSP and RCP scenarios', ha='center', va='bottom', fontsize=11)\n",
    "fig.tight_layout(rect=[0,0,1,0.97])\n",
    "pl.savefig('../figures/fig4.40.png', dpi=300)\n",
    "pl.savefig('../figures/fig4.40.pdf')"
   ]
  },
  {
   "cell_type": "code",
   "execution_count": null,
   "id": "sophisticated-pearl",
   "metadata": {},
   "outputs": [],
   "source": []
  }
 ],
 "metadata": {
  "kernelspec": {
   "display_name": "Python 3",
   "language": "python",
   "name": "python3"
  },
  "language_info": {
   "codemirror_mode": {
    "name": "ipython",
    "version": 3
   },
   "file_extension": ".py",
   "mimetype": "text/x-python",
   "name": "python",
   "nbconvert_exporter": "python",
   "pygments_lexer": "ipython3",
   "version": "3.7.9"
  }
 },
 "nbformat": 4,
 "nbformat_minor": 5
}
