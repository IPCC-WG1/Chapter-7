{
 "cells": [
  {
   "cell_type": "markdown",
   "metadata": {},
   "source": [
    "# Ensemble selection for historical temperature attribution\n",
    "\n",
    "- Run two layer model with AR6 forcing, but using constrained-correlated parameter setups\n",
    "- Use constrained FaIR setup from 056 and 057 "
   ]
  },
  {
   "cell_type": "code",
   "execution_count": 1,
   "metadata": {},
   "outputs": [],
   "source": [
    "import fair\n",
    "import json\n",
    "import sys\n",
    "import os\n",
    "import random\n",
    "import numpy as np\n",
    "import scipy.stats as st       # v1.4+ needed\n",
    "import matplotlib.pyplot as pl\n",
    "import pandas as pd\n",
    "from multiprocessing import Pool\n",
    "\n",
    "from ar6.utils.h5 import *\n",
    "from ar6.forcing.aerosol import aerocom_n, ghan\n",
    "from ar6.twolayermodel import TwoLayerModel\n",
    "\n",
    "from netCDF4 import Dataset\n",
    "from tqdm import tqdm_notebook\n",
    "from scipy.interpolate import interp1d\n",
    "\n",
    "from tqdm.notebook import tqdm"
   ]
  },
  {
   "cell_type": "markdown",
   "metadata": {},
   "source": [
    "## Ensemble generation\n",
    "\n",
    "We want to ensure reproducible results that don't change when this script is re-run. Grab list of pre-generated random seeds."
   ]
  },
  {
   "cell_type": "code",
   "execution_count": 2,
   "metadata": {},
   "outputs": [],
   "source": [
    "with open('../data_input/random_seeds.json', 'r') as filehandle:\n",
    "    SEEDS = json.load(filehandle)"
   ]
  },
  {
   "cell_type": "code",
   "execution_count": 3,
   "metadata": {},
   "outputs": [],
   "source": [
    "NINETY_TO_ONESIGMA = st.norm.ppf(0.95)"
   ]
  },
  {
   "cell_type": "code",
   "execution_count": 4,
   "metadata": {},
   "outputs": [
    {
     "data": {
      "text/html": [
       "<div>\n",
       "<style scoped>\n",
       "    .dataframe tbody tr th:only-of-type {\n",
       "        vertical-align: middle;\n",
       "    }\n",
       "\n",
       "    .dataframe tbody tr th {\n",
       "        vertical-align: top;\n",
       "    }\n",
       "\n",
       "    .dataframe thead th {\n",
       "        text-align: right;\n",
       "    }\n",
       "</style>\n",
       "<table border=\"1\" class=\"dataframe\">\n",
       "  <thead>\n",
       "    <tr style=\"text-align: right;\">\n",
       "      <th></th>\n",
       "      <th>BC</th>\n",
       "      <th>CO</th>\n",
       "      <th>NH3</th>\n",
       "      <th>NOx</th>\n",
       "      <th>OC</th>\n",
       "      <th>SO2</th>\n",
       "      <th>VOC</th>\n",
       "    </tr>\n",
       "    <tr>\n",
       "      <th>year</th>\n",
       "      <th></th>\n",
       "      <th></th>\n",
       "      <th></th>\n",
       "      <th></th>\n",
       "      <th></th>\n",
       "      <th></th>\n",
       "      <th></th>\n",
       "    </tr>\n",
       "  </thead>\n",
       "  <tbody>\n",
       "    <tr>\n",
       "      <th>1750</th>\n",
       "      <td>2.097336</td>\n",
       "      <td>348.420476</td>\n",
       "      <td>6.683996</td>\n",
       "      <td>12.730074</td>\n",
       "      <td>15.447054</td>\n",
       "      <td>2.312083</td>\n",
       "      <td>60.599376</td>\n",
       "    </tr>\n",
       "    <tr>\n",
       "      <th>1751</th>\n",
       "      <td>2.072491</td>\n",
       "      <td>343.819148</td>\n",
       "      <td>6.615537</td>\n",
       "      <td>12.587160</td>\n",
       "      <td>15.188102</td>\n",
       "      <td>2.281498</td>\n",
       "      <td>59.667759</td>\n",
       "    </tr>\n",
       "    <tr>\n",
       "      <th>1752</th>\n",
       "      <td>2.063877</td>\n",
       "      <td>341.701465</td>\n",
       "      <td>6.573965</td>\n",
       "      <td>12.589121</td>\n",
       "      <td>15.033861</td>\n",
       "      <td>2.270899</td>\n",
       "      <td>59.213713</td>\n",
       "    </tr>\n",
       "    <tr>\n",
       "      <th>1753</th>\n",
       "      <td>2.071515</td>\n",
       "      <td>343.567551</td>\n",
       "      <td>6.635011</td>\n",
       "      <td>12.534665</td>\n",
       "      <td>15.181930</td>\n",
       "      <td>2.284976</td>\n",
       "      <td>59.610148</td>\n",
       "    </tr>\n",
       "    <tr>\n",
       "      <th>1754</th>\n",
       "      <td>2.098914</td>\n",
       "      <td>349.707369</td>\n",
       "      <td>6.767852</td>\n",
       "      <td>12.631676</td>\n",
       "      <td>15.558158</td>\n",
       "      <td>2.336934</td>\n",
       "      <td>60.855827</td>\n",
       "    </tr>\n",
       "    <tr>\n",
       "      <th>...</th>\n",
       "      <td>...</td>\n",
       "      <td>...</td>\n",
       "      <td>...</td>\n",
       "      <td>...</td>\n",
       "      <td>...</td>\n",
       "      <td>...</td>\n",
       "      <td>...</td>\n",
       "    </tr>\n",
       "    <tr>\n",
       "      <th>2015</th>\n",
       "      <td>7.992567</td>\n",
       "      <td>894.144647</td>\n",
       "      <td>62.462922</td>\n",
       "      <td>138.718989</td>\n",
       "      <td>30.046634</td>\n",
       "      <td>91.076152</td>\n",
       "      <td>213.006570</td>\n",
       "    </tr>\n",
       "    <tr>\n",
       "      <th>2016</th>\n",
       "      <td>7.918346</td>\n",
       "      <td>874.700320</td>\n",
       "      <td>63.054904</td>\n",
       "      <td>137.128483</td>\n",
       "      <td>30.086767</td>\n",
       "      <td>87.215738</td>\n",
       "      <td>211.778440</td>\n",
       "    </tr>\n",
       "    <tr>\n",
       "      <th>2017</th>\n",
       "      <td>7.886938</td>\n",
       "      <td>867.879243</td>\n",
       "      <td>63.739495</td>\n",
       "      <td>137.159668</td>\n",
       "      <td>30.057079</td>\n",
       "      <td>84.269791</td>\n",
       "      <td>211.717165</td>\n",
       "    </tr>\n",
       "    <tr>\n",
       "      <th>2018</th>\n",
       "      <td>7.841661</td>\n",
       "      <td>861.556227</td>\n",
       "      <td>64.298351</td>\n",
       "      <td>136.397333</td>\n",
       "      <td>29.920370</td>\n",
       "      <td>84.532481</td>\n",
       "      <td>210.331432</td>\n",
       "    </tr>\n",
       "    <tr>\n",
       "      <th>2019</th>\n",
       "      <td>7.785028</td>\n",
       "      <td>855.030049</td>\n",
       "      <td>64.863667</td>\n",
       "      <td>135.346810</td>\n",
       "      <td>29.751818</td>\n",
       "      <td>83.707858</td>\n",
       "      <td>209.077100</td>\n",
       "    </tr>\n",
       "  </tbody>\n",
       "</table>\n",
       "<p>270 rows × 7 columns</p>\n",
       "</div>"
      ],
      "text/plain": [
       "            BC          CO        NH3         NOx         OC        SO2  \\\n",
       "year                                                                      \n",
       "1750  2.097336  348.420476   6.683996   12.730074  15.447054   2.312083   \n",
       "1751  2.072491  343.819148   6.615537   12.587160  15.188102   2.281498   \n",
       "1752  2.063877  341.701465   6.573965   12.589121  15.033861   2.270899   \n",
       "1753  2.071515  343.567551   6.635011   12.534665  15.181930   2.284976   \n",
       "1754  2.098914  349.707369   6.767852   12.631676  15.558158   2.336934   \n",
       "...        ...         ...        ...         ...        ...        ...   \n",
       "2015  7.992567  894.144647  62.462922  138.718989  30.046634  91.076152   \n",
       "2016  7.918346  874.700320  63.054904  137.128483  30.086767  87.215738   \n",
       "2017  7.886938  867.879243  63.739495  137.159668  30.057079  84.269791   \n",
       "2018  7.841661  861.556227  64.298351  136.397333  29.920370  84.532481   \n",
       "2019  7.785028  855.030049  64.863667  135.346810  29.751818  83.707858   \n",
       "\n",
       "             VOC  \n",
       "year              \n",
       "1750   60.599376  \n",
       "1751   59.667759  \n",
       "1752   59.213713  \n",
       "1753   59.610148  \n",
       "1754   60.855827  \n",
       "...          ...  \n",
       "2015  213.006570  \n",
       "2016  211.778440  \n",
       "2017  211.717165  \n",
       "2018  210.331432  \n",
       "2019  209.077100  \n",
       "\n",
       "[270 rows x 7 columns]"
      ]
     },
     "execution_count": 4,
     "metadata": {},
     "output_type": "execute_result"
    }
   ],
   "source": [
    "emissions = pd.read_csv('../data_input_large/rcmip-emissions-annual-means-v5-1-0.csv')\n",
    "df_emissions = pd.concat([emissions.loc[(\n",
    "        (emissions.Variable=='Emissions|BC')|\n",
    "        (emissions.Variable=='Emissions|OC')|\n",
    "        (emissions.Variable=='Emissions|Sulfur')|\n",
    "        (emissions.Variable=='Emissions|NOx')|\n",
    "        (emissions.Variable=='Emissions|NH3')|\n",
    "        (emissions.Variable=='Emissions|VOC')|\n",
    "        (emissions.Variable=='Emissions|CO')\n",
    "    ) & (emissions.Scenario=='ssp245') & (emissions.Region=='World'), 'Variable'], emissions.loc[(\n",
    "        (emissions.Variable=='Emissions|BC')|\n",
    "        (emissions.Variable=='Emissions|OC')|\n",
    "        (emissions.Variable=='Emissions|Sulfur')|\n",
    "        (emissions.Variable=='Emissions|NOx')|\n",
    "        (emissions.Variable=='Emissions|NH3')|\n",
    "        (emissions.Variable=='Emissions|VOC')|\n",
    "        (emissions.Variable=='Emissions|CO')\n",
    "    ) & (emissions.Scenario=='ssp245') & (emissions.Region=='World'), '1750':'2100']], axis=1)#.interpolate(axis=1).T\n",
    "df_emissions.set_index('Variable', inplace=True)\n",
    "df_emissions = df_emissions.interpolate(axis=1).T\n",
    "df_emissions.rename(\n",
    "    columns={\n",
    "        'Emissions|BC': 'BC',\n",
    "        'Emissions|OC': 'OC',\n",
    "        'Emissions|Sulfur': 'SO2',\n",
    "        'Emissions|NOx': 'NOx',\n",
    "        'Emissions|NH3': 'NH3',\n",
    "        'Emissions|VOC': 'VOC',\n",
    "        'Emissions|CO': 'CO'\n",
    "    }, inplace=True\n",
    ")\n",
    "# only keep cols we want\n",
    "emissions = df_emissions[['SO2', 'BC', 'OC', 'NH3', 'NOx', 'VOC', 'CO']]\n",
    "emissions.index = emissions.index.astype('int')\n",
    "emissions.index.name='year'\n",
    "emissions.columns.name=None\n",
    "\n",
    "emissions_ceds_update = emissions.copy()\n",
    "\n",
    "emissions_old = pd.read_csv('../data_input_large/rcmip-emissions-annual-means-v5-1-0.csv')\n",
    "df_emissions = pd.concat([emissions_old.loc[(\n",
    "        (emissions_old.Variable=='Emissions|BC|MAGICC Fossil and Industrial')|\n",
    "        (emissions_old.Variable=='Emissions|OC|MAGICC Fossil and Industrial')|\n",
    "        (emissions_old.Variable=='Emissions|Sulfur|MAGICC Fossil and Industrial')|\n",
    "        (emissions_old.Variable=='Emissions|NOx|MAGICC Fossil and Industrial')|\n",
    "        (emissions_old.Variable=='Emissions|NH3|MAGICC Fossil and Industrial')|\n",
    "        (emissions_old.Variable=='Emissions|VOC|MAGICC Fossil and Industrial')|\n",
    "        (emissions_old.Variable=='Emissions|CO|MAGICC Fossil and Industrial')|\n",
    "        (emissions_old.Variable=='Emissions|BC|MAGICC AFOLU|Agriculture')|\n",
    "        (emissions_old.Variable=='Emissions|OC|MAGICC AFOLU|Agriculture')|\n",
    "        (emissions_old.Variable=='Emissions|Sulfur|MAGICC AFOLU|Agriculture')|\n",
    "        (emissions_old.Variable=='Emissions|NOx|MAGICC AFOLU|Agriculture')|\n",
    "        (emissions_old.Variable=='Emissions|NH3|MAGICC AFOLU|Agriculture')|\n",
    "        (emissions_old.Variable=='Emissions|VOC|MAGICC AFOLU|Agriculture')|\n",
    "        (emissions_old.Variable=='Emissions|CO|MAGICC AFOLU|Agriculture')\n",
    "    ) & (emissions_old.Scenario=='ssp245') & (emissions_old.Region=='World'), 'Variable'], emissions_old.loc[(\n",
    "        (emissions_old.Variable=='Emissions|BC|MAGICC Fossil and Industrial')|\n",
    "        (emissions_old.Variable=='Emissions|OC|MAGICC Fossil and Industrial')|\n",
    "        (emissions_old.Variable=='Emissions|Sulfur|MAGICC Fossil and Industrial')|\n",
    "        (emissions_old.Variable=='Emissions|NOx|MAGICC Fossil and Industrial')|\n",
    "        (emissions_old.Variable=='Emissions|NH3|MAGICC Fossil and Industrial')|\n",
    "        (emissions_old.Variable=='Emissions|VOC|MAGICC Fossil and Industrial')|\n",
    "        (emissions_old.Variable=='Emissions|CO|MAGICC Fossil and Industrial')|\n",
    "        (emissions_old.Variable=='Emissions|BC|MAGICC AFOLU|Agriculture')|\n",
    "        (emissions_old.Variable=='Emissions|OC|MAGICC AFOLU|Agriculture')|\n",
    "        (emissions_old.Variable=='Emissions|Sulfur|MAGICC AFOLU|Agriculture')|\n",
    "        (emissions_old.Variable=='Emissions|NOx|MAGICC AFOLU|Agriculture')|\n",
    "        (emissions_old.Variable=='Emissions|NH3|MAGICC AFOLU|Agriculture')|\n",
    "        (emissions_old.Variable=='Emissions|VOC|MAGICC AFOLU|Agriculture')|\n",
    "        (emissions_old.Variable=='Emissions|CO|MAGICC AFOLU|Agriculture')\n",
    "    ) & (emissions_old.Scenario=='ssp245') & (emissions_old.Region=='World'), '1750':'2100']], axis=1)#.interpolate(axis=1).T\n",
    "df_emissions.set_index('Variable', inplace=True)\n",
    "df_emissions = df_emissions.interpolate(axis=1).T\n",
    "for species in ['BC', 'OC', 'Sulfur', 'NOx', 'NH3', 'VOC', 'CO']:\n",
    "    df_emissions[species] = df_emissions['Emissions|{}|MAGICC Fossil and Industrial'.format(species)] + df_emissions['Emissions|{}|MAGICC AFOLU|Agriculture'.format(species)]\n",
    "df_emissions.rename(columns = {'Sulfur': 'SO2'}, inplace=True)\n",
    "df_emissions.drop(columns=[\n",
    "        'Emissions|BC|MAGICC Fossil and Industrial',\n",
    "        'Emissions|OC|MAGICC Fossil and Industrial',\n",
    "        'Emissions|Sulfur|MAGICC Fossil and Industrial',\n",
    "        'Emissions|NOx|MAGICC Fossil and Industrial',\n",
    "        'Emissions|NH3|MAGICC Fossil and Industrial',\n",
    "        'Emissions|VOC|MAGICC Fossil and Industrial',\n",
    "        'Emissions|CO|MAGICC Fossil and Industrial',\n",
    "        'Emissions|BC|MAGICC AFOLU|Agriculture',\n",
    "        'Emissions|OC|MAGICC AFOLU|Agriculture',\n",
    "        'Emissions|Sulfur|MAGICC AFOLU|Agriculture',\n",
    "        'Emissions|NOx|MAGICC AFOLU|Agriculture',\n",
    "        'Emissions|NH3|MAGICC AFOLU|Agriculture',\n",
    "        'Emissions|VOC|MAGICC AFOLU|Agriculture',\n",
    "        'Emissions|CO|MAGICC AFOLU|Agriculture',\n",
    "    ],\n",
    "    inplace=True\n",
    ")\n",
    "df_emissions.index = emissions.index.astype('int')\n",
    "df_emissions.index.name='year'\n",
    "df_emissions.columns.name=None\n",
    "\n",
    "global_total = {}\n",
    "for species in ['BC', 'OC', 'SO2', 'NH3', 'NOx', 'NMVOC', 'CO']:\n",
    "    df = pd.read_csv('../data_input_large/CEDS_v_2020_09_11_emissions/{}_global_CEDS_emissions_by_sector_2020_09_11.csv'.format(species))\n",
    "    global_total[species] = df.sum(axis=0).values[3:].astype(float) / 1000 \n",
    "    #unit = df.units[0]\n",
    "    #print(unit)\n",
    "global_total['VOC'] = global_total.pop('NMVOC')\n",
    "new_ceds = pd.DataFrame(global_total)\n",
    "new_ceds.index = np.arange(1750,2020)\n",
    "new_ceds.index = new_ceds.index.astype('int')\n",
    "new_ceds.index.name='year'\n",
    "new_ceds.columns.name=None\n",
    "emissions_ceds_update = new_ceds.loc[1750:2020] + emissions - df_emissions\n",
    "emissions_ceds_update.drop(index=range(2020,2101), inplace=True)\n",
    "emissions_ceds_update"
   ]
  },
  {
   "cell_type": "markdown",
   "metadata": {},
   "source": [
    "## Climate model parameters"
   ]
  },
  {
   "cell_type": "markdown",
   "metadata": {},
   "source": [
    "### load unconstrained"
   ]
  },
  {
   "cell_type": "code",
   "execution_count": 5,
   "metadata": {},
   "outputs": [],
   "source": [
    "# ozone\n",
    "ozone_feedback = np.load('../data_input_large/fair-samples/ozone_feedback_unconstrained.npy')\n",
    "beta_ch4 = np.load('../data_input_large/fair-samples/beta_ch4_unconstrained.npy')\n",
    "beta_n2o = np.load('../data_input_large/fair-samples/beta_n2o_unconstrained.npy')\n",
    "beta_ods = np.load('../data_input_large/fair-samples/beta_ods_unconstrained.npy')\n",
    "beta_co = np.load('../data_input_large/fair-samples/beta_co_unconstrained.npy')\n",
    "beta_voc = np.load('../data_input_large/fair-samples/beta_voc_unconstrained.npy')\n",
    "beta_nox = np.load('../data_input_large/fair-samples/beta_nox_unconstrained.npy')\n",
    "\n",
    "# carbon cycle\n",
    "r0 = np.load('../data_input_large/fair-samples/r0_unconstrained.npy')\n",
    "rC = np.load('../data_input_large/fair-samples/rC_unconstrained.npy')\n",
    "rT = np.load('../data_input_large/fair-samples/rT_unconstrained.npy')\n",
    "pre_ind_co2 = np.load('../data_input_large/fair-samples/pre_ind_co2_unconstrained.npy')\n",
    "\n",
    "# aerosol\n",
    "beta_so2 = np.load('../data_input_large/fair-samples/beta_so2_unconstrained.npy')\n",
    "beta_bc = np.load('../data_input_large/fair-samples/beta_bc_unconstrained.npy')\n",
    "beta_oc = np.load('../data_input_large/fair-samples/beta_oc_unconstrained.npy')\n",
    "beta_nh3 = np.load('../data_input_large/fair-samples/beta_nh3_unconstrained.npy')\n",
    "beta = np.load('../data_input_large/fair-samples/beta_unconstrained.npy')\n",
    "aci_coeffs = np.load('../data_input_large/fair-samples/aci_coeffs.npy')\n",
    "\n",
    "# forcing\n",
    "scale_normals = np.load('../data_input_large/fair-samples/scale_normals.npy')\n",
    "trend_solar = np.load('../data_input_large/fair-samples/scale_trend_solar.npy')\n",
    "\n",
    "# climate response\n",
    "geoff_sample_df = pd.read_csv('../data_output_large/geoff_sample.csv', index_col=0)\n",
    "f2x = np.load('../data_input_large/fair-samples/f2x_unconstrained.npy')\n",
    "ecs = np.load('../data_input_large/fair-samples/ecs_unconstrained.npy')\n",
    "tcr = np.load('../data_input_large/fair-samples/tcr_unconstrained.npy')\n",
    "\n",
    "# accepted ensemble\n",
    "accept_inds = np.loadtxt('../data_output_large/fair-samples/accept_inds.csv', dtype=int)"
   ]
  },
  {
   "cell_type": "markdown",
   "metadata": {},
   "source": [
    "### apply the constraint and overwrite unconstrained"
   ]
  },
  {
   "cell_type": "code",
   "execution_count": 6,
   "metadata": {},
   "outputs": [
    {
     "data": {
      "text/plain": [
       "array([   838,    949,   1242, ..., 999362, 999380, 999843])"
      ]
     },
     "execution_count": 6,
     "metadata": {},
     "output_type": "execute_result"
    }
   ],
   "source": [
    "accept_inds"
   ]
  },
  {
   "cell_type": "code",
   "execution_count": 7,
   "metadata": {},
   "outputs": [
    {
     "data": {
      "text/html": [
       "<div>\n",
       "<style scoped>\n",
       "    .dataframe tbody tr th:only-of-type {\n",
       "        vertical-align: middle;\n",
       "    }\n",
       "\n",
       "    .dataframe tbody tr th {\n",
       "        vertical-align: top;\n",
       "    }\n",
       "\n",
       "    .dataframe thead th {\n",
       "        text-align: right;\n",
       "    }\n",
       "</style>\n",
       "<table border=\"1\" class=\"dataframe\">\n",
       "  <thead>\n",
       "    <tr style=\"text-align: right;\">\n",
       "      <th></th>\n",
       "      <th>q4x</th>\n",
       "      <th>lamg</th>\n",
       "      <th>cmix</th>\n",
       "      <th>cdeep</th>\n",
       "      <th>gamma_2l</th>\n",
       "      <th>eff</th>\n",
       "    </tr>\n",
       "  </thead>\n",
       "  <tbody>\n",
       "    <tr>\n",
       "      <th>838</th>\n",
       "      <td>9.273214</td>\n",
       "      <td>-1.635251</td>\n",
       "      <td>6.148327</td>\n",
       "      <td>150.303560</td>\n",
       "      <td>0.743663</td>\n",
       "      <td>1.415621</td>\n",
       "    </tr>\n",
       "    <tr>\n",
       "      <th>949</th>\n",
       "      <td>8.976294</td>\n",
       "      <td>-1.187633</td>\n",
       "      <td>6.454781</td>\n",
       "      <td>99.281930</td>\n",
       "      <td>0.717200</td>\n",
       "      <td>1.891549</td>\n",
       "    </tr>\n",
       "    <tr>\n",
       "      <th>1242</th>\n",
       "      <td>7.607466</td>\n",
       "      <td>-1.621618</td>\n",
       "      <td>9.979336</td>\n",
       "      <td>211.420597</td>\n",
       "      <td>0.643690</td>\n",
       "      <td>1.070795</td>\n",
       "    </tr>\n",
       "    <tr>\n",
       "      <th>2110</th>\n",
       "      <td>8.007978</td>\n",
       "      <td>-0.659745</td>\n",
       "      <td>6.944094</td>\n",
       "      <td>55.568035</td>\n",
       "      <td>0.823893</td>\n",
       "      <td>2.067918</td>\n",
       "    </tr>\n",
       "    <tr>\n",
       "      <th>2509</th>\n",
       "      <td>9.112583</td>\n",
       "      <td>-1.829337</td>\n",
       "      <td>9.725970</td>\n",
       "      <td>215.461523</td>\n",
       "      <td>0.665151</td>\n",
       "      <td>0.889553</td>\n",
       "    </tr>\n",
       "    <tr>\n",
       "      <th>...</th>\n",
       "      <td>...</td>\n",
       "      <td>...</td>\n",
       "      <td>...</td>\n",
       "      <td>...</td>\n",
       "      <td>...</td>\n",
       "      <td>...</td>\n",
       "    </tr>\n",
       "    <tr>\n",
       "      <th>999021</th>\n",
       "      <td>8.859442</td>\n",
       "      <td>-1.200989</td>\n",
       "      <td>8.527159</td>\n",
       "      <td>78.088790</td>\n",
       "      <td>0.739437</td>\n",
       "      <td>1.715458</td>\n",
       "    </tr>\n",
       "    <tr>\n",
       "      <th>999359</th>\n",
       "      <td>7.638968</td>\n",
       "      <td>-1.265169</td>\n",
       "      <td>8.066919</td>\n",
       "      <td>55.466701</td>\n",
       "      <td>0.515077</td>\n",
       "      <td>0.929718</td>\n",
       "    </tr>\n",
       "    <tr>\n",
       "      <th>999362</th>\n",
       "      <td>9.862818</td>\n",
       "      <td>-1.153942</td>\n",
       "      <td>6.061896</td>\n",
       "      <td>162.547532</td>\n",
       "      <td>0.777108</td>\n",
       "      <td>2.955820</td>\n",
       "    </tr>\n",
       "    <tr>\n",
       "      <th>999380</th>\n",
       "      <td>8.710426</td>\n",
       "      <td>-0.980681</td>\n",
       "      <td>4.870043</td>\n",
       "      <td>189.856296</td>\n",
       "      <td>0.670366</td>\n",
       "      <td>2.769520</td>\n",
       "    </tr>\n",
       "    <tr>\n",
       "      <th>999843</th>\n",
       "      <td>8.431307</td>\n",
       "      <td>-2.004231</td>\n",
       "      <td>8.215237</td>\n",
       "      <td>134.750835</td>\n",
       "      <td>0.676118</td>\n",
       "      <td>1.019674</td>\n",
       "    </tr>\n",
       "  </tbody>\n",
       "</table>\n",
       "<p>2565 rows × 6 columns</p>\n",
       "</div>"
      ],
      "text/plain": [
       "             q4x      lamg      cmix       cdeep  gamma_2l       eff\n",
       "838     9.273214 -1.635251  6.148327  150.303560  0.743663  1.415621\n",
       "949     8.976294 -1.187633  6.454781   99.281930  0.717200  1.891549\n",
       "1242    7.607466 -1.621618  9.979336  211.420597  0.643690  1.070795\n",
       "2110    8.007978 -0.659745  6.944094   55.568035  0.823893  2.067918\n",
       "2509    9.112583 -1.829337  9.725970  215.461523  0.665151  0.889553\n",
       "...          ...       ...       ...         ...       ...       ...\n",
       "999021  8.859442 -1.200989  8.527159   78.088790  0.739437  1.715458\n",
       "999359  7.638968 -1.265169  8.066919   55.466701  0.515077  0.929718\n",
       "999362  9.862818 -1.153942  6.061896  162.547532  0.777108  2.955820\n",
       "999380  8.710426 -0.980681  4.870043  189.856296  0.670366  2.769520\n",
       "999843  8.431307 -2.004231  8.215237  134.750835  0.676118  1.019674\n",
       "\n",
       "[2565 rows x 6 columns]"
      ]
     },
     "execution_count": 7,
     "metadata": {},
     "output_type": "execute_result"
    }
   ],
   "source": [
    "geoff_sample_df.loc[accept_inds]"
   ]
  },
  {
   "cell_type": "code",
   "execution_count": 8,
   "metadata": {},
   "outputs": [],
   "source": [
    "df_solar = pd.read_csv('../data_output/solar_erf.csv', index_col='year')\n",
    "solar_forcing = df_solar.solar_erf.loc[1750:2019].values\n",
    "\n",
    "df_volcanic = pd.read_csv('../data_output/volcanic_erf.csv', index_col='year')\n",
    "volcanic_forcing = np.zeros((270))\n",
    "volcanic_forcing[:269] = df_volcanic.volcanic_erf.loc[1750:2018].values\n",
    "# ramp down last 10 years to zero according to https://www.geosci-model-dev.net/9/3461/2016/gmd-9-3461-2016.html\n",
    "volcanic_forcing[269] = volcanic_forcing[268]"
   ]
  },
  {
   "cell_type": "code",
   "execution_count": 9,
   "metadata": {},
   "outputs": [],
   "source": [
    "# ozone\n",
    "ozone_feedback = ozone_feedback[accept_inds]\n",
    "beta_ch4 = beta_ch4[accept_inds]\n",
    "beta_n2o = beta_n2o[accept_inds]\n",
    "beta_ods = beta_ods[accept_inds]\n",
    "beta_co = beta_co[accept_inds]\n",
    "beta_voc = beta_voc[accept_inds]\n",
    "beta_nox = beta_nox[accept_inds]\n",
    "\n",
    "# carbon cycle\n",
    "pre_ind_co2 = pre_ind_co2[accept_inds]\n",
    "r0 = r0[accept_inds]\n",
    "rC = rC[accept_inds]\n",
    "rT = rT[accept_inds]\n",
    "\n",
    "# aerosol\n",
    "beta_so2 = beta_so2[accept_inds]\n",
    "beta_bc = beta_bc[accept_inds]\n",
    "beta_oc = beta_oc[accept_inds]\n",
    "beta_nh3 = beta_nh3[accept_inds]\n",
    "beta = beta[accept_inds]\n",
    "aci_coeffs = aci_coeffs[accept_inds]\n",
    "\n",
    "# forcing\n",
    "scale_normals = scale_normals[accept_inds]\n",
    "trend_solar = trend_solar[accept_inds]\n",
    "\n",
    "# climate response\n",
    "geoff_sample_df = geoff_sample_df.loc[accept_inds]\n",
    "f2x = f2x[accept_inds]\n",
    "ecs = ecs[accept_inds]\n",
    "tcr = tcr[accept_inds]"
   ]
  },
  {
   "cell_type": "code",
   "execution_count": 10,
   "metadata": {},
   "outputs": [],
   "source": [
    "f2x_median = np.median(f2x)\n",
    "ecs_median = np.median(ecs)\n",
    "tcr_median = np.median(tcr)"
   ]
  },
  {
   "cell_type": "code",
   "execution_count": 11,
   "metadata": {},
   "outputs": [
    {
     "data": {
      "text/plain": [
       "(array([182., 802., 929., 426., 102.,  51.,  44.,  23.,   4.,   2.]),\n",
       " array([0.01965245, 0.40516315, 0.79067386, 1.17618456, 1.56169526,\n",
       "        1.94720597, 2.33271667, 2.71822737, 3.10373808, 3.48924878,\n",
       "        3.87475949]),\n",
       " <BarContainer object of 10 artists>)"
      ]
     },
     "execution_count": 11,
     "metadata": {},
     "output_type": "execute_result"
    },
    {
     "data": {
      "image/png": "[encoded data removed]",
      "text/plain": [
       "<Figure size 432x288 with 1 Axes>"
      ]
     },
     "metadata": {
      "needs_background": "light"
     },
     "output_type": "display_data"
    }
   ],
   "source": [
    "kappa = f2x/tcr - f2x/ecs\n",
    "# kappa = efficacy * eta\n",
    "pl.hist(kappa)"
   ]
  },
  {
   "cell_type": "code",
   "execution_count": 12,
   "metadata": {},
   "outputs": [],
   "source": [
    "lamg = geoff_sample_df['lamg'].values\n",
    "eff = geoff_sample_df['eff'].values\n",
    "gamma_2l = geoff_sample_df['gamma_2l'].values\n",
    "cdeep = geoff_sample_df['cdeep'].values\n",
    "cmix = geoff_sample_df['cmix'].values"
   ]
  },
  {
   "cell_type": "markdown",
   "metadata": {},
   "source": [
    "## Forcing uncertainties - ensure consistency with 040"
   ]
  },
  {
   "cell_type": "markdown",
   "metadata": {},
   "source": [
    "### Aerosol emissions"
   ]
  },
  {
   "cell_type": "code",
   "execution_count": 13,
   "metadata": {},
   "outputs": [
    {
     "data": {
      "application/vnd.jupyter.widget-view+json": {
       "model_id": "7ca4938e489841369e035bfb1ea8465c",
       "version_major": 2,
       "version_minor": 0
      },
      "text/plain": [
       "HBox(children=(HTML(value=''), FloatProgress(value=0.0, max=2565.0), HTML(value='')))"
      ]
     },
     "metadata": {},
     "output_type": "display_data"
    },
    {
     "name": "stdout",
     "output_type": "stream",
     "text": [
      "\n"
     ]
    }
   ],
   "source": [
    "ERFari = np.zeros((270, len(accept_inds)))\n",
    "ERFaci = np.zeros((270, len(accept_inds)))\n",
    "\n",
    "so2 = emissions_ceds_update.loc[:,'SO2']\n",
    "bc = emissions_ceds_update.loc[:,'BC']\n",
    "oc = emissions_ceds_update.loc[:,'OC']\n",
    "nh3 = emissions_ceds_update.loc[:,'NH3']\n",
    "\n",
    "for i in tqdm(range(len(accept_inds))):\n",
    "    ERFari[:, i] = (\n",
    "        (emissions_ceds_update.loc[:,'SO2']-emissions_ceds_update.loc[1750,'SO2']) * beta_so2[i] * 32/64 +\n",
    "        (emissions_ceds_update.loc[:,'BC']-emissions_ceds_update.loc[1750,'BC']) * beta_bc[i] +\n",
    "        (emissions_ceds_update.loc[:,'OC']-emissions_ceds_update.loc[1750,'OC']) * beta_oc[i] +\n",
    "        (emissions_ceds_update.loc[:,'NH3']-emissions_ceds_update.loc[1750,'NH3']) * beta_nh3[i]\n",
    "    )\n",
    "    \n",
    "    ERFaci[:,i] = ghan([so2 * 32/64, bc+oc], beta[i], aci_coeffs[i,0], aci_coeffs[i,1]) - ghan([so2[1750] * 32/64, bc[1750]+oc[1750]], beta[i], aci_coeffs[i,0], aci_coeffs[i,1])"
   ]
  },
  {
   "cell_type": "code",
   "execution_count": 14,
   "metadata": {},
   "outputs": [
    {
     "data": {
      "image/png": "[encoded data removed]",
      "text/plain": [
       "<Figure size 432x288 with 1 Axes>"
      ]
     },
     "metadata": {
      "needs_background": "light"
     },
     "output_type": "display_data"
    }
   ],
   "source": [
    "pl.fill_between(np.arange(1750, 2020), np.percentile(ERFari, 5, axis=1), np.percentile(ERFari, 95, axis=1), color='k', alpha=0.5)\n",
    "pl.plot(np.arange(1750,2020), np.percentile(ERFari, 50, axis=1), color='k')\n",
    "pl.grid()"
   ]
  },
  {
   "cell_type": "code",
   "execution_count": 15,
   "metadata": {},
   "outputs": [
    {
     "data": {
      "image/png": "[encoded data removed]",
      "text/plain": [
       "<Figure size 432x288 with 1 Axes>"
      ]
     },
     "metadata": {
      "needs_background": "light"
     },
     "output_type": "display_data"
    }
   ],
   "source": [
    "pl.fill_between(np.arange(1750, 2020), np.percentile(ERFaci, 5, axis=1), np.percentile(ERFaci, 95, axis=1), color='k', alpha=0.5)\n",
    "pl.plot(np.arange(1750,2020), np.percentile(ERFaci, 50, axis=1), color='k')\n",
    "pl.grid()"
   ]
  },
  {
   "cell_type": "code",
   "execution_count": 16,
   "metadata": {},
   "outputs": [
    {
     "data": {
      "image/png": "[encoded data removed]",
      "text/plain": [
       "<Figure size 432x288 with 1 Axes>"
      ]
     },
     "metadata": {
      "needs_background": "light"
     },
     "output_type": "display_data"
    }
   ],
   "source": [
    "pl.fill_between(np.arange(1750, 2020), np.percentile(ERFari+ERFaci, 5, axis=1), np.percentile(ERFari+ERFaci, 95, axis=1), color='k', alpha=0.5)\n",
    "pl.plot(np.arange(1750,2020), np.percentile(ERFari+ERFaci, 50, axis=1), color='k')\n",
    "pl.grid()"
   ]
  },
  {
   "cell_type": "markdown",
   "metadata": {},
   "source": [
    "### Non-aerosol forcings and aggregated categories"
   ]
  },
  {
   "cell_type": "code",
   "execution_count": 17,
   "metadata": {},
   "outputs": [
    {
     "data": {
      "text/plain": [
       "(2565, 11)"
      ]
     },
     "execution_count": 17,
     "metadata": {},
     "output_type": "execute_result"
    }
   ],
   "source": [
    "scale_normals.shape"
   ]
  },
  {
   "cell_type": "code",
   "execution_count": 18,
   "metadata": {},
   "outputs": [],
   "source": [
    "df = pd.read_csv('../data_output/AR6_ERF_1750-2019.csv')\n",
    "forcing_ensemble = {}\n",
    "for cat in ['co2', 'ch4', 'n2o', 'other_wmghg', 'o3', 'h2o_stratospheric', 'contrails', 'aerosol-radiation_interactions',\n",
    "           'aerosol-cloud_interactions', 'bc_on_snow', 'land_use', 'solar', 'volcanic', 'wmghgs', 'aerosol', 'albedo',\n",
    "           'anthro', 'natural']:\n",
    "    forcing_ensemble[cat] = np.zeros((8775, len(accept_inds)))\n",
    "    \n",
    "forcing_ensemble['co2'][8505:,:] = df['co2'].values[:,None] * scale_normals[:,0]\n",
    "forcing_ensemble['ch4'][8505:,:] = df['ch4'].values[:,None] * scale_normals[:,1]\n",
    "forcing_ensemble['n2o'][8505:,:] = df['n2o'].values[:,None] * scale_normals[:,2]\n",
    "forcing_ensemble['other_wmghg'][8505:,:] = df['other_wmghg'].values[:,None] * scale_normals[:,3]\n",
    "forcing_ensemble['o3'][8505:,:] = df['o3'].values[:,None] * scale_normals[:,4]\n",
    "forcing_ensemble['h2o_stratospheric'][8505:,:] = df['h2o_stratospheric'].values[:,None] * scale_normals[:,5]\n",
    "forcing_ensemble['contrails'][8505:,:] = df['contrails'].values[:,None] * scale_normals[:,6]\n",
    "forcing_ensemble['aerosol-radiation_interactions'][8505:,:] = ERFari\n",
    "forcing_ensemble['aerosol-cloud_interactions'][8505:,:] = ERFaci\n",
    "forcing_ensemble['bc_on_snow'][8505:,:] = df['bc_on_snow'].values[:,None] * scale_normals[:,7]\n",
    "forcing_ensemble['land_use'][8505:,:] = df['land_use'].values[:,None] * scale_normals[:,8]\n",
    "forcing_ensemble['volcanic'][6255:8505,:] = df_volcanic.volcanic_erf.loc[:1749].values[:,None] * scale_normals[:,9]\n",
    "forcing_ensemble['volcanic'][8505:,:] = df['volcanic'].values[:,None] * scale_normals[:,9]\n",
    "forcing_ensemble['solar'][:8505,:] = df_solar.solar_erf.loc[:1749].values[:,None] * scale_normals[:,10]\n",
    "forcing_ensemble['solar'][8505:,:] = np.linspace(0,trend_solar,270) + df['solar'].values[:,None] * scale_normals[:,10]\n",
    "forcing_ensemble['wmghgs'] = (\n",
    "    forcing_ensemble['co2'] +\n",
    "    forcing_ensemble['ch4'] +\n",
    "    forcing_ensemble['n2o'] +\n",
    "    forcing_ensemble['other_wmghg']\n",
    ")\n",
    "forcing_ensemble['aerosol'] = (\n",
    "    forcing_ensemble['aerosol-radiation_interactions'] +\n",
    "    forcing_ensemble['aerosol-cloud_interactions']\n",
    ")\n",
    "forcing_ensemble['albedo'] = (\n",
    "    forcing_ensemble['bc_on_snow'] +\n",
    "    forcing_ensemble['land_use']\n",
    ")\n",
    "forcing_ensemble['natural'] = (\n",
    "    forcing_ensemble['volcanic'] +\n",
    "    forcing_ensemble['solar']\n",
    ")\n",
    "forcing_ensemble['anthro'] = (\n",
    "    forcing_ensemble['co2'] +\n",
    "    forcing_ensemble['ch4'] +\n",
    "    forcing_ensemble['n2o'] +\n",
    "    forcing_ensemble['other_wmghg'] +\n",
    "    forcing_ensemble['o3'] +\n",
    "    forcing_ensemble['h2o_stratospheric'] +\n",
    "    forcing_ensemble['contrails'] +\n",
    "    forcing_ensemble['aerosol-radiation_interactions'] +\n",
    "    forcing_ensemble['aerosol-cloud_interactions'] +\n",
    "    forcing_ensemble['bc_on_snow'] +\n",
    "    forcing_ensemble['land_use']\n",
    ")\n",
    "forcing_ensemble['total'] = (\n",
    "    forcing_ensemble['co2'] +\n",
    "    forcing_ensemble['ch4'] +\n",
    "    forcing_ensemble['n2o'] +\n",
    "    forcing_ensemble['other_wmghg'] +\n",
    "    forcing_ensemble['o3'] +\n",
    "    forcing_ensemble['h2o_stratospheric'] +\n",
    "    forcing_ensemble['contrails'] +\n",
    "    forcing_ensemble['aerosol-radiation_interactions'] +\n",
    "    forcing_ensemble['aerosol-cloud_interactions'] +\n",
    "    forcing_ensemble['bc_on_snow'] +\n",
    "    forcing_ensemble['land_use'] +\n",
    "    forcing_ensemble['volcanic'] +\n",
    "    forcing_ensemble['solar']\n",
    ")"
   ]
  },
  {
   "cell_type": "code",
   "execution_count": 19,
   "metadata": {},
   "outputs": [
    {
     "data": {
      "text/plain": [
       "(8775,)"
      ]
     },
     "execution_count": 19,
     "metadata": {},
     "output_type": "execute_result"
    }
   ],
   "source": [
    "forcing_ensemble['total'][:,0].shape"
   ]
  },
  {
   "cell_type": "markdown",
   "metadata": {},
   "source": [
    "# Run climate model\n",
    "\n",
    "- should use assessed rather than constrained ranges I guess"
   ]
  },
  {
   "cell_type": "code",
   "execution_count": 20,
   "metadata": {},
   "outputs": [],
   "source": [
    "with open('../data_input/tunings/cmip6_twolayer_tuning_params.json', 'r') as filehandle:\n",
    "    cmip6_models = json.load(filehandle)"
   ]
  },
  {
   "cell_type": "code",
   "execution_count": 21,
   "metadata": {},
   "outputs": [],
   "source": [
    "cmix_mean = cmip6_models['cmix']['mean']['EBM-epsilon']\n",
    "cdeep_mean = cmip6_models['cdeep']['mean']['EBM-epsilon']\n",
    "eff_mean = cmip6_models['eff']['mean']['EBM-epsilon']\n",
    "\n",
    "lamg_median = f2x_median/ecs_median\n",
    "kappa_median = -(f2x_median/ecs_median - f2x_median/tcr_median)\n",
    "gamma_2l_median = kappa_median/eff_mean"
   ]
  },
  {
   "cell_type": "code",
   "execution_count": 22,
   "metadata": {},
   "outputs": [
    {
     "data": {
      "text/plain": [
       "(0.6932394897925654, 0.9298080299251286, 1.355560864076255, 1.3412508139190835)"
      ]
     },
     "execution_count": 22,
     "metadata": {},
     "output_type": "execute_result"
    }
   ],
   "source": [
    "gamma_2l_median, kappa_median, lamg_median, eff_mean"
   ]
  },
  {
   "cell_type": "code",
   "execution_count": 23,
   "metadata": {},
   "outputs": [],
   "source": [
    "results = {}"
   ]
  },
  {
   "cell_type": "markdown",
   "metadata": {},
   "source": [
    "## 9000-year forcing runs\n",
    "\n",
    "- all forcing\n",
    "- gives us 1750 temperatures\n",
    "- save only 1750-2019"
   ]
  },
  {
   "cell_type": "code",
   "execution_count": 24,
   "metadata": {},
   "outputs": [
    {
     "data": {
      "text/plain": [
       "8505"
      ]
     },
     "execution_count": 24,
     "metadata": {},
     "output_type": "execute_result"
    }
   ],
   "source": [
    "6755+1750"
   ]
  },
  {
   "cell_type": "code",
   "execution_count": 25,
   "metadata": {},
   "outputs": [
    {
     "data": {
      "application/vnd.jupyter.widget-view+json": {
       "model_id": "f4cac1049e974ab9a797bfbdf774a3ad",
       "version_major": 2,
       "version_minor": 0
      },
      "text/plain": [
       "HBox(children=(HTML(value=''), FloatProgress(value=0.0, max=2565.0), HTML(value='')))"
      ]
     },
     "metadata": {},
     "output_type": "display_data"
    },
    {
     "name": "stdout",
     "output_type": "stream",
     "text": [
      "\n"
     ]
    }
   ],
   "source": [
    "arglist=[]\n",
    "for i in range(len(accept_inds)):\n",
    "    arglist.append(\n",
    "        {\n",
    "            'in_forcing' : forcing_ensemble['total'][:,i],\n",
    "            'firstyear': -6755\n",
    "        }\n",
    "    )\n",
    "def run_tlm(args):\n",
    "    in_forcing = args['in_forcing']\n",
    "    driver = TwoLayerModel(\n",
    "        extforce=in_forcing,\n",
    "        exttime=np.arange(args['firstyear'],2020),\n",
    "        tbeg=args['firstyear'],\n",
    "        tend=2020,\n",
    "        lamg=lamg_median,\n",
    "        t2x=None,\n",
    "        eff=eff_mean,\n",
    "        cmix=cmix_mean,\n",
    "        cdeep=cdeep_mean,\n",
    "        gamma_2l=gamma_2l_median,\n",
    "        outtime=np.arange(1750,2020),\n",
    "        dt=0.2\n",
    "    )\n",
    "    output = driver.run()\n",
    "    return(output.tg)\n",
    "\n",
    "    \n",
    "if __name__ == '__main__':\n",
    "    with Pool(24) as pool:\n",
    "        result = list(tqdm(pool.imap(run_tlm, arglist), total=len(accept_inds)))\n",
    "    output = np.array(result).T"
   ]
  },
  {
   "cell_type": "code",
   "execution_count": 26,
   "metadata": {},
   "outputs": [],
   "source": [
    "results['AR6-historical'] = {}\n",
    "results['AR6-historical']['effective_radiative_forcing'] = forcing_ensemble['total'][8505:,:]\n",
    "results['AR6-historical']['surface_temperature'] = output"
   ]
  },
  {
   "cell_type": "markdown",
   "metadata": {},
   "source": [
    "## Marginal contributions since 1750\n",
    "\n",
    "- forcing variation only\n",
    "- include aggregated categories: all WMGHG, all aerosol, all albedo, all anthropogenic, all natural"
   ]
  },
  {
   "cell_type": "code",
   "execution_count": 27,
   "metadata": {},
   "outputs": [
    {
     "data": {
      "application/vnd.jupyter.widget-view+json": {
       "model_id": "0a52ca1d47394886830f291fdf0c798c",
       "version_major": 2,
       "version_minor": 0
      },
      "text/plain": [
       "HBox(children=(HTML(value='Removing one at a time'), FloatProgress(value=0.0, max=18.0), HTML(value='')))"
      ]
     },
     "metadata": {},
     "output_type": "display_data"
    },
    {
     "data": {
      "application/vnd.jupyter.widget-view+json": {
       "model_id": "",
       "version_major": 2,
       "version_minor": 0
      },
      "text/plain": [
       "HBox(children=(HTML(value=''), FloatProgress(value=0.0, max=2565.0), HTML(value='')))"
      ]
     },
     "metadata": {},
     "output_type": "display_data"
    },
    {
     "data": {
      "application/vnd.jupyter.widget-view+json": {
       "model_id": "",
       "version_major": 2,
       "version_minor": 0
      },
      "text/plain": [
       "HBox(children=(HTML(value=''), FloatProgress(value=0.0, max=2565.0), HTML(value='')))"
      ]
     },
     "metadata": {},
     "output_type": "display_data"
    },
    {
     "data": {
      "application/vnd.jupyter.widget-view+json": {
       "model_id": "",
       "version_major": 2,
       "version_minor": 0
      },
      "text/plain": [
       "HBox(children=(HTML(value=''), FloatProgress(value=0.0, max=2565.0), HTML(value='')))"
      ]
     },
     "metadata": {},
     "output_type": "display_data"
    },
    {
     "data": {
      "application/vnd.jupyter.widget-view+json": {
       "model_id": "",
       "version_major": 2,
       "version_minor": 0
      },
      "text/plain": [
       "HBox(children=(HTML(value=''), FloatProgress(value=0.0, max=2565.0), HTML(value='')))"
      ]
     },
     "metadata": {},
     "output_type": "display_data"
    },
    {
     "data": {
      "application/vnd.jupyter.widget-view+json": {
       "model_id": "",
       "version_major": 2,
       "version_minor": 0
      },
      "text/plain": [
       "HBox(children=(HTML(value=''), FloatProgress(value=0.0, max=2565.0), HTML(value='')))"
      ]
     },
     "metadata": {},
     "output_type": "display_data"
    },
    {
     "data": {
      "application/vnd.jupyter.widget-view+json": {
       "model_id": "",
       "version_major": 2,
       "version_minor": 0
      },
      "text/plain": [
       "HBox(children=(HTML(value=''), FloatProgress(value=0.0, max=2565.0), HTML(value='')))"
      ]
     },
     "metadata": {},
     "output_type": "display_data"
    },
    {
     "data": {
      "application/vnd.jupyter.widget-view+json": {
       "model_id": "",
       "version_major": 2,
       "version_minor": 0
      },
      "text/plain": [
       "HBox(children=(HTML(value=''), FloatProgress(value=0.0, max=2565.0), HTML(value='')))"
      ]
     },
     "metadata": {},
     "output_type": "display_data"
    },
    {
     "data": {
      "application/vnd.jupyter.widget-view+json": {
       "model_id": "",
       "version_major": 2,
       "version_minor": 0
      },
      "text/plain": [
       "HBox(children=(HTML(value=''), FloatProgress(value=0.0, max=2565.0), HTML(value='')))"
      ]
     },
     "metadata": {},
     "output_type": "display_data"
    },
    {
     "data": {
      "application/vnd.jupyter.widget-view+json": {
       "model_id": "",
       "version_major": 2,
       "version_minor": 0
      },
      "text/plain": [
       "HBox(children=(HTML(value=''), FloatProgress(value=0.0, max=2565.0), HTML(value='')))"
      ]
     },
     "metadata": {},
     "output_type": "display_data"
    },
    {
     "data": {
      "application/vnd.jupyter.widget-view+json": {
       "model_id": "",
       "version_major": 2,
       "version_minor": 0
      },
      "text/plain": [
       "HBox(children=(HTML(value=''), FloatProgress(value=0.0, max=2565.0), HTML(value='')))"
      ]
     },
     "metadata": {},
     "output_type": "display_data"
    },
    {
     "data": {
      "application/vnd.jupyter.widget-view+json": {
       "model_id": "",
       "version_major": 2,
       "version_minor": 0
      },
      "text/plain": [
       "HBox(children=(HTML(value=''), FloatProgress(value=0.0, max=2565.0), HTML(value='')))"
      ]
     },
     "metadata": {},
     "output_type": "display_data"
    },
    {
     "data": {
      "application/vnd.jupyter.widget-view+json": {
       "model_id": "",
       "version_major": 2,
       "version_minor": 0
      },
      "text/plain": [
       "HBox(children=(HTML(value=''), FloatProgress(value=0.0, max=2565.0), HTML(value='')))"
      ]
     },
     "metadata": {},
     "output_type": "display_data"
    },
    {
     "data": {
      "application/vnd.jupyter.widget-view+json": {
       "model_id": "",
       "version_major": 2,
       "version_minor": 0
      },
      "text/plain": [
       "HBox(children=(HTML(value=''), FloatProgress(value=0.0, max=2565.0), HTML(value='')))"
      ]
     },
     "metadata": {},
     "output_type": "display_data"
    },
    {
     "data": {
      "application/vnd.jupyter.widget-view+json": {
       "model_id": "",
       "version_major": 2,
       "version_minor": 0
      },
      "text/plain": [
       "HBox(children=(HTML(value=''), FloatProgress(value=0.0, max=2565.0), HTML(value='')))"
      ]
     },
     "metadata": {},
     "output_type": "display_data"
    },
    {
     "data": {
      "application/vnd.jupyter.widget-view+json": {
       "model_id": "",
       "version_major": 2,
       "version_minor": 0
      },
      "text/plain": [
       "HBox(children=(HTML(value=''), FloatProgress(value=0.0, max=2565.0), HTML(value='')))"
      ]
     },
     "metadata": {},
     "output_type": "display_data"
    },
    {
     "data": {
      "application/vnd.jupyter.widget-view+json": {
       "model_id": "",
       "version_major": 2,
       "version_minor": 0
      },
      "text/plain": [
       "HBox(children=(HTML(value=''), FloatProgress(value=0.0, max=2565.0), HTML(value='')))"
      ]
     },
     "metadata": {},
     "output_type": "display_data"
    },
    {
     "data": {
      "application/vnd.jupyter.widget-view+json": {
       "model_id": "",
       "version_major": 2,
       "version_minor": 0
      },
      "text/plain": [
       "HBox(children=(HTML(value=''), FloatProgress(value=0.0, max=2565.0), HTML(value='')))"
      ]
     },
     "metadata": {},
     "output_type": "display_data"
    },
    {
     "data": {
      "application/vnd.jupyter.widget-view+json": {
       "model_id": "",
       "version_major": 2,
       "version_minor": 0
      },
      "text/plain": [
       "HBox(children=(HTML(value=''), FloatProgress(value=0.0, max=2565.0), HTML(value='')))"
      ]
     },
     "metadata": {},
     "output_type": "display_data"
    },
    {
     "name": "stdout",
     "output_type": "stream",
     "text": [
      "\n"
     ]
    }
   ],
   "source": [
    "if __name__ == '__main__':\n",
    "    for agent in tqdm(list(forcing_ensemble.keys())[:-1], desc='Removing one at a time'):\n",
    "        arglist = []\n",
    "        startindex = 0\n",
    "        firstyear = -6755\n",
    "        for i in range(len(accept_inds)):\n",
    "            in_forcing = forcing_ensemble['total'][startindex:,i] - forcing_ensemble[agent][startindex:,i]\n",
    "            arglist.append(\n",
    "                {\n",
    "                    'in_forcing' : in_forcing,\n",
    "                    'firstyear': firstyear\n",
    "                }\n",
    "            )\n",
    "\n",
    "        results['remove_%s' % agent] = {}\n",
    "        with Pool(24) as pool:\n",
    "            result = list(tqdm(pool.imap(run_tlm, arglist), total=len(accept_inds), leave=False))\n",
    "        output = np.array(result).T\n",
    "\n",
    "        results['remove_%s' % agent]['effective_radiative_forcing'] = forcing_ensemble['total'][8505:,:]-forcing_ensemble[agent][8505:,:]\n",
    "        results['remove_%s' % agent]['surface_temperature'] = output"
   ]
  },
  {
   "cell_type": "code",
   "execution_count": 28,
   "metadata": {},
   "outputs": [
    {
     "data": {
      "text/plain": [
       "(array([  3.,  12.,  95., 335., 697., 738., 474., 179.,  27.,   5.]),\n",
       " array([-0.42848021, -0.29591067, -0.16334113, -0.03077158,  0.10179796,\n",
       "         0.2343675 ,  0.36693704,  0.49950658,  0.63207612,  0.76464566,\n",
       "         0.8972152 ]),\n",
       " <BarContainer object of 10 artists>)"
      ]
     },
     "execution_count": 28,
     "metadata": {},
     "output_type": "execute_result"
    },
    {
     "data": {
      "image/png": "[encoded data removed]",
      "text/plain": [
       "<Figure size 432x288 with 1 Axes>"
      ]
     },
     "metadata": {
      "needs_background": "light"
     },
     "output_type": "display_data"
    }
   ],
   "source": [
    "pl.hist(results['remove_co2']['surface_temperature'][-1,:])"
   ]
  },
  {
   "cell_type": "code",
   "execution_count": 29,
   "metadata": {},
   "outputs": [
    {
     "data": {
      "text/plain": [
       "(array([  3.,  19., 111., 356., 713., 728., 435., 168.,  26.,   6.]),\n",
       " array([-0.4863788 , -0.35574813, -0.22511747, -0.0944868 ,  0.03614387,\n",
       "         0.16677453,  0.2974052 ,  0.42803586,  0.55866653,  0.6892972 ,\n",
       "         0.81992786]),\n",
       " <BarContainer object of 10 artists>)"
      ]
     },
     "execution_count": 29,
     "metadata": {},
     "output_type": "execute_result"
    },
    {
     "data": {
      "image/png": "[encoded data removed]",
      "text/plain": [
       "<Figure size 432x288 with 1 Axes>"
      ]
     },
     "metadata": {
      "needs_background": "light"
     },
     "output_type": "display_data"
    }
   ],
   "source": [
    "pl.hist(results['remove_co2']['surface_temperature'][-1,:] - results['remove_co2']['surface_temperature'][0,:])"
   ]
  },
  {
   "cell_type": "markdown",
   "metadata": {},
   "source": [
    "## 9000-year forcing runs\n",
    "\n",
    "- forcing and climate variation"
   ]
  },
  {
   "cell_type": "code",
   "execution_count": 30,
   "metadata": {},
   "outputs": [
    {
     "data": {
      "application/vnd.jupyter.widget-view+json": {
       "model_id": "67b298f8f2b84fb2b34a75736c92871f",
       "version_major": 2,
       "version_minor": 0
      },
      "text/plain": [
       "HBox(children=(HTML(value=''), FloatProgress(value=0.0, max=2565.0), HTML(value='')))"
      ]
     },
     "metadata": {},
     "output_type": "display_data"
    },
    {
     "name": "stdout",
     "output_type": "stream",
     "text": [
      "\n"
     ]
    }
   ],
   "source": [
    "arglist = []\n",
    "\n",
    "lamg = -geoff_sample_df['lamg'].values\n",
    "eff = geoff_sample_df['eff'].values\n",
    "gamma_2l = geoff_sample_df['gamma_2l'].values\n",
    "cdeep = geoff_sample_df['cdeep'].values\n",
    "cmix = geoff_sample_df['cmix'].values\n",
    "\n",
    "\n",
    "for i in range(len(accept_inds)):\n",
    "    arglist.append(\n",
    "        {\n",
    "            'cmix': cmix[i],\n",
    "            'cdeep': cdeep[i],\n",
    "            'gamma_2l': gamma_2l[i],\n",
    "            'lamg': lamg[i],\n",
    "            'eff': eff[i],\n",
    "            'in_forcing' : forcing_ensemble['total'][:,i],\n",
    "            'firstyear': -6755\n",
    "        }\n",
    "    )\n",
    "\n",
    "results['AR6-historical_climuncert'] = {}\n",
    "\n",
    "def run_tlm(args):\n",
    "    in_forcing = args['in_forcing']\n",
    "    driver = TwoLayerModel(\n",
    "        extforce=in_forcing,\n",
    "        exttime=np.arange(args['firstyear'],2020),\n",
    "        tbeg=args['firstyear'],\n",
    "        tend=2020,\n",
    "        lamg=args['lamg'],\n",
    "        t2x=None,\n",
    "        eff=args['eff'],\n",
    "        cmix=args['cmix'],\n",
    "        cdeep=args['cdeep'],\n",
    "        gamma_2l=args['gamma_2l'],\n",
    "        outtime=np.arange(1750,2020),\n",
    "        dt=0.2\n",
    "    )\n",
    "    output = driver.run()\n",
    "    return(output.tg)\n",
    "    \n",
    "    \n",
    "if __name__ == '__main__':\n",
    "    with Pool(24) as pool:\n",
    "        result = list(tqdm(pool.imap(run_tlm, arglist), total=len(accept_inds)))\n",
    "    output = np.array(result).T\n",
    "\n",
    "results['AR6-historical_climuncert']['effective_radiative_forcing'] = forcing_ensemble['total'][8505:,:]\n",
    "results['AR6-historical_climuncert']['surface_temperature'] = output"
   ]
  },
  {
   "cell_type": "markdown",
   "metadata": {},
   "source": [
    "## Marginal contributions since 1750\n",
    "\n",
    "- forcing and climate variation\n",
    "- include aggregated categories: all WMGHG, all aerosol, all albedo, all anthropogenic, all natural"
   ]
  },
  {
   "cell_type": "code",
   "execution_count": 31,
   "metadata": {
    "scrolled": true
   },
   "outputs": [
    {
     "data": {
      "application/vnd.jupyter.widget-view+json": {
       "model_id": "68557a5fca6e4632b472c14cc5905dc1",
       "version_major": 2,
       "version_minor": 0
      },
      "text/plain": [
       "HBox(children=(HTML(value='Removing one at a time'), FloatProgress(value=0.0, max=18.0), HTML(value='')))"
      ]
     },
     "metadata": {},
     "output_type": "display_data"
    },
    {
     "data": {
      "application/vnd.jupyter.widget-view+json": {
       "model_id": "",
       "version_major": 2,
       "version_minor": 0
      },
      "text/plain": [
       "HBox(children=(HTML(value=''), FloatProgress(value=0.0, max=2565.0), HTML(value='')))"
      ]
     },
     "metadata": {},
     "output_type": "display_data"
    },
    {
     "data": {
      "application/vnd.jupyter.widget-view+json": {
       "model_id": "",
       "version_major": 2,
       "version_minor": 0
      },
      "text/plain": [
       "HBox(children=(HTML(value=''), FloatProgress(value=0.0, max=2565.0), HTML(value='')))"
      ]
     },
     "metadata": {},
     "output_type": "display_data"
    },
    {
     "data": {
      "application/vnd.jupyter.widget-view+json": {
       "model_id": "",
       "version_major": 2,
       "version_minor": 0
      },
      "text/plain": [
       "HBox(children=(HTML(value=''), FloatProgress(value=0.0, max=2565.0), HTML(value='')))"
      ]
     },
     "metadata": {},
     "output_type": "display_data"
    },
    {
     "data": {
      "application/vnd.jupyter.widget-view+json": {
       "model_id": "",
       "version_major": 2,
       "version_minor": 0
      },
      "text/plain": [
       "HBox(children=(HTML(value=''), FloatProgress(value=0.0, max=2565.0), HTML(value='')))"
      ]
     },
     "metadata": {},
     "output_type": "display_data"
    },
    {
     "data": {
      "application/vnd.jupyter.widget-view+json": {
       "model_id": "",
       "version_major": 2,
       "version_minor": 0
      },
      "text/plain": [
       "HBox(children=(HTML(value=''), FloatProgress(value=0.0, max=2565.0), HTML(value='')))"
      ]
     },
     "metadata": {},
     "output_type": "display_data"
    },
    {
     "data": {
      "application/vnd.jupyter.widget-view+json": {
       "model_id": "",
       "version_major": 2,
       "version_minor": 0
      },
      "text/plain": [
       "HBox(children=(HTML(value=''), FloatProgress(value=0.0, max=2565.0), HTML(value='')))"
      ]
     },
     "metadata": {},
     "output_type": "display_data"
    },
    {
     "data": {
      "application/vnd.jupyter.widget-view+json": {
       "model_id": "",
       "version_major": 2,
       "version_minor": 0
      },
      "text/plain": [
       "HBox(children=(HTML(value=''), FloatProgress(value=0.0, max=2565.0), HTML(value='')))"
      ]
     },
     "metadata": {},
     "output_type": "display_data"
    },
    {
     "data": {
      "application/vnd.jupyter.widget-view+json": {
       "model_id": "",
       "version_major": 2,
       "version_minor": 0
      },
      "text/plain": [
       "HBox(children=(HTML(value=''), FloatProgress(value=0.0, max=2565.0), HTML(value='')))"
      ]
     },
     "metadata": {},
     "output_type": "display_data"
    },
    {
     "data": {
      "application/vnd.jupyter.widget-view+json": {
       "model_id": "",
       "version_major": 2,
       "version_minor": 0
      },
      "text/plain": [
       "HBox(children=(HTML(value=''), FloatProgress(value=0.0, max=2565.0), HTML(value='')))"
      ]
     },
     "metadata": {},
     "output_type": "display_data"
    },
    {
     "data": {
      "application/vnd.jupyter.widget-view+json": {
       "model_id": "",
       "version_major": 2,
       "version_minor": 0
      },
      "text/plain": [
       "HBox(children=(HTML(value=''), FloatProgress(value=0.0, max=2565.0), HTML(value='')))"
      ]
     },
     "metadata": {},
     "output_type": "display_data"
    },
    {
     "data": {
      "application/vnd.jupyter.widget-view+json": {
       "model_id": "",
       "version_major": 2,
       "version_minor": 0
      },
      "text/plain": [
       "HBox(children=(HTML(value=''), FloatProgress(value=0.0, max=2565.0), HTML(value='')))"
      ]
     },
     "metadata": {},
     "output_type": "display_data"
    },
    {
     "data": {
      "application/vnd.jupyter.widget-view+json": {
       "model_id": "",
       "version_major": 2,
       "version_minor": 0
      },
      "text/plain": [
       "HBox(children=(HTML(value=''), FloatProgress(value=0.0, max=2565.0), HTML(value='')))"
      ]
     },
     "metadata": {},
     "output_type": "display_data"
    },
    {
     "data": {
      "application/vnd.jupyter.widget-view+json": {
       "model_id": "",
       "version_major": 2,
       "version_minor": 0
      },
      "text/plain": [
       "HBox(children=(HTML(value=''), FloatProgress(value=0.0, max=2565.0), HTML(value='')))"
      ]
     },
     "metadata": {},
     "output_type": "display_data"
    },
    {
     "data": {
      "application/vnd.jupyter.widget-view+json": {
       "model_id": "",
       "version_major": 2,
       "version_minor": 0
      },
      "text/plain": [
       "HBox(children=(HTML(value=''), FloatProgress(value=0.0, max=2565.0), HTML(value='')))"
      ]
     },
     "metadata": {},
     "output_type": "display_data"
    },
    {
     "data": {
      "application/vnd.jupyter.widget-view+json": {
       "model_id": "",
       "version_major": 2,
       "version_minor": 0
      },
      "text/plain": [
       "HBox(children=(HTML(value=''), FloatProgress(value=0.0, max=2565.0), HTML(value='')))"
      ]
     },
     "metadata": {},
     "output_type": "display_data"
    },
    {
     "data": {
      "application/vnd.jupyter.widget-view+json": {
       "model_id": "",
       "version_major": 2,
       "version_minor": 0
      },
      "text/plain": [
       "HBox(children=(HTML(value=''), FloatProgress(value=0.0, max=2565.0), HTML(value='')))"
      ]
     },
     "metadata": {},
     "output_type": "display_data"
    },
    {
     "data": {
      "application/vnd.jupyter.widget-view+json": {
       "model_id": "",
       "version_major": 2,
       "version_minor": 0
      },
      "text/plain": [
       "HBox(children=(HTML(value=''), FloatProgress(value=0.0, max=2565.0), HTML(value='')))"
      ]
     },
     "metadata": {},
     "output_type": "display_data"
    },
    {
     "data": {
      "application/vnd.jupyter.widget-view+json": {
       "model_id": "",
       "version_major": 2,
       "version_minor": 0
      },
      "text/plain": [
       "HBox(children=(HTML(value=''), FloatProgress(value=0.0, max=2565.0), HTML(value='')))"
      ]
     },
     "metadata": {},
     "output_type": "display_data"
    },
    {
     "name": "stdout",
     "output_type": "stream",
     "text": [
      "\n"
     ]
    }
   ],
   "source": [
    "if __name__ == '__main__':\n",
    "    for agent in tqdm(list(forcing_ensemble.keys())[:-1], desc='Removing one at a time'):\n",
    "        arglist = []\n",
    "        for i in range(len(accept_inds)):\n",
    "            startindex=0\n",
    "            firstyear = -6755\n",
    "            in_forcing = forcing_ensemble['total'][startindex:,i] - forcing_ensemble[agent][startindex:,i]\n",
    "            arglist.append(\n",
    "                {\n",
    "                    'in_forcing' : in_forcing,\n",
    "                    'cmix': cmix[i],\n",
    "                    'cdeep': cdeep[i],\n",
    "                    'gamma_2l': gamma_2l[i],\n",
    "                    'lamg': lamg[i],\n",
    "                    'eff': eff[i],\n",
    "                    'firstyear': firstyear\n",
    "                }\n",
    "            )\n",
    "        output = []\n",
    "        results['remove_%s_climuncert' % agent] = {}\n",
    "        with Pool(24) as pool:\n",
    "            result = list(tqdm(pool.imap(run_tlm, arglist), total=len(accept_inds), leave=False))\n",
    "        output = np.array(result).T\n",
    "\n",
    "        results['remove_%s_climuncert' % agent]['effective_radiative_forcing'] = forcing_ensemble['total'][8505:,:] - forcing_ensemble[agent][8505:,:]\n",
    "        results['remove_%s_climuncert' % agent]['surface_temperature'] = output"
   ]
  },
  {
   "cell_type": "code",
   "execution_count": 32,
   "metadata": {},
   "outputs": [],
   "source": [
    "save_dict_to_hdf5(results, '../data_output_large/twolayer_AR6-historical.h5')"
   ]
  },
  {
   "cell_type": "code",
   "execution_count": null,
   "metadata": {},
   "outputs": [],
   "source": []
  }
 ],
 "metadata": {
  "kernelspec": {
   "display_name": "Python 3",
   "language": "python",
   "name": "python3"
  },
  "language_info": {
   "codemirror_mode": {
    "name": "ipython",
    "version": 3
   },
   "file_extension": ".py",
   "mimetype": "text/x-python",
   "name": "python",
   "nbconvert_exporter": "python",
   "pygments_lexer": "ipython3",
   "version": "3.7.9"
  }
 },
 "nbformat": 4,
 "nbformat_minor": 4
}
