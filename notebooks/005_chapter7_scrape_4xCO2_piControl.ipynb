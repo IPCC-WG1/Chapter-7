{
 "cells": [
  {
   "cell_type": "markdown",
   "metadata": {},
   "source": [
    "# Get annual mean metrics from 4xCO2 and piControl and save as text files\n",
    "\n",
    "Things to be aware of\n",
    "\n",
    "- EC-Earth3 is the diff of r8i1p1f1 and r1i1p1f1\n",
    "- MCM-UA is rtmt (not rsdt etc)\n",
    "- I would really like to avoid iris\n",
    "\n",
    "**TODO** nice script for downloading CMIP6 data et al"
   ]
  },
  {
   "cell_type": "code",
   "execution_count": 1,
   "metadata": {},
   "outputs": [],
   "source": [
    "import numpy as np\n",
    "import iris\n",
    "import iris.analysis.cartography\n",
    "import iris.coord_categorisation\n",
    "from iris.experimental.equalise_cubes import equalise_attributes\n",
    "import glob\n",
    "import warnings\n",
    "from netCDF4 import Dataset\n",
    "warnings.simplefilter('ignore')"
   ]
  },
  {
   "cell_type": "code",
   "execution_count": 2,
   "metadata": {},
   "outputs": [],
   "source": [
    "from ar6.utils import mkdir_p\n",
    "\n",
    "vars = {\n",
    "    'tas'  : 'air_temperature',\n",
    "    'rsdt' : 'toa_incoming_shortwave_flux',\n",
    "    'rsut' : 'toa_outgoing_shortwave_flux',\n",
    "    'rlut' : 'toa_outgoing_longwave_flux'\n",
    "}"
   ]
  },
  {
   "cell_type": "code",
   "execution_count": 8,
   "metadata": {},
   "outputs": [],
   "source": [
    "models = glob.glob('/nfs/b0110/Data/cmip6/*/')\n",
    "models\n",
    "\n",
    "models = [\n",
    "#     '/nfs/b0110/Data/cmip6/EC-Earth3/',\n",
    "#     '/nfs/b0110/Data/cmip6/EC-Earth3-Veg/',\n",
    "#     '/nfs/b0110/Data/cmip6/MPI-ESM1-2-LR/',\n",
    "#     '/nfs/b0110/Data/cmip6/NESM3/',\n",
    "###     '/nfs/b0110/Data/cmip6/CIESM/',   # not downloaded\n",
    "     '/nfs/b0110/Data/cmip6/TaiESM1/',\n",
    "#     '/nfs/b0110/Data/cmip6/MCM-UA-1-0/',\n",
    "#    '/nfs/b0110/Data/cmip6/KIOST-ESM/',\n",
    "#    '/nfs/b0110/Data/cmip6/FIO-ESM-2-0/'\n",
    "#    '/nfs/b0110/Data/cmip6/MPI-ESM1-2-HAM/'\n",
    "]"
   ]
  },
  {
   "cell_type": "code",
   "execution_count": 9,
   "metadata": {},
   "outputs": [
    {
     "name": "stdout",
     "output_type": "stream",
     "text": [
      "TaiESM1\n",
      "/nfs/b0110/Data/cmip6/TaiESM1/abrupt-4xCO2/r1i1p1f1\n"
     ]
    }
   ],
   "source": [
    "for model in models:\n",
    "    model_name = model.split('/')[-2]\n",
    "    print(model_name)\n",
    "    for variant in glob.glob('/nfs/b0110/Data/cmip6/%s/abrupt-4xCO2/r*i1p*f*' % model_name):\n",
    "        print(variant)\n",
    "        nvar_exist = 0\n",
    "        if model=='MCM-UA-1-0':\n",
    "            vars = {\n",
    "                'tas'  : 'air_temperature',\n",
    "                'rtmt' : 'net_downward_radiative_flux_at_top_of_atmosphere_model',\n",
    "            }\n",
    "        else:\n",
    "            vars = {\n",
    "                'tas'  : 'air_temperature',\n",
    "                'rsdt' : 'toa_incoming_shortwave_flux',\n",
    "                'rsut' : 'toa_outgoing_shortwave_flux',\n",
    "                'rlut' : 'toa_outgoing_longwave_flux'\n",
    "            }\n",
    "        for var_name, standard_name in vars.items():\n",
    "            test = glob.glob(variant + '/Amon/%s/g*/' % var_name)\n",
    "            nvar_exist = nvar_exist + len(test) # should be either 0 or 1 depending on whether variable exists\n",
    "        if nvar_exist==len(vars):\n",
    "            outdir = '../data_input/cmip6/%s/%s/%s' % tuple([v for v in variant.split('/')[-3:]])\n",
    "            mkdir_p(outdir) # only mkdir if we have data\n",
    "            for var_name, standard_name in vars.items():\n",
    "                cube = iris.load(variant + '/Amon/%s/g*/%s_*.nc' % (var_name, var_name), standard_name)\n",
    "                equalise_attributes(cube)\n",
    "                cube = cube.concatenate()[0]\n",
    "                if not cube.coord('longitude').has_bounds():\n",
    "                    cube.coord('longitude').guess_bounds()\n",
    "                if not cube.coord('latitude').has_bounds():\n",
    "                    cube.coord('latitude').guess_bounds()\n",
    "                iris.coord_categorisation.add_year(cube, 'time', name='year')\n",
    "                grid_areas = iris.analysis.cartography.area_weights(cube)\n",
    "                cube_coll = cube.collapsed(['longitude', 'latitude'], iris.analysis.MEAN, weights=grid_areas).aggregated_by('year', iris.analysis.MEAN).data\n",
    "                bt = cube.attributes['branch_time_in_parent']\n",
    "                btu= cube.attributes['parent_time_units']\n",
    "                cal= cube.coord('time').units.calendar\n",
    "                fo = open('%s/meta.txt' % outdir, 'w')\n",
    "                fo.write('branch_time_in_parent: ' + str(cube.attributes['branch_time_in_parent']) + '\\n')\n",
    "                fo.write('parent_time_units:     ' + str(cube.attributes['parent_time_units']) + '\\n')\n",
    "                fo.write('calendar:              ' + str(cube.coord('time').units.calendar) + '\\n')\n",
    "                fo.close() #/Amon/%s/g*/latest/%s_*.nc' % (model, var_name, var_name), standard_name)\n",
    "                np.savetxt('%s/%s.txt' % (outdir, var_name), cube_coll)"
   ]
  },
  {
   "cell_type": "code",
   "execution_count": 10,
   "metadata": {},
   "outputs": [
    {
     "name": "stdout",
     "output_type": "stream",
     "text": [
      "TaiESM1\n",
      "/nfs/b0110/Data/cmip6/TaiESM1/piControl/r1i1p1f1\n"
     ]
    }
   ],
   "source": [
    "for model in models:\n",
    "    model_name = model.split('/')[-2]\n",
    "    print(model_name)\n",
    "    for variant in glob.glob('/nfs/b0110/Data/cmip6/%s/piControl/r*i1p*f*' % model_name):\n",
    "        print(variant)\n",
    "        nvar_exist = 0\n",
    "        if model=='MCM-UA-1-0':\n",
    "            vars = {\n",
    "                'tas'  : 'air_temperature',\n",
    "                'rtmt' : 'net_downward_radiative_flux_at_top_of_atmosphere_model',\n",
    "            }\n",
    "        else:\n",
    "            vars = {\n",
    "                'tas'  : 'air_temperature',\n",
    "                'rsdt' : 'toa_incoming_shortwave_flux',\n",
    "                'rsut' : 'toa_outgoing_shortwave_flux',\n",
    "                'rlut' : 'toa_outgoing_longwave_flux'\n",
    "            }\n",
    "        for var_name, standard_name in vars.items():\n",
    "            test = glob.glob(variant + '/Amon/%s/g*/' % var_name)\n",
    "            nvar_exist = nvar_exist + len(test) # should be either 0 or 1 depending on whether variable exists\n",
    "        if nvar_exist==len(vars):\n",
    "            outdir = '../data_input/cmip6/%s/%s/%s' % tuple([v for v in variant.split('/')[-3:]])\n",
    "            mkdir_p(outdir) # only mkdir if we have data\n",
    "            for var_name, standard_name in vars.items():\n",
    "                cube = iris.load(variant + '/Amon/%s/g*/%s_*.nc' % (var_name, var_name), standard_name)\n",
    "                equalise_attributes(cube)\n",
    "                cube = cube.concatenate()[0]\n",
    "                if not cube.coord('longitude').has_bounds():\n",
    "                    cube.coord('longitude').guess_bounds()\n",
    "                if not cube.coord('latitude').has_bounds():\n",
    "                    cube.coord('latitude').guess_bounds()\n",
    "                iris.coord_categorisation.add_year(cube, 'time', name='year')\n",
    "                grid_areas = iris.analysis.cartography.area_weights(cube)\n",
    "                cube_coll = cube.collapsed(['longitude', 'latitude'], iris.analysis.MEAN, weights=grid_areas).aggregated_by('year', iris.analysis.MEAN).data\n",
    "                bt = cube.attributes['branch_time_in_parent']\n",
    "                btu= cube.attributes['parent_time_units']\n",
    "                cal= cube.coord('time').units.calendar\n",
    "                fo = open('%s/meta.txt' % outdir, 'w')\n",
    "                fo.write('branch_time_in_parent: ' + str(cube.attributes['branch_time_in_parent']) + '\\n')\n",
    "                fo.write('parent_time_units:     ' + str(cube.attributes['parent_time_units']) + '\\n')\n",
    "                fo.write('calendar:              ' + str(cube.coord('time').units.calendar) + '\\n')\n",
    "                fo.close() #/Amon/%s/g*/latest/%s_*.nc' % (model, var_name, var_name), standard_name)\n",
    "                np.savetxt('%s/%s.txt' % (outdir, var_name), cube_coll)"
   ]
  },
  {
   "cell_type": "code",
   "execution_count": null,
   "metadata": {},
   "outputs": [],
   "source": []
  }
 ],
 "metadata": {
  "kernelspec": {
   "display_name": "Python 3",
   "language": "python",
   "name": "python3"
  },
  "language_info": {
   "codemirror_mode": {
    "name": "ipython",
    "version": 3
   },
   "file_extension": ".py",
   "mimetype": "text/x-python",
   "name": "python",
   "nbconvert_exporter": "python",
   "pygments_lexer": "ipython3",
   "version": "3.7.9"
  }
 },
 "nbformat": 4,
 "nbformat_minor": 4
}
