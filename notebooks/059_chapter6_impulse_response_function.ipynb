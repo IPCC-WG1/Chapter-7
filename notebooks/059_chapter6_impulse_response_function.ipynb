{
 "cells": [
  {
   "cell_type": "markdown",
   "metadata": {},
   "source": [
    "# Take constrained output for WG3 and put into impulse response form\n",
    "\n",
    "- Use constrained FaIR setup from 056 and 057\n",
    "- apply Zeb's conversion\n",
    "- test"
   ]
  },
  {
   "cell_type": "code",
   "execution_count": 1,
   "metadata": {},
   "outputs": [],
   "source": [
    "import fair\n",
    "import json\n",
    "import sys\n",
    "import os\n",
    "import random\n",
    "import numpy as np\n",
    "import scipy.stats as st       # v1.4+ needed\n",
    "import matplotlib.pyplot as pl\n",
    "import pandas as pd\n",
    "from multiprocessing import Pool\n",
    "\n",
    "from ar6.utils.h5 import *\n",
    "from ar6.forcing.aerosol import aerocom_n, ghan\n",
    "from ar6.twolayermodel import TwoLayerModel\n",
    "\n",
    "from netCDF4 import Dataset\n",
    "from tqdm import tqdm_notebook\n",
    "from scipy.interpolate import interp1d\n",
    "\n",
    "from tqdm.notebook import tqdm"
   ]
  },
  {
   "cell_type": "markdown",
   "metadata": {},
   "source": [
    "## Ensemble generation\n",
    "\n",
    "We want to ensure reproducible results that don't change when this script is re-run. Grab list of pre-generated random seeds."
   ]
  },
  {
   "cell_type": "code",
   "execution_count": 2,
   "metadata": {},
   "outputs": [],
   "source": [
    "with open('../data_input/random_seeds.json', 'r') as filehandle:\n",
    "    SEEDS = json.load(filehandle)"
   ]
  },
  {
   "cell_type": "code",
   "execution_count": 3,
   "metadata": {},
   "outputs": [],
   "source": [
    "NINETY_TO_ONESIGMA = st.norm.ppf(0.95)"
   ]
  },
  {
   "cell_type": "markdown",
   "metadata": {},
   "source": [
    "## Climate model parameters"
   ]
  },
  {
   "cell_type": "markdown",
   "metadata": {},
   "source": [
    "### load unconstrained"
   ]
  },
  {
   "cell_type": "code",
   "execution_count": 4,
   "metadata": {},
   "outputs": [],
   "source": [
    "# ozone\n",
    "ozone_feedback = np.load('../data_input_large/fair-samples/ozone_feedback_unconstrained.npy')\n",
    "beta_ch4 = np.load('../data_input_large/fair-samples/beta_ch4_unconstrained.npy')\n",
    "beta_n2o = np.load('../data_input_large/fair-samples/beta_n2o_unconstrained.npy')\n",
    "beta_ods = np.load('../data_input_large/fair-samples/beta_ods_unconstrained.npy')\n",
    "beta_co = np.load('../data_input_large/fair-samples/beta_co_unconstrained.npy')\n",
    "beta_voc = np.load('../data_input_large/fair-samples/beta_voc_unconstrained.npy')\n",
    "beta_nox = np.load('../data_input_large/fair-samples/beta_nox_unconstrained.npy')\n",
    "\n",
    "# carbon cycle\n",
    "r0 = np.load('../data_input_large/fair-samples/r0_unconstrained.npy')\n",
    "rC = np.load('../data_input_large/fair-samples/rC_unconstrained.npy')\n",
    "rT = np.load('../data_input_large/fair-samples/rT_unconstrained.npy')\n",
    "pre_ind_co2 = np.load('../data_input_large/fair-samples/pre_ind_co2_unconstrained.npy')\n",
    "\n",
    "# aerosol\n",
    "beta_so2 = np.load('../data_input_large/fair-samples/beta_so2_unconstrained.npy')\n",
    "beta_bc = np.load('../data_input_large/fair-samples/beta_bc_unconstrained.npy')\n",
    "beta_oc = np.load('../data_input_large/fair-samples/beta_oc_unconstrained.npy')\n",
    "beta_nh3 = np.load('../data_input_large/fair-samples/beta_nh3_unconstrained.npy')\n",
    "beta = np.load('../data_input_large/fair-samples/beta_unconstrained.npy')\n",
    "aci_coeffs = np.load('../data_input_large/fair-samples/aci_coeffs.npy')\n",
    "\n",
    "# forcing\n",
    "scale_normals = np.load('../data_input_large/fair-samples/scale_normals.npy')\n",
    "trend_solar = np.load('../data_input_large/fair-samples/scale_trend_solar.npy')\n",
    "\n",
    "# climate response\n",
    "geoff_sample_df = pd.read_csv('../data_output_large/geoff_sample.csv', index_col=0)\n",
    "f2x = np.load('../data_input_large/fair-samples/f2x_unconstrained.npy')\n",
    "ecs = np.load('../data_input_large/fair-samples/ecs_unconstrained.npy')\n",
    "tcr = np.load('../data_input_large/fair-samples/tcr_unconstrained.npy')\n",
    "\n",
    "# accepted ensemble\n",
    "accept_inds = np.loadtxt('../data_output_large/fair-samples/accept_inds.csv', dtype=int)"
   ]
  },
  {
   "cell_type": "markdown",
   "metadata": {},
   "source": [
    "### apply the constraint and overwrite unconstrained"
   ]
  },
  {
   "cell_type": "code",
   "execution_count": 5,
   "metadata": {},
   "outputs": [
    {
     "data": {
      "text/plain": [
       "array([   838,    949,   1242, ..., 999362, 999380, 999843])"
      ]
     },
     "execution_count": 5,
     "metadata": {},
     "output_type": "execute_result"
    }
   ],
   "source": [
    "accept_inds"
   ]
  },
  {
   "cell_type": "code",
   "execution_count": 6,
   "metadata": {},
   "outputs": [
    {
     "data": {
      "text/html": [
       "<div>\n",
       "<style scoped>\n",
       "    .dataframe tbody tr th:only-of-type {\n",
       "        vertical-align: middle;\n",
       "    }\n",
       "\n",
       "    .dataframe tbody tr th {\n",
       "        vertical-align: top;\n",
       "    }\n",
       "\n",
       "    .dataframe thead th {\n",
       "        text-align: right;\n",
       "    }\n",
       "</style>\n",
       "<table border=\"1\" class=\"dataframe\">\n",
       "  <thead>\n",
       "    <tr style=\"text-align: right;\">\n",
       "      <th></th>\n",
       "      <th>q4x</th>\n",
       "      <th>lamg</th>\n",
       "      <th>cmix</th>\n",
       "      <th>cdeep</th>\n",
       "      <th>gamma_2l</th>\n",
       "      <th>eff</th>\n",
       "    </tr>\n",
       "  </thead>\n",
       "  <tbody>\n",
       "    <tr>\n",
       "      <th>838</th>\n",
       "      <td>9.273214</td>\n",
       "      <td>-1.635251</td>\n",
       "      <td>6.148327</td>\n",
       "      <td>150.303560</td>\n",
       "      <td>0.743663</td>\n",
       "      <td>1.415621</td>\n",
       "    </tr>\n",
       "    <tr>\n",
       "      <th>949</th>\n",
       "      <td>8.976294</td>\n",
       "      <td>-1.187633</td>\n",
       "      <td>6.454781</td>\n",
       "      <td>99.281930</td>\n",
       "      <td>0.717200</td>\n",
       "      <td>1.891549</td>\n",
       "    </tr>\n",
       "    <tr>\n",
       "      <th>1242</th>\n",
       "      <td>7.607466</td>\n",
       "      <td>-1.621618</td>\n",
       "      <td>9.979336</td>\n",
       "      <td>211.420597</td>\n",
       "      <td>0.643690</td>\n",
       "      <td>1.070795</td>\n",
       "    </tr>\n",
       "    <tr>\n",
       "      <th>2110</th>\n",
       "      <td>8.007978</td>\n",
       "      <td>-0.659745</td>\n",
       "      <td>6.944094</td>\n",
       "      <td>55.568035</td>\n",
       "      <td>0.823893</td>\n",
       "      <td>2.067918</td>\n",
       "    </tr>\n",
       "    <tr>\n",
       "      <th>2509</th>\n",
       "      <td>9.112583</td>\n",
       "      <td>-1.829337</td>\n",
       "      <td>9.725970</td>\n",
       "      <td>215.461523</td>\n",
       "      <td>0.665151</td>\n",
       "      <td>0.889553</td>\n",
       "    </tr>\n",
       "    <tr>\n",
       "      <th>...</th>\n",
       "      <td>...</td>\n",
       "      <td>...</td>\n",
       "      <td>...</td>\n",
       "      <td>...</td>\n",
       "      <td>...</td>\n",
       "      <td>...</td>\n",
       "    </tr>\n",
       "    <tr>\n",
       "      <th>999021</th>\n",
       "      <td>8.859442</td>\n",
       "      <td>-1.200989</td>\n",
       "      <td>8.527159</td>\n",
       "      <td>78.088790</td>\n",
       "      <td>0.739437</td>\n",
       "      <td>1.715458</td>\n",
       "    </tr>\n",
       "    <tr>\n",
       "      <th>999359</th>\n",
       "      <td>7.638968</td>\n",
       "      <td>-1.265169</td>\n",
       "      <td>8.066919</td>\n",
       "      <td>55.466701</td>\n",
       "      <td>0.515077</td>\n",
       "      <td>0.929718</td>\n",
       "    </tr>\n",
       "    <tr>\n",
       "      <th>999362</th>\n",
       "      <td>9.862818</td>\n",
       "      <td>-1.153942</td>\n",
       "      <td>6.061896</td>\n",
       "      <td>162.547532</td>\n",
       "      <td>0.777108</td>\n",
       "      <td>2.955820</td>\n",
       "    </tr>\n",
       "    <tr>\n",
       "      <th>999380</th>\n",
       "      <td>8.710426</td>\n",
       "      <td>-0.980681</td>\n",
       "      <td>4.870043</td>\n",
       "      <td>189.856296</td>\n",
       "      <td>0.670366</td>\n",
       "      <td>2.769520</td>\n",
       "    </tr>\n",
       "    <tr>\n",
       "      <th>999843</th>\n",
       "      <td>8.431307</td>\n",
       "      <td>-2.004231</td>\n",
       "      <td>8.215237</td>\n",
       "      <td>134.750835</td>\n",
       "      <td>0.676118</td>\n",
       "      <td>1.019674</td>\n",
       "    </tr>\n",
       "  </tbody>\n",
       "</table>\n",
       "<p>2565 rows × 6 columns</p>\n",
       "</div>"
      ],
      "text/plain": [
       "             q4x      lamg      cmix       cdeep  gamma_2l       eff\n",
       "838     9.273214 -1.635251  6.148327  150.303560  0.743663  1.415621\n",
       "949     8.976294 -1.187633  6.454781   99.281930  0.717200  1.891549\n",
       "1242    7.607466 -1.621618  9.979336  211.420597  0.643690  1.070795\n",
       "2110    8.007978 -0.659745  6.944094   55.568035  0.823893  2.067918\n",
       "2509    9.112583 -1.829337  9.725970  215.461523  0.665151  0.889553\n",
       "...          ...       ...       ...         ...       ...       ...\n",
       "999021  8.859442 -1.200989  8.527159   78.088790  0.739437  1.715458\n",
       "999359  7.638968 -1.265169  8.066919   55.466701  0.515077  0.929718\n",
       "999362  9.862818 -1.153942  6.061896  162.547532  0.777108  2.955820\n",
       "999380  8.710426 -0.980681  4.870043  189.856296  0.670366  2.769520\n",
       "999843  8.431307 -2.004231  8.215237  134.750835  0.676118  1.019674\n",
       "\n",
       "[2565 rows x 6 columns]"
      ]
     },
     "execution_count": 6,
     "metadata": {},
     "output_type": "execute_result"
    }
   ],
   "source": [
    "geoff_sample_df.loc[accept_inds]"
   ]
  },
  {
   "cell_type": "code",
   "execution_count": 7,
   "metadata": {},
   "outputs": [],
   "source": [
    "# ozone\n",
    "ozone_feedback = ozone_feedback[accept_inds]\n",
    "beta_ch4 = beta_ch4[accept_inds]\n",
    "beta_n2o = beta_n2o[accept_inds]\n",
    "beta_ods = beta_ods[accept_inds]\n",
    "beta_co = beta_co[accept_inds]\n",
    "beta_voc = beta_voc[accept_inds]\n",
    "beta_nox = beta_nox[accept_inds]\n",
    "\n",
    "# carbon cycle\n",
    "pre_ind_co2 = pre_ind_co2[accept_inds]\n",
    "r0 = r0[accept_inds]\n",
    "rC = rC[accept_inds]\n",
    "rT = rT[accept_inds]\n",
    "\n",
    "# aerosol\n",
    "beta_so2 = beta_so2[accept_inds]\n",
    "beta_bc = beta_bc[accept_inds]\n",
    "beta_oc = beta_oc[accept_inds]\n",
    "beta_nh3 = beta_nh3[accept_inds]\n",
    "beta = beta[accept_inds]\n",
    "aci_coeffs = aci_coeffs[accept_inds]\n",
    "\n",
    "# forcing\n",
    "scale_normals = scale_normals[accept_inds]\n",
    "trend_solar = trend_solar[accept_inds]\n",
    "\n",
    "# climate response\n",
    "geoff_sample_df = geoff_sample_df.loc[accept_inds]\n",
    "f2x = f2x[accept_inds]\n",
    "ecs = ecs[accept_inds]\n",
    "tcr = tcr[accept_inds]"
   ]
  },
  {
   "cell_type": "code",
   "execution_count": 10,
   "metadata": {},
   "outputs": [],
   "source": [
    "f2x_median = np.median(f2x)\n",
    "ecs_median = np.median(ecs)\n",
    "tcr_median = np.median(tcr)"
   ]
  },
  {
   "cell_type": "code",
   "execution_count": 11,
   "metadata": {},
   "outputs": [
    {
     "data": {
      "text/plain": [
       "(array([182., 802., 929., 426., 102.,  51.,  44.,  23.,   4.,   2.]),\n",
       " array([0.01965245, 0.40516315, 0.79067386, 1.17618456, 1.56169526,\n",
       "        1.94720597, 2.33271667, 2.71822737, 3.10373808, 3.48924878,\n",
       "        3.87475949]),\n",
       " <BarContainer object of 10 artists>)"
      ]
     },
     "execution_count": 11,
     "metadata": {},
     "output_type": "execute_result"
    },
    {
     "data": {
      "image/png": "[encoded data removed]",
      "text/plain": [
       "<Figure size 432x288 with 1 Axes>"
      ]
     },
     "metadata": {
      "needs_background": "light"
     },
     "output_type": "display_data"
    }
   ],
   "source": [
    "kappa = f2x/tcr - f2x/ecs\n",
    "# kappa = efficacy * eta\n",
    "pl.hist(kappa)"
   ]
  },
  {
   "cell_type": "code",
   "execution_count": 12,
   "metadata": {},
   "outputs": [],
   "source": [
    "lamg = geoff_sample_df['lamg'].values\n",
    "eff = geoff_sample_df['eff'].values\n",
    "gamma_2l = geoff_sample_df['gamma_2l'].values\n",
    "cdeep = geoff_sample_df['cdeep'].values\n",
    "cmix = geoff_sample_df['cmix'].values"
   ]
  },
  {
   "cell_type": "markdown",
   "metadata": {},
   "source": [
    "## Convert Geoffroy to impulse-response\n",
    "\n",
    "this is shamelessly copied from Zeb, but indpendence from pint and scm data makes things run 10x faster"
   ]
  },
  {
   "cell_type": "code",
   "execution_count": null,
   "metadata": {},
   "outputs": [],
   "source": [
    "def _calculate_geoffroy_helper_parameters(\n",
    "    cmix, cdeep, lambda0, efficacy, eta\n",
    "):\n",
    "\n",
    "    b_pt1 = (lambda0 + efficacy * eta) / (C)\n",
    "    b_pt2 = (eta) / (C_D)\n",
    "    b = b_pt1 + b_pt2\n",
    "    b_star = b_pt1 - b_pt2\n",
    "    delta = b ** 2 - (4 * lambda0 * eta) / (C * C_D)\n",
    "\n",
    "    taucoeff = C * C_D / (2 * lambda0 * eta)\n",
    "    d1 = taucoeff * (b - delta ** 0.5)\n",
    "    d2 = taucoeff * (b + delta ** 0.5)\n",
    "\n",
    "    phicoeff = C / (2 * efficacy * eta)\n",
    "    phi1 = phicoeff * (b_star - delta ** 0.5)\n",
    "    phi2 = phicoeff * (b_star + delta ** 0.5)\n",
    "\n",
    "    adenom = C * (phi2 - phi1)\n",
    "    a1 = d1 * phi2 * lambda0 / adenom\n",
    "    a2 = -d2 * phi1 * lambda0 / adenom\n",
    "\n",
    "    qdenom = cmix * (phi2 - phi1)\n",
    "    q1 = d1 * phi2 / qdenom\n",
    "    q2 = -d2 * phi1 / qdenom\n",
    "\n",
    "out = {\n",
    "    \"d1\": d1,\n",
    "    \"d2\": d2,\n",
    "    \"q1\": q1,\n",
    "    \"q2\": q2,\n",
    "    \"efficacy\": self.efficacy,\n",
    "}\n",
    "    \n",
    "    out = {\n",
    "        \"b\": b,\n",
    "        \"b_star\": b_star,\n",
    "        \"delta\": delta,\n",
    "        \"tau1\": tau1,\n",
    "        \"tau2\": tau2,\n",
    "        \"phi1\": phi1,\n",
    "        \"phi2\": phi2,\n",
    "        \"a1\": a1,\n",
    "        \"a2\": a2,\n",
    "    }\n",
    "\n",
    "    return out\n",
    "\n",
    "\n",
    "\n",
    "gh = _calculate_geoffroy_helper_parameters(\n",
    "    cmix, cdeep, lambda0, efficacy, eta\n",
    ")\n",
    "\n"
   ]
  }
 ],
 "metadata": {
  "kernelspec": {
   "display_name": "Python 3",
   "language": "python",
   "name": "python3"
  },
  "language_info": {
   "codemirror_mode": {
    "name": "ipython",
    "version": 3
   },
   "file_extension": ".py",
   "mimetype": "text/x-python",
   "name": "python",
   "nbconvert_exporter": "python",
   "pygments_lexer": "ipython3",
   "version": "3.7.9"
  }
 },
 "nbformat": 4,
 "nbformat_minor": 4
}
