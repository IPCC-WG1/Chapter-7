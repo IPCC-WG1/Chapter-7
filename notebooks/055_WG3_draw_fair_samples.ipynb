{
 "cells": [
  {
   "cell_type": "markdown",
   "metadata": {},
   "source": [
    "# Sampling for FaIR\n",
    "\n",
    "This notebook generates the parameter sets to run FaIR with for AR6 setups. This will be used in chapter 7 WG1 and passed on also to WG3 through `openscm-runner`"
   ]
  },
  {
   "cell_type": "code",
   "execution_count": 87,
   "metadata": {},
   "outputs": [],
   "source": [
    "import errno\n",
    "import fair\n",
    "import json\n",
    "import sys\n",
    "import os\n",
    "import random\n",
    "import numpy as np\n",
    "import scipy.stats as st\n",
    "import matplotlib.pyplot as pl\n",
    "import pandas as pd\n",
    "import pickle\n",
    "from multiprocessing import Pool\n",
    "\n",
    "from netCDF4 import Dataset\n",
    "from tqdm.notebook import tqdm\n",
    "from scipy.interpolate import interp1d\n",
    "from fair.constants import molwt\n",
    "from fair.ancil import natural, cmip6_volcanic, cmip6_solar\n",
    "from ar6.forcing.aerosol import ghan\n",
    "\n",
    "from openscm_units import unit_registry as ur\n",
    "from scmdata import ScmRun\n",
    "\n",
    "import openscm_runner\n",
    "from openscm_twolayermodel import TwoLayerModel\n",
    "from openscm_twolayermodel.constants import DENSITY_WATER, HEAT_CAPACITY_WATER"
   ]
  },
  {
   "cell_type": "code",
   "execution_count": 88,
   "metadata": {},
   "outputs": [
    {
     "data": {
      "text/plain": [
       "'1.6.1'"
      ]
     },
     "execution_count": 88,
     "metadata": {},
     "output_type": "execute_result"
    }
   ],
   "source": [
    "fair.__version__"
   ]
  },
  {
   "cell_type": "code",
   "execution_count": 89,
   "metadata": {},
   "outputs": [
    {
     "data": {
      "text/plain": [
       "'0.4.4'"
      ]
     },
     "execution_count": 89,
     "metadata": {},
     "output_type": "execute_result"
    }
   ],
   "source": [
    "openscm_runner.__version__"
   ]
  },
  {
   "cell_type": "markdown",
   "metadata": {},
   "source": [
    "## Ensemble generation\n",
    "\n",
    "We want to ensure reproducible results that don't change when this script is re-run. Grab list of pre-generated random seeds."
   ]
  },
  {
   "cell_type": "code",
   "execution_count": 90,
   "metadata": {},
   "outputs": [],
   "source": [
    "with open('../data_input/random_seeds.json', 'r') as filehandle:\n",
    "    SEEDS = json.load(filehandle)"
   ]
  },
  {
   "cell_type": "code",
   "execution_count": 91,
   "metadata": {},
   "outputs": [],
   "source": [
    "SAMPLES = 1000000\n",
    "NINETY_TO_ONESIGMA = st.norm.ppf(0.95)\n",
    "F2XCO2_MEAN = 4.00\n",
    "F2XCO2_NINETY = 0.48"
   ]
  },
  {
   "cell_type": "markdown",
   "metadata": {},
   "source": [
    "## Thermal parameters"
   ]
  },
  {
   "cell_type": "code",
   "execution_count": 92,
   "metadata": {},
   "outputs": [],
   "source": [
    "with open(\"../data_input/tunings/cmip6_twolayer_tuning_params.json\", \"r\") as read_file:\n",
    "    params = json.load(read_file)\n",
    "cmip6_models = list(params['eta']['model_data'].keys())\n",
    "cmip6_models\n",
    "NMODELS = len(cmip6_models)\n",
    "\n",
    "geoff_data = np.zeros((NMODELS, 6))\n",
    "# convert dl and du from Zeb's formulation to Geoffroy\n",
    "for im, model in enumerate(cmip6_models):\n",
    "    geoff_data[im,0] = params['F4xCO2']['model_data'][model]\n",
    "    geoff_data[im,1] = -params['lambda0']['model_data'][model]\n",
    "    geoff_data[im,2] = (params['du']['model_data'][model] * ur(\"m\") * (DENSITY_WATER * HEAT_CAPACITY_WATER)).to(\"W m**-2 K**-1 yr\").magnitude\n",
    "    geoff_data[im,3] = (params['dl']['model_data'][model] * ur(\"m\") * (DENSITY_WATER * HEAT_CAPACITY_WATER)).to(\"W m**-2 K**-1 yr\").magnitude\n",
    "    geoff_data[im,4] = params['eta']['model_data'][model]\n",
    "    geoff_data[im,5] = params['efficacy']['model_data'][model]\n",
    "\n",
    "geoff_df = pd.DataFrame(geoff_data, columns=['q4x','lamg','cmix','cdeep','gamma_2l','eff'], index=cmip6_models)\n",
    "kde = st.gaussian_kde(geoff_df.T)\n",
    "geoff_sample = kde.resample(size=int(SAMPLES*1.25), seed = SEEDS[15])\n",
    "\n",
    "# remove unphysical combinations\n",
    "geoff_sample[:,geoff_sample[0,:] <= 0] = np.nan\n",
    "geoff_sample[:,geoff_sample[1,:] >= -0.55] = np.nan\n",
    "geoff_sample[:,geoff_sample[2,:] <= 0] = np.nan\n",
    "geoff_sample[:,geoff_sample[3,:] <= 0] = np.nan\n",
    "geoff_sample[:,geoff_sample[4,:] <= 0] = np.nan\n",
    "geoff_sample[:,geoff_sample[5,:] <= 0] = np.nan\n",
    "\n",
    "mask = np.all(np.isnan(geoff_sample), axis=0)\n",
    "geoff_sample = geoff_sample[:,~mask][:,:SAMPLES]\n",
    "geoff_sample_df=pd.DataFrame(data=geoff_sample.T, columns=['q4x','lamg','cmix','cdeep','gamma_2l','eff'])\n",
    "geoff_sample_df.to_csv('../data_output_large/geoff_sample.csv')\n",
    "geoff_sample_df\n",
    "\n",
    "f2x = st.norm.rvs(loc=F2XCO2_MEAN, scale=F2XCO2_NINETY/NINETY_TO_ONESIGMA, size=SAMPLES, random_state=SEEDS[73])\n",
    "\n",
    "ecs = -f2x/geoff_sample[1,:]\n",
    "tcr = f2x/(-geoff_sample[1,:] + geoff_sample[4,:]*geoff_sample[5,:])\n",
    "\n",
    "np.save('../data_input_large/fair-samples/f2x_unconstrained.npy', f2x)\n",
    "np.save('../data_input_large/fair-samples/ecs_unconstrained.npy', ecs)\n",
    "np.save('../data_input_large/fair-samples/tcr_unconstrained.npy', tcr)"
   ]
  },
  {
   "cell_type": "code",
   "execution_count": 93,
   "metadata": {},
   "outputs": [
    {
     "name": "stdout",
     "output_type": "stream",
     "text": [
      "[1.99613659 2.40218965 3.55830306 5.37271707 6.50374369]\n"
     ]
    },
    {
     "data": {
      "image/png": "[encoded data removed]",
      "text/plain": [
       "<Figure size 432x288 with 1 Axes>"
      ]
     },
     "metadata": {
      "needs_background": "light"
     },
     "output_type": "display_data"
    }
   ],
   "source": [
    "pl.hist(ecs, bins=np.arange(0,11,0.2))\n",
    "print(np.percentile(ecs, (5,16,50,84,95)))"
   ]
  },
  {
   "cell_type": "code",
   "execution_count": 94,
   "metadata": {},
   "outputs": [
    {
     "name": "stdout",
     "output_type": "stream",
     "text": [
      "[1.31699746 1.52593018 1.9818466  2.75056376 3.40420689]\n"
     ]
    },
    {
     "data": {
      "image/png": "[encoded data removed]",
      "text/plain": [
       "<Figure size 432x288 with 1 Axes>"
      ]
     },
     "metadata": {
      "needs_background": "light"
     },
     "output_type": "display_data"
    }
   ],
   "source": [
    "pl.hist(tcr, bins=np.arange(0,5,0.2))\n",
    "print(np.percentile(tcr, (5,16,50,84,95)))"
   ]
  },
  {
   "cell_type": "code",
   "execution_count": 95,
   "metadata": {},
   "outputs": [
    {
     "data": {
      "image/png": "[encoded data removed]",
      "text/plain": [
       "<Figure size 432x288 with 1 Axes>"
      ]
     },
     "metadata": {
      "needs_background": "light"
     },
     "output_type": "display_data"
    }
   ],
   "source": [
    "fig, ax = pl.subplots()\n",
    "ax.scatter(ecs, tcr)\n",
    "ax.text(0.1,0.9,'r = %.2f' % np.corrcoef(ecs,tcr)[0,1], transform=ax.transAxes)\n",
    "ax.set_ylim(0,8)\n",
    "ax.set_xlim(0,10)\n",
    "ax.set_xlabel('ECS')\n",
    "ax.set_ylabel('TCR')\n",
    "ax.set_title('ECS and TCR priors')\n",
    "fig.tight_layout()"
   ]
  },
  {
   "cell_type": "code",
   "execution_count": 96,
   "metadata": {},
   "outputs": [
    {
     "name": "stdout",
     "output_type": "stream",
     "text": [
      "[1.99613659 2.40218965 3.55830306 5.37271707 6.50374369]\n",
      "[1.31699746 1.52593018 1.9818466  2.75056376 3.40420689]\n"
     ]
    }
   ],
   "source": [
    "print(np.percentile(ecs, (5,16,50,84,95)))\n",
    "print(np.percentile(tcr, (5,16,50,84,95)))"
   ]
  },
  {
   "cell_type": "markdown",
   "metadata": {},
   "source": [
    "## Forcing uncertainties\n",
    "\n",
    "Ensure check the AR6 notebook #040"
   ]
  },
  {
   "cell_type": "code",
   "execution_count": 97,
   "metadata": {},
   "outputs": [],
   "source": [
    "# these are standard deviations of the scale factor for normally distributed forcings (mean = 1). The list below is expressed in terms of 5-95% ranges.\n",
    "unc_ranges = np.array([\n",
    "    0.12,      # CO2\n",
    "    0.20,      # CH4: updated value from etminan 2016\n",
    "    0.14,      # N2O\n",
    "    0.19,      # other WMGHGs\n",
    "    0.50,      # Total ozone\n",
    "    1.00,      # stratospheric WV from CH4\n",
    "    0.70,      # contrails approx - half-normal\n",
    "    1.25,      # bc on snow - half-normal\n",
    "    0.50,      # land use change\n",
    "    5.0/20.0,  # volcanic\n",
    "    0.50,      # solar (amplitude)\n",
    "])/NINETY_TO_ONESIGMA\n",
    "\n",
    "NORMALS = len(unc_ranges)\n",
    "\n",
    "scale_normals = st.norm.rvs(\n",
    "    size=(SAMPLES,NORMALS),\n",
    "    loc=np.ones((SAMPLES,NORMALS)),\n",
    "    scale=np.ones((SAMPLES, NORMALS)) * unc_ranges[None,:],\n",
    "    random_state=SEEDS[4]\n",
    ")\n",
    "\n",
    "## bc snow is asymmetric Gaussian. We can just scale the half of the distribution above/below best estimate\n",
    "scale_normals[scale_normals[:,7]<1,7] = 0.06/0.1*(scale_normals[scale_normals[:,7]<1,7]-1) + 1\n",
    "\n",
    "## so is contrails - the benefits of doing this are tiny :)\n",
    "scale_normals[scale_normals[:,6]<1,6] = 0.0384/0.0406*(scale_normals[scale_normals[:,6]<1,6]-1) + 1\n",
    "\n",
    "trend_solar = st.norm.rvs(size=SAMPLES, loc=+0.01, scale=0.07/NINETY_TO_ONESIGMA, random_state=SEEDS[50])\n",
    "\n",
    "np.save('../data_input_large/fair-samples/scale_normals.npy', scale_normals)\n",
    "np.save('../data_input_large/fair-samples/scale_trend_solar.npy', trend_solar)"
   ]
  },
  {
   "cell_type": "markdown",
   "metadata": {},
   "source": [
    "### Aerosol emissions\n",
    "\n",
    "check against #010, #040, #050"
   ]
  },
  {
   "cell_type": "code",
   "execution_count": 51,
   "metadata": {},
   "outputs": [],
   "source": [
    "with open('../data_input/tunings/cmip6_aerosol_coefficients.json') as json_file:\n",
    "    cmip6_aerosol_data = json.load(json_file)"
   ]
  },
  {
   "cell_type": "code",
   "execution_count": 99,
   "metadata": {},
   "outputs": [],
   "source": [
    "cmip6_aci = np.zeros((11, 2))\n",
    "for i, model in enumerate(['CanESM5', 'E3SM', 'GFDL-ESM4', 'GFDL-CM4', 'GISS-E2-1-G', 'HadGEM3-GC31-LL', 'IPSL-CM6A-LR', 'MIROC6', 'MRI-ESM2-0', 'NorESM2-LM', 'UKESM1-0-LL']):\n",
    "    for j, species in enumerate(['n0','n1']):\n",
    "        cmip6_aci[i,j] = np.log(cmip6_aerosol_data[model]['ERFaci'][species])\n",
    "kde = st.gaussian_kde(cmip6_aci.T)\n",
    "aci_coeffs=np.exp(kde.resample(size=int(SAMPLES), seed=SEEDS[8]).T)\n",
    "\n",
    "np.save('../data_input_large/fair-samples/aci_coeffs.npy', aci_coeffs)"
   ]
  },
  {
   "cell_type": "code",
   "execution_count": 53,
   "metadata": {},
   "outputs": [],
   "source": [
    "# target ranges for aerosols:\n",
    "# total ERFari -0.6 -0.3 -0.0\n",
    "## BC 0.05 0.4 0.8 then subtract -0.1 for RA so -0.05 0.3 0.7\n",
    "## SO2 -0.6 -0.4 -0.2\n",
    "## OC -0.16 -0.09 -0.03\n",
    "## Nitrate -0.3 -0.11 -0.03\n",
    "bc_20101750 = st.norm.rvs(loc=0.3, scale=0.2/NINETY_TO_ONESIGMA, size=SAMPLES, random_state=SEEDS[95])\n",
    "oc_20101750 = st.norm.rvs(loc=-0.09, scale=0.07/NINETY_TO_ONESIGMA, size=SAMPLES, random_state=SEEDS[96])\n",
    "so2_20101750 = st.norm.rvs(loc=-0.4, scale=0.2/NINETY_TO_ONESIGMA, size=SAMPLES, random_state=SEEDS[97])\n",
    "nit_20101750 = st.norm.rvs(loc=-0.11, scale=0.05/NINETY_TO_ONESIGMA, size=SAMPLES, random_state=SEEDS[98])"
   ]
  },
  {
   "cell_type": "code",
   "execution_count": 54,
   "metadata": {},
   "outputs": [
    {
     "data": {
      "text/plain": [
       "array([-0.59508118, -0.29988114, -0.00482923])"
      ]
     },
     "execution_count": 54,
     "metadata": {},
     "output_type": "execute_result"
    },
    {
     "data": {
      "image/png": "[encoded data removed]",
      "text/plain": [
       "<Figure size 432x288 with 1 Axes>"
      ]
     },
     "metadata": {
      "needs_background": "light"
     },
     "output_type": "display_data"
    }
   ],
   "source": [
    "pl.hist(bc_20101750+oc_20101750+so2_20101750+nit_20101750)\n",
    "np.percentile(bc_20101750+oc_20101750+so2_20101750+nit_20101750, (5,50,95))"
   ]
  },
  {
   "cell_type": "code",
   "execution_count": 55,
   "metadata": {},
   "outputs": [],
   "source": [
    "# Get SSP historical emissions\n",
    "ssp_df = pd.read_csv('../data_input_large/rcmip-emissions-annual-means-v5-1-0.csv')\n",
    "species = [\n",
    "    'Emissions|Sulfur',\n",
    "    'Emissions|BC',\n",
    "    'Emissions|OC',\n",
    "    'Emissions|NH3',\n",
    "    'Emissions|NOx'\n",
    "]\n",
    "\n",
    "unit_convert = np.ones(5)\n",
    "unit_convert[0] = 32/64 # follow zeb exactly, but would be better to use fair.constants.molwt\n",
    "unit_convert[4] = 14/46\n",
    "\n",
    "emissions_out = np.zeros((351,5))\n",
    "\n",
    "years_future = [2015] + list(range(2020,2101,10))\n",
    "for i, specie in enumerate(species):\n",
    "    emissions_out[:265,i] = ssp_df.loc[\n",
    "        (ssp_df['Model']=='MESSAGE-GLOBIOM')&\n",
    "        (ssp_df['Region']=='World')&\n",
    "        (ssp_df['Scenario']=='ssp245')&\n",
    "        (ssp_df['Variable']==specie),\n",
    "        '1750':'2014']*unit_convert[i]\n",
    "    f = interp1d(years_future, ssp_df.loc[\n",
    "        (ssp_df['Model']=='MESSAGE-GLOBIOM')&\n",
    "        (ssp_df['Region']=='World')&\n",
    "        (ssp_df['Scenario']=='ssp245')&\n",
    "        (ssp_df['Variable']==specie),'2015':'2100'\n",
    "    ].dropna(axis=1))\n",
    "    emissions_out[265:, i] = f(np.arange(2015, 2101))*unit_convert[i]"
   ]
  },
  {
   "cell_type": "code",
   "execution_count": 56,
   "metadata": {},
   "outputs": [],
   "source": [
    "beta_bc = bc_20101750/(np.mean(emissions_out[255:265,1])-emissions_out[0,1])\n",
    "beta_oc = oc_20101750/(np.mean(emissions_out[255:265,2])-emissions_out[0,2])\n",
    "beta_so2 = so2_20101750/(np.mean(emissions_out[255:265,0])-emissions_out[0,0])\n",
    "beta_nh3 = nit_20101750/(np.mean(emissions_out[255:265,3])-emissions_out[0,3])"
   ]
  },
  {
   "cell_type": "markdown",
   "metadata": {},
   "source": [
    "### Testing and scaling aerosol emissions"
   ]
  },
  {
   "cell_type": "code",
   "execution_count": 57,
   "metadata": {},
   "outputs": [],
   "source": [
    "ERFari = np.zeros((351, SAMPLES))\n",
    "for i in range(SAMPLES):\n",
    "    ERFari[:, i] = (\n",
    "        (emissions_out[:,0]-emissions_out[0,0]) * beta_so2[i] +\n",
    "        (emissions_out[:,1]-emissions_out[0,1]) * beta_bc[i] +\n",
    "        (emissions_out[:,2]-emissions_out[0,2]) * beta_oc[i] +\n",
    "        (emissions_out[:,3]-emissions_out[0,3]) * beta_nh3[i] \n",
    "        #        (emissions_out[:,4]-emissions_out[0,4]) * beta_nox[i]\n",
    "    )"
   ]
  },
  {
   "cell_type": "code",
   "execution_count": 66,
   "metadata": {},
   "outputs": [],
   "source": [
    "np.save('../data_input_large/fair-samples/beta_so2_unconstrained.npy', beta_so2)\n",
    "np.save('../data_input_large/fair-samples/beta_bc_unconstrained.npy', beta_bc)\n",
    "np.save('../data_input_large/fair-samples/beta_oc_unconstrained.npy', beta_oc)\n",
    "np.save('../data_input_large/fair-samples/beta_nh3_unconstrained.npy', beta_nh3)"
   ]
  },
  {
   "cell_type": "code",
   "execution_count": 59,
   "metadata": {},
   "outputs": [],
   "source": [
    "ERFaci_scale = st.norm.rvs(size=SAMPLES, loc=-1.0, scale=0.7/NINETY_TO_ONESIGMA, random_state=SEEDS[9])\n",
    "# option here: use Smith et al 2020 ACP correlations in models and sample as joint normal. They are strongly anti-correlated."
   ]
  },
  {
   "cell_type": "code",
   "execution_count": 60,
   "metadata": {},
   "outputs": [
    {
     "name": "stdout",
     "output_type": "stream",
     "text": [
      "[-1.69913916 -1.42248834 -1.00051153 -0.57760861 -0.30205032]\n"
     ]
    }
   ],
   "source": [
    "#print(np.percentile(ERFari_scale, (5,16,50,84,95)))\n",
    "print(np.percentile(ERFaci_scale, (5,16,50,84,95)))\n",
    "#print(np.percentile(ERFari_scale+ERFaci_scale, (5,16,50,84,95)))"
   ]
  },
  {
   "cell_type": "code",
   "execution_count": 65,
   "metadata": {},
   "outputs": [
    {
     "data": {
      "application/vnd.jupyter.widget-view+json": {
       "model_id": "c0212c06746b4f108de6ec956971d729",
       "version_major": 2,
       "version_minor": 0
      },
      "text/plain": [
       "HBox(children=(HTML(value=''), FloatProgress(value=0.0, max=1000000.0), HTML(value='')))"
      ]
     },
     "metadata": {},
     "output_type": "display_data"
    },
    {
     "name": "stdout",
     "output_type": "stream",
     "text": [
      "\n"
     ]
    }
   ],
   "source": [
    "#ERFari = np.zeros((270, SAMPLES))\n",
    "ERFaci = np.zeros((351, SAMPLES))\n",
    "beta   = np.zeros(SAMPLES)\n",
    "\n",
    "for i in tqdm(range(SAMPLES)):\n",
    "    forcing2010 = np.mean(\n",
    "        ghan([\n",
    "            emissions_out[255:265,0], emissions_out[255:265,1]+emissions_out[255:265,2]\n",
    "        ], 0.97, aci_coeffs[i,0], aci_coeffs[i,1])\n",
    "    )\n",
    "    forcing1750 = ghan([emissions_out[0,0], emissions_out[0,1]+emissions_out[0,2]], 0.97, aci_coeffs[i,0], aci_coeffs[i,1])\n",
    "    ERFaci[:,i] = (ghan([emissions_out[:,0], emissions_out[:,1]+emissions_out[:,2]], 0.97, aci_coeffs[i,0], aci_coeffs[i,1]) - forcing1750)/(forcing2010-forcing1750)*(ERFaci_scale[i])\n",
    "    beta[i] = ERFaci_scale[i]/(forcing2010-forcing1750)\n",
    "np.save('../data_input_large/fair-samples/beta_unconstrained.npy', beta)"
   ]
  },
  {
   "cell_type": "code",
   "execution_count": 64,
   "metadata": {},
   "outputs": [
    {
     "data": {
      "text/plain": [
       "array([-2.05711085, -1.75399445, -1.29033147, -0.82696466, -0.52477934])"
      ]
     },
     "execution_count": 64,
     "metadata": {},
     "output_type": "execute_result"
    }
   ],
   "source": [
    "np.percentile(ERFari[260,:]+ERFaci[260,:], (5,16,50,84,95))"
   ]
  },
  {
   "cell_type": "markdown",
   "metadata": {},
   "source": [
    "## Carbon cycle parameters\n",
    "\n",
    "Uniform distributions from Leach et al 2020 https://gmd.copernicus.org/preprints/gmd-2020-390/, using full range of CMIP6 tunings.\n",
    "\n",
    "Pre-industrial CO2 concentration uncertainty is from Jinho Ahn, chapter 2 AR6 WG1. SHOULD WE USE AR6 VALUE WHICH IS SLIGHTLY DIFFERENT?"
   ]
  },
  {
   "cell_type": "code",
   "execution_count": 68,
   "metadata": {},
   "outputs": [],
   "source": [
    "r0 = st.uniform.rvs(loc=27.7, scale=41.3-27.7, random_state=SEEDS[10], size=SAMPLES)\n",
    "rC = st.uniform.rvs(loc=-0.00712, scale=0.0482+0.00712, random_state=SEEDS[11], size=SAMPLES)\n",
    "rT = st.uniform.rvs(loc=-0.0847, scale=4.52+0.0847, random_state=SEEDS[12], size=SAMPLES)\n",
    "pre_ind_co2 = st.norm.rvs(loc=277.147, scale=2.9, random_state=SEEDS[13], size=SAMPLES)\n",
    "\n",
    "np.save('../data_input_large/fair-samples/r0_unconstrained.npy', r0)\n",
    "np.save('../data_input_large/fair-samples/rC_unconstrained.npy', rC)\n",
    "np.save('../data_input_large/fair-samples/rT_unconstrained.npy', rT)\n",
    "np.save('../data_input_large/fair-samples/pre_ind_co2_unconstrained.npy', pre_ind_co2)"
   ]
  },
  {
   "cell_type": "markdown",
   "metadata": {},
   "source": [
    "# I now think we have everything we need to run FaIR with\n",
    "\n",
    "Before tackling the AR6-WG3 format, let's see how they look before we let this loose on the world."
   ]
  },
  {
   "cell_type": "code",
   "execution_count": 69,
   "metadata": {},
   "outputs": [],
   "source": [
    "#ssp_df = pd.read_csv(os.path.join(os.path.dirname(fair.__file__), 'SSPs/data/rcmip-emissions-annual-means-4-0-0-ssp-only.csv'))\n",
    "ssp_df = pd.read_csv('../data_input_large/rcmip-emissions-annual-means-v5-1-0.csv')"
   ]
  },
  {
   "cell_type": "code",
   "execution_count": 70,
   "metadata": {},
   "outputs": [],
   "source": [
    "years = np.arange(1750,2101)\n",
    "startyear = 1750\n",
    "first_scenyear = 2015\n",
    "last_scenyear = 2100\n",
    "first_row = int(first_scenyear-startyear)\n",
    "last_row = int(last_scenyear-startyear)\n",
    "\n",
    "species = [  # in fair 1.6, order is important\n",
    "    '|CO2|MAGICC Fossil and Industrial',\n",
    "    '|CO2|MAGICC AFOLU',\n",
    "    '|CH4',\n",
    "    '|N2O',\n",
    "    '|Sulfur',\n",
    "    '|CO',\n",
    "    '|VOC',\n",
    "    '|NOx',\n",
    "    '|BC',\n",
    "    '|OC',\n",
    "    '|NH3',\n",
    "    '|CF4',\n",
    "    '|C2F6',\n",
    "    '|C6F14',\n",
    "    '|HFC23',\n",
    "    '|HFC32',\n",
    "    '|HFC4310mee',\n",
    "    '|HFC125',\n",
    "    '|HFC134a',\n",
    "    '|HFC143a',\n",
    "    '|HFC227ea',\n",
    "    '|HFC245fa',\n",
    "    '|SF6',\n",
    "    '|CFC11',\n",
    "    '|CFC12',\n",
    "    '|CFC113',\n",
    "    '|CFC114',\n",
    "    '|CFC115',\n",
    "    '|CCl4',\n",
    "    '|CH3CCl3',\n",
    "    '|HCFC22',\n",
    "    '|HCFC141b',\n",
    "    '|HCFC142b',\n",
    "    '|Halon1211',\n",
    "    '|Halon1202',\n",
    "    '|Halon1301',\n",
    "    '|Halon2402',\n",
    "    '|CH3Br',\n",
    "    '|CH3Cl',\n",
    "]\n",
    "\n",
    "# Assume that units coming out of aneris don't change. One day I'll do unit parsing\n",
    "unit_convert = np.ones(40)\n",
    "unit_convert[1] = 12/44/1000\n",
    "unit_convert[2] = 12/44/1000\n",
    "unit_convert[4] = 28/44/1000\n",
    "unit_convert[5] = 32/64\n",
    "unit_convert[8] = 14/46\n",
    "\n",
    "data_out = {}\n",
    "\n",
    "scens = ['ssp245']\n",
    "for scen in scens:\n",
    "    data_out[scen] = np.ones((351, 40)) * np.nan\n",
    "    data_out[scen][:,0] = years\n",
    "\n",
    "    years_future = [2015] + list(range(2020,2101,10))\n",
    "    for i, specie in enumerate(species):\n",
    "        data_out[scen][:first_row,i+1] = ssp_df.loc[(ssp_df['Model']=='MESSAGE-GLOBIOM')&(ssp_df['Region']=='World')&(ssp_df['Scenario']==scen)&(ssp_df['Variable'].str.endswith(specie)),str(startyear):'2014']*unit_convert[i+1]\n",
    "        f = interp1d(years_future, ssp_df.loc[(ssp_df['Model']=='MESSAGE-GLOBIOM')&(ssp_df['Region']=='World')&(ssp_df['Scenario']==scen)&(ssp_df['Variable'].str.endswith(specie)),'2015':'2100'].dropna(axis=1))\n",
    "        data_out[scen][first_row:(last_row+1), i+1] = f(np.arange(first_scenyear, last_scenyear+1))*unit_convert[i+1]"
   ]
  },
  {
   "cell_type": "code",
   "execution_count": 71,
   "metadata": {},
   "outputs": [
    {
     "data": {
      "text/plain": [
       "(351, 40)"
      ]
     },
     "execution_count": 71,
     "metadata": {},
     "output_type": "execute_result"
    }
   ],
   "source": [
    "data_out['ssp245'].shape"
   ]
  },
  {
   "cell_type": "code",
   "execution_count": 72,
   "metadata": {},
   "outputs": [
    {
     "data": {
      "text/plain": [
       "array([2.00000000e+03, 6.88899310e+00, 1.20061057e+00, 3.10186810e+02,\n",
       "       6.11111906e+00, 5.55743021e+01, 8.86564730e+02, 1.95324158e+02,\n",
       "       4.12492764e+01, 7.45734723e+00, 2.79819784e+01, 5.45095965e+01,\n",
       "       9.92314570e+00, 2.81539430e+00, 8.27090430e-01, 9.29783890e+00,\n",
       "       1.41149200e+00, 5.74232780e-01, 1.06406670e+01, 9.96574240e+01,\n",
       "       8.59875630e+00, 8.63199880e-01, 3.40069260e-02, 5.27353320e+00,\n",
       "       7.63300760e+01, 1.22766050e+02, 9.40438840e+00, 3.98671420e+00,\n",
       "       2.34765180e+00, 7.26514080e+01, 1.94712270e+01, 2.63606270e+02,\n",
       "       5.63416860e+01, 2.57301520e+01, 9.48013480e+00, 0.00000000e+00,\n",
       "       1.96944120e+00, 7.71519220e-01, 1.65258760e+02, 5.07426960e+03])"
      ]
     },
     "execution_count": 72,
     "metadata": {},
     "output_type": "execute_result"
    }
   ],
   "source": [
    "data_out['ssp245'][250,:]"
   ]
  },
  {
   "cell_type": "code",
   "execution_count": 73,
   "metadata": {},
   "outputs": [],
   "source": [
    "# add in natural emissions and natural forcing\n",
    "ch4_n2o_df = pd.read_csv('../data_output/fair_wg3_natural_ch4_n2o.csv')\n",
    "ch4_n2o = ch4_n2o_df.values[:351,1:]\n",
    "\n",
    "df = pd.read_csv('../data_output/solar_erf.csv', index_col='year')\n",
    "solar_forcing = df.solar_erf.loc[1750:2100].values\n",
    "\n",
    "df = pd.read_csv('../data_output/volcanic_erf.csv', index_col='year')\n",
    "volcanic_forcing = np.zeros((351))\n",
    "volcanic_forcing[:269] = df.volcanic_erf.loc[1750:2018].values\n",
    "# ramp down last 10 years to zero according to https://www.geosci-model-dev.net/9/3461/2016/gmd-9-3461-2016.html\n",
    "volcanic_forcing[268:279] = volcanic_forcing[268] * np.linspace(1,0,11)\n",
    "volcanic_forcing[279:] = 0."
   ]
  },
  {
   "cell_type": "code",
   "execution_count": 74,
   "metadata": {},
   "outputs": [
    {
     "data": {
      "text/plain": [
       "(1000000,)"
      ]
     },
     "execution_count": 74,
     "metadata": {},
     "output_type": "execute_result"
    }
   ],
   "source": [
    "trend_solar.shape"
   ]
  },
  {
   "cell_type": "code",
   "execution_count": 75,
   "metadata": {},
   "outputs": [
    {
     "data": {
      "image/png": "[encoded data removed]",
      "text/plain": [
       "<Figure size 432x288 with 1 Axes>"
      ]
     },
     "metadata": {
      "needs_background": "light"
     },
     "output_type": "display_data"
    }
   ],
   "source": [
    "for i in range(100):\n",
    "    F_solar = np.zeros(351)\n",
    "    F_solar[:270] = np.linspace(0,trend_solar[i],270) + solar_forcing[:270]*scale_normals[i,10]\n",
    "    F_solar[270:351] = trend_solar[i] + solar_forcing[270:351]*scale_normals[i,10]\n",
    "    pl.plot(F_solar)"
   ]
  },
  {
   "cell_type": "code",
   "execution_count": 81,
   "metadata": {},
   "outputs": [
    {
     "data": {
      "text/html": [
       "<div>\n",
       "<style scoped>\n",
       "    .dataframe tbody tr th:only-of-type {\n",
       "        vertical-align: middle;\n",
       "    }\n",
       "\n",
       "    .dataframe tbody tr th {\n",
       "        vertical-align: top;\n",
       "    }\n",
       "\n",
       "    .dataframe thead th {\n",
       "        text-align: right;\n",
       "    }\n",
       "</style>\n",
       "<table border=\"1\" class=\"dataframe\">\n",
       "  <thead>\n",
       "    <tr style=\"text-align: right;\">\n",
       "      <th></th>\n",
       "      <th>mean</th>\n",
       "      <th>u90</th>\n",
       "    </tr>\n",
       "    <tr>\n",
       "      <th>species</th>\n",
       "      <th></th>\n",
       "      <th></th>\n",
       "    </tr>\n",
       "  </thead>\n",
       "  <tbody>\n",
       "    <tr>\n",
       "      <th>CH4</th>\n",
       "      <td>2.333797e-04</td>\n",
       "      <td>0.000062</td>\n",
       "    </tr>\n",
       "    <tr>\n",
       "      <th>N2O</th>\n",
       "      <td>1.271791e-03</td>\n",
       "      <td>0.000471</td>\n",
       "    </tr>\n",
       "    <tr>\n",
       "      <th>ODS</th>\n",
       "      <td>-6.693478e-05</td>\n",
       "      <td>-0.000113</td>\n",
       "    </tr>\n",
       "    <tr>\n",
       "      <th>CO</th>\n",
       "      <td>1.146477e-04</td>\n",
       "      <td>0.000131</td>\n",
       "    </tr>\n",
       "    <tr>\n",
       "      <th>NMVOC</th>\n",
       "      <td>5.143661e-12</td>\n",
       "      <td>0.000328</td>\n",
       "    </tr>\n",
       "    <tr>\n",
       "      <th>NO2</th>\n",
       "      <td>1.151513e-03</td>\n",
       "      <td>0.000983</td>\n",
       "    </tr>\n",
       "  </tbody>\n",
       "</table>\n",
       "</div>"
      ],
      "text/plain": [
       "                 mean       u90\n",
       "species                        \n",
       "CH4      2.333797e-04  0.000062\n",
       "N2O      1.271791e-03  0.000471\n",
       "ODS     -6.693478e-05 -0.000113\n",
       "CO       1.146477e-04  0.000131\n",
       "NMVOC    5.143661e-12  0.000328\n",
       "NO2      1.151513e-03  0.000983"
      ]
     },
     "execution_count": 81,
     "metadata": {},
     "output_type": "execute_result"
    }
   ],
   "source": [
    "o3_df = pd.read_csv('../data_input/tunings/cmip6_ozone_skeie_fits.csv', index_col=0)\n",
    "o3_df#.loc['NMVOC','mean']"
   ]
  },
  {
   "cell_type": "code",
   "execution_count": 83,
   "metadata": {},
   "outputs": [],
   "source": [
    "ozone_feedback = st.norm.rvs(loc=-0.037, scale=0.012, size=SAMPLES, random_state=SEEDS[51])\n",
    "# these coefficients are AerChemMIP - don't delete for now\n",
    "#beta_ch4 = st.norm.rvs(loc=0.00017380181731885394, scale=6.207207761387641e-05/NINETY_TO_ONESIGMA, size=SAMPLES, random_state=SEEDS[52])\n",
    "#beta_n2o = st.norm.rvs(loc=0.0007061379618263551, scale=0.0004707586412175701/NINETY_TO_ONESIGMA, size=SAMPLES, random_state=SEEDS[53])\n",
    "#beta_ods = st.norm.rvs(loc=-0.00012432206866394785, scale=0.00011302006242177078/NINETY_TO_ONESIGMA, size=SAMPLES, random_state=SEEDS[54])\n",
    "#beta_co = st.norm.rvs(loc=0.00015401820093350843, scale=0.00013103040974940267/NINETY_TO_ONESIGMA, size=SAMPLES, random_state=SEEDS[55])\n",
    "#beta_voc = st.norm.rvs(loc=0.00032758074092083077, scale=0.00032758074092083077/NINETY_TO_ONESIGMA, size=SAMPLES, random_state=SEEDS[56])\n",
    "#beta_nox = st.norm.rvs(loc=46/14*0.0017868021851642044, scale=46/14*0.0009827412018403123/NINETY_TO_ONESIGMA, size=SAMPLES, random_state=SEEDS[57])\n",
    "\n",
    "# these coefficients are Skeie fits\n",
    "beta_ch4 = st.norm.rvs(loc=o3_df.loc['CH4','mean'], scale=o3_df.loc['CH4','u90']/NINETY_TO_ONESIGMA, size=SAMPLES, random_state=SEEDS[52])\n",
    "beta_n2o = st.norm.rvs(loc=o3_df.loc['N2O','mean'], scale=o3_df.loc['N2O','u90']/NINETY_TO_ONESIGMA, size=SAMPLES, random_state=SEEDS[53])\n",
    "beta_ods = st.norm.rvs(loc=o3_df.loc['ODS','mean'], scale=-o3_df.loc['ODS','u90']/NINETY_TO_ONESIGMA, size=SAMPLES, random_state=SEEDS[54])\n",
    "beta_co = st.norm.rvs(loc=o3_df.loc['CO','mean'], scale=o3_df.loc['CO','u90']/NINETY_TO_ONESIGMA, size=SAMPLES, random_state=SEEDS[55])\n",
    "beta_voc = st.norm.rvs(loc=o3_df.loc['NMVOC','mean'], scale=o3_df.loc['NMVOC','u90']/NINETY_TO_ONESIGMA, size=SAMPLES, random_state=SEEDS[56])\n",
    "beta_nox = st.norm.rvs(loc=46/14*o3_df.loc['NO2','mean'], scale=46/14*o3_df.loc['NO2','u90']/NINETY_TO_ONESIGMA, size=SAMPLES, random_state=SEEDS[57])\n",
    "    \n",
    "np.save('../data_input_large/fair-samples/ozone_feedback_unconstrained.npy', ozone_feedback)\n",
    "np.save('../data_input_large/fair-samples/beta_ch4_unconstrained.npy', beta_ch4)\n",
    "np.save('../data_input_large/fair-samples/beta_n2o_unconstrained.npy', beta_n2o)\n",
    "np.save('../data_input_large/fair-samples/beta_ods_unconstrained.npy', beta_ods)\n",
    "np.save('../data_input_large/fair-samples/beta_co_unconstrained.npy', beta_co)\n",
    "np.save('../data_input_large/fair-samples/beta_voc_unconstrained.npy', beta_voc)\n",
    "np.save('../data_input_large/fair-samples/beta_nox_unconstrained.npy', beta_nox)"
   ]
  }
 ],
 "metadata": {
  "kernelspec": {
   "display_name": "Python 3",
   "language": "python",
   "name": "python3"
  },
  "language_info": {
   "codemirror_mode": {
    "name": "ipython",
    "version": 3
   },
   "file_extension": ".py",
   "mimetype": "text/x-python",
   "name": "python",
   "nbconvert_exporter": "python",
   "pygments_lexer": "ipython3",
   "version": "3.7.9"
  }
 },
 "nbformat": 4,
 "nbformat_minor": 4
}
