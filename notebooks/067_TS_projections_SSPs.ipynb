{
 "cells": [
  {
   "cell_type": "markdown",
   "metadata": {},
   "source": [
    "# Ensemble selection for historical temperature attribution\n",
    "\n",
    "- take SSP forcing derived in 050\n",
    "- derive ensemble using constrained-correlated parameter setups (ensure same seeds are used as FaIR scenarios in 056 and 057)\n",
    "- extend to SSPs 119 126 245 370 585\n",
    "- remove CO2, other GHGs, other ANT one at a time"
   ]
  },
  {
   "cell_type": "code",
   "execution_count": 18,
   "metadata": {},
   "outputs": [],
   "source": [
    "import json\n",
    "import numpy as np\n",
    "from fair.constants import molwt\n",
    "from fair.forcing.ghg import etminan, meinshausen\n",
    "from scipy.interpolate import interp1d\n",
    "from scipy.optimize import curve_fit\n",
    "import scipy.stats as st\n",
    "import random\n",
    "import pandas as pd\n",
    "from tqdm.notebook import tqdm\n",
    "import random\n",
    "import os\n",
    "\n",
    "from ar6.utils import check_and_download, mkdir_p\n",
    "from ar6.utils.statistics import weighted_percentile\n",
    "from ar6.utils.h5 import *\n",
    "from ar6.constants.gases import ghg_to_rcmip_names\n",
    "from ar6.forcing.aerosol import ghan, aerocom_n\n",
    "from ar6.forcing.ozone import eesc\n",
    "from ar6.constants.gases import rcmip_to_ghg_names, ghg_to_rcmip_names, ods_species, radeff\n",
    "from multiprocessing import Pool\n",
    "\n",
    "from ar6.twolayermodel import TwoLayerModel\n",
    "\n",
    "import matplotlib.pyplot as pl\n",
    "import json"
   ]
  },
  {
   "cell_type": "markdown",
   "metadata": {},
   "source": [
    "## Ensemble generation\n",
    "\n",
    "We want to ensure reproducible results that don't change when this script is re-run. Grab list of pre-generated random seeds."
   ]
  },
  {
   "cell_type": "code",
   "execution_count": 2,
   "metadata": {},
   "outputs": [],
   "source": [
    "with open('../data_input/random_seeds.json', 'r') as filehandle:\n",
    "    SEEDS = json.load(filehandle)"
   ]
  },
  {
   "cell_type": "code",
   "execution_count": 3,
   "metadata": {},
   "outputs": [],
   "source": [
    "NINETY_TO_ONESIGMA = st.norm.ppf(0.95)"
   ]
  },
  {
   "cell_type": "code",
   "execution_count": 4,
   "metadata": {},
   "outputs": [],
   "source": [
    "forcing = {}\n",
    "scenarios = ['ssp119','ssp126','ssp245','ssp370','ssp370-lowNTCF-aerchemmip','ssp370-lowNTCF-gidden','ssp434','ssp460','ssp534-over','ssp585']\n",
    "for scenario in scenarios:\n",
    "    forcing[scenario] = {}"
   ]
  },
  {
   "cell_type": "code",
   "execution_count": 5,
   "metadata": {},
   "outputs": [
    {
     "data": {
      "application/vnd.jupyter.widget-view+json": {
       "model_id": "96cd47058f744eecabc336f56ba8c5bd",
       "version_major": 2,
       "version_minor": 0
      },
      "text/plain": [
       "  0%|          | 0/10 [00:00<?, ?it/s]"
      ]
     },
     "metadata": {},
     "output_type": "display_data"
    }
   ],
   "source": [
    "emissions = pd.read_csv('../data_input_large/rcmip-emissions-annual-means-v5-1-0.csv')\n",
    "df_emissions = pd.concat([emissions.loc[(\n",
    "        (emissions.Variable=='Emissions|BC')|\n",
    "        (emissions.Variable=='Emissions|OC')|\n",
    "        (emissions.Variable=='Emissions|Sulfur')|\n",
    "        (emissions.Variable=='Emissions|NOx')|\n",
    "        (emissions.Variable=='Emissions|NH3')|\n",
    "        (emissions.Variable=='Emissions|VOC')|\n",
    "        (emissions.Variable=='Emissions|CO')\n",
    "    ) & (emissions.Scenario=='ssp245') & (emissions.Region=='World'), 'Variable'], emissions.loc[(\n",
    "        (emissions.Variable=='Emissions|BC')|\n",
    "        (emissions.Variable=='Emissions|OC')|\n",
    "        (emissions.Variable=='Emissions|Sulfur')|\n",
    "        (emissions.Variable=='Emissions|NOx')|\n",
    "        (emissions.Variable=='Emissions|NH3')|\n",
    "        (emissions.Variable=='Emissions|VOC')|\n",
    "        (emissions.Variable=='Emissions|CO')\n",
    "    ) & (emissions.Scenario=='ssp245') & (emissions.Region=='World'), '1750':'2100']], axis=1)#.interpolate(axis=1).T\n",
    "df_emissions.set_index('Variable', inplace=True)\n",
    "df_emissions = df_emissions.interpolate(axis=1).T\n",
    "df_emissions.rename(\n",
    "    columns={\n",
    "        'Emissions|BC': 'BC',\n",
    "        'Emissions|OC': 'OC',\n",
    "        'Emissions|Sulfur': 'SO2',\n",
    "        'Emissions|NOx': 'NOx',\n",
    "        'Emissions|NH3': 'NH3',\n",
    "        'Emissions|VOC': 'VOC',\n",
    "        'Emissions|CO': 'CO'\n",
    "    }, inplace=True\n",
    ")\n",
    "# only keep cols we want\n",
    "emissions = df_emissions[['SO2', 'BC', 'OC', 'NH3', 'NOx', 'VOC', 'CO']]\n",
    "emissions.index = emissions.index.astype('int')\n",
    "emissions.index.name='year'\n",
    "emissions.columns.name=None\n",
    "\n",
    "emissions_ceds_update = emissions.copy()\n",
    "\n",
    "emissions_old = pd.read_csv('../data_input_large/rcmip-emissions-annual-means-v5-1-0.csv')\n",
    "df_emissions = pd.concat([emissions_old.loc[(\n",
    "        (emissions_old.Variable=='Emissions|BC|MAGICC Fossil and Industrial')|\n",
    "        (emissions_old.Variable=='Emissions|OC|MAGICC Fossil and Industrial')|\n",
    "        (emissions_old.Variable=='Emissions|Sulfur|MAGICC Fossil and Industrial')|\n",
    "        (emissions_old.Variable=='Emissions|NOx|MAGICC Fossil and Industrial')|\n",
    "        (emissions_old.Variable=='Emissions|NH3|MAGICC Fossil and Industrial')|\n",
    "        (emissions_old.Variable=='Emissions|VOC|MAGICC Fossil and Industrial')|\n",
    "        (emissions_old.Variable=='Emissions|CO|MAGICC Fossil and Industrial')|\n",
    "        (emissions_old.Variable=='Emissions|BC|MAGICC AFOLU|Agriculture')|\n",
    "        (emissions_old.Variable=='Emissions|OC|MAGICC AFOLU|Agriculture')|\n",
    "        (emissions_old.Variable=='Emissions|Sulfur|MAGICC AFOLU|Agriculture')|\n",
    "        (emissions_old.Variable=='Emissions|NOx|MAGICC AFOLU|Agriculture')|\n",
    "        (emissions_old.Variable=='Emissions|NH3|MAGICC AFOLU|Agriculture')|\n",
    "        (emissions_old.Variable=='Emissions|VOC|MAGICC AFOLU|Agriculture')|\n",
    "        (emissions_old.Variable=='Emissions|CO|MAGICC AFOLU|Agriculture')\n",
    "    ) & (emissions_old.Scenario=='ssp245') & (emissions_old.Region=='World'), 'Variable'], emissions_old.loc[(\n",
    "        (emissions_old.Variable=='Emissions|BC|MAGICC Fossil and Industrial')|\n",
    "        (emissions_old.Variable=='Emissions|OC|MAGICC Fossil and Industrial')|\n",
    "        (emissions_old.Variable=='Emissions|Sulfur|MAGICC Fossil and Industrial')|\n",
    "        (emissions_old.Variable=='Emissions|NOx|MAGICC Fossil and Industrial')|\n",
    "        (emissions_old.Variable=='Emissions|NH3|MAGICC Fossil and Industrial')|\n",
    "        (emissions_old.Variable=='Emissions|VOC|MAGICC Fossil and Industrial')|\n",
    "        (emissions_old.Variable=='Emissions|CO|MAGICC Fossil and Industrial')|\n",
    "        (emissions_old.Variable=='Emissions|BC|MAGICC AFOLU|Agriculture')|\n",
    "        (emissions_old.Variable=='Emissions|OC|MAGICC AFOLU|Agriculture')|\n",
    "        (emissions_old.Variable=='Emissions|Sulfur|MAGICC AFOLU|Agriculture')|\n",
    "        (emissions_old.Variable=='Emissions|NOx|MAGICC AFOLU|Agriculture')|\n",
    "        (emissions_old.Variable=='Emissions|NH3|MAGICC AFOLU|Agriculture')|\n",
    "        (emissions_old.Variable=='Emissions|VOC|MAGICC AFOLU|Agriculture')|\n",
    "        (emissions_old.Variable=='Emissions|CO|MAGICC AFOLU|Agriculture')\n",
    "    ) & (emissions_old.Scenario=='ssp245') & (emissions_old.Region=='World'), '1750':'2100']], axis=1)#.interpolate(axis=1).T\n",
    "df_emissions.set_index('Variable', inplace=True)\n",
    "df_emissions = df_emissions.interpolate(axis=1).T\n",
    "for species in ['BC', 'OC', 'Sulfur', 'NOx', 'NH3', 'VOC', 'CO']:\n",
    "    df_emissions[species] = df_emissions['Emissions|{}|MAGICC Fossil and Industrial'.format(species)] + df_emissions['Emissions|{}|MAGICC AFOLU|Agriculture'.format(species)]\n",
    "df_emissions.rename(columns = {'Sulfur': 'SO2'}, inplace=True)\n",
    "df_emissions.drop(columns=[\n",
    "        'Emissions|BC|MAGICC Fossil and Industrial',\n",
    "        'Emissions|OC|MAGICC Fossil and Industrial',\n",
    "        'Emissions|Sulfur|MAGICC Fossil and Industrial',\n",
    "        'Emissions|NOx|MAGICC Fossil and Industrial',\n",
    "        'Emissions|NH3|MAGICC Fossil and Industrial',\n",
    "        'Emissions|VOC|MAGICC Fossil and Industrial',\n",
    "        'Emissions|CO|MAGICC Fossil and Industrial',\n",
    "        'Emissions|BC|MAGICC AFOLU|Agriculture',\n",
    "        'Emissions|OC|MAGICC AFOLU|Agriculture',\n",
    "        'Emissions|Sulfur|MAGICC AFOLU|Agriculture',\n",
    "        'Emissions|NOx|MAGICC AFOLU|Agriculture',\n",
    "        'Emissions|NH3|MAGICC AFOLU|Agriculture',\n",
    "        'Emissions|VOC|MAGICC AFOLU|Agriculture',\n",
    "        'Emissions|CO|MAGICC AFOLU|Agriculture',\n",
    "    ],\n",
    "    inplace=True\n",
    ")\n",
    "df_emissions.index = emissions.index.astype('int')\n",
    "df_emissions.index.name='year'\n",
    "df_emissions.columns.name=None\n",
    "\n",
    "global_total = {}\n",
    "for species in ['BC', 'OC', 'SO2', 'NH3', 'NOx', 'NMVOC', 'CO']:\n",
    "    df = pd.read_csv('../data_input_large/CEDS_v_2020_09_11_emissions/{}_global_CEDS_emissions_by_sector_2020_09_11.csv'.format(species))\n",
    "    global_total[species] = df.sum(axis=0).values[3:].astype(float) / 1000 # yes could get openscm on this\n",
    "    #unit = df.units[0]\n",
    "    #print(unit)\n",
    "global_total['VOC'] = global_total['NMVOC']\n",
    "new_ceds = pd.DataFrame(global_total)\n",
    "new_ceds.index = np.arange(1750,2020)\n",
    "new_ceds.index = new_ceds.index.astype('int')\n",
    "new_ceds.index.name='year'\n",
    "new_ceds.columns.name=None\n",
    "emissions_ceds_update = new_ceds.loc[1750:2020] + emissions - df_emissions\n",
    "emissions_ceds_update.drop(index=range(2020,2101), inplace=True)\n",
    "emissions_ceds_update\n",
    "#new_ceds\n",
    "\n",
    "emissions = pd.read_csv('../data_input_large/rcmip-emissions-annual-means-v5-1-0.csv')\n",
    "new_emissions = {}\n",
    "for scenario in tqdm(scenarios):\n",
    "    bc = emissions.loc[(emissions['Scenario']==scenario)&(emissions['Region']=='World')&(emissions['Variable']=='Emissions|BC'),'1750':'2500'].interpolate(axis=1, pad=True).values.squeeze()\n",
    "    oc = emissions.loc[(emissions['Scenario']==scenario)&(emissions['Region']=='World')&(emissions['Variable']=='Emissions|OC'),'1750':'2500'].interpolate(axis=1, pad=True).values.squeeze()\n",
    "    so2 = emissions.loc[(emissions['Scenario']==scenario)&(emissions['Region']=='World')&(emissions['Variable']=='Emissions|Sulfur'),'1750':'2500'].interpolate(axis=1, pad=True).values.squeeze()\n",
    "    nh3 = emissions.loc[(emissions['Scenario']==scenario)&(emissions['Region']=='World')&(emissions['Variable']=='Emissions|NH3'),'1750':'2500'].interpolate(axis=1, pad=True).values.squeeze()\n",
    "    nox = emissions.loc[(emissions['Scenario']==scenario)&(emissions['Region']=='World')&(emissions['Variable']=='Emissions|NOx'),'1750':'2500'].interpolate(axis=1, pad=True).values.squeeze()\n",
    "    nmvoc = emissions.loc[(emissions['Scenario']==scenario)&(emissions['Region']=='World')&(emissions['Variable']=='Emissions|VOC'),'1750':'2500'].interpolate(axis=1, pad=True).values.squeeze()\n",
    "    co = emissions.loc[(emissions['Scenario']==scenario)&(emissions['Region']=='World')&(emissions['Variable']=='Emissions|CO'),'1750':'2500'].interpolate(axis=1, pad=True).values.squeeze()\n",
    "    bc[:265] = emissions_ceds_update.loc[1750:2014,'BC'].values\n",
    "    oc[:265] = emissions_ceds_update.loc[1750:2014,'OC'].values\n",
    "    so2[:265] = emissions_ceds_update.loc[1750:2014,'SO2'].values\n",
    "    nh3[:265] = emissions_ceds_update.loc[1750:2014,'NH3'].values\n",
    "    nox[:265] = emissions_ceds_update.loc[1750:2014,'NOx'].values\n",
    "    nmvoc[:265] = emissions_ceds_update.loc[1750:2014,'VOC'].values\n",
    "    co[:265] = emissions_ceds_update.loc[1750:2014,'CO'].values\n",
    "    bc[265:270] = np.linspace(1,0.2,5) * emissions_ceds_update.loc[2015:2019,'BC'].values + np.linspace(0,0.8,5) * bc[265:270]\n",
    "    oc[265:270] = np.linspace(1,0.2,5) * emissions_ceds_update.loc[2015:2019,'OC'].values + np.linspace(0,0.8,5) * oc[265:270]\n",
    "    so2[265:270] = np.linspace(1,0.2,5) * emissions_ceds_update.loc[2015:2019,'SO2'].values + np.linspace(0,0.8,5) * so2[265:270]\n",
    "    nh3[265:270] = np.linspace(1,0.2,5) * emissions_ceds_update.loc[2015:2019,'NH3'].values + np.linspace(0,0.8,5) * nh3[265:270]\n",
    "    nox[265:270] = np.linspace(1,0.2,5) * emissions_ceds_update.loc[2015:2019,'NOx'].values + np.linspace(0,0.8,5) * nox[265:270]\n",
    "    nmvoc[265:270] = np.linspace(1,0.2,5) * emissions_ceds_update.loc[2015:2019,'VOC'].values + np.linspace(0,0.8,5) * nmvoc[265:270]\n",
    "    co[265:270] = np.linspace(1,0.2,5) * emissions_ceds_update.loc[2015:2019,'CO'].values + np.linspace(0,0.8,5) * co[265:270]\n",
    "    \n",
    "    new_emissions[scenario] = pd.DataFrame(\n",
    "    {\n",
    "        'BC': bc,\n",
    "        'OC': oc,\n",
    "        'SO2': so2,\n",
    "        'NH3': nh3,\n",
    "        'NOx': nox,\n",
    "        'VOC': nmvoc,\n",
    "        'CO': co\n",
    "    })"
   ]
  },
  {
   "cell_type": "markdown",
   "metadata": {},
   "source": [
    "## Climate model parameters"
   ]
  },
  {
   "cell_type": "markdown",
   "metadata": {},
   "source": [
    "### load unconstrained"
   ]
  },
  {
   "cell_type": "code",
   "execution_count": 6,
   "metadata": {},
   "outputs": [],
   "source": [
    "# ozone\n",
    "ozone_feedback = np.load('../data_input_large/fair-samples/ozone_feedback_unconstrained.npy')\n",
    "beta_ch4 = np.load('../data_input_large/fair-samples/beta_ch4_unconstrained.npy')\n",
    "beta_n2o = np.load('../data_input_large/fair-samples/beta_n2o_unconstrained.npy')\n",
    "beta_ods = np.load('../data_input_large/fair-samples/beta_ods_unconstrained.npy')\n",
    "beta_co = np.load('../data_input_large/fair-samples/beta_co_unconstrained.npy')\n",
    "beta_voc = np.load('../data_input_large/fair-samples/beta_voc_unconstrained.npy')\n",
    "beta_nox = np.load('../data_input_large/fair-samples/beta_nox_unconstrained.npy')\n",
    "\n",
    "# aerosol\n",
    "beta_so2 = np.load('../data_input_large/fair-samples/beta_so2_unconstrained.npy')\n",
    "beta_bc = np.load('../data_input_large/fair-samples/beta_bc_unconstrained.npy')\n",
    "beta_oc = np.load('../data_input_large/fair-samples/beta_oc_unconstrained.npy')\n",
    "beta_nh3 = np.load('../data_input_large/fair-samples/beta_nh3_unconstrained.npy')\n",
    "beta = np.load('../data_input_large/fair-samples/beta_unconstrained.npy')\n",
    "aci_coeffs = np.load('../data_input_large/fair-samples/aci_coeffs.npy')\n",
    "\n",
    "# forcing\n",
    "scale_normals = np.load('../data_input_large/fair-samples/scale_normals.npy')\n",
    "trend_solar = np.load('../data_input_large/fair-samples/scale_trend_solar.npy')\n",
    "\n",
    "# climate response\n",
    "geoff_sample_df = pd.read_csv('../data_output_large/geoff_sample.csv', index_col=0)\n",
    "f2x = np.load('../data_input_large/fair-samples/f2x_unconstrained.npy')\n",
    "ecs = np.load('../data_input_large/fair-samples/ecs_unconstrained.npy')\n",
    "tcr = np.load('../data_input_large/fair-samples/tcr_unconstrained.npy')\n",
    "\n",
    "# accepted ensemble\n",
    "accept_inds = np.loadtxt('../data_output_large/fair-samples/accept_inds.csv', dtype=int)"
   ]
  },
  {
   "cell_type": "markdown",
   "metadata": {},
   "source": [
    "### apply the constraint and overwrite unconstrained"
   ]
  },
  {
   "cell_type": "code",
   "execution_count": 7,
   "metadata": {},
   "outputs": [],
   "source": [
    "df_solar = pd.read_csv('../data_output/solar_erf.csv', index_col='year')\n",
    "solar_forcing = df_solar.solar_erf.loc[1750:2019].values\n",
    "\n",
    "df_volcanic = pd.read_csv('../data_output/volcanic_erf.csv', index_col='year')\n",
    "volcanic_forcing = np.zeros((270))\n",
    "volcanic_forcing[:269] = df_volcanic.volcanic_erf.loc[1750:2018].values\n",
    "# ramp down last 10 years to zero according to https://www.geosci-model-dev.net/9/3461/2016/gmd-9-3461-2016.html\n",
    "volcanic_forcing[269] = volcanic_forcing[268]"
   ]
  },
  {
   "cell_type": "code",
   "execution_count": 8,
   "metadata": {},
   "outputs": [],
   "source": [
    "# ozone\n",
    "ozone_feedback = ozone_feedback[accept_inds]\n",
    "beta_ch4 = beta_ch4[accept_inds]\n",
    "beta_n2o = beta_n2o[accept_inds]\n",
    "beta_ods = beta_ods[accept_inds]\n",
    "beta_co = beta_co[accept_inds]\n",
    "beta_voc = beta_voc[accept_inds]\n",
    "beta_nox = beta_nox[accept_inds]\n",
    "\n",
    "# aerosol\n",
    "beta_so2 = beta_so2[accept_inds]\n",
    "beta_bc = beta_bc[accept_inds]\n",
    "beta_oc = beta_oc[accept_inds]\n",
    "beta_nh3 = beta_nh3[accept_inds]\n",
    "beta = beta[accept_inds]\n",
    "aci_coeffs = aci_coeffs[accept_inds]\n",
    "\n",
    "# forcing\n",
    "scale_normals = scale_normals[accept_inds]\n",
    "trend_solar = trend_solar[accept_inds]\n",
    "\n",
    "# climate response\n",
    "geoff_sample_df = geoff_sample_df.loc[accept_inds]\n",
    "f2x = f2x[accept_inds]\n",
    "ecs = ecs[accept_inds]\n",
    "tcr = tcr[accept_inds]"
   ]
  },
  {
   "cell_type": "code",
   "execution_count": 9,
   "metadata": {},
   "outputs": [],
   "source": [
    "f2x_median = np.median(f2x)\n",
    "ecs_median = np.median(ecs)\n",
    "tcr_median = np.median(tcr)"
   ]
  },
  {
   "cell_type": "code",
   "execution_count": 10,
   "metadata": {},
   "outputs": [
    {
     "data": {
      "text/plain": [
       "(array([182., 802., 929., 426., 102.,  51.,  44.,  23.,   4.,   2.]),\n",
       " array([0.01965245, 0.40516315, 0.79067386, 1.17618456, 1.56169526,\n",
       "        1.94720597, 2.33271667, 2.71822737, 3.10373808, 3.48924878,\n",
       "        3.87475949]),\n",
       " <a list of 10 Patch objects>)"
      ]
     },
     "execution_count": 10,
     "metadata": {},
     "output_type": "execute_result"
    },
    {
     "data": {
      "image/png": "[encoded data removed]",
      "text/plain": [
       "<Figure size 432x288 with 1 Axes>"
      ]
     },
     "metadata": {
      "needs_background": "light"
     },
     "output_type": "display_data"
    }
   ],
   "source": [
    "kappa = f2x/tcr - f2x/ecs\n",
    "# kappa = efficacy * eta\n",
    "pl.hist(kappa)"
   ]
  },
  {
   "cell_type": "code",
   "execution_count": 11,
   "metadata": {},
   "outputs": [],
   "source": [
    "lamg = geoff_sample_df['lamg'].values\n",
    "eff = geoff_sample_df['eff'].values\n",
    "gamma_2l = geoff_sample_df['gamma_2l'].values\n",
    "cdeep = geoff_sample_df['cdeep'].values\n",
    "cmix = geoff_sample_df['cmix'].values"
   ]
  },
  {
   "cell_type": "markdown",
   "metadata": {},
   "source": [
    "## Forcing uncertainties and SSP projections - ensure consistency with 050"
   ]
  },
  {
   "cell_type": "markdown",
   "metadata": {},
   "source": [
    "### Aerosol emissions"
   ]
  },
  {
   "cell_type": "code",
   "execution_count": 12,
   "metadata": {},
   "outputs": [
    {
     "data": {
      "application/vnd.jupyter.widget-view+json": {
       "model_id": "a4b5643da32b407e90634a37f68fa38d",
       "version_major": 2,
       "version_minor": 0
      },
      "text/plain": [
       "  0%|          | 0/10 [00:00<?, ?it/s]"
      ]
     },
     "metadata": {},
     "output_type": "display_data"
    },
    {
     "data": {
      "application/vnd.jupyter.widget-view+json": {
       "model_id": "",
       "version_major": 2,
       "version_minor": 0
      },
      "text/plain": [
       "  0%|          | 0/2565 [00:00<?, ?it/s]"
      ]
     },
     "metadata": {},
     "output_type": "display_data"
    },
    {
     "data": {
      "application/vnd.jupyter.widget-view+json": {
       "model_id": "",
       "version_major": 2,
       "version_minor": 0
      },
      "text/plain": [
       "  0%|          | 0/2565 [00:00<?, ?it/s]"
      ]
     },
     "metadata": {},
     "output_type": "display_data"
    },
    {
     "data": {
      "application/vnd.jupyter.widget-view+json": {
       "model_id": "",
       "version_major": 2,
       "version_minor": 0
      },
      "text/plain": [
       "  0%|          | 0/2565 [00:00<?, ?it/s]"
      ]
     },
     "metadata": {},
     "output_type": "display_data"
    },
    {
     "data": {
      "application/vnd.jupyter.widget-view+json": {
       "model_id": "",
       "version_major": 2,
       "version_minor": 0
      },
      "text/plain": [
       "  0%|          | 0/2565 [00:00<?, ?it/s]"
      ]
     },
     "metadata": {},
     "output_type": "display_data"
    },
    {
     "data": {
      "application/vnd.jupyter.widget-view+json": {
       "model_id": "",
       "version_major": 2,
       "version_minor": 0
      },
      "text/plain": [
       "  0%|          | 0/2565 [00:00<?, ?it/s]"
      ]
     },
     "metadata": {},
     "output_type": "display_data"
    },
    {
     "data": {
      "application/vnd.jupyter.widget-view+json": {
       "model_id": "",
       "version_major": 2,
       "version_minor": 0
      },
      "text/plain": [
       "  0%|          | 0/2565 [00:00<?, ?it/s]"
      ]
     },
     "metadata": {},
     "output_type": "display_data"
    },
    {
     "data": {
      "application/vnd.jupyter.widget-view+json": {
       "model_id": "",
       "version_major": 2,
       "version_minor": 0
      },
      "text/plain": [
       "  0%|          | 0/2565 [00:00<?, ?it/s]"
      ]
     },
     "metadata": {},
     "output_type": "display_data"
    },
    {
     "data": {
      "application/vnd.jupyter.widget-view+json": {
       "model_id": "",
       "version_major": 2,
       "version_minor": 0
      },
      "text/plain": [
       "  0%|          | 0/2565 [00:00<?, ?it/s]"
      ]
     },
     "metadata": {},
     "output_type": "display_data"
    },
    {
     "data": {
      "application/vnd.jupyter.widget-view+json": {
       "model_id": "",
       "version_major": 2,
       "version_minor": 0
      },
      "text/plain": [
       "  0%|          | 0/2565 [00:00<?, ?it/s]"
      ]
     },
     "metadata": {},
     "output_type": "display_data"
    },
    {
     "data": {
      "application/vnd.jupyter.widget-view+json": {
       "model_id": "",
       "version_major": 2,
       "version_minor": 0
      },
      "text/plain": [
       "  0%|          | 0/2565 [00:00<?, ?it/s]"
      ]
     },
     "metadata": {},
     "output_type": "display_data"
    }
   ],
   "source": [
    "for scenario in tqdm(scenarios):\n",
    "    bc = new_emissions[scenario]['BC'].values.squeeze()[:351]\n",
    "    oc = new_emissions[scenario]['OC'].values.squeeze()[:351]\n",
    "    so2 = new_emissions[scenario]['SO2'].values.squeeze()[:351]\n",
    "    nh3 = new_emissions[scenario]['NH3'].values.squeeze()[:351]\n",
    "    \n",
    "    forcing[scenario]['aerosol-radiation_interactions'] = np.zeros((351, len(accept_inds)))\n",
    "    forcing[scenario]['aerosol-cloud_interactions'] = np.zeros((351, len(accept_inds)))\n",
    "    \n",
    "    for i in tqdm(range(len(accept_inds)), leave=False):\n",
    "        forcing[scenario]['aerosol-radiation_interactions'][:, i] = (\n",
    "            (so2 - so2[0]) * beta_so2[i] * 32/64 +\n",
    "            (bc - bc[0]) * beta_bc[i] +\n",
    "            (oc - oc[0]) * beta_oc[i] +\n",
    "            (nh3 - nh3[0]) * beta_nh3[i]\n",
    "        )\n",
    "\n",
    "        forcing[scenario]['aerosol-cloud_interactions'][:,i] = ghan([so2 * 32/64, bc+oc], beta[i], aci_coeffs[i,0], aci_coeffs[i,1]) - ghan([so2[0] * 32/64, bc[0]+oc[0]], beta[i], aci_coeffs[i,0], aci_coeffs[i,1])"
   ]
  },
  {
   "cell_type": "code",
   "execution_count": 13,
   "metadata": {},
   "outputs": [
    {
     "data": {
      "image/png": "[encoded data removed]",
      "text/plain": [
       "<Figure size 432x288 with 1 Axes>"
      ]
     },
     "metadata": {
      "needs_background": "light"
     },
     "output_type": "display_data"
    }
   ],
   "source": [
    "pl.fill_between(np.arange(1750, 2101), np.percentile(forcing[scenario]['aerosol-radiation_interactions'], 5, axis=1), np.percentile(forcing[scenario]['aerosol-radiation_interactions'], 95, axis=1), color='k', alpha=0.5)\n",
    "pl.plot(np.arange(1750,2101), np.percentile(forcing[scenario]['aerosol-radiation_interactions'], 50, axis=1), color='k')\n",
    "pl.grid()"
   ]
  },
  {
   "cell_type": "code",
   "execution_count": 14,
   "metadata": {},
   "outputs": [
    {
     "data": {
      "image/png": "[encoded data removed]",
      "text/plain": [
       "<Figure size 432x288 with 1 Axes>"
      ]
     },
     "metadata": {
      "needs_background": "light"
     },
     "output_type": "display_data"
    }
   ],
   "source": [
    "pl.fill_between(np.arange(1750, 2101), np.percentile(forcing[scenario]['aerosol-cloud_interactions'], 5, axis=1), np.percentile(forcing[scenario]['aerosol-cloud_interactions'], 95, axis=1), color='k', alpha=0.5)\n",
    "pl.plot(np.arange(1750,2101), np.percentile(forcing[scenario]['aerosol-cloud_interactions'], 50, axis=1), color='k')\n",
    "pl.grid()"
   ]
  },
  {
   "cell_type": "code",
   "execution_count": 15,
   "metadata": {},
   "outputs": [
    {
     "data": {
      "image/png": "[encoded data removed]",
      "text/plain": [
       "<Figure size 432x288 with 1 Axes>"
      ]
     },
     "metadata": {
      "needs_background": "light"
     },
     "output_type": "display_data"
    }
   ],
   "source": [
    "pl.fill_between(np.arange(1750, 2101), np.percentile(forcing[scenario]['aerosol-radiation_interactions']+forcing[scenario]['aerosol-cloud_interactions'], 5, axis=1), np.percentile(forcing[scenario]['aerosol-radiation_interactions']+forcing[scenario]['aerosol-cloud_interactions'], 95, axis=1), color='k', alpha=0.5)\n",
    "pl.plot(np.arange(1750,2101), np.percentile(forcing[scenario]['aerosol-radiation_interactions']+forcing[scenario]['aerosol-cloud_interactions'], 50, axis=1), color='k')\n",
    "pl.grid()"
   ]
  },
  {
   "cell_type": "markdown",
   "metadata": {},
   "source": [
    "### Non-aerosol forcings and aggregated categories"
   ]
  },
  {
   "cell_type": "code",
   "execution_count": 16,
   "metadata": {},
   "outputs": [],
   "source": [
    "df = pd.read_csv('../data_output/solar_erf.csv', index_col='year')\n",
    "solar_forcing = np.zeros((351))\n",
    "solar_forcing = df.solar_erf.loc[1750:2100].values"
   ]
  },
  {
   "cell_type": "code",
   "execution_count": 17,
   "metadata": {},
   "outputs": [],
   "source": [
    "for scenario in scenarios:\n",
    "    df = pd.read_csv('../data_output/SSPs/ERF_%s_1750-2500.csv' % scenario, index_col=0)\n",
    "    for i, cat in enumerate(['co2', 'ch4', 'n2o', 'other_wmghg', 'o3', 'h2o_stratospheric', 'contrails', 'bc_on_snow', 'land_use',\n",
    "               'volcanic']):\n",
    "        forcing[scenario][cat] = np.zeros((351, len(accept_inds)))\n",
    "        forcing[scenario][cat] = df[cat].values[:351,None] * scale_normals[:,i]\n",
    "    forcing[scenario]['solar'] = np.zeros((351, len(accept_inds)))\n",
    "    for j in range(len(accept_inds)):\n",
    "        forcing[scenario]['solar'][:270, j] = np.linspace(0,trend_solar[j],270) + solar_forcing[:270]*scale_normals[j,10]\n",
    "        forcing[scenario]['solar'][270:351, j] = trend_solar[j] + solar_forcing[270:351]*scale_normals[j,10]"
   ]
  },
  {
   "cell_type": "code",
   "execution_count": 27,
   "metadata": {},
   "outputs": [
    {
     "data": {
      "text/plain": [
       "['HFC-125',\n",
       " 'HFC-134a',\n",
       " 'HFC-143a',\n",
       " 'HFC-152a',\n",
       " 'HFC-227ea',\n",
       " 'HFC-23',\n",
       " 'HFC-236fa',\n",
       " 'HFC-245fa',\n",
       " 'HFC-32',\n",
       " 'HFC-365mfc',\n",
       " 'HFC-43-10mee',\n",
       " 'NF3',\n",
       " 'C2F6',\n",
       " 'C3F8',\n",
       " 'n-C4F10',\n",
       " 'n-C5F12',\n",
       " 'n-C6F14',\n",
       " 'i-C6F14',\n",
       " 'C7F16',\n",
       " 'C8F18',\n",
       " 'CF4',\n",
       " 'c-C4F8',\n",
       " 'SF6',\n",
       " 'SO2F2',\n",
       " 'CCl4',\n",
       " 'CFC-11',\n",
       " 'CFC-112',\n",
       " 'CFC-112a',\n",
       " 'CFC-113',\n",
       " 'CFC-113a',\n",
       " 'CFC-114',\n",
       " 'CFC-114a',\n",
       " 'CFC-115',\n",
       " 'CFC-12',\n",
       " 'CFC-13',\n",
       " 'CH2Cl2',\n",
       " 'CH3Br',\n",
       " 'CH3CCl3',\n",
       " 'CH3Cl',\n",
       " 'CHCl3',\n",
       " 'HCFC-124',\n",
       " 'HCFC-133a',\n",
       " 'HCFC-141b',\n",
       " 'HCFC-142b',\n",
       " 'HCFC-22',\n",
       " 'HCFC-31',\n",
       " 'Halon-1211',\n",
       " 'Halon-1301',\n",
       " 'Halon-2402']"
      ]
     },
     "execution_count": 27,
     "metadata": {},
     "output_type": "execute_result"
    }
   ],
   "source": [
    "list(ghg_to_rcmip_names.keys())"
   ]
  },
  {
   "cell_type": "code",
   "execution_count": 23,
   "metadata": {},
   "outputs": [
    {
     "data": {
      "application/vnd.jupyter.widget-view+json": {
       "model_id": "e42cad143a704148be628ad87811cac7",
       "version_major": 2,
       "version_minor": 0
      },
      "text/plain": [
       "  0%|          | 0/10 [00:00<?, ?it/s]"
      ]
     },
     "metadata": {},
     "output_type": "display_data"
    },
    {
     "data": {
      "application/vnd.jupyter.widget-view+json": {
       "model_id": "",
       "version_major": 2,
       "version_minor": 0
      },
      "text/plain": [
       "  0%|          | 0/49 [00:00<?, ?it/s]"
      ]
     },
     "metadata": {},
     "output_type": "display_data"
    },
    {
     "data": {
      "application/vnd.jupyter.widget-view+json": {
       "model_id": "",
       "version_major": 2,
       "version_minor": 0
      },
      "text/plain": [
       "  0%|          | 0/49 [00:00<?, ?it/s]"
      ]
     },
     "metadata": {},
     "output_type": "display_data"
    },
    {
     "data": {
      "application/vnd.jupyter.widget-view+json": {
       "model_id": "",
       "version_major": 2,
       "version_minor": 0
      },
      "text/plain": [
       "  0%|          | 0/49 [00:00<?, ?it/s]"
      ]
     },
     "metadata": {},
     "output_type": "display_data"
    },
    {
     "data": {
      "application/vnd.jupyter.widget-view+json": {
       "model_id": "",
       "version_major": 2,
       "version_minor": 0
      },
      "text/plain": [
       "  0%|          | 0/49 [00:00<?, ?it/s]"
      ]
     },
     "metadata": {},
     "output_type": "display_data"
    },
    {
     "data": {
      "application/vnd.jupyter.widget-view+json": {
       "model_id": "",
       "version_major": 2,
       "version_minor": 0
      },
      "text/plain": [
       "  0%|          | 0/49 [00:00<?, ?it/s]"
      ]
     },
     "metadata": {},
     "output_type": "display_data"
    },
    {
     "data": {
      "application/vnd.jupyter.widget-view+json": {
       "model_id": "",
       "version_major": 2,
       "version_minor": 0
      },
      "text/plain": [
       "  0%|          | 0/49 [00:00<?, ?it/s]"
      ]
     },
     "metadata": {},
     "output_type": "display_data"
    },
    {
     "data": {
      "application/vnd.jupyter.widget-view+json": {
       "model_id": "",
       "version_major": 2,
       "version_minor": 0
      },
      "text/plain": [
       "  0%|          | 0/49 [00:00<?, ?it/s]"
      ]
     },
     "metadata": {},
     "output_type": "display_data"
    },
    {
     "data": {
      "application/vnd.jupyter.widget-view+json": {
       "model_id": "",
       "version_major": 2,
       "version_minor": 0
      },
      "text/plain": [
       "  0%|          | 0/49 [00:00<?, ?it/s]"
      ]
     },
     "metadata": {},
     "output_type": "display_data"
    },
    {
     "data": {
      "application/vnd.jupyter.widget-view+json": {
       "model_id": "",
       "version_major": 2,
       "version_minor": 0
      },
      "text/plain": [
       "  0%|          | 0/49 [00:00<?, ?it/s]"
      ]
     },
     "metadata": {},
     "output_type": "display_data"
    },
    {
     "data": {
      "application/vnd.jupyter.widget-view+json": {
       "model_id": "",
       "version_major": 2,
       "version_minor": 0
      },
      "text/plain": [
       "  0%|          | 0/49 [00:00<?, ?it/s]"
      ]
     },
     "metadata": {},
     "output_type": "display_data"
    }
   ],
   "source": [
    "for scenario in tqdm(scenarios):\n",
    "    df = pd.read_csv('../data_output/SSPs/ERF_%s_minorGHGs_1750-2500.csv' % scenario, index_col=0)\n",
    "    for i, cat in tqdm(enumerate(list(ghg_to_rcmip_names.keys())), total=len(ghg_to_rcmip_names.keys()), leave=False):\n",
    "        forcing[scenario][cat] = np.zeros((351, len(accept_inds)))\n",
    "        forcing[scenario][cat] = df[cat].values[:351,None] * scale_normals[:,3]"
   ]
  },
  {
   "cell_type": "code",
   "execution_count": 28,
   "metadata": {},
   "outputs": [],
   "source": [
    "for scenario in scenarios:\n",
    "    forcing[scenario]['other_ghg'] = (\n",
    "        forcing[scenario]['ch4'] +\n",
    "        forcing[scenario]['n2o'] +\n",
    "        forcing[scenario]['other_wmghg'] +\n",
    "        forcing[scenario]['o3'] +\n",
    "        forcing[scenario]['h2o_stratospheric']\n",
    "    )\n",
    "    forcing[scenario]['other_anthro'] = (\n",
    "        forcing[scenario]['contrails'] +\n",
    "        forcing[scenario]['aerosol-radiation_interactions'] +\n",
    "        forcing[scenario]['aerosol-cloud_interactions'] +\n",
    "        forcing[scenario]['bc_on_snow'] +\n",
    "        forcing[scenario]['land_use']\n",
    "    )\n",
    "    forcing[scenario]['hfc'] = (\n",
    "        forcing[scenario]['HFC-125'] +\n",
    "        forcing[scenario]['HFC-134a'] +\n",
    "        forcing[scenario]['HFC-143a'] +\n",
    "        forcing[scenario]['HFC-152a'] +\n",
    "        forcing[scenario]['HFC-227ea'] +\n",
    "        forcing[scenario]['HFC-23'] +\n",
    "        forcing[scenario]['HFC-236fa'] +\n",
    "        forcing[scenario]['HFC-245fa'] +\n",
    "        forcing[scenario]['HFC-32'] +\n",
    "        forcing[scenario]['HFC-365mfc'] +\n",
    "        forcing[scenario]['HFC-43-10mee']\n",
    "    )\n",
    "    forcing[scenario]['aerosol'] = (\n",
    "        forcing[scenario]['aerosol-radiation_interactions'] +\n",
    "        forcing[scenario]['aerosol-cloud_interactions']\n",
    "    )\n",
    "    forcing[scenario]['slcf'] = (\n",
    "        forcing[scenario]['ch4'] +\n",
    "        forcing[scenario]['hfc'] +\n",
    "        forcing[scenario]['o3'] +\n",
    "        forcing[scenario]['aerosol-radiation_interactions'] +\n",
    "        forcing[scenario]['aerosol-cloud_interactions'] +\n",
    "        forcing[scenario]['bc_on_snow']\n",
    "    )\n",
    "    forcing[scenario]['anthro'] = (\n",
    "        forcing[scenario]['co2'] +\n",
    "        forcing[scenario]['ch4'] +\n",
    "        forcing[scenario]['n2o'] +\n",
    "        forcing[scenario]['other_wmghg'] +\n",
    "        forcing[scenario]['o3'] +\n",
    "        forcing[scenario]['h2o_stratospheric'] +\n",
    "        forcing[scenario]['contrails'] +\n",
    "        forcing[scenario]['aerosol-radiation_interactions'] +\n",
    "        forcing[scenario]['aerosol-cloud_interactions'] +\n",
    "        forcing[scenario]['bc_on_snow'] +\n",
    "        forcing[scenario]['land_use']\n",
    "    )"
   ]
  },
  {
   "cell_type": "code",
   "execution_count": 29,
   "metadata": {},
   "outputs": [
    {
     "data": {
      "text/plain": [
       "(351,)"
      ]
     },
     "execution_count": 29,
     "metadata": {},
     "output_type": "execute_result"
    }
   ],
   "source": [
    "forcing[scenario]['anthro'][:,0].shape"
   ]
  },
  {
   "cell_type": "markdown",
   "metadata": {},
   "source": [
    "# Run climate model"
   ]
  },
  {
   "cell_type": "code",
   "execution_count": 30,
   "metadata": {},
   "outputs": [],
   "source": [
    "with open('../data_input/tunings/cmip6_twolayer_tuning_params.json', 'r') as filehandle:\n",
    "    cmip6_models = json.load(filehandle)"
   ]
  },
  {
   "cell_type": "code",
   "execution_count": 31,
   "metadata": {},
   "outputs": [],
   "source": [
    "cmix_mean = cmip6_models['cmix']['mean']['EBM-epsilon']\n",
    "cdeep_mean = cmip6_models['cdeep']['mean']['EBM-epsilon']\n",
    "eff_mean = cmip6_models['eff']['mean']['EBM-epsilon']\n",
    "\n",
    "lamg_median = f2x_median/ecs_median\n",
    "kappa_median = -(f2x_median/ecs_median - f2x_median/tcr_median)\n",
    "gamma_2l_median = kappa_median/eff_mean"
   ]
  },
  {
   "cell_type": "code",
   "execution_count": 32,
   "metadata": {},
   "outputs": [
    {
     "data": {
      "text/plain": [
       "(0.6932394897925654, 0.9298080299251286, 1.355560864076255, 1.3412508139190835)"
      ]
     },
     "execution_count": 32,
     "metadata": {},
     "output_type": "execute_result"
    }
   ],
   "source": [
    "gamma_2l_median, kappa_median, lamg_median, eff_mean"
   ]
  },
  {
   "cell_type": "code",
   "execution_count": 33,
   "metadata": {},
   "outputs": [],
   "source": [
    "results = {}"
   ]
  },
  {
   "cell_type": "markdown",
   "metadata": {},
   "source": [
    "## 351-year forcing runs\n",
    "\n",
    "- all anthropogenic forcing"
   ]
  },
  {
   "cell_type": "code",
   "execution_count": 34,
   "metadata": {},
   "outputs": [
    {
     "data": {
      "application/vnd.jupyter.widget-view+json": {
       "model_id": "7c08a672897a4bce8b40a654a78c6631",
       "version_major": 2,
       "version_minor": 0
      },
      "text/plain": [
       "scenario:   0%|          | 0/10 [00:00<?, ?it/s]"
      ]
     },
     "metadata": {},
     "output_type": "display_data"
    },
    {
     "data": {
      "application/vnd.jupyter.widget-view+json": {
       "model_id": "",
       "version_major": 2,
       "version_minor": 0
      },
      "text/plain": [
       "  0%|          | 0/2565 [00:00<?, ?it/s]"
      ]
     },
     "metadata": {},
     "output_type": "display_data"
    },
    {
     "data": {
      "application/vnd.jupyter.widget-view+json": {
       "model_id": "",
       "version_major": 2,
       "version_minor": 0
      },
      "text/plain": [
       "  0%|          | 0/2565 [00:00<?, ?it/s]"
      ]
     },
     "metadata": {},
     "output_type": "display_data"
    },
    {
     "data": {
      "application/vnd.jupyter.widget-view+json": {
       "model_id": "",
       "version_major": 2,
       "version_minor": 0
      },
      "text/plain": [
       "  0%|          | 0/2565 [00:00<?, ?it/s]"
      ]
     },
     "metadata": {},
     "output_type": "display_data"
    },
    {
     "data": {
      "application/vnd.jupyter.widget-view+json": {
       "model_id": "",
       "version_major": 2,
       "version_minor": 0
      },
      "text/plain": [
       "  0%|          | 0/2565 [00:00<?, ?it/s]"
      ]
     },
     "metadata": {},
     "output_type": "display_data"
    },
    {
     "data": {
      "application/vnd.jupyter.widget-view+json": {
       "model_id": "",
       "version_major": 2,
       "version_minor": 0
      },
      "text/plain": [
       "  0%|          | 0/2565 [00:00<?, ?it/s]"
      ]
     },
     "metadata": {},
     "output_type": "display_data"
    },
    {
     "data": {
      "application/vnd.jupyter.widget-view+json": {
       "model_id": "",
       "version_major": 2,
       "version_minor": 0
      },
      "text/plain": [
       "  0%|          | 0/2565 [00:00<?, ?it/s]"
      ]
     },
     "metadata": {},
     "output_type": "display_data"
    },
    {
     "data": {
      "application/vnd.jupyter.widget-view+json": {
       "model_id": "",
       "version_major": 2,
       "version_minor": 0
      },
      "text/plain": [
       "  0%|          | 0/2565 [00:00<?, ?it/s]"
      ]
     },
     "metadata": {},
     "output_type": "display_data"
    },
    {
     "data": {
      "application/vnd.jupyter.widget-view+json": {
       "model_id": "",
       "version_major": 2,
       "version_minor": 0
      },
      "text/plain": [
       "  0%|          | 0/2565 [00:00<?, ?it/s]"
      ]
     },
     "metadata": {},
     "output_type": "display_data"
    },
    {
     "data": {
      "application/vnd.jupyter.widget-view+json": {
       "model_id": "",
       "version_major": 2,
       "version_minor": 0
      },
      "text/plain": [
       "  0%|          | 0/2565 [00:00<?, ?it/s]"
      ]
     },
     "metadata": {},
     "output_type": "display_data"
    },
    {
     "data": {
      "application/vnd.jupyter.widget-view+json": {
       "model_id": "",
       "version_major": 2,
       "version_minor": 0
      },
      "text/plain": [
       "  0%|          | 0/2565 [00:00<?, ?it/s]"
      ]
     },
     "metadata": {},
     "output_type": "display_data"
    }
   ],
   "source": [
    "for scenario in tqdm(scenarios, desc='scenario'):\n",
    "    arglist=[]\n",
    "    for i in range(len(accept_inds)):\n",
    "        arglist.append(\n",
    "            {\n",
    "                'in_forcing' : forcing[scenario]['anthro'][:,i],\n",
    "\n",
    "            }\n",
    "        )\n",
    "    def run_tlm(args):\n",
    "        in_forcing = args['in_forcing']\n",
    "        driver = TwoLayerModel(\n",
    "            extforce=in_forcing,\n",
    "            exttime=np.arange(1750, 2101),\n",
    "            tbeg=1750,\n",
    "            tend=2101,\n",
    "            lamg=lamg_median,\n",
    "            t2x=None,\n",
    "            eff=eff_mean,\n",
    "            cmix=cmix_mean,\n",
    "            cdeep=cdeep_mean,\n",
    "            gamma_2l=gamma_2l_median,\n",
    "            outtime=np.arange(1750,2101),\n",
    "            dt=0.2\n",
    "        )\n",
    "        output = driver.run()\n",
    "        return(output.tg)\n",
    "\n",
    "\n",
    "    if __name__ == '__main__':\n",
    "        with Pool(24) as pool:\n",
    "            result = list(tqdm(pool.imap(run_tlm, arglist), total=len(accept_inds), leave=False))\n",
    "        output = np.array(result).T\n",
    "        \n",
    "    results[scenario] = {}\n",
    "    results[scenario]['effective_radiative_forcing'] = forcing[scenario]['anthro']\n",
    "    results[scenario]['surface_temperature'] = output"
   ]
  },
  {
   "cell_type": "markdown",
   "metadata": {},
   "source": [
    "## Marginal contributions since 1750\n",
    "\n",
    "- forcing variation only"
   ]
  },
  {
   "cell_type": "code",
   "execution_count": 35,
   "metadata": {},
   "outputs": [
    {
     "data": {
      "application/vnd.jupyter.widget-view+json": {
       "model_id": "b47371e937184525a13cc9291d4440b1",
       "version_major": 2,
       "version_minor": 0
      },
      "text/plain": [
       "scenario:   0%|          | 0/10 [00:00<?, ?it/s]"
      ]
     },
     "metadata": {},
     "output_type": "display_data"
    },
    {
     "data": {
      "application/vnd.jupyter.widget-view+json": {
       "model_id": "",
       "version_major": 2,
       "version_minor": 0
      },
      "text/plain": [
       "Removing one at a time:   0%|          | 0/9 [00:00<?, ?it/s]"
      ]
     },
     "metadata": {},
     "output_type": "display_data"
    },
    {
     "data": {
      "application/vnd.jupyter.widget-view+json": {
       "model_id": "",
       "version_major": 2,
       "version_minor": 0
      },
      "text/plain": [
       "  0%|          | 0/2565 [00:00<?, ?it/s]"
      ]
     },
     "metadata": {},
     "output_type": "display_data"
    },
    {
     "data": {
      "application/vnd.jupyter.widget-view+json": {
       "model_id": "",
       "version_major": 2,
       "version_minor": 0
      },
      "text/plain": [
       "  0%|          | 0/2565 [00:00<?, ?it/s]"
      ]
     },
     "metadata": {},
     "output_type": "display_data"
    },
    {
     "data": {
      "application/vnd.jupyter.widget-view+json": {
       "model_id": "",
       "version_major": 2,
       "version_minor": 0
      },
      "text/plain": [
       "  0%|          | 0/2565 [00:00<?, ?it/s]"
      ]
     },
     "metadata": {},
     "output_type": "display_data"
    },
    {
     "data": {
      "application/vnd.jupyter.widget-view+json": {
       "model_id": "",
       "version_major": 2,
       "version_minor": 0
      },
      "text/plain": [
       "  0%|          | 0/2565 [00:00<?, ?it/s]"
      ]
     },
     "metadata": {},
     "output_type": "display_data"
    },
    {
     "data": {
      "application/vnd.jupyter.widget-view+json": {
       "model_id": "",
       "version_major": 2,
       "version_minor": 0
      },
      "text/plain": [
       "  0%|          | 0/2565 [00:00<?, ?it/s]"
      ]
     },
     "metadata": {},
     "output_type": "display_data"
    },
    {
     "data": {
      "application/vnd.jupyter.widget-view+json": {
       "model_id": "",
       "version_major": 2,
       "version_minor": 0
      },
      "text/plain": [
       "  0%|          | 0/2565 [00:00<?, ?it/s]"
      ]
     },
     "metadata": {},
     "output_type": "display_data"
    },
    {
     "data": {
      "application/vnd.jupyter.widget-view+json": {
       "model_id": "",
       "version_major": 2,
       "version_minor": 0
      },
      "text/plain": [
       "  0%|          | 0/2565 [00:00<?, ?it/s]"
      ]
     },
     "metadata": {},
     "output_type": "display_data"
    },
    {
     "data": {
      "application/vnd.jupyter.widget-view+json": {
       "model_id": "",
       "version_major": 2,
       "version_minor": 0
      },
      "text/plain": [
       "  0%|          | 0/2565 [00:00<?, ?it/s]"
      ]
     },
     "metadata": {},
     "output_type": "display_data"
    },
    {
     "data": {
      "application/vnd.jupyter.widget-view+json": {
       "model_id": "",
       "version_major": 2,
       "version_minor": 0
      },
      "text/plain": [
       "  0%|          | 0/2565 [00:00<?, ?it/s]"
      ]
     },
     "metadata": {},
     "output_type": "display_data"
    },
    {
     "data": {
      "application/vnd.jupyter.widget-view+json": {
       "model_id": "",
       "version_major": 2,
       "version_minor": 0
      },
      "text/plain": [
       "Removing one at a time:   0%|          | 0/9 [00:00<?, ?it/s]"
      ]
     },
     "metadata": {},
     "output_type": "display_data"
    },
    {
     "data": {
      "application/vnd.jupyter.widget-view+json": {
       "model_id": "",
       "version_major": 2,
       "version_minor": 0
      },
      "text/plain": [
       "  0%|          | 0/2565 [00:00<?, ?it/s]"
      ]
     },
     "metadata": {},
     "output_type": "display_data"
    },
    {
     "data": {
      "application/vnd.jupyter.widget-view+json": {
       "model_id": "",
       "version_major": 2,
       "version_minor": 0
      },
      "text/plain": [
       "  0%|          | 0/2565 [00:00<?, ?it/s]"
      ]
     },
     "metadata": {},
     "output_type": "display_data"
    },
    {
     "data": {
      "application/vnd.jupyter.widget-view+json": {
       "model_id": "",
       "version_major": 2,
       "version_minor": 0
      },
      "text/plain": [
       "  0%|          | 0/2565 [00:00<?, ?it/s]"
      ]
     },
     "metadata": {},
     "output_type": "display_data"
    },
    {
     "data": {
      "application/vnd.jupyter.widget-view+json": {
       "model_id": "",
       "version_major": 2,
       "version_minor": 0
      },
      "text/plain": [
       "  0%|          | 0/2565 [00:00<?, ?it/s]"
      ]
     },
     "metadata": {},
     "output_type": "display_data"
    },
    {
     "data": {
      "application/vnd.jupyter.widget-view+json": {
       "model_id": "",
       "version_major": 2,
       "version_minor": 0
      },
      "text/plain": [
       "  0%|          | 0/2565 [00:00<?, ?it/s]"
      ]
     },
     "metadata": {},
     "output_type": "display_data"
    },
    {
     "data": {
      "application/vnd.jupyter.widget-view+json": {
       "model_id": "",
       "version_major": 2,
       "version_minor": 0
      },
      "text/plain": [
       "  0%|          | 0/2565 [00:00<?, ?it/s]"
      ]
     },
     "metadata": {},
     "output_type": "display_data"
    },
    {
     "data": {
      "application/vnd.jupyter.widget-view+json": {
       "model_id": "",
       "version_major": 2,
       "version_minor": 0
      },
      "text/plain": [
       "  0%|          | 0/2565 [00:00<?, ?it/s]"
      ]
     },
     "metadata": {},
     "output_type": "display_data"
    },
    {
     "data": {
      "application/vnd.jupyter.widget-view+json": {
       "model_id": "",
       "version_major": 2,
       "version_minor": 0
      },
      "text/plain": [
       "  0%|          | 0/2565 [00:00<?, ?it/s]"
      ]
     },
     "metadata": {},
     "output_type": "display_data"
    },
    {
     "data": {
      "application/vnd.jupyter.widget-view+json": {
       "model_id": "",
       "version_major": 2,
       "version_minor": 0
      },
      "text/plain": [
       "  0%|          | 0/2565 [00:00<?, ?it/s]"
      ]
     },
     "metadata": {},
     "output_type": "display_data"
    },
    {
     "data": {
      "application/vnd.jupyter.widget-view+json": {
       "model_id": "",
       "version_major": 2,
       "version_minor": 0
      },
      "text/plain": [
       "Removing one at a time:   0%|          | 0/9 [00:00<?, ?it/s]"
      ]
     },
     "metadata": {},
     "output_type": "display_data"
    },
    {
     "data": {
      "application/vnd.jupyter.widget-view+json": {
       "model_id": "",
       "version_major": 2,
       "version_minor": 0
      },
      "text/plain": [
       "  0%|          | 0/2565 [00:00<?, ?it/s]"
      ]
     },
     "metadata": {},
     "output_type": "display_data"
    },
    {
     "data": {
      "application/vnd.jupyter.widget-view+json": {
       "model_id": "",
       "version_major": 2,
       "version_minor": 0
      },
      "text/plain": [
       "  0%|          | 0/2565 [00:00<?, ?it/s]"
      ]
     },
     "metadata": {},
     "output_type": "display_data"
    },
    {
     "data": {
      "application/vnd.jupyter.widget-view+json": {
       "model_id": "",
       "version_major": 2,
       "version_minor": 0
      },
      "text/plain": [
       "  0%|          | 0/2565 [00:00<?, ?it/s]"
      ]
     },
     "metadata": {},
     "output_type": "display_data"
    },
    {
     "data": {
      "application/vnd.jupyter.widget-view+json": {
       "model_id": "",
       "version_major": 2,
       "version_minor": 0
      },
      "text/plain": [
       "  0%|          | 0/2565 [00:00<?, ?it/s]"
      ]
     },
     "metadata": {},
     "output_type": "display_data"
    },
    {
     "data": {
      "application/vnd.jupyter.widget-view+json": {
       "model_id": "",
       "version_major": 2,
       "version_minor": 0
      },
      "text/plain": [
       "  0%|          | 0/2565 [00:00<?, ?it/s]"
      ]
     },
     "metadata": {},
     "output_type": "display_data"
    },
    {
     "data": {
      "application/vnd.jupyter.widget-view+json": {
       "model_id": "",
       "version_major": 2,
       "version_minor": 0
      },
      "text/plain": [
       "  0%|          | 0/2565 [00:00<?, ?it/s]"
      ]
     },
     "metadata": {},
     "output_type": "display_data"
    },
    {
     "data": {
      "application/vnd.jupyter.widget-view+json": {
       "model_id": "",
       "version_major": 2,
       "version_minor": 0
      },
      "text/plain": [
       "  0%|          | 0/2565 [00:00<?, ?it/s]"
      ]
     },
     "metadata": {},
     "output_type": "display_data"
    },
    {
     "data": {
      "application/vnd.jupyter.widget-view+json": {
       "model_id": "",
       "version_major": 2,
       "version_minor": 0
      },
      "text/plain": [
       "  0%|          | 0/2565 [00:00<?, ?it/s]"
      ]
     },
     "metadata": {},
     "output_type": "display_data"
    },
    {
     "data": {
      "application/vnd.jupyter.widget-view+json": {
       "model_id": "",
       "version_major": 2,
       "version_minor": 0
      },
      "text/plain": [
       "  0%|          | 0/2565 [00:00<?, ?it/s]"
      ]
     },
     "metadata": {},
     "output_type": "display_data"
    },
    {
     "data": {
      "application/vnd.jupyter.widget-view+json": {
       "model_id": "",
       "version_major": 2,
       "version_minor": 0
      },
      "text/plain": [
       "Removing one at a time:   0%|          | 0/9 [00:00<?, ?it/s]"
      ]
     },
     "metadata": {},
     "output_type": "display_data"
    },
    {
     "data": {
      "application/vnd.jupyter.widget-view+json": {
       "model_id": "",
       "version_major": 2,
       "version_minor": 0
      },
      "text/plain": [
       "  0%|          | 0/2565 [00:00<?, ?it/s]"
      ]
     },
     "metadata": {},
     "output_type": "display_data"
    },
    {
     "data": {
      "application/vnd.jupyter.widget-view+json": {
       "model_id": "",
       "version_major": 2,
       "version_minor": 0
      },
      "text/plain": [
       "  0%|          | 0/2565 [00:00<?, ?it/s]"
      ]
     },
     "metadata": {},
     "output_type": "display_data"
    },
    {
     "data": {
      "application/vnd.jupyter.widget-view+json": {
       "model_id": "",
       "version_major": 2,
       "version_minor": 0
      },
      "text/plain": [
       "  0%|          | 0/2565 [00:00<?, ?it/s]"
      ]
     },
     "metadata": {},
     "output_type": "display_data"
    },
    {
     "data": {
      "application/vnd.jupyter.widget-view+json": {
       "model_id": "",
       "version_major": 2,
       "version_minor": 0
      },
      "text/plain": [
       "  0%|          | 0/2565 [00:00<?, ?it/s]"
      ]
     },
     "metadata": {},
     "output_type": "display_data"
    },
    {
     "data": {
      "application/vnd.jupyter.widget-view+json": {
       "model_id": "",
       "version_major": 2,
       "version_minor": 0
      },
      "text/plain": [
       "  0%|          | 0/2565 [00:00<?, ?it/s]"
      ]
     },
     "metadata": {},
     "output_type": "display_data"
    },
    {
     "data": {
      "application/vnd.jupyter.widget-view+json": {
       "model_id": "",
       "version_major": 2,
       "version_minor": 0
      },
      "text/plain": [
       "  0%|          | 0/2565 [00:00<?, ?it/s]"
      ]
     },
     "metadata": {},
     "output_type": "display_data"
    },
    {
     "data": {
      "application/vnd.jupyter.widget-view+json": {
       "model_id": "",
       "version_major": 2,
       "version_minor": 0
      },
      "text/plain": [
       "  0%|          | 0/2565 [00:00<?, ?it/s]"
      ]
     },
     "metadata": {},
     "output_type": "display_data"
    },
    {
     "data": {
      "application/vnd.jupyter.widget-view+json": {
       "model_id": "",
       "version_major": 2,
       "version_minor": 0
      },
      "text/plain": [
       "  0%|          | 0/2565 [00:00<?, ?it/s]"
      ]
     },
     "metadata": {},
     "output_type": "display_data"
    },
    {
     "data": {
      "application/vnd.jupyter.widget-view+json": {
       "model_id": "",
       "version_major": 2,
       "version_minor": 0
      },
      "text/plain": [
       "  0%|          | 0/2565 [00:00<?, ?it/s]"
      ]
     },
     "metadata": {},
     "output_type": "display_data"
    },
    {
     "data": {
      "application/vnd.jupyter.widget-view+json": {
       "model_id": "",
       "version_major": 2,
       "version_minor": 0
      },
      "text/plain": [
       "Removing one at a time:   0%|          | 0/9 [00:00<?, ?it/s]"
      ]
     },
     "metadata": {},
     "output_type": "display_data"
    },
    {
     "data": {
      "application/vnd.jupyter.widget-view+json": {
       "model_id": "",
       "version_major": 2,
       "version_minor": 0
      },
      "text/plain": [
       "  0%|          | 0/2565 [00:00<?, ?it/s]"
      ]
     },
     "metadata": {},
     "output_type": "display_data"
    },
    {
     "data": {
      "application/vnd.jupyter.widget-view+json": {
       "model_id": "",
       "version_major": 2,
       "version_minor": 0
      },
      "text/plain": [
       "  0%|          | 0/2565 [00:00<?, ?it/s]"
      ]
     },
     "metadata": {},
     "output_type": "display_data"
    },
    {
     "data": {
      "application/vnd.jupyter.widget-view+json": {
       "model_id": "",
       "version_major": 2,
       "version_minor": 0
      },
      "text/plain": [
       "  0%|          | 0/2565 [00:00<?, ?it/s]"
      ]
     },
     "metadata": {},
     "output_type": "display_data"
    },
    {
     "data": {
      "application/vnd.jupyter.widget-view+json": {
       "model_id": "",
       "version_major": 2,
       "version_minor": 0
      },
      "text/plain": [
       "  0%|          | 0/2565 [00:00<?, ?it/s]"
      ]
     },
     "metadata": {},
     "output_type": "display_data"
    },
    {
     "data": {
      "application/vnd.jupyter.widget-view+json": {
       "model_id": "",
       "version_major": 2,
       "version_minor": 0
      },
      "text/plain": [
       "  0%|          | 0/2565 [00:00<?, ?it/s]"
      ]
     },
     "metadata": {},
     "output_type": "display_data"
    },
    {
     "data": {
      "application/vnd.jupyter.widget-view+json": {
       "model_id": "",
       "version_major": 2,
       "version_minor": 0
      },
      "text/plain": [
       "  0%|          | 0/2565 [00:00<?, ?it/s]"
      ]
     },
     "metadata": {},
     "output_type": "display_data"
    },
    {
     "data": {
      "application/vnd.jupyter.widget-view+json": {
       "model_id": "",
       "version_major": 2,
       "version_minor": 0
      },
      "text/plain": [
       "  0%|          | 0/2565 [00:00<?, ?it/s]"
      ]
     },
     "metadata": {},
     "output_type": "display_data"
    },
    {
     "data": {
      "application/vnd.jupyter.widget-view+json": {
       "model_id": "",
       "version_major": 2,
       "version_minor": 0
      },
      "text/plain": [
       "  0%|          | 0/2565 [00:00<?, ?it/s]"
      ]
     },
     "metadata": {},
     "output_type": "display_data"
    },
    {
     "data": {
      "application/vnd.jupyter.widget-view+json": {
       "model_id": "",
       "version_major": 2,
       "version_minor": 0
      },
      "text/plain": [
       "  0%|          | 0/2565 [00:00<?, ?it/s]"
      ]
     },
     "metadata": {},
     "output_type": "display_data"
    },
    {
     "data": {
      "application/vnd.jupyter.widget-view+json": {
       "model_id": "",
       "version_major": 2,
       "version_minor": 0
      },
      "text/plain": [
       "Removing one at a time:   0%|          | 0/9 [00:00<?, ?it/s]"
      ]
     },
     "metadata": {},
     "output_type": "display_data"
    },
    {
     "data": {
      "application/vnd.jupyter.widget-view+json": {
       "model_id": "",
       "version_major": 2,
       "version_minor": 0
      },
      "text/plain": [
       "  0%|          | 0/2565 [00:00<?, ?it/s]"
      ]
     },
     "metadata": {},
     "output_type": "display_data"
    },
    {
     "data": {
      "application/vnd.jupyter.widget-view+json": {
       "model_id": "",
       "version_major": 2,
       "version_minor": 0
      },
      "text/plain": [
       "  0%|          | 0/2565 [00:00<?, ?it/s]"
      ]
     },
     "metadata": {},
     "output_type": "display_data"
    },
    {
     "data": {
      "application/vnd.jupyter.widget-view+json": {
       "model_id": "",
       "version_major": 2,
       "version_minor": 0
      },
      "text/plain": [
       "  0%|          | 0/2565 [00:00<?, ?it/s]"
      ]
     },
     "metadata": {},
     "output_type": "display_data"
    },
    {
     "data": {
      "application/vnd.jupyter.widget-view+json": {
       "model_id": "",
       "version_major": 2,
       "version_minor": 0
      },
      "text/plain": [
       "  0%|          | 0/2565 [00:00<?, ?it/s]"
      ]
     },
     "metadata": {},
     "output_type": "display_data"
    },
    {
     "data": {
      "application/vnd.jupyter.widget-view+json": {
       "model_id": "",
       "version_major": 2,
       "version_minor": 0
      },
      "text/plain": [
       "  0%|          | 0/2565 [00:00<?, ?it/s]"
      ]
     },
     "metadata": {},
     "output_type": "display_data"
    },
    {
     "data": {
      "application/vnd.jupyter.widget-view+json": {
       "model_id": "",
       "version_major": 2,
       "version_minor": 0
      },
      "text/plain": [
       "  0%|          | 0/2565 [00:00<?, ?it/s]"
      ]
     },
     "metadata": {},
     "output_type": "display_data"
    },
    {
     "data": {
      "application/vnd.jupyter.widget-view+json": {
       "model_id": "",
       "version_major": 2,
       "version_minor": 0
      },
      "text/plain": [
       "  0%|          | 0/2565 [00:00<?, ?it/s]"
      ]
     },
     "metadata": {},
     "output_type": "display_data"
    },
    {
     "data": {
      "application/vnd.jupyter.widget-view+json": {
       "model_id": "",
       "version_major": 2,
       "version_minor": 0
      },
      "text/plain": [
       "  0%|          | 0/2565 [00:00<?, ?it/s]"
      ]
     },
     "metadata": {},
     "output_type": "display_data"
    },
    {
     "data": {
      "application/vnd.jupyter.widget-view+json": {
       "model_id": "",
       "version_major": 2,
       "version_minor": 0
      },
      "text/plain": [
       "  0%|          | 0/2565 [00:00<?, ?it/s]"
      ]
     },
     "metadata": {},
     "output_type": "display_data"
    },
    {
     "data": {
      "application/vnd.jupyter.widget-view+json": {
       "model_id": "",
       "version_major": 2,
       "version_minor": 0
      },
      "text/plain": [
       "Removing one at a time:   0%|          | 0/9 [00:00<?, ?it/s]"
      ]
     },
     "metadata": {},
     "output_type": "display_data"
    },
    {
     "data": {
      "application/vnd.jupyter.widget-view+json": {
       "model_id": "",
       "version_major": 2,
       "version_minor": 0
      },
      "text/plain": [
       "  0%|          | 0/2565 [00:00<?, ?it/s]"
      ]
     },
     "metadata": {},
     "output_type": "display_data"
    },
    {
     "data": {
      "application/vnd.jupyter.widget-view+json": {
       "model_id": "",
       "version_major": 2,
       "version_minor": 0
      },
      "text/plain": [
       "  0%|          | 0/2565 [00:00<?, ?it/s]"
      ]
     },
     "metadata": {},
     "output_type": "display_data"
    },
    {
     "data": {
      "application/vnd.jupyter.widget-view+json": {
       "model_id": "",
       "version_major": 2,
       "version_minor": 0
      },
      "text/plain": [
       "  0%|          | 0/2565 [00:00<?, ?it/s]"
      ]
     },
     "metadata": {},
     "output_type": "display_data"
    },
    {
     "data": {
      "application/vnd.jupyter.widget-view+json": {
       "model_id": "",
       "version_major": 2,
       "version_minor": 0
      },
      "text/plain": [
       "  0%|          | 0/2565 [00:00<?, ?it/s]"
      ]
     },
     "metadata": {},
     "output_type": "display_data"
    },
    {
     "data": {
      "application/vnd.jupyter.widget-view+json": {
       "model_id": "",
       "version_major": 2,
       "version_minor": 0
      },
      "text/plain": [
       "  0%|          | 0/2565 [00:00<?, ?it/s]"
      ]
     },
     "metadata": {},
     "output_type": "display_data"
    },
    {
     "data": {
      "application/vnd.jupyter.widget-view+json": {
       "model_id": "",
       "version_major": 2,
       "version_minor": 0
      },
      "text/plain": [
       "  0%|          | 0/2565 [00:00<?, ?it/s]"
      ]
     },
     "metadata": {},
     "output_type": "display_data"
    },
    {
     "data": {
      "application/vnd.jupyter.widget-view+json": {
       "model_id": "",
       "version_major": 2,
       "version_minor": 0
      },
      "text/plain": [
       "  0%|          | 0/2565 [00:00<?, ?it/s]"
      ]
     },
     "metadata": {},
     "output_type": "display_data"
    },
    {
     "data": {
      "application/vnd.jupyter.widget-view+json": {
       "model_id": "",
       "version_major": 2,
       "version_minor": 0
      },
      "text/plain": [
       "  0%|          | 0/2565 [00:00<?, ?it/s]"
      ]
     },
     "metadata": {},
     "output_type": "display_data"
    },
    {
     "data": {
      "application/vnd.jupyter.widget-view+json": {
       "model_id": "",
       "version_major": 2,
       "version_minor": 0
      },
      "text/plain": [
       "  0%|          | 0/2565 [00:00<?, ?it/s]"
      ]
     },
     "metadata": {},
     "output_type": "display_data"
    },
    {
     "data": {
      "application/vnd.jupyter.widget-view+json": {
       "model_id": "",
       "version_major": 2,
       "version_minor": 0
      },
      "text/plain": [
       "Removing one at a time:   0%|          | 0/9 [00:00<?, ?it/s]"
      ]
     },
     "metadata": {},
     "output_type": "display_data"
    },
    {
     "data": {
      "application/vnd.jupyter.widget-view+json": {
       "model_id": "",
       "version_major": 2,
       "version_minor": 0
      },
      "text/plain": [
       "  0%|          | 0/2565 [00:00<?, ?it/s]"
      ]
     },
     "metadata": {},
     "output_type": "display_data"
    },
    {
     "data": {
      "application/vnd.jupyter.widget-view+json": {
       "model_id": "",
       "version_major": 2,
       "version_minor": 0
      },
      "text/plain": [
       "  0%|          | 0/2565 [00:00<?, ?it/s]"
      ]
     },
     "metadata": {},
     "output_type": "display_data"
    },
    {
     "data": {
      "application/vnd.jupyter.widget-view+json": {
       "model_id": "",
       "version_major": 2,
       "version_minor": 0
      },
      "text/plain": [
       "  0%|          | 0/2565 [00:00<?, ?it/s]"
      ]
     },
     "metadata": {},
     "output_type": "display_data"
    },
    {
     "data": {
      "application/vnd.jupyter.widget-view+json": {
       "model_id": "",
       "version_major": 2,
       "version_minor": 0
      },
      "text/plain": [
       "  0%|          | 0/2565 [00:00<?, ?it/s]"
      ]
     },
     "metadata": {},
     "output_type": "display_data"
    },
    {
     "data": {
      "application/vnd.jupyter.widget-view+json": {
       "model_id": "",
       "version_major": 2,
       "version_minor": 0
      },
      "text/plain": [
       "  0%|          | 0/2565 [00:00<?, ?it/s]"
      ]
     },
     "metadata": {},
     "output_type": "display_data"
    },
    {
     "data": {
      "application/vnd.jupyter.widget-view+json": {
       "model_id": "",
       "version_major": 2,
       "version_minor": 0
      },
      "text/plain": [
       "  0%|          | 0/2565 [00:00<?, ?it/s]"
      ]
     },
     "metadata": {},
     "output_type": "display_data"
    },
    {
     "data": {
      "application/vnd.jupyter.widget-view+json": {
       "model_id": "",
       "version_major": 2,
       "version_minor": 0
      },
      "text/plain": [
       "  0%|          | 0/2565 [00:00<?, ?it/s]"
      ]
     },
     "metadata": {},
     "output_type": "display_data"
    },
    {
     "data": {
      "application/vnd.jupyter.widget-view+json": {
       "model_id": "",
       "version_major": 2,
       "version_minor": 0
      },
      "text/plain": [
       "  0%|          | 0/2565 [00:00<?, ?it/s]"
      ]
     },
     "metadata": {},
     "output_type": "display_data"
    },
    {
     "data": {
      "application/vnd.jupyter.widget-view+json": {
       "model_id": "",
       "version_major": 2,
       "version_minor": 0
      },
      "text/plain": [
       "  0%|          | 0/2565 [00:00<?, ?it/s]"
      ]
     },
     "metadata": {},
     "output_type": "display_data"
    },
    {
     "data": {
      "application/vnd.jupyter.widget-view+json": {
       "model_id": "",
       "version_major": 2,
       "version_minor": 0
      },
      "text/plain": [
       "Removing one at a time:   0%|          | 0/9 [00:00<?, ?it/s]"
      ]
     },
     "metadata": {},
     "output_type": "display_data"
    },
    {
     "data": {
      "application/vnd.jupyter.widget-view+json": {
       "model_id": "",
       "version_major": 2,
       "version_minor": 0
      },
      "text/plain": [
       "  0%|          | 0/2565 [00:00<?, ?it/s]"
      ]
     },
     "metadata": {},
     "output_type": "display_data"
    },
    {
     "data": {
      "application/vnd.jupyter.widget-view+json": {
       "model_id": "",
       "version_major": 2,
       "version_minor": 0
      },
      "text/plain": [
       "  0%|          | 0/2565 [00:00<?, ?it/s]"
      ]
     },
     "metadata": {},
     "output_type": "display_data"
    },
    {
     "data": {
      "application/vnd.jupyter.widget-view+json": {
       "model_id": "",
       "version_major": 2,
       "version_minor": 0
      },
      "text/plain": [
       "  0%|          | 0/2565 [00:00<?, ?it/s]"
      ]
     },
     "metadata": {},
     "output_type": "display_data"
    },
    {
     "data": {
      "application/vnd.jupyter.widget-view+json": {
       "model_id": "",
       "version_major": 2,
       "version_minor": 0
      },
      "text/plain": [
       "  0%|          | 0/2565 [00:00<?, ?it/s]"
      ]
     },
     "metadata": {},
     "output_type": "display_data"
    },
    {
     "data": {
      "application/vnd.jupyter.widget-view+json": {
       "model_id": "",
       "version_major": 2,
       "version_minor": 0
      },
      "text/plain": [
       "  0%|          | 0/2565 [00:00<?, ?it/s]"
      ]
     },
     "metadata": {},
     "output_type": "display_data"
    },
    {
     "data": {
      "application/vnd.jupyter.widget-view+json": {
       "model_id": "",
       "version_major": 2,
       "version_minor": 0
      },
      "text/plain": [
       "  0%|          | 0/2565 [00:00<?, ?it/s]"
      ]
     },
     "metadata": {},
     "output_type": "display_data"
    },
    {
     "data": {
      "application/vnd.jupyter.widget-view+json": {
       "model_id": "",
       "version_major": 2,
       "version_minor": 0
      },
      "text/plain": [
       "  0%|          | 0/2565 [00:00<?, ?it/s]"
      ]
     },
     "metadata": {},
     "output_type": "display_data"
    },
    {
     "data": {
      "application/vnd.jupyter.widget-view+json": {
       "model_id": "",
       "version_major": 2,
       "version_minor": 0
      },
      "text/plain": [
       "  0%|          | 0/2565 [00:00<?, ?it/s]"
      ]
     },
     "metadata": {},
     "output_type": "display_data"
    },
    {
     "data": {
      "application/vnd.jupyter.widget-view+json": {
       "model_id": "",
       "version_major": 2,
       "version_minor": 0
      },
      "text/plain": [
       "  0%|          | 0/2565 [00:00<?, ?it/s]"
      ]
     },
     "metadata": {},
     "output_type": "display_data"
    },
    {
     "data": {
      "application/vnd.jupyter.widget-view+json": {
       "model_id": "",
       "version_major": 2,
       "version_minor": 0
      },
      "text/plain": [
       "Removing one at a time:   0%|          | 0/9 [00:00<?, ?it/s]"
      ]
     },
     "metadata": {},
     "output_type": "display_data"
    },
    {
     "data": {
      "application/vnd.jupyter.widget-view+json": {
       "model_id": "",
       "version_major": 2,
       "version_minor": 0
      },
      "text/plain": [
       "  0%|          | 0/2565 [00:00<?, ?it/s]"
      ]
     },
     "metadata": {},
     "output_type": "display_data"
    },
    {
     "data": {
      "application/vnd.jupyter.widget-view+json": {
       "model_id": "",
       "version_major": 2,
       "version_minor": 0
      },
      "text/plain": [
       "  0%|          | 0/2565 [00:00<?, ?it/s]"
      ]
     },
     "metadata": {},
     "output_type": "display_data"
    },
    {
     "data": {
      "application/vnd.jupyter.widget-view+json": {
       "model_id": "",
       "version_major": 2,
       "version_minor": 0
      },
      "text/plain": [
       "  0%|          | 0/2565 [00:00<?, ?it/s]"
      ]
     },
     "metadata": {},
     "output_type": "display_data"
    },
    {
     "data": {
      "application/vnd.jupyter.widget-view+json": {
       "model_id": "",
       "version_major": 2,
       "version_minor": 0
      },
      "text/plain": [
       "  0%|          | 0/2565 [00:00<?, ?it/s]"
      ]
     },
     "metadata": {},
     "output_type": "display_data"
    },
    {
     "data": {
      "application/vnd.jupyter.widget-view+json": {
       "model_id": "",
       "version_major": 2,
       "version_minor": 0
      },
      "text/plain": [
       "  0%|          | 0/2565 [00:00<?, ?it/s]"
      ]
     },
     "metadata": {},
     "output_type": "display_data"
    },
    {
     "data": {
      "application/vnd.jupyter.widget-view+json": {
       "model_id": "",
       "version_major": 2,
       "version_minor": 0
      },
      "text/plain": [
       "  0%|          | 0/2565 [00:00<?, ?it/s]"
      ]
     },
     "metadata": {},
     "output_type": "display_data"
    },
    {
     "data": {
      "application/vnd.jupyter.widget-view+json": {
       "model_id": "",
       "version_major": 2,
       "version_minor": 0
      },
      "text/plain": [
       "  0%|          | 0/2565 [00:00<?, ?it/s]"
      ]
     },
     "metadata": {},
     "output_type": "display_data"
    },
    {
     "data": {
      "application/vnd.jupyter.widget-view+json": {
       "model_id": "",
       "version_major": 2,
       "version_minor": 0
      },
      "text/plain": [
       "  0%|          | 0/2565 [00:00<?, ?it/s]"
      ]
     },
     "metadata": {},
     "output_type": "display_data"
    },
    {
     "data": {
      "application/vnd.jupyter.widget-view+json": {
       "model_id": "",
       "version_major": 2,
       "version_minor": 0
      },
      "text/plain": [
       "  0%|          | 0/2565 [00:00<?, ?it/s]"
      ]
     },
     "metadata": {},
     "output_type": "display_data"
    }
   ],
   "source": [
    "if __name__ == '__main__':\n",
    "    for scenario in tqdm(scenarios, desc='scenario'):\n",
    "        for agent in tqdm(['co2', 'other_ghg', 'other_anthro', 'ch4', 'hfc', 'o3', 'aerosol', 'bc_on_snow', 'slcf'], desc='Removing one at a time', leave=False):\n",
    "            arglist = []\n",
    "            for i in range(len(accept_inds)):\n",
    "                in_forcing = forcing[scenario]['anthro'][:,i] - forcing[scenario][agent][:,i]\n",
    "                arglist.append(\n",
    "                    {\n",
    "                        'in_forcing' : in_forcing,\n",
    "                    }\n",
    "                )\n",
    "\n",
    "            results['%s_remove_%s' % (scenario, agent)] = {}\n",
    "            with Pool(24) as pool:\n",
    "                result = list(tqdm(pool.imap(run_tlm, arglist), total=len(accept_inds), leave=False))\n",
    "            output = np.array(result).T\n",
    "\n",
    "            results['%s_remove_%s' % (scenario, agent)]['effective_radiative_forcing'] = forcing[scenario]['anthro'] - forcing[scenario][agent]\n",
    "            results['%s_remove_%s' % (scenario, agent)]['surface_temperature'] = output"
   ]
  },
  {
   "cell_type": "markdown",
   "metadata": {},
   "source": [
    "## 351-year forcing runs\n",
    "\n",
    "- all anthropogenic forcing\n",
    "- include climate variability"
   ]
  },
  {
   "cell_type": "code",
   "execution_count": 36,
   "metadata": {},
   "outputs": [
    {
     "data": {
      "application/vnd.jupyter.widget-view+json": {
       "model_id": "69a45db7a0d642a1989cc66c0509d2fa",
       "version_major": 2,
       "version_minor": 0
      },
      "text/plain": [
       "scenario:   0%|          | 0/10 [00:00<?, ?it/s]"
      ]
     },
     "metadata": {},
     "output_type": "display_data"
    },
    {
     "data": {
      "application/vnd.jupyter.widget-view+json": {
       "model_id": "",
       "version_major": 2,
       "version_minor": 0
      },
      "text/plain": [
       "  0%|          | 0/2565 [00:00<?, ?it/s]"
      ]
     },
     "metadata": {},
     "output_type": "display_data"
    },
    {
     "data": {
      "application/vnd.jupyter.widget-view+json": {
       "model_id": "",
       "version_major": 2,
       "version_minor": 0
      },
      "text/plain": [
       "  0%|          | 0/2565 [00:00<?, ?it/s]"
      ]
     },
     "metadata": {},
     "output_type": "display_data"
    },
    {
     "data": {
      "application/vnd.jupyter.widget-view+json": {
       "model_id": "",
       "version_major": 2,
       "version_minor": 0
      },
      "text/plain": [
       "  0%|          | 0/2565 [00:00<?, ?it/s]"
      ]
     },
     "metadata": {},
     "output_type": "display_data"
    },
    {
     "data": {
      "application/vnd.jupyter.widget-view+json": {
       "model_id": "",
       "version_major": 2,
       "version_minor": 0
      },
      "text/plain": [
       "  0%|          | 0/2565 [00:00<?, ?it/s]"
      ]
     },
     "metadata": {},
     "output_type": "display_data"
    },
    {
     "data": {
      "application/vnd.jupyter.widget-view+json": {
       "model_id": "",
       "version_major": 2,
       "version_minor": 0
      },
      "text/plain": [
       "  0%|          | 0/2565 [00:00<?, ?it/s]"
      ]
     },
     "metadata": {},
     "output_type": "display_data"
    },
    {
     "data": {
      "application/vnd.jupyter.widget-view+json": {
       "model_id": "",
       "version_major": 2,
       "version_minor": 0
      },
      "text/plain": [
       "  0%|          | 0/2565 [00:00<?, ?it/s]"
      ]
     },
     "metadata": {},
     "output_type": "display_data"
    },
    {
     "data": {
      "application/vnd.jupyter.widget-view+json": {
       "model_id": "",
       "version_major": 2,
       "version_minor": 0
      },
      "text/plain": [
       "  0%|          | 0/2565 [00:00<?, ?it/s]"
      ]
     },
     "metadata": {},
     "output_type": "display_data"
    },
    {
     "data": {
      "application/vnd.jupyter.widget-view+json": {
       "model_id": "",
       "version_major": 2,
       "version_minor": 0
      },
      "text/plain": [
       "  0%|          | 0/2565 [00:00<?, ?it/s]"
      ]
     },
     "metadata": {},
     "output_type": "display_data"
    },
    {
     "data": {
      "application/vnd.jupyter.widget-view+json": {
       "model_id": "",
       "version_major": 2,
       "version_minor": 0
      },
      "text/plain": [
       "  0%|          | 0/2565 [00:00<?, ?it/s]"
      ]
     },
     "metadata": {},
     "output_type": "display_data"
    },
    {
     "data": {
      "application/vnd.jupyter.widget-view+json": {
       "model_id": "",
       "version_major": 2,
       "version_minor": 0
      },
      "text/plain": [
       "  0%|          | 0/2565 [00:00<?, ?it/s]"
      ]
     },
     "metadata": {},
     "output_type": "display_data"
    }
   ],
   "source": [
    "for scenario in tqdm(scenarios, desc='scenario'):\n",
    "    arglist = []\n",
    "\n",
    "    lamg = -geoff_sample_df['lamg'].values\n",
    "    eff = geoff_sample_df['eff'].values\n",
    "    gamma_2l = geoff_sample_df['gamma_2l'].values\n",
    "    cdeep = geoff_sample_df['cdeep'].values\n",
    "    cmix = geoff_sample_df['cmix'].values\n",
    "\n",
    "\n",
    "    for i in range(len(accept_inds)):\n",
    "        arglist.append(\n",
    "            {\n",
    "                'cmix': cmix[i],\n",
    "                'cdeep': cdeep[i],\n",
    "                'gamma_2l': gamma_2l[i],\n",
    "                'lamg': lamg[i],\n",
    "                'eff': eff[i],\n",
    "                'in_forcing' : forcing[scenario]['anthro'][:,i],\n",
    "            }\n",
    "        )\n",
    "\n",
    "    results['%s_climuncert' % scenario] = {}\n",
    "\n",
    "    def run_tlm(args):\n",
    "        in_forcing = args['in_forcing']\n",
    "        driver = TwoLayerModel(\n",
    "            extforce=in_forcing,\n",
    "            exttime=np.arange(1750,2101),\n",
    "            tbeg=1750,\n",
    "            tend=2101,\n",
    "            lamg=args['lamg'],\n",
    "            t2x=None,\n",
    "            eff=args['eff'],\n",
    "            cmix=args['cmix'],\n",
    "            cdeep=args['cdeep'],\n",
    "            gamma_2l=args['gamma_2l'],\n",
    "            outtime=np.arange(1750,2101),\n",
    "            dt=0.2\n",
    "        )\n",
    "        output = driver.run()\n",
    "        return(output.tg)\n",
    "\n",
    "\n",
    "    if __name__ == '__main__':\n",
    "        with Pool(24) as pool:\n",
    "            result = list(tqdm(pool.imap(run_tlm, arglist), total=len(accept_inds), leave=False))\n",
    "        output = np.array(result).T\n",
    "\n",
    "    results['%s_climuncert' % scenario]['effective_radiative_forcing'] = forcing[scenario]['anthro']\n",
    "    results['%s_climuncert' % scenario]['surface_temperature'] = output"
   ]
  },
  {
   "cell_type": "markdown",
   "metadata": {},
   "source": [
    "## Marginal contributions since 1750\n",
    "\n",
    "- forcing and climate variation\n",
    "- include aggregated categories: all WMGHG, all aerosol, all albedo, all anthropogenic, all natural"
   ]
  },
  {
   "cell_type": "code",
   "execution_count": 37,
   "metadata": {
    "scrolled": true
   },
   "outputs": [
    {
     "data": {
      "application/vnd.jupyter.widget-view+json": {
       "model_id": "0f0a4959b8d045c4b5152d05400949b4",
       "version_major": 2,
       "version_minor": 0
      },
      "text/plain": [
       "scenario:   0%|          | 0/10 [00:00<?, ?it/s]"
      ]
     },
     "metadata": {},
     "output_type": "display_data"
    },
    {
     "data": {
      "application/vnd.jupyter.widget-view+json": {
       "model_id": "",
       "version_major": 2,
       "version_minor": 0
      },
      "text/plain": [
       "Removing one at a time:   0%|          | 0/9 [00:00<?, ?it/s]"
      ]
     },
     "metadata": {},
     "output_type": "display_data"
    },
    {
     "data": {
      "application/vnd.jupyter.widget-view+json": {
       "model_id": "",
       "version_major": 2,
       "version_minor": 0
      },
      "text/plain": [
       "  0%|          | 0/2565 [00:00<?, ?it/s]"
      ]
     },
     "metadata": {},
     "output_type": "display_data"
    },
    {
     "data": {
      "application/vnd.jupyter.widget-view+json": {
       "model_id": "",
       "version_major": 2,
       "version_minor": 0
      },
      "text/plain": [
       "  0%|          | 0/2565 [00:00<?, ?it/s]"
      ]
     },
     "metadata": {},
     "output_type": "display_data"
    },
    {
     "data": {
      "application/vnd.jupyter.widget-view+json": {
       "model_id": "",
       "version_major": 2,
       "version_minor": 0
      },
      "text/plain": [
       "  0%|          | 0/2565 [00:00<?, ?it/s]"
      ]
     },
     "metadata": {},
     "output_type": "display_data"
    },
    {
     "data": {
      "application/vnd.jupyter.widget-view+json": {
       "model_id": "",
       "version_major": 2,
       "version_minor": 0
      },
      "text/plain": [
       "  0%|          | 0/2565 [00:00<?, ?it/s]"
      ]
     },
     "metadata": {},
     "output_type": "display_data"
    },
    {
     "data": {
      "application/vnd.jupyter.widget-view+json": {
       "model_id": "",
       "version_major": 2,
       "version_minor": 0
      },
      "text/plain": [
       "  0%|          | 0/2565 [00:00<?, ?it/s]"
      ]
     },
     "metadata": {},
     "output_type": "display_data"
    },
    {
     "data": {
      "application/vnd.jupyter.widget-view+json": {
       "model_id": "",
       "version_major": 2,
       "version_minor": 0
      },
      "text/plain": [
       "  0%|          | 0/2565 [00:00<?, ?it/s]"
      ]
     },
     "metadata": {},
     "output_type": "display_data"
    },
    {
     "data": {
      "application/vnd.jupyter.widget-view+json": {
       "model_id": "",
       "version_major": 2,
       "version_minor": 0
      },
      "text/plain": [
       "  0%|          | 0/2565 [00:00<?, ?it/s]"
      ]
     },
     "metadata": {},
     "output_type": "display_data"
    },
    {
     "data": {
      "application/vnd.jupyter.widget-view+json": {
       "model_id": "",
       "version_major": 2,
       "version_minor": 0
      },
      "text/plain": [
       "  0%|          | 0/2565 [00:00<?, ?it/s]"
      ]
     },
     "metadata": {},
     "output_type": "display_data"
    },
    {
     "data": {
      "application/vnd.jupyter.widget-view+json": {
       "model_id": "",
       "version_major": 2,
       "version_minor": 0
      },
      "text/plain": [
       "  0%|          | 0/2565 [00:00<?, ?it/s]"
      ]
     },
     "metadata": {},
     "output_type": "display_data"
    },
    {
     "data": {
      "application/vnd.jupyter.widget-view+json": {
       "model_id": "",
       "version_major": 2,
       "version_minor": 0
      },
      "text/plain": [
       "Removing one at a time:   0%|          | 0/9 [00:00<?, ?it/s]"
      ]
     },
     "metadata": {},
     "output_type": "display_data"
    },
    {
     "data": {
      "application/vnd.jupyter.widget-view+json": {
       "model_id": "",
       "version_major": 2,
       "version_minor": 0
      },
      "text/plain": [
       "  0%|          | 0/2565 [00:00<?, ?it/s]"
      ]
     },
     "metadata": {},
     "output_type": "display_data"
    },
    {
     "data": {
      "application/vnd.jupyter.widget-view+json": {
       "model_id": "",
       "version_major": 2,
       "version_minor": 0
      },
      "text/plain": [
       "  0%|          | 0/2565 [00:00<?, ?it/s]"
      ]
     },
     "metadata": {},
     "output_type": "display_data"
    },
    {
     "data": {
      "application/vnd.jupyter.widget-view+json": {
       "model_id": "",
       "version_major": 2,
       "version_minor": 0
      },
      "text/plain": [
       "  0%|          | 0/2565 [00:00<?, ?it/s]"
      ]
     },
     "metadata": {},
     "output_type": "display_data"
    },
    {
     "data": {
      "application/vnd.jupyter.widget-view+json": {
       "model_id": "",
       "version_major": 2,
       "version_minor": 0
      },
      "text/plain": [
       "  0%|          | 0/2565 [00:00<?, ?it/s]"
      ]
     },
     "metadata": {},
     "output_type": "display_data"
    },
    {
     "data": {
      "application/vnd.jupyter.widget-view+json": {
       "model_id": "",
       "version_major": 2,
       "version_minor": 0
      },
      "text/plain": [
       "  0%|          | 0/2565 [00:00<?, ?it/s]"
      ]
     },
     "metadata": {},
     "output_type": "display_data"
    },
    {
     "data": {
      "application/vnd.jupyter.widget-view+json": {
       "model_id": "",
       "version_major": 2,
       "version_minor": 0
      },
      "text/plain": [
       "  0%|          | 0/2565 [00:00<?, ?it/s]"
      ]
     },
     "metadata": {},
     "output_type": "display_data"
    },
    {
     "data": {
      "application/vnd.jupyter.widget-view+json": {
       "model_id": "",
       "version_major": 2,
       "version_minor": 0
      },
      "text/plain": [
       "  0%|          | 0/2565 [00:00<?, ?it/s]"
      ]
     },
     "metadata": {},
     "output_type": "display_data"
    },
    {
     "data": {
      "application/vnd.jupyter.widget-view+json": {
       "model_id": "",
       "version_major": 2,
       "version_minor": 0
      },
      "text/plain": [
       "  0%|          | 0/2565 [00:00<?, ?it/s]"
      ]
     },
     "metadata": {},
     "output_type": "display_data"
    },
    {
     "data": {
      "application/vnd.jupyter.widget-view+json": {
       "model_id": "",
       "version_major": 2,
       "version_minor": 0
      },
      "text/plain": [
       "  0%|          | 0/2565 [00:00<?, ?it/s]"
      ]
     },
     "metadata": {},
     "output_type": "display_data"
    },
    {
     "data": {
      "application/vnd.jupyter.widget-view+json": {
       "model_id": "",
       "version_major": 2,
       "version_minor": 0
      },
      "text/plain": [
       "Removing one at a time:   0%|          | 0/9 [00:00<?, ?it/s]"
      ]
     },
     "metadata": {},
     "output_type": "display_data"
    },
    {
     "data": {
      "application/vnd.jupyter.widget-view+json": {
       "model_id": "",
       "version_major": 2,
       "version_minor": 0
      },
      "text/plain": [
       "  0%|          | 0/2565 [00:00<?, ?it/s]"
      ]
     },
     "metadata": {},
     "output_type": "display_data"
    },
    {
     "data": {
      "application/vnd.jupyter.widget-view+json": {
       "model_id": "",
       "version_major": 2,
       "version_minor": 0
      },
      "text/plain": [
       "  0%|          | 0/2565 [00:00<?, ?it/s]"
      ]
     },
     "metadata": {},
     "output_type": "display_data"
    },
    {
     "data": {
      "application/vnd.jupyter.widget-view+json": {
       "model_id": "",
       "version_major": 2,
       "version_minor": 0
      },
      "text/plain": [
       "  0%|          | 0/2565 [00:00<?, ?it/s]"
      ]
     },
     "metadata": {},
     "output_type": "display_data"
    },
    {
     "data": {
      "application/vnd.jupyter.widget-view+json": {
       "model_id": "",
       "version_major": 2,
       "version_minor": 0
      },
      "text/plain": [
       "  0%|          | 0/2565 [00:00<?, ?it/s]"
      ]
     },
     "metadata": {},
     "output_type": "display_data"
    },
    {
     "data": {
      "application/vnd.jupyter.widget-view+json": {
       "model_id": "",
       "version_major": 2,
       "version_minor": 0
      },
      "text/plain": [
       "  0%|          | 0/2565 [00:00<?, ?it/s]"
      ]
     },
     "metadata": {},
     "output_type": "display_data"
    },
    {
     "data": {
      "application/vnd.jupyter.widget-view+json": {
       "model_id": "",
       "version_major": 2,
       "version_minor": 0
      },
      "text/plain": [
       "  0%|          | 0/2565 [00:00<?, ?it/s]"
      ]
     },
     "metadata": {},
     "output_type": "display_data"
    },
    {
     "data": {
      "application/vnd.jupyter.widget-view+json": {
       "model_id": "",
       "version_major": 2,
       "version_minor": 0
      },
      "text/plain": [
       "  0%|          | 0/2565 [00:00<?, ?it/s]"
      ]
     },
     "metadata": {},
     "output_type": "display_data"
    },
    {
     "data": {
      "application/vnd.jupyter.widget-view+json": {
       "model_id": "",
       "version_major": 2,
       "version_minor": 0
      },
      "text/plain": [
       "  0%|          | 0/2565 [00:00<?, ?it/s]"
      ]
     },
     "metadata": {},
     "output_type": "display_data"
    },
    {
     "data": {
      "application/vnd.jupyter.widget-view+json": {
       "model_id": "",
       "version_major": 2,
       "version_minor": 0
      },
      "text/plain": [
       "  0%|          | 0/2565 [00:00<?, ?it/s]"
      ]
     },
     "metadata": {},
     "output_type": "display_data"
    },
    {
     "data": {
      "application/vnd.jupyter.widget-view+json": {
       "model_id": "",
       "version_major": 2,
       "version_minor": 0
      },
      "text/plain": [
       "Removing one at a time:   0%|          | 0/9 [00:00<?, ?it/s]"
      ]
     },
     "metadata": {},
     "output_type": "display_data"
    },
    {
     "data": {
      "application/vnd.jupyter.widget-view+json": {
       "model_id": "",
       "version_major": 2,
       "version_minor": 0
      },
      "text/plain": [
       "  0%|          | 0/2565 [00:00<?, ?it/s]"
      ]
     },
     "metadata": {},
     "output_type": "display_data"
    },
    {
     "data": {
      "application/vnd.jupyter.widget-view+json": {
       "model_id": "",
       "version_major": 2,
       "version_minor": 0
      },
      "text/plain": [
       "  0%|          | 0/2565 [00:00<?, ?it/s]"
      ]
     },
     "metadata": {},
     "output_type": "display_data"
    },
    {
     "data": {
      "application/vnd.jupyter.widget-view+json": {
       "model_id": "",
       "version_major": 2,
       "version_minor": 0
      },
      "text/plain": [
       "  0%|          | 0/2565 [00:00<?, ?it/s]"
      ]
     },
     "metadata": {},
     "output_type": "display_data"
    },
    {
     "data": {
      "application/vnd.jupyter.widget-view+json": {
       "model_id": "",
       "version_major": 2,
       "version_minor": 0
      },
      "text/plain": [
       "  0%|          | 0/2565 [00:00<?, ?it/s]"
      ]
     },
     "metadata": {},
     "output_type": "display_data"
    },
    {
     "data": {
      "application/vnd.jupyter.widget-view+json": {
       "model_id": "",
       "version_major": 2,
       "version_minor": 0
      },
      "text/plain": [
       "  0%|          | 0/2565 [00:00<?, ?it/s]"
      ]
     },
     "metadata": {},
     "output_type": "display_data"
    },
    {
     "data": {
      "application/vnd.jupyter.widget-view+json": {
       "model_id": "",
       "version_major": 2,
       "version_minor": 0
      },
      "text/plain": [
       "  0%|          | 0/2565 [00:00<?, ?it/s]"
      ]
     },
     "metadata": {},
     "output_type": "display_data"
    },
    {
     "data": {
      "application/vnd.jupyter.widget-view+json": {
       "model_id": "",
       "version_major": 2,
       "version_minor": 0
      },
      "text/plain": [
       "  0%|          | 0/2565 [00:00<?, ?it/s]"
      ]
     },
     "metadata": {},
     "output_type": "display_data"
    },
    {
     "data": {
      "application/vnd.jupyter.widget-view+json": {
       "model_id": "",
       "version_major": 2,
       "version_minor": 0
      },
      "text/plain": [
       "  0%|          | 0/2565 [00:00<?, ?it/s]"
      ]
     },
     "metadata": {},
     "output_type": "display_data"
    },
    {
     "data": {
      "application/vnd.jupyter.widget-view+json": {
       "model_id": "",
       "version_major": 2,
       "version_minor": 0
      },
      "text/plain": [
       "  0%|          | 0/2565 [00:00<?, ?it/s]"
      ]
     },
     "metadata": {},
     "output_type": "display_data"
    },
    {
     "data": {
      "application/vnd.jupyter.widget-view+json": {
       "model_id": "",
       "version_major": 2,
       "version_minor": 0
      },
      "text/plain": [
       "Removing one at a time:   0%|          | 0/9 [00:00<?, ?it/s]"
      ]
     },
     "metadata": {},
     "output_type": "display_data"
    },
    {
     "data": {
      "application/vnd.jupyter.widget-view+json": {
       "model_id": "",
       "version_major": 2,
       "version_minor": 0
      },
      "text/plain": [
       "  0%|          | 0/2565 [00:00<?, ?it/s]"
      ]
     },
     "metadata": {},
     "output_type": "display_data"
    },
    {
     "data": {
      "application/vnd.jupyter.widget-view+json": {
       "model_id": "",
       "version_major": 2,
       "version_minor": 0
      },
      "text/plain": [
       "  0%|          | 0/2565 [00:00<?, ?it/s]"
      ]
     },
     "metadata": {},
     "output_type": "display_data"
    },
    {
     "data": {
      "application/vnd.jupyter.widget-view+json": {
       "model_id": "",
       "version_major": 2,
       "version_minor": 0
      },
      "text/plain": [
       "  0%|          | 0/2565 [00:00<?, ?it/s]"
      ]
     },
     "metadata": {},
     "output_type": "display_data"
    },
    {
     "data": {
      "application/vnd.jupyter.widget-view+json": {
       "model_id": "",
       "version_major": 2,
       "version_minor": 0
      },
      "text/plain": [
       "  0%|          | 0/2565 [00:00<?, ?it/s]"
      ]
     },
     "metadata": {},
     "output_type": "display_data"
    },
    {
     "data": {
      "application/vnd.jupyter.widget-view+json": {
       "model_id": "",
       "version_major": 2,
       "version_minor": 0
      },
      "text/plain": [
       "  0%|          | 0/2565 [00:00<?, ?it/s]"
      ]
     },
     "metadata": {},
     "output_type": "display_data"
    },
    {
     "data": {
      "application/vnd.jupyter.widget-view+json": {
       "model_id": "",
       "version_major": 2,
       "version_minor": 0
      },
      "text/plain": [
       "  0%|          | 0/2565 [00:00<?, ?it/s]"
      ]
     },
     "metadata": {},
     "output_type": "display_data"
    },
    {
     "data": {
      "application/vnd.jupyter.widget-view+json": {
       "model_id": "",
       "version_major": 2,
       "version_minor": 0
      },
      "text/plain": [
       "  0%|          | 0/2565 [00:00<?, ?it/s]"
      ]
     },
     "metadata": {},
     "output_type": "display_data"
    },
    {
     "data": {
      "application/vnd.jupyter.widget-view+json": {
       "model_id": "",
       "version_major": 2,
       "version_minor": 0
      },
      "text/plain": [
       "  0%|          | 0/2565 [00:00<?, ?it/s]"
      ]
     },
     "metadata": {},
     "output_type": "display_data"
    },
    {
     "data": {
      "application/vnd.jupyter.widget-view+json": {
       "model_id": "",
       "version_major": 2,
       "version_minor": 0
      },
      "text/plain": [
       "  0%|          | 0/2565 [00:00<?, ?it/s]"
      ]
     },
     "metadata": {},
     "output_type": "display_data"
    },
    {
     "data": {
      "application/vnd.jupyter.widget-view+json": {
       "model_id": "",
       "version_major": 2,
       "version_minor": 0
      },
      "text/plain": [
       "Removing one at a time:   0%|          | 0/9 [00:00<?, ?it/s]"
      ]
     },
     "metadata": {},
     "output_type": "display_data"
    },
    {
     "data": {
      "application/vnd.jupyter.widget-view+json": {
       "model_id": "",
       "version_major": 2,
       "version_minor": 0
      },
      "text/plain": [
       "  0%|          | 0/2565 [00:00<?, ?it/s]"
      ]
     },
     "metadata": {},
     "output_type": "display_data"
    },
    {
     "data": {
      "application/vnd.jupyter.widget-view+json": {
       "model_id": "",
       "version_major": 2,
       "version_minor": 0
      },
      "text/plain": [
       "  0%|          | 0/2565 [00:00<?, ?it/s]"
      ]
     },
     "metadata": {},
     "output_type": "display_data"
    },
    {
     "data": {
      "application/vnd.jupyter.widget-view+json": {
       "model_id": "",
       "version_major": 2,
       "version_minor": 0
      },
      "text/plain": [
       "  0%|          | 0/2565 [00:00<?, ?it/s]"
      ]
     },
     "metadata": {},
     "output_type": "display_data"
    },
    {
     "data": {
      "application/vnd.jupyter.widget-view+json": {
       "model_id": "",
       "version_major": 2,
       "version_minor": 0
      },
      "text/plain": [
       "  0%|          | 0/2565 [00:00<?, ?it/s]"
      ]
     },
     "metadata": {},
     "output_type": "display_data"
    },
    {
     "data": {
      "application/vnd.jupyter.widget-view+json": {
       "model_id": "",
       "version_major": 2,
       "version_minor": 0
      },
      "text/plain": [
       "  0%|          | 0/2565 [00:00<?, ?it/s]"
      ]
     },
     "metadata": {},
     "output_type": "display_data"
    },
    {
     "data": {
      "application/vnd.jupyter.widget-view+json": {
       "model_id": "",
       "version_major": 2,
       "version_minor": 0
      },
      "text/plain": [
       "  0%|          | 0/2565 [00:00<?, ?it/s]"
      ]
     },
     "metadata": {},
     "output_type": "display_data"
    },
    {
     "data": {
      "application/vnd.jupyter.widget-view+json": {
       "model_id": "",
       "version_major": 2,
       "version_minor": 0
      },
      "text/plain": [
       "  0%|          | 0/2565 [00:00<?, ?it/s]"
      ]
     },
     "metadata": {},
     "output_type": "display_data"
    },
    {
     "data": {
      "application/vnd.jupyter.widget-view+json": {
       "model_id": "",
       "version_major": 2,
       "version_minor": 0
      },
      "text/plain": [
       "  0%|          | 0/2565 [00:00<?, ?it/s]"
      ]
     },
     "metadata": {},
     "output_type": "display_data"
    },
    {
     "data": {
      "application/vnd.jupyter.widget-view+json": {
       "model_id": "",
       "version_major": 2,
       "version_minor": 0
      },
      "text/plain": [
       "  0%|          | 0/2565 [00:00<?, ?it/s]"
      ]
     },
     "metadata": {},
     "output_type": "display_data"
    },
    {
     "data": {
      "application/vnd.jupyter.widget-view+json": {
       "model_id": "",
       "version_major": 2,
       "version_minor": 0
      },
      "text/plain": [
       "Removing one at a time:   0%|          | 0/9 [00:00<?, ?it/s]"
      ]
     },
     "metadata": {},
     "output_type": "display_data"
    },
    {
     "data": {
      "application/vnd.jupyter.widget-view+json": {
       "model_id": "",
       "version_major": 2,
       "version_minor": 0
      },
      "text/plain": [
       "  0%|          | 0/2565 [00:00<?, ?it/s]"
      ]
     },
     "metadata": {},
     "output_type": "display_data"
    },
    {
     "data": {
      "application/vnd.jupyter.widget-view+json": {
       "model_id": "",
       "version_major": 2,
       "version_minor": 0
      },
      "text/plain": [
       "  0%|          | 0/2565 [00:00<?, ?it/s]"
      ]
     },
     "metadata": {},
     "output_type": "display_data"
    },
    {
     "data": {
      "application/vnd.jupyter.widget-view+json": {
       "model_id": "",
       "version_major": 2,
       "version_minor": 0
      },
      "text/plain": [
       "  0%|          | 0/2565 [00:00<?, ?it/s]"
      ]
     },
     "metadata": {},
     "output_type": "display_data"
    },
    {
     "data": {
      "application/vnd.jupyter.widget-view+json": {
       "model_id": "",
       "version_major": 2,
       "version_minor": 0
      },
      "text/plain": [
       "  0%|          | 0/2565 [00:00<?, ?it/s]"
      ]
     },
     "metadata": {},
     "output_type": "display_data"
    },
    {
     "data": {
      "application/vnd.jupyter.widget-view+json": {
       "model_id": "",
       "version_major": 2,
       "version_minor": 0
      },
      "text/plain": [
       "  0%|          | 0/2565 [00:00<?, ?it/s]"
      ]
     },
     "metadata": {},
     "output_type": "display_data"
    },
    {
     "data": {
      "application/vnd.jupyter.widget-view+json": {
       "model_id": "",
       "version_major": 2,
       "version_minor": 0
      },
      "text/plain": [
       "  0%|          | 0/2565 [00:00<?, ?it/s]"
      ]
     },
     "metadata": {},
     "output_type": "display_data"
    },
    {
     "data": {
      "application/vnd.jupyter.widget-view+json": {
       "model_id": "",
       "version_major": 2,
       "version_minor": 0
      },
      "text/plain": [
       "  0%|          | 0/2565 [00:00<?, ?it/s]"
      ]
     },
     "metadata": {},
     "output_type": "display_data"
    },
    {
     "data": {
      "application/vnd.jupyter.widget-view+json": {
       "model_id": "",
       "version_major": 2,
       "version_minor": 0
      },
      "text/plain": [
       "  0%|          | 0/2565 [00:00<?, ?it/s]"
      ]
     },
     "metadata": {},
     "output_type": "display_data"
    },
    {
     "data": {
      "application/vnd.jupyter.widget-view+json": {
       "model_id": "",
       "version_major": 2,
       "version_minor": 0
      },
      "text/plain": [
       "  0%|          | 0/2565 [00:00<?, ?it/s]"
      ]
     },
     "metadata": {},
     "output_type": "display_data"
    },
    {
     "data": {
      "application/vnd.jupyter.widget-view+json": {
       "model_id": "",
       "version_major": 2,
       "version_minor": 0
      },
      "text/plain": [
       "Removing one at a time:   0%|          | 0/9 [00:00<?, ?it/s]"
      ]
     },
     "metadata": {},
     "output_type": "display_data"
    },
    {
     "data": {
      "application/vnd.jupyter.widget-view+json": {
       "model_id": "",
       "version_major": 2,
       "version_minor": 0
      },
      "text/plain": [
       "  0%|          | 0/2565 [00:00<?, ?it/s]"
      ]
     },
     "metadata": {},
     "output_type": "display_data"
    },
    {
     "data": {
      "application/vnd.jupyter.widget-view+json": {
       "model_id": "",
       "version_major": 2,
       "version_minor": 0
      },
      "text/plain": [
       "  0%|          | 0/2565 [00:00<?, ?it/s]"
      ]
     },
     "metadata": {},
     "output_type": "display_data"
    },
    {
     "data": {
      "application/vnd.jupyter.widget-view+json": {
       "model_id": "",
       "version_major": 2,
       "version_minor": 0
      },
      "text/plain": [
       "  0%|          | 0/2565 [00:00<?, ?it/s]"
      ]
     },
     "metadata": {},
     "output_type": "display_data"
    },
    {
     "data": {
      "application/vnd.jupyter.widget-view+json": {
       "model_id": "",
       "version_major": 2,
       "version_minor": 0
      },
      "text/plain": [
       "  0%|          | 0/2565 [00:00<?, ?it/s]"
      ]
     },
     "metadata": {},
     "output_type": "display_data"
    },
    {
     "data": {
      "application/vnd.jupyter.widget-view+json": {
       "model_id": "",
       "version_major": 2,
       "version_minor": 0
      },
      "text/plain": [
       "  0%|          | 0/2565 [00:00<?, ?it/s]"
      ]
     },
     "metadata": {},
     "output_type": "display_data"
    },
    {
     "data": {
      "application/vnd.jupyter.widget-view+json": {
       "model_id": "",
       "version_major": 2,
       "version_minor": 0
      },
      "text/plain": [
       "  0%|          | 0/2565 [00:00<?, ?it/s]"
      ]
     },
     "metadata": {},
     "output_type": "display_data"
    },
    {
     "data": {
      "application/vnd.jupyter.widget-view+json": {
       "model_id": "",
       "version_major": 2,
       "version_minor": 0
      },
      "text/plain": [
       "  0%|          | 0/2565 [00:00<?, ?it/s]"
      ]
     },
     "metadata": {},
     "output_type": "display_data"
    },
    {
     "data": {
      "application/vnd.jupyter.widget-view+json": {
       "model_id": "",
       "version_major": 2,
       "version_minor": 0
      },
      "text/plain": [
       "  0%|          | 0/2565 [00:00<?, ?it/s]"
      ]
     },
     "metadata": {},
     "output_type": "display_data"
    },
    {
     "data": {
      "application/vnd.jupyter.widget-view+json": {
       "model_id": "",
       "version_major": 2,
       "version_minor": 0
      },
      "text/plain": [
       "  0%|          | 0/2565 [00:00<?, ?it/s]"
      ]
     },
     "metadata": {},
     "output_type": "display_data"
    },
    {
     "data": {
      "application/vnd.jupyter.widget-view+json": {
       "model_id": "",
       "version_major": 2,
       "version_minor": 0
      },
      "text/plain": [
       "Removing one at a time:   0%|          | 0/9 [00:00<?, ?it/s]"
      ]
     },
     "metadata": {},
     "output_type": "display_data"
    },
    {
     "data": {
      "application/vnd.jupyter.widget-view+json": {
       "model_id": "",
       "version_major": 2,
       "version_minor": 0
      },
      "text/plain": [
       "  0%|          | 0/2565 [00:00<?, ?it/s]"
      ]
     },
     "metadata": {},
     "output_type": "display_data"
    },
    {
     "data": {
      "application/vnd.jupyter.widget-view+json": {
       "model_id": "",
       "version_major": 2,
       "version_minor": 0
      },
      "text/plain": [
       "  0%|          | 0/2565 [00:00<?, ?it/s]"
      ]
     },
     "metadata": {},
     "output_type": "display_data"
    },
    {
     "data": {
      "application/vnd.jupyter.widget-view+json": {
       "model_id": "",
       "version_major": 2,
       "version_minor": 0
      },
      "text/plain": [
       "  0%|          | 0/2565 [00:00<?, ?it/s]"
      ]
     },
     "metadata": {},
     "output_type": "display_data"
    },
    {
     "data": {
      "application/vnd.jupyter.widget-view+json": {
       "model_id": "",
       "version_major": 2,
       "version_minor": 0
      },
      "text/plain": [
       "  0%|          | 0/2565 [00:00<?, ?it/s]"
      ]
     },
     "metadata": {},
     "output_type": "display_data"
    },
    {
     "data": {
      "application/vnd.jupyter.widget-view+json": {
       "model_id": "",
       "version_major": 2,
       "version_minor": 0
      },
      "text/plain": [
       "  0%|          | 0/2565 [00:00<?, ?it/s]"
      ]
     },
     "metadata": {},
     "output_type": "display_data"
    },
    {
     "data": {
      "application/vnd.jupyter.widget-view+json": {
       "model_id": "",
       "version_major": 2,
       "version_minor": 0
      },
      "text/plain": [
       "  0%|          | 0/2565 [00:00<?, ?it/s]"
      ]
     },
     "metadata": {},
     "output_type": "display_data"
    },
    {
     "data": {
      "application/vnd.jupyter.widget-view+json": {
       "model_id": "",
       "version_major": 2,
       "version_minor": 0
      },
      "text/plain": [
       "  0%|          | 0/2565 [00:00<?, ?it/s]"
      ]
     },
     "metadata": {},
     "output_type": "display_data"
    },
    {
     "data": {
      "application/vnd.jupyter.widget-view+json": {
       "model_id": "",
       "version_major": 2,
       "version_minor": 0
      },
      "text/plain": [
       "  0%|          | 0/2565 [00:00<?, ?it/s]"
      ]
     },
     "metadata": {},
     "output_type": "display_data"
    },
    {
     "data": {
      "application/vnd.jupyter.widget-view+json": {
       "model_id": "",
       "version_major": 2,
       "version_minor": 0
      },
      "text/plain": [
       "  0%|          | 0/2565 [00:00<?, ?it/s]"
      ]
     },
     "metadata": {},
     "output_type": "display_data"
    },
    {
     "data": {
      "application/vnd.jupyter.widget-view+json": {
       "model_id": "",
       "version_major": 2,
       "version_minor": 0
      },
      "text/plain": [
       "Removing one at a time:   0%|          | 0/9 [00:00<?, ?it/s]"
      ]
     },
     "metadata": {},
     "output_type": "display_data"
    },
    {
     "data": {
      "application/vnd.jupyter.widget-view+json": {
       "model_id": "",
       "version_major": 2,
       "version_minor": 0
      },
      "text/plain": [
       "  0%|          | 0/2565 [00:00<?, ?it/s]"
      ]
     },
     "metadata": {},
     "output_type": "display_data"
    },
    {
     "data": {
      "application/vnd.jupyter.widget-view+json": {
       "model_id": "",
       "version_major": 2,
       "version_minor": 0
      },
      "text/plain": [
       "  0%|          | 0/2565 [00:00<?, ?it/s]"
      ]
     },
     "metadata": {},
     "output_type": "display_data"
    },
    {
     "data": {
      "application/vnd.jupyter.widget-view+json": {
       "model_id": "",
       "version_major": 2,
       "version_minor": 0
      },
      "text/plain": [
       "  0%|          | 0/2565 [00:00<?, ?it/s]"
      ]
     },
     "metadata": {},
     "output_type": "display_data"
    },
    {
     "data": {
      "application/vnd.jupyter.widget-view+json": {
       "model_id": "",
       "version_major": 2,
       "version_minor": 0
      },
      "text/plain": [
       "  0%|          | 0/2565 [00:00<?, ?it/s]"
      ]
     },
     "metadata": {},
     "output_type": "display_data"
    },
    {
     "data": {
      "application/vnd.jupyter.widget-view+json": {
       "model_id": "",
       "version_major": 2,
       "version_minor": 0
      },
      "text/plain": [
       "  0%|          | 0/2565 [00:00<?, ?it/s]"
      ]
     },
     "metadata": {},
     "output_type": "display_data"
    },
    {
     "data": {
      "application/vnd.jupyter.widget-view+json": {
       "model_id": "",
       "version_major": 2,
       "version_minor": 0
      },
      "text/plain": [
       "  0%|          | 0/2565 [00:00<?, ?it/s]"
      ]
     },
     "metadata": {},
     "output_type": "display_data"
    },
    {
     "data": {
      "application/vnd.jupyter.widget-view+json": {
       "model_id": "",
       "version_major": 2,
       "version_minor": 0
      },
      "text/plain": [
       "  0%|          | 0/2565 [00:00<?, ?it/s]"
      ]
     },
     "metadata": {},
     "output_type": "display_data"
    },
    {
     "data": {
      "application/vnd.jupyter.widget-view+json": {
       "model_id": "",
       "version_major": 2,
       "version_minor": 0
      },
      "text/plain": [
       "  0%|          | 0/2565 [00:00<?, ?it/s]"
      ]
     },
     "metadata": {},
     "output_type": "display_data"
    },
    {
     "data": {
      "application/vnd.jupyter.widget-view+json": {
       "model_id": "",
       "version_major": 2,
       "version_minor": 0
      },
      "text/plain": [
       "  0%|          | 0/2565 [00:00<?, ?it/s]"
      ]
     },
     "metadata": {},
     "output_type": "display_data"
    }
   ],
   "source": [
    "if __name__ == '__main__':\n",
    "    for scenario in tqdm(scenarios, desc='scenario'):\n",
    "        for agent in tqdm(['co2', 'other_ghg', 'other_anthro', 'ch4', 'hfc', 'o3', 'aerosol', 'bc_on_snow', 'slcf'], desc='Removing one at a time', leave=False):\n",
    "            arglist = []\n",
    "            for i in range(len(accept_inds)):\n",
    "                in_forcing = forcing[scenario]['anthro'][:,i] - forcing[scenario][agent][:,i]\n",
    "                arglist.append(\n",
    "                    {\n",
    "                        'in_forcing' : in_forcing,\n",
    "                        'cmix': cmix[i],\n",
    "                        'cdeep': cdeep[i],\n",
    "                        'gamma_2l': gamma_2l[i],\n",
    "                        'lamg': lamg[i],\n",
    "                        'eff': eff[i],\n",
    "                    }\n",
    "                )\n",
    "            output = []\n",
    "            results['%s_remove_%s_climuncert' % (scenario, agent)] = {}\n",
    "            with Pool(24) as pool:\n",
    "                result = list(tqdm(pool.imap(run_tlm, arglist), total=len(accept_inds), leave=False))\n",
    "            output = np.array(result).T\n",
    "\n",
    "            results['%s_remove_%s_climuncert' % (scenario, agent)]['effective_radiative_forcing'] = forcing[scenario]['anthro'] - forcing[scenario][agent]\n",
    "            results['%s_remove_%s_climuncert' % (scenario, agent)]['surface_temperature'] = output"
   ]
  },
  {
   "cell_type": "code",
   "execution_count": 38,
   "metadata": {},
   "outputs": [],
   "source": [
    "save_dict_to_hdf5(results, '../data_output_large/twolayer_SSPs.h5')"
   ]
  },
  {
   "cell_type": "code",
   "execution_count": 47,
   "metadata": {},
   "outputs": [
    {
     "name": "stdout",
     "output_type": "stream",
     "text": [
      "ssp119 (351, 2565)\n",
      "ssp126 (351, 2565)\n",
      "ssp245 (351, 2565)\n",
      "ssp370 (351, 2565)\n",
      "ssp370-lowNTCF-aerchemmip (351, 2565)\n",
      "ssp370-lowNTCF-gidden (351, 2565)\n",
      "ssp434 (351, 2565)\n",
      "ssp460 (351, 2565)\n",
      "ssp534-over (351, 2565)\n",
      "ssp585 (351, 2565)\n",
      "ssp119_remove_co2 (351, 2565)\n",
      "ssp119_remove_other_ghg (351, 2565)\n",
      "ssp119_remove_other_anthro (351, 2565)\n",
      "ssp119_remove_ch4 (351, 2565)\n",
      "ssp119_remove_hfc (351, 2565)\n",
      "ssp119_remove_o3 (351, 2565)\n",
      "ssp119_remove_aerosol (351, 2565)\n",
      "ssp119_remove_bc_on_snow (351, 2565)\n",
      "ssp119_remove_slcf (351, 2565)\n",
      "ssp126_remove_co2 (351, 2565)\n",
      "ssp126_remove_other_ghg (351, 2565)\n",
      "ssp126_remove_other_anthro (351, 2565)\n",
      "ssp126_remove_ch4 (351, 2565)\n",
      "ssp126_remove_hfc (351, 2565)\n",
      "ssp126_remove_o3 (351, 2565)\n",
      "ssp126_remove_aerosol (351, 2565)\n",
      "ssp126_remove_bc_on_snow (351, 2565)\n",
      "ssp126_remove_slcf (351, 2565)\n",
      "ssp245_remove_co2 (351, 2565)\n",
      "ssp245_remove_other_ghg (351, 2565)\n",
      "ssp245_remove_other_anthro (351, 2565)\n",
      "ssp245_remove_ch4 (351, 2565)\n",
      "ssp245_remove_hfc (351, 2565)\n",
      "ssp245_remove_o3 (351, 2565)\n",
      "ssp245_remove_aerosol (351, 2565)\n",
      "ssp245_remove_bc_on_snow (351, 2565)\n",
      "ssp245_remove_slcf (351, 2565)\n",
      "ssp370_remove_co2 (351, 2565)\n",
      "ssp370_remove_other_ghg (351, 2565)\n",
      "ssp370_remove_other_anthro (351, 2565)\n",
      "ssp370_remove_ch4 (351, 2565)\n",
      "ssp370_remove_hfc (351, 2565)\n",
      "ssp370_remove_o3 (351, 2565)\n",
      "ssp370_remove_aerosol (351, 2565)\n",
      "ssp370_remove_bc_on_snow (351, 2565)\n",
      "ssp370_remove_slcf (351, 2565)\n",
      "ssp370-lowNTCF-aerchemmip_remove_co2 (351, 2565)\n",
      "ssp370-lowNTCF-aerchemmip_remove_other_ghg (351, 2565)\n",
      "ssp370-lowNTCF-aerchemmip_remove_other_anthro (351, 2565)\n",
      "ssp370-lowNTCF-aerchemmip_remove_ch4 (351, 2565)\n",
      "ssp370-lowNTCF-aerchemmip_remove_hfc (351, 2565)\n",
      "ssp370-lowNTCF-aerchemmip_remove_o3 (351, 2565)\n",
      "ssp370-lowNTCF-aerchemmip_remove_aerosol (351, 2565)\n",
      "ssp370-lowNTCF-aerchemmip_remove_bc_on_snow (351, 2565)\n",
      "ssp370-lowNTCF-aerchemmip_remove_slcf (351, 2565)\n",
      "ssp370-lowNTCF-gidden_remove_co2 (351, 2565)\n",
      "ssp370-lowNTCF-gidden_remove_other_ghg (351, 2565)\n",
      "ssp370-lowNTCF-gidden_remove_other_anthro (351, 2565)\n",
      "ssp370-lowNTCF-gidden_remove_ch4 (351, 2565)\n",
      "ssp370-lowNTCF-gidden_remove_hfc (351, 2565)\n",
      "ssp370-lowNTCF-gidden_remove_o3 (351, 2565)\n",
      "ssp370-lowNTCF-gidden_remove_aerosol (351, 2565)\n",
      "ssp370-lowNTCF-gidden_remove_bc_on_snow (351, 2565)\n",
      "ssp370-lowNTCF-gidden_remove_slcf (351, 2565)\n",
      "ssp434_remove_co2 (351, 2565)\n",
      "ssp434_remove_other_ghg (351, 2565)\n",
      "ssp434_remove_other_anthro (351, 2565)\n",
      "ssp434_remove_ch4 (351, 2565)\n",
      "ssp434_remove_hfc (351, 2565)\n",
      "ssp434_remove_o3 (351, 2565)\n",
      "ssp434_remove_aerosol (351, 2565)\n",
      "ssp434_remove_bc_on_snow (351, 2565)\n",
      "ssp434_remove_slcf (351, 2565)\n",
      "ssp460_remove_co2 (351, 2565)\n",
      "ssp460_remove_other_ghg (351, 2565)\n",
      "ssp460_remove_other_anthro (351, 2565)\n",
      "ssp460_remove_ch4 (351, 2565)\n",
      "ssp460_remove_hfc (351, 2565)\n",
      "ssp460_remove_o3 (351, 2565)\n",
      "ssp460_remove_aerosol (351, 2565)\n",
      "ssp460_remove_bc_on_snow (351, 2565)\n",
      "ssp460_remove_slcf (351, 2565)\n",
      "ssp534-over_remove_co2 (351, 2565)\n",
      "ssp534-over_remove_other_ghg (351, 2565)\n",
      "ssp534-over_remove_other_anthro (351, 2565)\n",
      "ssp534-over_remove_ch4 (351, 2565)\n",
      "ssp534-over_remove_hfc (351, 2565)\n",
      "ssp534-over_remove_o3 (351, 2565)\n",
      "ssp534-over_remove_aerosol (351, 2565)\n",
      "ssp534-over_remove_bc_on_snow (351, 2565)\n",
      "ssp534-over_remove_slcf (351, 2565)\n",
      "ssp585_remove_co2 (351, 2565)\n",
      "ssp585_remove_other_ghg (351, 2565)\n",
      "ssp585_remove_other_anthro (351, 2565)\n",
      "ssp585_remove_ch4 (351, 2565)\n",
      "ssp585_remove_hfc (351, 2565)\n",
      "ssp585_remove_o3 (351, 2565)\n",
      "ssp585_remove_aerosol (351, 2565)\n",
      "ssp585_remove_bc_on_snow (351, 2565)\n",
      "ssp585_remove_slcf (351, 2565)\n",
      "ssp119_climuncert (351, 2565)\n",
      "ssp126_climuncert (351, 2565)\n",
      "ssp245_climuncert (351, 2565)\n",
      "ssp370_climuncert (351, 2565)\n",
      "ssp370-lowNTCF-aerchemmip_climuncert (351, 2565)\n",
      "ssp370-lowNTCF-gidden_climuncert (351, 2565)\n",
      "ssp434_climuncert (351, 2565)\n",
      "ssp460_climuncert (351, 2565)\n",
      "ssp534-over_climuncert (351, 2565)\n",
      "ssp585_climuncert (351, 2565)\n",
      "ssp119_remove_co2_climuncert (351, 2565)\n",
      "ssp119_remove_other_ghg_climuncert (351, 2565)\n",
      "ssp119_remove_other_anthro_climuncert (351, 2565)\n",
      "ssp119_remove_ch4_climuncert (351, 2565)\n",
      "ssp119_remove_hfc_climuncert (351, 2565)\n",
      "ssp119_remove_o3_climuncert (351, 2565)\n",
      "ssp119_remove_aerosol_climuncert (351, 2565)\n",
      "ssp119_remove_bc_on_snow_climuncert (351, 2565)\n",
      "ssp119_remove_slcf_climuncert (351, 2565)\n",
      "ssp126_remove_co2_climuncert (351, 2565)\n",
      "ssp126_remove_other_ghg_climuncert (351, 2565)\n",
      "ssp126_remove_other_anthro_climuncert (351, 2565)\n",
      "ssp126_remove_ch4_climuncert (351, 2565)\n",
      "ssp126_remove_hfc_climuncert (351, 2565)\n",
      "ssp126_remove_o3_climuncert (351, 2565)\n",
      "ssp126_remove_aerosol_climuncert (351, 2565)\n",
      "ssp126_remove_bc_on_snow_climuncert (351, 2565)\n",
      "ssp126_remove_slcf_climuncert (351, 2565)\n",
      "ssp245_remove_co2_climuncert (351, 2565)\n",
      "ssp245_remove_other_ghg_climuncert (351, 2565)\n",
      "ssp245_remove_other_anthro_climuncert (351, 2565)\n",
      "ssp245_remove_ch4_climuncert (351, 2565)\n",
      "ssp245_remove_hfc_climuncert (351, 2565)\n",
      "ssp245_remove_o3_climuncert (351, 2565)\n",
      "ssp245_remove_aerosol_climuncert (351, 2565)\n",
      "ssp245_remove_bc_on_snow_climuncert (351, 2565)\n",
      "ssp245_remove_slcf_climuncert (351, 2565)\n",
      "ssp370_remove_co2_climuncert (351, 2565)\n",
      "ssp370_remove_other_ghg_climuncert (351, 2565)\n",
      "ssp370_remove_other_anthro_climuncert (351, 2565)\n",
      "ssp370_remove_ch4_climuncert (351, 2565)\n",
      "ssp370_remove_hfc_climuncert (351, 2565)\n",
      "ssp370_remove_o3_climuncert (351, 2565)\n",
      "ssp370_remove_aerosol_climuncert (351, 2565)\n",
      "ssp370_remove_bc_on_snow_climuncert (351, 2565)\n",
      "ssp370_remove_slcf_climuncert (351, 2565)\n",
      "ssp370-lowNTCF-aerchemmip_remove_co2_climuncert (351, 2565)\n",
      "ssp370-lowNTCF-aerchemmip_remove_other_ghg_climuncert (351, 2565)\n",
      "ssp370-lowNTCF-aerchemmip_remove_other_anthro_climuncert (351, 2565)\n",
      "ssp370-lowNTCF-aerchemmip_remove_ch4_climuncert (351, 2565)\n",
      "ssp370-lowNTCF-aerchemmip_remove_hfc_climuncert (351, 2565)\n",
      "ssp370-lowNTCF-aerchemmip_remove_o3_climuncert (351, 2565)\n",
      "ssp370-lowNTCF-aerchemmip_remove_aerosol_climuncert (351, 2565)\n",
      "ssp370-lowNTCF-aerchemmip_remove_bc_on_snow_climuncert (351, 2565)\n",
      "ssp370-lowNTCF-aerchemmip_remove_slcf_climuncert (351, 2565)\n",
      "ssp370-lowNTCF-gidden_remove_co2_climuncert (351, 2565)\n",
      "ssp370-lowNTCF-gidden_remove_other_ghg_climuncert (351, 2565)\n",
      "ssp370-lowNTCF-gidden_remove_other_anthro_climuncert (351, 2565)\n",
      "ssp370-lowNTCF-gidden_remove_ch4_climuncert (351, 2565)\n",
      "ssp370-lowNTCF-gidden_remove_hfc_climuncert (351, 2565)\n",
      "ssp370-lowNTCF-gidden_remove_o3_climuncert (351, 2565)\n",
      "ssp370-lowNTCF-gidden_remove_aerosol_climuncert (351, 2565)\n",
      "ssp370-lowNTCF-gidden_remove_bc_on_snow_climuncert (351, 2565)\n",
      "ssp370-lowNTCF-gidden_remove_slcf_climuncert (351, 2565)\n",
      "ssp434_remove_co2_climuncert (351, 2565)\n",
      "ssp434_remove_other_ghg_climuncert (351, 2565)\n",
      "ssp434_remove_other_anthro_climuncert (351, 2565)\n",
      "ssp434_remove_ch4_climuncert (351, 2565)\n",
      "ssp434_remove_hfc_climuncert (351, 2565)\n",
      "ssp434_remove_o3_climuncert (351, 2565)\n",
      "ssp434_remove_aerosol_climuncert (351, 2565)\n",
      "ssp434_remove_bc_on_snow_climuncert (351, 2565)\n",
      "ssp434_remove_slcf_climuncert (351, 2565)\n",
      "ssp460_remove_co2_climuncert (351, 2565)\n",
      "ssp460_remove_other_ghg_climuncert (351, 2565)\n",
      "ssp460_remove_other_anthro_climuncert (351, 2565)\n",
      "ssp460_remove_ch4_climuncert (351, 2565)\n",
      "ssp460_remove_hfc_climuncert (351, 2565)\n",
      "ssp460_remove_o3_climuncert (351, 2565)\n",
      "ssp460_remove_aerosol_climuncert (351, 2565)\n",
      "ssp460_remove_bc_on_snow_climuncert (351, 2565)\n",
      "ssp460_remove_slcf_climuncert (351, 2565)\n",
      "ssp534-over_remove_co2_climuncert (351, 2565)\n",
      "ssp534-over_remove_other_ghg_climuncert (351, 2565)\n",
      "ssp534-over_remove_other_anthro_climuncert (351, 2565)\n",
      "ssp534-over_remove_ch4_climuncert (351, 2565)\n",
      "ssp534-over_remove_hfc_climuncert (351, 2565)\n",
      "ssp534-over_remove_o3_climuncert (351, 2565)\n",
      "ssp534-over_remove_aerosol_climuncert (351, 2565)\n",
      "ssp534-over_remove_bc_on_snow_climuncert (351, 2565)\n",
      "ssp534-over_remove_slcf_climuncert (351, 2565)\n",
      "ssp585_remove_co2_climuncert (351, 2565)\n",
      "ssp585_remove_other_ghg_climuncert (351, 2565)\n",
      "ssp585_remove_other_anthro_climuncert (351, 2565)\n",
      "ssp585_remove_ch4_climuncert (351, 2565)\n",
      "ssp585_remove_hfc_climuncert (351, 2565)\n",
      "ssp585_remove_o3_climuncert (351, 2565)\n",
      "ssp585_remove_aerosol_climuncert (351, 2565)\n",
      "ssp585_remove_bc_on_snow_climuncert (351, 2565)\n",
      "ssp585_remove_slcf_climuncert (351, 2565)\n"
     ]
    }
   ],
   "source": [
    "for key in results.keys():\n",
    "    print(key, results[key]['surface_temperature'].shape)"
   ]
  }
 ],
 "metadata": {
  "kernelspec": {
   "display_name": "Python 3",
   "language": "python",
   "name": "python3"
  },
  "language_info": {
   "codemirror_mode": {
    "name": "ipython",
    "version": 3
   },
   "file_extension": ".py",
   "mimetype": "text/x-python",
   "name": "python",
   "nbconvert_exporter": "python",
   "pygments_lexer": "ipython3",
   "version": "3.7.9"
  }
 },
 "nbformat": 4,
 "nbformat_minor": 4
}
