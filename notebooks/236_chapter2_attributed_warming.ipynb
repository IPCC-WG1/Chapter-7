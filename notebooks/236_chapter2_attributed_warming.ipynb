{
 "cells": [
  {
   "cell_type": "markdown",
   "metadata": {},
   "source": [
    "# Cross check the constrained attributed warming ensemble with chapter 2's GSAT\n",
    "\n",
    "Theme Song: Kingdom of Rust<br>\n",
    "Artist: Doves<br>\n",
    "Album: Kingdom of Rust<br>\n",
    "Released: 2009"
   ]
  },
  {
   "cell_type": "code",
   "execution_count": 1,
   "metadata": {},
   "outputs": [],
   "source": [
    "import numpy as np\n",
    "import scipy.stats as st\n",
    "import pandas as pd\n",
    "\n",
    "from ar6.utils.h5 import *"
   ]
  },
  {
   "cell_type": "code",
   "execution_count": 2,
   "metadata": {},
   "outputs": [],
   "source": [
    "results = load_dict_from_hdf5('../data_output_large/twolayer_AR6-historical.h5')"
   ]
  },
  {
   "cell_type": "code",
   "execution_count": 3,
   "metadata": {},
   "outputs": [
    {
     "data": {
      "text/plain": [
       "dict_keys(['AR6-historical', 'AR6-historical_climuncert', 'remove_aerosol', 'remove_aerosol-cloud_interactions', 'remove_aerosol-cloud_interactions_climuncert', 'remove_aerosol-radiation_interactions', 'remove_aerosol-radiation_interactions_climuncert', 'remove_aerosol_climuncert', 'remove_albedo', 'remove_albedo_climuncert', 'remove_anthro', 'remove_anthro_climuncert', 'remove_bc_on_snow', 'remove_bc_on_snow_climuncert', 'remove_ch4', 'remove_ch4_climuncert', 'remove_co2', 'remove_co2_climuncert', 'remove_contrails', 'remove_contrails_climuncert', 'remove_h2o_stratospheric', 'remove_h2o_stratospheric_climuncert', 'remove_land_use', 'remove_land_use_climuncert', 'remove_n2o', 'remove_n2o_climuncert', 'remove_natural', 'remove_natural_climuncert', 'remove_o3', 'remove_o3_climuncert', 'remove_other_wmghg', 'remove_other_wmghg_climuncert', 'remove_solar', 'remove_solar_climuncert', 'remove_volcanic', 'remove_volcanic_climuncert', 'remove_wmghgs', 'remove_wmghgs_climuncert'])"
      ]
     },
     "execution_count": 3,
     "metadata": {},
     "output_type": "execute_result"
    }
   ],
   "source": [
    "results.keys()"
   ]
  },
  {
   "cell_type": "code",
   "execution_count": 10,
   "metadata": {},
   "outputs": [],
   "source": [
    "AR6_ecsforc = {}\n",
    "AR6_ecsforc['total'] = np.percentile(results['AR6-historical_climuncert']['surface_temperature'][260:270].mean(axis=0) - results['AR6-historical_climuncert']['surface_temperature'][100:151].mean(axis=0), (5,16,50,84,95))\n",
    "\n",
    "AR6_forc = {}\n",
    "AR6_forc['total'] = np.percentile(results['AR6-historical']['surface_temperature'][260:270].mean(axis=0) - results['AR6-historical']['surface_temperature'][100:151].mean(axis=0), (5,16,50,84,95))"
   ]
  },
  {
   "cell_type": "code",
   "execution_count": 11,
   "metadata": {},
   "outputs": [
    {
     "data": {
      "text/plain": [
       "array([0.8870357 , 0.9776671 , 1.13958927, 1.32425209, 1.4476637 ])"
      ]
     },
     "execution_count": 11,
     "metadata": {},
     "output_type": "execute_result"
    }
   ],
   "source": [
    "AR6_ecsforc['total']"
   ]
  },
  {
   "cell_type": "code",
   "execution_count": 12,
   "metadata": {},
   "outputs": [
    {
     "data": {
      "text/plain": [
       "array([0.9046967 , 0.99850613, 1.14089432, 1.29667307, 1.39836912])"
      ]
     },
     "execution_count": 12,
     "metadata": {},
     "output_type": "execute_result"
    }
   ],
   "source": [
    "AR6_forc['total']"
   ]
  },
  {
   "cell_type": "code",
   "execution_count": null,
   "metadata": {},
   "outputs": [],
   "source": []
  }
 ],
 "metadata": {
  "kernelspec": {
   "display_name": "Python 3",
   "language": "python",
   "name": "python3"
  },
  "language_info": {
   "codemirror_mode": {
    "name": "ipython",
    "version": 3
   },
   "file_extension": ".py",
   "mimetype": "text/x-python",
   "name": "python",
   "nbconvert_exporter": "python",
   "pygments_lexer": "ipython3",
   "version": "3.7.10"
  }
 },
 "nbformat": 4,
 "nbformat_minor": 4
}
