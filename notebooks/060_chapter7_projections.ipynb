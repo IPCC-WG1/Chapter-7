{
 "cells": [
  {
   "cell_type": "markdown",
   "metadata": {},
   "source": [
    "# Run two layer model with AR6 forcing"
   ]
  },
  {
   "cell_type": "code",
   "execution_count": 1,
   "metadata": {},
   "outputs": [
    {
     "name": "stderr",
     "output_type": "stream",
     "text": [
      "/nfs/b0110/Users/mencsm/miniconda3/envs/ar6/lib/python3.7/site-packages/openscm_twolayermodel/base.py:10: TqdmExperimentalWarning: Using `tqdm.autonotebook.tqdm` in notebook mode. Use `tqdm.tqdm` instead to force console mode (e.g. in jupyter console)\n",
      "  import tqdm.autonotebook as tqdman\n"
     ]
    }
   ],
   "source": [
    "import fair\n",
    "import json\n",
    "import sys\n",
    "import os\n",
    "import random\n",
    "import numpy as np\n",
    "import scipy.stats as st       # v1.4+ needed\n",
    "import matplotlib.pyplot as pl\n",
    "import pandas as pd\n",
    "import pickle\n",
    "\n",
    "from ar6.utils.h5 import *\n",
    "from netCDF4 import Dataset\n",
    "from tqdm import tqdm_notebook\n",
    "from scipy.interpolate import interp1d\n",
    "from fair.constants import molwt\n",
    "from fair.constants.general import EARTH_RADIUS\n",
    "from fair.ancil import natural, cmip6_volcanic, cmip6_solar\n",
    "from fair.forcing.ghg import etminan, meinshausen\n",
    "\n",
    "import openscm_units.unit_registry as ur\n",
    "from scmdata import ScmRun, run_append\n",
    "\n",
    "from openscm_twolayermodel import TwoLayerModel\n",
    "import tqdm.autonotebook as tqdman"
   ]
  },
  {
   "cell_type": "code",
   "execution_count": 2,
   "metadata": {},
   "outputs": [
    {
     "data": {
      "text/plain": [
       "'1.6.1'"
      ]
     },
     "execution_count": 2,
     "metadata": {},
     "output_type": "execute_result"
    }
   ],
   "source": [
    "fair.__version__"
   ]
  },
  {
   "cell_type": "markdown",
   "metadata": {},
   "source": [
    "## Ensemble generation\n",
    "\n",
    "We want to ensure reproducible results that don't change when this script is re-run. Grab list of pre-generated random seeds."
   ]
  },
  {
   "cell_type": "code",
   "execution_count": 3,
   "metadata": {},
   "outputs": [],
   "source": [
    "with open('../data_input/random_seeds.json', 'r') as filehandle:\n",
    "    SEEDS = json.load(filehandle)"
   ]
  },
  {
   "cell_type": "code",
   "execution_count": 4,
   "metadata": {},
   "outputs": [],
   "source": [
    "SAMPLES = 2000\n",
    "NINETY_TO_ONESIGMA = st.norm.ppf(0.95)\n",
    "F2XCO2_MEAN = 4.00\n",
    "F2XCO2_NINETY = 0.48"
   ]
  },
  {
   "cell_type": "code",
   "execution_count": 5,
   "metadata": {},
   "outputs": [
    {
     "data": {
      "text/plain": [
       "0.47611621186854425"
      ]
     },
     "execution_count": 5,
     "metadata": {},
     "output_type": "execute_result"
    }
   ],
   "source": [
    "# use CMIP6 1850 values as models are trained on this\n",
    "F4X_TO_F2X = meinshausen([284.3*2, 808.2, 273.0], [284.3, 808.2, 273.0])[0]/meinshausen([284.3*4, 808.2, 273.0], [284.3, 808.2, 273.0])[0]#*geoff_sample_df.loc[i,'q4x']\n",
    "F4X_TO_F2X"
   ]
  },
  {
   "cell_type": "code",
   "execution_count": 6,
   "metadata": {},
   "outputs": [
    {
     "data": {
      "text/html": [
       "<div>\n",
       "<style scoped>\n",
       "    .dataframe tbody tr th:only-of-type {\n",
       "        vertical-align: middle;\n",
       "    }\n",
       "\n",
       "    .dataframe tbody tr th {\n",
       "        vertical-align: top;\n",
       "    }\n",
       "\n",
       "    .dataframe thead th {\n",
       "        text-align: right;\n",
       "    }\n",
       "</style>\n",
       "<table border=\"1\" class=\"dataframe\">\n",
       "  <thead>\n",
       "    <tr style=\"text-align: right;\">\n",
       "      <th></th>\n",
       "      <th>BC</th>\n",
       "      <th>CO</th>\n",
       "      <th>NH3</th>\n",
       "      <th>NOx</th>\n",
       "      <th>OC</th>\n",
       "      <th>SO2</th>\n",
       "      <th>VOC</th>\n",
       "    </tr>\n",
       "    <tr>\n",
       "      <th>year</th>\n",
       "      <th></th>\n",
       "      <th></th>\n",
       "      <th></th>\n",
       "      <th></th>\n",
       "      <th></th>\n",
       "      <th></th>\n",
       "      <th></th>\n",
       "    </tr>\n",
       "  </thead>\n",
       "  <tbody>\n",
       "    <tr>\n",
       "      <th>1750</th>\n",
       "      <td>2.097336</td>\n",
       "      <td>348.420476</td>\n",
       "      <td>6.683996</td>\n",
       "      <td>12.730074</td>\n",
       "      <td>15.447054</td>\n",
       "      <td>2.312083</td>\n",
       "      <td>60.599376</td>\n",
       "    </tr>\n",
       "    <tr>\n",
       "      <th>1751</th>\n",
       "      <td>2.072491</td>\n",
       "      <td>343.819148</td>\n",
       "      <td>6.615537</td>\n",
       "      <td>12.587160</td>\n",
       "      <td>15.188102</td>\n",
       "      <td>2.281498</td>\n",
       "      <td>59.667759</td>\n",
       "    </tr>\n",
       "    <tr>\n",
       "      <th>1752</th>\n",
       "      <td>2.063877</td>\n",
       "      <td>341.701465</td>\n",
       "      <td>6.573965</td>\n",
       "      <td>12.589121</td>\n",
       "      <td>15.033861</td>\n",
       "      <td>2.270899</td>\n",
       "      <td>59.213713</td>\n",
       "    </tr>\n",
       "    <tr>\n",
       "      <th>1753</th>\n",
       "      <td>2.071515</td>\n",
       "      <td>343.567551</td>\n",
       "      <td>6.635011</td>\n",
       "      <td>12.534665</td>\n",
       "      <td>15.181930</td>\n",
       "      <td>2.284976</td>\n",
       "      <td>59.610148</td>\n",
       "    </tr>\n",
       "    <tr>\n",
       "      <th>1754</th>\n",
       "      <td>2.098914</td>\n",
       "      <td>349.707369</td>\n",
       "      <td>6.767852</td>\n",
       "      <td>12.631676</td>\n",
       "      <td>15.558158</td>\n",
       "      <td>2.336934</td>\n",
       "      <td>60.855827</td>\n",
       "    </tr>\n",
       "    <tr>\n",
       "      <th>...</th>\n",
       "      <td>...</td>\n",
       "      <td>...</td>\n",
       "      <td>...</td>\n",
       "      <td>...</td>\n",
       "      <td>...</td>\n",
       "      <td>...</td>\n",
       "      <td>...</td>\n",
       "    </tr>\n",
       "    <tr>\n",
       "      <th>2015</th>\n",
       "      <td>7.992567</td>\n",
       "      <td>894.144647</td>\n",
       "      <td>62.462922</td>\n",
       "      <td>138.718989</td>\n",
       "      <td>30.046634</td>\n",
       "      <td>91.076152</td>\n",
       "      <td>213.006570</td>\n",
       "    </tr>\n",
       "    <tr>\n",
       "      <th>2016</th>\n",
       "      <td>7.918346</td>\n",
       "      <td>874.700320</td>\n",
       "      <td>63.054904</td>\n",
       "      <td>137.128483</td>\n",
       "      <td>30.086767</td>\n",
       "      <td>87.215738</td>\n",
       "      <td>211.778440</td>\n",
       "    </tr>\n",
       "    <tr>\n",
       "      <th>2017</th>\n",
       "      <td>7.886938</td>\n",
       "      <td>867.879243</td>\n",
       "      <td>63.739495</td>\n",
       "      <td>137.159668</td>\n",
       "      <td>30.057079</td>\n",
       "      <td>84.269791</td>\n",
       "      <td>211.717165</td>\n",
       "    </tr>\n",
       "    <tr>\n",
       "      <th>2018</th>\n",
       "      <td>7.841661</td>\n",
       "      <td>861.556227</td>\n",
       "      <td>64.298351</td>\n",
       "      <td>136.397333</td>\n",
       "      <td>29.920370</td>\n",
       "      <td>84.532481</td>\n",
       "      <td>210.331432</td>\n",
       "    </tr>\n",
       "    <tr>\n",
       "      <th>2019</th>\n",
       "      <td>7.785028</td>\n",
       "      <td>855.030049</td>\n",
       "      <td>64.863667</td>\n",
       "      <td>135.346810</td>\n",
       "      <td>29.751818</td>\n",
       "      <td>83.707858</td>\n",
       "      <td>209.077100</td>\n",
       "    </tr>\n",
       "  </tbody>\n",
       "</table>\n",
       "<p>270 rows × 7 columns</p>\n",
       "</div>"
      ],
      "text/plain": [
       "            BC          CO        NH3         NOx         OC        SO2  \\\n",
       "year                                                                      \n",
       "1750  2.097336  348.420476   6.683996   12.730074  15.447054   2.312083   \n",
       "1751  2.072491  343.819148   6.615537   12.587160  15.188102   2.281498   \n",
       "1752  2.063877  341.701465   6.573965   12.589121  15.033861   2.270899   \n",
       "1753  2.071515  343.567551   6.635011   12.534665  15.181930   2.284976   \n",
       "1754  2.098914  349.707369   6.767852   12.631676  15.558158   2.336934   \n",
       "...        ...         ...        ...         ...        ...        ...   \n",
       "2015  7.992567  894.144647  62.462922  138.718989  30.046634  91.076152   \n",
       "2016  7.918346  874.700320  63.054904  137.128483  30.086767  87.215738   \n",
       "2017  7.886938  867.879243  63.739495  137.159668  30.057079  84.269791   \n",
       "2018  7.841661  861.556227  64.298351  136.397333  29.920370  84.532481   \n",
       "2019  7.785028  855.030049  64.863667  135.346810  29.751818  83.707858   \n",
       "\n",
       "             VOC  \n",
       "year              \n",
       "1750   60.599376  \n",
       "1751   59.667759  \n",
       "1752   59.213713  \n",
       "1753   59.610148  \n",
       "1754   60.855827  \n",
       "...          ...  \n",
       "2015  213.006570  \n",
       "2016  211.778440  \n",
       "2017  211.717165  \n",
       "2018  210.331432  \n",
       "2019  209.077100  \n",
       "\n",
       "[270 rows x 7 columns]"
      ]
     },
     "execution_count": 6,
     "metadata": {},
     "output_type": "execute_result"
    }
   ],
   "source": [
    "emissions = pd.read_csv('../data_input_large/rcmip-emissions-annual-means-v5-1-0.csv')\n",
    "df_emissions = pd.concat([emissions.loc[(\n",
    "        (emissions.Variable=='Emissions|BC')|\n",
    "        (emissions.Variable=='Emissions|OC')|\n",
    "        (emissions.Variable=='Emissions|Sulfur')|\n",
    "        (emissions.Variable=='Emissions|NOx')|\n",
    "        (emissions.Variable=='Emissions|NH3')|\n",
    "        (emissions.Variable=='Emissions|VOC')|\n",
    "        (emissions.Variable=='Emissions|CO')\n",
    "    ) & (emissions.Scenario=='ssp245') & (emissions.Region=='World'), 'Variable'], emissions.loc[(\n",
    "        (emissions.Variable=='Emissions|BC')|\n",
    "        (emissions.Variable=='Emissions|OC')|\n",
    "        (emissions.Variable=='Emissions|Sulfur')|\n",
    "        (emissions.Variable=='Emissions|NOx')|\n",
    "        (emissions.Variable=='Emissions|NH3')|\n",
    "        (emissions.Variable=='Emissions|VOC')|\n",
    "        (emissions.Variable=='Emissions|CO')\n",
    "    ) & (emissions.Scenario=='ssp245') & (emissions.Region=='World'), '1750':'2100']], axis=1)#.interpolate(axis=1).T\n",
    "df_emissions.set_index('Variable', inplace=True)\n",
    "df_emissions = df_emissions.interpolate(axis=1).T\n",
    "df_emissions.rename(\n",
    "    columns={\n",
    "        'Emissions|BC': 'BC',\n",
    "        'Emissions|OC': 'OC',\n",
    "        'Emissions|Sulfur': 'SO2',\n",
    "        'Emissions|NOx': 'NOx',\n",
    "        'Emissions|NH3': 'NH3',\n",
    "        'Emissions|VOC': 'VOC',\n",
    "        'Emissions|CO': 'CO'\n",
    "    }, inplace=True\n",
    ")\n",
    "# only keep cols we want\n",
    "emissions = df_emissions[['SO2', 'BC', 'OC', 'NH3', 'NOx', 'VOC', 'CO']]\n",
    "emissions.index = emissions.index.astype('int')\n",
    "emissions.index.name='year'\n",
    "emissions.columns.name=None\n",
    "\n",
    "emissions_ceds_update = emissions.copy()\n",
    "\n",
    "emissions_old = pd.read_csv('../data_input_large/rcmip-emissions-annual-means-v5-1-0.csv')\n",
    "df_emissions = pd.concat([emissions_old.loc[(\n",
    "        (emissions_old.Variable=='Emissions|BC|MAGICC Fossil and Industrial')|\n",
    "        (emissions_old.Variable=='Emissions|OC|MAGICC Fossil and Industrial')|\n",
    "        (emissions_old.Variable=='Emissions|Sulfur|MAGICC Fossil and Industrial')|\n",
    "        (emissions_old.Variable=='Emissions|NOx|MAGICC Fossil and Industrial')|\n",
    "        (emissions_old.Variable=='Emissions|NH3|MAGICC Fossil and Industrial')|\n",
    "        (emissions_old.Variable=='Emissions|VOC|MAGICC Fossil and Industrial')|\n",
    "        (emissions_old.Variable=='Emissions|CO|MAGICC Fossil and Industrial')|\n",
    "        (emissions_old.Variable=='Emissions|BC|MAGICC AFOLU|Agriculture')|\n",
    "        (emissions_old.Variable=='Emissions|OC|MAGICC AFOLU|Agriculture')|\n",
    "        (emissions_old.Variable=='Emissions|Sulfur|MAGICC AFOLU|Agriculture')|\n",
    "        (emissions_old.Variable=='Emissions|NOx|MAGICC AFOLU|Agriculture')|\n",
    "        (emissions_old.Variable=='Emissions|NH3|MAGICC AFOLU|Agriculture')|\n",
    "        (emissions_old.Variable=='Emissions|VOC|MAGICC AFOLU|Agriculture')|\n",
    "        (emissions_old.Variable=='Emissions|CO|MAGICC AFOLU|Agriculture')\n",
    "    ) & (emissions_old.Scenario=='ssp245') & (emissions_old.Region=='World'), 'Variable'], emissions_old.loc[(\n",
    "        (emissions_old.Variable=='Emissions|BC|MAGICC Fossil and Industrial')|\n",
    "        (emissions_old.Variable=='Emissions|OC|MAGICC Fossil and Industrial')|\n",
    "        (emissions_old.Variable=='Emissions|Sulfur|MAGICC Fossil and Industrial')|\n",
    "        (emissions_old.Variable=='Emissions|NOx|MAGICC Fossil and Industrial')|\n",
    "        (emissions_old.Variable=='Emissions|NH3|MAGICC Fossil and Industrial')|\n",
    "        (emissions_old.Variable=='Emissions|VOC|MAGICC Fossil and Industrial')|\n",
    "        (emissions_old.Variable=='Emissions|CO|MAGICC Fossil and Industrial')|\n",
    "        (emissions_old.Variable=='Emissions|BC|MAGICC AFOLU|Agriculture')|\n",
    "        (emissions_old.Variable=='Emissions|OC|MAGICC AFOLU|Agriculture')|\n",
    "        (emissions_old.Variable=='Emissions|Sulfur|MAGICC AFOLU|Agriculture')|\n",
    "        (emissions_old.Variable=='Emissions|NOx|MAGICC AFOLU|Agriculture')|\n",
    "        (emissions_old.Variable=='Emissions|NH3|MAGICC AFOLU|Agriculture')|\n",
    "        (emissions_old.Variable=='Emissions|VOC|MAGICC AFOLU|Agriculture')|\n",
    "        (emissions_old.Variable=='Emissions|CO|MAGICC AFOLU|Agriculture')\n",
    "    ) & (emissions_old.Scenario=='ssp245') & (emissions_old.Region=='World'), '1750':'2100']], axis=1)#.interpolate(axis=1).T\n",
    "df_emissions.set_index('Variable', inplace=True)\n",
    "df_emissions = df_emissions.interpolate(axis=1).T\n",
    "for species in ['BC', 'OC', 'Sulfur', 'NOx', 'NH3', 'VOC', 'CO']:\n",
    "    df_emissions[species] = df_emissions['Emissions|{}|MAGICC Fossil and Industrial'.format(species)] + df_emissions['Emissions|{}|MAGICC AFOLU|Agriculture'.format(species)]\n",
    "df_emissions.rename(columns = {'Sulfur': 'SO2'}, inplace=True)\n",
    "df_emissions.drop(columns=[\n",
    "        'Emissions|BC|MAGICC Fossil and Industrial',\n",
    "        'Emissions|OC|MAGICC Fossil and Industrial',\n",
    "        'Emissions|Sulfur|MAGICC Fossil and Industrial',\n",
    "        'Emissions|NOx|MAGICC Fossil and Industrial',\n",
    "        'Emissions|NH3|MAGICC Fossil and Industrial',\n",
    "        'Emissions|VOC|MAGICC Fossil and Industrial',\n",
    "        'Emissions|CO|MAGICC Fossil and Industrial',\n",
    "        'Emissions|BC|MAGICC AFOLU|Agriculture',\n",
    "        'Emissions|OC|MAGICC AFOLU|Agriculture',\n",
    "        'Emissions|Sulfur|MAGICC AFOLU|Agriculture',\n",
    "        'Emissions|NOx|MAGICC AFOLU|Agriculture',\n",
    "        'Emissions|NH3|MAGICC AFOLU|Agriculture',\n",
    "        'Emissions|VOC|MAGICC AFOLU|Agriculture',\n",
    "        'Emissions|CO|MAGICC AFOLU|Agriculture',\n",
    "    ],\n",
    "    inplace=True\n",
    ")\n",
    "df_emissions.index = emissions.index.astype('int')\n",
    "df_emissions.index.name='year'\n",
    "df_emissions.columns.name=None\n",
    "\n",
    "global_total = {}\n",
    "for species in ['BC', 'OC', 'SO2', 'NH3', 'NOx', 'NMVOC', 'CO']:\n",
    "    df = pd.read_csv('../data_input_large/CEDS_v_2020_09_11_emissions/{}_global_CEDS_emissions_by_sector_2020_09_11.csv'.format(species))\n",
    "    global_total[species] = df.sum(axis=0).values[3:].astype(float) / 1000 # yes could get openscm on this\n",
    "    #unit = df.units[0]\n",
    "    #print(unit)\n",
    "global_total['VOC'] = global_total.pop('NMVOC')\n",
    "new_ceds = pd.DataFrame(global_total)\n",
    "new_ceds.index = np.arange(1750,2020)\n",
    "new_ceds.index = new_ceds.index.astype('int')\n",
    "new_ceds.index.name='year'\n",
    "new_ceds.columns.name=None\n",
    "emissions_ceds_update = new_ceds.loc[1750:2020] + emissions - df_emissions\n",
    "emissions_ceds_update.drop(index=range(2020,2101), inplace=True)\n",
    "emissions_ceds_update"
   ]
  },
  {
   "cell_type": "markdown",
   "metadata": {},
   "source": [
    "## Thermal parameters\n",
    "\n",
    "I pre-calculated fits of the Geoffroy model to 44 CMIP6 models - one day I should get this data up here, but the whole process chain is a little fiddly. From this I calculate d1 and d2 - the short and long timescales of ocean temperature response in the impulse response model.\n",
    "\n",
    "Zeb has a nice implementation of converting Geoffroy parameters to impulse response ones. I use this here. Although d1 and d2 are likely to be correlated with ECS and TCR, I'm not sure if there's a nice way to match this up to the assessment; if we use CMIP6 to inform ECS and TCR then we will get a distribution that has too many high values. Likewise we take F2x from the chapter assessment and not the models. Interesting that d1 and d2 are uncorrelated."
   ]
  },
  {
   "cell_type": "code",
   "execution_count": 7,
   "metadata": {},
   "outputs": [],
   "source": [
    "f2x = st.norm.rvs(loc=F2XCO2_MEAN, scale=F2XCO2_NINETY/NINETY_TO_ONESIGMA, size=SAMPLES, random_state=SEEDS[73])\n",
    "\n",
    "with open(\"../data_output/cmip6_twolayer_tuning_params.json\", \"r\") as read_file:\n",
    "    cmip6_models = json.load(read_file)\n",
    "params = pd.DataFrame({\n",
    "    param:cmip6_models[param]['model_data'] for param in cmip6_models\n",
    "})\n",
    "params.drop(columns=['T4xCO2'], inplace=True)\n",
    "NMODELS = len(cmip6_models)\n",
    "\n",
    "kde = st.gaussian_kde(params.T)\n",
    "geoff_sample = kde.resample(size=int(SAMPLES*1.3), seed=3170812)\n",
    "# remove unphysical combinations\n",
    "geoff_sample[:,geoff_sample[0,:] <= 0] = np.nan\n",
    "geoff_sample[:,geoff_sample[4,:] <= 0.3] = np.nan\n",
    "geoff_sample[:,geoff_sample[2,:] <= 0] = np.nan\n",
    "geoff_sample[:,geoff_sample[3,:] <= 0] = np.nan\n",
    "geoff_sample[:,geoff_sample[5,:] <= 0] = np.nan\n",
    "geoff_sample[:,geoff_sample[1,:] <= 30] = np.nan\n",
    "#geoff_sample = geoff_sample[~np.isnan(geoff_sample)]\n",
    "mask = np.all(np.isnan(geoff_sample), axis=0)\n",
    "geoff_sample = geoff_sample[:,~mask]\n",
    "geoff_sample_df=pd.DataFrame(\n",
    "    data=geoff_sample[:,:SAMPLES].T, columns=['dl', 'du', 'eta', 'efficacy', 'lambda0', 'F4xCO2']\n",
    ")\n",
    "\n",
    "ecs = f2x/geoff_sample_df['lambda0']\n",
    "tcr = f2x/(geoff_sample_df['lambda0'] + geoff_sample_df['eta']*geoff_sample_df['efficacy'])\n",
    "\n",
    "#np.savetxt('../data/f2x_unconstrained.csv', f2x)\n",
    "#np.savetxt('../data/ecs_unconstrained.csv', ecs)\n",
    "#np.savetxt('../data/tcr_unconstrained.csv', tcr)"
   ]
  },
  {
   "cell_type": "code",
   "execution_count": 8,
   "metadata": {},
   "outputs": [],
   "source": [
    "#np.percentile(geoff_sample_df['F4xCO2'], (5,16,50,84,95))"
   ]
  },
  {
   "cell_type": "code",
   "execution_count": 9,
   "metadata": {},
   "outputs": [
    {
     "data": {
      "text/plain": [
       "array([ 244.70486804,  433.70176135,  795.8664122 , 1245.65409914,\n",
       "       1762.69757914])"
      ]
     },
     "execution_count": 9,
     "metadata": {},
     "output_type": "execute_result"
    },
    {
     "data": {
      "image/png": "[encoded data removed]",
      "text/plain": [
       "<Figure size 432x288 with 1 Axes>"
      ]
     },
     "metadata": {
      "needs_background": "light"
     },
     "output_type": "display_data"
    }
   ],
   "source": [
    "pl.hist(geoff_sample[0,:])\n",
    "np.percentile(geoff_sample[0,:], (5,16,50,84,95))"
   ]
  },
  {
   "cell_type": "code",
   "execution_count": 10,
   "metadata": {},
   "outputs": [
    {
     "name": "stdout",
     "output_type": "stream",
     "text": [
      "[1.95955662 2.3853863  3.57772163 6.06430659 8.77377496]\n"
     ]
    },
    {
     "data": {
      "image/png": "[encoded data removed]",
      "text/plain": [
       "<Figure size 432x288 with 1 Axes>"
      ]
     },
     "metadata": {
      "needs_background": "light"
     },
     "output_type": "display_data"
    }
   ],
   "source": [
    "pl.hist(ecs, bins=np.arange(0,11,0.2))\n",
    "print(np.percentile(ecs, (5,16,50,84,95)))"
   ]
  },
  {
   "cell_type": "code",
   "execution_count": 11,
   "metadata": {},
   "outputs": [
    {
     "name": "stdout",
     "output_type": "stream",
     "text": [
      "[1.35925812 1.59017171 2.10802779 3.09496476 3.9131169 ]\n"
     ]
    },
    {
     "data": {
      "image/png": "[encoded data removed]",
      "text/plain": [
       "<Figure size 432x288 with 1 Axes>"
      ]
     },
     "metadata": {
      "needs_background": "light"
     },
     "output_type": "display_data"
    }
   ],
   "source": [
    "# TCR is alternatively given from two layer model\n",
    "pl.hist(tcr, bins=np.arange(0,5,0.2))\n",
    "print(np.percentile(tcr, (5,16,50,84,95)))"
   ]
  },
  {
   "cell_type": "code",
   "execution_count": 12,
   "metadata": {},
   "outputs": [
    {
     "data": {
      "image/png": "[encoded data removed]",
      "text/plain": [
       "<Figure size 432x288 with 1 Axes>"
      ]
     },
     "metadata": {
      "needs_background": "light"
     },
     "output_type": "display_data"
    }
   ],
   "source": [
    "fig, ax = pl.subplots()\n",
    "ax.scatter(ecs, tcr)\n",
    "ax.text(0.1,0.9,'r = %.2f' % np.corrcoef(ecs,tcr)[0,1], transform=ax.transAxes)\n",
    "ax.set_ylim(0,8)\n",
    "ax.set_xlim(0,10)\n",
    "ax.set_xlabel('ECS')\n",
    "ax.set_ylabel('TCR')\n",
    "ax.set_title('ECS and TCR priors')\n",
    "fig.tight_layout()"
   ]
  },
  {
   "cell_type": "code",
   "execution_count": 13,
   "metadata": {},
   "outputs": [
    {
     "name": "stdout",
     "output_type": "stream",
     "text": [
      "[1.95955662 2.3853863  3.57772163 6.06430659 8.77377496]\n",
      "[1.35925812 1.59017171 2.10802779 3.09496476 3.9131169 ]\n"
     ]
    }
   ],
   "source": [
    "print(np.percentile(ecs, (5,16,50,84,95)))\n",
    "print(np.percentile(tcr, (5,16,50,84,95)))"
   ]
  },
  {
   "cell_type": "markdown",
   "metadata": {},
   "source": [
    "## Forcing uncertainties"
   ]
  },
  {
   "cell_type": "code",
   "execution_count": 14,
   "metadata": {},
   "outputs": [],
   "source": [
    "# these are standard deviations of the scale factor for normally distributed forcings (mean = 1). The list below is expressed in terms of 5-95% ranges.\n",
    "unc_ranges = np.array([\n",
    "    0.12,      # CO2\n",
    "    0.20,      # CH4: updated value from etminan 2016\n",
    "    0.14,      # N2O\n",
    "    0.15,      # other WMGHGs\n",
    "    0.50,      # tropospheric O3\n",
    "    0.50,      # stratospheric O3\n",
    "    1.00,      # stratospheric WV from CH4\n",
    "    0.67,      # contrails approx - could half range it (0.019 - 0.0574 - 0.098)\n",
    "    1.25,      # bc on snow - half-normal\n",
    "    0.50,      # land use change\n",
    "    5.0/20.0,  # volcanic\n",
    "    1,         # solar: TO DO NEED TO UPDATE\n",
    "])/NINETY_TO_ONESIGMA\n",
    "\n",
    "scale = st.norm.rvs(size=(SAMPLES,12), loc=np.ones((SAMPLES,12)), scale=np.ones((SAMPLES, 12)) * unc_ranges[None,:], random_state=36572)\n",
    "\n",
    "# here's a half normal\n",
    "## stratospheric ozone is asymmetric Gaussian. We can just scale the half of the distribution above/below best estimate\n",
    "scale[scale[:,8]<1,8] = 0.06/0.1*(scale[scale[:,8]<1,8]-1) + 1\n",
    "\n",
    "scale_df = pd.DataFrame(\n",
    "    data = scale,\n",
    "    columns = ['co2','ch4','n2o','other_wmghg','o3_tropospheric','o3_stratospheric','h2o_stratospheric','contrails','bc_on_snow','land_use','volcanic','solar']\n",
    ")"
   ]
  },
  {
   "cell_type": "markdown",
   "metadata": {},
   "source": [
    "### Aerosol emissions\n",
    "\n",
    "For ERFaci, following Smith, Harris et al. 2020: Energy Budget Constraints on the Time History of Aerosol Forcing and Climate Sensitivity\n",
    "\n",
    "For ERFari, start with Smith, Harris et al. and then add in the nitrate forcing from Myhre et al 2013\n",
    "\n",
    "For ERFari, take coefficients from Myhre et al., 2013: Radiative forcing of the direct aerosol effect from AeroCom Phase II\n",
    "simulations. The forcing calculated is 1850-2000 (or 2006; assume the same) using CMIP5 emissions."
   ]
  },
  {
   "cell_type": "code",
   "execution_count": 15,
   "metadata": {},
   "outputs": [],
   "source": [
    "def aerocom_n(x, bc, oc, so2, nh3):\n",
    "    return bc*x[0] + oc*x[1] + so2*x[2] + nh3*x[3]\n",
    "\n",
    "def shindell(x, beta, n0, n1, n2):\n",
    "    return -beta*np.log(1 + x[0]/n0 + x[1]/n1 + x[2]/n2)\n",
    "\n",
    "df = pd.read_csv('../data_input_large/ERFari_samples.csv')\n",
    "ari_coeffs = df.values\n",
    "\n",
    "df = pd.read_csv('../data_input_large/ERFaci_samples.csv')\n",
    "aci_coeffs = np.exp(df.values)"
   ]
  },
  {
   "cell_type": "code",
   "execution_count": 16,
   "metadata": {},
   "outputs": [],
   "source": [
    "# SCALE TO ASSESSMENT\n",
    "ERFari_scale = st.norm.rvs(loc=-0.30, scale=0.30/NINETY_TO_ONESIGMA, size=SAMPLES, random_state=786418)\n",
    "ERFaci_scale = st.norm.rvs(loc=-1.00, scale=0.65/NINETY_TO_ONESIGMA, size=SAMPLES, random_state=31318990)"
   ]
  },
  {
   "cell_type": "code",
   "execution_count": 17,
   "metadata": {},
   "outputs": [
    {
     "name": "stderr",
     "output_type": "stream",
     "text": [
      "/nfs/b0110/Users/mencsm/miniconda3/envs/ar6/lib/python3.7/site-packages/ipykernel_launcher.py:10: TqdmDeprecationWarning: This function will be removed in tqdm==5.0.0\n",
      "Please use `tqdm.notebook.tqdm` instead of `tqdm.tqdm_notebook`\n",
      "  # Remove the CWD from sys.path while we load stuff.\n"
     ]
    },
    {
     "data": {
      "application/vnd.jupyter.widget-view+json": {
       "model_id": "",
       "version_major": 2,
       "version_minor": 0
      },
      "text/plain": [
       "HBox(children=(HTML(value=''), FloatProgress(value=0.0, max=2000.0), HTML(value='')))"
      ]
     },
     "metadata": {},
     "output_type": "display_data"
    }
   ],
   "source": [
    "ERFari = np.zeros((270,SAMPLES))\n",
    "ERFaci = np.zeros((270,SAMPLES))\n",
    "    \n",
    "bc = emissions_ceds_update['BC'].values.squeeze()\n",
    "oc = emissions_ceds_update['OC'].values.squeeze()\n",
    "so2 = emissions_ceds_update['SO2'].values.squeeze()\n",
    "nh3 = emissions_ceds_update['NH3'].values.squeeze()\n",
    "nox = emissions_ceds_update['NOx'].values.squeeze()\n",
    "\n",
    "for i in tqdm_notebook(range(SAMPLES), leave=False):\n",
    "    ts2010 = np.mean(\n",
    "        aerocom_n(\n",
    "            [\n",
    "                bc[255:265],\n",
    "                oc[255:265],\n",
    "                so2[255:265],\n",
    "                    0.6*nh3[255:265]+\n",
    "                    0.4*nox[255:265],\n",
    "            ], ari_coeffs[i,1], ari_coeffs[i,2], ari_coeffs[i,0], ari_coeffs[i,3]\n",
    "        )\n",
    "    )\n",
    "    ts1750 = aerocom_n(\n",
    "        [\n",
    "            bc[0],\n",
    "            oc[0],\n",
    "            so2[0],\n",
    "                0.6*nh3[0]+\n",
    "                0.4*nox[0],\n",
    "        ], ari_coeffs[i,1], ari_coeffs[i,2], ari_coeffs[i,0], ari_coeffs[i,3]\n",
    "    )\n",
    "    ERFari[:,i] = (\n",
    "        aerocom_n(\n",
    "            [bc, oc, so2, 0.6*nh3+0.4*nox], ari_coeffs[i,1], ari_coeffs[i,2], ari_coeffs[i,0], ari_coeffs[i,3]\n",
    "        )\n",
    "    - ts1750)/(ts2010-ts1750)*ERFari_scale[i]\n",
    "\n",
    "    ts2010 = np.mean(\n",
    "        shindell(\n",
    "            [\n",
    "                so2[255:265],\n",
    "                    bc[255:265]+\n",
    "                    oc[255:265],\n",
    "                nh3[255:265]\n",
    "            ], 1.11, aci_coeffs[i,0], aci_coeffs[i,1], aci_coeffs[i,2]\n",
    "        )\n",
    "    )\n",
    "    ts1750 = shindell(\n",
    "        [\n",
    "            so2[0],\n",
    "                bc[0]+\n",
    "                oc[0],\n",
    "            nh3[0]\n",
    "        ], 1.11, aci_coeffs[i,0], aci_coeffs[i,1], aci_coeffs[i,2]\n",
    "    )\n",
    "    ERFaci[:,i] = (\n",
    "        shindell([so2, bc+oc, nh3], 1.11, aci_coeffs[i,0], aci_coeffs[i,1], aci_coeffs[i,2])\n",
    "    - ts1750)/(ts2010-ts1750)*ERFaci_scale[i]"
   ]
  },
  {
   "cell_type": "markdown",
   "metadata": {},
   "source": [
    "### Testing and scaling aerosol emissions\n",
    "\n",
    "The ERFari has some funky possible time evolutions - these could be filtered out based on some criterion"
   ]
  },
  {
   "cell_type": "code",
   "execution_count": 18,
   "metadata": {},
   "outputs": [
    {
     "data": {
      "text/plain": [
       "[<matplotlib.lines.Line2D at 0x7f6072cf0650>]"
      ]
     },
     "execution_count": 18,
     "metadata": {},
     "output_type": "execute_result"
    },
    {
     "data": {
      "image/png": "[encoded data removed]",
      "text/plain": [
       "<Figure size 432x288 with 1 Axes>"
      ]
     },
     "metadata": {
      "needs_background": "light"
     },
     "output_type": "display_data"
    }
   ],
   "source": [
    "pl.fill_between(np.arange(1750, 2020), np.percentile(ERFari, 5, axis=1), np.percentile(ERFari, 95, axis=1), color='k', alpha=0.5)\n",
    "pl.plot(np.arange(1750,2020), np.percentile(ERFari, 50, axis=1), color='k')"
   ]
  },
  {
   "cell_type": "code",
   "execution_count": 19,
   "metadata": {},
   "outputs": [
    {
     "data": {
      "text/plain": [
       "[<matplotlib.lines.Line2D at 0x7f6072c56c10>]"
      ]
     },
     "execution_count": 19,
     "metadata": {},
     "output_type": "execute_result"
    },
    {
     "data": {
      "image/png": "[encoded data removed]",
      "text/plain": [
       "<Figure size 432x288 with 1 Axes>"
      ]
     },
     "metadata": {
      "needs_background": "light"
     },
     "output_type": "display_data"
    }
   ],
   "source": [
    "pl.fill_between(np.arange(1750, 2020), np.percentile(ERFaci, 5, axis=1), np.percentile(ERFaci, 95, axis=1), color='k', alpha=0.5)\n",
    "pl.plot(np.arange(1750,2020), np.percentile(ERFaci, 50, axis=1), color='k')"
   ]
  },
  {
   "cell_type": "code",
   "execution_count": 20,
   "metadata": {},
   "outputs": [],
   "source": [
    "ERFaer = ERFari+ERFaci"
   ]
  },
  {
   "cell_type": "code",
   "execution_count": 21,
   "metadata": {},
   "outputs": [
    {
     "data": {
      "image/png": "[encoded data removed]",
      "text/plain": [
       "<Figure size 432x288 with 1 Axes>"
      ]
     },
     "metadata": {
      "needs_background": "light"
     },
     "output_type": "display_data"
    }
   ],
   "source": [
    "pl.plot(np.arange(1750,2020), np.percentile(ERFaer, 1, axis=1));\n",
    "pl.plot(np.arange(1750,2020), np.percentile(ERFaer, 5, axis=1));\n",
    "pl.plot(np.arange(1750,2020), np.percentile(ERFaer, 16, axis=1));\n",
    "pl.plot(np.arange(1750,2020), np.percentile(ERFaer, 50, axis=1));\n",
    "pl.plot(np.arange(1750,2020), np.percentile(ERFaer, 84, axis=1));\n",
    "pl.plot(np.arange(1750,2020), np.percentile(ERFaer, 95, axis=1));\n",
    "pl.plot(np.arange(1750,2020), np.percentile(ERFaer, 99, axis=1));"
   ]
  },
  {
   "cell_type": "code",
   "execution_count": 22,
   "metadata": {},
   "outputs": [],
   "source": [
    "# np.save('../output/%sFCO2_unconstrained.npy' % scen, F_CO2)\n",
    "# np.save('../output/%sFdir_unconstrained.npy' % scen, F_dir)\n",
    "# np.save('../output/%sFind_unconstrained.npy' % scen, F_ind)\n",
    "# np.save('../output/%sFant_unconstrained.npy' % scen, F_ant)\n",
    "# np.save('../output/%sFtot_unconstrained.npy' % scen, F_tot)\n",
    "# np.save('../output/%sC_unconstrained.npy' % scen, C_CO2)\n",
    "# np.save('../output/%sT_unconstrained.npy' % scen, T)\n",
    "# np.save('../output/%sOHU_unconstrained.npy' % scen, OHU)\n",
    "# np.save('../output/%sAF_unconstrained.npy' % scen, AF)"
   ]
  },
  {
   "cell_type": "markdown",
   "metadata": {},
   "source": [
    "## Non-aerosol forcings"
   ]
  },
  {
   "cell_type": "code",
   "execution_count": 23,
   "metadata": {},
   "outputs": [
    {
     "name": "stderr",
     "output_type": "stream",
     "text": [
      "/nfs/b0110/Users/mencsm/miniconda3/envs/ar6/lib/python3.7/site-packages/ipykernel_launcher.py:3: FutureWarning: Support for multi-dimensional indexing (e.g. `obj[:, None]`) is deprecated and will be removed in a future version.  Convert to a numpy array before indexing instead.\n",
      "  This is separate from the ipykernel package so we can avoid doing imports until\n",
      "/nfs/b0110/Users/mencsm/miniconda3/envs/ar6/lib/python3.7/site-packages/ipykernel_launcher.py:4: FutureWarning: Support for multi-dimensional indexing (e.g. `obj[:, None]`) is deprecated and will be removed in a future version.  Convert to a numpy array before indexing instead.\n",
      "  after removing the cwd from sys.path.\n",
      "/nfs/b0110/Users/mencsm/miniconda3/envs/ar6/lib/python3.7/site-packages/ipykernel_launcher.py:5: FutureWarning: Support for multi-dimensional indexing (e.g. `obj[:, None]`) is deprecated and will be removed in a future version.  Convert to a numpy array before indexing instead.\n",
      "  \"\"\"\n",
      "/nfs/b0110/Users/mencsm/miniconda3/envs/ar6/lib/python3.7/site-packages/ipykernel_launcher.py:6: FutureWarning: Support for multi-dimensional indexing (e.g. `obj[:, None]`) is deprecated and will be removed in a future version.  Convert to a numpy array before indexing instead.\n",
      "  \n",
      "/nfs/b0110/Users/mencsm/miniconda3/envs/ar6/lib/python3.7/site-packages/ipykernel_launcher.py:7: FutureWarning: Support for multi-dimensional indexing (e.g. `obj[:, None]`) is deprecated and will be removed in a future version.  Convert to a numpy array before indexing instead.\n",
      "  import sys\n",
      "/nfs/b0110/Users/mencsm/miniconda3/envs/ar6/lib/python3.7/site-packages/ipykernel_launcher.py:8: FutureWarning: Support for multi-dimensional indexing (e.g. `obj[:, None]`) is deprecated and will be removed in a future version.  Convert to a numpy array before indexing instead.\n",
      "  \n",
      "/nfs/b0110/Users/mencsm/miniconda3/envs/ar6/lib/python3.7/site-packages/ipykernel_launcher.py:9: FutureWarning: Support for multi-dimensional indexing (e.g. `obj[:, None]`) is deprecated and will be removed in a future version.  Convert to a numpy array before indexing instead.\n",
      "  if __name__ == '__main__':\n",
      "/nfs/b0110/Users/mencsm/miniconda3/envs/ar6/lib/python3.7/site-packages/ipykernel_launcher.py:10: FutureWarning: Support for multi-dimensional indexing (e.g. `obj[:, None]`) is deprecated and will be removed in a future version.  Convert to a numpy array before indexing instead.\n",
      "  # Remove the CWD from sys.path while we load stuff.\n",
      "/nfs/b0110/Users/mencsm/miniconda3/envs/ar6/lib/python3.7/site-packages/ipykernel_launcher.py:13: FutureWarning: Support for multi-dimensional indexing (e.g. `obj[:, None]`) is deprecated and will be removed in a future version.  Convert to a numpy array before indexing instead.\n",
      "  del sys.path[0]\n",
      "/nfs/b0110/Users/mencsm/miniconda3/envs/ar6/lib/python3.7/site-packages/ipykernel_launcher.py:14: FutureWarning: Support for multi-dimensional indexing (e.g. `obj[:, None]`) is deprecated and will be removed in a future version.  Convert to a numpy array before indexing instead.\n",
      "  \n",
      "/nfs/b0110/Users/mencsm/miniconda3/envs/ar6/lib/python3.7/site-packages/ipykernel_launcher.py:15: FutureWarning: Support for multi-dimensional indexing (e.g. `obj[:, None]`) is deprecated and will be removed in a future version.  Convert to a numpy array before indexing instead.\n",
      "  from ipykernel import kernelapp as app\n",
      "/nfs/b0110/Users/mencsm/miniconda3/envs/ar6/lib/python3.7/site-packages/ipykernel_launcher.py:16: FutureWarning: Support for multi-dimensional indexing (e.g. `obj[:, None]`) is deprecated and will be removed in a future version.  Convert to a numpy array before indexing instead.\n",
      "  app.launch_new_instance()\n"
     ]
    }
   ],
   "source": [
    "df = pd.read_csv('../data_output/AR6_ERF_1750-2019.csv')\n",
    "forcing_ensemble = {}\n",
    "forcing_ensemble['co2'] = df['co2'][:,None] * scale_df['co2'][None,:]\n",
    "forcing_ensemble['ch4'] = df['ch4'][:,None] * scale_df['ch4'][None,:]\n",
    "forcing_ensemble['n2o'] = df['n2o'][:,None] * scale_df['n2o'][None,:]\n",
    "forcing_ensemble['other_wmghg'] = df['other_wmghg'][:,None] * scale_df['other_wmghg'][None,:]\n",
    "forcing_ensemble['o3_trop'] = df['o3_trop'][:,None] * scale_df['o3_tropospheric'][None,:]\n",
    "forcing_ensemble['o3_strat'] = df['o3_strat'][:,None] * scale_df['o3_tropospheric'][None,:]\n",
    "forcing_ensemble['h2o_strat'] = df['h2o_strat'][:,None] * scale_df['h2o_stratospheric'][None,:]\n",
    "forcing_ensemble['contrails'] = df['contrails'][:,None] * scale_df['contrails'][None,:]\n",
    "forcing_ensemble['aerosol-radiation_interactions'] = ERFari\n",
    "forcing_ensemble['aerosol-cloud_interactions'] = ERFaci\n",
    "forcing_ensemble['bc_on_snow'] = df['bc_on_snow'][:,None] * scale_df['bc_on_snow'][None,:]\n",
    "forcing_ensemble['land_use'] = df['land_use'][:,None] * scale_df['land_use'][None,:]\n",
    "forcing_ensemble['volcanic'] = df['volcanic'][:,None] * scale_df['volcanic'][None,:]\n",
    "forcing_ensemble['solar'] = df['solar'][:,None] * scale_df['solar'][None,:]\n",
    "forcing_ensemble['total'] = (\n",
    "    forcing_ensemble['co2'] +\n",
    "    forcing_ensemble['ch4'] +\n",
    "    forcing_ensemble['n2o'] +\n",
    "    forcing_ensemble['other_wmghg'] +\n",
    "    forcing_ensemble['o3_trop'] +\n",
    "    forcing_ensemble['o3_strat'] +\n",
    "    forcing_ensemble['h2o_strat'] +\n",
    "    forcing_ensemble['contrails'] +\n",
    "    forcing_ensemble['aerosol-radiation_interactions'] +\n",
    "    forcing_ensemble['aerosol-cloud_interactions'] +\n",
    "    forcing_ensemble['bc_on_snow'] +\n",
    "    forcing_ensemble['land_use'] +\n",
    "    forcing_ensemble['volcanic'] +\n",
    "    forcing_ensemble['solar']\n",
    ")"
   ]
  },
  {
   "cell_type": "code",
   "execution_count": 24,
   "metadata": {},
   "outputs": [
    {
     "data": {
      "text/plain": [
       "(270,)"
      ]
     },
     "execution_count": 24,
     "metadata": {},
     "output_type": "execute_result"
    }
   ],
   "source": [
    "forcing_ensemble['total'][:,0].shape"
   ]
  },
  {
   "cell_type": "markdown",
   "metadata": {},
   "source": [
    "# Run climate model"
   ]
  },
  {
   "cell_type": "code",
   "execution_count": 25,
   "metadata": {},
   "outputs": [
    {
     "data": {
      "application/vnd.jupyter.widget-view+json": {
       "model_id": "15a15172b3c54167a62d4273c74e613f",
       "version_major": 2,
       "version_minor": 0
      },
      "text/plain": [
       "HBox(children=(HTML(value='Parameter settings'), FloatProgress(value=0.0, max=2000.0), HTML(value='')))"
      ]
     },
     "metadata": {},
     "output_type": "display_data"
    },
    {
     "name": "stdout",
     "output_type": "stream",
     "text": [
      "\n"
     ]
    }
   ],
   "source": [
    "runner = TwoLayerModel()\n",
    "output = []\n",
    "\n",
    "dl = np.array(geoff_sample_df['dl']) * ur(cmip6_models['dl']['units'])\n",
    "du = np.array(geoff_sample_df['du'])  * ur(cmip6_models['du']['units'])\n",
    "eta = np.array(geoff_sample_df['eta']) * ur(cmip6_models['eta']['units'])\n",
    "lambda0 = np.array(geoff_sample_df['lambda0']) *  ur(cmip6_models['lambda0']['units'])\n",
    "efficacy = np.array(geoff_sample_df['efficacy']) * ur(cmip6_models['efficacy']['units'])\n",
    "\n",
    "for i in tqdman.tqdm(range(SAMPLES), desc=\"Parameter settings\"):\n",
    "    in_forcing = forcing_ensemble['total'][:,i]\n",
    "    driver = ScmRun(\n",
    "        data=in_forcing,#[:,None]*np.ones((270,500)),\n",
    "        index=np.arange(1750,2020),\n",
    "        columns={\n",
    "            \"unit\": \"W/m^2\",\n",
    "            \"model\": \"openscm-twolayermodel-0.2.0\",\n",
    "            \"scenario\": \"historical-AR6\",\n",
    "            \"region\": \"World\",\n",
    "            \"variable\": \"Effective Radiative Forcing\",\n",
    "            \"run_id\": i\n",
    "        }\n",
    "    )\n",
    "    runner.dl = dl[i]\n",
    "    runner.du = du[i]\n",
    "    runner.eta = eta[i]\n",
    "    runner.lambda0 = lambda0[i]\n",
    "    runner.efficacy = efficacy[i]\n",
    "#    runner.timestep = 1 * ur(\"month\")\n",
    "    output.append(runner.run_scenarios(driver, progress=False))\n",
    "output = run_append(output)"
   ]
  },
  {
   "cell_type": "code",
   "execution_count": 26,
   "metadata": {},
   "outputs": [],
   "source": [
    "results = {}\n",
    "results['historical-AR6'] = {}\n",
    "MODEL_TIMESTEP = runner.delta_t.to('s').magnitude\n",
    "results['historical-AR6']['effective_radiative_forcing'] = output.filter(variable='Effective Radiative Forcing').timeseries().values.T\n",
    "results['historical-AR6']['surface_temperature'] = output.filter(variable='Surface Temperature|Upper').timeseries().values.T\n",
    "results['historical-AR6']['deep_ocean_temperature'] = output.filter(variable='Surface Temperature|Lower').timeseries().values.T\n",
    "results['historical-AR6']['net_energy_imbalance'] = output.filter(variable='Heat Uptake').timeseries().values.T\n",
    "results['historical-AR6']['ocean_heat_content'] = (\n",
    "    np.cumsum(results['historical-AR6']['net_energy_imbalance'], axis=0) * 4 * np.pi * EARTH_RADIUS**2 * MODEL_TIMESTEP\n",
    ")\n",
    "results['historical-AR6']['ECS'] = ecs.values\n",
    "results['historical-AR6']['TCR'] = tcr.values\n",
    "results['historical-AR6']['lambda0'] = lambda0.magnitude\n",
    "results['historical-AR6']['eta'] = eta.magnitude\n",
    "results['historical-AR6']['efficacy'] = efficacy.magnitude\n",
    "results['historical-AR6']['dl'] = dl.magnitude\n",
    "results['historical-AR6']['du'] = du.magnitude\n",
    "\n",
    "save_dict_to_hdf5(results, '../data_input_large/twolayer_historical-AR6.h5')"
   ]
  },
  {
   "cell_type": "code",
   "execution_count": 27,
   "metadata": {},
   "outputs": [
    {
     "data": {
      "text/plain": [
       "array([3.55044937, 4.30303667, 2.82109489, ..., 5.29655986, 5.4780249 ,\n",
       "       2.41349793])"
      ]
     },
     "execution_count": 27,
     "metadata": {},
     "output_type": "execute_result"
    }
   ],
   "source": [
    "results['historical-AR6']['ECS']"
   ]
  }
 ],
 "metadata": {
  "kernelspec": {
   "display_name": "Python 3",
   "language": "python",
   "name": "python3"
  },
  "language_info": {
   "codemirror_mode": {
    "name": "ipython",
    "version": 3
   },
   "file_extension": ".py",
   "mimetype": "text/x-python",
   "name": "python",
   "nbconvert_exporter": "python",
   "pygments_lexer": "ipython3",
   "version": "3.7.9"
  }
 },
 "nbformat": 4,
 "nbformat_minor": 4
}
