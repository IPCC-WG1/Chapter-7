{
 "cells": [
  {
   "cell_type": "markdown",
   "metadata": {},
   "source": [
    "# Like fig. 7.7 but for emissions (plot is the remit of Sara / Terje / Sophie)\n",
    "\n",
    "Theme Song: Deus Ex Machina<br>\n",
    "Artist: Pure Reason Revolution<br>\n",
    "Album: Amor Vincit Omnia<br>\n",
    "Released: 2009\n",
    "\n",
    "Temperature response to emissions 1750-2019"
   ]
  },
  {
   "cell_type": "code",
   "execution_count": 1,
   "metadata": {},
   "outputs": [],
   "source": [
    "import numpy as np\n",
    "import scipy.stats as st\n",
    "import pandas as pd\n",
    "import matplotlib.pyplot as pl\n",
    "import os\n",
    "from matplotlib import gridspec, rc\n",
    "from matplotlib.lines import Line2D\n",
    "import matplotlib.patches as mp\n",
    "from netCDF4 import Dataset\n",
    "import warnings\n",
    "\n",
    "from ar6.utils.h5 import *"
   ]
  },
  {
   "cell_type": "code",
   "execution_count": 2,
   "metadata": {},
   "outputs": [],
   "source": [
    "results = load_dict_from_hdf5('../data_output_large/twolayer_AR6-historical-emissions-based.h5')"
   ]
  },
  {
   "cell_type": "code",
   "execution_count": 3,
   "metadata": {},
   "outputs": [
    {
     "data": {
      "text/plain": [
       "dict_keys(['AR6-anthro_climuncert', 'remove_blc_aci_climuncert', 'remove_blc_ari_climuncert', 'remove_blc_bcs_climuncert', 'remove_ch4_aci_climuncert', 'remove_ch4_ari_climuncert', 'remove_ch4_ch4_climuncert', 'remove_ch4_co2_climuncert', 'remove_ch4_h2o_climuncert', 'remove_ch4_ozo_climuncert', 'remove_co2_co2_climuncert', 'remove_con_con_climuncert', 'remove_luc_luc_climuncert', 'remove_n2o_aci_climuncert', 'remove_n2o_ari_climuncert', 'remove_n2o_ch4_climuncert', 'remove_n2o_n2o_climuncert', 'remove_n2o_ozo_climuncert', 'remove_nh3_ari_climuncert', 'remove_nox_aci_climuncert', 'remove_nox_ari_climuncert', 'remove_nox_ch4_climuncert', 'remove_nox_ozo_climuncert', 'remove_orc_aci_climuncert', 'remove_orc_ari_climuncert', 'remove_oth_aci_climuncert', 'remove_oth_ari_climuncert', 'remove_oth_ch4_climuncert', 'remove_oth_co2_climuncert', 'remove_oth_oth_climuncert', 'remove_oth_ozo_climuncert', 'remove_so2_aci_climuncert', 'remove_so2_ari_climuncert', 'remove_voc_aci_climuncert', 'remove_voc_ari_climuncert', 'remove_voc_ch4_climuncert', 'remove_voc_co2_climuncert', 'remove_voc_ozo_climuncert'])"
      ]
     },
     "execution_count": 3,
     "metadata": {},
     "output_type": "execute_result"
    }
   ],
   "source": [
    "results.keys()"
   ]
  },
  {
   "cell_type": "code",
   "execution_count": 4,
   "metadata": {},
   "outputs": [
    {
     "data": {
      "text/plain": [
       "(270, 2237)"
      ]
     },
     "execution_count": 4,
     "metadata": {},
     "output_type": "execute_result"
    }
   ],
   "source": [
    "results['AR6-anthro_climuncert']['surface_temperature'].shape"
   ]
  },
  {
   "cell_type": "code",
   "execution_count": 5,
   "metadata": {},
   "outputs": [
    {
     "data": {
      "text/plain": [
       "0.0"
      ]
     },
     "execution_count": 5,
     "metadata": {},
     "output_type": "execute_result"
    }
   ],
   "source": [
    "results['AR6-anthro_climuncert']['surface_temperature'][0].mean()"
   ]
  },
  {
   "cell_type": "code",
   "execution_count": 6,
   "metadata": {},
   "outputs": [
    {
     "data": {
      "text/plain": [
       "['remove_blc_aci_climuncert',\n",
       " 'remove_blc_ari_climuncert',\n",
       " 'remove_blc_bcs_climuncert',\n",
       " 'remove_ch4_aci_climuncert',\n",
       " 'remove_ch4_ari_climuncert',\n",
       " 'remove_ch4_ch4_climuncert',\n",
       " 'remove_ch4_co2_climuncert',\n",
       " 'remove_ch4_h2o_climuncert',\n",
       " 'remove_ch4_ozo_climuncert',\n",
       " 'remove_co2_co2_climuncert',\n",
       " 'remove_con_con_climuncert',\n",
       " 'remove_luc_luc_climuncert',\n",
       " 'remove_n2o_aci_climuncert',\n",
       " 'remove_n2o_ari_climuncert',\n",
       " 'remove_n2o_ch4_climuncert',\n",
       " 'remove_n2o_n2o_climuncert',\n",
       " 'remove_n2o_ozo_climuncert',\n",
       " 'remove_nh3_ari_climuncert',\n",
       " 'remove_nox_aci_climuncert',\n",
       " 'remove_nox_ari_climuncert',\n",
       " 'remove_nox_ch4_climuncert',\n",
       " 'remove_nox_ozo_climuncert',\n",
       " 'remove_orc_aci_climuncert',\n",
       " 'remove_orc_ari_climuncert',\n",
       " 'remove_oth_aci_climuncert',\n",
       " 'remove_oth_ari_climuncert',\n",
       " 'remove_oth_ch4_climuncert',\n",
       " 'remove_oth_co2_climuncert',\n",
       " 'remove_oth_oth_climuncert',\n",
       " 'remove_oth_ozo_climuncert',\n",
       " 'remove_so2_aci_climuncert',\n",
       " 'remove_so2_ari_climuncert',\n",
       " 'remove_voc_aci_climuncert',\n",
       " 'remove_voc_ari_climuncert',\n",
       " 'remove_voc_ch4_climuncert',\n",
       " 'remove_voc_co2_climuncert',\n",
       " 'remove_voc_ozo_climuncert']"
      ]
     },
     "execution_count": 6,
     "metadata": {},
     "output_type": "execute_result"
    }
   ],
   "source": [
    "forcings = list(results.keys())\n",
    "forcings.remove('AR6-anthro_climuncert')\n",
    "forcings"
   ]
  },
  {
   "cell_type": "code",
   "execution_count": 7,
   "metadata": {},
   "outputs": [],
   "source": [
    "AR6_ecsforc = {}\n",
    "\n",
    "for forcing in forcings:\n",
    "    AR6_ecsforc[forcing[7:14]] = np.zeros(5)\n",
    "    AR6_ecsforc[forcing[7:14]] = np.percentile(\n",
    "        (results['AR6-anthro_climuncert']['surface_temperature'][-1] - results['AR6-anthro_climuncert']['surface_temperature'][0])-\n",
    "        (results[forcing]['surface_temperature'][-1] - results[forcing]['surface_temperature'][0]), (5,16,50,84,95)\n",
    "    )"
   ]
  },
  {
   "cell_type": "code",
   "execution_count": 8,
   "metadata": {},
   "outputs": [
    {
     "data": {
      "text/plain": [
       "dict_keys(['blc_aci', 'blc_ari', 'blc_bcs', 'ch4_aci', 'ch4_ari', 'ch4_ch4', 'ch4_co2', 'ch4_h2o', 'ch4_ozo', 'co2_co2', 'con_con', 'luc_luc', 'n2o_aci', 'n2o_ari', 'n2o_ch4', 'n2o_n2o', 'n2o_ozo', 'nh3_ari', 'nox_aci', 'nox_ari', 'nox_ch4', 'nox_ozo', 'orc_aci', 'orc_ari', 'oth_aci', 'oth_ari', 'oth_ch4', 'oth_co2', 'oth_oth', 'oth_ozo', 'so2_aci', 'so2_ari', 'voc_aci', 'voc_ari', 'voc_ch4', 'voc_co2', 'voc_ozo'])"
      ]
     },
     "execution_count": 8,
     "metadata": {},
     "output_type": "execute_result"
    }
   ],
   "source": [
    "AR6_ecsforc.keys()"
   ]
  },
  {
   "cell_type": "code",
   "execution_count": 9,
   "metadata": {},
   "outputs": [
    {
     "name": "stdout",
     "output_type": "stream",
     "text": [
      "[0.00605408 0.00685012 0.00829478 0.01006824 0.01153   ]\n"
     ]
    }
   ],
   "source": [
    "print(AR6_ecsforc['ch4_co2'])"
   ]
  },
  {
   "cell_type": "code",
   "execution_count": 10,
   "metadata": {},
   "outputs": [],
   "source": [
    "emissions = ['co2', 'ch4', 'n2o', 'oth', 'nox', 'voc', 'so2', 'blc', 'orc', 'nh3', 'con', 'luc']\n",
    "forc = ['co2', 'ch4', 'n2o', 'oth', 'ozo', 'h2o', 'ari', 'aci', 'bcs', 'con', 'luc']\n",
    "\n",
    "emissions_full = ['CO2', 'CH4', 'N2O', 'Halocarbons', 'NOx', 'VOC', 'SO2', 'BC', 'OC', 'NH3', 'Contrails', 'Land use']\n",
    "forcings_full = ['CO2', 'CH4', 'N2O', 'Halocarbons', 'O3', 'Stratospheric H2O', 'Aerosol-radiation', 'Aerosol-cloud', 'BC on snow', 'Contrails', 'Land use']\n",
    "\n",
    "results = np.zeros((len(emissions), len(forc)))\n",
    "\n",
    "for i, em in enumerate(emissions):\n",
    "    for j, fo in enumerate(forc):\n",
    "        combo = '%s_%s' % (em, fo)\n",
    "        if combo in AR6_ecsforc.keys():\n",
    "            #print(AR6_ecsforc[combo][2])\n",
    "            results[i, j] = AR6_ecsforc[combo][2]"
   ]
  },
  {
   "cell_type": "code",
   "execution_count": 11,
   "metadata": {},
   "outputs": [],
   "source": [
    "df50 = pd.DataFrame(results, index=emissions_full, columns=forcings_full)\n",
    "df50.to_csv('../data_output/GSAT_by_emissions.csv')"
   ]
  },
  {
   "cell_type": "code",
   "execution_count": null,
   "metadata": {},
   "outputs": [],
   "source": []
  }
 ],
 "metadata": {
  "kernelspec": {
   "display_name": "Python 3",
   "language": "python",
   "name": "python3"
  },
  "language_info": {
   "codemirror_mode": {
    "name": "ipython",
    "version": 3
   },
   "file_extension": ".py",
   "mimetype": "text/x-python",
   "name": "python",
   "nbconvert_exporter": "python",
   "pygments_lexer": "ipython3",
   "version": "3.7.10"
  }
 },
 "nbformat": 4,
 "nbformat_minor": 4
}
