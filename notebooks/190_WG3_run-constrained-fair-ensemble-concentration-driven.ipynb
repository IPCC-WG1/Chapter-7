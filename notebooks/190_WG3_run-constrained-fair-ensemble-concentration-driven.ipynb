{
 "cells": [
  {
   "cell_type": "markdown",
   "metadata": {},
   "source": [
    "# Run the constrained FaIR ensemble driven by concentrations\n",
    "\n",
    "for comparison in box 7.1"
   ]
  },
  {
   "cell_type": "code",
   "execution_count": 1,
   "metadata": {},
   "outputs": [
    {
     "data": {
      "application/javascript": [
       "IPython.OutputArea.prototype._should_scroll = function(lines) { return false; }"
      ],
      "text/plain": [
       "<IPython.core.display.Javascript object>"
      ]
     },
     "metadata": {},
     "output_type": "display_data"
    }
   ],
   "source": [
    "import fair\n",
    "import matplotlib.pyplot as pl\n",
    "import pandas as pd\n",
    "import numpy as np\n",
    "import scipy.stats as st\n",
    "import os\n",
    "import errno\n",
    "import random\n",
    "import json\n",
    "import warnings\n",
    "import datetime as dt\n",
    "from multiprocessing import Pool\n",
    "from ar6.utils import mkdir_p\n",
    "from scipy.interpolate import interp1d\n",
    "from fair.forward import fair_scm\n",
    "from fair.inverse import inverse_fair_scm\n",
    "from fair.constants.general import ppm_gtc\n",
    "from fair.constants import molwt\n",
    "from fair.forcing.ghg import co2_log\n",
    "from fair.RCPs import rcp26, rcp45, rcp60, rcp85\n",
    "from fair.tools.constrain import hist_temp\n",
    "from fair.constants.general import EARTH_RADIUS, SECONDS_PER_YEAR\n",
    "from tqdm.notebook import tqdm\n",
    "\n",
    "from scmdata.run import ScmRun, run_append\n",
    "from scmdata.netcdf import nc_to_run\n",
    "\n",
    "from netCDF4 import Dataset\n",
    "\n",
    "NTOA_ZJ = 4 * np.pi * EARTH_RADIUS**2 * SECONDS_PER_YEAR * 1e-21"
   ]
  },
  {
   "cell_type": "code",
   "execution_count": 2,
   "metadata": {},
   "outputs": [
    {
     "data": {
      "text/plain": [
       "'1.6.2'"
      ]
     },
     "execution_count": 2,
     "metadata": {},
     "output_type": "execute_result"
    }
   ],
   "source": [
    "fair.__version__"
   ]
  },
  {
   "cell_type": "code",
   "execution_count": 3,
   "metadata": {},
   "outputs": [],
   "source": [
    "with open('../data_output_large/fair-samples/fair-1.6.2-wg3-params.json') as f:\n",
    "    config_list = json.load(f)"
   ]
  },
  {
   "cell_type": "code",
   "execution_count": 4,
   "metadata": {},
   "outputs": [
    {
     "data": {
      "text/plain": [
       "2237"
      ]
     },
     "execution_count": 4,
     "metadata": {},
     "output_type": "execute_result"
    }
   ],
   "source": [
    "config_list[0]\n",
    "len(config_list)"
   ]
  },
  {
   "cell_type": "code",
   "execution_count": 5,
   "metadata": {},
   "outputs": [],
   "source": [
    "climate_model = 'FaIRv%s' % fair.__version__\n",
    "model         = 'unspecified'\n",
    "region        = 'World'"
   ]
  },
  {
   "cell_type": "code",
   "execution_count": 6,
   "metadata": {},
   "outputs": [],
   "source": [
    "VARIABLES = [\n",
    "        \"Surface Temperature\",\n",
    "        \"Surface Temperature (GMST)\",\n",
    "        \"Effective Radiative Forcing\",\n",
    "        \"Effective Radiative Forcing|CO2\",\n",
    "        \"Effective Radiative Forcing|CH4\",\n",
    "        \"Effective Radiative Forcing|N2O\",\n",
    "        \"Effective Radiative Forcing|Greenhouse Gases\",\n",
    "        \"Effective Radiative Forcing|Aerosols\",\n",
    "        \"Effective Radiative Forcing|Aerosols|Direct Effect|BC\",\n",
    "        \"Effective Radiative Forcing|Aerosols|Direct Effect|OC\",\n",
    "        \"Effective Radiative Forcing|Aerosols|Direct Effect|Sulfur\",\n",
    "        \"Effective Radiative Forcing|Aerosols|Direct Effect|Nitrate\",\n",
    "        \"Effective Radiative Forcing|Aerosols|Direct Effect\",\n",
    "        \"Effective Radiative Forcing|Aerosols|Indirect Effect\",\n",
    "        \"Heat Uptake\",\n",
    "        \"Heat Uptake|Ocean\",\n",
    "        \"Airborne Fraction|CO2\",\n",
    "        \"Cumulative Emissions|CO2\",\n",
    "        \"Instantaneous TCRE\",\n",
    "    ]\n",
    "\n",
    "UNITS = [\n",
    "        'K',\n",
    "        'K',\n",
    "        'W/m^2',\n",
    "        'W/m^2',\n",
    "        'W/m^2',\n",
    "        'W/m^2',\n",
    "        'W/m^2',\n",
    "        'W/m^2',\n",
    "        'W/m^2',\n",
    "        'W/m^2',\n",
    "        'W/m^2',\n",
    "        'W/m^2',\n",
    "        'W/m^2',\n",
    "        'W/m^2',\n",
    "        'ZJ/yr',\n",
    "        'ZJ/yr',\n",
    "        'Dimensionless',\n",
    "        'MtCO2',\n",
    "        'K/MtCO2'\n",
    "    ]\n",
    "\n",
    "NVAR = len(VARIABLES)"
   ]
  },
  {
   "cell_type": "code",
   "execution_count": 7,
   "metadata": {},
   "outputs": [],
   "source": [
    "conc_all = pd.read_csv('../data_input_large/rcmip-concentrations-annual-means-v5-1-0.csv')"
   ]
  },
  {
   "cell_type": "markdown",
   "metadata": {},
   "source": [
    "## 1pctCO2"
   ]
  },
  {
   "cell_type": "code",
   "execution_count": 8,
   "metadata": {},
   "outputs": [],
   "source": [
    "conc_subset = conc_all[(conc_all['Model']=='unspecified')&(conc_all['Scenario']=='1pctCO2')&(conc_all['Region']=='World')]\n",
    "gases=['CO2','CH4','N2O','CF4','C2F6','C6F14','HFC23','HFC32','HFC4310mee','HFC125','HFC134a','HFC143a',\n",
    "       'HFC227ea','HFC245fa','SF6','CFC11','CFC12','CFC113','CFC114','CFC115','CCl4','CH3CCl3','HCFC22',\n",
    "       'HCFC141b','HCFC142b','Halon1211','Halon1202','Halon1301','Halon2402','CH3Br','CH3Cl']\n",
    "conc = np.zeros((151,31))\n",
    "for ig, gas in enumerate(gases):\n",
    "    try:\n",
    "        conc[:,ig] = conc_subset[conc_subset.Variable.str.endswith(gas)].loc[:,'1850':'2000'].values\n",
    "    except:\n",
    "        conc[:,ig] = 0"
   ]
  },
  {
   "cell_type": "code",
   "execution_count": 9,
   "metadata": {},
   "outputs": [
    {
     "data": {
      "application/vnd.jupyter.widget-view+json": {
       "model_id": "f8bf5919c4c64eefb07cf873b63dad70",
       "version_major": 2,
       "version_minor": 0
      },
      "text/plain": [
       "  0%|          | 0/2237 [00:00<?, ?it/s]"
      ]
     },
     "metadata": {},
     "output_type": "display_data"
    }
   ],
   "source": [
    "results = np.empty((151,0))\n",
    "expt = '1pctCO2'\n",
    "\n",
    "def run_fair(args):\n",
    "    with warnings.catch_warnings():\n",
    "        warnings.simplefilter('ignore')\n",
    "        C,F,T,ariaci, lambda_eff, ohc, heatflux = fair_scm(\n",
    "            emissions_driven=False,\n",
    "            C_pi = conc[0,:],\n",
    "            C = conc,\n",
    "            F_volcanic=0,\n",
    "            F_solar=0,\n",
    "            F2x=args['F2x'],\n",
    "            ariaci_out=True,\n",
    "            ghg_forcing='Meinshausen',\n",
    "            efficacy=np.ones(13),\n",
    "            temperature_function='Geoffroy',\n",
    "            lambda_global = args['lambda_global'],  # this and the below only used in two-layer model\n",
    "            deep_ocean_efficacy = args['deep_ocean_efficacy'],\n",
    "            ocean_heat_capacity = np.asarray(args['ocean_heat_capacity']),\n",
    "            ocean_heat_exchange = args['ocean_heat_exchange'],\n",
    "        )\n",
    "\n",
    "        E,Fe,Te,lambda_effe, ohce, heatfluxe, af = inverse_fair_scm(\n",
    "            conc[:,0],\n",
    "            F2x=args['F2x'],\n",
    "            C_pi = conc[0,0],\n",
    "            r0=args['r0'],\n",
    "            rt=args['rt'],\n",
    "            rc=args['rc'],\n",
    "            F_in = np.sum(F, axis=1),\n",
    "            temperature_function='Geoffroy',\n",
    "            lambda_global = args['lambda_global'],  # this and the below only used in two-layer model\n",
    "            deep_ocean_efficacy = args['deep_ocean_efficacy'],\n",
    "            ocean_heat_capacity = np.asarray(args['ocean_heat_capacity']),\n",
    "            ocean_heat_exchange = args['ocean_heat_exchange'],\n",
    "            )\n",
    "    \n",
    "        nt = len(T)\n",
    "        cumE = np.cumsum(E) * molwt.CO2/molwt.C*1000.\n",
    "        Catmpool = C[:,0]*ppm_gtc*molwt.CO2/molwt.C*1000.\n",
    "        Cburden = (C[:,0]-C[0,0])*ppm_gtc*molwt.CO2/molwt.C*1000.\n",
    "        ECSeff = args['F2x'] * 0.4778646 / lambda_eff\n",
    "        af = Cburden/cumE\n",
    "    \n",
    "        return (T, np.sum(F, axis=1), heatflux*NTOA_ZJ, af, cumE, T/cumE)\n",
    "\n",
    "if __name__ == '__main__':\n",
    "    with Pool(16) as pool:\n",
    "        result = list(tqdm(pool.imap(run_fair, config_list), total=len(config_list)))"
   ]
  },
  {
   "cell_type": "code",
   "execution_count": 10,
   "metadata": {},
   "outputs": [
    {
     "data": {
      "text/plain": [
       "6"
      ]
     },
     "execution_count": 10,
     "metadata": {},
     "output_type": "execute_result"
    }
   ],
   "source": [
    "len(result[0])"
   ]
  },
  {
   "cell_type": "code",
   "execution_count": 11,
   "metadata": {},
   "outputs": [],
   "source": [
    "result_t = np.array(result).transpose(1,2,0)\n",
    "nt = result_t.shape[1]"
   ]
  },
  {
   "cell_type": "code",
   "execution_count": 12,
   "metadata": {},
   "outputs": [
    {
     "data": {
      "image/png": "[encoded data removed]",
      "text/plain": [
       "<Figure size 432x288 with 1 Axes>"
      ]
     },
     "metadata": {
      "needs_background": "light"
     },
     "output_type": "display_data"
    }
   ],
   "source": [
    "pl.plot(np.arange(1850,1850+nt), result_t[5,:,:]);"
   ]
  },
  {
   "cell_type": "code",
   "execution_count": 13,
   "metadata": {},
   "outputs": [
    {
     "data": {
      "text/plain": [
       "array([1.36457307, 1.51957868, 1.80631106, 2.14881249, 2.46177582])"
      ]
     },
     "execution_count": 13,
     "metadata": {},
     "output_type": "execute_result"
    },
    {
     "data": {
      "image/png": "[encoded data removed]",
      "text/plain": [
       "<Figure size 432x288 with 1 Axes>"
      ]
     },
     "metadata": {
      "needs_background": "light"
     },
     "output_type": "display_data"
    }
   ],
   "source": [
    "# concentration driven TCR estimate\n",
    "pl.hist(result_t[0,70,:])\n",
    "np.percentile(result_t[0,70,:], (5,16,50,84,95))"
   ]
  },
  {
   "cell_type": "code",
   "execution_count": 14,
   "metadata": {},
   "outputs": [
    {
     "data": {
      "text/plain": [
       "array([4.13183967, 4.19808869, 4.31228821, 4.44135455, 4.52870609])"
      ]
     },
     "execution_count": 14,
     "metadata": {},
     "output_type": "execute_result"
    },
    {
     "data": {
      "image/png": "[encoded data removed]",
      "text/plain": [
       "<Figure size 432x288 with 1 Axes>"
      ]
     },
     "metadata": {
      "needs_background": "light"
     },
     "output_type": "display_data"
    }
   ],
   "source": [
    "# cumulative emissions\n",
    "pl.hist(result_t[4,70,:]  / 1000000)\n",
    "np.percentile(result_t[4,70,:]  / 1000000, (5,16,50,84,95))"
   ]
  },
  {
   "cell_type": "code",
   "execution_count": 15,
   "metadata": {},
   "outputs": [
    {
     "data": {
      "text/plain": [
       "array([0.4930788 , 0.50277656, 0.51782461, 0.53191086, 0.5404394 ])"
      ]
     },
     "execution_count": 15,
     "metadata": {},
     "output_type": "execute_result"
    },
    {
     "data": {
      "image/png": "[encoded data removed]",
      "text/plain": [
       "<Figure size 432x288 with 1 Axes>"
      ]
     },
     "metadata": {
      "needs_background": "light"
     },
     "output_type": "display_data"
    }
   ],
   "source": [
    "# airborne fraction after 70 years\n",
    "pl.hist(result_t[3,70,:])\n",
    "np.percentile(result_t[3,70,:], (5,16,50,84,95))"
   ]
  },
  {
   "cell_type": "code",
   "execution_count": 16,
   "metadata": {},
   "outputs": [
    {
     "data": {
      "text/plain": [
       "593.6"
      ]
     },
     "execution_count": 16,
     "metadata": {},
     "output_type": "execute_result"
    }
   ],
   "source": [
    "280 * 2.12\n",
    "\n",
    "# ppm * GtC / ppm = GtC"
   ]
  },
  {
   "cell_type": "code",
   "execution_count": 17,
   "metadata": {},
   "outputs": [
    {
     "data": {
      "text/plain": [
       "array([1.1727509 , 1.3109524 , 1.57596292, 1.88548882, 2.16675116])"
      ]
     },
     "execution_count": 17,
     "metadata": {},
     "output_type": "execute_result"
    },
    {
     "data": {
      "image/png": "[encoded data removed]",
      "text/plain": [
       "<Figure size 432x288 with 1 Axes>"
      ]
     },
     "metadata": {
      "needs_background": "light"
     },
     "output_type": "display_data"
    }
   ],
   "source": [
    "tcre = result_t[3,70,:] * result_t[0,70,:] / 0.593\n",
    "#      [dimensionless]  * K / (CO2 doubling)\n",
    "\n",
    "# where does 0.6 come from? IT'S THE CONVERSION FROM PPM TO GtC FOR A CO2 DOUBLING\n",
    "\n",
    "#results.shape\n",
    "pl.hist(tcre)\n",
    "np.percentile(tcre, (5,16,50,84,95))"
   ]
  },
  {
   "cell_type": "code",
   "execution_count": 18,
   "metadata": {},
   "outputs": [],
   "source": [
    "def new_timeseries(\n",
    "    data,\n",
    "    n=100,\n",
    "    climate_model=\"FaIRv%s\" % fair.__version__,\n",
    "    model='unspecified',\n",
    "    scenario=\"unspecified\",\n",
    "    variable=\"unspecified\",\n",
    "    unit=\"unspecified\",\n",
    "    region=\"World\",\n",
    "    cls=ScmRun,\n",
    "    **kwargs,\n",
    "):\n",
    "    index = 1850 + np.arange(n)\n",
    "    return cls(\n",
    "        data,\n",
    "        columns={\n",
    "            \"model\": model,\n",
    "            \"climate_model\": climate_model,\n",
    "            \"scenario\": scenario,\n",
    "            \"variable\": variable,\n",
    "            \"region\": region,\n",
    "            \"unit\": unit,\n",
    "            **kwargs,\n",
    "        },\n",
    "        index=index,\n",
    "    )"
   ]
  },
  {
   "cell_type": "code",
   "execution_count": 19,
   "metadata": {},
   "outputs": [
    {
     "data": {
      "text/plain": [
       "(6, 151)"
      ]
     },
     "execution_count": 19,
     "metadata": {},
     "output_type": "execute_result"
    }
   ],
   "source": [
    "result_t[:,:,0].shape"
   ]
  },
  {
   "cell_type": "code",
   "execution_count": 20,
   "metadata": {},
   "outputs": [],
   "source": [
    "mkdir_p('../data_output_large/fair-samples/concentration_driven/')"
   ]
  },
  {
   "cell_type": "code",
   "execution_count": 21,
   "metadata": {},
   "outputs": [],
   "source": [
    "VARIABLES_1PCT = [\n",
    "        \"Surface Temperature\",\n",
    "        \"Effective Radiative Forcing\",\n",
    "        \"Heat Uptake\",\n",
    "        \"Airborne Fraction|CO2\",\n",
    "        \"Cumulative Emissions|CO2\",\n",
    "        \"Instantaneous TCRE\",\n",
    "    ]\n",
    "\n",
    "UNITS_1PCT = [\n",
    "        'K',\n",
    "        'W/m^2',\n",
    "        'ZJ/yr',\n",
    "        'Dimensionless',\n",
    "        'MtCO2',\n",
    "        'K/TtC'\n",
    "    ]\n",
    "\n",
    "NVAR_1PCT = len(VARIABLES_1PCT)\n",
    "\n",
    "runs = run_append(\n",
    "    [\n",
    "        new_timeseries(\n",
    "            result_t[:,:,ensemble_member].T,\n",
    "            n=result_t.shape[1],\n",
    "            scenario=expt,\n",
    "            variable=VARIABLES_1PCT,\n",
    "            unit=UNITS_1PCT,\n",
    "            ensemble_member=ensemble_member,\n",
    "        )\n",
    "        for ensemble_member in range(len(config_list))\n",
    "    ]\n",
    ")\n",
    "runs.metadata[\"source\"] = \"FaIRv%s AR6 runs %02d.%02d.%d\" % (fair.__version__, dt.date.today().day, dt.date.today().month, dt.date.today().year)\n",
    "runs.to_nc('../data_output_large/fair-samples/concentration_driven/FaIR1.6.2_%s.nc' % expt, dimensions=[\"ensemble_member\"])\n",
    "runs.to_csv('../data_output_large/fair-samples/concentration_driven/FaIR1.6.2_%s.csv' % expt)"
   ]
  },
  {
   "cell_type": "markdown",
   "metadata": {},
   "source": [
    "## ssp119"
   ]
  },
  {
   "cell_type": "code",
   "execution_count": 22,
   "metadata": {},
   "outputs": [
    {
     "data": {
      "application/vnd.jupyter.widget-view+json": {
       "model_id": "3785f8db4a214d3a9bedc9286ebe9269",
       "version_major": 2,
       "version_minor": 0
      },
      "text/plain": [
       "  0%|          | 0/2237 [00:00<?, ?it/s]"
      ]
     },
     "metadata": {},
     "output_type": "display_data"
    }
   ],
   "source": [
    "expt = 'ssp119'\n",
    "emis_all = pd.read_csv('../data_input_large/rcmip-emissions-annual-means-v5-1-0.csv')\n",
    "emis_subset = emis_all[(emis_all['Scenario']==expt)&(emis_all['Region']=='World')]\n",
    "species=['CO2|MAGICC Fossil and Industrial','CO2|MAGICC AFOLU','CH4','N2O','Sulfur','CO','VOC','NOx','BC','|OC','NH3',\n",
    "         'CF4','C2F6','C6F14','HFC23','HFC32','HFC4310mee','HFC125','HFC134a','HFC143a',\n",
    "         'HFC227ea','HFC245fa','SF6','CFC11','CFC12','CFC113','CFC114','CFC115','CCl4','CH3CCl3','HCFC22',\n",
    "         'HCFC141b','HCFC142b','Halon1211','Halon1202','Halon1301','Halon2402','CH3Br','|CH3Cl']\n",
    "emis = np.zeros((751,40))\n",
    "emis[:,0] = np.arange(1750,2501)\n",
    "for ie, specie in enumerate(species):\n",
    "    try:\n",
    "        temp = emis_subset[emis_subset.Variable.str.endswith(specie)].loc[:,'1750':'2500'].values.squeeze()\n",
    "        emis[:,ie+1] = pd.Series(temp).interpolate().values\n",
    "    except:\n",
    "        emis[:,ie+1] = 0\n",
    "temp = emis_subset[emis_subset['Variable']=='Emissions|NOx|MAGICC Fossil and Industrial|Aircraft'].loc[:,'1750':'2500'].values.squeeze()\n",
    "aviNOx = pd.Series(temp).interpolate().values\n",
    "aviNOx_frac = aviNOx/emis[:,8]\n",
    "# \n",
    "unit_convert = np.ones(40)\n",
    "unit_convert[1]=0.001 * molwt.C/molwt.CO2\n",
    "unit_convert[2]=0.001 * molwt.C/molwt.CO2\n",
    "unit_convert[4]=0.001 * molwt.N2/molwt.N2O\n",
    "unit_convert[5]=molwt.S/molwt.SO2\n",
    "unit_convert[8]=molwt.N/molwt.NO2\n",
    "\n",
    "emis = emis * unit_convert\n",
    "\n",
    "conc_subset = conc_all[(conc_all['Scenario']==expt)&(conc_all['Region']=='World')]\n",
    "gases=['CO2','CH4','N2O','CF4','C2F6','C6F14','HFC23','HFC32','HFC4310mee','HFC125','HFC134a','HFC143a',\n",
    "       'HFC227ea','HFC245fa','SF6','CFC11','CFC12','CFC113','CFC114','CFC115','CCl4','CH3CCl3','HCFC22',\n",
    "       'HCFC141b','HCFC142b','Halon1211','Halon1202','Halon1301','Halon2402','CH3Br','CH3Cl']\n",
    "conc = np.zeros((751,31))\n",
    "for ig, gas in enumerate(gases):\n",
    "    try:\n",
    "        temp = conc_subset[conc_subset.Variable.str.endswith(gas)].loc[:,'1750':'2500'].values.squeeze()\n",
    "        conc[:,ig] = pd.Series(temp).interpolate().values\n",
    "    except:\n",
    "        conc[:,ig] = 0\n",
    "\n",
    "nt = 751\n",
    "def run_fair(args):\n",
    "    with warnings.catch_warnings():\n",
    "        warnings.simplefilter('ignore')\n",
    "        F_solar = np.zeros(751)\n",
    "        F_volcanic = np.zeros(751)\n",
    "        F_solar[:351] = args['F_solar']\n",
    "        F_volcanic[:351] = args['F_volcanic']\n",
    "        \n",
    "        C,F,T,ariaci, lambda_eff, ohc, heatflux = fair_scm(\n",
    "            emissions=emis,\n",
    "            emissions_driven=False,\n",
    "            C_pi = conc[0,:],\n",
    "            C = conc,\n",
    "            natural=np.zeros((751,2)),\n",
    "            F_volcanic=F_volcanic,#np.mean(F_volcanic),\n",
    "            F_solar=F_solar,\n",
    "            F2x=args['F2x'],\n",
    "            ariaci_out=True,\n",
    "            ghg_forcing='Meinshausen',\n",
    "            scale=np.asarray(args['scale']),\n",
    "            aerosol_forcing='aerocom+ghan2',\n",
    "            b_aero = np.asarray(args['b_aero']),\n",
    "            ghan_params=np.asarray(args['ghan_params']),\n",
    "            tropO3_forcing='thorhnill+skeie',\n",
    "            ozone_feedback=args['ozone_feedback'],\n",
    "            b_tro3 = np.array(args['b_tro3']),\n",
    "            E_pi=emis[0,:],\n",
    "            scaleAerosolAR5=False,\n",
    "            scaleHistoricalAR5=False,\n",
    "            fixPre1850RCP=False,\n",
    "            aviNOx_frac=0,\n",
    "            aCO2land = args['aCO2land'],\n",
    "            stwv_from_ch4 = args['stwv_from_ch4'],\n",
    "            F_ref_BC = args['F_ref_BC'],\n",
    "            E_ref_BC = args['E_ref_BC'],\n",
    "            efficacy=np.ones(45),\n",
    "            diagnostics='AR6',\n",
    "            temperature_function='Geoffroy',\n",
    "            lambda_global = args['lambda_global'],  # this and the below only used in two-layer model\n",
    "            deep_ocean_efficacy = args['deep_ocean_efficacy'],\n",
    "            ocean_heat_capacity = np.asarray(args['ocean_heat_capacity']),\n",
    "            ocean_heat_exchange = args['ocean_heat_exchange'],\n",
    "        )\n",
    "\n",
    "        E,Fe,Te,lambda_effe, ohce, heatfluxe, af = inverse_fair_scm(\n",
    "            conc[:,0],\n",
    "            F2x=args['F2x'],\n",
    "            C_pi = conc[0,0],\n",
    "            r0=args['r0'],\n",
    "            rt=args['rt'],\n",
    "            rc=args['rc'],\n",
    "            F_in = np.sum(F, axis=1),\n",
    "            temperature_function='Geoffroy',\n",
    "            lambda_global = args['lambda_global'],  # this and the below only used in two-layer model\n",
    "            deep_ocean_efficacy = args['deep_ocean_efficacy'],\n",
    "            ocean_heat_capacity = np.asarray(args['ocean_heat_capacity']),\n",
    "            ocean_heat_exchange = args['ocean_heat_exchange'],\n",
    "            )\n",
    "\n",
    "        nt = len(T)\n",
    "        cumE = np.cumsum(E) * molwt.CO2/molwt.C*1000.\n",
    "        Catmpool = C[:,0]*ppm_gtc*molwt.CO2/molwt.C*1000.\n",
    "        Cburden = (C[:,0]-C[0,0])*ppm_gtc*molwt.CO2/molwt.C*1000.\n",
    "        ECSeff = args['F2x'] * 0.4778646 / lambda_eff\n",
    "        af = Cburden/cumE\n",
    "\n",
    "        return(\n",
    "            T, T/1.04, np.sum(F, axis=1), F[:,0], F[:,1], F[:,2], np.sum(F[:,:31], axis=1),\n",
    "            np.sum(F[:,35:41], axis=1), F[:,38], F[:,39], F[:,35], F[:,37],\n",
    "            ariaci[:,0], ariaci[:,1], heatflux*NTOA_ZJ, heatflux*NTOA_ZJ*0.92,\n",
    "            af, cumE, T/cumE\n",
    "        )\n",
    "    \n",
    "if __name__ == '__main__':\n",
    "    with Pool(16) as pool:\n",
    "        result = list(tqdm(pool.imap(run_fair, config_list), total=len(config_list)))\n",
    "    result_t = np.array(result).transpose(1,2,0)"
   ]
  },
  {
   "cell_type": "code",
   "execution_count": 23,
   "metadata": {},
   "outputs": [
    {
     "data": {
      "image/png": "[encoded data removed]",
      "text/plain": [
       "<Figure size 432x288 with 1 Axes>"
      ]
     },
     "metadata": {
      "needs_background": "light"
     },
     "output_type": "display_data"
    }
   ],
   "source": [
    "pl.fill_between(np.arange(1750, 1750+nt), np.percentile(result_t[0,...], 5, axis=1), np.percentile(result_t[0,...], 95, axis=1))\n",
    "pl.plot(np.arange(1750,1750+nt), np.percentile(result_t[0,...], 50, axis=1), color='k');"
   ]
  },
  {
   "cell_type": "code",
   "execution_count": 24,
   "metadata": {},
   "outputs": [],
   "source": [
    "def new_timeseries(\n",
    "    data,\n",
    "    n=100,\n",
    "    climate_model=\"FaIRv%s\" % fair.__version__,\n",
    "    model='unspecified',\n",
    "    scenario=\"unspecified\",\n",
    "    variable=\"unspecified\",\n",
    "    unit=\"unspecified\",\n",
    "    region=\"World\",\n",
    "    cls=ScmRun,\n",
    "    **kwargs,\n",
    "):\n",
    "\n",
    "    index = 1750 + np.arange(n)\n",
    "    return cls(\n",
    "        data,\n",
    "        columns={\n",
    "            \"model\": model,\n",
    "            \"climate_model\": climate_model,\n",
    "            \"scenario\": scenario,\n",
    "            \"variable\": variable,\n",
    "            \"region\": region,\n",
    "            \"unit\": unit,\n",
    "            **kwargs,\n",
    "        },\n",
    "        index=index,\n",
    "    )"
   ]
  },
  {
   "cell_type": "code",
   "execution_count": 25,
   "metadata": {},
   "outputs": [],
   "source": [
    "runs = run_append(\n",
    "    [\n",
    "        new_timeseries(\n",
    "            result_t[:,:,ensemble_member].T,\n",
    "            n=result_t.shape[1],\n",
    "            scenario=expt,\n",
    "            variable=VARIABLES,\n",
    "            unit=UNITS,\n",
    "            ensemble_member=ensemble_member,\n",
    "        )\n",
    "        for ensemble_member in range(len(config_list))\n",
    "    ]\n",
    ")\n",
    "runs.metadata[\"source\"] = \"FaIRv%s AR6 runs %02d.%02d.%d\" % (fair.__version__, dt.date.today().day, dt.date.today().month, dt.date.today().year)\n",
    "runs.to_nc('../data_output_large/fair-samples/concentration_driven/FaIR1.6.2_%s.nc' % expt, dimensions=[\"ensemble_member\"])\n",
    "runs.to_csv('../data_output_large/fair-samples/concentration_driven/FaIR1.6.2_%s.csv' % expt)"
   ]
  },
  {
   "cell_type": "markdown",
   "metadata": {},
   "source": [
    "## ssp126"
   ]
  },
  {
   "cell_type": "code",
   "execution_count": 26,
   "metadata": {},
   "outputs": [
    {
     "data": {
      "application/vnd.jupyter.widget-view+json": {
       "model_id": "3dbb33c67e8d466f8155f7998801bef2",
       "version_major": 2,
       "version_minor": 0
      },
      "text/plain": [
       "  0%|          | 0/2237 [00:00<?, ?it/s]"
      ]
     },
     "metadata": {},
     "output_type": "display_data"
    }
   ],
   "source": [
    "expt = 'ssp126'\n",
    "emis_all = pd.read_csv('../data_input_large/rcmip-emissions-annual-means-v5-1-0.csv')\n",
    "emis_subset = emis_all[(emis_all['Scenario']==expt)&(emis_all['Region']=='World')]\n",
    "species=['CO2|MAGICC Fossil and Industrial','CO2|MAGICC AFOLU','CH4','N2O','Sulfur','CO','VOC','NOx','BC','|OC','NH3',\n",
    "         'CF4','C2F6','C6F14','HFC23','HFC32','HFC4310mee','HFC125','HFC134a','HFC143a',\n",
    "         'HFC227ea','HFC245fa','SF6','CFC11','CFC12','CFC113','CFC114','CFC115','CCl4','CH3CCl3','HCFC22',\n",
    "         'HCFC141b','HCFC142b','Halon1211','Halon1202','Halon1301','Halon2402','CH3Br','|CH3Cl']\n",
    "emis = np.zeros((751,40))\n",
    "emis[:,0] = np.arange(1750,2501)\n",
    "for ie, specie in enumerate(species):\n",
    "    try:\n",
    "        temp = emis_subset[emis_subset.Variable.str.endswith(specie)].loc[:,'1750':'2500'].values.squeeze()\n",
    "        emis[:,ie+1] = pd.Series(temp).interpolate().values\n",
    "    except:\n",
    "        emis[:,ie+1] = 0\n",
    "temp = emis_subset[emis_subset['Variable']=='Emissions|NOx|MAGICC Fossil and Industrial|Aircraft'].loc[:,'1750':'2500'].values.squeeze()\n",
    "aviNOx = pd.Series(temp).interpolate().values\n",
    "aviNOx_frac = aviNOx/emis[:,8]\n",
    "# \n",
    "unit_convert = np.ones(40)\n",
    "unit_convert[1]=0.001 * molwt.C/molwt.CO2\n",
    "unit_convert[2]=0.001 * molwt.C/molwt.CO2\n",
    "unit_convert[4]=0.001 * molwt.N2/molwt.N2O\n",
    "unit_convert[5]=molwt.S/molwt.SO2\n",
    "unit_convert[8]=molwt.N/molwt.NO2\n",
    "\n",
    "emis = emis * unit_convert\n",
    "\n",
    "conc_subset = conc_all[(conc_all['Scenario']==expt)&(conc_all['Region']=='World')]\n",
    "gases=['CO2','CH4','N2O','CF4','C2F6','C6F14','HFC23','HFC32','HFC4310mee','HFC125','HFC134a','HFC143a',\n",
    "       'HFC227ea','HFC245fa','SF6','CFC11','CFC12','CFC113','CFC114','CFC115','CCl4','CH3CCl3','HCFC22',\n",
    "       'HCFC141b','HCFC142b','Halon1211','Halon1202','Halon1301','Halon2402','CH3Br','CH3Cl']\n",
    "conc = np.zeros((751,31))\n",
    "for ig, gas in enumerate(gases):\n",
    "    try:\n",
    "        temp = conc_subset[conc_subset.Variable.str.endswith(gas)].loc[:,'1750':'2500'].values.squeeze()\n",
    "        conc[:,ig] = pd.Series(temp).interpolate().values\n",
    "    except:\n",
    "        conc[:,ig] = 0\n",
    "\n",
    "nt = 751\n",
    "def run_fair(args):\n",
    "    with warnings.catch_warnings():\n",
    "        warnings.simplefilter('ignore')\n",
    "        F_solar = np.zeros(751)\n",
    "        F_volcanic = np.zeros(751)\n",
    "        F_solar[:351] = args['F_solar']\n",
    "        F_volcanic[:351] = args['F_volcanic']\n",
    "        \n",
    "        C,F,T,ariaci, lambda_eff, ohc, heatflux = fair_scm(\n",
    "            emissions=emis,\n",
    "            emissions_driven=False,\n",
    "            C_pi = conc[0,:],\n",
    "            C = conc,\n",
    "            natural=np.zeros((751,2)),\n",
    "            F_volcanic=F_volcanic,#np.mean(F_volcanic),\n",
    "            F_solar=F_solar,\n",
    "            F2x=args['F2x'],\n",
    "            ariaci_out=True,\n",
    "            ghg_forcing='Meinshausen',\n",
    "            scale=np.asarray(args['scale']),\n",
    "            aerosol_forcing='aerocom+ghan2',\n",
    "            b_aero = np.asarray(args['b_aero']),\n",
    "            ghan_params=np.asarray(args['ghan_params']),\n",
    "            tropO3_forcing='thorhnill+skeie',\n",
    "            ozone_feedback=args['ozone_feedback'],\n",
    "            b_tro3 = np.array(args['b_tro3']),\n",
    "            E_pi=emis[0,:],\n",
    "            scaleAerosolAR5=False,\n",
    "            scaleHistoricalAR5=False,\n",
    "            fixPre1850RCP=False,\n",
    "            aviNOx_frac=0,\n",
    "            aCO2land = args['aCO2land'],\n",
    "            stwv_from_ch4 = args['stwv_from_ch4'],\n",
    "            F_ref_BC = args['F_ref_BC'],\n",
    "            E_ref_BC = args['E_ref_BC'],\n",
    "            efficacy=np.ones(45),\n",
    "            diagnostics='AR6',\n",
    "            temperature_function='Geoffroy',\n",
    "            lambda_global = args['lambda_global'],  # this and the below only used in two-layer model\n",
    "            deep_ocean_efficacy = args['deep_ocean_efficacy'],\n",
    "            ocean_heat_capacity = np.asarray(args['ocean_heat_capacity']),\n",
    "            ocean_heat_exchange = args['ocean_heat_exchange'],\n",
    "        )\n",
    "\n",
    "        E,Fe,Te,lambda_effe, ohce, heatfluxe, af = inverse_fair_scm(\n",
    "            conc[:,0],\n",
    "            F2x=args['F2x'],\n",
    "            C_pi = conc[0,0],\n",
    "            r0=args['r0'],\n",
    "            rt=args['rt'],\n",
    "            rc=args['rc'],\n",
    "            F_in = np.sum(F, axis=1),\n",
    "            temperature_function='Geoffroy',\n",
    "            lambda_global = args['lambda_global'],  # this and the below only used in two-layer model\n",
    "            deep_ocean_efficacy = args['deep_ocean_efficacy'],\n",
    "            ocean_heat_capacity = np.asarray(args['ocean_heat_capacity']),\n",
    "            ocean_heat_exchange = args['ocean_heat_exchange'],\n",
    "            )\n",
    "\n",
    "        nt = len(T)\n",
    "        cumE = np.cumsum(E) * molwt.CO2/molwt.C*1000.\n",
    "        Catmpool = C[:,0]*ppm_gtc*molwt.CO2/molwt.C*1000.\n",
    "        Cburden = (C[:,0]-C[0,0])*ppm_gtc*molwt.CO2/molwt.C*1000.\n",
    "        ECSeff = args['F2x'] * 0.4778646 / lambda_eff\n",
    "        af = Cburden/cumE\n",
    "\n",
    "        return(\n",
    "            T, T/1.04, np.sum(F, axis=1), F[:,0], F[:,1], F[:,2], np.sum(F[:,:31], axis=1),\n",
    "            np.sum(F[:,35:41], axis=1), F[:,38], F[:,39], F[:,35], F[:,37],\n",
    "            ariaci[:,0], ariaci[:,1], heatflux*NTOA_ZJ, heatflux*NTOA_ZJ*0.92,\n",
    "            af, cumE, T/cumE\n",
    "        )\n",
    "    \n",
    "if __name__ == '__main__':\n",
    "    with Pool(16) as pool:\n",
    "        result = list(tqdm(pool.imap(run_fair, config_list), total=len(config_list)))\n",
    "    result_t = np.array(result).transpose(1,2,0)"
   ]
  },
  {
   "cell_type": "code",
   "execution_count": 27,
   "metadata": {},
   "outputs": [
    {
     "data": {
      "image/png": "[encoded data removed]",
      "text/plain": [
       "<Figure size 432x288 with 1 Axes>"
      ]
     },
     "metadata": {
      "needs_background": "light"
     },
     "output_type": "display_data"
    }
   ],
   "source": [
    "pl.fill_between(np.arange(1750, 1750+nt), np.percentile(result_t[0,...], 5, axis=1), np.percentile(result_t[0,...], 95, axis=1))\n",
    "pl.plot(np.arange(1750,1750+nt), np.percentile(result_t[0,...], 50, axis=1), color='k');"
   ]
  },
  {
   "cell_type": "code",
   "execution_count": 28,
   "metadata": {},
   "outputs": [],
   "source": [
    "runs = run_append(\n",
    "    [\n",
    "        new_timeseries(\n",
    "            result_t[:,:,ensemble_member].T,\n",
    "            n=result_t.shape[1],\n",
    "            scenario=expt,\n",
    "            variable=VARIABLES,\n",
    "            unit=UNITS,\n",
    "            ensemble_member=ensemble_member,\n",
    "        )\n",
    "        for ensemble_member in range(len(config_list))\n",
    "    ]\n",
    ")\n",
    "runs.metadata[\"source\"] = \"FaIRv%s AR6 runs %02d.%02d.%d\" % (fair.__version__, dt.date.today().day, dt.date.today().month, dt.date.today().year)\n",
    "runs.to_nc('../data_output_large/fair-samples/concentration_driven/FaIR1.6.2_%s.nc' % expt, dimensions=[\"ensemble_member\"])\n",
    "runs.to_csv('../data_output_large/fair-samples/concentration_driven/FaIR1.6.2_%s.csv' % expt)"
   ]
  },
  {
   "cell_type": "markdown",
   "metadata": {},
   "source": [
    "## ssp245"
   ]
  },
  {
   "cell_type": "code",
   "execution_count": 29,
   "metadata": {},
   "outputs": [
    {
     "data": {
      "application/vnd.jupyter.widget-view+json": {
       "model_id": "93da3b5bf768460b92d98919dd18cf80",
       "version_major": 2,
       "version_minor": 0
      },
      "text/plain": [
       "  0%|          | 0/2237 [00:00<?, ?it/s]"
      ]
     },
     "metadata": {},
     "output_type": "display_data"
    }
   ],
   "source": [
    "expt = 'ssp245'\n",
    "emis_all = pd.read_csv('../data_input_large/rcmip-emissions-annual-means-v5-1-0.csv')\n",
    "emis_subset = emis_all[(emis_all['Scenario']==expt)&(emis_all['Region']=='World')]\n",
    "species=['CO2|MAGICC Fossil and Industrial','CO2|MAGICC AFOLU','CH4','N2O','Sulfur','CO','VOC','NOx','BC','|OC','NH3',\n",
    "         'CF4','C2F6','C6F14','HFC23','HFC32','HFC4310mee','HFC125','HFC134a','HFC143a',\n",
    "         'HFC227ea','HFC245fa','SF6','CFC11','CFC12','CFC113','CFC114','CFC115','CCl4','CH3CCl3','HCFC22',\n",
    "         'HCFC141b','HCFC142b','Halon1211','Halon1202','Halon1301','Halon2402','CH3Br','|CH3Cl']\n",
    "emis = np.zeros((751,40))\n",
    "emis[:,0] = np.arange(1750,2501)\n",
    "for ie, specie in enumerate(species):\n",
    "    try:\n",
    "        temp = emis_subset[emis_subset.Variable.str.endswith(specie)].loc[:,'1750':'2500'].values.squeeze()\n",
    "        emis[:,ie+1] = pd.Series(temp).interpolate().values\n",
    "    except:\n",
    "        emis[:,ie+1] = 0\n",
    "temp = emis_subset[emis_subset['Variable']=='Emissions|NOx|MAGICC Fossil and Industrial|Aircraft'].loc[:,'1750':'2500'].values.squeeze()\n",
    "aviNOx = pd.Series(temp).interpolate().values\n",
    "aviNOx_frac = aviNOx/emis[:,8]\n",
    "# \n",
    "unit_convert = np.ones(40)\n",
    "unit_convert[1]=0.001 * molwt.C/molwt.CO2\n",
    "unit_convert[2]=0.001 * molwt.C/molwt.CO2\n",
    "unit_convert[4]=0.001 * molwt.N2/molwt.N2O\n",
    "unit_convert[5]=molwt.S/molwt.SO2\n",
    "unit_convert[8]=molwt.N/molwt.NO2\n",
    "\n",
    "emis = emis * unit_convert\n",
    "\n",
    "conc_subset = conc_all[(conc_all['Scenario']==expt)&(conc_all['Region']=='World')]\n",
    "gases=['CO2','CH4','N2O','CF4','C2F6','C6F14','HFC23','HFC32','HFC4310mee','HFC125','HFC134a','HFC143a',\n",
    "       'HFC227ea','HFC245fa','SF6','CFC11','CFC12','CFC113','CFC114','CFC115','CCl4','CH3CCl3','HCFC22',\n",
    "       'HCFC141b','HCFC142b','Halon1211','Halon1202','Halon1301','Halon2402','CH3Br','CH3Cl']\n",
    "conc = np.zeros((751,31))\n",
    "for ig, gas in enumerate(gases):\n",
    "    try:\n",
    "        temp = conc_subset[conc_subset.Variable.str.endswith(gas)].loc[:,'1750':'2500'].values.squeeze()\n",
    "        conc[:,ig] = pd.Series(temp).interpolate().values\n",
    "    except:\n",
    "        conc[:,ig] = 0\n",
    "\n",
    "nt = 751\n",
    "def run_fair(args):\n",
    "    with warnings.catch_warnings():\n",
    "        warnings.simplefilter('ignore')\n",
    "        F_solar = np.zeros(751)\n",
    "        F_volcanic = np.zeros(751)\n",
    "        F_solar[:351] = args['F_solar']\n",
    "        F_volcanic[:351] = args['F_volcanic']\n",
    "        \n",
    "        C,F,T,ariaci, lambda_eff, ohc, heatflux = fair_scm(\n",
    "            emissions=emis,\n",
    "            emissions_driven=False,\n",
    "            C_pi = conc[0,:],\n",
    "            C = conc,\n",
    "            natural=np.zeros((751,2)),\n",
    "            F_volcanic=F_volcanic,#np.mean(F_volcanic),\n",
    "            F_solar=F_solar,\n",
    "            F2x=args['F2x'],\n",
    "            ariaci_out=True,\n",
    "            ghg_forcing='Meinshausen',\n",
    "            scale=np.asarray(args['scale']),\n",
    "            aerosol_forcing='aerocom+ghan2',\n",
    "            b_aero = np.asarray(args['b_aero']),\n",
    "            ghan_params=np.asarray(args['ghan_params']),\n",
    "            tropO3_forcing='thorhnill+skeie',\n",
    "            ozone_feedback=args['ozone_feedback'],\n",
    "            b_tro3 = np.array(args['b_tro3']),\n",
    "            E_pi=emis[0,:],\n",
    "            scaleAerosolAR5=False,\n",
    "            scaleHistoricalAR5=False,\n",
    "            fixPre1850RCP=False,\n",
    "            aviNOx_frac=0,\n",
    "            aCO2land = args['aCO2land'],\n",
    "            stwv_from_ch4 = args['stwv_from_ch4'],\n",
    "            F_ref_BC = args['F_ref_BC'],\n",
    "            E_ref_BC = args['E_ref_BC'],\n",
    "            efficacy=np.ones(45),\n",
    "            diagnostics='AR6',\n",
    "            temperature_function='Geoffroy',\n",
    "            lambda_global = args['lambda_global'],  # this and the below only used in two-layer model\n",
    "            deep_ocean_efficacy = args['deep_ocean_efficacy'],\n",
    "            ocean_heat_capacity = np.asarray(args['ocean_heat_capacity']),\n",
    "            ocean_heat_exchange = args['ocean_heat_exchange'],\n",
    "        )\n",
    "\n",
    "        E,Fe,Te,lambda_effe, ohce, heatfluxe, af = inverse_fair_scm(\n",
    "            conc[:,0],\n",
    "            F2x=args['F2x'],\n",
    "            C_pi = conc[0,0],\n",
    "            r0=args['r0'],\n",
    "            rt=args['rt'],\n",
    "            rc=args['rc'],\n",
    "            F_in = np.sum(F, axis=1),\n",
    "            temperature_function='Geoffroy',\n",
    "            lambda_global = args['lambda_global'],  # this and the below only used in two-layer model\n",
    "            deep_ocean_efficacy = args['deep_ocean_efficacy'],\n",
    "            ocean_heat_capacity = np.asarray(args['ocean_heat_capacity']),\n",
    "            ocean_heat_exchange = args['ocean_heat_exchange'],\n",
    "            )\n",
    "\n",
    "        nt = len(T)\n",
    "        cumE = np.cumsum(E) * molwt.CO2/molwt.C*1000.\n",
    "        Catmpool = C[:,0]*ppm_gtc*molwt.CO2/molwt.C*1000.\n",
    "        Cburden = (C[:,0]-C[0,0])*ppm_gtc*molwt.CO2/molwt.C*1000.\n",
    "        ECSeff = args['F2x'] * 0.4778646 / lambda_eff\n",
    "        af = Cburden/cumE\n",
    "\n",
    "        return(\n",
    "            T, T/1.04, np.sum(F, axis=1), F[:,0], F[:,1], F[:,2], np.sum(F[:,:31], axis=1),\n",
    "            np.sum(F[:,35:41], axis=1), F[:,38], F[:,39], F[:,35], F[:,37],\n",
    "            ariaci[:,0], ariaci[:,1], heatflux*NTOA_ZJ, heatflux*NTOA_ZJ*0.92,\n",
    "            af, cumE, T/cumE\n",
    "        )\n",
    "    \n",
    "if __name__ == '__main__':\n",
    "    with Pool(16) as pool:\n",
    "        result = list(tqdm(pool.imap(run_fair, config_list), total=len(config_list)))\n",
    "    result_t = np.array(result).transpose(1,2,0)"
   ]
  },
  {
   "cell_type": "code",
   "execution_count": 30,
   "metadata": {},
   "outputs": [
    {
     "data": {
      "image/png": "[encoded data removed]",
      "text/plain": [
       "<Figure size 432x288 with 1 Axes>"
      ]
     },
     "metadata": {
      "needs_background": "light"
     },
     "output_type": "display_data"
    }
   ],
   "source": [
    "pl.fill_between(np.arange(1750, 1750+nt), np.percentile(result_t[0,...], 5, axis=1), np.percentile(result_t[0,...], 95, axis=1))\n",
    "pl.plot(np.arange(1750,1750+nt), np.percentile(result_t[0,...], 50, axis=1), color='k');"
   ]
  },
  {
   "cell_type": "code",
   "execution_count": 31,
   "metadata": {},
   "outputs": [],
   "source": [
    "runs = run_append(\n",
    "    [\n",
    "        new_timeseries(\n",
    "            result_t[:,:,ensemble_member].T,\n",
    "            n=result_t.shape[1],\n",
    "            scenario=expt,\n",
    "            variable=VARIABLES,\n",
    "            unit=UNITS,\n",
    "            ensemble_member=ensemble_member,\n",
    "        )\n",
    "        for ensemble_member in range(len(config_list))\n",
    "    ]\n",
    ")\n",
    "runs.metadata[\"source\"] = \"FaIRv%s AR6 runs %02d.%02d.%d\" % (fair.__version__, dt.date.today().day, dt.date.today().month, dt.date.today().year)\n",
    "runs.to_nc('../data_output_large/fair-samples/concentration_driven/FaIR1.6.2_%s.nc' % expt, dimensions=[\"ensemble_member\"])\n",
    "runs.to_csv('../data_output_large/fair-samples/concentration_driven/FaIR1.6.2_%s.csv' % expt)"
   ]
  },
  {
   "cell_type": "markdown",
   "metadata": {},
   "source": [
    "## ssp370"
   ]
  },
  {
   "cell_type": "code",
   "execution_count": 32,
   "metadata": {},
   "outputs": [
    {
     "data": {
      "application/vnd.jupyter.widget-view+json": {
       "model_id": "f5995ce53ef24cfa8f55951b55803d0a",
       "version_major": 2,
       "version_minor": 0
      },
      "text/plain": [
       "  0%|          | 0/2237 [00:00<?, ?it/s]"
      ]
     },
     "metadata": {},
     "output_type": "display_data"
    }
   ],
   "source": [
    "expt = 'ssp370'\n",
    "emis_all = pd.read_csv('../data_input_large/rcmip-emissions-annual-means-v5-1-0.csv')\n",
    "emis_subset = emis_all[(emis_all['Scenario']==expt)&(emis_all['Region']=='World')]\n",
    "species=['CO2|MAGICC Fossil and Industrial','CO2|MAGICC AFOLU','CH4','N2O','Sulfur','CO','VOC','NOx','BC','|OC','NH3',\n",
    "         'CF4','C2F6','C6F14','HFC23','HFC32','HFC4310mee','HFC125','HFC134a','HFC143a',\n",
    "         'HFC227ea','HFC245fa','SF6','CFC11','CFC12','CFC113','CFC114','CFC115','CCl4','CH3CCl3','HCFC22',\n",
    "         'HCFC141b','HCFC142b','Halon1211','Halon1202','Halon1301','Halon2402','CH3Br','|CH3Cl']\n",
    "emis = np.zeros((751,40))\n",
    "emis[:,0] = np.arange(1750,2501)\n",
    "for ie, specie in enumerate(species):\n",
    "    try:\n",
    "        temp = emis_subset[emis_subset.Variable.str.endswith(specie)].loc[:,'1750':'2500'].values.squeeze()\n",
    "        emis[:,ie+1] = pd.Series(temp).interpolate().values\n",
    "    except:\n",
    "        emis[:,ie+1] = 0\n",
    "temp = emis_subset[emis_subset['Variable']=='Emissions|NOx|MAGICC Fossil and Industrial|Aircraft'].loc[:,'1750':'2500'].values.squeeze()\n",
    "aviNOx = pd.Series(temp).interpolate().values\n",
    "aviNOx_frac = aviNOx/emis[:,8]\n",
    "# \n",
    "unit_convert = np.ones(40)\n",
    "unit_convert[1]=0.001 * molwt.C/molwt.CO2\n",
    "unit_convert[2]=0.001 * molwt.C/molwt.CO2\n",
    "unit_convert[4]=0.001 * molwt.N2/molwt.N2O\n",
    "unit_convert[5]=molwt.S/molwt.SO2\n",
    "unit_convert[8]=molwt.N/molwt.NO2\n",
    "\n",
    "emis = emis * unit_convert\n",
    "\n",
    "conc_subset = conc_all[(conc_all['Scenario']==expt)&(conc_all['Region']=='World')]\n",
    "gases=['CO2','CH4','N2O','CF4','C2F6','C6F14','HFC23','HFC32','HFC4310mee','HFC125','HFC134a','HFC143a',\n",
    "       'HFC227ea','HFC245fa','SF6','CFC11','CFC12','CFC113','CFC114','CFC115','CCl4','CH3CCl3','HCFC22',\n",
    "       'HCFC141b','HCFC142b','Halon1211','Halon1202','Halon1301','Halon2402','CH3Br','CH3Cl']\n",
    "conc = np.zeros((751,31))\n",
    "for ig, gas in enumerate(gases):\n",
    "    try:\n",
    "        temp = conc_subset[conc_subset.Variable.str.endswith(gas)].loc[:,'1750':'2500'].values.squeeze()\n",
    "        conc[:,ig] = pd.Series(temp).interpolate().values\n",
    "    except:\n",
    "        conc[:,ig] = 0\n",
    "\n",
    "nt = 751\n",
    "def run_fair(args):\n",
    "    with warnings.catch_warnings():\n",
    "        warnings.simplefilter('ignore')\n",
    "        F_solar = np.zeros(751)\n",
    "        F_volcanic = np.zeros(751)\n",
    "        F_solar[:351] = args['F_solar']\n",
    "        F_volcanic[:351] = args['F_volcanic']\n",
    "        \n",
    "        C,F,T,ariaci, lambda_eff, ohc, heatflux = fair_scm(\n",
    "            emissions=emis,\n",
    "            emissions_driven=False,\n",
    "            C_pi = conc[0,:],\n",
    "            C = conc,\n",
    "            natural=np.zeros((751,2)),\n",
    "            F_volcanic=F_volcanic,#np.mean(F_volcanic),\n",
    "            F_solar=F_solar,\n",
    "            F2x=args['F2x'],\n",
    "            ariaci_out=True,\n",
    "            ghg_forcing='Meinshausen',\n",
    "            scale=np.asarray(args['scale']),\n",
    "            aerosol_forcing='aerocom+ghan2',\n",
    "            b_aero = np.asarray(args['b_aero']),\n",
    "            ghan_params=np.asarray(args['ghan_params']),\n",
    "            tropO3_forcing='thorhnill+skeie',\n",
    "            ozone_feedback=args['ozone_feedback'],\n",
    "            b_tro3 = np.array(args['b_tro3']),\n",
    "            E_pi=emis[0,:],\n",
    "            scaleAerosolAR5=False,\n",
    "            scaleHistoricalAR5=False,\n",
    "            fixPre1850RCP=False,\n",
    "            aviNOx_frac=0,\n",
    "            aCO2land = args['aCO2land'],\n",
    "            stwv_from_ch4 = args['stwv_from_ch4'],\n",
    "            F_ref_BC = args['F_ref_BC'],\n",
    "            E_ref_BC = args['E_ref_BC'],\n",
    "            efficacy=np.ones(45),\n",
    "            diagnostics='AR6',\n",
    "            temperature_function='Geoffroy',\n",
    "            lambda_global = args['lambda_global'],  # this and the below only used in two-layer model\n",
    "            deep_ocean_efficacy = args['deep_ocean_efficacy'],\n",
    "            ocean_heat_capacity = np.asarray(args['ocean_heat_capacity']),\n",
    "            ocean_heat_exchange = args['ocean_heat_exchange'],\n",
    "        )\n",
    "\n",
    "        E,Fe,Te,lambda_effe, ohce, heatfluxe, af = inverse_fair_scm(\n",
    "            conc[:,0],\n",
    "            F2x=args['F2x'],\n",
    "            C_pi = conc[0,0],\n",
    "            r0=args['r0'],\n",
    "            rt=args['rt'],\n",
    "            rc=args['rc'],\n",
    "            F_in = np.sum(F, axis=1),\n",
    "            temperature_function='Geoffroy',\n",
    "            lambda_global = args['lambda_global'],  # this and the below only used in two-layer model\n",
    "            deep_ocean_efficacy = args['deep_ocean_efficacy'],\n",
    "            ocean_heat_capacity = np.asarray(args['ocean_heat_capacity']),\n",
    "            ocean_heat_exchange = args['ocean_heat_exchange'],\n",
    "            )\n",
    "\n",
    "        nt = len(T)\n",
    "        cumE = np.cumsum(E) * molwt.CO2/molwt.C*1000.\n",
    "        Catmpool = C[:,0]*ppm_gtc*molwt.CO2/molwt.C*1000.\n",
    "        Cburden = (C[:,0]-C[0,0])*ppm_gtc*molwt.CO2/molwt.C*1000.\n",
    "        ECSeff = args['F2x'] * 0.4778646 / lambda_eff\n",
    "        af = Cburden/cumE\n",
    "\n",
    "        return(\n",
    "            T, T/1.04, np.sum(F, axis=1), F[:,0], F[:,1], F[:,2], np.sum(F[:,:31], axis=1),\n",
    "            np.sum(F[:,35:41], axis=1), F[:,38], F[:,39], F[:,35], F[:,37],\n",
    "            ariaci[:,0], ariaci[:,1], heatflux*NTOA_ZJ, heatflux*NTOA_ZJ*0.92,\n",
    "            af, cumE, T/cumE\n",
    "        )\n",
    "    \n",
    "if __name__ == '__main__':\n",
    "    with Pool(16) as pool:\n",
    "        result = list(tqdm(pool.imap(run_fair, config_list), total=len(config_list)))\n",
    "    result_t = np.array(result).transpose(1,2,0)"
   ]
  },
  {
   "cell_type": "code",
   "execution_count": 33,
   "metadata": {},
   "outputs": [
    {
     "data": {
      "image/png": "[encoded data removed]",
      "text/plain": [
       "<Figure size 432x288 with 1 Axes>"
      ]
     },
     "metadata": {
      "needs_background": "light"
     },
     "output_type": "display_data"
    }
   ],
   "source": [
    "pl.fill_between(np.arange(1750, 1750+nt), np.percentile(result_t[0,...], 5, axis=1), np.percentile(result_t[0,...], 95, axis=1))\n",
    "pl.plot(np.arange(1750,1750+nt), np.percentile(result_t[0,...], 50, axis=1), color='k');"
   ]
  },
  {
   "cell_type": "code",
   "execution_count": 34,
   "metadata": {},
   "outputs": [],
   "source": [
    "runs = run_append(\n",
    "    [\n",
    "        new_timeseries(\n",
    "            result_t[:,:,ensemble_member].T,\n",
    "            n=result_t.shape[1],\n",
    "            scenario=expt,\n",
    "            variable=VARIABLES,\n",
    "            unit=UNITS,\n",
    "            ensemble_member=ensemble_member,\n",
    "        )\n",
    "        for ensemble_member in range(len(config_list))\n",
    "    ]\n",
    ")\n",
    "runs.metadata[\"source\"] = \"FaIRv%s AR6 runs %02d.%02d.%d\" % (fair.__version__, dt.date.today().day, dt.date.today().month, dt.date.today().year)\n",
    "runs.to_nc('../data_output_large/fair-samples/concentration_driven/FaIR1.6.2_%s.nc' % expt, dimensions=[\"ensemble_member\"])\n",
    "runs.to_csv('../data_output_large/fair-samples/concentration_driven/FaIR1.6.2_%s.csv' % expt)"
   ]
  },
  {
   "cell_type": "markdown",
   "metadata": {},
   "source": [
    "## ssp434"
   ]
  },
  {
   "cell_type": "code",
   "execution_count": 35,
   "metadata": {},
   "outputs": [
    {
     "data": {
      "application/vnd.jupyter.widget-view+json": {
       "model_id": "142cb44062c041db9da997ddc43f524b",
       "version_major": 2,
       "version_minor": 0
      },
      "text/plain": [
       "  0%|          | 0/2237 [00:00<?, ?it/s]"
      ]
     },
     "metadata": {},
     "output_type": "display_data"
    }
   ],
   "source": [
    "expt = 'ssp434'\n",
    "emis_all = pd.read_csv('../data_input_large/rcmip-emissions-annual-means-v5-1-0.csv')\n",
    "emis_subset = emis_all[(emis_all['Scenario']==expt)&(emis_all['Region']=='World')]\n",
    "species=['CO2|MAGICC Fossil and Industrial','CO2|MAGICC AFOLU','CH4','N2O','Sulfur','CO','VOC','NOx','BC','|OC','NH3',\n",
    "         'CF4','C2F6','C6F14','HFC23','HFC32','HFC4310mee','HFC125','HFC134a','HFC143a',\n",
    "         'HFC227ea','HFC245fa','SF6','CFC11','CFC12','CFC113','CFC114','CFC115','CCl4','CH3CCl3','HCFC22',\n",
    "         'HCFC141b','HCFC142b','Halon1211','Halon1202','Halon1301','Halon2402','CH3Br','|CH3Cl']\n",
    "emis = np.zeros((751,40))\n",
    "emis[:,0] = np.arange(1750,2501)\n",
    "for ie, specie in enumerate(species):\n",
    "    try:\n",
    "        temp = emis_subset[emis_subset.Variable.str.endswith(specie)].loc[:,'1750':'2500'].values.squeeze()\n",
    "        emis[:,ie+1] = pd.Series(temp).interpolate().values\n",
    "    except:\n",
    "        emis[:,ie+1] = 0\n",
    "temp = emis_subset[emis_subset['Variable']=='Emissions|NOx|MAGICC Fossil and Industrial|Aircraft'].loc[:,'1750':'2500'].values.squeeze()\n",
    "aviNOx = pd.Series(temp).interpolate().values\n",
    "aviNOx_frac = aviNOx/emis[:,8]\n",
    "# \n",
    "unit_convert = np.ones(40)\n",
    "unit_convert[1]=0.001 * molwt.C/molwt.CO2\n",
    "unit_convert[2]=0.001 * molwt.C/molwt.CO2\n",
    "unit_convert[4]=0.001 * molwt.N2/molwt.N2O\n",
    "unit_convert[5]=molwt.S/molwt.SO2\n",
    "unit_convert[8]=molwt.N/molwt.NO2\n",
    "\n",
    "emis = emis * unit_convert\n",
    "\n",
    "conc_subset = conc_all[(conc_all['Scenario']==expt)&(conc_all['Region']=='World')]\n",
    "gases=['CO2','CH4','N2O','CF4','C2F6','C6F14','HFC23','HFC32','HFC4310mee','HFC125','HFC134a','HFC143a',\n",
    "       'HFC227ea','HFC245fa','SF6','CFC11','CFC12','CFC113','CFC114','CFC115','CCl4','CH3CCl3','HCFC22',\n",
    "       'HCFC141b','HCFC142b','Halon1211','Halon1202','Halon1301','Halon2402','CH3Br','CH3Cl']\n",
    "conc = np.zeros((751,31))\n",
    "for ig, gas in enumerate(gases):\n",
    "    try:\n",
    "        temp = conc_subset[conc_subset.Variable.str.endswith(gas)].loc[:,'1750':'2500'].values.squeeze()\n",
    "        conc[:,ig] = pd.Series(temp).interpolate().values\n",
    "    except:\n",
    "        conc[:,ig] = 0\n",
    "\n",
    "nt = 751\n",
    "def run_fair(args):\n",
    "    with warnings.catch_warnings():\n",
    "        warnings.simplefilter('ignore')\n",
    "        F_solar = np.zeros(751)\n",
    "        F_volcanic = np.zeros(751)\n",
    "        F_solar[:351] = args['F_solar']\n",
    "        F_volcanic[:351] = args['F_volcanic']\n",
    "        \n",
    "        C,F,T,ariaci, lambda_eff, ohc, heatflux = fair_scm(\n",
    "            emissions=emis,\n",
    "            emissions_driven=False,\n",
    "            C_pi = conc[0,:],\n",
    "            C = conc,\n",
    "            natural=np.zeros((751,2)),\n",
    "            F_volcanic=F_volcanic,#np.mean(F_volcanic),\n",
    "            F_solar=F_solar,\n",
    "            F2x=args['F2x'],\n",
    "            ariaci_out=True,\n",
    "            ghg_forcing='Meinshausen',\n",
    "            scale=np.asarray(args['scale']),\n",
    "            aerosol_forcing='aerocom+ghan2',\n",
    "            b_aero = np.asarray(args['b_aero']),\n",
    "            ghan_params=np.asarray(args['ghan_params']),\n",
    "            tropO3_forcing='thorhnill+skeie',\n",
    "            ozone_feedback=args['ozone_feedback'],\n",
    "            b_tro3 = np.array(args['b_tro3']),\n",
    "            E_pi=emis[0,:],\n",
    "            scaleAerosolAR5=False,\n",
    "            scaleHistoricalAR5=False,\n",
    "            fixPre1850RCP=False,\n",
    "            aviNOx_frac=0,\n",
    "            aCO2land = args['aCO2land'],\n",
    "            stwv_from_ch4 = args['stwv_from_ch4'],\n",
    "            F_ref_BC = args['F_ref_BC'],\n",
    "            E_ref_BC = args['E_ref_BC'],\n",
    "            efficacy=np.ones(45),\n",
    "            diagnostics='AR6',\n",
    "            temperature_function='Geoffroy',\n",
    "            lambda_global = args['lambda_global'],  # this and the below only used in two-layer model\n",
    "            deep_ocean_efficacy = args['deep_ocean_efficacy'],\n",
    "            ocean_heat_capacity = np.asarray(args['ocean_heat_capacity']),\n",
    "            ocean_heat_exchange = args['ocean_heat_exchange'],\n",
    "        )\n",
    "\n",
    "        E,Fe,Te,lambda_effe, ohce, heatfluxe, af = inverse_fair_scm(\n",
    "            conc[:,0],\n",
    "            F2x=args['F2x'],\n",
    "            C_pi = conc[0,0],\n",
    "            r0=args['r0'],\n",
    "            rt=args['rt'],\n",
    "            rc=args['rc'],\n",
    "            F_in = np.sum(F, axis=1),\n",
    "            temperature_function='Geoffroy',\n",
    "            lambda_global = args['lambda_global'],  # this and the below only used in two-layer model\n",
    "            deep_ocean_efficacy = args['deep_ocean_efficacy'],\n",
    "            ocean_heat_capacity = np.asarray(args['ocean_heat_capacity']),\n",
    "            ocean_heat_exchange = args['ocean_heat_exchange'],\n",
    "            )\n",
    "\n",
    "        nt = len(T)\n",
    "        cumE = np.cumsum(E) * molwt.CO2/molwt.C*1000.\n",
    "        Catmpool = C[:,0]*ppm_gtc*molwt.CO2/molwt.C*1000.\n",
    "        Cburden = (C[:,0]-C[0,0])*ppm_gtc*molwt.CO2/molwt.C*1000.\n",
    "        ECSeff = args['F2x'] * 0.4778646 / lambda_eff\n",
    "        af = Cburden/cumE\n",
    "\n",
    "        return(\n",
    "            T, T/1.04, np.sum(F, axis=1), F[:,0], F[:,1], F[:,2], np.sum(F[:,:31], axis=1),\n",
    "            np.sum(F[:,35:41], axis=1), F[:,38], F[:,39], F[:,35], F[:,37],\n",
    "            ariaci[:,0], ariaci[:,1], heatflux*NTOA_ZJ, heatflux*NTOA_ZJ*0.92,\n",
    "            af, cumE, T/cumE\n",
    "        )\n",
    "    \n",
    "if __name__ == '__main__':\n",
    "    with Pool(16) as pool:\n",
    "        result = list(tqdm(pool.imap(run_fair, config_list), total=len(config_list)))\n",
    "    result_t = np.array(result).transpose(1,2,0)"
   ]
  },
  {
   "cell_type": "code",
   "execution_count": 36,
   "metadata": {},
   "outputs": [
    {
     "data": {
      "image/png": "[encoded data removed]",
      "text/plain": [
       "<Figure size 432x288 with 1 Axes>"
      ]
     },
     "metadata": {
      "needs_background": "light"
     },
     "output_type": "display_data"
    }
   ],
   "source": [
    "pl.fill_between(np.arange(1750, 1750+nt), np.percentile(result_t[0,...], 5, axis=1), np.percentile(result_t[0,...], 95, axis=1))\n",
    "pl.plot(np.arange(1750,1750+nt), np.percentile(result_t[0,...], 50, axis=1), color='k');"
   ]
  },
  {
   "cell_type": "code",
   "execution_count": 37,
   "metadata": {},
   "outputs": [],
   "source": [
    "runs = run_append(\n",
    "    [\n",
    "        new_timeseries(\n",
    "            result_t[:,:,ensemble_member].T,\n",
    "            n=result_t.shape[1],\n",
    "            scenario=expt,\n",
    "            variable=VARIABLES,\n",
    "            unit=UNITS,\n",
    "            ensemble_member=ensemble_member,\n",
    "        )\n",
    "        for ensemble_member in range(len(config_list))\n",
    "    ]\n",
    ")\n",
    "runs.metadata[\"source\"] = \"FaIRv%s AR6 runs %02d.%02d.%d\" % (fair.__version__, dt.date.today().day, dt.date.today().month, dt.date.today().year)\n",
    "runs.to_nc('../data_output_large/fair-samples/concentration_driven/FaIR1.6.2_%s.nc' % expt, dimensions=[\"ensemble_member\"])\n",
    "runs.to_csv('../data_output_large/fair-samples/concentration_driven/FaIR1.6.2_%s.csv' % expt)"
   ]
  },
  {
   "cell_type": "markdown",
   "metadata": {},
   "source": [
    "## ssp460"
   ]
  },
  {
   "cell_type": "code",
   "execution_count": 38,
   "metadata": {},
   "outputs": [
    {
     "data": {
      "application/vnd.jupyter.widget-view+json": {
       "model_id": "b001ece0f6a54914ab78b7ec21055156",
       "version_major": 2,
       "version_minor": 0
      },
      "text/plain": [
       "  0%|          | 0/2237 [00:00<?, ?it/s]"
      ]
     },
     "metadata": {},
     "output_type": "display_data"
    }
   ],
   "source": [
    "expt = 'ssp460'\n",
    "emis_all = pd.read_csv('../data_input_large/rcmip-emissions-annual-means-v5-1-0.csv')\n",
    "emis_subset = emis_all[(emis_all['Scenario']==expt)&(emis_all['Region']=='World')]\n",
    "species=['CO2|MAGICC Fossil and Industrial','CO2|MAGICC AFOLU','CH4','N2O','Sulfur','CO','VOC','NOx','BC','|OC','NH3',\n",
    "         'CF4','C2F6','C6F14','HFC23','HFC32','HFC4310mee','HFC125','HFC134a','HFC143a',\n",
    "         'HFC227ea','HFC245fa','SF6','CFC11','CFC12','CFC113','CFC114','CFC115','CCl4','CH3CCl3','HCFC22',\n",
    "         'HCFC141b','HCFC142b','Halon1211','Halon1202','Halon1301','Halon2402','CH3Br','|CH3Cl']\n",
    "emis = np.zeros((751,40))\n",
    "emis[:,0] = np.arange(1750,2501)\n",
    "for ie, specie in enumerate(species):\n",
    "    try:\n",
    "        temp = emis_subset[emis_subset.Variable.str.endswith(specie)].loc[:,'1750':'2500'].values.squeeze()\n",
    "        emis[:,ie+1] = pd.Series(temp).interpolate().values\n",
    "    except:\n",
    "        emis[:,ie+1] = 0\n",
    "temp = emis_subset[emis_subset['Variable']=='Emissions|NOx|MAGICC Fossil and Industrial|Aircraft'].loc[:,'1750':'2500'].values.squeeze()\n",
    "aviNOx = pd.Series(temp).interpolate().values\n",
    "aviNOx_frac = aviNOx/emis[:,8]\n",
    "# \n",
    "unit_convert = np.ones(40)\n",
    "unit_convert[1]=0.001 * molwt.C/molwt.CO2\n",
    "unit_convert[2]=0.001 * molwt.C/molwt.CO2\n",
    "unit_convert[4]=0.001 * molwt.N2/molwt.N2O\n",
    "unit_convert[5]=molwt.S/molwt.SO2\n",
    "unit_convert[8]=molwt.N/molwt.NO2\n",
    "\n",
    "emis = emis * unit_convert\n",
    "\n",
    "conc_subset = conc_all[(conc_all['Scenario']==expt)&(conc_all['Region']=='World')]\n",
    "gases=['CO2','CH4','N2O','CF4','C2F6','C6F14','HFC23','HFC32','HFC4310mee','HFC125','HFC134a','HFC143a',\n",
    "       'HFC227ea','HFC245fa','SF6','CFC11','CFC12','CFC113','CFC114','CFC115','CCl4','CH3CCl3','HCFC22',\n",
    "       'HCFC141b','HCFC142b','Halon1211','Halon1202','Halon1301','Halon2402','CH3Br','CH3Cl']\n",
    "conc = np.zeros((751,31))\n",
    "for ig, gas in enumerate(gases):\n",
    "    try:\n",
    "        temp = conc_subset[conc_subset.Variable.str.endswith(gas)].loc[:,'1750':'2500'].values.squeeze()\n",
    "        conc[:,ig] = pd.Series(temp).interpolate().values\n",
    "    except:\n",
    "        conc[:,ig] = 0\n",
    "\n",
    "nt = 751\n",
    "def run_fair(args):\n",
    "    with warnings.catch_warnings():\n",
    "        warnings.simplefilter('ignore')\n",
    "        F_solar = np.zeros(751)\n",
    "        F_volcanic = np.zeros(751)\n",
    "        F_solar[:351] = args['F_solar']\n",
    "        F_volcanic[:351] = args['F_volcanic']\n",
    "        \n",
    "        C,F,T,ariaci, lambda_eff, ohc, heatflux = fair_scm(\n",
    "            emissions=emis,\n",
    "            emissions_driven=False,\n",
    "            C_pi = conc[0,:],\n",
    "            C = conc,\n",
    "            natural=np.zeros((751,2)),\n",
    "            F_volcanic=F_volcanic,#np.mean(F_volcanic),\n",
    "            F_solar=F_solar,\n",
    "            F2x=args['F2x'],\n",
    "            ariaci_out=True,\n",
    "            ghg_forcing='Meinshausen',\n",
    "            scale=np.asarray(args['scale']),\n",
    "            aerosol_forcing='aerocom+ghan2',\n",
    "            b_aero = np.asarray(args['b_aero']),\n",
    "            ghan_params=np.asarray(args['ghan_params']),\n",
    "            tropO3_forcing='thorhnill+skeie',\n",
    "            ozone_feedback=args['ozone_feedback'],\n",
    "            b_tro3 = np.array(args['b_tro3']),\n",
    "            E_pi=emis[0,:],\n",
    "            scaleAerosolAR5=False,\n",
    "            scaleHistoricalAR5=False,\n",
    "            fixPre1850RCP=False,\n",
    "            aviNOx_frac=0,\n",
    "            aCO2land = args['aCO2land'],\n",
    "            stwv_from_ch4 = args['stwv_from_ch4'],\n",
    "            F_ref_BC = args['F_ref_BC'],\n",
    "            E_ref_BC = args['E_ref_BC'],\n",
    "            efficacy=np.ones(45),\n",
    "            diagnostics='AR6',\n",
    "            temperature_function='Geoffroy',\n",
    "            lambda_global = args['lambda_global'],  # this and the below only used in two-layer model\n",
    "            deep_ocean_efficacy = args['deep_ocean_efficacy'],\n",
    "            ocean_heat_capacity = np.asarray(args['ocean_heat_capacity']),\n",
    "            ocean_heat_exchange = args['ocean_heat_exchange'],\n",
    "        )\n",
    "\n",
    "        E,Fe,Te,lambda_effe, ohce, heatfluxe, af = inverse_fair_scm(\n",
    "            conc[:,0],\n",
    "            F2x=args['F2x'],\n",
    "            C_pi = conc[0,0],\n",
    "            r0=args['r0'],\n",
    "            rt=args['rt'],\n",
    "            rc=args['rc'],\n",
    "            F_in = np.sum(F, axis=1),\n",
    "            temperature_function='Geoffroy',\n",
    "            lambda_global = args['lambda_global'],  # this and the below only used in two-layer model\n",
    "            deep_ocean_efficacy = args['deep_ocean_efficacy'],\n",
    "            ocean_heat_capacity = np.asarray(args['ocean_heat_capacity']),\n",
    "            ocean_heat_exchange = args['ocean_heat_exchange'],\n",
    "            )\n",
    "\n",
    "        nt = len(T)\n",
    "        cumE = np.cumsum(E) * molwt.CO2/molwt.C*1000.\n",
    "        Catmpool = C[:,0]*ppm_gtc*molwt.CO2/molwt.C*1000.\n",
    "        Cburden = (C[:,0]-C[0,0])*ppm_gtc*molwt.CO2/molwt.C*1000.\n",
    "        ECSeff = args['F2x'] * 0.4778646 / lambda_eff\n",
    "        af = Cburden/cumE\n",
    "\n",
    "        return(\n",
    "            T, T/1.04, np.sum(F, axis=1), F[:,0], F[:,1], F[:,2], np.sum(F[:,:31], axis=1),\n",
    "            np.sum(F[:,35:41], axis=1), F[:,38], F[:,39], F[:,35], F[:,37],\n",
    "            ariaci[:,0], ariaci[:,1], heatflux*NTOA_ZJ, heatflux*NTOA_ZJ*0.92,\n",
    "            af, cumE, T/cumE\n",
    "        )\n",
    "    \n",
    "if __name__ == '__main__':\n",
    "    with Pool(16) as pool:\n",
    "        result = list(tqdm(pool.imap(run_fair, config_list), total=len(config_list)))\n",
    "    result_t = np.array(result).transpose(1,2,0)"
   ]
  },
  {
   "cell_type": "code",
   "execution_count": 39,
   "metadata": {},
   "outputs": [
    {
     "data": {
      "image/png": "[encoded data removed]",
      "text/plain": [
       "<Figure size 432x288 with 1 Axes>"
      ]
     },
     "metadata": {
      "needs_background": "light"
     },
     "output_type": "display_data"
    }
   ],
   "source": [
    "pl.fill_between(np.arange(1750, 1750+nt), np.percentile(result_t[0,...], 5, axis=1), np.percentile(result_t[0,...], 95, axis=1))\n",
    "pl.plot(np.arange(1750,1750+nt), np.percentile(result_t[0,...], 50, axis=1), color='k');"
   ]
  },
  {
   "cell_type": "code",
   "execution_count": 40,
   "metadata": {},
   "outputs": [],
   "source": [
    "runs = run_append(\n",
    "    [\n",
    "        new_timeseries(\n",
    "            result_t[:,:,ensemble_member].T,\n",
    "            n=result_t.shape[1],\n",
    "            scenario=expt,\n",
    "            variable=VARIABLES,\n",
    "            unit=UNITS,\n",
    "            ensemble_member=ensemble_member,\n",
    "        )\n",
    "        for ensemble_member in range(len(config_list))\n",
    "    ]\n",
    ")\n",
    "runs.metadata[\"source\"] = \"FaIRv%s AR6 runs %02d.%02d.%d\" % (fair.__version__, dt.date.today().day, dt.date.today().month, dt.date.today().year)\n",
    "runs.to_nc('../data_output_large/fair-samples/concentration_driven/FaIR1.6.2_%s.nc' % expt, dimensions=[\"ensemble_member\"])\n",
    "runs.to_csv('../data_output_large/fair-samples/concentration_driven/FaIR1.6.2_%s.csv' % expt)"
   ]
  },
  {
   "cell_type": "markdown",
   "metadata": {},
   "source": [
    "## ssp534-over"
   ]
  },
  {
   "cell_type": "code",
   "execution_count": 41,
   "metadata": {},
   "outputs": [
    {
     "data": {
      "application/vnd.jupyter.widget-view+json": {
       "model_id": "3302ca0aa9144c71bf77e4e18bcf59ef",
       "version_major": 2,
       "version_minor": 0
      },
      "text/plain": [
       "  0%|          | 0/2237 [00:00<?, ?it/s]"
      ]
     },
     "metadata": {},
     "output_type": "display_data"
    }
   ],
   "source": [
    "expt = 'ssp534-over'\n",
    "emis_all = pd.read_csv('../data_input_large/rcmip-emissions-annual-means-v5-1-0.csv')\n",
    "emis_subset = emis_all[(emis_all['Scenario']==expt)&(emis_all['Region']=='World')]\n",
    "species=['CO2|MAGICC Fossil and Industrial','CO2|MAGICC AFOLU','CH4','N2O','Sulfur','CO','VOC','NOx','BC','|OC','NH3',\n",
    "         'CF4','C2F6','C6F14','HFC23','HFC32','HFC4310mee','HFC125','HFC134a','HFC143a',\n",
    "         'HFC227ea','HFC245fa','SF6','CFC11','CFC12','CFC113','CFC114','CFC115','CCl4','CH3CCl3','HCFC22',\n",
    "         'HCFC141b','HCFC142b','Halon1211','Halon1202','Halon1301','Halon2402','CH3Br','|CH3Cl']\n",
    "emis = np.zeros((751,40))\n",
    "emis[:,0] = np.arange(1750,2501)\n",
    "for ie, specie in enumerate(species):\n",
    "    try:\n",
    "        temp = emis_subset[emis_subset.Variable.str.endswith(specie)].loc[:,'1750':'2500'].values.squeeze()\n",
    "        emis[:,ie+1] = pd.Series(temp).interpolate().values\n",
    "    except:\n",
    "        emis[:,ie+1] = 0\n",
    "temp = emis_subset[emis_subset['Variable']=='Emissions|NOx|MAGICC Fossil and Industrial|Aircraft'].loc[:,'1750':'2500'].values.squeeze()\n",
    "aviNOx = pd.Series(temp).interpolate().values\n",
    "aviNOx_frac = aviNOx/emis[:,8]\n",
    "# \n",
    "unit_convert = np.ones(40)\n",
    "unit_convert[1]=0.001 * molwt.C/molwt.CO2\n",
    "unit_convert[2]=0.001 * molwt.C/molwt.CO2\n",
    "unit_convert[4]=0.001 * molwt.N2/molwt.N2O\n",
    "unit_convert[5]=molwt.S/molwt.SO2\n",
    "unit_convert[8]=molwt.N/molwt.NO2\n",
    "\n",
    "emis = emis * unit_convert\n",
    "\n",
    "conc_subset = conc_all[(conc_all['Scenario']==expt)&(conc_all['Region']=='World')]\n",
    "gases=['CO2','CH4','N2O','CF4','C2F6','C6F14','HFC23','HFC32','HFC4310mee','HFC125','HFC134a','HFC143a',\n",
    "       'HFC227ea','HFC245fa','SF6','CFC11','CFC12','CFC113','CFC114','CFC115','CCl4','CH3CCl3','HCFC22',\n",
    "       'HCFC141b','HCFC142b','Halon1211','Halon1202','Halon1301','Halon2402','CH3Br','CH3Cl']\n",
    "conc = np.zeros((751,31))\n",
    "for ig, gas in enumerate(gases):\n",
    "    try:\n",
    "        temp = conc_subset[conc_subset.Variable.str.endswith(gas)].loc[:,'1750':'2500'].values.squeeze()\n",
    "        conc[:,ig] = pd.Series(temp).interpolate().values\n",
    "    except:\n",
    "        conc[:,ig] = 0\n",
    "\n",
    "nt = 751\n",
    "def run_fair(args):\n",
    "    with warnings.catch_warnings():\n",
    "        warnings.simplefilter('ignore')\n",
    "        F_solar = np.zeros(751)\n",
    "        F_volcanic = np.zeros(751)\n",
    "        F_solar[:351] = args['F_solar']\n",
    "        F_volcanic[:351] = args['F_volcanic']\n",
    "        \n",
    "        C,F,T,ariaci, lambda_eff, ohc, heatflux = fair_scm(\n",
    "            emissions=emis,\n",
    "            emissions_driven=False,\n",
    "            C_pi = conc[0,:],\n",
    "            C = conc,\n",
    "            natural=np.zeros((751,2)),\n",
    "            F_volcanic=F_volcanic,#np.mean(F_volcanic),\n",
    "            F_solar=F_solar,\n",
    "            F2x=args['F2x'],\n",
    "            ariaci_out=True,\n",
    "            ghg_forcing='Meinshausen',\n",
    "            scale=np.asarray(args['scale']),\n",
    "            aerosol_forcing='aerocom+ghan2',\n",
    "            b_aero = np.asarray(args['b_aero']),\n",
    "            ghan_params=np.asarray(args['ghan_params']),\n",
    "            tropO3_forcing='thorhnill+skeie',\n",
    "            ozone_feedback=args['ozone_feedback'],\n",
    "            b_tro3 = np.array(args['b_tro3']),\n",
    "            E_pi=emis[0,:],\n",
    "            scaleAerosolAR5=False,\n",
    "            scaleHistoricalAR5=False,\n",
    "            fixPre1850RCP=False,\n",
    "            aviNOx_frac=0,\n",
    "            aCO2land = args['aCO2land'],\n",
    "            stwv_from_ch4 = args['stwv_from_ch4'],\n",
    "            F_ref_BC = args['F_ref_BC'],\n",
    "            E_ref_BC = args['E_ref_BC'],\n",
    "            efficacy=np.ones(45),\n",
    "            diagnostics='AR6',\n",
    "            temperature_function='Geoffroy',\n",
    "            lambda_global = args['lambda_global'],  # this and the below only used in two-layer model\n",
    "            deep_ocean_efficacy = args['deep_ocean_efficacy'],\n",
    "            ocean_heat_capacity = np.asarray(args['ocean_heat_capacity']),\n",
    "            ocean_heat_exchange = args['ocean_heat_exchange'],\n",
    "        )\n",
    "\n",
    "        E,Fe,Te,lambda_effe, ohce, heatfluxe, af = inverse_fair_scm(\n",
    "            conc[:,0],\n",
    "            F2x=args['F2x'],\n",
    "            C_pi = conc[0,0],\n",
    "            r0=args['r0'],\n",
    "            rt=args['rt'],\n",
    "            rc=args['rc'],\n",
    "            F_in = np.sum(F, axis=1),\n",
    "            temperature_function='Geoffroy',\n",
    "            lambda_global = args['lambda_global'],  # this and the below only used in two-layer model\n",
    "            deep_ocean_efficacy = args['deep_ocean_efficacy'],\n",
    "            ocean_heat_capacity = np.asarray(args['ocean_heat_capacity']),\n",
    "            ocean_heat_exchange = args['ocean_heat_exchange'],\n",
    "            )\n",
    "\n",
    "        nt = len(T)\n",
    "        cumE = np.cumsum(E) * molwt.CO2/molwt.C*1000.\n",
    "        Catmpool = C[:,0]*ppm_gtc*molwt.CO2/molwt.C*1000.\n",
    "        Cburden = (C[:,0]-C[0,0])*ppm_gtc*molwt.CO2/molwt.C*1000.\n",
    "        ECSeff = args['F2x'] * 0.4778646 / lambda_eff\n",
    "        af = Cburden/cumE\n",
    "\n",
    "        return(\n",
    "            T, T/1.04, np.sum(F, axis=1), F[:,0], F[:,1], F[:,2], np.sum(F[:,:31], axis=1),\n",
    "            np.sum(F[:,35:41], axis=1), F[:,38], F[:,39], F[:,35], F[:,37],\n",
    "            ariaci[:,0], ariaci[:,1], heatflux*NTOA_ZJ, heatflux*NTOA_ZJ*0.92,\n",
    "            af, cumE, T/cumE\n",
    "        )\n",
    "    \n",
    "if __name__ == '__main__':\n",
    "    with Pool(16) as pool:\n",
    "        result = list(tqdm(pool.imap(run_fair, config_list), total=len(config_list)))\n",
    "    result_t = np.array(result).transpose(1,2,0)"
   ]
  },
  {
   "cell_type": "code",
   "execution_count": 42,
   "metadata": {},
   "outputs": [
    {
     "data": {
      "image/png": "[encoded data removed]",
      "text/plain": [
       "<Figure size 432x288 with 1 Axes>"
      ]
     },
     "metadata": {
      "needs_background": "light"
     },
     "output_type": "display_data"
    }
   ],
   "source": [
    "pl.fill_between(np.arange(1750, 1750+nt), np.percentile(result_t[0,...], 5, axis=1), np.percentile(result_t[0,...], 95, axis=1))\n",
    "pl.plot(np.arange(1750,1750+nt), np.percentile(result_t[0,...], 50, axis=1), color='k');"
   ]
  },
  {
   "cell_type": "code",
   "execution_count": 43,
   "metadata": {},
   "outputs": [],
   "source": [
    "runs = run_append(\n",
    "    [\n",
    "        new_timeseries(\n",
    "            result_t[:,:,ensemble_member].T,\n",
    "            n=result_t.shape[1],\n",
    "            scenario=expt,\n",
    "            variable=VARIABLES,\n",
    "            unit=UNITS,\n",
    "            ensemble_member=ensemble_member,\n",
    "        )\n",
    "        for ensemble_member in range(len(config_list))\n",
    "    ]\n",
    ")\n",
    "runs.metadata[\"source\"] = \"FaIRv%s AR6 runs %02d.%02d.%d\" % (fair.__version__, dt.date.today().day, dt.date.today().month, dt.date.today().year)\n",
    "runs.to_nc('../data_output_large/fair-samples/concentration_driven/FaIR1.6.2_%s.nc' % expt, dimensions=[\"ensemble_member\"])\n",
    "runs.to_csv('../data_output_large/fair-samples/concentration_driven/FaIR1.6.2_%s.csv' % expt)"
   ]
  },
  {
   "cell_type": "markdown",
   "metadata": {},
   "source": [
    "## ssp585"
   ]
  },
  {
   "cell_type": "code",
   "execution_count": 44,
   "metadata": {},
   "outputs": [
    {
     "data": {
      "application/vnd.jupyter.widget-view+json": {
       "model_id": "3a492de89afd4a0a95fb5f9017705138",
       "version_major": 2,
       "version_minor": 0
      },
      "text/plain": [
       "  0%|          | 0/2237 [00:00<?, ?it/s]"
      ]
     },
     "metadata": {},
     "output_type": "display_data"
    }
   ],
   "source": [
    "expt = 'ssp585'\n",
    "emis_all = pd.read_csv('../data_input_large/rcmip-emissions-annual-means-v5-1-0.csv')\n",
    "emis_subset = emis_all[(emis_all['Scenario']==expt)&(emis_all['Region']=='World')]\n",
    "species=['CO2|MAGICC Fossil and Industrial','CO2|MAGICC AFOLU','CH4','N2O','Sulfur','CO','VOC','NOx','BC','|OC','NH3',\n",
    "         'CF4','C2F6','C6F14','HFC23','HFC32','HFC4310mee','HFC125','HFC134a','HFC143a',\n",
    "         'HFC227ea','HFC245fa','SF6','CFC11','CFC12','CFC113','CFC114','CFC115','CCl4','CH3CCl3','HCFC22',\n",
    "         'HCFC141b','HCFC142b','Halon1211','Halon1202','Halon1301','Halon2402','CH3Br','|CH3Cl']\n",
    "emis = np.zeros((751,40))\n",
    "emis[:,0] = np.arange(1750,2501)\n",
    "for ie, specie in enumerate(species):\n",
    "    try:\n",
    "        temp = emis_subset[emis_subset.Variable.str.endswith(specie)].loc[:,'1750':'2500'].values.squeeze()\n",
    "        emis[:,ie+1] = pd.Series(temp).interpolate().values\n",
    "    except:\n",
    "        emis[:,ie+1] = 0\n",
    "temp = emis_subset[emis_subset['Variable']=='Emissions|NOx|MAGICC Fossil and Industrial|Aircraft'].loc[:,'1750':'2500'].values.squeeze()\n",
    "aviNOx = pd.Series(temp).interpolate().values\n",
    "aviNOx_frac = aviNOx/emis[:,8]\n",
    "# \n",
    "unit_convert = np.ones(40)\n",
    "unit_convert[1]=0.001 * molwt.C/molwt.CO2\n",
    "unit_convert[2]=0.001 * molwt.C/molwt.CO2\n",
    "unit_convert[4]=0.001 * molwt.N2/molwt.N2O\n",
    "unit_convert[5]=molwt.S/molwt.SO2\n",
    "unit_convert[8]=molwt.N/molwt.NO2\n",
    "\n",
    "emis = emis * unit_convert\n",
    "\n",
    "conc_subset = conc_all[(conc_all['Scenario']==expt)&(conc_all['Region']=='World')]\n",
    "gases=['CO2','CH4','N2O','CF4','C2F6','C6F14','HFC23','HFC32','HFC4310mee','HFC125','HFC134a','HFC143a',\n",
    "       'HFC227ea','HFC245fa','SF6','CFC11','CFC12','CFC113','CFC114','CFC115','CCl4','CH3CCl3','HCFC22',\n",
    "       'HCFC141b','HCFC142b','Halon1211','Halon1202','Halon1301','Halon2402','CH3Br','CH3Cl']\n",
    "conc = np.zeros((751,31))\n",
    "for ig, gas in enumerate(gases):\n",
    "    try:\n",
    "        temp = conc_subset[conc_subset.Variable.str.endswith(gas)].loc[:,'1750':'2500'].values.squeeze()\n",
    "        conc[:,ig] = pd.Series(temp).interpolate().values\n",
    "    except:\n",
    "        conc[:,ig] = 0\n",
    "\n",
    "nt = 751\n",
    "def run_fair(args):\n",
    "    with warnings.catch_warnings():\n",
    "        warnings.simplefilter('ignore')\n",
    "        F_solar = np.zeros(751)\n",
    "        F_volcanic = np.zeros(751)\n",
    "        F_solar[:351] = args['F_solar']\n",
    "        F_volcanic[:351] = args['F_volcanic']\n",
    "        \n",
    "        C,F,T,ariaci, lambda_eff, ohc, heatflux = fair_scm(\n",
    "            emissions=emis,\n",
    "            emissions_driven=False,\n",
    "            C_pi = conc[0,:],\n",
    "            C = conc,\n",
    "            natural=np.zeros((751,2)),\n",
    "            F_volcanic=F_volcanic,#np.mean(F_volcanic),\n",
    "            F_solar=F_solar,\n",
    "            F2x=args['F2x'],\n",
    "            ariaci_out=True,\n",
    "            ghg_forcing='Meinshausen',\n",
    "            scale=np.asarray(args['scale']),\n",
    "            aerosol_forcing='aerocom+ghan2',\n",
    "            b_aero = np.asarray(args['b_aero']),\n",
    "            ghan_params=np.asarray(args['ghan_params']),\n",
    "            tropO3_forcing='thorhnill+skeie',\n",
    "            ozone_feedback=args['ozone_feedback'],\n",
    "            b_tro3 = np.array(args['b_tro3']),\n",
    "            E_pi=emis[0,:],\n",
    "            scaleAerosolAR5=False,\n",
    "            scaleHistoricalAR5=False,\n",
    "            fixPre1850RCP=False,\n",
    "            aviNOx_frac=0,\n",
    "            aCO2land = args['aCO2land'],\n",
    "            stwv_from_ch4 = args['stwv_from_ch4'],\n",
    "            F_ref_BC = args['F_ref_BC'],\n",
    "            E_ref_BC = args['E_ref_BC'],\n",
    "            efficacy=np.ones(45),\n",
    "            diagnostics='AR6',\n",
    "            temperature_function='Geoffroy',\n",
    "            lambda_global = args['lambda_global'],  # this and the below only used in two-layer model\n",
    "            deep_ocean_efficacy = args['deep_ocean_efficacy'],\n",
    "            ocean_heat_capacity = np.asarray(args['ocean_heat_capacity']),\n",
    "            ocean_heat_exchange = args['ocean_heat_exchange'],\n",
    "        )\n",
    "\n",
    "        E,Fe,Te,lambda_effe, ohce, heatfluxe, af = inverse_fair_scm(\n",
    "            conc[:,0],\n",
    "            F2x=args['F2x'],\n",
    "            C_pi = conc[0,0],\n",
    "            r0=args['r0'],\n",
    "            rt=args['rt'],\n",
    "            rc=args['rc'],\n",
    "            F_in = np.sum(F, axis=1),\n",
    "            temperature_function='Geoffroy',\n",
    "            lambda_global = args['lambda_global'],  # this and the below only used in two-layer model\n",
    "            deep_ocean_efficacy = args['deep_ocean_efficacy'],\n",
    "            ocean_heat_capacity = np.asarray(args['ocean_heat_capacity']),\n",
    "            ocean_heat_exchange = args['ocean_heat_exchange'],\n",
    "            )\n",
    "\n",
    "        nt = len(T)\n",
    "        cumE = np.cumsum(E) * molwt.CO2/molwt.C*1000.\n",
    "        Catmpool = C[:,0]*ppm_gtc*molwt.CO2/molwt.C*1000.\n",
    "        Cburden = (C[:,0]-C[0,0])*ppm_gtc*molwt.CO2/molwt.C*1000.\n",
    "        ECSeff = args['F2x'] * 0.4778646 / lambda_eff\n",
    "        af = Cburden/cumE\n",
    "\n",
    "        return(\n",
    "            T, T/1.04, np.sum(F, axis=1), F[:,0], F[:,1], F[:,2], np.sum(F[:,:31], axis=1),\n",
    "            np.sum(F[:,35:41], axis=1), F[:,38], F[:,39], F[:,35], F[:,37],\n",
    "            ariaci[:,0], ariaci[:,1], heatflux*NTOA_ZJ, heatflux*NTOA_ZJ*0.92,\n",
    "            af, cumE, T/cumE\n",
    "        )\n",
    "    \n",
    "if __name__ == '__main__':\n",
    "    with Pool(16) as pool:\n",
    "        result = list(tqdm(pool.imap(run_fair, config_list), total=len(config_list)))\n",
    "    result_t = np.array(result).transpose(1,2,0)"
   ]
  },
  {
   "cell_type": "code",
   "execution_count": 45,
   "metadata": {},
   "outputs": [
    {
     "data": {
      "image/png": "[encoded data removed]",
      "text/plain": [
       "<Figure size 432x288 with 1 Axes>"
      ]
     },
     "metadata": {
      "needs_background": "light"
     },
     "output_type": "display_data"
    }
   ],
   "source": [
    "pl.fill_between(np.arange(1750, 1750+nt), np.percentile(result_t[0,...], 5, axis=1), np.percentile(result_t[0,...], 95, axis=1))\n",
    "pl.plot(np.arange(1750,1750+nt), np.percentile(result_t[0,...], 50, axis=1), color='k');"
   ]
  },
  {
   "cell_type": "code",
   "execution_count": 46,
   "metadata": {},
   "outputs": [],
   "source": [
    "runs = run_append(\n",
    "    [\n",
    "        new_timeseries(\n",
    "            result_t[:,:,ensemble_member].T,\n",
    "            n=result_t.shape[1],\n",
    "            scenario=expt,\n",
    "            variable=VARIABLES,\n",
    "            unit=UNITS,\n",
    "            ensemble_member=ensemble_member,\n",
    "        )\n",
    "        for ensemble_member in range(len(config_list))\n",
    "    ]\n",
    ")\n",
    "runs.metadata[\"source\"] = \"FaIRv%s AR6 runs %02d.%02d.%d\" % (fair.__version__, dt.date.today().day, dt.date.today().month, dt.date.today().year)\n",
    "runs.to_nc('../data_output_large/fair-samples/concentration_driven/FaIR1.6.2_%s.nc' % expt, dimensions=[\"ensemble_member\"])\n",
    "runs.to_csv('../data_output_large/fair-samples/concentration_driven/FaIR1.6.2_%s.csv' % expt)"
   ]
  },
  {
   "cell_type": "code",
   "execution_count": 55,
   "metadata": {},
   "outputs": [],
   "source": [
    "#from scmdata import \n",
    "data = ScmRun.from_nc('../data_output_large/fair-samples/concentration_driven/FaIR1.6.2_ssp126.nc')"
   ]
  },
  {
   "cell_type": "code",
   "execution_count": 56,
   "metadata": {},
   "outputs": [
    {
     "data": {
      "image/png": "[encoded data removed]",
      "text/plain": [
       "<Figure size 432x288 with 1 Axes>"
      ]
     },
     "metadata": {
      "needs_background": "light"
     },
     "output_type": "display_data"
    }
   ],
   "source": [
    "data.filter(variable='Surface Temperature').relative_to_ref_period_mean(year=range(1850,1901)).lineplot()\n",
    "#pl.xlim(2000, 2100)\n",
    "pl.ylim(0,2.2)\n",
    "pl.grid()"
   ]
  },
  {
   "cell_type": "code",
   "execution_count": 49,
   "metadata": {},
   "outputs": [
    {
     "data": {
      "text/html": [
       "<div>\n",
       "<style scoped>\n",
       "    .dataframe tbody tr th:only-of-type {\n",
       "        vertical-align: middle;\n",
       "    }\n",
       "\n",
       "    .dataframe tbody tr th {\n",
       "        vertical-align: top;\n",
       "    }\n",
       "\n",
       "    .dataframe thead th {\n",
       "        text-align: right;\n",
       "    }\n",
       "</style>\n",
       "<table border=\"1\" class=\"dataframe\">\n",
       "  <thead>\n",
       "    <tr style=\"text-align: right;\">\n",
       "      <th></th>\n",
       "      <th></th>\n",
       "      <th></th>\n",
       "      <th></th>\n",
       "      <th></th>\n",
       "      <th></th>\n",
       "      <th>time</th>\n",
       "      <th>1750-01-01 00:00:00</th>\n",
       "      <th>1751-01-01 00:00:00</th>\n",
       "      <th>1752-01-01 00:00:00</th>\n",
       "      <th>1753-01-01 00:00:00</th>\n",
       "      <th>1754-01-01 00:00:00</th>\n",
       "      <th>1755-01-01 00:00:00</th>\n",
       "      <th>1756-01-01 00:00:00</th>\n",
       "      <th>1757-01-01 00:00:00</th>\n",
       "      <th>1758-01-01 00:00:00</th>\n",
       "      <th>1759-01-01 00:00:00</th>\n",
       "      <th>...</th>\n",
       "      <th>2491-01-01 00:00:00</th>\n",
       "      <th>2492-01-01 00:00:00</th>\n",
       "      <th>2493-01-01 00:00:00</th>\n",
       "      <th>2494-01-01 00:00:00</th>\n",
       "      <th>2495-01-01 00:00:00</th>\n",
       "      <th>2496-01-01 00:00:00</th>\n",
       "      <th>2497-01-01 00:00:00</th>\n",
       "      <th>2498-01-01 00:00:00</th>\n",
       "      <th>2499-01-01 00:00:00</th>\n",
       "      <th>2500-01-01 00:00:00</th>\n",
       "    </tr>\n",
       "    <tr>\n",
       "      <th>climate_model</th>\n",
       "      <th>ensemble_member</th>\n",
       "      <th>model</th>\n",
       "      <th>region</th>\n",
       "      <th>scenario</th>\n",
       "      <th>unit</th>\n",
       "      <th>variable</th>\n",
       "      <th></th>\n",
       "      <th></th>\n",
       "      <th></th>\n",
       "      <th></th>\n",
       "      <th></th>\n",
       "      <th></th>\n",
       "      <th></th>\n",
       "      <th></th>\n",
       "      <th></th>\n",
       "      <th></th>\n",
       "      <th></th>\n",
       "      <th></th>\n",
       "      <th></th>\n",
       "      <th></th>\n",
       "      <th></th>\n",
       "      <th></th>\n",
       "      <th></th>\n",
       "      <th></th>\n",
       "      <th></th>\n",
       "      <th></th>\n",
       "      <th></th>\n",
       "    </tr>\n",
       "  </thead>\n",
       "  <tbody>\n",
       "    <tr>\n",
       "      <th rowspan=\"5\" valign=\"top\">FaIRv1.6.2</th>\n",
       "      <th>2232</th>\n",
       "      <th>unspecified</th>\n",
       "      <th>World</th>\n",
       "      <th>ssp126</th>\n",
       "      <th>K</th>\n",
       "      <th>Surface Temperature (GMST)</th>\n",
       "      <td>0.033476</td>\n",
       "      <td>0.057594</td>\n",
       "      <td>0.073339</td>\n",
       "      <td>0.081987</td>\n",
       "      <td>0.085112</td>\n",
       "      <td>0.083171</td>\n",
       "      <td>0.063235</td>\n",
       "      <td>0.044105</td>\n",
       "      <td>0.047308</td>\n",
       "      <td>0.061688</td>\n",
       "      <td>...</td>\n",
       "      <td>1.636471</td>\n",
       "      <td>1.636027</td>\n",
       "      <td>1.635583</td>\n",
       "      <td>1.635139</td>\n",
       "      <td>1.634695</td>\n",
       "      <td>1.634252</td>\n",
       "      <td>1.633808</td>\n",
       "      <td>1.633365</td>\n",
       "      <td>1.632923</td>\n",
       "      <td>1.632499</td>\n",
       "    </tr>\n",
       "    <tr>\n",
       "      <th>2233</th>\n",
       "      <th>unspecified</th>\n",
       "      <th>World</th>\n",
       "      <th>ssp126</th>\n",
       "      <th>K</th>\n",
       "      <th>Surface Temperature (GMST)</th>\n",
       "      <td>0.034036</td>\n",
       "      <td>0.059860</td>\n",
       "      <td>0.077380</td>\n",
       "      <td>0.086492</td>\n",
       "      <td>0.087870</td>\n",
       "      <td>0.083305</td>\n",
       "      <td>0.063726</td>\n",
       "      <td>0.044310</td>\n",
       "      <td>0.045490</td>\n",
       "      <td>0.059724</td>\n",
       "      <td>...</td>\n",
       "      <td>1.169067</td>\n",
       "      <td>1.168835</td>\n",
       "      <td>1.168603</td>\n",
       "      <td>1.168371</td>\n",
       "      <td>1.168140</td>\n",
       "      <td>1.167909</td>\n",
       "      <td>1.167679</td>\n",
       "      <td>1.167450</td>\n",
       "      <td>1.167222</td>\n",
       "      <td>1.167013</td>\n",
       "    </tr>\n",
       "    <tr>\n",
       "      <th>2234</th>\n",
       "      <th>unspecified</th>\n",
       "      <th>World</th>\n",
       "      <th>ssp126</th>\n",
       "      <th>K</th>\n",
       "      <th>Surface Temperature (GMST)</th>\n",
       "      <td>0.028843</td>\n",
       "      <td>0.049732</td>\n",
       "      <td>0.062818</td>\n",
       "      <td>0.068672</td>\n",
       "      <td>0.068490</td>\n",
       "      <td>0.063635</td>\n",
       "      <td>0.046419</td>\n",
       "      <td>0.030565</td>\n",
       "      <td>0.032649</td>\n",
       "      <td>0.045543</td>\n",
       "      <td>...</td>\n",
       "      <td>1.312691</td>\n",
       "      <td>1.312509</td>\n",
       "      <td>1.312328</td>\n",
       "      <td>1.312146</td>\n",
       "      <td>1.311964</td>\n",
       "      <td>1.311782</td>\n",
       "      <td>1.311599</td>\n",
       "      <td>1.311417</td>\n",
       "      <td>1.311236</td>\n",
       "      <td>1.311073</td>\n",
       "    </tr>\n",
       "    <tr>\n",
       "      <th>2235</th>\n",
       "      <th>unspecified</th>\n",
       "      <th>World</th>\n",
       "      <th>ssp126</th>\n",
       "      <th>K</th>\n",
       "      <th>Surface Temperature (GMST)</th>\n",
       "      <td>0.030291</td>\n",
       "      <td>0.052962</td>\n",
       "      <td>0.068006</td>\n",
       "      <td>0.076082</td>\n",
       "      <td>0.078454</td>\n",
       "      <td>0.075835</td>\n",
       "      <td>0.058485</td>\n",
       "      <td>0.041616</td>\n",
       "      <td>0.043735</td>\n",
       "      <td>0.056820</td>\n",
       "      <td>...</td>\n",
       "      <td>1.322834</td>\n",
       "      <td>1.322744</td>\n",
       "      <td>1.322655</td>\n",
       "      <td>1.322565</td>\n",
       "      <td>1.322474</td>\n",
       "      <td>1.322384</td>\n",
       "      <td>1.322293</td>\n",
       "      <td>1.322202</td>\n",
       "      <td>1.322112</td>\n",
       "      <td>1.322038</td>\n",
       "    </tr>\n",
       "    <tr>\n",
       "      <th>2236</th>\n",
       "      <th>unspecified</th>\n",
       "      <th>World</th>\n",
       "      <th>ssp126</th>\n",
       "      <th>K</th>\n",
       "      <th>Surface Temperature (GMST)</th>\n",
       "      <td>0.028847</td>\n",
       "      <td>0.051913</td>\n",
       "      <td>0.069017</td>\n",
       "      <td>0.080355</td>\n",
       "      <td>0.086600</td>\n",
       "      <td>0.087963</td>\n",
       "      <td>0.073408</td>\n",
       "      <td>0.057316</td>\n",
       "      <td>0.059064</td>\n",
       "      <td>0.070903</td>\n",
       "      <td>...</td>\n",
       "      <td>1.271862</td>\n",
       "      <td>1.271452</td>\n",
       "      <td>1.271044</td>\n",
       "      <td>1.270635</td>\n",
       "      <td>1.270228</td>\n",
       "      <td>1.269821</td>\n",
       "      <td>1.269416</td>\n",
       "      <td>1.269011</td>\n",
       "      <td>1.268608</td>\n",
       "      <td>1.268220</td>\n",
       "    </tr>\n",
       "  </tbody>\n",
       "</table>\n",
       "<p>5 rows × 751 columns</p>\n",
       "</div>"
      ],
      "text/plain": [
       "time                                                                                       1750-01-01 00:00:00  \\\n",
       "climate_model ensemble_member model       region scenario unit variable                                          \n",
       "FaIRv1.6.2    2232            unspecified World  ssp126   K    Surface Temperature (GMST)             0.033476   \n",
       "              2233            unspecified World  ssp126   K    Surface Temperature (GMST)             0.034036   \n",
       "              2234            unspecified World  ssp126   K    Surface Temperature (GMST)             0.028843   \n",
       "              2235            unspecified World  ssp126   K    Surface Temperature (GMST)             0.030291   \n",
       "              2236            unspecified World  ssp126   K    Surface Temperature (GMST)             0.028847   \n",
       "\n",
       "time                                                                                       1751-01-01 00:00:00  \\\n",
       "climate_model ensemble_member model       region scenario unit variable                                          \n",
       "FaIRv1.6.2    2232            unspecified World  ssp126   K    Surface Temperature (GMST)             0.057594   \n",
       "              2233            unspecified World  ssp126   K    Surface Temperature (GMST)             0.059860   \n",
       "              2234            unspecified World  ssp126   K    Surface Temperature (GMST)             0.049732   \n",
       "              2235            unspecified World  ssp126   K    Surface Temperature (GMST)             0.052962   \n",
       "              2236            unspecified World  ssp126   K    Surface Temperature (GMST)             0.051913   \n",
       "\n",
       "time                                                                                       1752-01-01 00:00:00  \\\n",
       "climate_model ensemble_member model       region scenario unit variable                                          \n",
       "FaIRv1.6.2    2232            unspecified World  ssp126   K    Surface Temperature (GMST)             0.073339   \n",
       "              2233            unspecified World  ssp126   K    Surface Temperature (GMST)             0.077380   \n",
       "              2234            unspecified World  ssp126   K    Surface Temperature (GMST)             0.062818   \n",
       "              2235            unspecified World  ssp126   K    Surface Temperature (GMST)             0.068006   \n",
       "              2236            unspecified World  ssp126   K    Surface Temperature (GMST)             0.069017   \n",
       "\n",
       "time                                                                                       1753-01-01 00:00:00  \\\n",
       "climate_model ensemble_member model       region scenario unit variable                                          \n",
       "FaIRv1.6.2    2232            unspecified World  ssp126   K    Surface Temperature (GMST)             0.081987   \n",
       "              2233            unspecified World  ssp126   K    Surface Temperature (GMST)             0.086492   \n",
       "              2234            unspecified World  ssp126   K    Surface Temperature (GMST)             0.068672   \n",
       "              2235            unspecified World  ssp126   K    Surface Temperature (GMST)             0.076082   \n",
       "              2236            unspecified World  ssp126   K    Surface Temperature (GMST)             0.080355   \n",
       "\n",
       "time                                                                                       1754-01-01 00:00:00  \\\n",
       "climate_model ensemble_member model       region scenario unit variable                                          \n",
       "FaIRv1.6.2    2232            unspecified World  ssp126   K    Surface Temperature (GMST)             0.085112   \n",
       "              2233            unspecified World  ssp126   K    Surface Temperature (GMST)             0.087870   \n",
       "              2234            unspecified World  ssp126   K    Surface Temperature (GMST)             0.068490   \n",
       "              2235            unspecified World  ssp126   K    Surface Temperature (GMST)             0.078454   \n",
       "              2236            unspecified World  ssp126   K    Surface Temperature (GMST)             0.086600   \n",
       "\n",
       "time                                                                                       1755-01-01 00:00:00  \\\n",
       "climate_model ensemble_member model       region scenario unit variable                                          \n",
       "FaIRv1.6.2    2232            unspecified World  ssp126   K    Surface Temperature (GMST)             0.083171   \n",
       "              2233            unspecified World  ssp126   K    Surface Temperature (GMST)             0.083305   \n",
       "              2234            unspecified World  ssp126   K    Surface Temperature (GMST)             0.063635   \n",
       "              2235            unspecified World  ssp126   K    Surface Temperature (GMST)             0.075835   \n",
       "              2236            unspecified World  ssp126   K    Surface Temperature (GMST)             0.087963   \n",
       "\n",
       "time                                                                                       1756-01-01 00:00:00  \\\n",
       "climate_model ensemble_member model       region scenario unit variable                                          \n",
       "FaIRv1.6.2    2232            unspecified World  ssp126   K    Surface Temperature (GMST)             0.063235   \n",
       "              2233            unspecified World  ssp126   K    Surface Temperature (GMST)             0.063726   \n",
       "              2234            unspecified World  ssp126   K    Surface Temperature (GMST)             0.046419   \n",
       "              2235            unspecified World  ssp126   K    Surface Temperature (GMST)             0.058485   \n",
       "              2236            unspecified World  ssp126   K    Surface Temperature (GMST)             0.073408   \n",
       "\n",
       "time                                                                                       1757-01-01 00:00:00  \\\n",
       "climate_model ensemble_member model       region scenario unit variable                                          \n",
       "FaIRv1.6.2    2232            unspecified World  ssp126   K    Surface Temperature (GMST)             0.044105   \n",
       "              2233            unspecified World  ssp126   K    Surface Temperature (GMST)             0.044310   \n",
       "              2234            unspecified World  ssp126   K    Surface Temperature (GMST)             0.030565   \n",
       "              2235            unspecified World  ssp126   K    Surface Temperature (GMST)             0.041616   \n",
       "              2236            unspecified World  ssp126   K    Surface Temperature (GMST)             0.057316   \n",
       "\n",
       "time                                                                                       1758-01-01 00:00:00  \\\n",
       "climate_model ensemble_member model       region scenario unit variable                                          \n",
       "FaIRv1.6.2    2232            unspecified World  ssp126   K    Surface Temperature (GMST)             0.047308   \n",
       "              2233            unspecified World  ssp126   K    Surface Temperature (GMST)             0.045490   \n",
       "              2234            unspecified World  ssp126   K    Surface Temperature (GMST)             0.032649   \n",
       "              2235            unspecified World  ssp126   K    Surface Temperature (GMST)             0.043735   \n",
       "              2236            unspecified World  ssp126   K    Surface Temperature (GMST)             0.059064   \n",
       "\n",
       "time                                                                                       1759-01-01 00:00:00  \\\n",
       "climate_model ensemble_member model       region scenario unit variable                                          \n",
       "FaIRv1.6.2    2232            unspecified World  ssp126   K    Surface Temperature (GMST)             0.061688   \n",
       "              2233            unspecified World  ssp126   K    Surface Temperature (GMST)             0.059724   \n",
       "              2234            unspecified World  ssp126   K    Surface Temperature (GMST)             0.045543   \n",
       "              2235            unspecified World  ssp126   K    Surface Temperature (GMST)             0.056820   \n",
       "              2236            unspecified World  ssp126   K    Surface Temperature (GMST)             0.070903   \n",
       "\n",
       "time                                                                                       ...  \\\n",
       "climate_model ensemble_member model       region scenario unit variable                    ...   \n",
       "FaIRv1.6.2    2232            unspecified World  ssp126   K    Surface Temperature (GMST)  ...   \n",
       "              2233            unspecified World  ssp126   K    Surface Temperature (GMST)  ...   \n",
       "              2234            unspecified World  ssp126   K    Surface Temperature (GMST)  ...   \n",
       "              2235            unspecified World  ssp126   K    Surface Temperature (GMST)  ...   \n",
       "              2236            unspecified World  ssp126   K    Surface Temperature (GMST)  ...   \n",
       "\n",
       "time                                                                                       2491-01-01 00:00:00  \\\n",
       "climate_model ensemble_member model       region scenario unit variable                                          \n",
       "FaIRv1.6.2    2232            unspecified World  ssp126   K    Surface Temperature (GMST)             1.636471   \n",
       "              2233            unspecified World  ssp126   K    Surface Temperature (GMST)             1.169067   \n",
       "              2234            unspecified World  ssp126   K    Surface Temperature (GMST)             1.312691   \n",
       "              2235            unspecified World  ssp126   K    Surface Temperature (GMST)             1.322834   \n",
       "              2236            unspecified World  ssp126   K    Surface Temperature (GMST)             1.271862   \n",
       "\n",
       "time                                                                                       2492-01-01 00:00:00  \\\n",
       "climate_model ensemble_member model       region scenario unit variable                                          \n",
       "FaIRv1.6.2    2232            unspecified World  ssp126   K    Surface Temperature (GMST)             1.636027   \n",
       "              2233            unspecified World  ssp126   K    Surface Temperature (GMST)             1.168835   \n",
       "              2234            unspecified World  ssp126   K    Surface Temperature (GMST)             1.312509   \n",
       "              2235            unspecified World  ssp126   K    Surface Temperature (GMST)             1.322744   \n",
       "              2236            unspecified World  ssp126   K    Surface Temperature (GMST)             1.271452   \n",
       "\n",
       "time                                                                                       2493-01-01 00:00:00  \\\n",
       "climate_model ensemble_member model       region scenario unit variable                                          \n",
       "FaIRv1.6.2    2232            unspecified World  ssp126   K    Surface Temperature (GMST)             1.635583   \n",
       "              2233            unspecified World  ssp126   K    Surface Temperature (GMST)             1.168603   \n",
       "              2234            unspecified World  ssp126   K    Surface Temperature (GMST)             1.312328   \n",
       "              2235            unspecified World  ssp126   K    Surface Temperature (GMST)             1.322655   \n",
       "              2236            unspecified World  ssp126   K    Surface Temperature (GMST)             1.271044   \n",
       "\n",
       "time                                                                                       2494-01-01 00:00:00  \\\n",
       "climate_model ensemble_member model       region scenario unit variable                                          \n",
       "FaIRv1.6.2    2232            unspecified World  ssp126   K    Surface Temperature (GMST)             1.635139   \n",
       "              2233            unspecified World  ssp126   K    Surface Temperature (GMST)             1.168371   \n",
       "              2234            unspecified World  ssp126   K    Surface Temperature (GMST)             1.312146   \n",
       "              2235            unspecified World  ssp126   K    Surface Temperature (GMST)             1.322565   \n",
       "              2236            unspecified World  ssp126   K    Surface Temperature (GMST)             1.270635   \n",
       "\n",
       "time                                                                                       2495-01-01 00:00:00  \\\n",
       "climate_model ensemble_member model       region scenario unit variable                                          \n",
       "FaIRv1.6.2    2232            unspecified World  ssp126   K    Surface Temperature (GMST)             1.634695   \n",
       "              2233            unspecified World  ssp126   K    Surface Temperature (GMST)             1.168140   \n",
       "              2234            unspecified World  ssp126   K    Surface Temperature (GMST)             1.311964   \n",
       "              2235            unspecified World  ssp126   K    Surface Temperature (GMST)             1.322474   \n",
       "              2236            unspecified World  ssp126   K    Surface Temperature (GMST)             1.270228   \n",
       "\n",
       "time                                                                                       2496-01-01 00:00:00  \\\n",
       "climate_model ensemble_member model       region scenario unit variable                                          \n",
       "FaIRv1.6.2    2232            unspecified World  ssp126   K    Surface Temperature (GMST)             1.634252   \n",
       "              2233            unspecified World  ssp126   K    Surface Temperature (GMST)             1.167909   \n",
       "              2234            unspecified World  ssp126   K    Surface Temperature (GMST)             1.311782   \n",
       "              2235            unspecified World  ssp126   K    Surface Temperature (GMST)             1.322384   \n",
       "              2236            unspecified World  ssp126   K    Surface Temperature (GMST)             1.269821   \n",
       "\n",
       "time                                                                                       2497-01-01 00:00:00  \\\n",
       "climate_model ensemble_member model       region scenario unit variable                                          \n",
       "FaIRv1.6.2    2232            unspecified World  ssp126   K    Surface Temperature (GMST)             1.633808   \n",
       "              2233            unspecified World  ssp126   K    Surface Temperature (GMST)             1.167679   \n",
       "              2234            unspecified World  ssp126   K    Surface Temperature (GMST)             1.311599   \n",
       "              2235            unspecified World  ssp126   K    Surface Temperature (GMST)             1.322293   \n",
       "              2236            unspecified World  ssp126   K    Surface Temperature (GMST)             1.269416   \n",
       "\n",
       "time                                                                                       2498-01-01 00:00:00  \\\n",
       "climate_model ensemble_member model       region scenario unit variable                                          \n",
       "FaIRv1.6.2    2232            unspecified World  ssp126   K    Surface Temperature (GMST)             1.633365   \n",
       "              2233            unspecified World  ssp126   K    Surface Temperature (GMST)             1.167450   \n",
       "              2234            unspecified World  ssp126   K    Surface Temperature (GMST)             1.311417   \n",
       "              2235            unspecified World  ssp126   K    Surface Temperature (GMST)             1.322202   \n",
       "              2236            unspecified World  ssp126   K    Surface Temperature (GMST)             1.269011   \n",
       "\n",
       "time                                                                                       2499-01-01 00:00:00  \\\n",
       "climate_model ensemble_member model       region scenario unit variable                                          \n",
       "FaIRv1.6.2    2232            unspecified World  ssp126   K    Surface Temperature (GMST)             1.632923   \n",
       "              2233            unspecified World  ssp126   K    Surface Temperature (GMST)             1.167222   \n",
       "              2234            unspecified World  ssp126   K    Surface Temperature (GMST)             1.311236   \n",
       "              2235            unspecified World  ssp126   K    Surface Temperature (GMST)             1.322112   \n",
       "              2236            unspecified World  ssp126   K    Surface Temperature (GMST)             1.268608   \n",
       "\n",
       "time                                                                                       2500-01-01 00:00:00  \n",
       "climate_model ensemble_member model       region scenario unit variable                                         \n",
       "FaIRv1.6.2    2232            unspecified World  ssp126   K    Surface Temperature (GMST)             1.632499  \n",
       "              2233            unspecified World  ssp126   K    Surface Temperature (GMST)             1.167013  \n",
       "              2234            unspecified World  ssp126   K    Surface Temperature (GMST)             1.311073  \n",
       "              2235            unspecified World  ssp126   K    Surface Temperature (GMST)             1.322038  \n",
       "              2236            unspecified World  ssp126   K    Surface Temperature (GMST)             1.268220  \n",
       "\n",
       "[5 rows x 751 columns]"
      ]
     },
     "execution_count": 49,
     "metadata": {},
     "output_type": "execute_result"
    }
   ],
   "source": [
    "data.timeseries().tail()"
   ]
  }
 ],
 "metadata": {
  "kernelspec": {
   "display_name": "Python 3",
   "language": "python",
   "name": "python3"
  },
  "language_info": {
   "codemirror_mode": {
    "name": "ipython",
    "version": 3
   },
   "file_extension": ".py",
   "mimetype": "text/x-python",
   "name": "python",
   "nbconvert_exporter": "python",
   "pygments_lexer": "ipython3",
   "version": "3.7.9"
  }
 },
 "nbformat": 4,
 "nbformat_minor": 4
}
