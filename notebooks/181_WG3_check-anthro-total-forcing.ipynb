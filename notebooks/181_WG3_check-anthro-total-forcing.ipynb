{
 "cells": [
  {
   "cell_type": "markdown",
   "metadata": {},
   "source": [
    "# Check anthropogenic total forcing\n",
    "\n",
    "- openscm-runner was giving the wrong numbers for anthropogenic total ERF from FaIR (true up until v0.5.0)\n",
    "\n",
    "Theme Song: Ham 'N' Eggs<br>\n",
    "Artist: A Tribe Called Quest<br>\n",
    "Album: People's Instinctive Travels and the Paths of Rhythm<br>\n",
    "Released: 1990"
   ]
  },
  {
   "cell_type": "code",
   "execution_count": 1,
   "metadata": {},
   "outputs": [
    {
     "data": {
      "application/javascript": [
       "IPython.OutputArea.prototype._should_scroll = function(lines) { return false; }"
      ],
      "text/plain": [
       "<IPython.core.display.Javascript object>"
      ]
     },
     "metadata": {},
     "output_type": "display_data"
    },
    {
     "name": "stderr",
     "output_type": "stream",
     "text": [
      "/nfs/b0110/Users/mencsm/miniconda3/envs/ar6/lib/python3.7/site-packages/openscm_runner/progress.py:5: TqdmExperimentalWarning: Using `tqdm.autonotebook.tqdm` in notebook mode. Use `tqdm.tqdm` instead to force console mode (e.g. in jupyter console)\n",
      "  from tqdm.autonotebook import tqdm\n"
     ]
    }
   ],
   "source": [
    "import os.path\n",
    "\n",
    "import json\n",
    "import numpy as np\n",
    "import matplotlib.pyplot as plt\n",
    "import pandas as pd\n",
    "import pyam\n",
    "from fair.forward import fair_scm\n",
    "from scmdata import ScmRun, run_append\n",
    "from tqdm import tqdm_notebook\n",
    "\n",
    "import openscm_runner\n",
    "from openscm_runner.run import run\n",
    "from openscm_runner.adapters import FAIR"
   ]
  },
  {
   "cell_type": "code",
   "execution_count": 2,
   "metadata": {},
   "outputs": [
    {
     "data": {
      "text/plain": [
       "'0.1.0-alpha.1+308.g9460d5e'"
      ]
     },
     "execution_count": 2,
     "metadata": {},
     "output_type": "execute_result"
    }
   ],
   "source": [
    "openscm_runner.__version__"
   ]
  },
  {
   "cell_type": "code",
   "execution_count": 3,
   "metadata": {},
   "outputs": [
    {
     "data": {
      "text/plain": [
       "'1.6.2'"
      ]
     },
     "execution_count": 3,
     "metadata": {},
     "output_type": "execute_result"
    }
   ],
   "source": [
    "fair = FAIR()\n",
    "fair.get_version()"
   ]
  },
  {
   "cell_type": "code",
   "execution_count": 4,
   "metadata": {},
   "outputs": [],
   "source": [
    "with open('../data_output_large/fair-samples/fair-1.6.2-wg3-params.json') as f:\n",
    "    config_list = json.load(f)"
   ]
  },
  {
   "cell_type": "code",
   "execution_count": 5,
   "metadata": {},
   "outputs": [],
   "source": [
    "species = [\n",
    "'Emissions|BC',\n",
    "'Emissions|CH4',\n",
    "'Emissions|CO',\n",
    "'Emissions|CO2|MAGICC AFOLU',\n",
    "'Emissions|CO2|MAGICC Fossil and Industrial',\n",
    "'Emissions|F-Gases|HFC|HFC125',\n",
    "'Emissions|F-Gases|HFC|HFC134a',\n",
    "'Emissions|F-Gases|HFC|HFC143a',\n",
    "'Emissions|F-Gases|HFC|HFC227ea',\n",
    "'Emissions|F-Gases|HFC|HFC23',\n",
    "'Emissions|F-Gases|HFC|HFC245fa',\n",
    "'Emissions|F-Gases|HFC|HFC32',\n",
    "'Emissions|F-Gases|HFC|HFC4310mee',\n",
    "'Emissions|F-Gases|PFC|C2F6',\n",
    "'Emissions|F-Gases|PFC|C6F14',\n",
    "'Emissions|F-Gases|PFC|CF4',\n",
    "'Emissions|F-Gases|SF6',\n",
    "'Emissions|Montreal Gases|CCl4',\n",
    "'Emissions|Montreal Gases|CFC|CFC11',\n",
    "'Emissions|Montreal Gases|CFC|CFC113',\n",
    "'Emissions|Montreal Gases|CFC|CFC114',\n",
    "'Emissions|Montreal Gases|CFC|CFC115',\n",
    "'Emissions|Montreal Gases|CFC|CFC12',\n",
    "'Emissions|Montreal Gases|CH3Br',\n",
    "'Emissions|Montreal Gases|CH3CCl3',\n",
    "'Emissions|Montreal Gases|CH3Cl',\n",
    "'Emissions|Montreal Gases|HCFC141b',\n",
    "'Emissions|Montreal Gases|HCFC142b',\n",
    "'Emissions|Montreal Gases|HCFC22',\n",
    "'Emissions|Montreal Gases|Halon1202',\n",
    "'Emissions|Montreal Gases|Halon1211',\n",
    "'Emissions|Montreal Gases|Halon1301',\n",
    "'Emissions|Montreal Gases|Halon2402',\n",
    "'Emissions|N2O',\n",
    "'Emissions|NH3',\n",
    "'Emissions|NOx',\n",
    "'Emissions|OC',\n",
    "'Emissions|Sulfur',\n",
    "'Emissions|VOC']"
   ]
  },
  {
   "cell_type": "code",
   "execution_count": 6,
   "metadata": {},
   "outputs": [
    {
     "name": "stdout",
     "output_type": "stream",
     "text": [
      "39\n"
     ]
    }
   ],
   "source": [
    "df_fair = ScmRun('../data_input_large/rcmip-emissions-annual-means-v5-1-0.csv', lowercase_cols=True)\n",
    "df_fair.filter(\n",
    "    scenario=['ssp119'], \n",
    "    year=range(2015,2101),\n",
    "    variable=species,\n",
    "    region='World', \n",
    "    inplace=True\n",
    ")\n",
    "print(len(df_fair))"
   ]
  },
  {
   "cell_type": "code",
   "execution_count": 7,
   "metadata": {},
   "outputs": [
    {
     "data": {
      "text/plain": [
       "351"
      ]
     },
     "execution_count": 7,
     "metadata": {},
     "output_type": "execute_result"
    }
   ],
   "source": [
    "nt = df_fair.time_points.years()[-1] - 1750 + 1\n",
    "nt"
   ]
  },
  {
   "cell_type": "code",
   "execution_count": 8,
   "metadata": {},
   "outputs": [],
   "source": [
    "# convert lists to numpy arrays\n",
    "updated_config = []\n",
    "for i in range(len(config_list)):\n",
    "    updated_config.append({})\n",
    "    for key, value in config_list[i].items():\n",
    "        if type(value)==list:\n",
    "            updated_config[i][key] = np.asarray(value)\n",
    "        else:\n",
    "            updated_config[i][key] = value"
   ]
  },
  {
   "cell_type": "code",
   "execution_count": 9,
   "metadata": {},
   "outputs": [
    {
     "data": {
      "application/vnd.jupyter.widget-view+json": {
       "model_id": "eb89880e0cc34ed9a52fcbc93eea60e4",
       "version_major": 2,
       "version_minor": 0
      },
      "text/plain": [
       "Climate models:   0%|          | 0.00/1.00 [00:00<?, ?it/s]"
      ]
     },
     "metadata": {},
     "output_type": "display_data"
    },
    {
     "data": {
      "application/vnd.jupyter.widget-view+json": {
       "model_id": "50349db441244c1e83c91563f9bee480",
       "version_major": 2,
       "version_minor": 0
      },
      "text/plain": [
       "Creating FaIR emissions inputs:   0%|          | 0.00/1.00 [00:00<?, ?it/s]"
      ]
     },
     "metadata": {},
     "output_type": "display_data"
    }
   ],
   "source": [
    "# need parallel FaIR in openscm-runner\n",
    "\n",
    "x = run(\n",
    "    climate_models_cfgs={\n",
    "        \"FAIR\": updated_config,\n",
    "    },\n",
    "    scenarios=df_fair,\n",
    "    output_variables=(\n",
    "        \"Surface Air Temperature Change\",\n",
    "        \"Surface Air Ocean Blended Temperature Change\",\n",
    "        \"Effective Radiative Forcing\",\n",
    "        \"Effective Radiative Forcing|Volcanic\",\n",
    "        \"Effective Radiative Forcing|Solar\",\n",
    "        \"Effective Radiative Forcing|Anthropogenic\",\n",
    "    ),\n",
    ")"
   ]
  },
  {
   "cell_type": "code",
   "execution_count": 10,
   "metadata": {},
   "outputs": [],
   "source": [
    "# convert to ScmRun for better plotting functionality\n",
    "x = ScmRun(x.timeseries())"
   ]
  },
  {
   "cell_type": "code",
   "execution_count": 11,
   "metadata": {},
   "outputs": [
    {
     "data": {
      "text/html": [
       "<div>\n",
       "<style scoped>\n",
       "    .dataframe tbody tr th:only-of-type {\n",
       "        vertical-align: middle;\n",
       "    }\n",
       "\n",
       "    .dataframe tbody tr th {\n",
       "        vertical-align: top;\n",
       "    }\n",
       "\n",
       "    .dataframe thead th {\n",
       "        text-align: right;\n",
       "    }\n",
       "</style>\n",
       "<table border=\"1\" class=\"dataframe\">\n",
       "  <thead>\n",
       "    <tr style=\"text-align: right;\">\n",
       "      <th></th>\n",
       "      <th></th>\n",
       "      <th></th>\n",
       "      <th></th>\n",
       "      <th></th>\n",
       "      <th></th>\n",
       "      <th>time</th>\n",
       "      <th>1750-01-01</th>\n",
       "      <th>1751-01-01</th>\n",
       "      <th>1752-01-01</th>\n",
       "      <th>1753-01-01</th>\n",
       "      <th>1754-01-01</th>\n",
       "      <th>1755-01-01</th>\n",
       "      <th>1756-01-01</th>\n",
       "      <th>1757-01-01</th>\n",
       "      <th>1758-01-01</th>\n",
       "      <th>1759-01-01</th>\n",
       "      <th>...</th>\n",
       "      <th>2091-01-01</th>\n",
       "      <th>2092-01-01</th>\n",
       "      <th>2093-01-01</th>\n",
       "      <th>2094-01-01</th>\n",
       "      <th>2095-01-01</th>\n",
       "      <th>2096-01-01</th>\n",
       "      <th>2097-01-01</th>\n",
       "      <th>2098-01-01</th>\n",
       "      <th>2099-01-01</th>\n",
       "      <th>2100-01-01</th>\n",
       "    </tr>\n",
       "    <tr>\n",
       "      <th>climate_model</th>\n",
       "      <th>model</th>\n",
       "      <th>region</th>\n",
       "      <th>run_id</th>\n",
       "      <th>scenario</th>\n",
       "      <th>unit</th>\n",
       "      <th>variable</th>\n",
       "      <th></th>\n",
       "      <th></th>\n",
       "      <th></th>\n",
       "      <th></th>\n",
       "      <th></th>\n",
       "      <th></th>\n",
       "      <th></th>\n",
       "      <th></th>\n",
       "      <th></th>\n",
       "      <th></th>\n",
       "      <th></th>\n",
       "      <th></th>\n",
       "      <th></th>\n",
       "      <th></th>\n",
       "      <th></th>\n",
       "      <th></th>\n",
       "      <th></th>\n",
       "      <th></th>\n",
       "      <th></th>\n",
       "      <th></th>\n",
       "      <th></th>\n",
       "    </tr>\n",
       "  </thead>\n",
       "  <tbody>\n",
       "    <tr>\n",
       "      <th rowspan=\"5\" valign=\"top\">FaIRv1.6.2</th>\n",
       "      <th rowspan=\"5\" valign=\"top\">IMAGE</th>\n",
       "      <th rowspan=\"5\" valign=\"top\">World</th>\n",
       "      <th rowspan=\"5\" valign=\"top\">2236</th>\n",
       "      <th rowspan=\"5\" valign=\"top\">ssp119</th>\n",
       "      <th>K</th>\n",
       "      <th>Surface Air Ocean Blended Temperature Change</th>\n",
       "      <td>0.028903</td>\n",
       "      <td>0.050731</td>\n",
       "      <td>0.065179</td>\n",
       "      <td>0.073775</td>\n",
       "      <td>0.077560</td>\n",
       "      <td>0.076799</td>\n",
       "      <td>0.060437</td>\n",
       "      <td>0.042806</td>\n",
       "      <td>0.043230</td>\n",
       "      <td>0.053925</td>\n",
       "      <td>...</td>\n",
       "      <td>1.378142</td>\n",
       "      <td>1.377717</td>\n",
       "      <td>1.377038</td>\n",
       "      <td>1.374052</td>\n",
       "      <td>1.368876</td>\n",
       "      <td>1.361935</td>\n",
       "      <td>1.354003</td>\n",
       "      <td>1.345825</td>\n",
       "      <td>1.338159</td>\n",
       "      <td>1.332116</td>\n",
       "    </tr>\n",
       "    <tr>\n",
       "      <th rowspan=\"4\" valign=\"top\">W/m**2</th>\n",
       "      <th>Effective Radiative Forcing</th>\n",
       "      <td>0.322464</td>\n",
       "      <td>0.278080</td>\n",
       "      <td>0.241880</td>\n",
       "      <td>0.203167</td>\n",
       "      <td>0.167197</td>\n",
       "      <td>0.116269</td>\n",
       "      <td>-0.176797</td>\n",
       "      <td>0.008617</td>\n",
       "      <td>0.158427</td>\n",
       "      <td>0.241252</td>\n",
       "      <td>...</td>\n",
       "      <td>2.257094</td>\n",
       "      <td>2.270563</td>\n",
       "      <td>2.247605</td>\n",
       "      <td>2.213529</td>\n",
       "      <td>2.183763</td>\n",
       "      <td>2.150990</td>\n",
       "      <td>2.131211</td>\n",
       "      <td>2.111724</td>\n",
       "      <td>2.107524</td>\n",
       "      <td>2.115039</td>\n",
       "    </tr>\n",
       "    <tr>\n",
       "      <th>Effective Radiative Forcing|Volcanic</th>\n",
       "      <td>0.227682</td>\n",
       "      <td>0.227696</td>\n",
       "      <td>0.227700</td>\n",
       "      <td>0.227702</td>\n",
       "      <td>0.227702</td>\n",
       "      <td>0.196998</td>\n",
       "      <td>-0.088433</td>\n",
       "      <td>0.075543</td>\n",
       "      <td>0.174501</td>\n",
       "      <td>0.209737</td>\n",
       "      <td>...</td>\n",
       "      <td>0.000000</td>\n",
       "      <td>0.000000</td>\n",
       "      <td>0.000000</td>\n",
       "      <td>0.000000</td>\n",
       "      <td>0.000000</td>\n",
       "      <td>0.000000</td>\n",
       "      <td>0.000000</td>\n",
       "      <td>0.000000</td>\n",
       "      <td>0.000000</td>\n",
       "      <td>0.000000</td>\n",
       "    </tr>\n",
       "    <tr>\n",
       "      <th>Effective Radiative Forcing|Solar</th>\n",
       "      <td>0.094167</td>\n",
       "      <td>0.076511</td>\n",
       "      <td>0.047536</td>\n",
       "      <td>0.012675</td>\n",
       "      <td>-0.020485</td>\n",
       "      <td>-0.044056</td>\n",
       "      <td>-0.051325</td>\n",
       "      <td>-0.032807</td>\n",
       "      <td>0.016796</td>\n",
       "      <td>0.065571</td>\n",
       "      <td>...</td>\n",
       "      <td>0.038849</td>\n",
       "      <td>0.064437</td>\n",
       "      <td>0.053860</td>\n",
       "      <td>0.032374</td>\n",
       "      <td>0.015319</td>\n",
       "      <td>-0.004619</td>\n",
       "      <td>-0.011427</td>\n",
       "      <td>-0.017753</td>\n",
       "      <td>-0.008580</td>\n",
       "      <td>0.012556</td>\n",
       "    </tr>\n",
       "    <tr>\n",
       "      <th>Effective Radiative Forcing|Anthropogenic</th>\n",
       "      <td>0.000616</td>\n",
       "      <td>-0.026127</td>\n",
       "      <td>-0.033357</td>\n",
       "      <td>-0.037210</td>\n",
       "      <td>-0.040021</td>\n",
       "      <td>-0.036673</td>\n",
       "      <td>-0.037040</td>\n",
       "      <td>-0.034119</td>\n",
       "      <td>-0.032870</td>\n",
       "      <td>-0.034055</td>\n",
       "      <td>...</td>\n",
       "      <td>2.218244</td>\n",
       "      <td>2.206126</td>\n",
       "      <td>2.193745</td>\n",
       "      <td>2.181155</td>\n",
       "      <td>2.168445</td>\n",
       "      <td>2.155610</td>\n",
       "      <td>2.142637</td>\n",
       "      <td>2.129477</td>\n",
       "      <td>2.116103</td>\n",
       "      <td>2.102482</td>\n",
       "    </tr>\n",
       "  </tbody>\n",
       "</table>\n",
       "<p>5 rows × 351 columns</p>\n",
       "</div>"
      ],
      "text/plain": [
       "time                                                                                            1750-01-01  \\\n",
       "climate_model model region run_id scenario unit   variable                                                   \n",
       "FaIRv1.6.2    IMAGE World  2236   ssp119   K      Surface Air Ocean Blended Temperature Change    0.028903   \n",
       "                                           W/m**2 Effective Radiative Forcing                     0.322464   \n",
       "                                                  Effective Radiative Forcing|Volcanic            0.227682   \n",
       "                                                  Effective Radiative Forcing|Solar               0.094167   \n",
       "                                                  Effective Radiative Forcing|Anthropogenic       0.000616   \n",
       "\n",
       "time                                                                                            1751-01-01  \\\n",
       "climate_model model region run_id scenario unit   variable                                                   \n",
       "FaIRv1.6.2    IMAGE World  2236   ssp119   K      Surface Air Ocean Blended Temperature Change    0.050731   \n",
       "                                           W/m**2 Effective Radiative Forcing                     0.278080   \n",
       "                                                  Effective Radiative Forcing|Volcanic            0.227696   \n",
       "                                                  Effective Radiative Forcing|Solar               0.076511   \n",
       "                                                  Effective Radiative Forcing|Anthropogenic      -0.026127   \n",
       "\n",
       "time                                                                                            1752-01-01  \\\n",
       "climate_model model region run_id scenario unit   variable                                                   \n",
       "FaIRv1.6.2    IMAGE World  2236   ssp119   K      Surface Air Ocean Blended Temperature Change    0.065179   \n",
       "                                           W/m**2 Effective Radiative Forcing                     0.241880   \n",
       "                                                  Effective Radiative Forcing|Volcanic            0.227700   \n",
       "                                                  Effective Radiative Forcing|Solar               0.047536   \n",
       "                                                  Effective Radiative Forcing|Anthropogenic      -0.033357   \n",
       "\n",
       "time                                                                                            1753-01-01  \\\n",
       "climate_model model region run_id scenario unit   variable                                                   \n",
       "FaIRv1.6.2    IMAGE World  2236   ssp119   K      Surface Air Ocean Blended Temperature Change    0.073775   \n",
       "                                           W/m**2 Effective Radiative Forcing                     0.203167   \n",
       "                                                  Effective Radiative Forcing|Volcanic            0.227702   \n",
       "                                                  Effective Radiative Forcing|Solar               0.012675   \n",
       "                                                  Effective Radiative Forcing|Anthropogenic      -0.037210   \n",
       "\n",
       "time                                                                                            1754-01-01  \\\n",
       "climate_model model region run_id scenario unit   variable                                                   \n",
       "FaIRv1.6.2    IMAGE World  2236   ssp119   K      Surface Air Ocean Blended Temperature Change    0.077560   \n",
       "                                           W/m**2 Effective Radiative Forcing                     0.167197   \n",
       "                                                  Effective Radiative Forcing|Volcanic            0.227702   \n",
       "                                                  Effective Radiative Forcing|Solar              -0.020485   \n",
       "                                                  Effective Radiative Forcing|Anthropogenic      -0.040021   \n",
       "\n",
       "time                                                                                            1755-01-01  \\\n",
       "climate_model model region run_id scenario unit   variable                                                   \n",
       "FaIRv1.6.2    IMAGE World  2236   ssp119   K      Surface Air Ocean Blended Temperature Change    0.076799   \n",
       "                                           W/m**2 Effective Radiative Forcing                     0.116269   \n",
       "                                                  Effective Radiative Forcing|Volcanic            0.196998   \n",
       "                                                  Effective Radiative Forcing|Solar              -0.044056   \n",
       "                                                  Effective Radiative Forcing|Anthropogenic      -0.036673   \n",
       "\n",
       "time                                                                                            1756-01-01  \\\n",
       "climate_model model region run_id scenario unit   variable                                                   \n",
       "FaIRv1.6.2    IMAGE World  2236   ssp119   K      Surface Air Ocean Blended Temperature Change    0.060437   \n",
       "                                           W/m**2 Effective Radiative Forcing                    -0.176797   \n",
       "                                                  Effective Radiative Forcing|Volcanic           -0.088433   \n",
       "                                                  Effective Radiative Forcing|Solar              -0.051325   \n",
       "                                                  Effective Radiative Forcing|Anthropogenic      -0.037040   \n",
       "\n",
       "time                                                                                            1757-01-01  \\\n",
       "climate_model model region run_id scenario unit   variable                                                   \n",
       "FaIRv1.6.2    IMAGE World  2236   ssp119   K      Surface Air Ocean Blended Temperature Change    0.042806   \n",
       "                                           W/m**2 Effective Radiative Forcing                     0.008617   \n",
       "                                                  Effective Radiative Forcing|Volcanic            0.075543   \n",
       "                                                  Effective Radiative Forcing|Solar              -0.032807   \n",
       "                                                  Effective Radiative Forcing|Anthropogenic      -0.034119   \n",
       "\n",
       "time                                                                                            1758-01-01  \\\n",
       "climate_model model region run_id scenario unit   variable                                                   \n",
       "FaIRv1.6.2    IMAGE World  2236   ssp119   K      Surface Air Ocean Blended Temperature Change    0.043230   \n",
       "                                           W/m**2 Effective Radiative Forcing                     0.158427   \n",
       "                                                  Effective Radiative Forcing|Volcanic            0.174501   \n",
       "                                                  Effective Radiative Forcing|Solar               0.016796   \n",
       "                                                  Effective Radiative Forcing|Anthropogenic      -0.032870   \n",
       "\n",
       "time                                                                                            1759-01-01  \\\n",
       "climate_model model region run_id scenario unit   variable                                                   \n",
       "FaIRv1.6.2    IMAGE World  2236   ssp119   K      Surface Air Ocean Blended Temperature Change    0.053925   \n",
       "                                           W/m**2 Effective Radiative Forcing                     0.241252   \n",
       "                                                  Effective Radiative Forcing|Volcanic            0.209737   \n",
       "                                                  Effective Radiative Forcing|Solar               0.065571   \n",
       "                                                  Effective Radiative Forcing|Anthropogenic      -0.034055   \n",
       "\n",
       "time                                                                                            ...  \\\n",
       "climate_model model region run_id scenario unit   variable                                      ...   \n",
       "FaIRv1.6.2    IMAGE World  2236   ssp119   K      Surface Air Ocean Blended Temperature Change  ...   \n",
       "                                           W/m**2 Effective Radiative Forcing                   ...   \n",
       "                                                  Effective Radiative Forcing|Volcanic          ...   \n",
       "                                                  Effective Radiative Forcing|Solar             ...   \n",
       "                                                  Effective Radiative Forcing|Anthropogenic     ...   \n",
       "\n",
       "time                                                                                            2091-01-01  \\\n",
       "climate_model model region run_id scenario unit   variable                                                   \n",
       "FaIRv1.6.2    IMAGE World  2236   ssp119   K      Surface Air Ocean Blended Temperature Change    1.378142   \n",
       "                                           W/m**2 Effective Radiative Forcing                     2.257094   \n",
       "                                                  Effective Radiative Forcing|Volcanic            0.000000   \n",
       "                                                  Effective Radiative Forcing|Solar               0.038849   \n",
       "                                                  Effective Radiative Forcing|Anthropogenic       2.218244   \n",
       "\n",
       "time                                                                                            2092-01-01  \\\n",
       "climate_model model region run_id scenario unit   variable                                                   \n",
       "FaIRv1.6.2    IMAGE World  2236   ssp119   K      Surface Air Ocean Blended Temperature Change    1.377717   \n",
       "                                           W/m**2 Effective Radiative Forcing                     2.270563   \n",
       "                                                  Effective Radiative Forcing|Volcanic            0.000000   \n",
       "                                                  Effective Radiative Forcing|Solar               0.064437   \n",
       "                                                  Effective Radiative Forcing|Anthropogenic       2.206126   \n",
       "\n",
       "time                                                                                            2093-01-01  \\\n",
       "climate_model model region run_id scenario unit   variable                                                   \n",
       "FaIRv1.6.2    IMAGE World  2236   ssp119   K      Surface Air Ocean Blended Temperature Change    1.377038   \n",
       "                                           W/m**2 Effective Radiative Forcing                     2.247605   \n",
       "                                                  Effective Radiative Forcing|Volcanic            0.000000   \n",
       "                                                  Effective Radiative Forcing|Solar               0.053860   \n",
       "                                                  Effective Radiative Forcing|Anthropogenic       2.193745   \n",
       "\n",
       "time                                                                                            2094-01-01  \\\n",
       "climate_model model region run_id scenario unit   variable                                                   \n",
       "FaIRv1.6.2    IMAGE World  2236   ssp119   K      Surface Air Ocean Blended Temperature Change    1.374052   \n",
       "                                           W/m**2 Effective Radiative Forcing                     2.213529   \n",
       "                                                  Effective Radiative Forcing|Volcanic            0.000000   \n",
       "                                                  Effective Radiative Forcing|Solar               0.032374   \n",
       "                                                  Effective Radiative Forcing|Anthropogenic       2.181155   \n",
       "\n",
       "time                                                                                            2095-01-01  \\\n",
       "climate_model model region run_id scenario unit   variable                                                   \n",
       "FaIRv1.6.2    IMAGE World  2236   ssp119   K      Surface Air Ocean Blended Temperature Change    1.368876   \n",
       "                                           W/m**2 Effective Radiative Forcing                     2.183763   \n",
       "                                                  Effective Radiative Forcing|Volcanic            0.000000   \n",
       "                                                  Effective Radiative Forcing|Solar               0.015319   \n",
       "                                                  Effective Radiative Forcing|Anthropogenic       2.168445   \n",
       "\n",
       "time                                                                                            2096-01-01  \\\n",
       "climate_model model region run_id scenario unit   variable                                                   \n",
       "FaIRv1.6.2    IMAGE World  2236   ssp119   K      Surface Air Ocean Blended Temperature Change    1.361935   \n",
       "                                           W/m**2 Effective Radiative Forcing                     2.150990   \n",
       "                                                  Effective Radiative Forcing|Volcanic            0.000000   \n",
       "                                                  Effective Radiative Forcing|Solar              -0.004619   \n",
       "                                                  Effective Radiative Forcing|Anthropogenic       2.155610   \n",
       "\n",
       "time                                                                                            2097-01-01  \\\n",
       "climate_model model region run_id scenario unit   variable                                                   \n",
       "FaIRv1.6.2    IMAGE World  2236   ssp119   K      Surface Air Ocean Blended Temperature Change    1.354003   \n",
       "                                           W/m**2 Effective Radiative Forcing                     2.131211   \n",
       "                                                  Effective Radiative Forcing|Volcanic            0.000000   \n",
       "                                                  Effective Radiative Forcing|Solar              -0.011427   \n",
       "                                                  Effective Radiative Forcing|Anthropogenic       2.142637   \n",
       "\n",
       "time                                                                                            2098-01-01  \\\n",
       "climate_model model region run_id scenario unit   variable                                                   \n",
       "FaIRv1.6.2    IMAGE World  2236   ssp119   K      Surface Air Ocean Blended Temperature Change    1.345825   \n",
       "                                           W/m**2 Effective Radiative Forcing                     2.111724   \n",
       "                                                  Effective Radiative Forcing|Volcanic            0.000000   \n",
       "                                                  Effective Radiative Forcing|Solar              -0.017753   \n",
       "                                                  Effective Radiative Forcing|Anthropogenic       2.129477   \n",
       "\n",
       "time                                                                                            2099-01-01  \\\n",
       "climate_model model region run_id scenario unit   variable                                                   \n",
       "FaIRv1.6.2    IMAGE World  2236   ssp119   K      Surface Air Ocean Blended Temperature Change    1.338159   \n",
       "                                           W/m**2 Effective Radiative Forcing                     2.107524   \n",
       "                                                  Effective Radiative Forcing|Volcanic            0.000000   \n",
       "                                                  Effective Radiative Forcing|Solar              -0.008580   \n",
       "                                                  Effective Radiative Forcing|Anthropogenic       2.116103   \n",
       "\n",
       "time                                                                                            2100-01-01  \n",
       "climate_model model region run_id scenario unit   variable                                                  \n",
       "FaIRv1.6.2    IMAGE World  2236   ssp119   K      Surface Air Ocean Blended Temperature Change    1.332116  \n",
       "                                           W/m**2 Effective Radiative Forcing                     2.115039  \n",
       "                                                  Effective Radiative Forcing|Volcanic            0.000000  \n",
       "                                                  Effective Radiative Forcing|Solar               0.012556  \n",
       "                                                  Effective Radiative Forcing|Anthropogenic       2.102482  \n",
       "\n",
       "[5 rows x 351 columns]"
      ]
     },
     "execution_count": 11,
     "metadata": {},
     "output_type": "execute_result"
    }
   ],
   "source": [
    "x.tail()"
   ]
  },
  {
   "cell_type": "code",
   "execution_count": 12,
   "metadata": {},
   "outputs": [
    {
     "data": {
      "image/png": "[encoded data removed]",
      "text/plain": [
       "<Figure size 432x288 with 1 Axes>"
      ]
     },
     "metadata": {
      "needs_background": "light"
     },
     "output_type": "display_data"
    }
   ],
   "source": [
    "anthro = x.filter(variable='Effective Radiative Forcing|Anthropogenic').values.T\n",
    "solar = x.filter(variable='Effective Radiative Forcing|Solar').values.T\n",
    "volcanic = x.filter(variable='Effective Radiative Forcing|Volcanic').values.T\n",
    "total = x.filter(variable='Effective Radiative Forcing').values.T\n",
    "plt.plot(total-solar-volcanic-anthro); # should be zero"
   ]
  },
  {
   "cell_type": "code",
   "execution_count": null,
   "metadata": {},
   "outputs": [],
   "source": []
  }
 ],
 "metadata": {
  "kernelspec": {
   "display_name": "Python 3",
   "language": "python",
   "name": "python3"
  },
  "language_info": {
   "codemirror_mode": {
    "name": "ipython",
    "version": 3
   },
   "file_extension": ".py",
   "mimetype": "text/x-python",
   "name": "python",
   "nbconvert_exporter": "python",
   "pygments_lexer": "ipython3",
   "version": "3.7.9"
  }
 },
 "nbformat": 4,
 "nbformat_minor": 4
}
