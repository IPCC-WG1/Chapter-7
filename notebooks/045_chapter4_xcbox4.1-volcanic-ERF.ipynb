{
 "cells": [
  {
   "cell_type": "markdown",
   "id": "basic-warehouse",
   "metadata": {},
   "source": [
    "# Generate volcanic ERF from NorESM\n",
    "\n",
    "Takes the total atmospheric aerosol optical depth from ensemble member 45 in Bethke et al. (2017) and the no-volcano control, estimates ERF\n",
    "\n",
    "Theme song: The Birth and Death of the Day<br>\n",
    "Artist: Explosions in the Sky<br>\n",
    "Album: All of a Sudden I Miss Everyone<br>\n",
    "Released: 2007"
   ]
  },
  {
   "cell_type": "code",
   "execution_count": 1,
   "id": "military-trailer",
   "metadata": {},
   "outputs": [],
   "source": [
    "import numpy as np\n",
    "import matplotlib.pyplot as pl\n",
    "import pandas as pd\n",
    "import scipy.stats as st"
   ]
  },
  {
   "cell_type": "code",
   "execution_count": 2,
   "id": "after-stage",
   "metadata": {},
   "outputs": [],
   "source": [
    "bethke_data = np.loadtxt('../data_input/Bethke_et_al_2017_NCC/NorESM1_AerosolMass_AODVIS_GMST_2006-2099.txt')"
   ]
  },
  {
   "cell_type": "markdown",
   "id": "stopped-frequency",
   "metadata": {},
   "source": [
    "Data is from personal communication with Ingo Bethke\n",
    "\n",
    "Columns\n",
    "1. year,\n",
    "2. month\n",
    "3. strat volc aerosol load in Tg of mem45\n",
    "4. AODVIS of mem45\n",
    "5. AODVIS of volc-fre\n",
    "6. GMST of mem45\n",
    "7. GMST of volc-free"
   ]
  },
  {
   "cell_type": "code",
   "execution_count": 3,
   "id": "direct-supplement",
   "metadata": {},
   "outputs": [],
   "source": [
    "bethke_df = pd.DataFrame(data=bethke_data, columns=['year', 'month', 'burden_mem45', 'aod_mem45', 'aod_ctl', 'gmst_mem45', 'gmst_ctl'])"
   ]
  },
  {
   "cell_type": "code",
   "execution_count": 4,
   "id": "located-adaptation",
   "metadata": {},
   "outputs": [
    {
     "data": {
      "text/html": [
       "<div>\n",
       "<style scoped>\n",
       "    .dataframe tbody tr th:only-of-type {\n",
       "        vertical-align: middle;\n",
       "    }\n",
       "\n",
       "    .dataframe tbody tr th {\n",
       "        vertical-align: top;\n",
       "    }\n",
       "\n",
       "    .dataframe thead th {\n",
       "        text-align: right;\n",
       "    }\n",
       "</style>\n",
       "<table border=\"1\" class=\"dataframe\">\n",
       "  <thead>\n",
       "    <tr style=\"text-align: right;\">\n",
       "      <th></th>\n",
       "      <th>year</th>\n",
       "      <th>month</th>\n",
       "      <th>burden_mem45</th>\n",
       "      <th>aod_mem45</th>\n",
       "      <th>aod_ctl</th>\n",
       "      <th>gmst_mem45</th>\n",
       "      <th>gmst_ctl</th>\n",
       "    </tr>\n",
       "  </thead>\n",
       "  <tbody>\n",
       "    <tr>\n",
       "      <th>0</th>\n",
       "      <td>2006.0</td>\n",
       "      <td>1.0</td>\n",
       "      <td>0.0</td>\n",
       "      <td>0.0585</td>\n",
       "      <td>0.0596</td>\n",
       "      <td>285.43</td>\n",
       "      <td>285.00</td>\n",
       "    </tr>\n",
       "    <tr>\n",
       "      <th>1</th>\n",
       "      <td>2006.0</td>\n",
       "      <td>2.0</td>\n",
       "      <td>0.0</td>\n",
       "      <td>0.0631</td>\n",
       "      <td>0.0666</td>\n",
       "      <td>285.35</td>\n",
       "      <td>285.18</td>\n",
       "    </tr>\n",
       "    <tr>\n",
       "      <th>2</th>\n",
       "      <td>2006.0</td>\n",
       "      <td>3.0</td>\n",
       "      <td>0.0</td>\n",
       "      <td>0.0683</td>\n",
       "      <td>0.0714</td>\n",
       "      <td>286.10</td>\n",
       "      <td>286.05</td>\n",
       "    </tr>\n",
       "    <tr>\n",
       "      <th>3</th>\n",
       "      <td>2006.0</td>\n",
       "      <td>4.0</td>\n",
       "      <td>0.0</td>\n",
       "      <td>0.0690</td>\n",
       "      <td>0.0696</td>\n",
       "      <td>287.07</td>\n",
       "      <td>286.93</td>\n",
       "    </tr>\n",
       "    <tr>\n",
       "      <th>4</th>\n",
       "      <td>2006.0</td>\n",
       "      <td>5.0</td>\n",
       "      <td>0.0</td>\n",
       "      <td>0.0739</td>\n",
       "      <td>0.0780</td>\n",
       "      <td>287.87</td>\n",
       "      <td>287.99</td>\n",
       "    </tr>\n",
       "    <tr>\n",
       "      <th>...</th>\n",
       "      <td>...</td>\n",
       "      <td>...</td>\n",
       "      <td>...</td>\n",
       "      <td>...</td>\n",
       "      <td>...</td>\n",
       "      <td>...</td>\n",
       "      <td>...</td>\n",
       "    </tr>\n",
       "    <tr>\n",
       "      <th>1123</th>\n",
       "      <td>2099.0</td>\n",
       "      <td>8.0</td>\n",
       "      <td>0.0</td>\n",
       "      <td>0.0570</td>\n",
       "      <td>0.0567</td>\n",
       "      <td>290.36</td>\n",
       "      <td>290.12</td>\n",
       "    </tr>\n",
       "    <tr>\n",
       "      <th>1124</th>\n",
       "      <td>2099.0</td>\n",
       "      <td>9.0</td>\n",
       "      <td>0.0</td>\n",
       "      <td>0.0518</td>\n",
       "      <td>0.0506</td>\n",
       "      <td>289.61</td>\n",
       "      <td>289.68</td>\n",
       "    </tr>\n",
       "    <tr>\n",
       "      <th>1125</th>\n",
       "      <td>2099.0</td>\n",
       "      <td>10.0</td>\n",
       "      <td>0.0</td>\n",
       "      <td>0.0462</td>\n",
       "      <td>0.0468</td>\n",
       "      <td>288.72</td>\n",
       "      <td>288.79</td>\n",
       "    </tr>\n",
       "    <tr>\n",
       "      <th>1126</th>\n",
       "      <td>2099.0</td>\n",
       "      <td>11.0</td>\n",
       "      <td>0.0</td>\n",
       "      <td>0.0468</td>\n",
       "      <td>0.0471</td>\n",
       "      <td>287.77</td>\n",
       "      <td>287.85</td>\n",
       "    </tr>\n",
       "    <tr>\n",
       "      <th>1127</th>\n",
       "      <td>2099.0</td>\n",
       "      <td>12.0</td>\n",
       "      <td>0.0</td>\n",
       "      <td>0.0484</td>\n",
       "      <td>0.0485</td>\n",
       "      <td>287.28</td>\n",
       "      <td>287.14</td>\n",
       "    </tr>\n",
       "  </tbody>\n",
       "</table>\n",
       "<p>1128 rows × 7 columns</p>\n",
       "</div>"
      ],
      "text/plain": [
       "        year  month  burden_mem45  aod_mem45  aod_ctl  gmst_mem45  gmst_ctl\n",
       "0     2006.0    1.0           0.0     0.0585   0.0596      285.43    285.00\n",
       "1     2006.0    2.0           0.0     0.0631   0.0666      285.35    285.18\n",
       "2     2006.0    3.0           0.0     0.0683   0.0714      286.10    286.05\n",
       "3     2006.0    4.0           0.0     0.0690   0.0696      287.07    286.93\n",
       "4     2006.0    5.0           0.0     0.0739   0.0780      287.87    287.99\n",
       "...      ...    ...           ...        ...      ...         ...       ...\n",
       "1123  2099.0    8.0           0.0     0.0570   0.0567      290.36    290.12\n",
       "1124  2099.0    9.0           0.0     0.0518   0.0506      289.61    289.68\n",
       "1125  2099.0   10.0           0.0     0.0462   0.0468      288.72    288.79\n",
       "1126  2099.0   11.0           0.0     0.0468   0.0471      287.77    287.85\n",
       "1127  2099.0   12.0           0.0     0.0484   0.0485      287.28    287.14\n",
       "\n",
       "[1128 rows x 7 columns]"
      ]
     },
     "execution_count": 4,
     "metadata": {},
     "output_type": "execute_result"
    }
   ],
   "source": [
    "bethke_df"
   ]
  },
  {
   "cell_type": "code",
   "execution_count": 5,
   "id": "stuck-master",
   "metadata": {},
   "outputs": [],
   "source": [
    "bethke_df['delta_aod'] = bethke_df['aod_mem45'] - bethke_df['aod_ctl']\n",
    "bethke_df['delta_gmst'] = bethke_df['gmst_mem45'] - bethke_df['gmst_ctl']"
   ]
  },
  {
   "cell_type": "code",
   "execution_count": 6,
   "id": "golden-poster",
   "metadata": {},
   "outputs": [
    {
     "data": {
      "text/html": [
       "<div>\n",
       "<style scoped>\n",
       "    .dataframe tbody tr th:only-of-type {\n",
       "        vertical-align: middle;\n",
       "    }\n",
       "\n",
       "    .dataframe tbody tr th {\n",
       "        vertical-align: top;\n",
       "    }\n",
       "\n",
       "    .dataframe thead th {\n",
       "        text-align: right;\n",
       "    }\n",
       "</style>\n",
       "<table border=\"1\" class=\"dataframe\">\n",
       "  <thead>\n",
       "    <tr style=\"text-align: right;\">\n",
       "      <th></th>\n",
       "      <th>year</th>\n",
       "      <th>month</th>\n",
       "      <th>burden_mem45</th>\n",
       "      <th>aod_mem45</th>\n",
       "      <th>aod_ctl</th>\n",
       "      <th>gmst_mem45</th>\n",
       "      <th>gmst_ctl</th>\n",
       "      <th>delta_aod</th>\n",
       "      <th>delta_gmst</th>\n",
       "    </tr>\n",
       "  </thead>\n",
       "  <tbody>\n",
       "    <tr>\n",
       "      <th>0</th>\n",
       "      <td>2006.0</td>\n",
       "      <td>1.0</td>\n",
       "      <td>0.0</td>\n",
       "      <td>0.0585</td>\n",
       "      <td>0.0596</td>\n",
       "      <td>285.43</td>\n",
       "      <td>285.00</td>\n",
       "      <td>-0.0011</td>\n",
       "      <td>0.43</td>\n",
       "    </tr>\n",
       "    <tr>\n",
       "      <th>1</th>\n",
       "      <td>2006.0</td>\n",
       "      <td>2.0</td>\n",
       "      <td>0.0</td>\n",
       "      <td>0.0631</td>\n",
       "      <td>0.0666</td>\n",
       "      <td>285.35</td>\n",
       "      <td>285.18</td>\n",
       "      <td>-0.0035</td>\n",
       "      <td>0.17</td>\n",
       "    </tr>\n",
       "    <tr>\n",
       "      <th>2</th>\n",
       "      <td>2006.0</td>\n",
       "      <td>3.0</td>\n",
       "      <td>0.0</td>\n",
       "      <td>0.0683</td>\n",
       "      <td>0.0714</td>\n",
       "      <td>286.10</td>\n",
       "      <td>286.05</td>\n",
       "      <td>-0.0031</td>\n",
       "      <td>0.05</td>\n",
       "    </tr>\n",
       "    <tr>\n",
       "      <th>3</th>\n",
       "      <td>2006.0</td>\n",
       "      <td>4.0</td>\n",
       "      <td>0.0</td>\n",
       "      <td>0.0690</td>\n",
       "      <td>0.0696</td>\n",
       "      <td>287.07</td>\n",
       "      <td>286.93</td>\n",
       "      <td>-0.0006</td>\n",
       "      <td>0.14</td>\n",
       "    </tr>\n",
       "    <tr>\n",
       "      <th>4</th>\n",
       "      <td>2006.0</td>\n",
       "      <td>5.0</td>\n",
       "      <td>0.0</td>\n",
       "      <td>0.0739</td>\n",
       "      <td>0.0780</td>\n",
       "      <td>287.87</td>\n",
       "      <td>287.99</td>\n",
       "      <td>-0.0041</td>\n",
       "      <td>-0.12</td>\n",
       "    </tr>\n",
       "    <tr>\n",
       "      <th>...</th>\n",
       "      <td>...</td>\n",
       "      <td>...</td>\n",
       "      <td>...</td>\n",
       "      <td>...</td>\n",
       "      <td>...</td>\n",
       "      <td>...</td>\n",
       "      <td>...</td>\n",
       "      <td>...</td>\n",
       "      <td>...</td>\n",
       "    </tr>\n",
       "    <tr>\n",
       "      <th>1123</th>\n",
       "      <td>2099.0</td>\n",
       "      <td>8.0</td>\n",
       "      <td>0.0</td>\n",
       "      <td>0.0570</td>\n",
       "      <td>0.0567</td>\n",
       "      <td>290.36</td>\n",
       "      <td>290.12</td>\n",
       "      <td>0.0003</td>\n",
       "      <td>0.24</td>\n",
       "    </tr>\n",
       "    <tr>\n",
       "      <th>1124</th>\n",
       "      <td>2099.0</td>\n",
       "      <td>9.0</td>\n",
       "      <td>0.0</td>\n",
       "      <td>0.0518</td>\n",
       "      <td>0.0506</td>\n",
       "      <td>289.61</td>\n",
       "      <td>289.68</td>\n",
       "      <td>0.0012</td>\n",
       "      <td>-0.07</td>\n",
       "    </tr>\n",
       "    <tr>\n",
       "      <th>1125</th>\n",
       "      <td>2099.0</td>\n",
       "      <td>10.0</td>\n",
       "      <td>0.0</td>\n",
       "      <td>0.0462</td>\n",
       "      <td>0.0468</td>\n",
       "      <td>288.72</td>\n",
       "      <td>288.79</td>\n",
       "      <td>-0.0006</td>\n",
       "      <td>-0.07</td>\n",
       "    </tr>\n",
       "    <tr>\n",
       "      <th>1126</th>\n",
       "      <td>2099.0</td>\n",
       "      <td>11.0</td>\n",
       "      <td>0.0</td>\n",
       "      <td>0.0468</td>\n",
       "      <td>0.0471</td>\n",
       "      <td>287.77</td>\n",
       "      <td>287.85</td>\n",
       "      <td>-0.0003</td>\n",
       "      <td>-0.08</td>\n",
       "    </tr>\n",
       "    <tr>\n",
       "      <th>1127</th>\n",
       "      <td>2099.0</td>\n",
       "      <td>12.0</td>\n",
       "      <td>0.0</td>\n",
       "      <td>0.0484</td>\n",
       "      <td>0.0485</td>\n",
       "      <td>287.28</td>\n",
       "      <td>287.14</td>\n",
       "      <td>-0.0001</td>\n",
       "      <td>0.14</td>\n",
       "    </tr>\n",
       "  </tbody>\n",
       "</table>\n",
       "<p>1128 rows × 9 columns</p>\n",
       "</div>"
      ],
      "text/plain": [
       "        year  month  burden_mem45  aod_mem45  aod_ctl  gmst_mem45  gmst_ctl  \\\n",
       "0     2006.0    1.0           0.0     0.0585   0.0596      285.43    285.00   \n",
       "1     2006.0    2.0           0.0     0.0631   0.0666      285.35    285.18   \n",
       "2     2006.0    3.0           0.0     0.0683   0.0714      286.10    286.05   \n",
       "3     2006.0    4.0           0.0     0.0690   0.0696      287.07    286.93   \n",
       "4     2006.0    5.0           0.0     0.0739   0.0780      287.87    287.99   \n",
       "...      ...    ...           ...        ...      ...         ...       ...   \n",
       "1123  2099.0    8.0           0.0     0.0570   0.0567      290.36    290.12   \n",
       "1124  2099.0    9.0           0.0     0.0518   0.0506      289.61    289.68   \n",
       "1125  2099.0   10.0           0.0     0.0462   0.0468      288.72    288.79   \n",
       "1126  2099.0   11.0           0.0     0.0468   0.0471      287.77    287.85   \n",
       "1127  2099.0   12.0           0.0     0.0484   0.0485      287.28    287.14   \n",
       "\n",
       "      delta_aod  delta_gmst  \n",
       "0       -0.0011        0.43  \n",
       "1       -0.0035        0.17  \n",
       "2       -0.0031        0.05  \n",
       "3       -0.0006        0.14  \n",
       "4       -0.0041       -0.12  \n",
       "...         ...         ...  \n",
       "1123     0.0003        0.24  \n",
       "1124     0.0012       -0.07  \n",
       "1125    -0.0006       -0.07  \n",
       "1126    -0.0003       -0.08  \n",
       "1127    -0.0001        0.14  \n",
       "\n",
       "[1128 rows x 9 columns]"
      ]
     },
     "execution_count": 6,
     "metadata": {},
     "output_type": "execute_result"
    }
   ],
   "source": [
    "bethke_df"
   ]
  },
  {
   "cell_type": "code",
   "execution_count": 7,
   "id": "cellular-senator",
   "metadata": {},
   "outputs": [
    {
     "data": {
      "text/plain": [
       "LinregressResult(slope=0.0032090333746115193, intercept=0.0005728978087089567, rvalue=0.9986342141597724, pvalue=0.0, stderr=5.003300172168362e-06, intercept_stderr=9.231149854941423e-05)"
      ]
     },
     "execution_count": 7,
     "metadata": {},
     "output_type": "execute_result"
    }
   ],
   "source": [
    "# I have to admit, I did not expect the burden-sAOD relationship to be this linear :)\n",
    "reg = st.linregress(bethke_df['burden_mem45'], bethke_df['delta_aod'])\n",
    "reg"
   ]
  },
  {
   "cell_type": "code",
   "execution_count": 8,
   "id": "opponent-developer",
   "metadata": {},
   "outputs": [
    {
     "data": {
      "text/plain": [
       "[<matplotlib.lines.Line2D at 0x7f3ec9f15dd0>]"
      ]
     },
     "execution_count": 8,
     "metadata": {},
     "output_type": "execute_result"
    },
    {
     "data": {
      "image/png": "[encoded data removed]",
      "text/plain": [
       "<Figure size 432x288 with 1 Axes>"
      ]
     },
     "metadata": {
      "needs_background": "light"
     },
     "output_type": "display_data"
    }
   ],
   "source": [
    "pl.scatter(bethke_df['burden_mem45'], bethke_df['delta_aod'])\n",
    "pl.xlabel('delta stratospheric aerosol burden, Tg')\n",
    "pl.ylabel('delta AOD')\n",
    "pl.plot(np.linspace(0,180,100), reg.slope*np.linspace(0,180,100)+reg.intercept, color='r')"
   ]
  },
  {
   "cell_type": "code",
   "execution_count": 9,
   "id": "ecological-vehicle",
   "metadata": {},
   "outputs": [],
   "source": [
    "# conversion to ERF = -21 * regression slope (sAOD/Tg) * burden (Tg) + 0.2\n",
    "# -21 is the conversion for NorESM2\n",
    "# +0.2 offset is the quiescent year forcing in the AR6 time series\n",
    "year = np.arange(2006+1/24, 2100, 1/12)"
   ]
  },
  {
   "cell_type": "code",
   "execution_count": 10,
   "id": "brave-schema",
   "metadata": {},
   "outputs": [
    {
     "data": {
      "text/plain": [
       "[<matplotlib.lines.Line2D at 0x7f3ec97f75d0>]"
      ]
     },
     "execution_count": 10,
     "metadata": {},
     "output_type": "execute_result"
    },
    {
     "data": {
      "image/png": "[encoded data removed]",
      "text/plain": [
       "<Figure size 432x288 with 1 Axes>"
      ]
     },
     "metadata": {
      "needs_background": "light"
     },
     "output_type": "display_data"
    }
   ],
   "source": [
    "pl.plot(year, -21 * reg.slope * bethke_df['burden_mem45'] + reg.intercept + 0.2)"
   ]
  },
  {
   "cell_type": "code",
   "execution_count": 11,
   "id": "complete-parts",
   "metadata": {},
   "outputs": [
    {
     "data": {
      "text/plain": [
       "-0.18023029076159452"
      ]
     },
     "execution_count": 11,
     "metadata": {},
     "output_type": "execute_result"
    }
   ],
   "source": [
    "np.mean(-21 * reg.slope * bethke_df['burden_mem45'] + reg.intercept + 0.2)"
   ]
  },
  {
   "cell_type": "code",
   "execution_count": 12,
   "id": "worth-singer",
   "metadata": {},
   "outputs": [],
   "source": [
    "df = pd.DataFrame({'year': year, 'ERF': -21 * reg.slope * bethke_df['burden_mem45'].squeeze() + reg.intercept + 0.2})\n",
    "df.set_index('year', inplace=True)\n",
    "df.to_csv('../data_output/xcbox4.1_ERF.csv')"
   ]
  },
  {
   "cell_type": "code",
   "execution_count": 13,
   "id": "turkish-carbon",
   "metadata": {},
   "outputs": [
    {
     "data": {
      "text/html": [
       "<div>\n",
       "<style scoped>\n",
       "    .dataframe tbody tr th:only-of-type {\n",
       "        vertical-align: middle;\n",
       "    }\n",
       "\n",
       "    .dataframe tbody tr th {\n",
       "        vertical-align: top;\n",
       "    }\n",
       "\n",
       "    .dataframe thead th {\n",
       "        text-align: right;\n",
       "    }\n",
       "</style>\n",
       "<table border=\"1\" class=\"dataframe\">\n",
       "  <thead>\n",
       "    <tr style=\"text-align: right;\">\n",
       "      <th></th>\n",
       "      <th>ERF</th>\n",
       "    </tr>\n",
       "    <tr>\n",
       "      <th>year</th>\n",
       "      <th></th>\n",
       "    </tr>\n",
       "  </thead>\n",
       "  <tbody>\n",
       "    <tr>\n",
       "      <th>2006.041667</th>\n",
       "      <td>0.200573</td>\n",
       "    </tr>\n",
       "    <tr>\n",
       "      <th>2006.125000</th>\n",
       "      <td>0.200573</td>\n",
       "    </tr>\n",
       "    <tr>\n",
       "      <th>2006.208333</th>\n",
       "      <td>0.200573</td>\n",
       "    </tr>\n",
       "    <tr>\n",
       "      <th>2006.291667</th>\n",
       "      <td>0.200573</td>\n",
       "    </tr>\n",
       "    <tr>\n",
       "      <th>2006.375000</th>\n",
       "      <td>0.200573</td>\n",
       "    </tr>\n",
       "    <tr>\n",
       "      <th>...</th>\n",
       "      <td>...</td>\n",
       "    </tr>\n",
       "    <tr>\n",
       "      <th>2099.625000</th>\n",
       "      <td>0.200573</td>\n",
       "    </tr>\n",
       "    <tr>\n",
       "      <th>2099.708333</th>\n",
       "      <td>0.200573</td>\n",
       "    </tr>\n",
       "    <tr>\n",
       "      <th>2099.791667</th>\n",
       "      <td>0.200573</td>\n",
       "    </tr>\n",
       "    <tr>\n",
       "      <th>2099.875000</th>\n",
       "      <td>0.200573</td>\n",
       "    </tr>\n",
       "    <tr>\n",
       "      <th>2099.958333</th>\n",
       "      <td>0.200573</td>\n",
       "    </tr>\n",
       "  </tbody>\n",
       "</table>\n",
       "<p>1128 rows × 1 columns</p>\n",
       "</div>"
      ],
      "text/plain": [
       "                  ERF\n",
       "year                 \n",
       "2006.041667  0.200573\n",
       "2006.125000  0.200573\n",
       "2006.208333  0.200573\n",
       "2006.291667  0.200573\n",
       "2006.375000  0.200573\n",
       "...               ...\n",
       "2099.625000  0.200573\n",
       "2099.708333  0.200573\n",
       "2099.791667  0.200573\n",
       "2099.875000  0.200573\n",
       "2099.958333  0.200573\n",
       "\n",
       "[1128 rows x 1 columns]"
      ]
     },
     "execution_count": 13,
     "metadata": {},
     "output_type": "execute_result"
    }
   ],
   "source": [
    "df"
   ]
  },
  {
   "cell_type": "code",
   "execution_count": null,
   "id": "legislative-raise",
   "metadata": {},
   "outputs": [],
   "source": []
  }
 ],
 "metadata": {
  "kernelspec": {
   "display_name": "Python 3",
   "language": "python",
   "name": "python3"
  },
  "language_info": {
   "codemirror_mode": {
    "name": "ipython",
    "version": 3
   },
   "file_extension": ".py",
   "mimetype": "text/x-python",
   "name": "python",
   "nbconvert_exporter": "python",
   "pygments_lexer": "ipython3",
   "version": "3.7.10"
  }
 },
 "nbformat": 4,
 "nbformat_minor": 5
}
