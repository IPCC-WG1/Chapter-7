{
 "cells": [
  {
   "cell_type": "markdown",
   "metadata": {},
   "source": [
    "# Cross check the constrained attributed warming ensemble with chapter 3\n",
    "\n",
    "Theme Song: Trail of Fire<br>\n",
    "Artist: Oceansize<br>\n",
    "Album: Frames<br>\n",
    "Released: 2007"
   ]
  },
  {
   "cell_type": "code",
   "execution_count": 1,
   "metadata": {},
   "outputs": [],
   "source": [
    "import numpy as np\n",
    "import scipy.stats as st\n",
    "import pandas as pd\n",
    "\n",
    "from ar6.utils.h5 import *"
   ]
  },
  {
   "cell_type": "code",
   "execution_count": 2,
   "metadata": {},
   "outputs": [],
   "source": [
    "results = load_dict_from_hdf5('../data_output_large/twolayer_AR6-historical.h5')"
   ]
  },
  {
   "cell_type": "code",
   "execution_count": 3,
   "metadata": {},
   "outputs": [
    {
     "data": {
      "text/plain": [
       "dict_keys(['AR6-historical', 'AR6-historical_climuncert', 'remove_aerosol', 'remove_aerosol-cloud_interactions', 'remove_aerosol-cloud_interactions_climuncert', 'remove_aerosol-radiation_interactions', 'remove_aerosol-radiation_interactions_climuncert', 'remove_aerosol_climuncert', 'remove_albedo', 'remove_albedo_climuncert', 'remove_anthro', 'remove_anthro_climuncert', 'remove_bc_on_snow', 'remove_bc_on_snow_climuncert', 'remove_ch4', 'remove_ch4_climuncert', 'remove_co2', 'remove_co2_climuncert', 'remove_contrails', 'remove_contrails_climuncert', 'remove_h2o_stratospheric', 'remove_h2o_stratospheric_climuncert', 'remove_land_use', 'remove_land_use_climuncert', 'remove_n2o', 'remove_n2o_climuncert', 'remove_natural', 'remove_natural_climuncert', 'remove_o3', 'remove_o3_climuncert', 'remove_other_wmghg', 'remove_other_wmghg_climuncert', 'remove_solar', 'remove_solar_climuncert', 'remove_volcanic', 'remove_volcanic_climuncert', 'remove_wmghgs', 'remove_wmghgs_climuncert'])"
      ]
     },
     "execution_count": 3,
     "metadata": {},
     "output_type": "execute_result"
    }
   ],
   "source": [
    "results.keys()"
   ]
  },
  {
   "cell_type": "code",
   "execution_count": 4,
   "metadata": {},
   "outputs": [],
   "source": [
    "AR6_forc = {}\n",
    "forcings = ['co2', 'ch4', 'n2o', 'other_wmghg', 'o3', 'h2o_stratospheric',\n",
    "            'contrails', 'aerosol-radiation_interactions', 'aerosol-cloud_interactions', \n",
    "            'bc_on_snow', 'land_use', 'volcanic', 'solar', 'aerosol', 'anthro', 'natural', 'wmghgs']\n",
    "for forcing in forcings:\n",
    "    AR6_forc[forcing] = np.zeros(5)\n",
    "    AR6_forc[forcing] = np.percentile(        \n",
    "        (results['AR6-historical_climuncert']['surface_temperature'][260:270].mean(axis=0) - results['AR6-historical_climuncert']['surface_temperature'][100:151].mean(axis=0))-\n",
    "        (results['remove_%s_climuncert' % forcing]['surface_temperature'][260:270].mean(axis=0) - results['remove_%s_climuncert' % forcing]['surface_temperature'][100:151].mean(axis=0)),\n",
    "        (5,16,50,84,95)\n",
    "    )    \n",
    "# aggregated categories\n",
    "other_anth_chapter3 = (\n",
    "    (\n",
    "        (results['AR6-historical_climuncert']['surface_temperature'][260:270].mean(axis=0) - results['AR6-historical_climuncert']['surface_temperature'][100:151].mean(axis=0))-\n",
    "        (results['remove_o3_climuncert']['surface_temperature'][260:270].mean(axis=0) - results['remove_o3_climuncert']['surface_temperature'][100:151].mean(axis=0))\n",
    "    ) +\n",
    "    (\n",
    "        (results['AR6-historical_climuncert']['surface_temperature'][260:270].mean(axis=0) - results['AR6-historical_climuncert']['surface_temperature'][100:151].mean(axis=0))-\n",
    "        (results['remove_h2o_stratospheric_climuncert']['surface_temperature'][260:270].mean(axis=0) - results['remove_h2o_stratospheric_climuncert']['surface_temperature'][100:151].mean(axis=0))\n",
    "    ) +\n",
    "    (\n",
    "        (results['AR6-historical_climuncert']['surface_temperature'][260:270].mean(axis=0) - results['AR6-historical_climuncert']['surface_temperature'][100:151].mean(axis=0))-\n",
    "        (results['remove_contrails_climuncert']['surface_temperature'][260:270].mean(axis=0) - results['remove_contrails_climuncert']['surface_temperature'][100:151].mean(axis=0))\n",
    "    ) +\n",
    "    (\n",
    "        (results['AR6-historical_climuncert']['surface_temperature'][260:270].mean(axis=0) - results['AR6-historical_climuncert']['surface_temperature'][100:151].mean(axis=0))-\n",
    "        (results['remove_aerosol_climuncert']['surface_temperature'][260:270].mean(axis=0) - results['remove_aerosol_climuncert']['surface_temperature'][100:151].mean(axis=0))\n",
    "    ) +\n",
    "    (\n",
    "        (results['AR6-historical_climuncert']['surface_temperature'][260:270].mean(axis=0) - results['AR6-historical_climuncert']['surface_temperature'][100:151].mean(axis=0))-\n",
    "        (results['remove_land_use_climuncert']['surface_temperature'][260:270].mean(axis=0) - results['remove_land_use_climuncert']['surface_temperature'][100:151].mean(axis=0))\n",
    "    ) +\n",
    "    (\n",
    "        (results['AR6-historical_climuncert']['surface_temperature'][260:270].mean(axis=0) - results['AR6-historical_climuncert']['surface_temperature'][100:151].mean(axis=0))-\n",
    "        (results['remove_bc_on_snow_climuncert']['surface_temperature'][260:270].mean(axis=0) - results['remove_bc_on_snow_climuncert']['surface_temperature'][100:151].mean(axis=0))\n",
    "    )\n",
    ")\n",
    "AR6_forc['aerosols_o3_luc_other_anth'] = np.percentile(other_anth_chapter3, (5,16,50,84,95))\n",
    "\n",
    "AR6_forc['total'] = np.percentile(results['AR6-historical_climuncert']['surface_temperature'][260:270].mean(axis=0) - results['AR6-historical_climuncert']['surface_temperature'][100:151].mean(axis=0), (5,16,50,84,95))"
   ]
  },
  {
   "cell_type": "code",
   "execution_count": 5,
   "metadata": {},
   "outputs": [],
   "source": [
    "data_output = []\n",
    "for species in ['anthro','natural','wmghgs','aerosols_o3_luc_other_anth']:\n",
    "    data_output.append([\n",
    "        species,\n",
    "        AR6_forc[species][0],\n",
    "        AR6_forc[species][2],\n",
    "        AR6_forc[species][4]\n",
    "    ])"
   ]
  },
  {
   "cell_type": "code",
   "execution_count": 6,
   "metadata": {},
   "outputs": [
    {
     "data": {
      "text/html": [
       "<div>\n",
       "<style scoped>\n",
       "    .dataframe tbody tr th:only-of-type {\n",
       "        vertical-align: middle;\n",
       "    }\n",
       "\n",
       "    .dataframe tbody tr th {\n",
       "        vertical-align: top;\n",
       "    }\n",
       "\n",
       "    .dataframe thead th {\n",
       "        text-align: right;\n",
       "    }\n",
       "</style>\n",
       "<table border=\"1\" class=\"dataframe\">\n",
       "  <thead>\n",
       "    <tr style=\"text-align: right;\">\n",
       "      <th></th>\n",
       "      <th>pc05</th>\n",
       "      <th>pc50</th>\n",
       "      <th>pc95</th>\n",
       "    </tr>\n",
       "    <tr>\n",
       "      <th>Species</th>\n",
       "      <th></th>\n",
       "      <th></th>\n",
       "      <th></th>\n",
       "    </tr>\n",
       "  </thead>\n",
       "  <tbody>\n",
       "    <tr>\n",
       "      <th>anthro</th>\n",
       "      <td>0.823021</td>\n",
       "      <td>1.066305</td>\n",
       "      <td>1.353390</td>\n",
       "    </tr>\n",
       "    <tr>\n",
       "      <th>natural</th>\n",
       "      <td>0.042832</td>\n",
       "      <td>0.073580</td>\n",
       "      <td>0.119196</td>\n",
       "    </tr>\n",
       "    <tr>\n",
       "      <th>wmghgs</th>\n",
       "      <td>0.993865</td>\n",
       "      <td>1.341781</td>\n",
       "      <td>1.836139</td>\n",
       "    </tr>\n",
       "    <tr>\n",
       "      <th>aerosols_o3_luc_other_anth</th>\n",
       "      <td>-0.628487</td>\n",
       "      <td>-0.269288</td>\n",
       "      <td>-0.026619</td>\n",
       "    </tr>\n",
       "  </tbody>\n",
       "</table>\n",
       "</div>"
      ],
      "text/plain": [
       "                                pc05      pc50      pc95\n",
       "Species                                                 \n",
       "anthro                      0.823021  1.066305  1.353390\n",
       "natural                     0.042832  0.073580  0.119196\n",
       "wmghgs                      0.993865  1.341781  1.836139\n",
       "aerosols_o3_luc_other_anth -0.628487 -0.269288 -0.026619"
      ]
     },
     "execution_count": 6,
     "metadata": {},
     "output_type": "execute_result"
    }
   ],
   "source": [
    "df = pd.DataFrame(data_output, columns=['Species', 'pc05', 'pc50', 'pc95'])\n",
    "df.set_index('Species', inplace=True)\n",
    "df.to_csv('../data_output/fig3.7_data.csv')\n",
    "df"
   ]
  }
 ],
 "metadata": {
  "kernelspec": {
   "display_name": "Python 3",
   "language": "python",
   "name": "python3"
  },
  "language_info": {
   "codemirror_mode": {
    "name": "ipython",
    "version": 3
   },
   "file_extension": ".py",
   "mimetype": "text/x-python",
   "name": "python",
   "nbconvert_exporter": "python",
   "pygments_lexer": "ipython3",
   "version": "3.7.10"
  }
 },
 "nbformat": 4,
 "nbformat_minor": 4
}
