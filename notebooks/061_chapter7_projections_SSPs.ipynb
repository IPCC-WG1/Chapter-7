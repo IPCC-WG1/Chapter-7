{
 "cells": [
  {
   "cell_type": "markdown",
   "metadata": {},
   "source": [
    "# Run two layer model with SSP forcing\n",
    "\n",
    "as faithful to chapters 7 and 4 as possible"
   ]
  },
  {
   "cell_type": "code",
   "execution_count": 1,
   "metadata": {},
   "outputs": [
    {
     "name": "stderr",
     "output_type": "stream",
     "text": [
      "/nfs/b0110/Users/mencsm/miniconda3/envs/ar6/lib/python3.7/site-packages/openscm_twolayermodel/base.py:10: TqdmExperimentalWarning: Using `tqdm.autonotebook.tqdm` in notebook mode. Use `tqdm.tqdm` instead to force console mode (e.g. in jupyter console)\n",
      "  import tqdm.autonotebook as tqdman\n"
     ]
    }
   ],
   "source": [
    "import fair\n",
    "import json\n",
    "import sys\n",
    "import os\n",
    "import random\n",
    "import numpy as np\n",
    "import scipy.stats as st       # v1.4+ needed\n",
    "import matplotlib.pyplot as pl\n",
    "import pandas as pd\n",
    "import pickle\n",
    "from multiprocessing import Pool\n",
    "\n",
    "from ar6.utils.h5 import *\n",
    "from netCDF4 import Dataset\n",
    "from tqdm import tqdm_notebook\n",
    "from scipy.interpolate import interp1d\n",
    "from fair.constants.general import EARTH_RADIUS\n",
    "from ar6.forcing.aerosol import aerocom_n, ghan\n",
    "\n",
    "import openscm_units.unit_registry as ur\n",
    "from scmdata import ScmRun, run_append\n",
    "\n",
    "from openscm_twolayermodel import TwoLayerModel\n",
    "from tqdm.notebook import tqdm"
   ]
  },
  {
   "cell_type": "markdown",
   "metadata": {},
   "source": [
    "## Ensemble generation\n",
    "\n",
    "We want to ensure reproducible results that don't change when this script is re-run. Grab list of pre-generated random seeds."
   ]
  },
  {
   "cell_type": "code",
   "execution_count": 2,
   "metadata": {},
   "outputs": [],
   "source": [
    "with open('../data_input/random_seeds.json', 'r') as filehandle:\n",
    "    SEEDS = json.load(filehandle)"
   ]
  },
  {
   "cell_type": "code",
   "execution_count": 3,
   "metadata": {},
   "outputs": [],
   "source": [
    "SAMPLES = 2000\n",
    "NINETY_TO_ONESIGMA = st.norm.ppf(0.95)\n",
    "F2XCO2_MEAN = 4.00\n",
    "F2XCO2_NINETY = 0.48\n",
    "\n",
    "forcing = {}\n",
    "scenarios = ['ssp119','ssp126','ssp245','ssp370','ssp370-lowNTCF-gidden','ssp370-lowNTCF-aerchemmip','ssp434','ssp460','ssp534-over','ssp585']\n",
    "for scenario in scenarios:\n",
    "    forcing[scenario] = {}"
   ]
  },
  {
   "cell_type": "code",
   "execution_count": 4,
   "metadata": {},
   "outputs": [
    {
     "data": {
      "application/vnd.jupyter.widget-view+json": {
       "model_id": "483545acbb72452ebdc5d33662aada27",
       "version_major": 2,
       "version_minor": 0
      },
      "text/plain": [
       "HBox(children=(HTML(value=''), FloatProgress(value=0.0, max=10.0), HTML(value='')))"
      ]
     },
     "metadata": {},
     "output_type": "display_data"
    },
    {
     "name": "stdout",
     "output_type": "stream",
     "text": [
      "\n"
     ]
    }
   ],
   "source": [
    "emissions = pd.read_csv('../data_input_large/rcmip-emissions-annual-means-v5-1-0.csv')\n",
    "df_emissions = pd.concat([emissions.loc[(\n",
    "        (emissions.Variable=='Emissions|BC')|\n",
    "        (emissions.Variable=='Emissions|OC')|\n",
    "        (emissions.Variable=='Emissions|Sulfur')|\n",
    "        (emissions.Variable=='Emissions|NOx')|\n",
    "        (emissions.Variable=='Emissions|NH3')|\n",
    "        (emissions.Variable=='Emissions|VOC')|\n",
    "        (emissions.Variable=='Emissions|CO')\n",
    "    ) & (emissions.Scenario=='ssp245') & (emissions.Region=='World'), 'Variable'], emissions.loc[(\n",
    "        (emissions.Variable=='Emissions|BC')|\n",
    "        (emissions.Variable=='Emissions|OC')|\n",
    "        (emissions.Variable=='Emissions|Sulfur')|\n",
    "        (emissions.Variable=='Emissions|NOx')|\n",
    "        (emissions.Variable=='Emissions|NH3')|\n",
    "        (emissions.Variable=='Emissions|VOC')|\n",
    "        (emissions.Variable=='Emissions|CO')\n",
    "    ) & (emissions.Scenario=='ssp245') & (emissions.Region=='World'), '1750':'2100']], axis=1)#.interpolate(axis=1).T\n",
    "df_emissions.set_index('Variable', inplace=True)\n",
    "df_emissions = df_emissions.interpolate(axis=1).T\n",
    "df_emissions.rename(\n",
    "    columns={\n",
    "        'Emissions|BC': 'BC',\n",
    "        'Emissions|OC': 'OC',\n",
    "        'Emissions|Sulfur': 'SO2',\n",
    "        'Emissions|NOx': 'NOx',\n",
    "        'Emissions|NH3': 'NH3',\n",
    "        'Emissions|VOC': 'VOC',\n",
    "        'Emissions|CO': 'CO'\n",
    "    }, inplace=True\n",
    ")\n",
    "# only keep cols we want\n",
    "emissions = df_emissions[['SO2', 'BC', 'OC', 'NH3', 'NOx', 'VOC', 'CO']]\n",
    "emissions.index = emissions.index.astype('int')\n",
    "emissions.index.name='year'\n",
    "emissions.columns.name=None\n",
    "\n",
    "emissions_ceds_update = emissions.copy()\n",
    "\n",
    "emissions_old = pd.read_csv('../data_input_large/rcmip-emissions-annual-means-v5-1-0.csv')\n",
    "df_emissions = pd.concat([emissions_old.loc[(\n",
    "        (emissions_old.Variable=='Emissions|BC|MAGICC Fossil and Industrial')|\n",
    "        (emissions_old.Variable=='Emissions|OC|MAGICC Fossil and Industrial')|\n",
    "        (emissions_old.Variable=='Emissions|Sulfur|MAGICC Fossil and Industrial')|\n",
    "        (emissions_old.Variable=='Emissions|NOx|MAGICC Fossil and Industrial')|\n",
    "        (emissions_old.Variable=='Emissions|NH3|MAGICC Fossil and Industrial')|\n",
    "        (emissions_old.Variable=='Emissions|VOC|MAGICC Fossil and Industrial')|\n",
    "        (emissions_old.Variable=='Emissions|CO|MAGICC Fossil and Industrial')|\n",
    "        (emissions_old.Variable=='Emissions|BC|MAGICC AFOLU|Agriculture')|\n",
    "        (emissions_old.Variable=='Emissions|OC|MAGICC AFOLU|Agriculture')|\n",
    "        (emissions_old.Variable=='Emissions|Sulfur|MAGICC AFOLU|Agriculture')|\n",
    "        (emissions_old.Variable=='Emissions|NOx|MAGICC AFOLU|Agriculture')|\n",
    "        (emissions_old.Variable=='Emissions|NH3|MAGICC AFOLU|Agriculture')|\n",
    "        (emissions_old.Variable=='Emissions|VOC|MAGICC AFOLU|Agriculture')|\n",
    "        (emissions_old.Variable=='Emissions|CO|MAGICC AFOLU|Agriculture')\n",
    "    ) & (emissions_old.Scenario=='ssp245') & (emissions_old.Region=='World'), 'Variable'], emissions_old.loc[(\n",
    "        (emissions_old.Variable=='Emissions|BC|MAGICC Fossil and Industrial')|\n",
    "        (emissions_old.Variable=='Emissions|OC|MAGICC Fossil and Industrial')|\n",
    "        (emissions_old.Variable=='Emissions|Sulfur|MAGICC Fossil and Industrial')|\n",
    "        (emissions_old.Variable=='Emissions|NOx|MAGICC Fossil and Industrial')|\n",
    "        (emissions_old.Variable=='Emissions|NH3|MAGICC Fossil and Industrial')|\n",
    "        (emissions_old.Variable=='Emissions|VOC|MAGICC Fossil and Industrial')|\n",
    "        (emissions_old.Variable=='Emissions|CO|MAGICC Fossil and Industrial')|\n",
    "        (emissions_old.Variable=='Emissions|BC|MAGICC AFOLU|Agriculture')|\n",
    "        (emissions_old.Variable=='Emissions|OC|MAGICC AFOLU|Agriculture')|\n",
    "        (emissions_old.Variable=='Emissions|Sulfur|MAGICC AFOLU|Agriculture')|\n",
    "        (emissions_old.Variable=='Emissions|NOx|MAGICC AFOLU|Agriculture')|\n",
    "        (emissions_old.Variable=='Emissions|NH3|MAGICC AFOLU|Agriculture')|\n",
    "        (emissions_old.Variable=='Emissions|VOC|MAGICC AFOLU|Agriculture')|\n",
    "        (emissions_old.Variable=='Emissions|CO|MAGICC AFOLU|Agriculture')\n",
    "    ) & (emissions_old.Scenario=='ssp245') & (emissions_old.Region=='World'), '1750':'2100']], axis=1)#.interpolate(axis=1).T\n",
    "df_emissions.set_index('Variable', inplace=True)\n",
    "df_emissions = df_emissions.interpolate(axis=1).T\n",
    "for species in ['BC', 'OC', 'Sulfur', 'NOx', 'NH3', 'VOC', 'CO']:\n",
    "    df_emissions[species] = df_emissions['Emissions|{}|MAGICC Fossil and Industrial'.format(species)] + df_emissions['Emissions|{}|MAGICC AFOLU|Agriculture'.format(species)]\n",
    "df_emissions.rename(columns = {'Sulfur': 'SO2'}, inplace=True)\n",
    "df_emissions.drop(columns=[\n",
    "        'Emissions|BC|MAGICC Fossil and Industrial',\n",
    "        'Emissions|OC|MAGICC Fossil and Industrial',\n",
    "        'Emissions|Sulfur|MAGICC Fossil and Industrial',\n",
    "        'Emissions|NOx|MAGICC Fossil and Industrial',\n",
    "        'Emissions|NH3|MAGICC Fossil and Industrial',\n",
    "        'Emissions|VOC|MAGICC Fossil and Industrial',\n",
    "        'Emissions|CO|MAGICC Fossil and Industrial',\n",
    "        'Emissions|BC|MAGICC AFOLU|Agriculture',\n",
    "        'Emissions|OC|MAGICC AFOLU|Agriculture',\n",
    "        'Emissions|Sulfur|MAGICC AFOLU|Agriculture',\n",
    "        'Emissions|NOx|MAGICC AFOLU|Agriculture',\n",
    "        'Emissions|NH3|MAGICC AFOLU|Agriculture',\n",
    "        'Emissions|VOC|MAGICC AFOLU|Agriculture',\n",
    "        'Emissions|CO|MAGICC AFOLU|Agriculture',\n",
    "    ],\n",
    "    inplace=True\n",
    ")\n",
    "df_emissions.index = emissions.index.astype('int')\n",
    "df_emissions.index.name='year'\n",
    "df_emissions.columns.name=None\n",
    "\n",
    "global_total = {}\n",
    "for species in ['BC', 'OC', 'SO2', 'NH3', 'NOx', 'NMVOC', 'CO']:\n",
    "    df = pd.read_csv('../data_input_large/CEDS_v_2020_09_11_emissions/{}_global_CEDS_emissions_by_sector_2020_09_11.csv'.format(species))\n",
    "    global_total[species] = df.sum(axis=0).values[3:].astype(float) / 1000 # yes could get openscm on this\n",
    "    #unit = df.units[0]\n",
    "    #print(unit)\n",
    "global_total['VOC'] = global_total['NMVOC']\n",
    "new_ceds = pd.DataFrame(global_total)\n",
    "new_ceds.index = np.arange(1750,2020)\n",
    "new_ceds.index = new_ceds.index.astype('int')\n",
    "new_ceds.index.name='year'\n",
    "new_ceds.columns.name=None\n",
    "emissions_ceds_update = new_ceds.loc[1750:2020] + emissions - df_emissions\n",
    "emissions_ceds_update.drop(index=range(2020,2101), inplace=True)\n",
    "emissions_ceds_update\n",
    "#new_ceds\n",
    "\n",
    "emissions = pd.read_csv('../data_input_large/rcmip-emissions-annual-means-v5-1-0.csv')\n",
    "new_emissions = {}\n",
    "for scenario in tqdm(scenarios):\n",
    "    bc = emissions.loc[(emissions['Scenario']==scenario)&(emissions['Region']=='World')&(emissions['Variable']=='Emissions|BC'),'1750':'2500'].interpolate(axis=1, pad=True).values.squeeze()\n",
    "    oc = emissions.loc[(emissions['Scenario']==scenario)&(emissions['Region']=='World')&(emissions['Variable']=='Emissions|OC'),'1750':'2500'].interpolate(axis=1, pad=True).values.squeeze()\n",
    "    so2 = emissions.loc[(emissions['Scenario']==scenario)&(emissions['Region']=='World')&(emissions['Variable']=='Emissions|Sulfur'),'1750':'2500'].interpolate(axis=1, pad=True).values.squeeze()\n",
    "    nh3 = emissions.loc[(emissions['Scenario']==scenario)&(emissions['Region']=='World')&(emissions['Variable']=='Emissions|NH3'),'1750':'2500'].interpolate(axis=1, pad=True).values.squeeze()\n",
    "    nox = emissions.loc[(emissions['Scenario']==scenario)&(emissions['Region']=='World')&(emissions['Variable']=='Emissions|NOx'),'1750':'2500'].interpolate(axis=1, pad=True).values.squeeze()\n",
    "    nmvoc = emissions.loc[(emissions['Scenario']==scenario)&(emissions['Region']=='World')&(emissions['Variable']=='Emissions|VOC'),'1750':'2500'].interpolate(axis=1, pad=True).values.squeeze()\n",
    "    co = emissions.loc[(emissions['Scenario']==scenario)&(emissions['Region']=='World')&(emissions['Variable']=='Emissions|CO'),'1750':'2500'].interpolate(axis=1, pad=True).values.squeeze()\n",
    "    bc[:265] = emissions_ceds_update.loc[1750:2014,'BC'].values\n",
    "    oc[:265] = emissions_ceds_update.loc[1750:2014,'OC'].values\n",
    "    so2[:265] = emissions_ceds_update.loc[1750:2014,'SO2'].values\n",
    "    nh3[:265] = emissions_ceds_update.loc[1750:2014,'NH3'].values\n",
    "    nox[:265] = emissions_ceds_update.loc[1750:2014,'NOx'].values\n",
    "    nmvoc[:265] = emissions_ceds_update.loc[1750:2014,'VOC'].values\n",
    "    co[:265] = emissions_ceds_update.loc[1750:2014,'CO'].values\n",
    "    bc[265:270] = np.linspace(1,0.2,5) * emissions_ceds_update.loc[2015:2019,'BC'].values + np.linspace(0,0.8,5) * bc[265:270]\n",
    "    oc[265:270] = np.linspace(1,0.2,5) * emissions_ceds_update.loc[2015:2019,'OC'].values + np.linspace(0,0.8,5) * oc[265:270]\n",
    "    so2[265:270] = np.linspace(1,0.2,5) * emissions_ceds_update.loc[2015:2019,'SO2'].values + np.linspace(0,0.8,5) * so2[265:270]\n",
    "    nh3[265:270] = np.linspace(1,0.2,5) * emissions_ceds_update.loc[2015:2019,'NH3'].values + np.linspace(0,0.8,5) * nh3[265:270]\n",
    "    nox[265:270] = np.linspace(1,0.2,5) * emissions_ceds_update.loc[2015:2019,'NOx'].values + np.linspace(0,0.8,5) * nox[265:270]\n",
    "    nmvoc[265:270] = np.linspace(1,0.2,5) * emissions_ceds_update.loc[2015:2019,'VOC'].values + np.linspace(0,0.8,5) * nmvoc[265:270]\n",
    "    co[265:270] = np.linspace(1,0.2,5) * emissions_ceds_update.loc[2015:2019,'CO'].values + np.linspace(0,0.8,5) * co[265:270]\n",
    "    \n",
    "    new_emissions[scenario] = pd.DataFrame(\n",
    "    {\n",
    "        'BC': bc,\n",
    "        'OC': oc,\n",
    "        'SO2': so2,\n",
    "        'NH3': nh3,\n",
    "        'NOx': nox,\n",
    "        'VOC': nmvoc,\n",
    "        'CO': co\n",
    "    })"
   ]
  },
  {
   "cell_type": "markdown",
   "metadata": {},
   "source": [
    "## Thermal parameters\n",
    "\n",
    "I pre-calculated fits of the Geoffroy model to 44 CMIP6 models - one day I should get this data up here, but the whole process chain is a little fiddly. From this I calculate d1 and d2 - the short and long timescales of ocean temperature response in the impulse response model.\n",
    "\n",
    "Zeb has a nice implementation of converting Geoffroy parameters to impulse response ones. I use this here. Although d1 and d2 are likely to be correlated with ECS and TCR, I'm not sure if there's a nice way to match this up to the assessment; if we use CMIP6 to inform ECS and TCR then we will get a distribution that has too many high values. Likewise we take F2x from the chapter assessment and not the models. Interesting that d1 and d2 are uncorrelated."
   ]
  },
  {
   "cell_type": "code",
   "execution_count": 5,
   "metadata": {},
   "outputs": [
    {
     "name": "stdout",
     "output_type": "stream",
     "text": [
      "0.722492176996794\n",
      "[2.06109769 2.33849959 2.98521046 3.99830126 5.12703314]\n",
      "[1.2355143  1.44407451 1.7937823  2.21038029 2.54154444]\n"
     ]
    },
    {
     "data": {
      "image/png": "[encoded data removed]",
      "text/plain": [
       "<Figure size 432x288 with 1 Axes>"
      ]
     },
     "metadata": {
      "needs_background": "light"
     },
     "output_type": "display_data"
    }
   ],
   "source": [
    "# draw distributions of ECS and TCR: 5-95% range 1.0 to 2.2 for TCR normal, 2-5 for ECS lognormal\n",
    "seed    = SEEDS[9]\n",
    "\n",
    "feedback = 4/3 * st.truncnorm.rvs(-2.0, np.inf, loc=1, scale=0.28, size=SAMPLES, random_state=SEEDS[18])\n",
    "f2x = 4.00\n",
    "ecs = f2x/feedback\n",
    "rwf = st.norm.rvs(size=SAMPLES, loc=np.maximum(0.8*np.exp(-0.075*ecs**1.2), 0.2), scale=0.11*np.exp(-0.09*ecs**0.9), random_state=11)\n",
    "tcr = ecs*rwf\n",
    "tcrecs = np.stack((tcr,ecs)).T\n",
    "\n",
    "pl.scatter(ecs, tcr)\n",
    "pl.xlabel('ECS')\n",
    "pl.ylabel('TCR')\n",
    "print(np.corrcoef((ecs,tcr))[0,1])\n",
    "print(np.percentile(ecs, (5,16,50,84,95)))\n",
    "print(np.percentile(tcr, (5,17,50,83,95)))"
   ]
  },
  {
   "cell_type": "code",
   "execution_count": 6,
   "metadata": {},
   "outputs": [
    {
     "data": {
      "text/plain": [
       "(array([ 78., 589., 731., 376., 144.,  57.,  16.,   6.,   0.,   3.]),\n",
       " array([0.12386013, 0.43620308, 0.74854602, 1.06088897, 1.37323192,\n",
       "        1.68557486, 1.99791781, 2.31026075, 2.6226037 , 2.93494665,\n",
       "        3.24728959]),\n",
       " <BarContainer object of 10 artists>)"
      ]
     },
     "execution_count": 6,
     "metadata": {},
     "output_type": "execute_result"
    },
    {
     "data": {
      "image/png": "[encoded data removed]",
      "text/plain": [
       "<Figure size 432x288 with 1 Axes>"
      ]
     },
     "metadata": {
      "needs_background": "light"
     },
     "output_type": "display_data"
    }
   ],
   "source": [
    "kappa = f2x/tcr - f2x/ecs\n",
    "pl.hist(kappa)"
   ]
  },
  {
   "cell_type": "code",
   "execution_count": 7,
   "metadata": {},
   "outputs": [],
   "source": [
    "f2x = st.norm.rvs(loc=F2XCO2_MEAN, scale=F2XCO2_NINETY/NINETY_TO_ONESIGMA, size=SAMPLES, random_state=SEEDS[72])\n",
    "\n",
    "with open(\"../data_output/cmip6_twolayer_tuning_params.json\", \"r\") as read_file:\n",
    "    cmip6_models = json.load(read_file)\n",
    "params = pd.DataFrame({\n",
    "    param:cmip6_models[param]['model_data'] for param in cmip6_models\n",
    "})\n",
    "params.drop(columns=['T4xCO2'], inplace=True)\n",
    "NMODELS = len(cmip6_models)\n",
    "\n",
    "lambda0 = feedback\n",
    "efficacy = st.norm.rvs(loc=params.efficacy.mean(), scale=params.efficacy.std(), size=SAMPLES, random_state=SEEDS[65])\n",
    "eta = kappa/efficacy\n",
    "dl = st.truncnorm.rvs(-NINETY_TO_ONESIGMA, NINETY_TO_ONESIGMA, loc=params.dl.mean(), scale=params.dl.std(), size=SAMPLES, random_state=SEEDS[66])\n",
    "du = st.truncnorm.rvs(-NINETY_TO_ONESIGMA, NINETY_TO_ONESIGMA, loc=params.du.mean(), scale=params.du.std(), size=SAMPLES, random_state=SEEDS[67])"
   ]
  },
  {
   "cell_type": "code",
   "execution_count": 8,
   "metadata": {},
   "outputs": [
    {
     "data": {
      "text/plain": [
       "1.2951960521067662"
      ]
     },
     "execution_count": 8,
     "metadata": {},
     "output_type": "execute_result"
    }
   ],
   "source": [
    "cmip6_models['efficacy']['mean']"
   ]
  },
  {
   "cell_type": "code",
   "execution_count": 9,
   "metadata": {},
   "outputs": [
    {
     "name": "stdout",
     "output_type": "stream",
     "text": [
      "[2.06109769 2.33849959 2.98521046 3.99830126 5.12703314]\n"
     ]
    },
    {
     "data": {
      "image/png": "[encoded data removed]",
      "text/plain": [
       "<Figure size 432x288 with 1 Axes>"
      ]
     },
     "metadata": {
      "needs_background": "light"
     },
     "output_type": "display_data"
    }
   ],
   "source": [
    "pl.hist(ecs, bins=np.arange(0,11,0.2))\n",
    "print(np.percentile(ecs, (5,16,50,84,95)))"
   ]
  },
  {
   "cell_type": "code",
   "execution_count": 10,
   "metadata": {},
   "outputs": [
    {
     "name": "stdout",
     "output_type": "stream",
     "text": [
      "[1.2355143  1.43284527 1.7937823  2.23126745 2.54154444]\n"
     ]
    },
    {
     "data": {
      "image/png": "[encoded data removed]",
      "text/plain": [
       "<Figure size 432x288 with 1 Axes>"
      ]
     },
     "metadata": {
      "needs_background": "light"
     },
     "output_type": "display_data"
    }
   ],
   "source": [
    "# TCR is alternatively given from two layer model\n",
    "pl.hist(tcr, bins=np.arange(0,5,0.2))\n",
    "print(np.percentile(tcr, (5,16,50,84,95)))"
   ]
  },
  {
   "cell_type": "markdown",
   "metadata": {},
   "source": [
    "## Forcing uncertainties - ensure consistency with 040"
   ]
  },
  {
   "cell_type": "code",
   "execution_count": 11,
   "metadata": {},
   "outputs": [],
   "source": [
    "seed    = 36572 \n",
    "NINETY_TO_ONESIGMA = st.norm.ppf(0.95)\n",
    "\n",
    "# to do move to module\n",
    "\n",
    "# these are standard deviations of the scale factor for normally distributed forcings (mean = 1). The list below is expressed in terms of 5-95% ranges.\n",
    "unc_ranges = np.array([\n",
    "    0.12,      # CO2\n",
    "    0.20,      # CH4: updated value from etminan 2016\n",
    "    0.14,      # N2O\n",
    "    0.19,      # other WMGHGs\n",
    "    0.50,      # Total ozone\n",
    "    1.00,      # stratospheric WV from CH4\n",
    "    0.70,      # contrails approx - half-normal\n",
    "    1.25,      # bc on snow - half-normal\n",
    "    0.50,      # land use change\n",
    "    5.0/20.0,  # volcanic\n",
    "    0.50,      # solar (amplitude)\n",
    "])/NINETY_TO_ONESIGMA\n",
    "\n",
    "scale = st.norm.rvs(size=(SAMPLES,11), loc=np.ones((SAMPLES,11)), scale=np.ones((SAMPLES, 11)) * unc_ranges[None,:], random_state=seed)\n",
    "#scale[:,8] = st.lognorm.rvs(0.5, size=samples, random_state=seed+1)\n",
    "# refine this calc and maybe half normal it\n",
    "\n",
    "# here's a half normal\n",
    "## bc snow is asymmetric Gaussian. We can just scale the half of the distribution above/below best estimate\n",
    "scale[scale[:,7]<1,7] = 0.06/0.1*(scale[scale[:,7]<1,7]-1) + 1\n",
    "\n",
    "## so is contrails - the benefits of doing this are tiny :)\n",
    "scale[scale[:,6]<1,6] = 0.0384/0.0406*(scale[scale[:,6]<1,6]-1) + 1\n",
    "\n",
    "trend_solar = st.norm.rvs(size=SAMPLES, loc=+0.01, scale=0.07/NINETY_TO_ONESIGMA, random_state=138294)\n",
    "#trend_solar[trend_solar>-0.01] = 11/4 * (trend_solar[trend_solar>-0.01]+0.01)-0.01\n",
    "\n",
    "scale_df = pd.DataFrame(\n",
    "    data = scale,\n",
    "    columns = ['co2','ch4','n2o','other_wmghg','o3','h2o_stratospheric','contrails','bc_on_snow','land_use','volcanic','solar']\n",
    ")"
   ]
  },
  {
   "cell_type": "markdown",
   "metadata": {},
   "source": [
    "### Aerosol emissions\n",
    "\n",
    "For ERFaci, following Smith, Harris et al. 2020: Energy Budget Constraints on the Time History of Aerosol Forcing and Climate Sensitivity\n",
    "\n",
    "For ERFari, start with Smith, Harris et al. and then add in the nitrate forcing from Myhre et al 2013\n",
    "\n",
    "For ERFari, take coefficients from Myhre et al., 2013: Radiative forcing of the direct aerosol effect from AeroCom Phase II\n",
    "simulations. The forcing calculated is 1850-2000 (or 2006; assume the same) using CMIP5 emissions."
   ]
  },
  {
   "cell_type": "code",
   "execution_count": 13,
   "metadata": {},
   "outputs": [
    {
     "data": {
      "application/vnd.jupyter.widget-view+json": {
       "model_id": "f4e94fb0c2d54c04be7c9b71574e225b",
       "version_major": 2,
       "version_minor": 0
      },
      "text/plain": [
       "HBox(children=(HTML(value=''), FloatProgress(value=0.0, max=10.0), HTML(value='')))"
      ]
     },
     "metadata": {},
     "output_type": "display_data"
    },
    {
     "data": {
      "application/vnd.jupyter.widget-view+json": {
       "model_id": "",
       "version_major": 2,
       "version_minor": 0
      },
      "text/plain": [
       "HBox(children=(HTML(value=''), FloatProgress(value=0.0, max=2000.0), HTML(value='')))"
      ]
     },
     "metadata": {},
     "output_type": "display_data"
    },
    {
     "data": {
      "application/vnd.jupyter.widget-view+json": {
       "model_id": "",
       "version_major": 2,
       "version_minor": 0
      },
      "text/plain": [
       "HBox(children=(HTML(value=''), FloatProgress(value=0.0, max=2000.0), HTML(value='')))"
      ]
     },
     "metadata": {},
     "output_type": "display_data"
    },
    {
     "data": {
      "application/vnd.jupyter.widget-view+json": {
       "model_id": "",
       "version_major": 2,
       "version_minor": 0
      },
      "text/plain": [
       "HBox(children=(HTML(value=''), FloatProgress(value=0.0, max=2000.0), HTML(value='')))"
      ]
     },
     "metadata": {},
     "output_type": "display_data"
    },
    {
     "data": {
      "application/vnd.jupyter.widget-view+json": {
       "model_id": "",
       "version_major": 2,
       "version_minor": 0
      },
      "text/plain": [
       "HBox(children=(HTML(value=''), FloatProgress(value=0.0, max=2000.0), HTML(value='')))"
      ]
     },
     "metadata": {},
     "output_type": "display_data"
    },
    {
     "data": {
      "application/vnd.jupyter.widget-view+json": {
       "model_id": "",
       "version_major": 2,
       "version_minor": 0
      },
      "text/plain": [
       "HBox(children=(HTML(value=''), FloatProgress(value=0.0, max=2000.0), HTML(value='')))"
      ]
     },
     "metadata": {},
     "output_type": "display_data"
    },
    {
     "data": {
      "application/vnd.jupyter.widget-view+json": {
       "model_id": "",
       "version_major": 2,
       "version_minor": 0
      },
      "text/plain": [
       "HBox(children=(HTML(value=''), FloatProgress(value=0.0, max=2000.0), HTML(value='')))"
      ]
     },
     "metadata": {},
     "output_type": "display_data"
    },
    {
     "data": {
      "application/vnd.jupyter.widget-view+json": {
       "model_id": "",
       "version_major": 2,
       "version_minor": 0
      },
      "text/plain": [
       "HBox(children=(HTML(value=''), FloatProgress(value=0.0, max=2000.0), HTML(value='')))"
      ]
     },
     "metadata": {},
     "output_type": "display_data"
    },
    {
     "data": {
      "application/vnd.jupyter.widget-view+json": {
       "model_id": "",
       "version_major": 2,
       "version_minor": 0
      },
      "text/plain": [
       "HBox(children=(HTML(value=''), FloatProgress(value=0.0, max=2000.0), HTML(value='')))"
      ]
     },
     "metadata": {},
     "output_type": "display_data"
    },
    {
     "data": {
      "application/vnd.jupyter.widget-view+json": {
       "model_id": "",
       "version_major": 2,
       "version_minor": 0
      },
      "text/plain": [
       "HBox(children=(HTML(value=''), FloatProgress(value=0.0, max=2000.0), HTML(value='')))"
      ]
     },
     "metadata": {},
     "output_type": "display_data"
    },
    {
     "data": {
      "application/vnd.jupyter.widget-view+json": {
       "model_id": "",
       "version_major": 2,
       "version_minor": 0
      },
      "text/plain": [
       "HBox(children=(HTML(value=''), FloatProgress(value=0.0, max=2000.0), HTML(value='')))"
      ]
     },
     "metadata": {},
     "output_type": "display_data"
    },
    {
     "data": {
      "application/vnd.jupyter.widget-view+json": {
       "model_id": "",
       "version_major": 2,
       "version_minor": 0
      },
      "text/plain": [
       "HBox(children=(HTML(value=''), FloatProgress(value=0.0, max=2000.0), HTML(value='')))"
      ]
     },
     "metadata": {},
     "output_type": "display_data"
    },
    {
     "data": {
      "application/vnd.jupyter.widget-view+json": {
       "model_id": "",
       "version_major": 2,
       "version_minor": 0
      },
      "text/plain": [
       "HBox(children=(HTML(value=''), FloatProgress(value=0.0, max=2000.0), HTML(value='')))"
      ]
     },
     "metadata": {},
     "output_type": "display_data"
    },
    {
     "data": {
      "application/vnd.jupyter.widget-view+json": {
       "model_id": "",
       "version_major": 2,
       "version_minor": 0
      },
      "text/plain": [
       "HBox(children=(HTML(value=''), FloatProgress(value=0.0, max=2000.0), HTML(value='')))"
      ]
     },
     "metadata": {},
     "output_type": "display_data"
    },
    {
     "data": {
      "application/vnd.jupyter.widget-view+json": {
       "model_id": "",
       "version_major": 2,
       "version_minor": 0
      },
      "text/plain": [
       "HBox(children=(HTML(value=''), FloatProgress(value=0.0, max=2000.0), HTML(value='')))"
      ]
     },
     "metadata": {},
     "output_type": "display_data"
    },
    {
     "data": {
      "application/vnd.jupyter.widget-view+json": {
       "model_id": "",
       "version_major": 2,
       "version_minor": 0
      },
      "text/plain": [
       "HBox(children=(HTML(value=''), FloatProgress(value=0.0, max=2000.0), HTML(value='')))"
      ]
     },
     "metadata": {},
     "output_type": "display_data"
    },
    {
     "data": {
      "application/vnd.jupyter.widget-view+json": {
       "model_id": "",
       "version_major": 2,
       "version_minor": 0
      },
      "text/plain": [
       "HBox(children=(HTML(value=''), FloatProgress(value=0.0, max=2000.0), HTML(value='')))"
      ]
     },
     "metadata": {},
     "output_type": "display_data"
    },
    {
     "data": {
      "application/vnd.jupyter.widget-view+json": {
       "model_id": "",
       "version_major": 2,
       "version_minor": 0
      },
      "text/plain": [
       "HBox(children=(HTML(value=''), FloatProgress(value=0.0, max=2000.0), HTML(value='')))"
      ]
     },
     "metadata": {},
     "output_type": "display_data"
    },
    {
     "data": {
      "application/vnd.jupyter.widget-view+json": {
       "model_id": "",
       "version_major": 2,
       "version_minor": 0
      },
      "text/plain": [
       "HBox(children=(HTML(value=''), FloatProgress(value=0.0, max=2000.0), HTML(value='')))"
      ]
     },
     "metadata": {},
     "output_type": "display_data"
    },
    {
     "data": {
      "application/vnd.jupyter.widget-view+json": {
       "model_id": "",
       "version_major": 2,
       "version_minor": 0
      },
      "text/plain": [
       "HBox(children=(HTML(value=''), FloatProgress(value=0.0, max=2000.0), HTML(value='')))"
      ]
     },
     "metadata": {},
     "output_type": "display_data"
    },
    {
     "data": {
      "application/vnd.jupyter.widget-view+json": {
       "model_id": "",
       "version_major": 2,
       "version_minor": 0
      },
      "text/plain": [
       "HBox(children=(HTML(value=''), FloatProgress(value=0.0, max=2000.0), HTML(value='')))"
      ]
     },
     "metadata": {},
     "output_type": "display_data"
    },
    {
     "name": "stdout",
     "output_type": "stream",
     "text": [
      "\n"
     ]
    }
   ],
   "source": [
    "df = pd.read_csv('../data_input_large/ERFaci_samples.csv')\n",
    "aci_coeffs = np.exp(df.values)\n",
    "\n",
    "NINETY_TO_ONESIGMA = st.norm.ppf(0.95)\n",
    "\n",
    "# SCALE TO ASSESSMENT\n",
    "ERFari_scale = st.norm.rvs(loc=-0.30, scale=0.30/NINETY_TO_ONESIGMA, size=SAMPLES, random_state=786418)\n",
    "ERFaci_scale = st.norm.rvs(loc=-1.00, scale=0.65/NINETY_TO_ONESIGMA, size=SAMPLES, random_state=31318990)\n",
    "\n",
    "ERFari = {}\n",
    "ERFaci = {}\n",
    "\n",
    "bc_20101750 = st.norm.rvs(loc=0.3, scale=0.2/NINETY_TO_ONESIGMA, size=SAMPLES, random_state=SEEDS[95])\n",
    "oc_20101750 = st.norm.rvs(loc=-0.09, scale=0.07/NINETY_TO_ONESIGMA, size=SAMPLES, random_state=SEEDS[96])\n",
    "so2_20101750 = st.norm.rvs(loc=-0.4, scale=0.2/NINETY_TO_ONESIGMA, size=SAMPLES, random_state=SEEDS[97])\n",
    "nit_20101750 = st.norm.rvs(loc=-0.11, scale=0.05/NINETY_TO_ONESIGMA, size=SAMPLES, random_state=SEEDS[98])\n",
    "\n",
    "beta_bc = bc_20101750/(np.mean(emissions_ceds_update.loc[2005:2014,'BC'])-emissions_ceds_update.loc[1750,'BC'])\n",
    "beta_oc = oc_20101750/(np.mean(emissions_ceds_update.loc[2005:2014,'OC'])-emissions_ceds_update.loc[1750,'OC'])\n",
    "beta_so2 = so2_20101750/(np.mean(emissions_ceds_update.loc[2005:2014,'SO2'])-emissions_ceds_update.loc[1750,'SO2'])\n",
    "beta_nox = 0.4*nit_20101750/(np.mean(emissions_ceds_update.loc[2005:2014,'NOx'])-emissions_ceds_update.loc[1750,'NOx'])\n",
    "beta_nh3 = 0.6*nit_20101750/(np.mean(emissions_ceds_update.loc[2005:2014,'NH3'])-emissions_ceds_update.loc[1750,'NH3'])\n",
    "\n",
    "for scenario in tqdm(scenarios):\n",
    "    ERFari[scenario] = np.zeros((751,SAMPLES))\n",
    "    ERFaci[scenario] = np.zeros((751,SAMPLES))\n",
    "    \n",
    "    bc = new_emissions[scenario]['BC'].values.squeeze()\n",
    "    oc = new_emissions[scenario]['OC'].values.squeeze()\n",
    "    so2 = new_emissions[scenario]['SO2'].values.squeeze()\n",
    "    nh3 = new_emissions[scenario]['NH3'].values.squeeze()\n",
    "    nox = new_emissions[scenario]['NOx'].values.squeeze()\n",
    "    \n",
    "    for i in tqdm(range(SAMPLES), leave=False):\n",
    "        ERFari[scenario][:, i] = (\n",
    "            (so2-so2[0]) * beta_so2[i] +\n",
    "            (bc-bc[0]) * beta_bc[i] +\n",
    "            (oc-oc[0]) * beta_oc[i] +\n",
    "            (nh3-nh3[0]) * beta_nh3[i] +\n",
    "            (nox-nox[0]) * beta_nox[i]\n",
    "        )\n",
    "    \n",
    "    for i in tqdm(range(SAMPLES), leave=False):\n",
    "\n",
    "        ts2010 = np.mean(\n",
    "            ghan(\n",
    "                [\n",
    "                    so2[255:265],\n",
    "                        bc[255:265]+\n",
    "                        oc[255:265],\n",
    "                ], 1.11, aci_coeffs[i,0], aci_coeffs[i,1]\n",
    "            )\n",
    "        )\n",
    "        ts1750 = ghan(\n",
    "            [\n",
    "                so2[0],\n",
    "                    bc[0]+\n",
    "                    oc[0],\n",
    "            ], 1.11, aci_coeffs[i,0], aci_coeffs[i,1]\n",
    "        )\n",
    "        ERFaci[scenario][:,i] = (\n",
    "            ghan([so2, bc+oc], 1.11, aci_coeffs[i,0], aci_coeffs[i,1])\n",
    "        - ts1750)/(ts2010-ts1750)*ERFaci_scale[i]"
   ]
  },
  {
   "cell_type": "markdown",
   "metadata": {},
   "source": [
    "### Testing and scaling aerosol emissions\n",
    "\n",
    "The ERFari has some funky possible time evolutions - these could be filtered out based on some criterion"
   ]
  },
  {
   "cell_type": "code",
   "execution_count": 14,
   "metadata": {},
   "outputs": [
    {
     "data": {
      "text/plain": [
       "[<matplotlib.lines.Line2D at 0x7f1b1b17ab10>]"
      ]
     },
     "execution_count": 14,
     "metadata": {},
     "output_type": "execute_result"
    },
    {
     "data": {
      "image/png": "[encoded data removed]",
      "text/plain": [
       "<Figure size 432x288 with 1 Axes>"
      ]
     },
     "metadata": {
      "needs_background": "light"
     },
     "output_type": "display_data"
    }
   ],
   "source": [
    "pl.fill_between(np.arange(1750, 2101), np.percentile(ERFari['ssp245'], 5, axis=1)[:351], np.percentile(ERFari['ssp245'], 95, axis=1)[:351], color='k', alpha=0.5)\n",
    "pl.plot(np.arange(1750,2101), np.percentile(ERFari['ssp245'], 50, axis=1)[:351], color='k')"
   ]
  },
  {
   "cell_type": "code",
   "execution_count": 15,
   "metadata": {},
   "outputs": [
    {
     "data": {
      "text/plain": [
       "[<matplotlib.lines.Line2D at 0x7f1b1b168690>]"
      ]
     },
     "execution_count": 15,
     "metadata": {},
     "output_type": "execute_result"
    },
    {
     "data": {
      "image/png": "[encoded data removed]",
      "text/plain": [
       "<Figure size 432x288 with 1 Axes>"
      ]
     },
     "metadata": {
      "needs_background": "light"
     },
     "output_type": "display_data"
    }
   ],
   "source": [
    "pl.fill_between(np.arange(1750, 2101), np.percentile(ERFaci['ssp245'], 5, axis=1)[:351], np.percentile(ERFaci['ssp245'], 95, axis=1)[:351], color='k', alpha=0.5)\n",
    "pl.plot(np.arange(1750,2101), np.percentile(ERFaci['ssp245'], 50, axis=1)[:351], color='k')"
   ]
  },
  {
   "cell_type": "code",
   "execution_count": 16,
   "metadata": {},
   "outputs": [],
   "source": [
    "ERFaer = {}\n",
    "for scenario in scenarios:\n",
    "    ERFaer[scenario] = ERFari[scenario]+ERFaci[scenario]"
   ]
  },
  {
   "cell_type": "markdown",
   "metadata": {},
   "source": [
    "## Non-aerosol forcings"
   ]
  },
  {
   "cell_type": "code",
   "execution_count": 18,
   "metadata": {},
   "outputs": [],
   "source": [
    "for scenario in scenarios:\n",
    "    outname = scenario\n",
    "    if scenario=='ssp370-lowNTCF':\n",
    "        outname='ssp370-lowNTCF-gidden'\n",
    "    df = pd.read_csv('../data_output/SSPs/ERF_%s_1750-2500.csv' % outname)\n",
    "    forcing_ensemble = {}\n",
    "    forcing_ensemble['co2'] = df['co2'].values[:,None] * scale_df['co2'].values[None,:]\n",
    "    forcing_ensemble['ch4'] = df['ch4'].values[:,None] * scale_df['ch4'].values[None,:]\n",
    "    forcing_ensemble['n2o'] = df['n2o'].values[:,None] * scale_df['n2o'].values[None,:]\n",
    "    forcing_ensemble['other_wmghg'] = df['other_wmghg'].values[:,None] * scale_df['other_wmghg'].values[None,:]\n",
    "    forcing_ensemble['o3'] = df['o3'].values[:,None] * scale_df['o3'].values[None,:]\n",
    "    forcing_ensemble['h2o_stratospheric'] = df['h2o_stratospheric'].values[:,None] * scale_df['h2o_stratospheric'].values[None,:]\n",
    "    forcing_ensemble['contrails'] = df['contrails'].values[:,None] * scale_df['contrails'].values[None,:]\n",
    "    forcing_ensemble['aerosol-radiation_interactions'] = ERFari[scenario]\n",
    "    forcing_ensemble['aerosol-cloud_interactions'] = ERFaci[scenario]\n",
    "    forcing_ensemble['bc_on_snow'] = df['bc_on_snow'].values[:,None] * scale_df['bc_on_snow'].values[None,:]\n",
    "    forcing_ensemble['land_use'] = df['land_use'].values[:,None] * scale_df['land_use'].values[None,:]\n",
    "    forcing_ensemble['volcanic'] = df['volcanic'].values[:,None] * scale_df['volcanic'].values[None,:]\n",
    "    forcing_ensemble['solar'] = df['solar'].values[:,None] * scale_df['solar'].values[None,:]\n",
    "    forcing_ensemble['total'] = (\n",
    "        forcing_ensemble['co2'] +\n",
    "        forcing_ensemble['ch4'] +\n",
    "        forcing_ensemble['n2o'] +\n",
    "        forcing_ensemble['other_wmghg'] +\n",
    "        forcing_ensemble['o3'] +\n",
    "        forcing_ensemble['h2o_stratospheric'] +\n",
    "        forcing_ensemble['contrails'] +\n",
    "        forcing_ensemble['aerosol-radiation_interactions'] +\n",
    "        forcing_ensemble['aerosol-cloud_interactions'] +\n",
    "        forcing_ensemble['bc_on_snow'] +\n",
    "        forcing_ensemble['land_use'] +\n",
    "        forcing_ensemble['volcanic'] +\n",
    "        forcing_ensemble['solar']\n",
    "    )\n",
    "    forcing[scenario] = forcing_ensemble['total']"
   ]
  },
  {
   "cell_type": "code",
   "execution_count": 19,
   "metadata": {},
   "outputs": [
    {
     "data": {
      "text/plain": [
       "(751, 2000)"
      ]
     },
     "execution_count": 19,
     "metadata": {},
     "output_type": "execute_result"
    }
   ],
   "source": [
    "forcing['ssp245'].shape"
   ]
  },
  {
   "cell_type": "markdown",
   "metadata": {},
   "source": [
    "# Run climate model\n",
    "\n",
    "try take advantage of scmdata's multi-run"
   ]
  },
  {
   "cell_type": "code",
   "execution_count": 20,
   "metadata": {},
   "outputs": [],
   "source": [
    "arglist = []\n",
    "\n",
    "dl = np.array(dl)\n",
    "du = np.array(du)\n",
    "eta = np.array(eta)\n",
    "lambda0 = np.array(lambda0)\n",
    "efficacy = np.array(efficacy)\n",
    "\n",
    "for i in range(SAMPLES):\n",
    "    arglist.append(\n",
    "        {\n",
    "            'dl': dl[i],\n",
    "            'du': du[i],\n",
    "            'eta': eta[i],\n",
    "            'lambda0': lambda0[i],\n",
    "            'efficacy': efficacy[i],\n",
    "            'in_forcing' : forcing_ensemble['total'][:,i],\n",
    "            'run_id': i\n",
    "        }\n",
    "    )"
   ]
  },
  {
   "cell_type": "code",
   "execution_count": 23,
   "metadata": {
    "scrolled": false
   },
   "outputs": [
    {
     "data": {
      "application/vnd.jupyter.widget-view+json": {
       "model_id": "b4ed9d9dbc9b428084aee36fe70800ca",
       "version_major": 2,
       "version_minor": 0
      },
      "text/plain": [
       "HBox(children=(HTML(value='Scenarios'), FloatProgress(value=0.0, max=10.0), HTML(value='')))"
      ]
     },
     "metadata": {},
     "output_type": "display_data"
    },
    {
     "data": {
      "application/vnd.jupyter.widget-view+json": {
       "model_id": "abd80cdac0d04e9ca0ebf604b79eca0b",
       "version_major": 2,
       "version_minor": 0
      },
      "text/plain": [
       "HBox(children=(HTML(value=''), FloatProgress(value=0.0, max=2000.0), HTML(value='')))"
      ]
     },
     "metadata": {},
     "output_type": "display_data"
    },
    {
     "name": "stdout",
     "output_type": "stream",
     "text": [
      "\n"
     ]
    },
    {
     "data": {
      "application/vnd.jupyter.widget-view+json": {
       "model_id": "17ad8c716aa44f9bb5501a4002d67640",
       "version_major": 2,
       "version_minor": 0
      },
      "text/plain": [
       "HBox(children=(HTML(value=''), FloatProgress(value=0.0, max=2000.0), HTML(value='')))"
      ]
     },
     "metadata": {},
     "output_type": "display_data"
    },
    {
     "name": "stdout",
     "output_type": "stream",
     "text": [
      "\n"
     ]
    },
    {
     "data": {
      "application/vnd.jupyter.widget-view+json": {
       "model_id": "157b47bca6684a9687978f61d5b5bc12",
       "version_major": 2,
       "version_minor": 0
      },
      "text/plain": [
       "HBox(children=(HTML(value=''), FloatProgress(value=0.0, max=2000.0), HTML(value='')))"
      ]
     },
     "metadata": {},
     "output_type": "display_data"
    },
    {
     "name": "stdout",
     "output_type": "stream",
     "text": [
      "\n"
     ]
    },
    {
     "data": {
      "application/vnd.jupyter.widget-view+json": {
       "model_id": "cf5807f8d5764d09a6b75e68dc072ba6",
       "version_major": 2,
       "version_minor": 0
      },
      "text/plain": [
       "HBox(children=(HTML(value=''), FloatProgress(value=0.0, max=2000.0), HTML(value='')))"
      ]
     },
     "metadata": {},
     "output_type": "display_data"
    },
    {
     "name": "stdout",
     "output_type": "stream",
     "text": [
      "\n"
     ]
    },
    {
     "data": {
      "application/vnd.jupyter.widget-view+json": {
       "model_id": "ed24c5823a2c4db29ee2320f1941f60c",
       "version_major": 2,
       "version_minor": 0
      },
      "text/plain": [
       "HBox(children=(HTML(value=''), FloatProgress(value=0.0, max=2000.0), HTML(value='')))"
      ]
     },
     "metadata": {},
     "output_type": "display_data"
    },
    {
     "name": "stdout",
     "output_type": "stream",
     "text": [
      "\n"
     ]
    },
    {
     "data": {
      "application/vnd.jupyter.widget-view+json": {
       "model_id": "870bddb137294db3bf3d485b6dc4f334",
       "version_major": 2,
       "version_minor": 0
      },
      "text/plain": [
       "HBox(children=(HTML(value=''), FloatProgress(value=0.0, max=2000.0), HTML(value='')))"
      ]
     },
     "metadata": {},
     "output_type": "display_data"
    },
    {
     "name": "stdout",
     "output_type": "stream",
     "text": [
      "\n"
     ]
    },
    {
     "data": {
      "application/vnd.jupyter.widget-view+json": {
       "model_id": "eb4670df8eb74e7c84daaf3a244eee86",
       "version_major": 2,
       "version_minor": 0
      },
      "text/plain": [
       "HBox(children=(HTML(value=''), FloatProgress(value=0.0, max=2000.0), HTML(value='')))"
      ]
     },
     "metadata": {},
     "output_type": "display_data"
    },
    {
     "name": "stdout",
     "output_type": "stream",
     "text": [
      "\n"
     ]
    },
    {
     "data": {
      "application/vnd.jupyter.widget-view+json": {
       "model_id": "d2ffe9ccea844d0e9c7819ab838e5aa1",
       "version_major": 2,
       "version_minor": 0
      },
      "text/plain": [
       "HBox(children=(HTML(value=''), FloatProgress(value=0.0, max=2000.0), HTML(value='')))"
      ]
     },
     "metadata": {},
     "output_type": "display_data"
    },
    {
     "name": "stdout",
     "output_type": "stream",
     "text": [
      "\n"
     ]
    },
    {
     "data": {
      "application/vnd.jupyter.widget-view+json": {
       "model_id": "352c1b6b3ba1417597b8761c775a16c8",
       "version_major": 2,
       "version_minor": 0
      },
      "text/plain": [
       "HBox(children=(HTML(value=''), FloatProgress(value=0.0, max=2000.0), HTML(value='')))"
      ]
     },
     "metadata": {},
     "output_type": "display_data"
    },
    {
     "name": "stdout",
     "output_type": "stream",
     "text": [
      "\n"
     ]
    },
    {
     "data": {
      "application/vnd.jupyter.widget-view+json": {
       "model_id": "e451ad9ca21c4e52bd8bbe51f6526076",
       "version_major": 2,
       "version_minor": 0
      },
      "text/plain": [
       "HBox(children=(HTML(value=''), FloatProgress(value=0.0, max=2000.0), HTML(value='')))"
      ]
     },
     "metadata": {},
     "output_type": "display_data"
    },
    {
     "name": "stdout",
     "output_type": "stream",
     "text": [
      "\n",
      "\n"
     ]
    }
   ],
   "source": [
    "runner = TwoLayerModel()\n",
    "\n",
    "results = {}\n",
    "\n",
    "def run_tlm(args):\n",
    "    in_forcing = args['in_forcing']\n",
    "    driver = ScmRun(\n",
    "        data=in_forcing,#[:,None]*np.ones((270,500)),\n",
    "        index=np.arange(1750,2501),\n",
    "        columns={\n",
    "            \"unit\": \"W/m^2\",\n",
    "            \"model\": \"openscm-twolayermodel-0.2.0\",\n",
    "            \"scenario\": \"historical-AR6\",\n",
    "            \"region\": \"World\",\n",
    "            \"variable\": \"Effective Radiative Forcing\",\n",
    "            \"run_id\": args['run_id']\n",
    "        }\n",
    "    )\n",
    "    runner.dl = args['dl']*ur(cmip6_models['dl']['units'])\n",
    "    runner.du = args['du']*ur(cmip6_models['du']['units'])\n",
    "    runner.eta = args['eta']*ur(cmip6_models['eta']['units'])\n",
    "    runner.lambda0 = args['lambda0'] * ur(cmip6_models['lambda0']['units'])\n",
    "    runner.efficacy = args['efficacy'] * ur(cmip6_models['efficacy']['units'])\n",
    "    return (runner.run_scenarios(driver, progress=False))\n",
    "\n",
    "if __name__ == '__main__':\n",
    "    for scenario in tqdm(scenarios, desc=\"Scenarios\"):\n",
    "        output = []\n",
    "        with Pool(16) as pool:\n",
    "            result = list(tqdm(pool.imap(run_tlm, arglist), total=SAMPLES, leave=False))\n",
    "        output = run_append(result)\n",
    "        \n",
    "        results[scenario] = {}\n",
    "        MODEL_TIMESTEP = runner.delta_t.to('s').magnitude\n",
    "        results[scenario]['effective_radiative_forcing'] = output.filter(variable='Effective Radiative Forcing').timeseries().values.T\n",
    "        results[scenario]['surface_temperature'] = output.filter(variable='Surface Temperature|Upper').timeseries().values.T\n",
    "        results[scenario]['deep_ocean_temperature'] = output.filter(variable='Surface Temperature|Lower').timeseries().values.T\n",
    "        results[scenario]['net_energy_imbalance'] = output.filter(variable='Heat Uptake').timeseries().values.T\n",
    "        results[scenario]['ocean_heat_content'] = (\n",
    "            np.cumsum(results[scenario]['net_energy_imbalance'], axis=0) * 4 * np.pi * EARTH_RADIUS**2 * MODEL_TIMESTEP\n",
    "        )\n",
    "        results[scenario]['ECS'] = ecs#.values\n",
    "        results[scenario]['TCR'] = tcr#.values\n",
    "        results[scenario]['lambda0'] = lambda0\n",
    "        results[scenario]['eta'] = eta\n",
    "        results[scenario]['efficacy'] = efficacy\n",
    "        results[scenario]['dl'] = dl\n",
    "        results[scenario]['du'] = du\n",
    "\n",
    "    save_dict_to_hdf5(results, '../data_input_large/twolayer_SSPs.h5')"
   ]
  },
  {
   "cell_type": "code",
   "execution_count": null,
   "metadata": {},
   "outputs": [],
   "source": [
    "# runner = TwoLayerModel()\n",
    "\n",
    "# dl = np.array(geoff_sample_df['dl']) * ur(cmip6_models['dl']['units'])\n",
    "# du = np.array(geoff_sample_df['du'])  * ur(cmip6_models['du']['units'])\n",
    "# eta = np.array(geoff_sample_df['eta']) * ur(cmip6_models['eta']['units'])\n",
    "# lambda0 = np.array(geoff_sample_df['lambda0']) *  ur(cmip6_models['lambda0']['units'])\n",
    "# efficacy = np.array(geoff_sample_df['efficacy']) * ur(cmip6_models['efficacy']['units'])\n",
    "\n",
    "# results = {}\n",
    "\n",
    "# for scenario in tqdman.tqdm(scenarios, desc=\"Scenarios\"):\n",
    "#     output = []\n",
    "#     for i in tqdman.tqdm(range(SAMPLES), desc=\"Parameter settings\", leave=False):\n",
    "#         driver = ScmRun(\n",
    "#             data=forcing[scenario][:,i],#[:,None]*np.ones((270,500)),\n",
    "#             index=np.arange(1750,2501),\n",
    "#             columns={\n",
    "#                 \"unit\": \"W/m^2\",\n",
    "#                 \"model\": \"openscm-twolayermodel-0.2.0\",\n",
    "#                 \"scenario\": scenario,\n",
    "#                 \"region\": \"World\",\n",
    "#                 \"variable\": \"Effective Radiative Forcing\",\n",
    "#                 \"run_id\": i\n",
    "#             }\n",
    "#         )\n",
    "#         runner.dl = dl[i]\n",
    "#         runner.du = du[i]\n",
    "#         runner.eta = eta[i]\n",
    "#         runner.lambda0 = lambda0[i]\n",
    "#         runner.efficacy = efficacy[i]\n",
    "#     #    runner.timestep = 1 * ur(\"month\")\n",
    "#         output.append(runner.run_scenarios(driver, progress=False))\n",
    "#     output = run_append(output)\n",
    "    \n",
    "#     results[scenario] = {}\n",
    "#     MODEL_TIMESTEP = runner.delta_t.to('s').magnitude\n",
    "#     results[scenario]['effective_radiative_forcing'] = output.filter(variable='Effective Radiative Forcing').timeseries().values.T\n",
    "#     results[scenario]['surface_temperature'] = output.filter(variable='Surface Temperature|Upper').timeseries().values.T\n",
    "#     results[scenario]['deep_ocean_temperature'] = output.filter(variable='Surface Temperature|Lower').timeseries().values.T\n",
    "#     results[scenario]['net_energy_imbalance'] = output.filter(variable='Heat Uptake').timeseries().values.T\n",
    "#     results[scenario]['ocean_heat_content'] = (\n",
    "#         np.cumsum(results[scenario]['net_energy_imbalance'], axis=0) * 4 * np.pi * EARTH_RADIUS**2 * MODEL_TIMESTEP\n",
    "#     )\n",
    "#     results[scenario]['ECS'] = ecs#.values\n",
    "#     results[scenario]['TCR'] = tcr#.values\n",
    "#     results[scenario]['lambda0'] = lambda0.magnitude\n",
    "#     results[scenario]['eta'] = eta.magnitude\n",
    "#     results[scenario]['efficacy'] = efficacy.magnitude\n",
    "#     results[scenario]['dl'] = dl.magnitude\n",
    "#     results[scenario]['du'] = du.magnitude\n",
    "\n",
    "# save_dict_to_hdf5(results, '../data_input_large/twolayer_SSPs.h5')"
   ]
  }
 ],
 "metadata": {
  "kernelspec": {
   "display_name": "Python 3",
   "language": "python",
   "name": "python3"
  },
  "language_info": {
   "codemirror_mode": {
    "name": "ipython",
    "version": 3
   },
   "file_extension": ".py",
   "mimetype": "text/x-python",
   "name": "python",
   "nbconvert_exporter": "python",
   "pygments_lexer": "ipython3",
   "version": "3.7.9"
  }
 },
 "nbformat": 4,
 "nbformat_minor": 4
}
