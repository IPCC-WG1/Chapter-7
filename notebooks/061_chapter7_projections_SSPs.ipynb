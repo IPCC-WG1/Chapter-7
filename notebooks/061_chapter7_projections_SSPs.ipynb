{
 "cells": [
  {
   "cell_type": "markdown",
   "metadata": {},
   "source": [
    "# Run two layer model with SSP forcing\n",
    "\n",
    "**TODO** tune CMIP6 models with efficacy = 1 and use this. Or just assume efficacy = 1.3? (multi-model mean).\n",
    "\n",
    "Following Jochem and Sebastian's presentations we fix ECS and TCR, from which kappa = eta * efficacy drops out, but I've not come up with a smart way to draw smart distributions of eta and efficacy whose product is kappa."
   ]
  },
  {
   "cell_type": "code",
   "execution_count": 1,
   "metadata": {},
   "outputs": [
    {
     "name": "stderr",
     "output_type": "stream",
     "text": [
      "/Users/znicholls/miniconda3/envs/ar6-chris-smith/lib/python3.7/site-packages/openscm_twolayermodel/base.py:10: TqdmExperimentalWarning: Using `tqdm.autonotebook.tqdm` in notebook mode. Use `tqdm.tqdm` instead to force console mode (e.g. in jupyter console)\n",
      "  import tqdm.autonotebook as tqdman\n"
     ]
    }
   ],
   "source": [
    "import fair\n",
    "import json\n",
    "import sys\n",
    "import os\n",
    "import random\n",
    "import numpy as np\n",
    "import scipy.stats as st       # v1.4+ needed\n",
    "import matplotlib.pyplot as pl\n",
    "import pandas as pd\n",
    "import pickle\n",
    "\n",
    "from ar6.utils.h5 import *\n",
    "from netCDF4 import Dataset\n",
    "from tqdm import tqdm_notebook\n",
    "from scipy.interpolate import interp1d\n",
    "from fair.constants.general import EARTH_RADIUS\n",
    "from fair.forcing.ghg import etminan, meinshausen\n",
    "\n",
    "import openscm_units.unit_registry as ur\n",
    "from scmdata import ScmRun, run_append\n",
    "\n",
    "from openscm_twolayermodel import TwoLayerModel\n",
    "import tqdm.autonotebook as tqdman"
   ]
  },
  {
   "cell_type": "markdown",
   "metadata": {},
   "source": [
    "## Ensemble generation\n",
    "\n",
    "We want to ensure reproducible results that don't change when this script is re-run. Grab list of pre-generated random seeds."
   ]
  },
  {
   "cell_type": "code",
   "execution_count": 2,
   "metadata": {},
   "outputs": [],
   "source": [
    "with open('../data_input/random_seeds.json', 'r') as filehandle:\n",
    "    SEEDS = json.load(filehandle)"
   ]
  },
  {
   "cell_type": "code",
   "execution_count": 3,
   "metadata": {},
   "outputs": [],
   "source": [
    "SAMPLES = 5 * 10 ** 3\n",
    "NINETY_TO_ONESIGMA = st.norm.ppf(0.95)\n",
    "F2XCO2_MEAN = 4.00\n",
    "F2XCO2_NINETY = 0.48\n",
    "\n",
    "forcing = {}\n",
    "scenarios = ['ssp119','ssp126','ssp245','ssp370','ssp370-lowNTCF-gidden','ssp370-lowNTCF-aerchemmip','ssp434','ssp460','ssp534-over','ssp585']\n",
    "for scenario in scenarios:\n",
    "    forcing[scenario] = {}"
   ]
  },
  {
   "cell_type": "code",
   "execution_count": 4,
   "metadata": {},
   "outputs": [
    {
     "name": "stderr",
     "output_type": "stream",
     "text": [
      "/Users/znicholls/miniconda3/envs/ar6-chris-smith/lib/python3.7/site-packages/ipykernel_launcher.py:118: TqdmDeprecationWarning: This function will be removed in tqdm==5.0.0\n",
      "Please use `tqdm.notebook.tqdm` instead of `tqdm.tqdm_notebook`\n"
     ]
    },
    {
     "data": {
      "application/vnd.jupyter.widget-view+json": {
       "model_id": "ad87e51f48524d41a4780e4b2dfa428d",
       "version_major": 2,
       "version_minor": 0
      },
      "text/plain": [
       "HBox(children=(HTML(value=''), FloatProgress(value=0.0, max=10.0), HTML(value='')))"
      ]
     },
     "metadata": {},
     "output_type": "display_data"
    },
    {
     "name": "stdout",
     "output_type": "stream",
     "text": [
      "\n"
     ]
    }
   ],
   "source": [
    "emissions = pd.read_csv('../data_input_large/rcmip-emissions-annual-means-v5-1-0.csv')\n",
    "df_emissions = pd.concat([emissions.loc[(\n",
    "        (emissions.Variable=='Emissions|BC')|\n",
    "        (emissions.Variable=='Emissions|OC')|\n",
    "        (emissions.Variable=='Emissions|Sulfur')|\n",
    "        (emissions.Variable=='Emissions|NOx')|\n",
    "        (emissions.Variable=='Emissions|NH3')|\n",
    "        (emissions.Variable=='Emissions|VOC')|\n",
    "        (emissions.Variable=='Emissions|CO')\n",
    "    ) & (emissions.Scenario=='ssp245') & (emissions.Region=='World'), 'Variable'], emissions.loc[(\n",
    "        (emissions.Variable=='Emissions|BC')|\n",
    "        (emissions.Variable=='Emissions|OC')|\n",
    "        (emissions.Variable=='Emissions|Sulfur')|\n",
    "        (emissions.Variable=='Emissions|NOx')|\n",
    "        (emissions.Variable=='Emissions|NH3')|\n",
    "        (emissions.Variable=='Emissions|VOC')|\n",
    "        (emissions.Variable=='Emissions|CO')\n",
    "    ) & (emissions.Scenario=='ssp245') & (emissions.Region=='World'), '1750':'2100']], axis=1)#.interpolate(axis=1).T\n",
    "df_emissions.set_index('Variable', inplace=True)\n",
    "df_emissions = df_emissions.interpolate(axis=1).T\n",
    "df_emissions.rename(\n",
    "    columns={\n",
    "        'Emissions|BC': 'BC',\n",
    "        'Emissions|OC': 'OC',\n",
    "        'Emissions|Sulfur': 'SO2',\n",
    "        'Emissions|NOx': 'NOx',\n",
    "        'Emissions|NH3': 'NH3',\n",
    "        'Emissions|VOC': 'VOC',\n",
    "        'Emissions|CO': 'CO'\n",
    "    }, inplace=True\n",
    ")\n",
    "# only keep cols we want\n",
    "emissions = df_emissions[['SO2', 'BC', 'OC', 'NH3', 'NOx', 'VOC', 'CO']]\n",
    "emissions.index = emissions.index.astype('int')\n",
    "emissions.index.name='year'\n",
    "emissions.columns.name=None\n",
    "\n",
    "emissions_ceds_update = emissions.copy()\n",
    "\n",
    "emissions_old = pd.read_csv('../data_input_large/rcmip-emissions-annual-means-v5-1-0.csv')\n",
    "df_emissions = pd.concat([emissions_old.loc[(\n",
    "        (emissions_old.Variable=='Emissions|BC|MAGICC Fossil and Industrial')|\n",
    "        (emissions_old.Variable=='Emissions|OC|MAGICC Fossil and Industrial')|\n",
    "        (emissions_old.Variable=='Emissions|Sulfur|MAGICC Fossil and Industrial')|\n",
    "        (emissions_old.Variable=='Emissions|NOx|MAGICC Fossil and Industrial')|\n",
    "        (emissions_old.Variable=='Emissions|NH3|MAGICC Fossil and Industrial')|\n",
    "        (emissions_old.Variable=='Emissions|VOC|MAGICC Fossil and Industrial')|\n",
    "        (emissions_old.Variable=='Emissions|CO|MAGICC Fossil and Industrial')|\n",
    "        (emissions_old.Variable=='Emissions|BC|MAGICC AFOLU|Agriculture')|\n",
    "        (emissions_old.Variable=='Emissions|OC|MAGICC AFOLU|Agriculture')|\n",
    "        (emissions_old.Variable=='Emissions|Sulfur|MAGICC AFOLU|Agriculture')|\n",
    "        (emissions_old.Variable=='Emissions|NOx|MAGICC AFOLU|Agriculture')|\n",
    "        (emissions_old.Variable=='Emissions|NH3|MAGICC AFOLU|Agriculture')|\n",
    "        (emissions_old.Variable=='Emissions|VOC|MAGICC AFOLU|Agriculture')|\n",
    "        (emissions_old.Variable=='Emissions|CO|MAGICC AFOLU|Agriculture')\n",
    "    ) & (emissions_old.Scenario=='ssp245') & (emissions_old.Region=='World'), 'Variable'], emissions_old.loc[(\n",
    "        (emissions_old.Variable=='Emissions|BC|MAGICC Fossil and Industrial')|\n",
    "        (emissions_old.Variable=='Emissions|OC|MAGICC Fossil and Industrial')|\n",
    "        (emissions_old.Variable=='Emissions|Sulfur|MAGICC Fossil and Industrial')|\n",
    "        (emissions_old.Variable=='Emissions|NOx|MAGICC Fossil and Industrial')|\n",
    "        (emissions_old.Variable=='Emissions|NH3|MAGICC Fossil and Industrial')|\n",
    "        (emissions_old.Variable=='Emissions|VOC|MAGICC Fossil and Industrial')|\n",
    "        (emissions_old.Variable=='Emissions|CO|MAGICC Fossil and Industrial')|\n",
    "        (emissions_old.Variable=='Emissions|BC|MAGICC AFOLU|Agriculture')|\n",
    "        (emissions_old.Variable=='Emissions|OC|MAGICC AFOLU|Agriculture')|\n",
    "        (emissions_old.Variable=='Emissions|Sulfur|MAGICC AFOLU|Agriculture')|\n",
    "        (emissions_old.Variable=='Emissions|NOx|MAGICC AFOLU|Agriculture')|\n",
    "        (emissions_old.Variable=='Emissions|NH3|MAGICC AFOLU|Agriculture')|\n",
    "        (emissions_old.Variable=='Emissions|VOC|MAGICC AFOLU|Agriculture')|\n",
    "        (emissions_old.Variable=='Emissions|CO|MAGICC AFOLU|Agriculture')\n",
    "    ) & (emissions_old.Scenario=='ssp245') & (emissions_old.Region=='World'), '1750':'2100']], axis=1)#.interpolate(axis=1).T\n",
    "df_emissions.set_index('Variable', inplace=True)\n",
    "df_emissions = df_emissions.interpolate(axis=1).T\n",
    "for species in ['BC', 'OC', 'Sulfur', 'NOx', 'NH3', 'VOC', 'CO']:\n",
    "    df_emissions[species] = df_emissions['Emissions|{}|MAGICC Fossil and Industrial'.format(species)] + df_emissions['Emissions|{}|MAGICC AFOLU|Agriculture'.format(species)]\n",
    "df_emissions.rename(columns = {'Sulfur': 'SO2'}, inplace=True)\n",
    "df_emissions.drop(columns=[\n",
    "        'Emissions|BC|MAGICC Fossil and Industrial',\n",
    "        'Emissions|OC|MAGICC Fossil and Industrial',\n",
    "        'Emissions|Sulfur|MAGICC Fossil and Industrial',\n",
    "        'Emissions|NOx|MAGICC Fossil and Industrial',\n",
    "        'Emissions|NH3|MAGICC Fossil and Industrial',\n",
    "        'Emissions|VOC|MAGICC Fossil and Industrial',\n",
    "        'Emissions|CO|MAGICC Fossil and Industrial',\n",
    "        'Emissions|BC|MAGICC AFOLU|Agriculture',\n",
    "        'Emissions|OC|MAGICC AFOLU|Agriculture',\n",
    "        'Emissions|Sulfur|MAGICC AFOLU|Agriculture',\n",
    "        'Emissions|NOx|MAGICC AFOLU|Agriculture',\n",
    "        'Emissions|NH3|MAGICC AFOLU|Agriculture',\n",
    "        'Emissions|VOC|MAGICC AFOLU|Agriculture',\n",
    "        'Emissions|CO|MAGICC AFOLU|Agriculture',\n",
    "    ],\n",
    "    inplace=True\n",
    ")\n",
    "df_emissions.index = emissions.index.astype('int')\n",
    "df_emissions.index.name='year'\n",
    "df_emissions.columns.name=None\n",
    "\n",
    "global_total = {}\n",
    "for species in ['BC', 'OC', 'SO2', 'NH3', 'NOx', 'NMVOC', 'CO']:\n",
    "    df = pd.read_csv('../data_input_large/CEDS_v_2020_09_11_emissions/{}_global_CEDS_emissions_by_sector_2020_09_11.csv'.format(species))\n",
    "    global_total[species] = df.sum(axis=0).values[3:].astype(float) / 1000 # yes could get openscm on this\n",
    "    #unit = df.units[0]\n",
    "    #print(unit)\n",
    "global_total['VOC'] = global_total['NMVOC']\n",
    "new_ceds = pd.DataFrame(global_total)\n",
    "new_ceds.index = np.arange(1750,2020)\n",
    "new_ceds.index = new_ceds.index.astype('int')\n",
    "new_ceds.index.name='year'\n",
    "new_ceds.columns.name=None\n",
    "emissions_ceds_update = new_ceds.loc[1750:2020] + emissions - df_emissions\n",
    "emissions_ceds_update.drop(index=range(2020,2101), inplace=True)\n",
    "emissions_ceds_update\n",
    "#new_ceds\n",
    "\n",
    "emissions = pd.read_csv('../data_input_large/rcmip-emissions-annual-means-v5-1-0.csv')\n",
    "new_emissions = {}\n",
    "for scenario in tqdm_notebook(scenarios):\n",
    "    bc = emissions.loc[(emissions['Scenario']==scenario)&(emissions['Region']=='World')&(emissions['Variable']=='Emissions|BC'),'1750':'2500'].interpolate(axis=1, pad=True).values.squeeze()\n",
    "    oc = emissions.loc[(emissions['Scenario']==scenario)&(emissions['Region']=='World')&(emissions['Variable']=='Emissions|OC'),'1750':'2500'].interpolate(axis=1, pad=True).values.squeeze()\n",
    "    so2 = emissions.loc[(emissions['Scenario']==scenario)&(emissions['Region']=='World')&(emissions['Variable']=='Emissions|Sulfur'),'1750':'2500'].interpolate(axis=1, pad=True).values.squeeze()\n",
    "    nh3 = emissions.loc[(emissions['Scenario']==scenario)&(emissions['Region']=='World')&(emissions['Variable']=='Emissions|NH3'),'1750':'2500'].interpolate(axis=1, pad=True).values.squeeze()\n",
    "    nox = emissions.loc[(emissions['Scenario']==scenario)&(emissions['Region']=='World')&(emissions['Variable']=='Emissions|NOx'),'1750':'2500'].interpolate(axis=1, pad=True).values.squeeze()\n",
    "    nmvoc = emissions.loc[(emissions['Scenario']==scenario)&(emissions['Region']=='World')&(emissions['Variable']=='Emissions|VOC'),'1750':'2500'].interpolate(axis=1, pad=True).values.squeeze()\n",
    "    co = emissions.loc[(emissions['Scenario']==scenario)&(emissions['Region']=='World')&(emissions['Variable']=='Emissions|CO'),'1750':'2500'].interpolate(axis=1, pad=True).values.squeeze()\n",
    "    bc[:265] = emissions_ceds_update.loc[1750:2014,'BC'].values\n",
    "    oc[:265] = emissions_ceds_update.loc[1750:2014,'OC'].values\n",
    "    so2[:265] = emissions_ceds_update.loc[1750:2014,'SO2'].values\n",
    "    nh3[:265] = emissions_ceds_update.loc[1750:2014,'NH3'].values\n",
    "    nox[:265] = emissions_ceds_update.loc[1750:2014,'NOx'].values\n",
    "    nmvoc[:265] = emissions_ceds_update.loc[1750:2014,'VOC'].values\n",
    "    co[:265] = emissions_ceds_update.loc[1750:2014,'CO'].values\n",
    "    bc[265:270] = np.linspace(1,0.2,5) * emissions_ceds_update.loc[2015:2019,'BC'].values + np.linspace(0,0.8,5) * bc[265:270]\n",
    "    oc[265:270] = np.linspace(1,0.2,5) * emissions_ceds_update.loc[2015:2019,'OC'].values + np.linspace(0,0.8,5) * oc[265:270]\n",
    "    so2[265:270] = np.linspace(1,0.2,5) * emissions_ceds_update.loc[2015:2019,'SO2'].values + np.linspace(0,0.8,5) * so2[265:270]\n",
    "    nh3[265:270] = np.linspace(1,0.2,5) * emissions_ceds_update.loc[2015:2019,'NH3'].values + np.linspace(0,0.8,5) * nh3[265:270]\n",
    "    nox[265:270] = np.linspace(1,0.2,5) * emissions_ceds_update.loc[2015:2019,'NOx'].values + np.linspace(0,0.8,5) * nox[265:270]\n",
    "    nmvoc[265:270] = np.linspace(1,0.2,5) * emissions_ceds_update.loc[2015:2019,'VOC'].values + np.linspace(0,0.8,5) * nmvoc[265:270]\n",
    "    co[265:270] = np.linspace(1,0.2,5) * emissions_ceds_update.loc[2015:2019,'CO'].values + np.linspace(0,0.8,5) * co[265:270]\n",
    "    \n",
    "    new_emissions[scenario] = pd.DataFrame(\n",
    "    {\n",
    "        'BC': bc,\n",
    "        'OC': oc,\n",
    "        'SO2': so2,\n",
    "        'NH3': nh3,\n",
    "        'NOx': nox,\n",
    "        'VOC': nmvoc,\n",
    "        'CO': co\n",
    "    })"
   ]
  },
  {
   "cell_type": "markdown",
   "metadata": {},
   "source": [
    "## Thermal parameters\n",
    "\n",
    "I pre-calculated fits of the Geoffroy model to 44 CMIP6 models - one day I should get this data up here, but the whole process chain is a little fiddly. From this I calculate d1 and d2 - the short and long timescales of ocean temperature response in the impulse response model.\n",
    "\n",
    "Zeb has a nice implementation of converting Geoffroy parameters to impulse response ones. I use this here. Although d1 and d2 are likely to be correlated with ECS and TCR, I'm not sure if there's a nice way to match this up to the assessment; if we use CMIP6 to inform ECS and TCR then we will get a distribution that has too many high values. Likewise we take F2x from the chapter assessment and not the models. Interesting that d1 and d2 are uncorrelated."
   ]
  },
  {
   "cell_type": "code",
   "execution_count": 5,
   "metadata": {},
   "outputs": [
    {
     "name": "stdout",
     "output_type": "stream",
     "text": [
      "0.7246744002634279\n",
      "[2.06109769 2.34899427 2.97733306 4.04369663 5.10098753]\n",
      "[1.23768417 1.44702557 1.80021552 2.21882717 2.5770159 ]\n"
     ]
    },
    {
     "data": {
      "image/png": "[encoded data removed]",
      "text/plain": [
       "<Figure size 432x288 with 1 Axes>"
      ]
     },
     "metadata": {
      "needs_background": "light"
     },
     "output_type": "display_data"
    }
   ],
   "source": [
    "# draw distributions of ECS and TCR: 5-95% range 1.0 to 2.2 for TCR normal, 2-5 for ECS lognormal\n",
    "seed    = SEEDS[9]\n",
    "\n",
    "feedback = 4/3 * st.truncnorm.rvs(-2.0, np.inf, loc=1, scale=0.28, size=SAMPLES, random_state=SEEDS[18])\n",
    "f2x = 4.00\n",
    "ecs = f2x/feedback\n",
    "rwf = st.norm.rvs(size=SAMPLES, loc=np.maximum(0.8*np.exp(-0.075*ecs**1.2), 0.2), scale=0.11*np.exp(-0.09*ecs**0.9), random_state=11)\n",
    "tcr = ecs*rwf\n",
    "tcrecs = np.stack((tcr,ecs)).T\n",
    "\n",
    "pl.scatter(ecs, tcr)\n",
    "pl.xlabel('ECS')\n",
    "pl.ylabel('TCR')\n",
    "print(np.corrcoef((ecs,tcr))[0,1])\n",
    "print(np.percentile(ecs, (5,16,50,84,95)))\n",
    "print(np.percentile(tcr, (5,17,50,83,95)))"
   ]
  },
  {
   "cell_type": "code",
   "execution_count": 6,
   "metadata": {},
   "outputs": [
    {
     "data": {
      "text/plain": [
       "(array([ 145., 1525., 1980.,  914.,  308.,   85.,   32.,    6.,    2.,\n",
       "           3.]),\n",
       " array([0.06376712, 0.40850366, 0.75324021, 1.09797675, 1.4427133 ,\n",
       "        1.78744985, 2.13218639, 2.47692294, 2.82165948, 3.16639603,\n",
       "        3.51113257]),\n",
       " <BarContainer object of 10 artists>)"
      ]
     },
     "execution_count": 6,
     "metadata": {},
     "output_type": "execute_result"
    },
    {
     "data": {
      "image/png": "[encoded data removed]",
      "text/plain": [
       "<Figure size 432x288 with 1 Axes>"
      ]
     },
     "metadata": {
      "needs_background": "light"
     },
     "output_type": "display_data"
    }
   ],
   "source": [
    "kappa = f2x/tcr - f2x/ecs\n",
    "pl.hist(kappa)"
   ]
  },
  {
   "cell_type": "code",
   "execution_count": 7,
   "metadata": {},
   "outputs": [],
   "source": [
    "f2x = st.norm.rvs(loc=F2XCO2_MEAN, scale=F2XCO2_NINETY/NINETY_TO_ONESIGMA, size=SAMPLES, random_state=SEEDS[72])\n",
    "\n",
    "with open(\"../data_output/cmip6_twolayer_tuning_params.json\", \"r\") as read_file:\n",
    "    cmip6_models = json.load(read_file)\n",
    "params = pd.DataFrame({\n",
    "    param:cmip6_models[param]['model_data'] for param in cmip6_models\n",
    "})\n",
    "params.drop(columns=['T4xCO2'], inplace=True)\n",
    "NMODELS = len(cmip6_models)\n",
    "\n",
    "kde = st.gaussian_kde(params.T)\n",
    "geoff_sample = kde.resample(size=int(SAMPLES*2), seed=3170812)\n",
    "# remove unphysical combinations\n",
    "geoff_sample[:,geoff_sample[0,:] <= 0] = np.nan\n",
    "geoff_sample[:,geoff_sample[4,:] <= 0.5] = np.nan\n",
    "geoff_sample[:,geoff_sample[2,:] <= 0] = np.nan\n",
    "geoff_sample[:,geoff_sample[3,:] <= 0] = np.nan\n",
    "geoff_sample[:,geoff_sample[5,:] <= 0] = np.nan\n",
    "geoff_sample[:,geoff_sample[1,:] <= 33] = np.nan\n",
    "#geoff_sample = geoff_sample[~np.isnan(geoff_sample)]\n",
    "mask = np.all(np.isnan(geoff_sample), axis=0)\n",
    "geoff_sample = geoff_sample[:,~mask]\n",
    "geoff_sample_df=pd.DataFrame(\n",
    "    data=geoff_sample[:,:SAMPLES].T, columns=['dl', 'du', 'eta', 'efficacy', 'lambda0', 'F4xCO2']\n",
    ")\n",
    "\n",
    "geoff_sample_df['lambda0'] = feedback\n",
    "geoff_sample_df['efficacy'] = 1\n",
    "geoff_sample_df['eta'] = kappa\n",
    "geoff_sample_df['dl'] = geoff_sample_df['dl']/geoff_sample_df['efficacy']"
   ]
  },
  {
   "cell_type": "code",
   "execution_count": 8,
   "metadata": {},
   "outputs": [
    {
     "data": {
      "text/plain": [
       "1.2951960521067662"
      ]
     },
     "execution_count": 8,
     "metadata": {},
     "output_type": "execute_result"
    }
   ],
   "source": [
    "cmip6_models['efficacy']['mean']"
   ]
  },
  {
   "cell_type": "code",
   "execution_count": 9,
   "metadata": {},
   "outputs": [
    {
     "name": "stdout",
     "output_type": "stream",
     "text": [
      "[2.06109769 2.34899427 2.97733306 4.04369663 5.10098753]\n"
     ]
    },
    {
     "data": {
      "image/png": "[encoded data removed]",
      "text/plain": [
       "<Figure size 432x288 with 1 Axes>"
      ]
     },
     "metadata": {
      "needs_background": "light"
     },
     "output_type": "display_data"
    }
   ],
   "source": [
    "pl.hist(ecs, bins=np.arange(0,11,0.2))\n",
    "print(np.percentile(ecs, (5,16,50,84,95)))"
   ]
  },
  {
   "cell_type": "code",
   "execution_count": 10,
   "metadata": {},
   "outputs": [
    {
     "name": "stdout",
     "output_type": "stream",
     "text": [
      "[1.23768417 1.43298246 1.80021552 2.24155937 2.5770159 ]\n"
     ]
    },
    {
     "data": {
      "image/png": "[encoded data removed]",
      "text/plain": [
       "<Figure size 432x288 with 1 Axes>"
      ]
     },
     "metadata": {
      "needs_background": "light"
     },
     "output_type": "display_data"
    }
   ],
   "source": [
    "# TCR is alternatively given from two layer model\n",
    "pl.hist(tcr, bins=np.arange(0,5,0.2))\n",
    "print(np.percentile(tcr, (5,16,50,84,95)))"
   ]
  },
  {
   "cell_type": "markdown",
   "metadata": {},
   "source": [
    "## Forcing uncertainties"
   ]
  },
  {
   "cell_type": "code",
   "execution_count": 11,
   "metadata": {},
   "outputs": [],
   "source": [
    "# these are standard deviations of the scale factor for normally distributed forcings (mean = 1). The list below is expressed in terms of 5-95% ranges.\n",
    "unc_ranges = np.array([\n",
    "    0.12,      # CO2\n",
    "    0.20,      # CH4: updated value from etminan 2016\n",
    "    0.14,      # N2O\n",
    "    0.15,      # other WMGHGs\n",
    "    0.50,      # tropospheric O3\n",
    "    0.50,      # stratospheric O3\n",
    "    1.00,      # stratospheric WV from CH4\n",
    "    0.67,      # contrails approx - could half range it (0.019 - 0.0574 - 0.098)\n",
    "    1.25,      # bc on snow - half-normal\n",
    "    0.50,      # land use change\n",
    "    5.0/20.0,  # volcanic\n",
    "    1,         # solar: TO DO NEED TO UPDATE\n",
    "])/NINETY_TO_ONESIGMA\n",
    "\n",
    "scale = st.norm.rvs(size=(SAMPLES,12), loc=np.ones((SAMPLES,12)), scale=np.ones((SAMPLES, 12)) * unc_ranges[None,:], random_state=36572)\n",
    "\n",
    "# here's a half normal\n",
    "## stratospheric ozone is asymmetric Gaussian. We can just scale the half of the distribution above/below best estimate\n",
    "scale[scale[:,8]<1,8] = 0.06/0.1*(scale[scale[:,8]<1,8]-1) + 1\n",
    "\n",
    "scale_df = pd.DataFrame(\n",
    "    data = scale,\n",
    "    columns = ['co2','ch4','n2o','other_wmghg','o3_tropospheric','o3_stratospheric','h2o_stratospheric','contrails','bc_on_snow','land_use','volcanic','solar']\n",
    ")"
   ]
  },
  {
   "cell_type": "markdown",
   "metadata": {},
   "source": [
    "### Aerosol emissions\n",
    "\n",
    "For ERFaci, following Smith, Harris et al. 2020: Energy Budget Constraints on the Time History of Aerosol Forcing and Climate Sensitivity\n",
    "\n",
    "For ERFari, start with Smith, Harris et al. and then add in the nitrate forcing from Myhre et al 2013\n",
    "\n",
    "For ERFari, take coefficients from Myhre et al., 2013: Radiative forcing of the direct aerosol effect from AeroCom Phase II\n",
    "simulations. The forcing calculated is 1850-2000 (or 2006; assume the same) using CMIP5 emissions."
   ]
  },
  {
   "cell_type": "code",
   "execution_count": 12,
   "metadata": {},
   "outputs": [
    {
     "name": "stderr",
     "output_type": "stream",
     "text": [
      "/Users/znicholls/miniconda3/envs/ar6-chris-smith/lib/python3.7/site-packages/ipykernel_launcher.py:33: TqdmDeprecationWarning: This function will be removed in tqdm==5.0.0\n",
      "Please use `tqdm.notebook.tqdm` instead of `tqdm.tqdm_notebook`\n"
     ]
    },
    {
     "data": {
      "application/vnd.jupyter.widget-view+json": {
       "model_id": "13eb29c6720a4806adab0c909e480fbe",
       "version_major": 2,
       "version_minor": 0
      },
      "text/plain": [
       "HBox(children=(HTML(value=''), FloatProgress(value=0.0, max=10.0), HTML(value='')))"
      ]
     },
     "metadata": {},
     "output_type": "display_data"
    },
    {
     "name": "stderr",
     "output_type": "stream",
     "text": [
      "/Users/znicholls/miniconda3/envs/ar6-chris-smith/lib/python3.7/site-packages/ipykernel_launcher.py:43: TqdmDeprecationWarning: This function will be removed in tqdm==5.0.0\n",
      "Please use `tqdm.notebook.tqdm` instead of `tqdm.tqdm_notebook`\n"
     ]
    },
    {
     "data": {
      "application/vnd.jupyter.widget-view+json": {
       "model_id": "",
       "version_major": 2,
       "version_minor": 0
      },
      "text/plain": [
       "HBox(children=(HTML(value=''), FloatProgress(value=0.0, max=5000.0), HTML(value='')))"
      ]
     },
     "metadata": {},
     "output_type": "display_data"
    },
    {
     "name": "stderr",
     "output_type": "stream",
     "text": [
      "/Users/znicholls/miniconda3/envs/ar6-chris-smith/lib/python3.7/site-packages/ipykernel_launcher.py:52: TqdmDeprecationWarning: This function will be removed in tqdm==5.0.0\n",
      "Please use `tqdm.notebook.tqdm` instead of `tqdm.tqdm_notebook`\n"
     ]
    },
    {
     "data": {
      "application/vnd.jupyter.widget-view+json": {
       "model_id": "",
       "version_major": 2,
       "version_minor": 0
      },
      "text/plain": [
       "HBox(children=(HTML(value=''), FloatProgress(value=0.0, max=5000.0), HTML(value='')))"
      ]
     },
     "metadata": {},
     "output_type": "display_data"
    },
    {
     "data": {
      "application/vnd.jupyter.widget-view+json": {
       "model_id": "",
       "version_major": 2,
       "version_minor": 0
      },
      "text/plain": [
       "HBox(children=(HTML(value=''), FloatProgress(value=0.0, max=5000.0), HTML(value='')))"
      ]
     },
     "metadata": {},
     "output_type": "display_data"
    },
    {
     "data": {
      "application/vnd.jupyter.widget-view+json": {
       "model_id": "",
       "version_major": 2,
       "version_minor": 0
      },
      "text/plain": [
       "HBox(children=(HTML(value=''), FloatProgress(value=0.0, max=5000.0), HTML(value='')))"
      ]
     },
     "metadata": {},
     "output_type": "display_data"
    },
    {
     "data": {
      "application/vnd.jupyter.widget-view+json": {
       "model_id": "",
       "version_major": 2,
       "version_minor": 0
      },
      "text/plain": [
       "HBox(children=(HTML(value=''), FloatProgress(value=0.0, max=5000.0), HTML(value='')))"
      ]
     },
     "metadata": {},
     "output_type": "display_data"
    },
    {
     "data": {
      "application/vnd.jupyter.widget-view+json": {
       "model_id": "",
       "version_major": 2,
       "version_minor": 0
      },
      "text/plain": [
       "HBox(children=(HTML(value=''), FloatProgress(value=0.0, max=5000.0), HTML(value='')))"
      ]
     },
     "metadata": {},
     "output_type": "display_data"
    },
    {
     "data": {
      "application/vnd.jupyter.widget-view+json": {
       "model_id": "",
       "version_major": 2,
       "version_minor": 0
      },
      "text/plain": [
       "HBox(children=(HTML(value=''), FloatProgress(value=0.0, max=5000.0), HTML(value='')))"
      ]
     },
     "metadata": {},
     "output_type": "display_data"
    },
    {
     "data": {
      "application/vnd.jupyter.widget-view+json": {
       "model_id": "",
       "version_major": 2,
       "version_minor": 0
      },
      "text/plain": [
       "HBox(children=(HTML(value=''), FloatProgress(value=0.0, max=5000.0), HTML(value='')))"
      ]
     },
     "metadata": {},
     "output_type": "display_data"
    },
    {
     "data": {
      "application/vnd.jupyter.widget-view+json": {
       "model_id": "",
       "version_major": 2,
       "version_minor": 0
      },
      "text/plain": [
       "HBox(children=(HTML(value=''), FloatProgress(value=0.0, max=5000.0), HTML(value='')))"
      ]
     },
     "metadata": {},
     "output_type": "display_data"
    },
    {
     "data": {
      "application/vnd.jupyter.widget-view+json": {
       "model_id": "",
       "version_major": 2,
       "version_minor": 0
      },
      "text/plain": [
       "HBox(children=(HTML(value=''), FloatProgress(value=0.0, max=5000.0), HTML(value='')))"
      ]
     },
     "metadata": {},
     "output_type": "display_data"
    },
    {
     "data": {
      "application/vnd.jupyter.widget-view+json": {
       "model_id": "",
       "version_major": 2,
       "version_minor": 0
      },
      "text/plain": [
       "HBox(children=(HTML(value=''), FloatProgress(value=0.0, max=5000.0), HTML(value='')))"
      ]
     },
     "metadata": {},
     "output_type": "display_data"
    },
    {
     "data": {
      "application/vnd.jupyter.widget-view+json": {
       "model_id": "",
       "version_major": 2,
       "version_minor": 0
      },
      "text/plain": [
       "HBox(children=(HTML(value=''), FloatProgress(value=0.0, max=5000.0), HTML(value='')))"
      ]
     },
     "metadata": {},
     "output_type": "display_data"
    },
    {
     "data": {
      "application/vnd.jupyter.widget-view+json": {
       "model_id": "",
       "version_major": 2,
       "version_minor": 0
      },
      "text/plain": [
       "HBox(children=(HTML(value=''), FloatProgress(value=0.0, max=5000.0), HTML(value='')))"
      ]
     },
     "metadata": {},
     "output_type": "display_data"
    },
    {
     "data": {
      "application/vnd.jupyter.widget-view+json": {
       "model_id": "",
       "version_major": 2,
       "version_minor": 0
      },
      "text/plain": [
       "HBox(children=(HTML(value=''), FloatProgress(value=0.0, max=5000.0), HTML(value='')))"
      ]
     },
     "metadata": {},
     "output_type": "display_data"
    },
    {
     "data": {
      "application/vnd.jupyter.widget-view+json": {
       "model_id": "",
       "version_major": 2,
       "version_minor": 0
      },
      "text/plain": [
       "HBox(children=(HTML(value=''), FloatProgress(value=0.0, max=5000.0), HTML(value='')))"
      ]
     },
     "metadata": {},
     "output_type": "display_data"
    },
    {
     "data": {
      "application/vnd.jupyter.widget-view+json": {
       "model_id": "",
       "version_major": 2,
       "version_minor": 0
      },
      "text/plain": [
       "HBox(children=(HTML(value=''), FloatProgress(value=0.0, max=5000.0), HTML(value='')))"
      ]
     },
     "metadata": {},
     "output_type": "display_data"
    },
    {
     "data": {
      "application/vnd.jupyter.widget-view+json": {
       "model_id": "",
       "version_major": 2,
       "version_minor": 0
      },
      "text/plain": [
       "HBox(children=(HTML(value=''), FloatProgress(value=0.0, max=5000.0), HTML(value='')))"
      ]
     },
     "metadata": {},
     "output_type": "display_data"
    },
    {
     "data": {
      "application/vnd.jupyter.widget-view+json": {
       "model_id": "",
       "version_major": 2,
       "version_minor": 0
      },
      "text/plain": [
       "HBox(children=(HTML(value=''), FloatProgress(value=0.0, max=5000.0), HTML(value='')))"
      ]
     },
     "metadata": {},
     "output_type": "display_data"
    },
    {
     "data": {
      "application/vnd.jupyter.widget-view+json": {
       "model_id": "",
       "version_major": 2,
       "version_minor": 0
      },
      "text/plain": [
       "HBox(children=(HTML(value=''), FloatProgress(value=0.0, max=5000.0), HTML(value='')))"
      ]
     },
     "metadata": {},
     "output_type": "display_data"
    },
    {
     "data": {
      "application/vnd.jupyter.widget-view+json": {
       "model_id": "",
       "version_major": 2,
       "version_minor": 0
      },
      "text/plain": [
       "HBox(children=(HTML(value=''), FloatProgress(value=0.0, max=5000.0), HTML(value='')))"
      ]
     },
     "metadata": {},
     "output_type": "display_data"
    },
    {
     "name": "stdout",
     "output_type": "stream",
     "text": [
      "\n"
     ]
    }
   ],
   "source": [
    "def aerocom_n(x, bc, oc, so2, nh3):\n",
    "    return bc*x[0] + oc*x[1] + so2*x[2] + nh3*x[3]\n",
    "\n",
    "def shindell(x, beta, n0, n1, n2):\n",
    "    return -beta*np.log(1 + x[0]/n0 + x[1]/n1 + x[2]/n2)\n",
    "\n",
    "df = pd.read_csv('../data_input_large/ERFari_samples.csv')\n",
    "ari_coeffs = df.values\n",
    "\n",
    "df = pd.read_csv('../data_input_large/ERFaci_samples.csv')\n",
    "aci_coeffs = np.exp(df.values)\n",
    "\n",
    "NINETY_TO_ONESIGMA = st.norm.ppf(0.95)\n",
    "\n",
    "# SCALE TO ASSESSMENT\n",
    "ERFari_scale = st.norm.rvs(loc=-0.30, scale=0.30/NINETY_TO_ONESIGMA, size=SAMPLES, random_state=786418)\n",
    "ERFaci_scale = st.norm.rvs(loc=-1.00, scale=0.65/NINETY_TO_ONESIGMA, size=SAMPLES, random_state=31318990)\n",
    "\n",
    "ERFari = {}\n",
    "ERFaci = {}\n",
    "\n",
    "bc_20101750 = st.norm.rvs(loc=0.3, scale=0.2/NINETY_TO_ONESIGMA, size=SAMPLES, random_state=SEEDS[95])\n",
    "oc_20101750 = st.norm.rvs(loc=-0.09, scale=0.07/NINETY_TO_ONESIGMA, size=SAMPLES, random_state=SEEDS[96])\n",
    "so2_20101750 = st.norm.rvs(loc=-0.4, scale=0.2/NINETY_TO_ONESIGMA, size=SAMPLES, random_state=SEEDS[97])\n",
    "nit_20101750 = st.norm.rvs(loc=-0.11, scale=0.05/NINETY_TO_ONESIGMA, size=SAMPLES, random_state=SEEDS[98])\n",
    "\n",
    "beta_bc = bc_20101750/(np.mean(emissions_ceds_update.loc[2005:2014,'BC'])-emissions_ceds_update.loc[1750,'BC'])\n",
    "beta_oc = oc_20101750/(np.mean(emissions_ceds_update.loc[2005:2014,'OC'])-emissions_ceds_update.loc[1750,'OC'])\n",
    "beta_so2 = so2_20101750/(np.mean(emissions_ceds_update.loc[2005:2014,'SO2'])-emissions_ceds_update.loc[1750,'SO2'])\n",
    "beta_nox = 0.4*nit_20101750/(np.mean(emissions_ceds_update.loc[2005:2014,'NOx'])-emissions_ceds_update.loc[1750,'NOx'])\n",
    "beta_nh3 = 0.6*nit_20101750/(np.mean(emissions_ceds_update.loc[2005:2014,'NH3'])-emissions_ceds_update.loc[1750,'NH3'])\n",
    "\n",
    "for scenario in tqdm_notebook(scenarios):\n",
    "    ERFari[scenario] = np.zeros((751,SAMPLES))\n",
    "    ERFaci[scenario] = np.zeros((751,SAMPLES))\n",
    "    \n",
    "    bc = new_emissions[scenario]['BC'].values.squeeze()\n",
    "    oc = new_emissions[scenario]['OC'].values.squeeze()\n",
    "    so2 = new_emissions[scenario]['SO2'].values.squeeze()\n",
    "    nh3 = new_emissions[scenario]['NH3'].values.squeeze()\n",
    "    nox = new_emissions[scenario]['NOx'].values.squeeze()\n",
    "    \n",
    "    for i in tqdm_notebook(range(SAMPLES), leave=False):\n",
    "        ERFari[scenario][:, i] = (\n",
    "            (so2-so2[0]) * beta_so2[i] +\n",
    "            (bc-bc[0]) * beta_bc[i] +\n",
    "            (oc-oc[0]) * beta_oc[i] +\n",
    "            (nh3-nh3[0]) * beta_nh3[i] +\n",
    "            (nox-nox[0]) * beta_nox[i]\n",
    "        )\n",
    "    \n",
    "    for i in tqdm_notebook(range(SAMPLES), leave=False):\n",
    "\n",
    "        ts2010 = np.mean(\n",
    "            shindell(\n",
    "                [\n",
    "                    so2[255:265],\n",
    "                        bc[255:265]+\n",
    "                        oc[255:265],\n",
    "                    nh3[255:265]\n",
    "                ], 1.11, aci_coeffs[i,0], aci_coeffs[i,1], aci_coeffs[i,2]\n",
    "            )\n",
    "        )\n",
    "        ts1750 = shindell(\n",
    "            [\n",
    "                so2[0],\n",
    "                    bc[0]+\n",
    "                    oc[0],\n",
    "                nh3[0]\n",
    "            ], 1.11, aci_coeffs[i,0], aci_coeffs[i,1], aci_coeffs[i,2]\n",
    "        )\n",
    "        ERFaci[scenario][:,i] = (\n",
    "            shindell([so2, bc+oc, nh3], 1.11, aci_coeffs[i,0], aci_coeffs[i,1], aci_coeffs[i,2])\n",
    "        - ts1750)/(ts2010-ts1750)*ERFaci_scale[i]"
   ]
  },
  {
   "cell_type": "markdown",
   "metadata": {},
   "source": [
    "### Testing and scaling aerosol emissions\n",
    "\n",
    "The ERFari has some funky possible time evolutions - these could be filtered out based on some criterion"
   ]
  },
  {
   "cell_type": "code",
   "execution_count": 13,
   "metadata": {},
   "outputs": [
    {
     "data": {
      "text/plain": [
       "[<matplotlib.lines.Line2D at 0x12a0638d0>]"
      ]
     },
     "execution_count": 13,
     "metadata": {},
     "output_type": "execute_result"
    },
    {
     "data": {
      "image/png": "[encoded data removed]",
      "text/plain": [
       "<Figure size 432x288 with 1 Axes>"
      ]
     },
     "metadata": {
      "needs_background": "light"
     },
     "output_type": "display_data"
    }
   ],
   "source": [
    "pl.fill_between(np.arange(1750, 2101), np.percentile(ERFari['ssp245'], 5, axis=1)[:351], np.percentile(ERFari['ssp245'], 95, axis=1)[:351], color='k', alpha=0.5)\n",
    "pl.plot(np.arange(1750,2101), np.percentile(ERFari['ssp245'], 50, axis=1)[:351], color='k')"
   ]
  },
  {
   "cell_type": "code",
   "execution_count": 14,
   "metadata": {},
   "outputs": [
    {
     "data": {
      "text/plain": [
       "[<matplotlib.lines.Line2D at 0x12924ba10>]"
      ]
     },
     "execution_count": 14,
     "metadata": {},
     "output_type": "execute_result"
    },
    {
     "data": {
      "image/png": "[encoded data removed]",
      "text/plain": [
       "<Figure size 432x288 with 1 Axes>"
      ]
     },
     "metadata": {
      "needs_background": "light"
     },
     "output_type": "display_data"
    }
   ],
   "source": [
    "pl.fill_between(np.arange(1750, 2101), np.percentile(ERFaci['ssp245'], 5, axis=1)[:351], np.percentile(ERFaci['ssp245'], 95, axis=1)[:351], color='k', alpha=0.5)\n",
    "pl.plot(np.arange(1750,2101), np.percentile(ERFaci['ssp245'], 50, axis=1)[:351], color='k')"
   ]
  },
  {
   "cell_type": "code",
   "execution_count": 15,
   "metadata": {},
   "outputs": [],
   "source": [
    "ERFaer = {}\n",
    "for scenario in scenarios:\n",
    "    ERFaer[scenario] = ERFari[scenario]+ERFaci[scenario]"
   ]
  },
  {
   "cell_type": "markdown",
   "metadata": {},
   "source": [
    "## Non-aerosol forcings"
   ]
  },
  {
   "cell_type": "code",
   "execution_count": 16,
   "metadata": {},
   "outputs": [
    {
     "name": "stderr",
     "output_type": "stream",
     "text": [
      "/Users/znicholls/miniconda3/envs/ar6-chris-smith/lib/python3.7/site-packages/ipykernel_launcher.py:7: FutureWarning: Support for multi-dimensional indexing (e.g. `obj[:, None]`) is deprecated and will be removed in a future version.  Convert to a numpy array before indexing instead.\n",
      "  import sys\n",
      "/Users/znicholls/miniconda3/envs/ar6-chris-smith/lib/python3.7/site-packages/ipykernel_launcher.py:8: FutureWarning: Support for multi-dimensional indexing (e.g. `obj[:, None]`) is deprecated and will be removed in a future version.  Convert to a numpy array before indexing instead.\n",
      "  \n",
      "/Users/znicholls/miniconda3/envs/ar6-chris-smith/lib/python3.7/site-packages/ipykernel_launcher.py:9: FutureWarning: Support for multi-dimensional indexing (e.g. `obj[:, None]`) is deprecated and will be removed in a future version.  Convert to a numpy array before indexing instead.\n",
      "  if __name__ == '__main__':\n",
      "/Users/znicholls/miniconda3/envs/ar6-chris-smith/lib/python3.7/site-packages/ipykernel_launcher.py:10: FutureWarning: Support for multi-dimensional indexing (e.g. `obj[:, None]`) is deprecated and will be removed in a future version.  Convert to a numpy array before indexing instead.\n",
      "  # Remove the CWD from sys.path while we load stuff.\n",
      "/Users/znicholls/miniconda3/envs/ar6-chris-smith/lib/python3.7/site-packages/ipykernel_launcher.py:11: FutureWarning: Support for multi-dimensional indexing (e.g. `obj[:, None]`) is deprecated and will be removed in a future version.  Convert to a numpy array before indexing instead.\n",
      "  # This is added back by InteractiveShellApp.init_path()\n",
      "/Users/znicholls/miniconda3/envs/ar6-chris-smith/lib/python3.7/site-packages/ipykernel_launcher.py:12: FutureWarning: Support for multi-dimensional indexing (e.g. `obj[:, None]`) is deprecated and will be removed in a future version.  Convert to a numpy array before indexing instead.\n",
      "  if sys.path[0] == '':\n",
      "/Users/znicholls/miniconda3/envs/ar6-chris-smith/lib/python3.7/site-packages/ipykernel_launcher.py:13: FutureWarning: Support for multi-dimensional indexing (e.g. `obj[:, None]`) is deprecated and will be removed in a future version.  Convert to a numpy array before indexing instead.\n",
      "  del sys.path[0]\n",
      "/Users/znicholls/miniconda3/envs/ar6-chris-smith/lib/python3.7/site-packages/ipykernel_launcher.py:14: FutureWarning: Support for multi-dimensional indexing (e.g. `obj[:, None]`) is deprecated and will be removed in a future version.  Convert to a numpy array before indexing instead.\n",
      "  \n",
      "/Users/znicholls/miniconda3/envs/ar6-chris-smith/lib/python3.7/site-packages/ipykernel_launcher.py:17: FutureWarning: Support for multi-dimensional indexing (e.g. `obj[:, None]`) is deprecated and will be removed in a future version.  Convert to a numpy array before indexing instead.\n",
      "/Users/znicholls/miniconda3/envs/ar6-chris-smith/lib/python3.7/site-packages/ipykernel_launcher.py:18: FutureWarning: Support for multi-dimensional indexing (e.g. `obj[:, None]`) is deprecated and will be removed in a future version.  Convert to a numpy array before indexing instead.\n",
      "/Users/znicholls/miniconda3/envs/ar6-chris-smith/lib/python3.7/site-packages/ipykernel_launcher.py:19: FutureWarning: Support for multi-dimensional indexing (e.g. `obj[:, None]`) is deprecated and will be removed in a future version.  Convert to a numpy array before indexing instead.\n",
      "/Users/znicholls/miniconda3/envs/ar6-chris-smith/lib/python3.7/site-packages/ipykernel_launcher.py:20: FutureWarning: Support for multi-dimensional indexing (e.g. `obj[:, None]`) is deprecated and will be removed in a future version.  Convert to a numpy array before indexing instead.\n"
     ]
    }
   ],
   "source": [
    "for scenario in scenarios:\n",
    "    outname = scenario\n",
    "    if scenario=='ssp370-lowNTCF':\n",
    "        outname='ssp370-lowNTCF-gidden'\n",
    "    df = pd.read_csv('../data_output/SSPs/ERF_%s_1750-2500.csv' % outname)\n",
    "    forcing_ensemble = {}\n",
    "    forcing_ensemble['co2'] = df['co2'][:,None] * scale_df['co2'][None,:]\n",
    "    forcing_ensemble['ch4'] = df['ch4'][:,None] * scale_df['ch4'][None,:]\n",
    "    forcing_ensemble['n2o'] = df['n2o'][:,None] * scale_df['n2o'][None,:]\n",
    "    forcing_ensemble['other_wmghg'] = df['other_wmghg'][:,None] * scale_df['other_wmghg'][None,:]\n",
    "    forcing_ensemble['o3_trop'] = df['o3_tropospheric'][:,None] * scale_df['o3_tropospheric'][None,:]\n",
    "    forcing_ensemble['o3_strat'] = df['o3_stratospheric'][:,None] * scale_df['o3_tropospheric'][None,:]\n",
    "    forcing_ensemble['h2o_strat'] = df['h2o_stratospheric'][:,None] * scale_df['h2o_stratospheric'][None,:]\n",
    "    forcing_ensemble['contrails'] = df['contrails'][:,None] * scale_df['contrails'][None,:]\n",
    "    forcing_ensemble['aerosol-radiation_interactions'] = ERFari[scenario]\n",
    "    forcing_ensemble['aerosol-cloud_interactions'] = ERFaci[scenario]\n",
    "    forcing_ensemble['bc_on_snow'] = df['bc_on_snow'][:,None] * scale_df['bc_on_snow'][None,:]\n",
    "    forcing_ensemble['land_use'] = df['land_use'][:,None] * scale_df['land_use'][None,:]\n",
    "    forcing_ensemble['volcanic'] = df['volcanic'][:,None] * scale_df['volcanic'][None,:]\n",
    "    forcing_ensemble['solar'] = df['solar'][:,None] * scale_df['solar'][None,:]\n",
    "    forcing_ensemble['total'] = (\n",
    "        forcing_ensemble['co2'] +\n",
    "        forcing_ensemble['ch4'] +\n",
    "        forcing_ensemble['n2o'] +\n",
    "        forcing_ensemble['other_wmghg'] +\n",
    "        forcing_ensemble['o3_trop'] +\n",
    "        forcing_ensemble['o3_strat'] +\n",
    "        forcing_ensemble['h2o_strat'] +\n",
    "        forcing_ensemble['contrails'] +\n",
    "        forcing_ensemble['aerosol-radiation_interactions'] +\n",
    "        forcing_ensemble['aerosol-cloud_interactions'] +\n",
    "        forcing_ensemble['bc_on_snow'] +\n",
    "        forcing_ensemble['land_use'] +\n",
    "        forcing_ensemble['volcanic'] +\n",
    "        forcing_ensemble['solar']\n",
    "    )\n",
    "    forcing[scenario] = forcing_ensemble['total']"
   ]
  },
  {
   "cell_type": "code",
   "execution_count": 17,
   "metadata": {},
   "outputs": [
    {
     "data": {
      "text/plain": [
       "(751, 5000)"
      ]
     },
     "execution_count": 17,
     "metadata": {},
     "output_type": "execute_result"
    }
   ],
   "source": [
    "forcing['ssp245'].shape"
   ]
  },
  {
   "cell_type": "markdown",
   "metadata": {},
   "source": [
    "# Run climate model\n",
    "\n",
    "try take advantage of scmdata's multi-run"
   ]
  },
  {
   "cell_type": "code",
   "execution_count": 18,
   "metadata": {},
   "outputs": [],
   "source": [
    "# extra imports Zeb added (could also be moved to the top)\n",
    "from collections import defaultdict\n",
    "from concurrent.futures import ProcessPoolExecutor\n",
    "import logging\n",
    "\n",
    "import numpy.testing as npt\n",
    "\n",
    "import ar6.utils.parallel"
   ]
  },
  {
   "cell_type": "code",
   "execution_count": 19,
   "metadata": {},
   "outputs": [],
   "source": [
    "LOGGER_PARALLEL = logging.getLogger(\"ar6.utils.parallel\")\n",
    "\n",
    "STDERR_INFO_HANDLER = logging.StreamHandler()\n",
    "FORMATTER = logging.Formatter(\n",
    "    \"%(asctime)s %(name)s %(threadName)s - %(levelname)s:  %(message)s\",\n",
    "    datefmt=\"%Y-%m-%d %H:%M:%S\",\n",
    ")\n",
    "STDERR_INFO_HANDLER.setFormatter(FORMATTER)\n",
    "# set logging level here\n",
    "STDERR_INFO_HANDLER.setLevel(logging.DEBUG)\n",
    "\n",
    "LOGGER_PARALLEL.setLevel(logging.DEBUG)\n",
    "LOGGER_PARALLEL.addHandler(STDERR_INFO_HANDLER)"
   ]
  },
  {
   "cell_type": "code",
   "execution_count": 20,
   "metadata": {},
   "outputs": [],
   "source": [
    "dl = np.array(geoff_sample_df['dl']) * ur(cmip6_models['dl']['units'])\n",
    "du = np.array(geoff_sample_df['du'])  * ur(cmip6_models['du']['units'])\n",
    "eta = np.array(geoff_sample_df['eta']) * ur(cmip6_models['eta']['units'])\n",
    "lambda0 = np.array(geoff_sample_df['lambda0']) *  ur(cmip6_models['lambda0']['units'])\n",
    "efficacy = np.array(geoff_sample_df['efficacy']) * ur(cmip6_models['efficacy']['units'])"
   ]
  },
  {
   "cell_type": "code",
   "execution_count": 21,
   "metadata": {},
   "outputs": [],
   "source": [
    "def run_scenario_for_configuration(\n",
    "    scenario,\n",
    "    n_samples, \n",
    "    scenario_forcing,\n",
    "    ecs,\n",
    "    tcr,\n",
    "    dl,\n",
    "    du,\n",
    "    eta,\n",
    "    lambda0,\n",
    "    efficacy,\n",
    "    progress_bar,\n",
    "):  \n",
    "    from openscm_units import unit_registry as ur\n",
    "    \n",
    "    # stupid different registry errors\n",
    "    dl = dl.magnitude * ur(str(dl.units))\n",
    "    du = du.magnitude * ur(str(du.units))\n",
    "    eta = eta.magnitude * ur(str(eta.units))\n",
    "    lambda0 = lambda0.magnitude * ur(str(lambda0.units))\n",
    "    efficacy = efficacy.magnitude * ur(str(efficacy.units))\n",
    "    \n",
    "    runner = TwoLayerModel()\n",
    "    output = []\n",
    "    \n",
    "    results_store = defaultdict(list)\n",
    "    \n",
    "    if progress_bar:\n",
    "        iterator_here = tqdman.tqdm(range(SAMPLES), desc=\"Parameter settings\", leave=False)\n",
    "    else:\n",
    "        iterator_here = range(n_samples)\n",
    "        \n",
    "    for i in iterator_here:\n",
    "        # you could add log messages or whatever here if you want more \n",
    "        # verbose running behaviour\n",
    "        runner.set_drivers(scenario_forcing[ : , i] * ur(\"W/m^2\"))\n",
    "        \n",
    "        runner.dl = dl[i]\n",
    "        runner.du = du[i]\n",
    "        runner.eta = eta[i]\n",
    "        runner.lambda0 = lambda0[i]\n",
    "        runner.efficacy = efficacy[i]\n",
    "        runner.reset()\n",
    "        runner.run()\n",
    "        \n",
    "        assert runner._erf_unit == 'W/m^2'\n",
    "        results_store['effective_radiative_forcing'].append(runner._erf_mag.copy())\n",
    "        \n",
    "        assert runner._temp_upper_unit == 'delta_degC'\n",
    "        results_store['surface_temperature'].append(runner._temp_upper_mag.copy())\n",
    "        \n",
    "        assert runner._temp_lower_unit == 'delta_degC'\n",
    "        results_store['deep_ocean_temperature'].append(runner._temp_lower_mag.copy())\n",
    "        \n",
    "        assert runner._rndt_unit == 'W/m^2'\n",
    "        results_store['net_energy_imbalance'].append(runner._rndt_mag.copy())\n",
    "\n",
    "    results_store = {k: np.vstack(v).T for k, v in results_store.items()}\n",
    "    \n",
    "    MODEL_TIMESTEP = runner.delta_t.to('s').magnitude\n",
    "    results_store['ocean_heat_content'] = (\n",
    "        np.cumsum(results_store['net_energy_imbalance'], axis=0) * 4 * np.pi * EARTH_RADIUS**2 * MODEL_TIMESTEP\n",
    "    )\n",
    "    \n",
    "    results_store['ECS'] = ecs#.values\n",
    "    results_store['TCR'] = tcr#.values\n",
    "    results_store['lambda0'] = lambda0.magnitude\n",
    "    results_store['eta'] = eta.magnitude\n",
    "    results_store['efficacy'] = efficacy.magnitude\n",
    "    results_store['dl'] = dl.magnitude\n",
    "    results_store['du'] = du.magnitude\n",
    "    \n",
    "    return scenario, results_store"
   ]
  },
  {
   "cell_type": "code",
   "execution_count": 22,
   "metadata": {},
   "outputs": [],
   "source": [
    "N_CORES_TO_USE = 8"
   ]
  },
  {
   "cell_type": "code",
   "execution_count": 23,
   "metadata": {},
   "outputs": [],
   "source": [
    "pool = ProcessPoolExecutor(max_workers=N_CORES_TO_USE)"
   ]
  },
  {
   "cell_type": "code",
   "execution_count": 24,
   "metadata": {},
   "outputs": [],
   "source": [
    "# here we split things up, ready to pass to the parallel process.\n",
    "# At present, we only split by scenario. You could go faster if you\n",
    "# also split the configuration but maybe that's not needed yet?\n",
    "runs = [\n",
    "    dict(\n",
    "        scenario=scenario,\n",
    "        n_samples=SAMPLES, \n",
    "        scenario_forcing=forcing[scenario],\n",
    "        ecs=ecs,\n",
    "        tcr=tcr,\n",
    "        dl=dl,\n",
    "        du=du,\n",
    "        eta=eta,\n",
    "        lambda0=lambda0,\n",
    "        efficacy=efficacy,\n",
    "        # show progress bar for the first scenario to get an idea\n",
    "        # of timing. Don't show progress for any others\n",
    "        # (parallel progress bars are messy).\n",
    "        progress_bar=i < 1,  \n",
    "    )\n",
    "    for i, scenario in enumerate(scenarios)\n",
    "]"
   ]
  },
  {
   "cell_type": "code",
   "execution_count": 28,
   "metadata": {},
   "outputs": [
    {
     "name": "stderr",
     "output_type": "stream",
     "text": [
      "2020-11-20 15:43:57 ar6.utils.parallel MainThread - DEBUG:  Running rest of parallel jobs\n",
      "2020-11-20 15:43:57 ar6.utils.parallel MainThread - DEBUG:  Entering _run_parallel\n",
      "2020-11-20 15:43:57 ar6.utils.parallel MainThread - DEBUG:  Treating config as kwargs\n",
      "2020-11-20 15:43:57 ar6.utils.parallel MainThread - DEBUG:  Waiting for jobs to complete\n"
     ]
    },
    {
     "data": {
      "application/vnd.jupyter.widget-view+json": {
       "model_id": "a0337f341f2f4c09934a1ffec34259e5",
       "version_major": 2,
       "version_minor": 0
      },
      "text/plain": [
       "HBox(children=(HTML(value='Parallel runs'), FloatProgress(value=0.0, max=10.0), HTML(value='')))"
      ]
     },
     "metadata": {},
     "output_type": "display_data"
    },
    {
     "name": "stderr",
     "output_type": "stream",
     "text": [
      "2020-11-20 15:46:29 ar6.utils.parallel MainThread - DEBUG:  Job 0 completed\n",
      "2020-11-20 15:46:30 ar6.utils.parallel MainThread - DEBUG:  Job 1 completed\n",
      "2020-11-20 15:46:31 ar6.utils.parallel MainThread - DEBUG:  Job 2 completed\n",
      "2020-11-20 15:46:31 ar6.utils.parallel MainThread - DEBUG:  Job 3 completed\n",
      "2020-11-20 15:46:32 ar6.utils.parallel MainThread - DEBUG:  Job 4 completed\n",
      "2020-11-20 15:46:32 ar6.utils.parallel MainThread - DEBUG:  Job 5 completed\n",
      "2020-11-20 15:46:33 ar6.utils.parallel MainThread - DEBUG:  Job 6 completed\n",
      "2020-11-20 15:46:42 ar6.utils.parallel MainThread - DEBUG:  Job 7 completed\n",
      "2020-11-20 15:47:36 ar6.utils.parallel MainThread - DEBUG:  Job 8 completed\n",
      "2020-11-20 15:47:37 ar6.utils.parallel MainThread - DEBUG:  Job 9 completed\n",
      "2020-11-20 15:47:37 ar6.utils.parallel MainThread - DEBUG:  Collecting results\n",
      "2020-11-20 15:47:37 ar6.utils.parallel MainThread - DEBUG:  Retrived result 0\n",
      "2020-11-20 15:47:37 ar6.utils.parallel MainThread - DEBUG:  Retrived result 1\n",
      "2020-11-20 15:47:37 ar6.utils.parallel MainThread - DEBUG:  Retrived result 2\n",
      "2020-11-20 15:47:37 ar6.utils.parallel MainThread - DEBUG:  Retrived result 3\n",
      "2020-11-20 15:47:37 ar6.utils.parallel MainThread - DEBUG:  Retrived result 4\n",
      "2020-11-20 15:47:37 ar6.utils.parallel MainThread - DEBUG:  Retrived result 5\n",
      "2020-11-20 15:47:37 ar6.utils.parallel MainThread - DEBUG:  Retrived result 6\n",
      "2020-11-20 15:47:37 ar6.utils.parallel MainThread - DEBUG:  Retrived result 7\n",
      "2020-11-20 15:47:37 ar6.utils.parallel MainThread - DEBUG:  Retrived result 8\n",
      "2020-11-20 15:47:37 ar6.utils.parallel MainThread - DEBUG:  Retrived result 9\n",
      "2020-11-20 15:47:37 ar6.utils.parallel MainThread - DEBUG:  Exiting _run_parallel\n"
     ]
    },
    {
     "name": "stdout",
     "output_type": "stream",
     "text": [
      "\n"
     ]
    },
    {
     "data": {
      "text/plain": [
       "{'ssp119': {'effective_radiative_forcing': array([[0.22319003, 0.3468683 , 0.28139692, ..., 0.286241  , 0.39689353,\n",
       "          0.25006967],\n",
       "         [0.2356284 , 0.30779935, 0.26280894, ..., 0.2915569 , 0.36005866,\n",
       "          0.26902576],\n",
       "         [0.23918164, 0.24262992, 0.23127675, ..., 0.27962075, 0.29356062,\n",
       "          0.27085788],\n",
       "         ...,\n",
       "         [1.59013487, 0.83400192, 1.16729101, ..., 2.02589981, 1.47192372,\n",
       "          2.26694537],\n",
       "         [1.58972193, 0.83360434, 1.16689263, ..., 2.02547786, 1.47151609,\n",
       "          2.26652313],\n",
       "         [1.589514  , 0.8334038 , 1.16669186, ..., 2.0252652 , 1.4713106 ,\n",
       "          2.26631047]]),\n",
       "  'surface_temperature': array([[0.        , 0.        , 0.        , ..., 0.        , 0.        ,\n",
       "          0.        ],\n",
       "         [0.04099564, 0.04835214, 0.04269709, ..., 0.05798391, 0.04634946,\n",
       "          0.03170338],\n",
       "         [0.06896607, 0.0743903 , 0.06830979, ..., 0.09066867, 0.07554364,\n",
       "          0.05362643],\n",
       "         ...,\n",
       "         [0.94777598, 0.58351454, 1.00618252, ..., 1.25216558, 1.04207608,\n",
       "          1.32529395],\n",
       "         [0.9476588 , 0.58322185, 1.00592118, ..., 1.25189803, 1.04176811,\n",
       "          1.32515516],\n",
       "         [0.94754106, 0.5829292 , 1.00565943, ..., 1.25163045, 1.04146028,\n",
       "          1.32501542]]),\n",
       "  'deep_ocean_temperature': array([[0.00000000e+00, 0.00000000e+00, 0.00000000e+00, ...,\n",
       "          0.00000000e+00, 0.00000000e+00, 0.00000000e+00],\n",
       "         [0.00000000e+00, 0.00000000e+00, 0.00000000e+00, ...,\n",
       "          0.00000000e+00, 0.00000000e+00, 0.00000000e+00],\n",
       "         [1.33940696e-04, 3.64556246e-04, 3.14633285e-04, ...,\n",
       "          1.74274286e-03, 6.38405579e-04, 4.29055364e-04],\n",
       "         ...,\n",
       "         [8.19673889e-01, 6.28176935e-01, 1.03019280e+00, ...,\n",
       "          1.26174334e+00, 1.06705551e+00, 1.32562686e+00],\n",
       "         [8.20092423e-01, 6.27840198e-01, 1.03001587e+00, ...,\n",
       "          1.26145547e+00, 1.06671145e+00, 1.32562235e+00],\n",
       "         [8.20509207e-01, 6.27503793e-01, 1.02983832e+00, ...,\n",
       "          1.26116822e+00, 1.06636788e+00, 1.32561603e+00]]),\n",
       "  'net_energy_imbalance': array([[ 0.        ,  0.        ,  0.        , ...,  0.        ,\n",
       "           0.        ,  0.        ],\n",
       "         [ 0.22319003,  0.3468683 ,  0.28139692, ...,  0.286241  ,\n",
       "           0.39689353,  0.25006967],\n",
       "         [ 0.16909298,  0.23483939,  0.21216735, ...,  0.1974068 ,\n",
       "           0.29343185,  0.21475971],\n",
       "         ...,\n",
       "         [ 0.05213008, -0.046524  , -0.02601945, ..., -0.00728832,\n",
       "          -0.02608366, -0.00134728],\n",
       "         [ 0.05190588, -0.04648026, -0.02610871, ..., -0.00727657,\n",
       "          -0.02604867, -0.00153405],\n",
       "         [ 0.05168312, -0.04643619, -0.02619712, ..., -0.0072641 ,\n",
       "          -0.02601359, -0.00171872]]),\n",
       "  'ocean_heat_content': array([[0.00000000e+00, 0.00000000e+00, 0.00000000e+00, ...,\n",
       "          0.00000000e+00, 0.00000000e+00, 0.00000000e+00],\n",
       "         [3.59255839e+21, 5.58333461e+21, 4.52948036e+21, ...,\n",
       "          4.60745260e+21, 6.38856126e+21, 4.02522415e+21],\n",
       "         [6.31434837e+21, 9.36340578e+21, 7.94461306e+21, ...,\n",
       "          7.78499350e+21, 1.11117609e+22, 7.48208469e+21],\n",
       "         ...,\n",
       "         [1.73943937e+24, 1.40001983e+24, 2.39228650e+24, ...,\n",
       "          5.19692818e+23, 1.31235339e+24, 2.24882169e+24],\n",
       "         [1.74027486e+24, 1.39927166e+24, 2.39186624e+24, ...,\n",
       "          5.19575692e+23, 1.31193410e+24, 2.24879700e+24],\n",
       "         [1.74110678e+24, 1.39852421e+24, 2.39144456e+24, ...,\n",
       "          5.19458766e+23, 1.31151538e+24, 2.24876933e+24]]),\n",
       "  'ECS': array([2.46459009, 2.6508863 , 3.37249121, ..., 2.4634667 , 2.78263095,\n",
       "         2.33688512]),\n",
       "  'TCR': array([1.96738125, 1.59832579, 1.81675465, ..., 1.78128918, 1.6844102 ,\n",
       "         1.31958184]),\n",
       "  'lambda0': array([1.62298794, 1.5089293 , 1.18606684, ..., 1.62372806, 1.4374885 ,\n",
       "         1.7116802 ]),\n",
       "  'eta': array([0.41017162, 0.99368939, 1.01566139, ..., 0.62183659, 0.93722996,\n",
       "         1.31958309]),\n",
       "  'efficacy': array([1, 1, 1, ..., 1, 1, 1]),\n",
       "  'dl': array([ 947.57691693,  994.77676148, 1040.31850303, ...,  156.16159661,\n",
       "          513.59161232,  735.95757563]),\n",
       "  'du': array([41.09234948, 54.14678694, 49.74447973, ..., 37.26045495,\n",
       "         64.63283217, 59.53594531])},\n",
       " 'ssp126': {'effective_radiative_forcing': array([[0.22319003, 0.3468683 , 0.28139692, ..., 0.286241  , 0.39689353,\n",
       "          0.25006967],\n",
       "         [0.2356284 , 0.30779935, 0.26280894, ..., 0.2915569 , 0.36005866,\n",
       "          0.26902576],\n",
       "         [0.23918164, 0.24262992, 0.23127675, ..., 0.27962075, 0.29356062,\n",
       "          0.27085788],\n",
       "         ...,\n",
       "         [2.35813752, 1.5543367 , 1.89370183, ..., 2.78666118, 2.20914429,\n",
       "          3.03573745],\n",
       "         [2.35739294, 1.55362683, 1.89298663, ..., 2.78590415, 2.20841087,\n",
       "          3.03497579],\n",
       "         [2.35701373, 1.55326559, 1.89262249, ..., 2.78551885, 2.20803754,\n",
       "          3.03458784]]),\n",
       "  'surface_temperature': array([[0.        , 0.        , 0.        , ..., 0.        , 0.        ,\n",
       "          0.        ],\n",
       "         [0.04099564, 0.04835214, 0.04269709, ..., 0.05798391, 0.04634946,\n",
       "          0.03170338],\n",
       "         [0.06896607, 0.0743903 , 0.06830979, ..., 0.09066867, 0.07554364,\n",
       "          0.05362643],\n",
       "         ...,\n",
       "         [1.39773472, 1.05121066, 1.59274989, ..., 1.7243828 , 1.56310402,\n",
       "          1.78046552],\n",
       "         [1.39751314, 1.05083774, 1.59244764, ..., 1.72389716, 1.56259797,\n",
       "          1.78017269],\n",
       "         [1.39729205, 1.05046528, 1.59214521, ..., 1.72341289, 1.56209278,\n",
       "          1.77987946]]),\n",
       "  'deep_ocean_temperature': array([[0.00000000e+00, 0.00000000e+00, 0.00000000e+00, ...,\n",
       "          0.00000000e+00, 0.00000000e+00, 0.00000000e+00],\n",
       "         [0.00000000e+00, 0.00000000e+00, 0.00000000e+00, ...,\n",
       "          0.00000000e+00, 0.00000000e+00, 0.00000000e+00],\n",
       "         [1.33940696e-04, 3.64556246e-04, 3.14633285e-04, ...,\n",
       "          1.74274286e-03, 6.38405579e-04, 4.29055364e-04],\n",
       "         ...,\n",
       "         [1.17627310e+00, 1.08058665e+00, 1.58626545e+00, ...,\n",
       "          1.74186351e+00, 1.59881183e+00, 1.78769534e+00],\n",
       "         [1.17699666e+00, 1.08036517e+00, 1.58631323e+00, ...,\n",
       "          1.74133812e+00, 1.59832000e+00, 1.78759750e+00],\n",
       "         [1.17771713e+00, 1.08014254e+00, 1.58635844e+00, ...,\n",
       "          1.74081392e+00, 1.59782797e+00, 1.78749702e+00]]),\n",
       "  'net_energy_imbalance': array([[ 0.        ,  0.        ,  0.        , ...,  0.        ,\n",
       "           0.        ,  0.        ],\n",
       "         [ 0.22319003,  0.3468683 ,  0.28139692, ...,  0.286241  ,\n",
       "           0.39689353,  0.25006967],\n",
       "         [ 0.16909298,  0.23483939,  0.21216735, ...,  0.1974068 ,\n",
       "           0.29343185,  0.21475971],\n",
       "         ...,\n",
       "         [ 0.09001535, -0.03171874,  0.00495161, ..., -0.01330121,\n",
       "          -0.03779434, -0.01158845],\n",
       "         [ 0.08963093, -0.03186587,  0.004594  , ..., -0.01326755,\n",
       "          -0.03779976, -0.01185013],\n",
       "         [ 0.08924597, -0.03201303,  0.00423729, ..., -0.01323603,\n",
       "          -0.03780575, -0.01211056]]),\n",
       "  'ocean_heat_content': array([[0.00000000e+00, 0.00000000e+00, 0.00000000e+00, ...,\n",
       "          0.00000000e+00, 0.00000000e+00, 0.00000000e+00],\n",
       "         [3.59255839e+21, 5.58333461e+21, 4.52948036e+21, ...,\n",
       "          4.60745260e+21, 6.38856126e+21, 4.02522415e+21],\n",
       "         [6.31434837e+21, 9.36340578e+21, 7.94461306e+21, ...,\n",
       "          7.78499350e+21, 1.11117609e+22, 7.48208469e+21],\n",
       "         ...,\n",
       "         [2.49948015e+24, 2.41378612e+24, 3.68819358e+24, ...,\n",
       "          7.17108612e+23, 1.96658849e+24, 3.03182359e+24],\n",
       "         [2.50092289e+24, 2.41327320e+24, 3.68826753e+24, ...,\n",
       "          7.16895052e+23, 1.96598005e+24, 3.03163284e+24],\n",
       "         [2.50235943e+24, 2.41275790e+24, 3.68833573e+24, ...,\n",
       "          7.16682000e+23, 1.96537151e+24, 3.03143790e+24]]),\n",
       "  'ECS': array([2.46459009, 2.6508863 , 3.37249121, ..., 2.4634667 , 2.78263095,\n",
       "         2.33688512]),\n",
       "  'TCR': array([1.96738125, 1.59832579, 1.81675465, ..., 1.78128918, 1.6844102 ,\n",
       "         1.31958184]),\n",
       "  'lambda0': array([1.62298794, 1.5089293 , 1.18606684, ..., 1.62372806, 1.4374885 ,\n",
       "         1.7116802 ]),\n",
       "  'eta': array([0.41017162, 0.99368939, 1.01566139, ..., 0.62183659, 0.93722996,\n",
       "         1.31958309]),\n",
       "  'efficacy': array([1, 1, 1, ..., 1, 1, 1]),\n",
       "  'dl': array([ 947.57691693,  994.77676148, 1040.31850303, ...,  156.16159661,\n",
       "          513.59161232,  735.95757563]),\n",
       "  'du': array([41.09234948, 54.14678694, 49.74447973, ..., 37.26045495,\n",
       "         64.63283217, 59.53594531])},\n",
       " 'ssp245': {'effective_radiative_forcing': array([[0.22319003, 0.3468683 , 0.28139692, ..., 0.286241  , 0.39689353,\n",
       "          0.25006967],\n",
       "         [0.2356284 , 0.30779935, 0.26280894, ..., 0.2915569 , 0.36005866,\n",
       "          0.26902576],\n",
       "         [0.23918164, 0.24262992, 0.23127675, ..., 0.27962075, 0.29356062,\n",
       "          0.27085788],\n",
       "         ...,\n",
       "         [4.73373615, 3.93418138, 4.31805008, ..., 5.06988923, 4.66563616,\n",
       "          5.26174343],\n",
       "         [4.73190921, 3.93244477, 4.31629662, ..., 5.06803551, 4.6638352 ,\n",
       "          5.25987223],\n",
       "         [4.73099285, 3.93157294, 4.31541671, ..., 5.06710533, 4.66293135,\n",
       "          5.25893353]]),\n",
       "  'surface_temperature': array([[0.        , 0.        , 0.        , ..., 0.        , 0.        ,\n",
       "          0.        ],\n",
       "         [0.04099564, 0.04835214, 0.04269709, ..., 0.05798391, 0.04634946,\n",
       "          0.03170338],\n",
       "         [0.06896607, 0.0743903 , 0.06830979, ..., 0.09066867, 0.07554364,\n",
       "          0.05362643],\n",
       "         ...,\n",
       "         [2.78341612, 2.58499353, 3.52556442, ..., 3.14233795, 3.29106845,\n",
       "          3.10054676],\n",
       "         [2.78286915, 2.58441666, 3.52524079, ..., 3.14115159, 3.28998517,\n",
       "          3.09975742],\n",
       "         [2.78232245, 2.58383863, 3.52491422, ..., 3.1399677 , 3.28890198,\n",
       "          3.09896699]]),\n",
       "  'deep_ocean_temperature': array([[0.00000000e+00, 0.00000000e+00, 0.00000000e+00, ...,\n",
       "          0.00000000e+00, 0.00000000e+00, 0.00000000e+00],\n",
       "         [0.00000000e+00, 0.00000000e+00, 0.00000000e+00, ...,\n",
       "          0.00000000e+00, 0.00000000e+00, 0.00000000e+00],\n",
       "         [1.33940696e-04, 3.64556246e-04, 3.14633285e-04, ...,\n",
       "          1.74274286e-03, 6.38405579e-04, 4.29055364e-04],\n",
       "         ...,\n",
       "         [2.24885161e+00, 2.54700655e+00, 3.38907411e+00, ...,\n",
       "          3.18504456e+00, 3.35077709e+00, 3.13023414e+00],\n",
       "         [2.25059813e+00, 2.54729296e+00, 3.39007990e+00, ...,\n",
       "          3.18376098e+00, 3.34995467e+00, 3.12983237e+00],\n",
       "         [2.25233717e+00, 2.54757285e+00, 3.39107589e+00, ...,\n",
       "          3.18248033e+00, 3.34912867e+00, 3.12942535e+00]]),\n",
       "  'net_energy_imbalance': array([[ 0.        ,  0.        ,  0.        , ...,  0.        ,\n",
       "           0.        ,  0.        ],\n",
       "         [ 0.22319003,  0.3468683 ,  0.28139692, ...,  0.286241  ,\n",
       "           0.39689353,  0.25006967],\n",
       "         [ 0.16909298,  0.23483939,  0.21216735, ...,  0.1974068 ,\n",
       "           0.29343185,  0.21475971],\n",
       "         ...,\n",
       "         [ 0.21722289,  0.03447635,  0.13786773, ..., -0.03249132,\n",
       "          -0.0649936 , -0.04487978],\n",
       "         [ 0.21628535,  0.03360892,  0.13649502, ..., -0.03241307,\n",
       "          -0.0652369 , -0.04540108],\n",
       "         [ 0.21534613,  0.03274275,  0.13512541, ..., -0.03234046,\n",
       "          -0.06548066, -0.04592119]]),\n",
       "  'ocean_heat_content': array([[0.00000000e+00, 0.00000000e+00, 0.00000000e+00, ...,\n",
       "          0.00000000e+00, 0.00000000e+00, 0.00000000e+00],\n",
       "         [3.59255839e+21, 5.58333461e+21, 4.52948036e+21, ...,\n",
       "          4.60745260e+21, 6.38856126e+21, 4.02522415e+21],\n",
       "         [6.31434837e+21, 9.36340578e+21, 7.94461306e+21, ...,\n",
       "          7.78499350e+21, 1.11117609e+22, 7.48208469e+21],\n",
       "         ...,\n",
       "         [4.78835974e+24, 5.70181829e+24, 7.89287712e+24, ...,\n",
       "          1.31039888e+24, 4.12364557e+24, 5.30652652e+24],\n",
       "         [4.79184116e+24, 5.70235927e+24, 7.89507420e+24, ...,\n",
       "          1.30987714e+24, 4.12259549e+24, 5.30579573e+24],\n",
       "         [4.79530746e+24, 5.70288631e+24, 7.89724924e+24, ...,\n",
       "          1.30935658e+24, 4.12154149e+24, 5.30505656e+24]]),\n",
       "  'ECS': array([2.46459009, 2.6508863 , 3.37249121, ..., 2.4634667 , 2.78263095,\n",
       "         2.33688512]),\n",
       "  'TCR': array([1.96738125, 1.59832579, 1.81675465, ..., 1.78128918, 1.6844102 ,\n",
       "         1.31958184]),\n",
       "  'lambda0': array([1.62298794, 1.5089293 , 1.18606684, ..., 1.62372806, 1.4374885 ,\n",
       "         1.7116802 ]),\n",
       "  'eta': array([0.41017162, 0.99368939, 1.01566139, ..., 0.62183659, 0.93722996,\n",
       "         1.31958309]),\n",
       "  'efficacy': array([1, 1, 1, ..., 1, 1, 1]),\n",
       "  'dl': array([ 947.57691693,  994.77676148, 1040.31850303, ...,  156.16159661,\n",
       "          513.59161232,  735.95757563]),\n",
       "  'du': array([41.09234948, 54.14678694, 49.74447973, ..., 37.26045495,\n",
       "         64.63283217, 59.53594531])},\n",
       " 'ssp370': {'effective_radiative_forcing': array([[ 0.22319003,  0.3468683 ,  0.28139692, ...,  0.286241  ,\n",
       "           0.39689353,  0.25006967],\n",
       "         [ 0.2356284 ,  0.30779935,  0.26280894, ...,  0.2915569 ,\n",
       "           0.36005866,  0.26902576],\n",
       "         [ 0.23918164,  0.24262992,  0.23127675, ...,  0.27962075,\n",
       "           0.29356062,  0.27085788],\n",
       "         ...,\n",
       "         [10.81014732, 10.03725851, 10.54378007, ..., 11.28133472,\n",
       "          11.04248844, 11.39523126],\n",
       "         [10.8076771 , 10.0349144 , 10.54140782, ..., 11.27883811,\n",
       "          11.04006289, 11.39269651],\n",
       "         [10.80641751, 10.0337193 , 10.54019831, ..., 11.27756508,\n",
       "          11.03882607, 11.39140408]]),\n",
       "  'surface_temperature': array([[0.        , 0.        , 0.        , ..., 0.        , 0.        ,\n",
       "          0.        ],\n",
       "         [0.04099564, 0.04835214, 0.04269709, ..., 0.05798391, 0.04634946,\n",
       "          0.03170338],\n",
       "         [0.06896607, 0.0743903 , 0.06830979, ..., 0.09066867, 0.07554364,\n",
       "          0.05362643],\n",
       "         ...,\n",
       "         [6.24344998, 6.35974729, 8.25024612, ..., 6.97286152, 7.65146598,\n",
       "          6.59195163],\n",
       "         [6.24331513, 6.36014129, 8.25169932, ..., 6.97129079, 7.65074637,\n",
       "          6.59163647],\n",
       "         [6.24318369, 6.36053144, 8.25314441, ..., 6.96972825, 7.65002309,\n",
       "          6.59131736]]),\n",
       "  'deep_ocean_temperature': array([[0.00000000e+00, 0.00000000e+00, 0.00000000e+00, ...,\n",
       "          0.00000000e+00, 0.00000000e+00, 0.00000000e+00],\n",
       "         [0.00000000e+00, 0.00000000e+00, 0.00000000e+00, ...,\n",
       "          0.00000000e+00, 0.00000000e+00, 0.00000000e+00],\n",
       "         [1.33940696e-04, 3.64556246e-04, 3.14633285e-04, ...,\n",
       "          1.74274286e-03, 6.38405579e-04, 4.29055364e-04],\n",
       "         ...,\n",
       "         [4.59087963e+00, 5.91894252e+00, 7.51293411e+00, ...,\n",
       "          7.02583708e+00, 7.59837743e+00, 6.50525449e+00],\n",
       "         [4.59627890e+00, 5.92226602e+00, 7.51836734e+00, ...,\n",
       "          7.02424487e+00, 7.59910866e+00, 6.50642780e+00],\n",
       "         [4.60166009e+00, 5.92556743e+00, 7.52377123e+00, ...,\n",
       "          7.02265330e+00, 7.59981991e+00, 6.50758097e+00]]),\n",
       "  'net_energy_imbalance': array([[ 0.        ,  0.        ,  0.        , ...,  0.        ,\n",
       "           0.        ,  0.        ],\n",
       "         [ 0.22319003,  0.3468683 ,  0.28139692, ...,  0.286241  ,\n",
       "           0.39689353,  0.25006967],\n",
       "         [ 0.16909298,  0.23483939,  0.21216735, ...,  0.1974068 ,\n",
       "           0.29343185,  0.21475971],\n",
       "         ...,\n",
       "         [ 0.67941257,  0.44384926,  0.76259672, ..., -0.04069698,\n",
       "           0.04504568,  0.11398091],\n",
       "         [ 0.67710329,  0.44084948,  0.75843671, ..., -0.04069616,\n",
       "           0.04359406,  0.11191816],\n",
       "         [ 0.67485193,  0.43791086,  0.75434087, ..., -0.04064233,\n",
       "           0.04220295,  0.10992287]]),\n",
       "  'ocean_heat_content': array([[0.00000000e+00, 0.00000000e+00, 0.00000000e+00, ...,\n",
       "          0.00000000e+00, 0.00000000e+00, 0.00000000e+00],\n",
       "         [3.59255839e+21, 5.58333461e+21, 4.52948036e+21, ...,\n",
       "          4.60745260e+21, 6.38856126e+21, 4.02522415e+21],\n",
       "         [6.31434837e+21, 9.36340578e+21, 7.94461306e+21, ...,\n",
       "          7.78499350e+21, 1.11117609e+22, 7.48208469e+21],\n",
       "         ...,\n",
       "         [9.82430267e+24, 1.32910597e+25, 1.75431295e+25, ...,\n",
       "          2.89386339e+24, 9.37694982e+24, 1.10468674e+25],\n",
       "         [9.83520160e+24, 1.32981558e+25, 1.75553376e+25, ...,\n",
       "          2.89320833e+24, 9.37765153e+24, 1.10486689e+25],\n",
       "         [9.84606429e+24, 1.33052046e+25, 1.75674798e+25, ...,\n",
       "          2.89255413e+24, 9.37833085e+24, 1.10504383e+25]]),\n",
       "  'ECS': array([2.46459009, 2.6508863 , 3.37249121, ..., 2.4634667 , 2.78263095,\n",
       "         2.33688512]),\n",
       "  'TCR': array([1.96738125, 1.59832579, 1.81675465, ..., 1.78128918, 1.6844102 ,\n",
       "         1.31958184]),\n",
       "  'lambda0': array([1.62298794, 1.5089293 , 1.18606684, ..., 1.62372806, 1.4374885 ,\n",
       "         1.7116802 ]),\n",
       "  'eta': array([0.41017162, 0.99368939, 1.01566139, ..., 0.62183659, 0.93722996,\n",
       "         1.31958309]),\n",
       "  'efficacy': array([1, 1, 1, ..., 1, 1, 1]),\n",
       "  'dl': array([ 947.57691693,  994.77676148, 1040.31850303, ...,  156.16159661,\n",
       "          513.59161232,  735.95757563]),\n",
       "  'du': array([41.09234948, 54.14678694, 49.74447973, ..., 37.26045495,\n",
       "         64.63283217, 59.53594531])},\n",
       " 'ssp370-lowNTCF-gidden': {'effective_radiative_forcing': array([[ 0.22319003,  0.3468683 ,  0.28139692, ...,  0.286241  ,\n",
       "           0.39689353,  0.25006967],\n",
       "         [ 0.2356284 ,  0.30779935,  0.26280894, ...,  0.2915569 ,\n",
       "           0.36005866,  0.26902576],\n",
       "         [ 0.23918164,  0.24262992,  0.23127675, ...,  0.27962075,\n",
       "           0.29356062,  0.27085788],\n",
       "         ...,\n",
       "         [10.61832816,  9.41530676,  9.94857714, ..., 11.26597755,\n",
       "          10.57505579, 11.55317311],\n",
       "         [10.61579898,  9.41290353,  9.94614462, ..., 11.26342318,\n",
       "          10.57256758, 11.55057281],\n",
       "         [10.61458569,  9.41175097,  9.94497791, ..., 11.26219786,\n",
       "          10.57137417, 11.54932556]]),\n",
       "  'surface_temperature': array([[0.        , 0.        , 0.        , ..., 0.        , 0.        ,\n",
       "          0.        ],\n",
       "         [0.04099564, 0.04835214, 0.04269709, ..., 0.05798391, 0.04634946,\n",
       "          0.03170338],\n",
       "         [0.06896607, 0.0743903 , 0.06830979, ..., 0.09066867, 0.07554364,\n",
       "          0.05362643],\n",
       "         ...,\n",
       "         [6.12760982, 5.93875359, 7.75332363, ..., 6.96293561, 7.32354151,\n",
       "          6.67359313],\n",
       "         [6.12747216, 5.93918788, 7.75475799, ..., 6.96137968, 7.32284399,\n",
       "          6.67335858],\n",
       "         [6.12732586, 5.93960971, 7.75617502, ..., 6.9598177 , 7.32213542,\n",
       "          6.67311093]]),\n",
       "  'deep_ocean_temperature': array([[0.00000000e+00, 0.00000000e+00, 0.00000000e+00, ...,\n",
       "          0.00000000e+00, 0.00000000e+00, 0.00000000e+00],\n",
       "         [0.00000000e+00, 0.00000000e+00, 0.00000000e+00, ...,\n",
       "          0.00000000e+00, 0.00000000e+00, 0.00000000e+00],\n",
       "         [1.33940696e-04, 3.64556246e-04, 3.14633285e-04, ...,\n",
       "          1.74274286e-03, 6.38405579e-04, 4.29055364e-04],\n",
       "         ...,\n",
       "         [4.48429585e+00, 5.48485732e+00, 7.02161930e+00, ...,\n",
       "          7.01480681e+00, 7.26643495e+00, 6.57358736e+00],\n",
       "         [4.48966488e+00, 5.48827952e+00, 7.02701121e+00, ...,\n",
       "          7.01324779e+00, 7.26722152e+00, 6.57494078e+00],\n",
       "         [4.49501591e+00, 5.49167919e+00, 7.03237395e+00, ...,\n",
       "          7.01168886e+00, 7.26798765e+00, 6.57627271e+00]]),\n",
       "  'net_energy_imbalance': array([[ 0.        ,  0.        ,  0.        , ...,  0.        ,\n",
       "           0.        ,  0.        ],\n",
       "         [ 0.22319003,  0.3468683 ,  0.28139692, ...,  0.286241  ,\n",
       "           0.39689353,  0.25006967],\n",
       "         [ 0.16909298,  0.23483939,  0.21216735, ...,  0.1974068 ,\n",
       "           0.29343185,  0.21475971],\n",
       "         ...,\n",
       "         [ 0.67554348,  0.45716653,  0.7567141 , ..., -0.03996991,\n",
       "           0.04899268,  0.13227308],\n",
       "         [ 0.67329131,  0.45414748,  0.75261707, ..., -0.03993635,\n",
       "           0.04754907,  0.13011587],\n",
       "         [ 0.67098555,  0.45108892,  0.7484833 , ..., -0.03996432,\n",
       "           0.04606353,  0.12791704]]),\n",
       "  'ocean_heat_content': array([[0.00000000e+00, 0.00000000e+00, 0.00000000e+00, ...,\n",
       "          0.00000000e+00, 0.00000000e+00, 0.00000000e+00],\n",
       "         [3.59255839e+21, 5.58333461e+21, 4.52948036e+21, ...,\n",
       "          4.60745260e+21, 6.38856126e+21, 4.02522415e+21],\n",
       "         [6.31434837e+21, 9.36340578e+21, 7.94461306e+21, ...,\n",
       "          7.78499350e+21, 1.11117609e+22, 7.48208469e+21],\n",
       "         ...,\n",
       "         [9.59876857e+24, 1.23215606e+25, 1.64004016e+25, ...,\n",
       "          2.88940129e+24, 8.96818218e+24, 1.11644807e+25],\n",
       "         [9.60960614e+24, 1.23288708e+25, 1.64125161e+25, ...,\n",
       "          2.88875846e+24, 8.96894755e+24, 1.11665751e+25],\n",
       "         [9.62040660e+24, 1.23361317e+25, 1.64245640e+25, ...,\n",
       "          2.88811518e+24, 8.96968900e+24, 1.11686341e+25]]),\n",
       "  'ECS': array([2.46459009, 2.6508863 , 3.37249121, ..., 2.4634667 , 2.78263095,\n",
       "         2.33688512]),\n",
       "  'TCR': array([1.96738125, 1.59832579, 1.81675465, ..., 1.78128918, 1.6844102 ,\n",
       "         1.31958184]),\n",
       "  'lambda0': array([1.62298794, 1.5089293 , 1.18606684, ..., 1.62372806, 1.4374885 ,\n",
       "         1.7116802 ]),\n",
       "  'eta': array([0.41017162, 0.99368939, 1.01566139, ..., 0.62183659, 0.93722996,\n",
       "         1.31958309]),\n",
       "  'efficacy': array([1, 1, 1, ..., 1, 1, 1]),\n",
       "  'dl': array([ 947.57691693,  994.77676148, 1040.31850303, ...,  156.16159661,\n",
       "          513.59161232,  735.95757563]),\n",
       "  'du': array([41.09234948, 54.14678694, 49.74447973, ..., 37.26045495,\n",
       "         64.63283217, 59.53594531])},\n",
       " 'ssp370-lowNTCF-aerchemmip': {'effective_radiative_forcing': array([[ 0.22319003,  0.3468683 ,  0.28139692, ...,  0.286241  ,\n",
       "           0.39689353,  0.25006967],\n",
       "         [ 0.2356284 ,  0.30779935,  0.26280894, ...,  0.2915569 ,\n",
       "           0.36005866,  0.26902576],\n",
       "         [ 0.23918164,  0.24262992,  0.23127675, ...,  0.27962075,\n",
       "           0.29356062,  0.27085788],\n",
       "         ...,\n",
       "         [11.11965863, 10.00184876, 10.50862017, ..., 11.78513339,\n",
       "          11.1119538 , 12.12072863],\n",
       "         [11.11718841,  9.99950464, 10.50624792, ..., 11.78263678,\n",
       "          11.10952825, 12.11819388],\n",
       "         [11.11592881,  9.99830954, 10.50503841, ..., 11.78136374,\n",
       "          11.10829144, 12.11690145]]),\n",
       "  'surface_temperature': array([[0.        , 0.        , 0.        , ..., 0.        , 0.        ,\n",
       "          0.        ],\n",
       "         [0.04099564, 0.04835214, 0.04269709, ..., 0.05798391, 0.04634946,\n",
       "          0.03170338],\n",
       "         [0.06896607, 0.0743903 , 0.06830979, ..., 0.09066867, 0.07554364,\n",
       "          0.05362643],\n",
       "         ...,\n",
       "         [6.43021747, 6.3349364 , 8.22989877, ..., 7.28315026, 7.70731518,\n",
       "          7.01569116],\n",
       "         [6.43009287, 6.33533646, 8.23131544, ..., 7.28157919, 7.70653406,\n",
       "          7.01537684],\n",
       "         [6.42997166, 6.33573264, 8.23272414, ..., 7.28001632, 7.70574979,\n",
       "          7.01505857]]),\n",
       "  'deep_ocean_temperature': array([[0.00000000e+00, 0.00000000e+00, 0.00000000e+00, ...,\n",
       "          0.00000000e+00, 0.00000000e+00, 0.00000000e+00],\n",
       "         [0.00000000e+00, 0.00000000e+00, 0.00000000e+00, ...,\n",
       "          0.00000000e+00, 0.00000000e+00, 0.00000000e+00],\n",
       "         [1.33940696e-04, 3.64556246e-04, 3.14633285e-04, ...,\n",
       "          1.74274286e-03, 6.38405579e-04, 4.29055364e-04],\n",
       "         ...,\n",
       "         [4.76220455e+00, 5.89213435e+00, 7.50320628e+00, ...,\n",
       "          7.33616472e+00, 7.66520642e+00, 6.92885445e+00],\n",
       "         [4.76765427e+00, 5.89547291e+00, 7.50856125e+00, ...,\n",
       "          7.33457134e+00, 7.66578642e+00, 6.93002965e+00],\n",
       "         [4.77308578e+00, 5.89878931e+00, 7.51388720e+00, ...,\n",
       "          7.33297862e+00, 7.66634766e+00, 6.93118469e+00]]),\n",
       "  'net_energy_imbalance': array([[ 0.        ,  0.        ,  0.        , ...,  0.        ,\n",
       "           0.        ,  0.        ],\n",
       "         [ 0.22319003,  0.3468683 ,  0.28139692, ...,  0.286241  ,\n",
       "           0.39689353,  0.25006967],\n",
       "         [ 0.16909298,  0.23483939,  0.21216735, ...,  0.1974068 ,\n",
       "           0.29343185,  0.21475971],\n",
       "         ...,\n",
       "         [ 0.68581916,  0.44588657,  0.75152664, ..., -0.04072341,\n",
       "           0.03413933,  0.11417316],\n",
       "         [ 0.68349321,  0.44287761,  0.74741013, ..., -0.04072203,\n",
       "           0.03277685,  0.11210896],\n",
       "         [ 0.68122521,  0.43992984,  0.74335761, ..., -0.04066764,\n",
       "           0.03147414,  0.11011223]]),\n",
       "  'ocean_heat_content': array([[0.00000000e+00, 0.00000000e+00, 0.00000000e+00, ...,\n",
       "          0.00000000e+00, 0.00000000e+00, 0.00000000e+00],\n",
       "         [3.59255839e+21, 5.58333461e+21, 4.52948036e+21, ...,\n",
       "          4.60745260e+21, 6.38856126e+21, 4.02522415e+21],\n",
       "         [6.31434837e+21, 9.36340578e+21, 7.94461306e+21, ...,\n",
       "          7.78499350e+21, 1.11117609e+22, 7.48208469e+21],\n",
       "         ...,\n",
       "         [1.01868801e+25, 1.32313228e+25, 1.75193892e+25, ...,\n",
       "          3.02186670e+24, 9.45784390e+24, 1.17655027e+25],\n",
       "         [1.01978819e+25, 1.32384516e+25, 1.75314198e+25, ...,\n",
       "          3.02121122e+24, 9.45837149e+24, 1.17673072e+25],\n",
       "         [1.02088472e+25, 1.32455329e+25, 1.75433852e+25, ...,\n",
       "          3.02055662e+24, 9.45887811e+24, 1.17690796e+25]]),\n",
       "  'ECS': array([2.46459009, 2.6508863 , 3.37249121, ..., 2.4634667 , 2.78263095,\n",
       "         2.33688512]),\n",
       "  'TCR': array([1.96738125, 1.59832579, 1.81675465, ..., 1.78128918, 1.6844102 ,\n",
       "         1.31958184]),\n",
       "  'lambda0': array([1.62298794, 1.5089293 , 1.18606684, ..., 1.62372806, 1.4374885 ,\n",
       "         1.7116802 ]),\n",
       "  'eta': array([0.41017162, 0.99368939, 1.01566139, ..., 0.62183659, 0.93722996,\n",
       "         1.31958309]),\n",
       "  'efficacy': array([1, 1, 1, ..., 1, 1, 1]),\n",
       "  'dl': array([ 947.57691693,  994.77676148, 1040.31850303, ...,  156.16159661,\n",
       "          513.59161232,  735.95757563]),\n",
       "  'du': array([41.09234948, 54.14678694, 49.74447973, ..., 37.26045495,\n",
       "         64.63283217, 59.53594531])},\n",
       " 'ssp434': {'effective_radiative_forcing': array([[0.22319003, 0.3468683 , 0.28139692, ..., 0.286241  , 0.39689353,\n",
       "          0.25006967],\n",
       "         [0.2356284 , 0.30779935, 0.26280894, ..., 0.2915569 , 0.36005866,\n",
       "          0.26902576],\n",
       "         [0.23918164, 0.24262992, 0.23127675, ..., 0.27962075, 0.29356062,\n",
       "          0.27085788],\n",
       "         ...,\n",
       "         [2.66695646, 2.10010717, 2.65985975, ..., 3.01872632, 2.9683115 ,\n",
       "          3.05742945],\n",
       "         [2.66633703, 2.09951941, 2.65926574, ..., 3.01809963, 2.96770609,\n",
       "          3.05679581],\n",
       "         [2.66602671, 2.09922652, 2.65896918, ..., 3.01778604, 2.96740345,\n",
       "          3.05647894]]),\n",
       "  'surface_temperature': array([[0.        , 0.        , 0.        , ..., 0.        , 0.        ,\n",
       "          0.        ],\n",
       "         [0.04099564, 0.04835214, 0.04269709, ..., 0.05798391, 0.04634946,\n",
       "          0.03170338],\n",
       "         [0.06896607, 0.0743903 , 0.06830979, ..., 0.09066867, 0.07554364,\n",
       "          0.05362643],\n",
       "         ...,\n",
       "         [1.57235196, 1.39707612, 2.18981676, ..., 1.86557339, 2.07952741,\n",
       "          1.78808534],\n",
       "         [1.57223117, 1.39682216, 2.18976001, ..., 1.86517692, 2.07916757,\n",
       "          1.78787024],\n",
       "         [1.57211116, 1.39656839, 2.1897025 , ..., 1.8647821 , 2.07880802,\n",
       "          1.78765488]]),\n",
       "  'deep_ocean_temperature': array([[0.00000000e+00, 0.00000000e+00, 0.00000000e+00, ...,\n",
       "          0.00000000e+00, 0.00000000e+00, 0.00000000e+00],\n",
       "         [0.00000000e+00, 0.00000000e+00, 0.00000000e+00, ...,\n",
       "          0.00000000e+00, 0.00000000e+00, 0.00000000e+00],\n",
       "         [1.33940696e-04, 3.64556246e-04, 3.14633285e-04, ...,\n",
       "          1.74274286e-03, 6.38405579e-04, 4.29055364e-04],\n",
       "         ...,\n",
       "         [1.29026084e+00, 1.40327533e+00, 2.12782298e+00, ...,\n",
       "          1.87924312e+00, 2.09863038e+00, 1.78922518e+00],\n",
       "         [1.29118249e+00, 1.40322859e+00, 2.12827981e+00, ...,\n",
       "          1.87883227e+00, 2.09836726e+00, 1.78920976e+00],\n",
       "         [1.29210073e+00, 1.40318029e+00, 2.12873285e+00, ...,\n",
       "          1.87842185e+00, 2.09810281e+00, 1.78919163e+00]]),\n",
       "  'net_energy_imbalance': array([[ 0.        ,  0.        ,  0.        , ...,  0.        ,\n",
       "           0.        ,  0.        ],\n",
       "         [ 0.22319003,  0.3468683 ,  0.28139692, ...,  0.286241  ,\n",
       "           0.39689353,  0.25006967],\n",
       "         [ 0.16909298,  0.23483939,  0.21216735, ...,  0.1974068 ,\n",
       "           0.29343185,  0.21475971],\n",
       "         ...,\n",
       "         [ 0.11547937, -0.00777196,  0.06312481, ..., -0.01046876,\n",
       "          -0.02089052, -0.002927  ],\n",
       "         [ 0.11504819, -0.00798191,  0.06259069, ..., -0.01045754,\n",
       "          -0.02098525, -0.00320083],\n",
       "         [ 0.1146248 , -0.00818648,  0.062064  , ..., -0.01044047,\n",
       "          -0.02107338, -0.00346627]]),\n",
       "  'ocean_heat_content': array([[0.00000000e+00, 0.00000000e+00, 0.00000000e+00, ...,\n",
       "          0.00000000e+00, 0.00000000e+00, 0.00000000e+00],\n",
       "         [3.59255839e+21, 5.58333461e+21, 4.52948036e+21, ...,\n",
       "          4.60745260e+21, 6.38856126e+21, 4.02522415e+21],\n",
       "         [6.31434837e+21, 9.36340578e+21, 7.94461306e+21, ...,\n",
       "          7.78499350e+21, 1.11117609e+22, 7.48208469e+21],\n",
       "         ...,\n",
       "         [2.74512684e+24, 3.13828887e+24, 4.95301180e+24, ...,\n",
       "          7.74078864e+23, 2.58520828e+24, 3.03519210e+24],\n",
       "         [2.74697870e+24, 3.13816039e+24, 4.95401928e+24, ...,\n",
       "          7.73910536e+23, 2.58487049e+24, 3.03514058e+24],\n",
       "         [2.74882375e+24, 3.13802861e+24, 4.95501829e+24, ...,\n",
       "          7.73742482e+23, 2.58453129e+24, 3.03508478e+24]]),\n",
       "  'ECS': array([2.46459009, 2.6508863 , 3.37249121, ..., 2.4634667 , 2.78263095,\n",
       "         2.33688512]),\n",
       "  'TCR': array([1.96738125, 1.59832579, 1.81675465, ..., 1.78128918, 1.6844102 ,\n",
       "         1.31958184]),\n",
       "  'lambda0': array([1.62298794, 1.5089293 , 1.18606684, ..., 1.62372806, 1.4374885 ,\n",
       "         1.7116802 ]),\n",
       "  'eta': array([0.41017162, 0.99368939, 1.01566139, ..., 0.62183659, 0.93722996,\n",
       "         1.31958309]),\n",
       "  'efficacy': array([1, 1, 1, ..., 1, 1, 1]),\n",
       "  'dl': array([ 947.57691693,  994.77676148, 1040.31850303, ...,  156.16159661,\n",
       "          513.59161232,  735.95757563]),\n",
       "  'du': array([41.09234948, 54.14678694, 49.74447973, ..., 37.26045495,\n",
       "         64.63283217, 59.53594531])},\n",
       " 'ssp460': {'effective_radiative_forcing': array([[0.22319003, 0.3468683 , 0.28139692, ..., 0.286241  , 0.39689353,\n",
       "          0.25006967],\n",
       "         [0.2356284 , 0.30779935, 0.26280894, ..., 0.2915569 , 0.36005866,\n",
       "          0.26902576],\n",
       "         [0.23918164, 0.24262992, 0.23127675, ..., 0.27962075, 0.29356062,\n",
       "          0.27085788],\n",
       "         ...,\n",
       "         [6.48151665, 5.58159494, 6.25611792, ..., 6.84753193, 6.65119107,\n",
       "          6.92911586],\n",
       "         [6.47941216, 5.57960548, 6.25410314, ..., 6.845404  , 6.64912564,\n",
       "          6.92696122],\n",
       "         [6.4783598 , 5.57860973, 6.25309495, ..., 6.84433992, 6.64809257,\n",
       "          6.92588329]]),\n",
       "  'surface_temperature': array([[0.        , 0.        , 0.        , ..., 0.        , 0.        ,\n",
       "          0.        ],\n",
       "         [0.04099564, 0.04835214, 0.04269709, ..., 0.05798391, 0.04634946,\n",
       "          0.03170338],\n",
       "         [0.06896607, 0.0743903 , 0.06830979, ..., 0.09066867, 0.07554364,\n",
       "          0.05362643],\n",
       "         ...,\n",
       "         [3.77694867, 3.59902245, 4.99335743, ..., 4.23883404, 4.64706719,\n",
       "          4.04642715],\n",
       "         [3.77648399, 3.59869827, 4.99357242, ..., 4.2374994 , 4.64608743,\n",
       "          4.04576146],\n",
       "         [3.77601879, 3.59837092, 4.99378137, ..., 4.23616672, 4.64510515,\n",
       "          4.04509246]]),\n",
       "  'deep_ocean_temperature': array([[0.00000000e+00, 0.00000000e+00, 0.00000000e+00, ...,\n",
       "          0.00000000e+00, 0.00000000e+00, 0.00000000e+00],\n",
       "         [0.00000000e+00, 0.00000000e+00, 0.00000000e+00, ...,\n",
       "          0.00000000e+00, 0.00000000e+00, 0.00000000e+00],\n",
       "         [1.33940696e-04, 3.64556246e-04, 3.14633285e-04, ...,\n",
       "          1.74274286e-03, 6.38405579e-04, 4.29055364e-04],\n",
       "         ...,\n",
       "         [2.91364092e+00, 3.44479908e+00, 4.66623528e+00, ...,\n",
       "          4.28481600e+00, 4.66896661e+00, 4.04023014e+00],\n",
       "         [2.91646151e+00, 3.44596187e+00, 4.66864583e+00, ...,\n",
       "          4.28343398e+00, 4.66866497e+00, 4.04031401e+00],\n",
       "         [2.91927137e+00, 3.44711344e+00, 4.67104020e+00, ...,\n",
       "          4.28205339e+00, 4.66835400e+00, 4.04038773e+00]]),\n",
       "  'net_energy_imbalance': array([[ 0.        ,  0.        ,  0.        , ...,  0.        ,\n",
       "           0.        ,  0.        ],\n",
       "         [ 0.22319003,  0.3468683 ,  0.28139692, ...,  0.286241  ,\n",
       "           0.39689353,  0.25006967],\n",
       "         [ 0.16909298,  0.23483939,  0.21216735, ...,  0.1974068 ,\n",
       "           0.29343185,  0.21475971],\n",
       "         ...,\n",
       "         [ 0.35292835,  0.15243299,  0.33594256, ..., -0.03522187,\n",
       "          -0.02825106,  0.00395089],\n",
       "         [ 0.3515745 ,  0.15092452,  0.33366224, ..., -0.03518183,\n",
       "          -0.02891458,  0.00292662],\n",
       "         [ 0.35022418,  0.14942422,  0.33139247, ..., -0.03514266,\n",
       "          -0.02957162,  0.00191143]]),\n",
       "  'ocean_heat_content': array([[0.00000000e+00, 0.00000000e+00, 0.00000000e+00, ...,\n",
       "          0.00000000e+00, 0.00000000e+00, 0.00000000e+00],\n",
       "         [3.59255839e+21, 5.58333461e+21, 4.52948036e+21, ...,\n",
       "          4.60745260e+21, 6.38856126e+21, 4.02522415e+21],\n",
       "         [6.31434837e+21, 9.36340578e+21, 7.94461306e+21, ...,\n",
       "          7.78499350e+21, 1.11117609e+22, 7.48208469e+21],\n",
       "         ...,\n",
       "         [6.21882073e+24, 7.72352409e+24, 1.08820478e+25, ...,\n",
       "          1.76378104e+24, 5.75432919e+24, 6.85484824e+24],\n",
       "         [6.22447982e+24, 7.72595344e+24, 1.08874185e+25, ...,\n",
       "          1.76321474e+24, 5.75386377e+24, 6.85489535e+24],\n",
       "         [6.23011717e+24, 7.72835863e+24, 1.08927528e+25, ...,\n",
       "          1.76264907e+24, 5.75338777e+24, 6.85492611e+24]]),\n",
       "  'ECS': array([2.46459009, 2.6508863 , 3.37249121, ..., 2.4634667 , 2.78263095,\n",
       "         2.33688512]),\n",
       "  'TCR': array([1.96738125, 1.59832579, 1.81675465, ..., 1.78128918, 1.6844102 ,\n",
       "         1.31958184]),\n",
       "  'lambda0': array([1.62298794, 1.5089293 , 1.18606684, ..., 1.62372806, 1.4374885 ,\n",
       "         1.7116802 ]),\n",
       "  'eta': array([0.41017162, 0.99368939, 1.01566139, ..., 0.62183659, 0.93722996,\n",
       "         1.31958309]),\n",
       "  'efficacy': array([1, 1, 1, ..., 1, 1, 1]),\n",
       "  'dl': array([ 947.57691693,  994.77676148, 1040.31850303, ...,  156.16159661,\n",
       "          513.59161232,  735.95757563]),\n",
       "  'du': array([41.09234948, 54.14678694, 49.74447973, ..., 37.26045495,\n",
       "         64.63283217, 59.53594531])},\n",
       " 'ssp534-over': {'effective_radiative_forcing': array([[0.22319003, 0.3468683 , 0.28139692, ..., 0.286241  , 0.39689353,\n",
       "          0.25006967],\n",
       "         [0.2356284 , 0.30779935, 0.26280894, ..., 0.2915569 , 0.36005866,\n",
       "          0.26902576],\n",
       "         [0.23918164, 0.24262992, 0.23127675, ..., 0.27962075, 0.29356062,\n",
       "          0.27085788],\n",
       "         ...,\n",
       "         [2.10008148, 1.39503204, 1.97608671, ..., 2.43366325, 2.29765768,\n",
       "          2.44341584],\n",
       "         [2.09935624, 1.39434071, 1.97538984, ..., 2.43292663, 2.29694387,\n",
       "          2.44267348],\n",
       "         [2.0989948 , 1.3939965 , 1.97504271, ..., 2.4325597 , 2.29658836,\n",
       "          2.44230355]]),\n",
       "  'surface_temperature': array([[0.        , 0.        , 0.        , ..., 0.        , 0.        ,\n",
       "          0.        ],\n",
       "         [0.04099564, 0.04835214, 0.04269709, ..., 0.05798391, 0.04634946,\n",
       "          0.03170338],\n",
       "         [0.06896607, 0.0743903 , 0.06830979, ..., 0.09066867, 0.07554364,\n",
       "          0.05362643],\n",
       "         ...,\n",
       "         [1.25911583, 0.96158243, 1.67223682, ..., 1.50668715, 1.6267411 ,\n",
       "          1.45231576],\n",
       "         [1.25885233, 0.96114643, 1.67190501, ..., 1.50621751, 1.62622772,\n",
       "          1.45189549],\n",
       "         [1.25858882, 0.96071067, 1.6715726 , ..., 1.50574854, 1.62571485,\n",
       "          1.4514754 ]]),\n",
       "  'deep_ocean_temperature': array([[0.00000000e+00, 0.00000000e+00, 0.00000000e+00, ...,\n",
       "          0.00000000e+00, 0.00000000e+00, 0.00000000e+00],\n",
       "         [0.00000000e+00, 0.00000000e+00, 0.00000000e+00, ...,\n",
       "          0.00000000e+00, 0.00000000e+00, 0.00000000e+00],\n",
       "         [1.33940696e-04, 3.64556246e-04, 3.14633285e-04, ...,\n",
       "          1.74274286e-03, 6.38405579e-04, 4.29055364e-04],\n",
       "         ...,\n",
       "         [1.11774518e+00, 1.01471785e+00, 1.67726914e+00, ...,\n",
       "          1.52352200e+00, 1.66554465e+00, 1.48199880e+00],\n",
       "         [1.11820707e+00, 1.01431723e+00, 1.67723206e+00, ...,\n",
       "          1.52301602e+00, 1.66501018e+00, 1.48159709e+00],\n",
       "         [1.11866658e+00, 1.01391634e+00, 1.67719280e+00, ...,\n",
       "          1.52251113e+00, 1.66447600e+00, 1.48119512e+00]]),\n",
       "  'net_energy_imbalance': array([[ 0.        ,  0.        ,  0.        , ...,  0.        ,\n",
       "           0.        ,  0.        ],\n",
       "         [ 0.22319003,  0.3468683 ,  0.28139692, ...,  0.286241  ,\n",
       "           0.39689353,  0.25006967],\n",
       "         [ 0.16909298,  0.23483939,  0.21216735, ...,  0.1974068 ,\n",
       "           0.29343185,  0.21475971],\n",
       "         ...,\n",
       "         [ 0.05684902, -0.05589483, -0.00699396, ..., -0.01281426,\n",
       "          -0.04078891, -0.0424618 ],\n",
       "         [ 0.05655167, -0.05592786, -0.00729794, ..., -0.01278695,\n",
       "          -0.04076394, -0.0424843 ],\n",
       "         [ 0.05625409, -0.05596131, -0.00760126, ..., -0.012761  ,\n",
       "          -0.04073978, -0.04250728]]),\n",
       "  'ocean_heat_content': array([[0.00000000e+00, 0.00000000e+00, 0.00000000e+00, ...,\n",
       "          0.00000000e+00, 0.00000000e+00, 0.00000000e+00],\n",
       "         [3.59255839e+21, 5.58333461e+21, 4.52948036e+21, ...,\n",
       "          4.60745260e+21, 6.38856126e+21, 4.02522415e+21],\n",
       "         [6.31434837e+21, 9.36340578e+21, 7.94461306e+21, ...,\n",
       "          7.78499350e+21, 1.11117609e+22, 7.48208469e+21],\n",
       "         ...,\n",
       "         [2.36906036e+24, 2.26369980e+24, 3.89852321e+24, ...,\n",
       "          6.27096698e+23, 2.04845067e+24, 2.51037293e+24],\n",
       "         [2.36997064e+24, 2.26279956e+24, 3.89840574e+24, ...,\n",
       "          6.26890874e+23, 2.04779452e+24, 2.50968908e+24],\n",
       "         [2.37087613e+24, 2.26189878e+24, 3.89828338e+24, ...,\n",
       "          6.26685468e+23, 2.04713875e+24, 2.50900487e+24]]),\n",
       "  'ECS': array([2.46459009, 2.6508863 , 3.37249121, ..., 2.4634667 , 2.78263095,\n",
       "         2.33688512]),\n",
       "  'TCR': array([1.96738125, 1.59832579, 1.81675465, ..., 1.78128918, 1.6844102 ,\n",
       "         1.31958184]),\n",
       "  'lambda0': array([1.62298794, 1.5089293 , 1.18606684, ..., 1.62372806, 1.4374885 ,\n",
       "         1.7116802 ]),\n",
       "  'eta': array([0.41017162, 0.99368939, 1.01566139, ..., 0.62183659, 0.93722996,\n",
       "         1.31958309]),\n",
       "  'efficacy': array([1, 1, 1, ..., 1, 1, 1]),\n",
       "  'dl': array([ 947.57691693,  994.77676148, 1040.31850303, ...,  156.16159661,\n",
       "          513.59161232,  735.95757563]),\n",
       "  'du': array([41.09234948, 54.14678694, 49.74447973, ..., 37.26045495,\n",
       "         64.63283217, 59.53594531])},\n",
       " 'ssp585': {'effective_radiative_forcing': array([[ 0.22319003,  0.3468683 ,  0.28139692, ...,  0.286241  ,\n",
       "           0.39689353,  0.25006967],\n",
       "         [ 0.2356284 ,  0.30779935,  0.26280894, ...,  0.2915569 ,\n",
       "           0.36005866,  0.26902576],\n",
       "         [ 0.23918164,  0.24262992,  0.23127675, ...,  0.27962075,\n",
       "           0.29356062,  0.27085788],\n",
       "         ...,\n",
       "         [12.5731584 , 11.47146328, 12.07388381, ..., 12.96387421,\n",
       "          12.61246849, 13.08286539],\n",
       "         [12.5709919 , 11.46938688, 12.07179005, ..., 12.96167863,\n",
       "          12.61032653, 13.08063372],\n",
       "         [12.56985885, 11.468301  , 12.07069501, ..., 12.96053047,\n",
       "          12.60920626, 13.07946648]]),\n",
       "  'surface_temperature': array([[0.        , 0.        , 0.        , ..., 0.        , 0.        ,\n",
       "          0.        ],\n",
       "         [0.04099564, 0.04835214, 0.04269709, ..., 0.05798391, 0.04634946,\n",
       "          0.03170338],\n",
       "         [0.06896607, 0.0743903 , 0.06830979, ..., 0.09066867, 0.07554364,\n",
       "          0.05362643],\n",
       "         ...,\n",
       "         [7.26934854, 7.25272055, 9.43391459, ..., 8.00677161, 8.73611284,\n",
       "          7.57579486],\n",
       "         [7.2695157 , 7.25347492, 9.43590525, ..., 8.00537161, 8.73556287,\n",
       "          7.57558869],\n",
       "         [7.2696871 , 7.25422551, 9.43788764, ..., 8.00398082, 8.73501036,\n",
       "          7.57537983]]),\n",
       "  'deep_ocean_temperature': array([[0.00000000e+00, 0.00000000e+00, 0.00000000e+00, ...,\n",
       "          0.00000000e+00, 0.00000000e+00, 0.00000000e+00],\n",
       "         [0.00000000e+00, 0.00000000e+00, 0.00000000e+00, ...,\n",
       "          0.00000000e+00, 0.00000000e+00, 0.00000000e+00],\n",
       "         [1.33940696e-04, 3.64556246e-04, 3.14633285e-04, ...,\n",
       "          1.74274286e-03, 6.38405579e-04, 4.29055364e-04],\n",
       "         ...,\n",
       "         [5.38188662e+00, 6.72719509e+00, 8.57584221e+00, ...,\n",
       "          8.05507093e+00, 8.67303739e+00, 7.48701414e+00],\n",
       "         [5.38805332e+00, 6.73115735e+00, 8.58216531e+00, ...,\n",
       "          8.05361926e+00, 8.67390618e+00, 7.48821565e+00],\n",
       "         [5.39420042e+00, 6.73509542e+00, 8.58845649e+00, ...,\n",
       "          8.05216915e+00, 8.67475542e+00, 7.48939811e+00]]),\n",
       "  'net_energy_imbalance': array([[ 0.        ,  0.        ,  0.        , ...,  0.        ,\n",
       "           0.        ,  0.        ],\n",
       "         [ 0.22319003,  0.3468683 ,  0.28139692, ...,  0.286241  ,\n",
       "           0.39689353,  0.25006967],\n",
       "         [ 0.16909298,  0.23483939,  0.21216735, ...,  0.1974068 ,\n",
       "           0.29343185,  0.21475971],\n",
       "         ...,\n",
       "         [ 0.77756081,  0.53087392,  0.88912784, ..., -0.03700125,\n",
       "           0.05579528,  0.11744633],\n",
       "         [ 0.77509336,  0.52762075,  0.88463053, ..., -0.03694549,\n",
       "           0.05440672,  0.11552732],\n",
       "         [ 0.77265557,  0.52440606,  0.88017571, ..., -0.03686785,\n",
       "           0.05305534,  0.11364854]]),\n",
       "  'ocean_heat_content': array([[0.00000000e+00, 0.00000000e+00, 0.00000000e+00, ...,\n",
       "          0.00000000e+00, 0.00000000e+00, 0.00000000e+00],\n",
       "         [3.59255839e+21, 5.58333461e+21, 4.52948036e+21, ...,\n",
       "          4.60745260e+21, 6.38856126e+21, 4.02522415e+21],\n",
       "         [6.31434837e+21, 9.36340578e+21, 7.94461306e+21, ...,\n",
       "          7.78499350e+21, 1.11117609e+22, 7.48208469e+21],\n",
       "         ...,\n",
       "         [1.15126585e+25, 1.51088332e+25, 2.00268254e+25, ...,\n",
       "          3.31878149e+24, 1.07034999e+25, 1.27126413e+25],\n",
       "         [1.15251347e+25, 1.51173260e+25, 2.00410647e+25, ...,\n",
       "          3.31818680e+24, 1.07043757e+25, 1.27145009e+25],\n",
       "         [1.15375717e+25, 1.51257671e+25, 2.00552324e+25, ...,\n",
       "          3.31759336e+24, 1.07052297e+25, 1.27163302e+25]]),\n",
       "  'ECS': array([2.46459009, 2.6508863 , 3.37249121, ..., 2.4634667 , 2.78263095,\n",
       "         2.33688512]),\n",
       "  'TCR': array([1.96738125, 1.59832579, 1.81675465, ..., 1.78128918, 1.6844102 ,\n",
       "         1.31958184]),\n",
       "  'lambda0': array([1.62298794, 1.5089293 , 1.18606684, ..., 1.62372806, 1.4374885 ,\n",
       "         1.7116802 ]),\n",
       "  'eta': array([0.41017162, 0.99368939, 1.01566139, ..., 0.62183659, 0.93722996,\n",
       "         1.31958309]),\n",
       "  'efficacy': array([1, 1, 1, ..., 1, 1, 1]),\n",
       "  'dl': array([ 947.57691693,  994.77676148, 1040.31850303, ...,  156.16159661,\n",
       "          513.59161232,  735.95757563]),\n",
       "  'du': array([41.09234948, 54.14678694, 49.74447973, ..., 37.26045495,\n",
       "         64.63283217, 59.53594531])}}"
      ]
     },
     "execution_count": 28,
     "metadata": {},
     "output_type": "execute_result"
    }
   ],
   "source": [
    "results = ar6.utils.parallel._parallel_process(    \n",
    "    func=run_scenario_for_configuration,\n",
    "    configuration=runs,\n",
    "    pool=pool,\n",
    "    config_are_kwargs=True,\n",
    "    # these control whether you do any serial and parallel runs as a check\n",
    "    # before going to a full parallel setup. They are very helpful for debugging/checking\n",
    "    # things will work. If you make these both zero then everything will just run in parallel.\n",
    "    # It's faster but you don't get any progress bars so it requires more trust\n",
    "    # that things are working (although you will get some log messages if you\n",
    "    # have the logging levels set correctly)\n",
    "    front_serial=0,\n",
    "    front_parallel=0,\n",
    ")\n",
    "results = {k: v for k, v in results}\n",
    "save_dict_to_hdf5(results, '../data_input_large/twolayer_SSPs_116e3b2.h5')\n",
    "results"
   ]
  },
  {
   "cell_type": "markdown",
   "metadata": {},
   "source": [
    "The cells below check that the results of the refactoring are the same as the results obtained in commit 92b5f0 (the starting point). They can be ignored (in fact, they'll fail) as soon as you run more than 20 samples."
   ]
  },
  {
   "cell_type": "code",
   "execution_count": 26,
   "metadata": {},
   "outputs": [],
   "source": [
    "reg_results = load_dict_from_hdf5('../data_input_large/twolayer_SSPs_92b5f0.h5')"
   ]
  },
  {
   "cell_type": "code",
   "execution_count": 27,
   "metadata": {},
   "outputs": [
    {
     "name": "stdout",
     "output_type": "stream",
     "text": [
      "ssp119\n",
      "ECS\n"
     ]
    },
    {
     "ename": "AssertionError",
     "evalue": "\nNot equal to tolerance rtol=1e-07, atol=0\n\n(shapes (20,), (5000,) mismatch)\n x: array([2.46459 , 2.650886, 3.372491, 3.21141 , 2.82495 , 2.733218,\n       2.666887, 3.554642, 4.650741, 2.135944, 4.264237, 3.05493 ,\n       4.118321, 2.997374, 1.903856, 2.941229, 4.856648, 2.511788,\n       3.011807, 2.874436])\n y: array([2.46459 , 2.650886, 3.372491, ..., 2.463467, 2.782631, 2.336885])",
     "output_type": "error",
     "traceback": [
      "\u001b[0;31m---------------------------------------------------------------------------\u001b[0m",
      "\u001b[0;31mAssertionError\u001b[0m                            Traceback (most recent call last)",
      "\u001b[0;32m<ipython-input-27-f1ee617de9d1>\u001b[0m in \u001b[0;36m<module>\u001b[0;34m\u001b[0m\n\u001b[1;32m      4\u001b[0m             npt.assert_allclose(\n\u001b[1;32m      5\u001b[0m                 \u001b[0mreg_results\u001b[0m\u001b[0;34m[\u001b[0m\u001b[0ms\u001b[0m\u001b[0;34m]\u001b[0m\u001b[0;34m[\u001b[0m\u001b[0mk\u001b[0m\u001b[0;34m]\u001b[0m\u001b[0;34m,\u001b[0m\u001b[0;34m\u001b[0m\u001b[0;34m\u001b[0m\u001b[0m\n\u001b[0;32m----> 6\u001b[0;31m                 \u001b[0mresults\u001b[0m\u001b[0;34m[\u001b[0m\u001b[0ms\u001b[0m\u001b[0;34m]\u001b[0m\u001b[0;34m[\u001b[0m\u001b[0mk\u001b[0m\u001b[0;34m]\u001b[0m\u001b[0;34m\u001b[0m\u001b[0;34m\u001b[0m\u001b[0m\n\u001b[0m\u001b[1;32m      7\u001b[0m             )\n\u001b[1;32m      8\u001b[0m         \u001b[0;32mexcept\u001b[0m \u001b[0mException\u001b[0m\u001b[0;34m:\u001b[0m\u001b[0;34m\u001b[0m\u001b[0;34m\u001b[0m\u001b[0m\n",
      "    \u001b[0;31m[... skipping hidden 1 frame]\u001b[0m\n",
      "\u001b[0;32m~/miniconda3/envs/ar6-chris-smith/lib/python3.7/site-packages/numpy/testing/_private/utils.py\u001b[0m in \u001b[0;36massert_array_compare\u001b[0;34m(comparison, x, y, err_msg, verbose, header, precision, equal_nan, equal_inf)\u001b[0m\n\u001b[1;32m    757\u001b[0m                                 \u001b[0mverbose\u001b[0m\u001b[0;34m=\u001b[0m\u001b[0mverbose\u001b[0m\u001b[0;34m,\u001b[0m \u001b[0mheader\u001b[0m\u001b[0;34m=\u001b[0m\u001b[0mheader\u001b[0m\u001b[0;34m,\u001b[0m\u001b[0;34m\u001b[0m\u001b[0;34m\u001b[0m\u001b[0m\n\u001b[1;32m    758\u001b[0m                                 names=('x', 'y'), precision=precision)\n\u001b[0;32m--> 759\u001b[0;31m             \u001b[0;32mraise\u001b[0m \u001b[0mAssertionError\u001b[0m\u001b[0;34m(\u001b[0m\u001b[0mmsg\u001b[0m\u001b[0;34m)\u001b[0m\u001b[0;34m\u001b[0m\u001b[0;34m\u001b[0m\u001b[0m\n\u001b[0m\u001b[1;32m    760\u001b[0m \u001b[0;34m\u001b[0m\u001b[0m\n\u001b[1;32m    761\u001b[0m         \u001b[0mflagged\u001b[0m \u001b[0;34m=\u001b[0m \u001b[0mbool_\u001b[0m\u001b[0;34m(\u001b[0m\u001b[0;32mFalse\u001b[0m\u001b[0;34m)\u001b[0m\u001b[0;34m\u001b[0m\u001b[0;34m\u001b[0m\u001b[0m\n",
      "\u001b[0;31mAssertionError\u001b[0m: \nNot equal to tolerance rtol=1e-07, atol=0\n\n(shapes (20,), (5000,) mismatch)\n x: array([2.46459 , 2.650886, 3.372491, 3.21141 , 2.82495 , 2.733218,\n       2.666887, 3.554642, 4.650741, 2.135944, 4.264237, 3.05493 ,\n       4.118321, 2.997374, 1.903856, 2.941229, 4.856648, 2.511788,\n       3.011807, 2.874436])\n y: array([2.46459 , 2.650886, 3.372491, ..., 2.463467, 2.782631, 2.336885])"
     ]
    }
   ],
   "source": [
    "for s in reg_results:\n",
    "    for k in reg_results[s]:\n",
    "        try:\n",
    "            npt.assert_allclose(\n",
    "                reg_results[s][k],\n",
    "                results[s][k]\n",
    "            )\n",
    "        except Exception:\n",
    "            print(s)\n",
    "            print(k)\n",
    "            raise"
   ]
  }
 ],
 "metadata": {
  "kernelspec": {
   "display_name": "Python 3",
   "language": "python",
   "name": "python3"
  },
  "language_info": {
   "codemirror_mode": {
    "name": "ipython",
    "version": 3
   },
   "file_extension": ".py",
   "mimetype": "text/x-python",
   "name": "python",
   "nbconvert_exporter": "python",
   "pygments_lexer": "ipython3",
   "version": "3.7.8"
  }
 },
 "nbformat": 4,
 "nbformat_minor": 4
}
