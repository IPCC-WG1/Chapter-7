{
 "cells": [
  {
   "cell_type": "markdown",
   "metadata": {},
   "source": [
    "# Create natural emissions to run FaIR with\n",
    "\n",
    "Theme Song: House of Jealous Lovers<br>\n",
    "Artist: The Rapture<br>\n",
    "Album: Echoes<br>\n",
    "Released: 2003"
   ]
  },
  {
   "cell_type": "code",
   "execution_count": 1,
   "metadata": {},
   "outputs": [],
   "source": [
    "import numpy as np\n",
    "import os\n",
    "\n",
    "from scipy.optimize import root\n",
    "from scipy.interpolate import interp1d\n",
    "from fair.constants.general import M_ATMOS\n",
    "from fair.constants import molwt\n",
    "from fair.forward import fair_scm\n",
    "\n",
    "import fair\n",
    "import pandas as pd\n",
    "import matplotlib.pyplot as pl"
   ]
  },
  {
   "cell_type": "code",
   "execution_count": 2,
   "metadata": {},
   "outputs": [],
   "source": [
    "# calculate natural methane emissions\n",
    "def lifetime(tau, c1, c0):\n",
    "    delta_tau = 0.32 * (np.log(c1) - np.log(c0))\n",
    "    return np.exp(np.log(tau) + delta_tau)\n",
    "\n",
    "def func_ch4(nat, e1, e0, c1, c0, tau):\n",
    "    z = M_ATMOS/1e18 * molwt.CH4/molwt.AIR\n",
    "    return 2*z*(c1-c0*(1-(1-np.exp(-1/tau))) - 1/(2*z) * (e0+nat+e1))-nat\n",
    "\n",
    "def func_n2o(nat, e1, e0, c1, c0, tau):\n",
    "    z = M_ATMOS/1e18 * molwt.N2/molwt.AIR #/ (molwt.N2O/molwt.N2)\n",
    "    return 2*z*(c1-c0*(1-(1-np.exp(-1/tau))) - 1/(2*z) * (e0+nat+e1))-nat\n",
    "\n",
    "\n",
    "ssp_df = pd.read_csv('../data_input_large/rcmip-concentrations-annual-means-v5-1-0.csv')\n",
    "n2oconc = ssp_df.loc[(ssp_df['Region']=='World')&(ssp_df['Scenario']=='ssp245')&(ssp_df['Variable'].str.endswith('|N2O')),'1750':'2500'].values.squeeze()\n",
    "ch4conc = ssp_df.loc[(ssp_df['Region']=='World')&(ssp_df['Scenario']=='ssp245')&(ssp_df['Variable'].str.endswith('|CH4')),'1750':'2500'].values.squeeze()\n",
    "\n",
    "cf4conc = ssp_df.loc[(ssp_df['Region']=='World')&(ssp_df['Scenario']=='ssp245')&(ssp_df['Variable'].str.endswith('|CF4')),'1750':'2500'].values.squeeze()\n",
    "halon1211conc = ssp_df.loc[(ssp_df['Region']=='World')&(ssp_df['Scenario']=='ssp245')&(ssp_df['Variable'].str.endswith('|Halon1211')),'1750':'2500'].values.squeeze()\n",
    "ch3brconc = ssp_df.loc[(ssp_df['Region']=='World')&(ssp_df['Scenario']=='ssp245')&(ssp_df['Variable'].str.endswith('|CH3Br')),'1750':'2500'].values.squeeze()\n",
    "ch3clconc = ssp_df.loc[(ssp_df['Region']=='World')&(ssp_df['Scenario']=='ssp245')&(ssp_df['Variable'].str.endswith('|CH3Cl')),'1750':'2500'].values.squeeze()\n",
    "\n",
    "ssp_df = pd.read_csv('../data_input_large/rcmip-emissions-annual-means-v5-1-0.csv')\n",
    "sspn2oemis = np.zeros(751)\n",
    "sspch4emis = np.zeros(751)\n",
    "sspcf4emis = np.zeros(751)\n",
    "ssphalon1211emis = np.zeros(751)\n",
    "sspch3bremis = np.zeros(751)\n",
    "sspch3clemis = np.zeros(751)\n",
    "\n",
    "years_future = [2015] + list(range(2020,2501,10))\n",
    "sspch4emis[:265] = ssp_df.loc[(ssp_df['Scenario']=='ssp245')&(ssp_df['Region']=='World')&(ssp_df['Variable'].str.endswith('|CH4')),'1750':'2014']\n",
    "f = interp1d(years_future, ssp_df.loc[(ssp_df['Scenario']=='ssp245')&(ssp_df['Region']=='World')&(ssp_df['Variable'].str.endswith('|CH4')),'2015':'2500'].dropna(axis=1))\n",
    "sspch4emis[265:] = f(np.arange(2015, 2501))\n",
    "sspn2oemis[:265] = ssp_df.loc[(ssp_df['Scenario']=='ssp245')&(ssp_df['Region']=='World')&(ssp_df['Variable'].str.endswith('|N2O')),'1750':'2014']*molwt.N2/molwt.N2O/1000\n",
    "f = interp1d(years_future, ssp_df.loc[(ssp_df['Scenario']=='ssp245')&(ssp_df['Region']=='World')&(ssp_df['Variable'].str.endswith('|N2O')),'2015':'2500'].dropna(axis=1))\n",
    "sspn2oemis[265:] = f(np.arange(2015, 2501))*molwt.N2/molwt.N2O/1000\n",
    "sspcf4emis[:265] = ssp_df.loc[(ssp_df['Scenario']=='ssp245')&(ssp_df['Region']=='World')&(ssp_df['Variable'].str.endswith('|CF4')),'1750':'2014']\n",
    "f = interp1d(years_future, ssp_df.loc[(ssp_df['Scenario']=='ssp245')&(ssp_df['Region']=='World')&(ssp_df['Variable'].str.endswith('|CF4')),'2015':'2500'].dropna(axis=1))\n",
    "sspcf4emis[265:] = f(np.arange(2015, 2501))\n",
    "ssphalon1211emis[:265] = ssp_df.loc[(ssp_df['Scenario']=='ssp245')&(ssp_df['Region']=='World')&(ssp_df['Variable'].str.endswith('|Halon1211')),'1750':'2014']\n",
    "f = interp1d(years_future, ssp_df.loc[(ssp_df['Scenario']=='ssp245')&(ssp_df['Region']=='World')&(ssp_df['Variable'].str.endswith('|Halon1211')),'2015':'2500'].dropna(axis=1))\n",
    "ssphalon1211emis[265:] = f(np.arange(2015, 2501))\n",
    "sspch3bremis[:265] = ssp_df.loc[(ssp_df['Scenario']=='ssp245')&(ssp_df['Region']=='World')&(ssp_df['Variable'].str.endswith('|CH3Br')),'1750':'2014']\n",
    "f = interp1d(years_future, ssp_df.loc[(ssp_df['Scenario']=='ssp245')&(ssp_df['Region']=='World')&(ssp_df['Variable'].str.endswith('|CH3Br')),'2015':'2500'].dropna(axis=1))\n",
    "sspch3bremis[265:] = f(np.arange(2015, 2501))\n",
    "sspch3clemis[:265] = ssp_df.loc[(ssp_df['Scenario']=='ssp245')&(ssp_df['Region']=='World')&(ssp_df['Variable'].str.endswith('|CH3Cl')),'1750':'2014']\n",
    "f = interp1d(years_future, ssp_df.loc[(ssp_df['Scenario']=='ssp245')&(ssp_df['Region']=='World')&(ssp_df['Variable'].str.endswith('|CH3Cl')),'2015':'2500'].dropna(axis=1))\n",
    "sspch3clemis[265:] = f(np.arange(2015, 2501))\n",
    "\n",
    "# any updates to these? chapter 6?\n",
    "tau_ch4 = 9.3\n",
    "tau_n2o = 121.0\n",
    "tau_cf4 = 50000\n",
    "tau_halon1211 = 16\n",
    "tau_ch3br = 0.8\n",
    "tau_ch3cl = 1\n",
    "\n",
    "solch4 = root(func_ch4, 150, args=(sspch4emis[0], sspch4emis[0], ch4conc[0], ch4conc[0], tau_ch4))\n",
    "soln2o = root(func_n2o, 8, args=(sspn2oemis[0], sspn2oemis[0], n2oconc[0], n2oconc[0], tau_n2o))\n",
    "#solcf4\n",
    "#solhalon1211\n",
    "#solch3br\n",
    "#solch3cl\n",
    "\n",
    "ch4emis = np.zeros(751)\n",
    "n2oemis  = np.zeros(751)\n",
    "ch4emis[0] = solch4.x\n",
    "n2oemis[0]  = soln2o.x\n",
    "\n",
    "for i in range(1,736):\n",
    "    solch4 = root(func_ch4, ch4emis[i-1], args=(sspch4emis[i], sspch4emis[i-1], ch4conc[i], ch4conc[i-1], tau_ch4))\n",
    "    ch4emis[i] = solch4.x\n",
    "    soln2o = root(func_n2o, n2oemis[i-1], args=(sspn2oemis[i], sspn2oemis[i-1], n2oconc[i], n2oconc[i-1], tau_n2o))\n",
    "    n2oemis[i] = soln2o.x\n",
    "#    print sol.x\n",
    "\n",
    "ch4emis[265:] = ch4emis[264]\n",
    "n2oemis[265:] = n2oemis[264]\n",
    "#np.savetxt('natural_fixed.txt', np.vstack([np.arange(1765,2501), ch4emis1, n2oemis]).T, fmt='%9.4f')"
   ]
  },
  {
   "cell_type": "code",
   "execution_count": 3,
   "metadata": {},
   "outputs": [
    {
     "data": {
      "text/plain": [
       "[<matplotlib.lines.Line2D at 0x7f86e41e0310>]"
      ]
     },
     "execution_count": 3,
     "metadata": {},
     "output_type": "execute_result"
    },
    {
     "data": {
      "image/png": "[encoded data removed]",
      "text/plain": [
       "<Figure size 432x288 with 1 Axes>"
      ]
     },
     "metadata": {
      "needs_background": "light"
     },
     "output_type": "display_data"
    }
   ],
   "source": [
    "fig, ax1 = pl.subplots()\n",
    "ax1.plot(np.arange(1750,2501), n2oemis)"
   ]
  },
  {
   "cell_type": "code",
   "execution_count": 4,
   "metadata": {},
   "outputs": [
    {
     "data": {
      "text/plain": [
       "[<matplotlib.lines.Line2D at 0x7f86e41b8cd0>]"
      ]
     },
     "execution_count": 4,
     "metadata": {},
     "output_type": "execute_result"
    },
    {
     "data": {
      "image/png": "[encoded data removed]",
      "text/plain": [
       "<Figure size 432x288 with 1 Axes>"
      ]
     },
     "metadata": {
      "needs_background": "light"
     },
     "output_type": "display_data"
    }
   ],
   "source": [
    "fig, ax1 = pl.subplots()\n",
    "ax1.plot(np.arange(1750,2501), ch4emis)"
   ]
  },
  {
   "cell_type": "code",
   "execution_count": 5,
   "metadata": {},
   "outputs": [],
   "source": [
    "df = pd.DataFrame({'year':np.arange(1750,2501),\n",
    "                   'CH4': ch4emis,\n",
    "                   'N2O': n2oemis})\n",
    "df.set_index('year', inplace=True)\n",
    "df\n",
    "df.to_csv('../data_output/fair_wg3_natural_ch4_n2o.csv')"
   ]
  },
  {
   "cell_type": "code",
   "execution_count": 6,
   "metadata": {},
   "outputs": [
    {
     "name": "stdout",
     "output_type": "stream",
     "text": [
      "[32.28077001]\n",
      "[0.00434894]\n",
      "[8.75191031]\n",
      "[755.7838942]\n"
     ]
    }
   ],
   "source": [
    "def emis_to_conc(c0, e0, ts, lt, vm):\n",
    "    \"\"\"Calculate concentrations of well mixed GHGs from emissions for simple\n",
    "    one-box model.\n",
    "    \n",
    "    Inputs (all can be scalar or 1D arrays for multiple species):\n",
    "        c0: concentrations in timestep t-1\n",
    "        e0: emissions in timestep t-1\n",
    "        e1: emissions in timestep t\n",
    "        ts: length of timestep. Use 1 for sensible results in FaIR 1.3.\n",
    "        lt: atmospheric (e-folding) lifetime of GHG\n",
    "        vm: conversion from emissions units (e.g. Mt) to concentrations units\n",
    "            (e.g. ppb)\n",
    "            \n",
    "    Outputs:\n",
    "        c1: concentrations in timestep t\n",
    "    \"\"\"\n",
    "    c1 = c0 - c0 * (1.0 - np.exp(-ts/lt)) + ts * e0 * vm\n",
    "    return c1 - c0\n",
    "\n",
    "c1 = cf4conc[0]\n",
    "\n",
    "solcf4 = root(emis_to_conc, cf4conc[0], args=(sspcf4emis[0], 1, tau_cf4, 1/(M_ATMOS/1e18*molwt.CF4/molwt.AIR)))\n",
    "solhalon1211 = root(emis_to_conc, halon1211conc[0], args=(ssphalon1211emis[0], 1, tau_halon1211, 1/(M_ATMOS/1e18*molwt.HALON1211/molwt.AIR)))\n",
    "solch3br = root(emis_to_conc, ch3brconc[0], args=(sspch3bremis[0], 1, tau_ch3br, 1/(M_ATMOS/1e18*molwt.CH3BR/molwt.AIR)))\n",
    "solch3cl = root(emis_to_conc, ch3clconc[0], args=(sspch3clemis[0], 1, tau_ch3cl, 1/(M_ATMOS/1e18*molwt.CH3CL/molwt.AIR)))\n",
    "\n",
    "print(solcf4.x)\n",
    "print(solhalon1211.x)\n",
    "print(solch3br.x)\n",
    "print(solch3cl.x)"
   ]
  }
 ],
 "metadata": {
  "kernelspec": {
   "display_name": "Python 3",
   "language": "python",
   "name": "python3"
  },
  "language_info": {
   "codemirror_mode": {
    "name": "ipython",
    "version": 3
   },
   "file_extension": ".py",
   "mimetype": "text/x-python",
   "name": "python",
   "nbconvert_exporter": "python",
   "pygments_lexer": "ipython3",
   "version": "3.7.10"
  }
 },
 "nbformat": 4,
 "nbformat_minor": 4
}
