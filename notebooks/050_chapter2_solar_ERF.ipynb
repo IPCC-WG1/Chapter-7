{
 "cells": [
  {
   "cell_type": "markdown",
   "metadata": {},
   "source": [
    "# Solar forcing"
   ]
  },
  {
   "cell_type": "code",
   "execution_count": 1,
   "metadata": {},
   "outputs": [],
   "source": [
    "import numpy as np\n",
    "from netCDF4 import Dataset\n",
    "import matplotlib.pyplot as pl\n",
    "from ar6.utils import check_and_download\n",
    "import pandas as pd"
   ]
  },
  {
   "cell_type": "code",
   "execution_count": 2,
   "metadata": {},
   "outputs": [],
   "source": [
    "check_and_download(\n",
    "    '../data_input_large/SSI_14C_cycle_yearly_cmip_v20160613_fc.nc',\n",
    "    'https://sharebox.lsce.ipsl.fr/index.php/s/LpiCUCkSmx0P6bb/download?path=%2F&files=SSI_14C_cycle_yearly_cmip_v20160613_fc.nc'\n",
    ")\n",
    "\n",
    "check_and_download(\n",
    "    '../data_input_large/solarforcing-ref-mon_input4MIPs_solar_CMIP_SOLARIS-HEPPA-3-2_gn_185001-229912.nc',\n",
    "    'http://aims3.llnl.gov/thredds/fileServer/user_pub_work/input4MIPs/CMIP6/CMIP/SOLARIS-HEPPA/SOLARIS-HEPPA-3-2/atmos/mon/multiple/gm/v20170103/solarforcing-ref-mon_input4MIPs_solar_CMIP_SOLARIS-HEPPA-3-2_gn_185001-229912.nc'\n",
    ")"
   ]
  },
  {
   "cell_type": "code",
   "execution_count": 3,
   "metadata": {},
   "outputs": [],
   "source": [
    "solar_df = pd.DataFrame(index=np.arange(-6755,2300))\n",
    "solar_df.index.name = 'Year'\n",
    "#solar_df"
   ]
  },
  {
   "cell_type": "markdown",
   "metadata": {},
   "source": [
    "## AR5\n",
    "\n",
    "First, figure out where the AR5 forcing value comes from. Seems to be based on 7-year averages around 1745 and 2008 solar minima. The assessment value is 0.05 (0.00 - 0.10 W m-2)"
   ]
  },
  {
   "cell_type": "code",
   "execution_count": 4,
   "metadata": {},
   "outputs": [],
   "source": [
    "ar5_df = pd.read_csv('../data_input/AR5/solar_TSI_AR5.csv', index_col=0)\n",
    "#ar5_df\n",
    "solar_df = solar_df.join(ar5_df)\n",
    "solar_df.rename(columns={'TSI': 'AR5'}, inplace=True)"
   ]
  },
  {
   "cell_type": "code",
   "execution_count": 5,
   "metadata": {},
   "outputs": [
    {
     "data": {
      "text/plain": [
       "0.0485549999999514"
      ]
     },
     "execution_count": 5,
     "metadata": {},
     "output_type": "execute_result"
    }
   ],
   "source": [
    "solmin_1745=ar5_df.loc[1742:1748,'TSI'].mean()\n",
    "solmin_2008=ar5_df.loc[2005:2011,'TSI'].mean()\n",
    "0.25 * 0.70 * 0.78 * (solmin_2008-solmin_1745)   # correct!"
   ]
  },
  {
   "cell_type": "markdown",
   "metadata": {},
   "source": [
    "## AR6\n",
    "\n",
    "Decision made 13.01.2021: the reference period for pre-industrial forcing is all complete solar cycles up to and including 1755. But first, we will apply the AR5 method to both the 2008 and 2019 solar minima (2019 from a projection)\n",
    "\n",
    "Here are the datasets:\n",
    "\n",
    "- SATIRE-M 14C (Vieira et al 2011, recommended for PMIP4 last-1000 https://pmip4.lsce.ipsl.fr/doku.php/data:solar_satire) + CMIP6\n",
    "- SATIRE-M 10Be (Vieira et al 2011)\n",
    "- PMOD 14C (Shapiro et al 2011) - can use for recent trends but not assessment?\n",
    "- Matthes et al 2017 CMIP6 (1850-2299) which is an average of (NRLTSI2–NRLSSI2) and SATIRE. SATIRE is SATIRE-T up to 1974 and SATIRE-S then onwards.\n",
    "- NRLTSI2–NRLSSI2 Lean et al 2018\n",
    "- Wu et al 2018"
   ]
  },
  {
   "cell_type": "markdown",
   "metadata": {},
   "source": [
    "### PMIP4/CMIP6 14C SATIRE-M\n",
    "\n",
    "14C SATIRE-M rescaled + arithmetic mean of (NRLTSI2–NRLSSI2) and SATIRE. SATIRE is SATIRE-T up to 1974 and SATIRE-S\n",
    "\n",
    "I've checked that PMIP4 compares well to CMIP6 in the overlapping period."
   ]
  },
  {
   "cell_type": "code",
   "execution_count": 6,
   "metadata": {},
   "outputs": [],
   "source": [
    "nc = Dataset('../data_input_large/SSI_14C_cycle_yearly_cmip_v20160613_fc.nc')\n",
    "wl_bin = nc.variables['wavelength_bin'][:]\n",
    "time   = nc.variables['time'][:]\n",
    "ssi    = nc.variables['ssi'][:]\n",
    "nc.close()"
   ]
  },
  {
   "cell_type": "code",
   "execution_count": 7,
   "metadata": {},
   "outputs": [],
   "source": [
    "nc_future = Dataset('../data_input_large/solarforcing-ref-mon_input4MIPs_solar_CMIP_SOLARIS-HEPPA-3-2_gn_18500101-22991231.nc')\n",
    "tsi_future = nc_future.variables['tsi'][:]\n",
    "nc_future.close()"
   ]
  },
  {
   "cell_type": "code",
   "execution_count": 8,
   "metadata": {},
   "outputs": [
    {
     "name": "stdout",
     "output_type": "stream",
     "text": [
      "[ 8605  8970  9335  9701 10066 10431 10796 11162 11527 11892] [ 8970  9335  9701 10066 10431 10796 11162 11527 11892 12257]\n"
     ]
    }
   ],
   "source": [
    "years = np.arange(1850, 2016, dtype=int)\n",
    "steps = np.ones(166, dtype=int) * 365\n",
    "steps[np.logical_and(years%4==0, np.logical_or(years%100!=0, years%400==0))] = 366\n",
    "idx_1850 = np.argmin(time<1850)\n",
    "idx_yearend = idx_1850+np.cumsum(steps)\n",
    "idx_yearstart = np.insert(idx_yearend, 0, [idx_1850])[:-1] \n",
    "print (idx_yearstart[:10], idx_yearend[:10])\n",
    "years_future = np.arange(2016, 2300)\n",
    "isleap = np.zeros(284)\n",
    "isleap[np.logical_and(years_future%4==0, np.logical_or(years_future%100!=0, years_future%400==0))] = 1"
   ]
  },
  {
   "cell_type": "code",
   "execution_count": 9,
   "metadata": {},
   "outputs": [],
   "source": [
    "years = np.arange(-6755, 2300)\n",
    "iyear = 0\n",
    "tsi = np.ones(2300+6755) * np.nan\n",
    "for idx in range(idx_1850):\n",
    "    tsi[iyear] = np.sum(ssi[idx,:]*wl_bin)\n",
    "    iyear = iyear+1\n",
    "for i, idx in enumerate(idx_yearstart):\n",
    "    tsi[iyear] = np.sum(np.mean(ssi[idx_yearstart[i]:idx_yearend[i],:], axis=0)*wl_bin)\n",
    "    iyear = iyear+1\n",
    "for i, year in enumerate(years_future):\n",
    "    weights = [31,28+isleap[i],31,30,31,30,31,31,30,31,30,31]\n",
    "    tsi[iyear] = np.average(tsi_future[(166+i)*12:(167+i)*12], weights=weights)\n",
    "    iyear = iyear+1\n",
    "    #print (np.mean(ssi[idx_yearstart[i]:idx_yearend[i]]))"
   ]
  },
  {
   "cell_type": "code",
   "execution_count": 10,
   "metadata": {},
   "outputs": [],
   "source": [
    "satirem14c_cmip6_df = pd.DataFrame({'Year': years, 'TSI': tsi})\n",
    "satirem14c_cmip6_df.set_index('Year', inplace=True)\n",
    "satirem14c_cmip6_df\n",
    "solar_df = solar_df.join(satirem14c_cmip6_df)\n",
    "solar_df.rename(columns={'TSI': 'SATIRE-M 14C CMIP6'}, inplace=True)"
   ]
  },
  {
   "cell_type": "code",
   "execution_count": 11,
   "metadata": {},
   "outputs": [
    {
     "data": {
      "text/plain": [
       "AR5                   1360.800000\n",
       "SATIRE-M 14C CMIP6    1360.518066\n",
       "Name: 1900, dtype: float64"
      ]
     },
     "execution_count": 11,
     "metadata": {},
     "output_type": "execute_result"
    }
   ],
   "source": [
    "solar_df.loc[1900]"
   ]
  },
  {
   "cell_type": "markdown",
   "metadata": {},
   "source": [
    "### 14C SATIRE-M unscaled"
   ]
  },
  {
   "cell_type": "code",
   "execution_count": 12,
   "metadata": {},
   "outputs": [],
   "source": [
    "check_and_download(\n",
    "    '../data_input_large/SSI_14C_cycle_yearly_cmip_v20160613_nfc.nc',\n",
    "    'https://sharebox.lsce.ipsl.fr/index.php/s/LpiCUCkSmx0P6bb/download?path=%2F&files=SSI_14C_cycle_yearly_cmip_v20160613_nfc.nc'\n",
    ")"
   ]
  },
  {
   "cell_type": "code",
   "execution_count": 13,
   "metadata": {},
   "outputs": [],
   "source": [
    "nc = Dataset('../data_input_large/SSI_14C_cycle_yearly_cmip_v20160613_nfc.nc')\n",
    "wl_bin = nc.variables['wavelength_bin'][:]\n",
    "time   = nc.variables['time'][:]\n",
    "ssi    = nc.variables['ssi'][:]\n",
    "nc.close()"
   ]
  },
  {
   "cell_type": "code",
   "execution_count": 14,
   "metadata": {},
   "outputs": [
    {
     "name": "stdout",
     "output_type": "stream",
     "text": [
      "[ 8605  8970  9335  9701 10066 10431 10796 11162 11527 11892] [ 8970  9335  9701 10066 10431 10796 11162 11527 11892 12257]\n"
     ]
    }
   ],
   "source": [
    "years = np.arange(1850, 2016, dtype=int)\n",
    "steps = np.ones(166, dtype=int) * 365\n",
    "steps[np.logical_and(years%4==0, np.logical_or(years%100!=0, years%400==0))] = 366\n",
    "idx_1850 = np.argmin(time<1850)\n",
    "idx_yearend = idx_1850+np.cumsum(steps)\n",
    "idx_yearstart = np.insert(idx_yearend, 0, [idx_1850])[:-1] \n",
    "print (idx_yearstart[:10], idx_yearend[:10])"
   ]
  },
  {
   "cell_type": "code",
   "execution_count": 15,
   "metadata": {},
   "outputs": [],
   "source": [
    "years = np.arange(-6755, 2016)\n",
    "iyear = 0\n",
    "tsi = np.ones(2016+6755) * np.nan\n",
    "for idx in range(idx_1850):\n",
    "    tsi[iyear] = np.sum(ssi[idx,:]*wl_bin)\n",
    "    iyear = iyear+1\n",
    "for i, idx in enumerate(idx_yearstart):\n",
    "    tsi[iyear] = np.sum(np.mean(ssi[idx_yearstart[i]:idx_yearend[i],:], axis=0)*wl_bin)\n",
    "    iyear = iyear+1"
   ]
  },
  {
   "cell_type": "code",
   "execution_count": 16,
   "metadata": {},
   "outputs": [],
   "source": [
    "satirem14c_df = pd.DataFrame({'Year': years, 'TSI': tsi})\n",
    "satirem14c_df.set_index('Year', inplace=True)\n",
    "satirem14c_df\n",
    "solar_df = solar_df.join(satirem14c_df)\n",
    "solar_df.rename(columns={'TSI': 'SATIRE-M 14C'}, inplace=True)"
   ]
  },
  {
   "cell_type": "markdown",
   "metadata": {},
   "source": [
    "### PMIP4/CMIP6 10Be SATIRE-M"
   ]
  },
  {
   "cell_type": "code",
   "execution_count": 17,
   "metadata": {},
   "outputs": [],
   "source": [
    "check_and_download(\n",
    "    '../data_input_large/SSI_10Be_cycle_yearly_cmip_v20160613_fc.nc',\n",
    "    'https://sharebox.lsce.ipsl.fr/index.php/s/LpiCUCkSmx0P6bb/download?path=%2F&files=SSI_10Be_cycle_yearly_cmip_v20160613_fc.nc'\n",
    ")"
   ]
  },
  {
   "cell_type": "code",
   "execution_count": 18,
   "metadata": {},
   "outputs": [],
   "source": [
    "nc = Dataset('../data_input_large/SSI_10Be_cycle_yearly_cmip_v20160613_fc.nc')\n",
    "wl_bin = nc.variables['wavelength_bin'][:]\n",
    "time   = nc.variables['time'][:]\n",
    "ssi    = nc.variables['ssi'][:]\n",
    "nc.close()"
   ]
  },
  {
   "cell_type": "code",
   "execution_count": 19,
   "metadata": {},
   "outputs": [
    {
     "name": "stdout",
     "output_type": "stream",
     "text": [
      "[ 965 1330 1695 2061 2426 2791 3156 3522 3887 4252] [1330 1695 2061 2426 2791 3156 3522 3887 4252 4617]\n"
     ]
    }
   ],
   "source": [
    "years = np.arange(1850, 2016, dtype=int)\n",
    "steps = np.ones(166, dtype=int) * 365\n",
    "steps[np.logical_and(years%4==0, np.logical_or(years%100!=0, years%400==0))] = 366\n",
    "idx_1850 = np.argmin(time<1850)\n",
    "idx_yearend = idx_1850+np.cumsum(steps)\n",
    "idx_yearstart = np.insert(idx_yearend, 0, [idx_1850])[:-1] \n",
    "print (idx_yearstart[:10], idx_yearend[:10])\n",
    "years_future = np.arange(2016, 2300)\n",
    "isleap = np.zeros(284)\n",
    "isleap[np.logical_and(years_future%4==0, np.logical_or(years_future%100!=0, years_future%400==0))] = 1"
   ]
  },
  {
   "cell_type": "code",
   "execution_count": 20,
   "metadata": {},
   "outputs": [],
   "source": [
    "years = np.arange(885, 2300)\n",
    "iyear = 0\n",
    "tsi = np.ones(2300-885) * np.nan\n",
    "for idx in range(idx_1850):\n",
    "    tsi[iyear] = np.sum(ssi[idx,:]*wl_bin)\n",
    "    iyear = iyear+1\n",
    "for i, idx in enumerate(idx_yearstart):\n",
    "    tsi[iyear] = np.sum(np.mean(ssi[idx_yearstart[i]:idx_yearend[i],:], axis=0)*wl_bin)\n",
    "    iyear = iyear+1\n",
    "for i, year in enumerate(years_future):\n",
    "    weights = [31,28+isleap[i],31,30,31,30,31,31,30,31,30,31]\n",
    "    tsi[iyear] = np.average(tsi_future[(166+i)*12:(167+i)*12], weights=weights)\n",
    "    iyear = iyear+1\n",
    "    #print (np.mean(ssi[idx_yearstart[i]:idx_yearend[i]]))"
   ]
  },
  {
   "cell_type": "code",
   "execution_count": 21,
   "metadata": {},
   "outputs": [],
   "source": [
    "satirem10be_cmip6_df = pd.DataFrame({'Year': years, 'TSI': tsi})\n",
    "satirem10be_cmip6_df.set_index('Year', inplace=True)\n",
    "satirem10be_cmip6_df\n",
    "solar_df = solar_df.join(satirem10be_cmip6_df)\n",
    "solar_df.rename(columns={'TSI': 'SATIRE-M 10Be CMIP6'}, inplace=True)"
   ]
  },
  {
   "cell_type": "markdown",
   "metadata": {},
   "source": [
    "### 10Be SATIRE-M"
   ]
  },
  {
   "cell_type": "code",
   "execution_count": 22,
   "metadata": {},
   "outputs": [],
   "source": [
    "check_and_download(\n",
    "    '../data_input_large/SSI_10Be_cycle_yearly_cmip_v20160613_nfc.nc',\n",
    "    'https://sharebox.lsce.ipsl.fr/index.php/s/LpiCUCkSmx0P6bb/download?path=%2F&files=SSI_10Be_cycle_yearly_cmip_v20160613_nfc.nc'\n",
    ")"
   ]
  },
  {
   "cell_type": "code",
   "execution_count": 23,
   "metadata": {},
   "outputs": [],
   "source": [
    "nc = Dataset('../data_input_large/SSI_10Be_cycle_yearly_cmip_v20160613_nfc.nc')\n",
    "wl_bin = nc.variables['wavelength_bin'][:]\n",
    "time   = nc.variables['time'][:]\n",
    "ssi    = nc.variables['ssi'][:]\n",
    "#print(time[:1000])\n",
    "nc.close()"
   ]
  },
  {
   "cell_type": "code",
   "execution_count": 24,
   "metadata": {},
   "outputs": [
    {
     "name": "stdout",
     "output_type": "stream",
     "text": [
      "[ 965 1330 1695 2061 2426 2791 3156 3522 3887 4252] [1330 1695 2061 2426 2791 3156 3522 3887 4252 4617]\n"
     ]
    }
   ],
   "source": [
    "years = np.arange(1850, 2016, dtype=int)\n",
    "steps = np.ones(166, dtype=int) * 365\n",
    "steps[np.logical_and(years%4==0, np.logical_or(years%100!=0, years%400==0))] = 366\n",
    "idx_1850 = np.argmin(time<1850)\n",
    "idx_yearend = idx_1850+np.cumsum(steps)\n",
    "idx_yearstart = np.insert(idx_yearend, 0, [idx_1850])[:-1] \n",
    "print (idx_yearstart[:10], idx_yearend[:10])"
   ]
  },
  {
   "cell_type": "code",
   "execution_count": 25,
   "metadata": {},
   "outputs": [],
   "source": [
    "years = np.arange(-6755, 2016)\n",
    "iyear = 0\n",
    "tsi = np.ones(2016+6755) * np.nan\n",
    "for idx in range(idx_1850):\n",
    "    tsi[iyear] = np.sum(ssi[idx,:]*wl_bin)\n",
    "    iyear = iyear+1\n",
    "for i, idx in enumerate(idx_yearstart):\n",
    "    tsi[iyear] = np.sum(np.mean(ssi[idx_yearstart[i]:idx_yearend[i],:], axis=0)*wl_bin)\n",
    "    iyear = iyear+1"
   ]
  },
  {
   "cell_type": "code",
   "execution_count": 26,
   "metadata": {},
   "outputs": [],
   "source": [
    "satirem10be_df = pd.DataFrame({'Year': years, 'TSI': tsi})\n",
    "satirem10be_df.set_index('Year', inplace=True)\n",
    "satirem10be_df\n",
    "solar_df = solar_df.join(satirem10be_df)\n",
    "solar_df.rename(columns={'TSI': 'SATIRE-M 10Be'}, inplace=True)"
   ]
  },
  {
   "cell_type": "markdown",
   "metadata": {},
   "source": [
    "### Lean 2018"
   ]
  },
  {
   "cell_type": "code",
   "execution_count": 27,
   "metadata": {},
   "outputs": [
    {
     "data": {
      "image/png": "[encoded data removed]",
      "text/plain": [
       "<Figure size 432x288 with 1 Axes>"
      ]
     },
     "metadata": {
      "needs_background": "light"
     },
     "output_type": "display_data"
    }
   ],
   "source": [
    "lean = np.loadtxt('../data_input/Lean_2018_ESS/Lean_2018_TSI.txt', skiprows=8)\n",
    "pl.fill_between(lean[:,0], lean[:,1]-lean[:,3], lean[:,1]+lean[:,3])\n",
    "pl.plot(lean[:,0], lean[:,1], color='k')\n",
    "\n",
    "years = lean[:,0].astype(int)\n",
    "lean_df = pd.DataFrame({'Year': years, 'TSI': lean[:,1]})\n",
    "lean_df.set_index('Year', inplace=True)\n",
    "solar_df = solar_df.join(lean_df)\n",
    "solar_df.rename(columns={'TSI': 'NRLTSI2'}, inplace=True)"
   ]
  },
  {
   "cell_type": "markdown",
   "metadata": {},
   "source": [
    "## Comparison plots"
   ]
  },
  {
   "cell_type": "code",
   "execution_count": 28,
   "metadata": {},
   "outputs": [
    {
     "data": {
      "text/plain": [
       "AR5                            NaN\n",
       "SATIRE-M 14C CMIP6     1360.316528\n",
       "SATIRE-M 14C           1360.315186\n",
       "SATIRE-M 10Be CMIP6    1360.803955\n",
       "SATIRE-M 10Be                  NaN\n",
       "NRLTSI2                1360.147100\n",
       "Name: 1700, dtype: float64"
      ]
     },
     "execution_count": 28,
     "metadata": {},
     "output_type": "execute_result"
    }
   ],
   "source": [
    "solar_df.loc[1700]"
   ]
  },
  {
   "cell_type": "code",
   "execution_count": 29,
   "metadata": {},
   "outputs": [
    {
     "data": {
      "text/plain": [
       "(1700.0, 2020.0)"
      ]
     },
     "execution_count": 29,
     "metadata": {},
     "output_type": "execute_result"
    },
    {
     "data": {
      "image/png": "[encoded data removed]",
      "text/plain": [
       "<Figure size 432x288 with 1 Axes>"
      ]
     },
     "metadata": {
      "needs_background": "light"
     },
     "output_type": "display_data"
    }
   ],
   "source": [
    "solar_df.plot()\n",
    "pl.xlim(1700,2020)\n",
    "#pl.legend()"
   ]
  },
  {
   "cell_type": "markdown",
   "metadata": {},
   "source": [
    "### AR6 TSI, AR5 method\n",
    "\n",
    "Note that in AR6, we use 0.71 as the co-albedo and 0.72 as the IRF to ERF. These changes make little difference."
   ]
  },
  {
   "cell_type": "code",
   "execution_count": 30,
   "metadata": {},
   "outputs": [
    {
     "data": {
      "text/plain": [
       "-0.009869018554683065"
      ]
     },
     "execution_count": 30,
     "metadata": {},
     "output_type": "execute_result"
    }
   ],
   "source": [
    "solmin_1745=satirem14c_cmip6_df.loc[1742:1748,'TSI'].mean()\n",
    "solmin_2008=satirem14c_cmip6_df.loc[2005:2011,'TSI'].mean()\n",
    "solmin_2019=satirem14c_cmip6_df.loc[2016:2022,'TSI'].mean()\n",
    "0.25 * 0.70 * 0.78 * (solmin_2008-solmin_1745)"
   ]
  },
  {
   "cell_type": "markdown",
   "metadata": {},
   "source": [
    "### AR6 TSI, AR5 method, 2019 minimum"
   ]
  },
  {
   "cell_type": "code",
   "execution_count": 31,
   "metadata": {},
   "outputs": [
    {
     "data": {
      "text/plain": [
       "0.0034821642444376262"
      ]
     },
     "execution_count": 31,
     "metadata": {},
     "output_type": "execute_result"
    }
   ],
   "source": [
    "0.25 * 0.70 * 0.78 * (solmin_2019-solmin_1745)"
   ]
  },
  {
   "cell_type": "markdown",
   "metadata": {},
   "source": [
    "### AR6 method\n",
    "\n",
    "Baseline solar forcing is all complete historical solar cycles up until 1745, and present-day solar forcing is the 2009-19 cycle relative to this."
   ]
  },
  {
   "cell_type": "code",
   "execution_count": 32,
   "metadata": {},
   "outputs": [
    {
     "data": {
      "text/html": [
       "<div>\n",
       "<style scoped>\n",
       "    .dataframe tbody tr th:only-of-type {\n",
       "        vertical-align: middle;\n",
       "    }\n",
       "\n",
       "    .dataframe tbody tr th {\n",
       "        vertical-align: top;\n",
       "    }\n",
       "\n",
       "    .dataframe thead th {\n",
       "        text-align: right;\n",
       "    }\n",
       "</style>\n",
       "<table border=\"1\" class=\"dataframe\">\n",
       "  <thead>\n",
       "    <tr style=\"text-align: right;\">\n",
       "      <th></th>\n",
       "      <th>TSI</th>\n",
       "    </tr>\n",
       "    <tr>\n",
       "      <th>Year</th>\n",
       "      <th></th>\n",
       "    </tr>\n",
       "  </thead>\n",
       "  <tbody>\n",
       "    <tr>\n",
       "      <th>-6755</th>\n",
       "      <td>1360.273071</td>\n",
       "    </tr>\n",
       "    <tr>\n",
       "      <th>-6754</th>\n",
       "      <td>1360.252930</td>\n",
       "    </tr>\n",
       "    <tr>\n",
       "      <th>-6753</th>\n",
       "      <td>1360.286377</td>\n",
       "    </tr>\n",
       "    <tr>\n",
       "      <th>-6752</th>\n",
       "      <td>1360.297974</td>\n",
       "    </tr>\n",
       "    <tr>\n",
       "      <th>-6751</th>\n",
       "      <td>1360.318604</td>\n",
       "    </tr>\n",
       "    <tr>\n",
       "      <th>-6750</th>\n",
       "      <td>1360.335449</td>\n",
       "    </tr>\n",
       "    <tr>\n",
       "      <th>-6749</th>\n",
       "      <td>1360.353882</td>\n",
       "    </tr>\n",
       "    <tr>\n",
       "      <th>-6748</th>\n",
       "      <td>1360.371704</td>\n",
       "    </tr>\n",
       "    <tr>\n",
       "      <th>-6747</th>\n",
       "      <td>1360.407227</td>\n",
       "    </tr>\n",
       "    <tr>\n",
       "      <th>-6746</th>\n",
       "      <td>1360.580322</td>\n",
       "    </tr>\n",
       "    <tr>\n",
       "      <th>-6745</th>\n",
       "      <td>1361.010132</td>\n",
       "    </tr>\n",
       "    <tr>\n",
       "      <th>-6744</th>\n",
       "      <td>1361.390503</td>\n",
       "    </tr>\n",
       "  </tbody>\n",
       "</table>\n",
       "</div>"
      ],
      "text/plain": [
       "               TSI\n",
       "Year              \n",
       "-6755  1360.273071\n",
       "-6754  1360.252930\n",
       "-6753  1360.286377\n",
       "-6752  1360.297974\n",
       "-6751  1360.318604\n",
       "-6750  1360.335449\n",
       "-6749  1360.353882\n",
       "-6748  1360.371704\n",
       "-6747  1360.407227\n",
       "-6746  1360.580322\n",
       "-6745  1361.010132\n",
       "-6744  1361.390503"
      ]
     },
     "execution_count": 32,
     "metadata": {},
     "output_type": "execute_result"
    }
   ],
   "source": [
    "# first, find first minimum. Clearly -6754.\n",
    "satirem14c_cmip6_df.iloc[:12]"
   ]
  },
  {
   "cell_type": "code",
   "execution_count": 33,
   "metadata": {},
   "outputs": [
    {
     "data": {
      "text/html": [
       "<div>\n",
       "<style scoped>\n",
       "    .dataframe tbody tr th:only-of-type {\n",
       "        vertical-align: middle;\n",
       "    }\n",
       "\n",
       "    .dataframe tbody tr th {\n",
       "        vertical-align: top;\n",
       "    }\n",
       "\n",
       "    .dataframe thead th {\n",
       "        text-align: right;\n",
       "    }\n",
       "</style>\n",
       "<table border=\"1\" class=\"dataframe\">\n",
       "  <thead>\n",
       "    <tr style=\"text-align: right;\">\n",
       "      <th></th>\n",
       "      <th>TSI</th>\n",
       "    </tr>\n",
       "    <tr>\n",
       "      <th>Year</th>\n",
       "      <th></th>\n",
       "    </tr>\n",
       "  </thead>\n",
       "  <tbody>\n",
       "    <tr>\n",
       "      <th>1740</th>\n",
       "      <td>1361.481812</td>\n",
       "    </tr>\n",
       "    <tr>\n",
       "      <th>1741</th>\n",
       "      <td>1361.273926</td>\n",
       "    </tr>\n",
       "    <tr>\n",
       "      <th>1742</th>\n",
       "      <td>1360.990479</td>\n",
       "    </tr>\n",
       "    <tr>\n",
       "      <th>1743</th>\n",
       "      <td>1360.707764</td>\n",
       "    </tr>\n",
       "    <tr>\n",
       "      <th>1744</th>\n",
       "      <td>1360.490723</td>\n",
       "    </tr>\n",
       "    <tr>\n",
       "      <th>1745</th>\n",
       "      <td>1360.401245</td>\n",
       "    </tr>\n",
       "    <tr>\n",
       "      <th>1746</th>\n",
       "      <td>1360.523071</td>\n",
       "    </tr>\n",
       "    <tr>\n",
       "      <th>1747</th>\n",
       "      <td>1360.939331</td>\n",
       "    </tr>\n",
       "    <tr>\n",
       "      <th>1748</th>\n",
       "      <td>1361.382812</td>\n",
       "    </tr>\n",
       "    <tr>\n",
       "      <th>1749</th>\n",
       "      <td>1361.607666</td>\n",
       "    </tr>\n",
       "    <tr>\n",
       "      <th>1750</th>\n",
       "      <td>1361.573120</td>\n",
       "    </tr>\n",
       "  </tbody>\n",
       "</table>\n",
       "</div>"
      ],
      "text/plain": [
       "              TSI\n",
       "Year             \n",
       "1740  1361.481812\n",
       "1741  1361.273926\n",
       "1742  1360.990479\n",
       "1743  1360.707764\n",
       "1744  1360.490723\n",
       "1745  1360.401245\n",
       "1746  1360.523071\n",
       "1747  1360.939331\n",
       "1748  1361.382812\n",
       "1749  1361.607666\n",
       "1750  1361.573120"
      ]
     },
     "execution_count": 33,
     "metadata": {},
     "output_type": "execute_result"
    }
   ],
   "source": [
    "# the cycle before 1750 ended 1744\n",
    "satirem14c_cmip6_df.loc[1740:1750]"
   ]
  },
  {
   "cell_type": "code",
   "execution_count": 34,
   "metadata": {},
   "outputs": [
    {
     "data": {
      "text/plain": [
       "TSI    1360.809503\n",
       "dtype: float64"
      ]
     },
     "execution_count": 34,
     "metadata": {},
     "output_type": "execute_result"
    }
   ],
   "source": [
    "tsi_baseline = satirem14c_cmip6_df.loc[-6744:1744].mean()\n",
    "tsi_baseline"
   ]
  },
  {
   "cell_type": "code",
   "execution_count": 35,
   "metadata": {},
   "outputs": [],
   "source": [
    "solar_erf = 0.25 * (satirem14c_cmip6_df-tsi_baseline) * 0.71 * 0.72\n",
    "# 0.25: geometry\n",
    "# 0.71: 1-planetary albedo\n",
    "# 0.72: stratospheric adjustments (22%: Gray) and tropospheric adjustments (6%: Smith)"
   ]
  },
  {
   "cell_type": "code",
   "execution_count": 36,
   "metadata": {},
   "outputs": [
    {
     "data": {
      "text/plain": [
       "<matplotlib.lines.Line2D at 0x7efaeb248d90>"
      ]
     },
     "execution_count": 36,
     "metadata": {},
     "output_type": "execute_result"
    },
    {
     "data": {
      "image/png": "[encoded data removed]",
      "text/plain": [
       "<Figure size 432x288 with 1 Axes>"
      ]
     },
     "metadata": {
      "needs_background": "light"
     },
     "output_type": "display_data"
    }
   ],
   "source": [
    "pl.plot(solar_erf.loc[1700:2100])\n",
    "pl.axhline(0, color='k', ls=':')"
   ]
  },
  {
   "cell_type": "markdown",
   "metadata": {},
   "source": [
    "## Assessment\n",
    "\n",
    "2009-19 minus pre-1745"
   ]
  },
  {
   "cell_type": "code",
   "execution_count": 37,
   "metadata": {},
   "outputs": [
    {
     "name": "stdout",
     "output_type": "stream",
     "text": [
      "TSI    0.008964\n",
      "dtype: float64\n"
     ]
    }
   ],
   "source": [
    "print(solar_erf.loc[2009:2019].mean())"
   ]
  },
  {
   "cell_type": "markdown",
   "metadata": {},
   "source": [
    "2019 point value (for Annex V)"
   ]
  },
  {
   "cell_type": "code",
   "execution_count": 38,
   "metadata": {},
   "outputs": [
    {
     "data": {
      "text/plain": [
       "TSI   -0.022173\n",
       "Name: 2019, dtype: float64"
      ]
     },
     "execution_count": 38,
     "metadata": {},
     "output_type": "execute_result"
    }
   ],
   "source": [
    "solar_erf.loc[2019]"
   ]
  },
  {
   "cell_type": "code",
   "execution_count": 39,
   "metadata": {},
   "outputs": [
    {
     "data": {
      "text/html": [
       "<div>\n",
       "<style scoped>\n",
       "    .dataframe tbody tr th:only-of-type {\n",
       "        vertical-align: middle;\n",
       "    }\n",
       "\n",
       "    .dataframe tbody tr th {\n",
       "        vertical-align: top;\n",
       "    }\n",
       "\n",
       "    .dataframe thead th {\n",
       "        text-align: right;\n",
       "    }\n",
       "</style>\n",
       "<table border=\"1\" class=\"dataframe\">\n",
       "  <thead>\n",
       "    <tr style=\"text-align: right;\">\n",
       "      <th></th>\n",
       "      <th>solar_erf</th>\n",
       "    </tr>\n",
       "    <tr>\n",
       "      <th>year</th>\n",
       "      <th></th>\n",
       "    </tr>\n",
       "  </thead>\n",
       "  <tbody>\n",
       "    <tr>\n",
       "      <th>-6755</th>\n",
       "      <td>-0.068556</td>\n",
       "    </tr>\n",
       "    <tr>\n",
       "      <th>-6754</th>\n",
       "      <td>-0.071130</td>\n",
       "    </tr>\n",
       "    <tr>\n",
       "      <th>-6753</th>\n",
       "      <td>-0.066856</td>\n",
       "    </tr>\n",
       "    <tr>\n",
       "      <th>-6752</th>\n",
       "      <td>-0.065373</td>\n",
       "    </tr>\n",
       "    <tr>\n",
       "      <th>-6751</th>\n",
       "      <td>-0.062737</td>\n",
       "    </tr>\n",
       "    <tr>\n",
       "      <th>...</th>\n",
       "      <td>...</td>\n",
       "    </tr>\n",
       "    <tr>\n",
       "      <th>2295</th>\n",
       "      <td>-0.004252</td>\n",
       "    </tr>\n",
       "    <tr>\n",
       "      <th>2296</th>\n",
       "      <td>0.019050</td>\n",
       "    </tr>\n",
       "    <tr>\n",
       "      <th>2297</th>\n",
       "      <td>0.044084</td>\n",
       "    </tr>\n",
       "    <tr>\n",
       "      <th>2298</th>\n",
       "      <td>0.044732</td>\n",
       "    </tr>\n",
       "    <tr>\n",
       "      <th>2299</th>\n",
       "      <td>0.025649</td>\n",
       "    </tr>\n",
       "  </tbody>\n",
       "</table>\n",
       "<p>9055 rows × 1 columns</p>\n",
       "</div>"
      ],
      "text/plain": [
       "       solar_erf\n",
       "year            \n",
       "-6755  -0.068556\n",
       "-6754  -0.071130\n",
       "-6753  -0.066856\n",
       "-6752  -0.065373\n",
       "-6751  -0.062737\n",
       "...          ...\n",
       " 2295  -0.004252\n",
       " 2296   0.019050\n",
       " 2297   0.044084\n",
       " 2298   0.044732\n",
       " 2299   0.025649\n",
       "\n",
       "[9055 rows x 1 columns]"
      ]
     },
     "execution_count": 39,
     "metadata": {},
     "output_type": "execute_result"
    }
   ],
   "source": [
    "#df = pd.DataFrame(data=solar_erf, index=years, columns=['solar_erf'])\n",
    "#df.index.name = 'year'\n",
    "solar_erf.rename(columns={'TSI': 'solar_erf'}, inplace=True)\n",
    "solar_erf.index.name = 'year'\n",
    "solar_erf.to_csv('../data_output/solar_erf.csv')\n",
    "solar_erf"
   ]
  },
  {
   "cell_type": "markdown",
   "metadata": {},
   "source": [
    "## Uncertainty\n",
    "\n",
    "AR5 assessed a number of studies for their MM to present RF (0.08 to 0.18; Shapiro et al 2011 was excluded). \n",
    "\n",
    "Shapiro et al (2011) had this massive change from the Maunder Minimum (CHRONOS model?) that was updated by Egorova et al (2018) following comments from Judge et al (2012).\n",
    "\n",
    "Roth & Joos (2013) \"small changes in Holocene TSI of the order of 1 W m−2 with a Maunder Minimum irradiance reduction of 0.85 ± 0.16 W m−2\"\n",
    "\n",
    "Dasi-Espuig et al (2016) \"The model predicts an increase in the TSI of 1.2 [(0.9 - 1.4)] Wm-2 between 1700 and the present\"\n",
    "\n",
    "Coddington et al (2016) \"The increase in total solar irradiance from the seventeenth-century Maunder Minimum to contemporary solar minima is of order 0.6 W m−2\" (unfortunately, no plots!)\n",
    "\n",
    "Egorova et al (2018) \"The PHI-US16 yields the smallest forcing since the Maunder minimum of about 4 W m−2 (see Fig. 8b) and if we account for the uncertainty of the minimum model, this could reduce to 3 W m−2. The reconstruction based on PHI-MU16 yields the largest TSI increase of 6 W m−2, which could be as large as 7 W m−2 if a solar atmosphere model that gives a value at the lower end of the brightness distribution was selected, as shown in Fig. 1 for the solar minimum state\".\n",
    "\n",
    "Wu et al (2018) \"Over the last 9000 years, the reconstructed secular variability in TSI is of the order of 0.11%, or 1.5 W m−2\". \"To compare with other studies, we calculate the increase in the TSI from the end of the Maunder minimum to the mean over the period 1975–2005. Our reconstruction returns an increase of 0.92 [(0.90-1.00)]  W m−2\"\n",
    "\n",
    "Lean (2018) \"The new estimates suggest that total solar irradiance increased 0.036 ± 0.009% from the Maunder Minimum (1645–1715) to the Medieval Maximum (1100 to 1250), compared with 0.068% from the Maunder Minimum to the Modern Maximum (1950–2009)\"\n",
    "\n",
    "Lockwood & Ball (2020) \"In the absence of quiet-Sun changes, estimates of solar irradiance change between approximately 1700 (the end of the Maunder minimum) and 2019 (close to the solar cycle minimum at the end of solar cycle 24) of, for example, between 0.14 and 0.26 W m−2 for the SATIRE-T/S and -T2 reconstructions and 0.55 W m−2 for NRLTSIv2\". \" The values\n",
    "of Q2019 − QMM derived by SEA11 [4] and EEA18 [5] were about 6 W m−2 and about 4Wm−2, respectively. We here find much smaller values. The mean and median of the ensemble of 28 reconstructions we derive are near −0.2 W m−2. The range covered by the 28-member ensemble of best-fit regressions is between −0.7 and 0.4 W m−2 and the full uncertainty range, allowing for the estimated range of instrumental drifts, is between −0.95 and 1.25 Wm−2\"\n",
    "\n",
    "Yeo et al. (2020)  \"current estimates of the secular change in the wavelength‐integrated total solar irradiance (TSI) since the 16th century diverge significantly, ranging from a drop of 0.75 W m−2 to a rise of 6.3 W m−2\". \"TSI level of the Sun in its least‐active state, arriving at the final value of 1,358.7 ± 0.7 W m−2... the difference to the 2019 level, 2.0 ± 0.7 W m−2, ... represents the maximum possible rise in TSI since the Maunder minimum\"\n",
    "\n"
   ]
  },
  {
   "cell_type": "code",
   "execution_count": 40,
   "metadata": {},
   "outputs": [
    {
     "data": {
      "text/html": [
       "<div>\n",
       "<style scoped>\n",
       "    .dataframe tbody tr th:only-of-type {\n",
       "        vertical-align: middle;\n",
       "    }\n",
       "\n",
       "    .dataframe tbody tr th {\n",
       "        vertical-align: top;\n",
       "    }\n",
       "\n",
       "    .dataframe thead th {\n",
       "        text-align: right;\n",
       "    }\n",
       "</style>\n",
       "<table border=\"1\" class=\"dataframe\">\n",
       "  <thead>\n",
       "    <tr style=\"text-align: right;\">\n",
       "      <th></th>\n",
       "      <th>AR5</th>\n",
       "      <th>SATIRE-M 14C CMIP6</th>\n",
       "      <th>SATIRE-M 14C</th>\n",
       "      <th>SATIRE-M 10Be CMIP6</th>\n",
       "      <th>SATIRE-M 10Be</th>\n",
       "      <th>NRLTSI2</th>\n",
       "    </tr>\n",
       "    <tr>\n",
       "      <th>Year</th>\n",
       "      <th></th>\n",
       "      <th></th>\n",
       "      <th></th>\n",
       "      <th></th>\n",
       "      <th></th>\n",
       "      <th></th>\n",
       "    </tr>\n",
       "  </thead>\n",
       "  <tbody>\n",
       "    <tr>\n",
       "      <th>-6755</th>\n",
       "      <td>NaN</td>\n",
       "      <td>1360.273071</td>\n",
       "      <td>1360.271729</td>\n",
       "      <td>NaN</td>\n",
       "      <td>1360.251343</td>\n",
       "      <td>NaN</td>\n",
       "    </tr>\n",
       "    <tr>\n",
       "      <th>-6754</th>\n",
       "      <td>NaN</td>\n",
       "      <td>1360.252930</td>\n",
       "      <td>1360.251465</td>\n",
       "      <td>NaN</td>\n",
       "      <td>1360.177246</td>\n",
       "      <td>NaN</td>\n",
       "    </tr>\n",
       "    <tr>\n",
       "      <th>-6753</th>\n",
       "      <td>NaN</td>\n",
       "      <td>1360.286377</td>\n",
       "      <td>1360.284912</td>\n",
       "      <td>NaN</td>\n",
       "      <td>1360.232666</td>\n",
       "      <td>NaN</td>\n",
       "    </tr>\n",
       "    <tr>\n",
       "      <th>-6752</th>\n",
       "      <td>NaN</td>\n",
       "      <td>1360.297974</td>\n",
       "      <td>1360.296631</td>\n",
       "      <td>NaN</td>\n",
       "      <td>1360.235596</td>\n",
       "      <td>NaN</td>\n",
       "    </tr>\n",
       "    <tr>\n",
       "      <th>-6751</th>\n",
       "      <td>NaN</td>\n",
       "      <td>1360.318604</td>\n",
       "      <td>1360.317139</td>\n",
       "      <td>NaN</td>\n",
       "      <td>1360.259766</td>\n",
       "      <td>NaN</td>\n",
       "    </tr>\n",
       "    <tr>\n",
       "      <th>...</th>\n",
       "      <td>...</td>\n",
       "      <td>...</td>\n",
       "      <td>...</td>\n",
       "      <td>...</td>\n",
       "      <td>...</td>\n",
       "      <td>...</td>\n",
       "    </tr>\n",
       "    <tr>\n",
       "      <th>2295</th>\n",
       "      <td>NaN</td>\n",
       "      <td>1360.776231</td>\n",
       "      <td>NaN</td>\n",
       "      <td>1360.776231</td>\n",
       "      <td>NaN</td>\n",
       "      <td>NaN</td>\n",
       "    </tr>\n",
       "    <tr>\n",
       "      <th>2296</th>\n",
       "      <td>NaN</td>\n",
       "      <td>1360.958567</td>\n",
       "      <td>NaN</td>\n",
       "      <td>1360.958567</td>\n",
       "      <td>NaN</td>\n",
       "      <td>NaN</td>\n",
       "    </tr>\n",
       "    <tr>\n",
       "      <th>2297</th>\n",
       "      <td>NaN</td>\n",
       "      <td>1361.154445</td>\n",
       "      <td>NaN</td>\n",
       "      <td>1361.154445</td>\n",
       "      <td>NaN</td>\n",
       "      <td>NaN</td>\n",
       "    </tr>\n",
       "    <tr>\n",
       "      <th>2298</th>\n",
       "      <td>NaN</td>\n",
       "      <td>1361.159516</td>\n",
       "      <td>NaN</td>\n",
       "      <td>1361.159516</td>\n",
       "      <td>NaN</td>\n",
       "      <td>NaN</td>\n",
       "    </tr>\n",
       "    <tr>\n",
       "      <th>2299</th>\n",
       "      <td>NaN</td>\n",
       "      <td>1361.010197</td>\n",
       "      <td>NaN</td>\n",
       "      <td>1361.010197</td>\n",
       "      <td>NaN</td>\n",
       "      <td>NaN</td>\n",
       "    </tr>\n",
       "  </tbody>\n",
       "</table>\n",
       "<p>9055 rows × 6 columns</p>\n",
       "</div>"
      ],
      "text/plain": [
       "       AR5  SATIRE-M 14C CMIP6  SATIRE-M 14C  SATIRE-M 10Be CMIP6  \\\n",
       "Year                                                                \n",
       "-6755  NaN         1360.273071   1360.271729                  NaN   \n",
       "-6754  NaN         1360.252930   1360.251465                  NaN   \n",
       "-6753  NaN         1360.286377   1360.284912                  NaN   \n",
       "-6752  NaN         1360.297974   1360.296631                  NaN   \n",
       "-6751  NaN         1360.318604   1360.317139                  NaN   \n",
       "...    ...                 ...           ...                  ...   \n",
       " 2295  NaN         1360.776231           NaN          1360.776231   \n",
       " 2296  NaN         1360.958567           NaN          1360.958567   \n",
       " 2297  NaN         1361.154445           NaN          1361.154445   \n",
       " 2298  NaN         1361.159516           NaN          1361.159516   \n",
       " 2299  NaN         1361.010197           NaN          1361.010197   \n",
       "\n",
       "       SATIRE-M 10Be  NRLTSI2  \n",
       "Year                           \n",
       "-6755    1360.251343      NaN  \n",
       "-6754    1360.177246      NaN  \n",
       "-6753    1360.232666      NaN  \n",
       "-6752    1360.235596      NaN  \n",
       "-6751    1360.259766      NaN  \n",
       "...              ...      ...  \n",
       " 2295            NaN      NaN  \n",
       " 2296            NaN      NaN  \n",
       " 2297            NaN      NaN  \n",
       " 2298            NaN      NaN  \n",
       " 2299            NaN      NaN  \n",
       "\n",
       "[9055 rows x 6 columns]"
      ]
     },
     "execution_count": 40,
     "metadata": {},
     "output_type": "execute_result"
    }
   ],
   "source": [
    "solar_df"
   ]
  },
  {
   "cell_type": "code",
   "execution_count": 41,
   "metadata": {},
   "outputs": [
    {
     "data": {
      "text/plain": [
       "0.02940312857144936"
      ]
     },
     "execution_count": 41,
     "metadata": {},
     "output_type": "execute_result"
    }
   ],
   "source": [
    "0.25*0.71*0.72*(solar_df.loc[2005:2011,'NRLTSI2'].mean() - solar_df.loc[1742:1748,'NRLTSI2'].mean())"
   ]
  },
  {
   "cell_type": "code",
   "execution_count": 42,
   "metadata": {},
   "outputs": [
    {
     "data": {
      "text/plain": [
       "-0.021760588727666116"
      ]
     },
     "execution_count": 42,
     "metadata": {},
     "output_type": "execute_result"
    }
   ],
   "source": [
    "0.25*0.71*0.72*(solar_df.loc[2005:2011,'SATIRE-M 10Be CMIP6'].mean() - solar_df.loc[1742:1748,'SATIRE-M 10Be CMIP6'].mean())"
   ]
  },
  {
   "cell_type": "code",
   "execution_count": 43,
   "metadata": {},
   "outputs": [
    {
     "data": {
      "text/plain": [
       "-0.009240004185263705"
      ]
     },
     "execution_count": 43,
     "metadata": {},
     "output_type": "execute_result"
    }
   ],
   "source": [
    "0.25*0.71*0.72*(solar_df.loc[2005:2011,'SATIRE-M 14C CMIP6'].mean() - solar_df.loc[1742:1748,'SATIRE-M 14C CMIP6'].mean())"
   ]
  },
  {
   "cell_type": "markdown",
   "metadata": {},
   "source": [
    "Lockwood and Ball range MM to 2019"
   ]
  },
  {
   "cell_type": "code",
   "execution_count": 44,
   "metadata": {},
   "outputs": [
    {
     "data": {
      "text/plain": [
       "-0.12140999999999999"
      ]
     },
     "execution_count": 44,
     "metadata": {},
     "output_type": "execute_result"
    }
   ],
   "source": [
    "-0.95 * 0.25*0.71*0.72"
   ]
  },
  {
   "cell_type": "code",
   "execution_count": 45,
   "metadata": {},
   "outputs": [
    {
     "data": {
      "text/plain": [
       "0.15974999999999998"
      ]
     },
     "execution_count": 45,
     "metadata": {},
     "output_type": "execute_result"
    }
   ],
   "source": [
    "1.25 * 0.25*0.71*0.72"
   ]
  },
  {
   "cell_type": "markdown",
   "metadata": {},
   "source": [
    "## Assessment\n",
    "\n",
    "Half the Lockwood and Ball range (as by 1750, we were well and truly out of the Maunder Minimum) so -0.06 to +0.08, with a best estimate of +0.01 (SATIRE-M 14C), that is supported by the two other valid datasets for 1745-2008 (-0.02 and +0.03)"
   ]
  }
 ],
 "metadata": {
  "kernelspec": {
   "display_name": "Python 2",
   "language": "python",
   "name": "python2"
  },
  "language_info": {
   "codemirror_mode": {
    "name": "ipython",
    "version": 3
   },
   "file_extension": ".py",
   "mimetype": "text/x-python",
   "name": "python",
   "nbconvert_exporter": "python",
   "pygments_lexer": "ipython3",
   "version": "3.7.9"
  }
 },
 "nbformat": 4,
 "nbformat_minor": 2
}
