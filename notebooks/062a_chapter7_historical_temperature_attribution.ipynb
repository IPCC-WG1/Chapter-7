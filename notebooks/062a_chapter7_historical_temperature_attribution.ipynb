{
 "cells": [
  {
   "cell_type": "markdown",
   "metadata": {},
   "source": [
    "# This notebook here will provide the background for figs. 7.7 and 7.8."
   ]
  },
  {
   "cell_type": "code",
   "execution_count": 1,
   "metadata": {},
   "outputs": [
    {
     "name": "stderr",
     "output_type": "stream",
     "text": [
      "/nfs/b0110/Users/mencsm/miniconda3/envs/ar6/lib/python3.7/site-packages/openscm_twolayermodel/base.py:10: TqdmExperimentalWarning: Using `tqdm.autonotebook.tqdm` in notebook mode. Use `tqdm.tqdm` instead to force console mode (e.g. in jupyter console)\n",
      "  import tqdm.autonotebook as tqdman\n"
     ]
    }
   ],
   "source": [
    "import fair\n",
    "import json\n",
    "import sys\n",
    "import os\n",
    "import random\n",
    "import numpy as np\n",
    "import scipy.stats as st       # v1.4+ needed\n",
    "import matplotlib.pyplot as pl\n",
    "import pandas as pd\n",
    "import pickle\n",
    "from multiprocessing import Pool\n",
    "\n",
    "from ar6.utils.h5 import *\n",
    "from ar6.forcing.aerosol import aerocom_n, ghan\n",
    "\n",
    "from netCDF4 import Dataset\n",
    "from scipy.interpolate import interp1d\n",
    "from fair.constants import molwt\n",
    "from fair.constants.general import EARTH_RADIUS\n",
    "from fair.ancil import natural, cmip6_volcanic, cmip6_solar\n",
    "\n",
    "import openscm_units.unit_registry as ur\n",
    "from scmdata import ScmRun, run_append\n",
    "\n",
    "from openscm_twolayermodel import TwoLayerModel\n",
    "from tqdm.notebook import tqdm"
   ]
  },
  {
   "cell_type": "markdown",
   "metadata": {},
   "source": [
    "## Ensemble generation\n",
    "\n",
    "We want to ensure reproducible results that don't change when this script is re-run. Grab list of pre-generated random seeds.\n",
    "\n",
    "Important: the input to this is the constrained working group 3 set of coefficients"
   ]
  },
  {
   "cell_type": "code",
   "execution_count": 2,
   "metadata": {},
   "outputs": [],
   "source": [
    "with open('../data_input/random_seeds.json', 'r') as filehandle:\n",
    "    SEEDS = json.load(filehandle)"
   ]
  },
  {
   "cell_type": "code",
   "execution_count": 5,
   "metadata": {},
   "outputs": [],
   "source": [
    "accept_inds = np.loadtxt('../data_input_large/fair-samples/accept_inds.csv')\n",
    "\n",
    "SAMPLES = 1000000\n",
    "NINETY_TO_ONESIGMA = st.norm.ppf(0.95)\n",
    "F2XCO2_MEAN = 4.00\n",
    "F2XCO2_NINETY = 0.48"
   ]
  },
  {
   "cell_type": "code",
   "execution_count": 6,
   "metadata": {},
   "outputs": [
    {
     "data": {
      "text/html": [
       "<div>\n",
       "<style scoped>\n",
       "    .dataframe tbody tr th:only-of-type {\n",
       "        vertical-align: middle;\n",
       "    }\n",
       "\n",
       "    .dataframe tbody tr th {\n",
       "        vertical-align: top;\n",
       "    }\n",
       "\n",
       "    .dataframe thead th {\n",
       "        text-align: right;\n",
       "    }\n",
       "</style>\n",
       "<table border=\"1\" class=\"dataframe\">\n",
       "  <thead>\n",
       "    <tr style=\"text-align: right;\">\n",
       "      <th></th>\n",
       "      <th>BC</th>\n",
       "      <th>CO</th>\n",
       "      <th>NH3</th>\n",
       "      <th>NOx</th>\n",
       "      <th>OC</th>\n",
       "      <th>SO2</th>\n",
       "      <th>VOC</th>\n",
       "    </tr>\n",
       "    <tr>\n",
       "      <th>year</th>\n",
       "      <th></th>\n",
       "      <th></th>\n",
       "      <th></th>\n",
       "      <th></th>\n",
       "      <th></th>\n",
       "      <th></th>\n",
       "      <th></th>\n",
       "    </tr>\n",
       "  </thead>\n",
       "  <tbody>\n",
       "    <tr>\n",
       "      <th>1750</th>\n",
       "      <td>2.097336</td>\n",
       "      <td>348.420476</td>\n",
       "      <td>6.683996</td>\n",
       "      <td>12.730074</td>\n",
       "      <td>15.447054</td>\n",
       "      <td>2.312083</td>\n",
       "      <td>60.599376</td>\n",
       "    </tr>\n",
       "    <tr>\n",
       "      <th>1751</th>\n",
       "      <td>2.072491</td>\n",
       "      <td>343.819148</td>\n",
       "      <td>6.615537</td>\n",
       "      <td>12.587160</td>\n",
       "      <td>15.188102</td>\n",
       "      <td>2.281498</td>\n",
       "      <td>59.667759</td>\n",
       "    </tr>\n",
       "    <tr>\n",
       "      <th>1752</th>\n",
       "      <td>2.063877</td>\n",
       "      <td>341.701465</td>\n",
       "      <td>6.573965</td>\n",
       "      <td>12.589121</td>\n",
       "      <td>15.033861</td>\n",
       "      <td>2.270899</td>\n",
       "      <td>59.213713</td>\n",
       "    </tr>\n",
       "    <tr>\n",
       "      <th>1753</th>\n",
       "      <td>2.071515</td>\n",
       "      <td>343.567551</td>\n",
       "      <td>6.635011</td>\n",
       "      <td>12.534665</td>\n",
       "      <td>15.181930</td>\n",
       "      <td>2.284976</td>\n",
       "      <td>59.610148</td>\n",
       "    </tr>\n",
       "    <tr>\n",
       "      <th>1754</th>\n",
       "      <td>2.098914</td>\n",
       "      <td>349.707369</td>\n",
       "      <td>6.767852</td>\n",
       "      <td>12.631676</td>\n",
       "      <td>15.558158</td>\n",
       "      <td>2.336934</td>\n",
       "      <td>60.855827</td>\n",
       "    </tr>\n",
       "    <tr>\n",
       "      <th>...</th>\n",
       "      <td>...</td>\n",
       "      <td>...</td>\n",
       "      <td>...</td>\n",
       "      <td>...</td>\n",
       "      <td>...</td>\n",
       "      <td>...</td>\n",
       "      <td>...</td>\n",
       "    </tr>\n",
       "    <tr>\n",
       "      <th>2015</th>\n",
       "      <td>7.992567</td>\n",
       "      <td>894.144647</td>\n",
       "      <td>62.462922</td>\n",
       "      <td>138.718989</td>\n",
       "      <td>30.046634</td>\n",
       "      <td>91.076152</td>\n",
       "      <td>213.006570</td>\n",
       "    </tr>\n",
       "    <tr>\n",
       "      <th>2016</th>\n",
       "      <td>7.918346</td>\n",
       "      <td>874.700320</td>\n",
       "      <td>63.054904</td>\n",
       "      <td>137.128483</td>\n",
       "      <td>30.086767</td>\n",
       "      <td>87.215738</td>\n",
       "      <td>211.778440</td>\n",
       "    </tr>\n",
       "    <tr>\n",
       "      <th>2017</th>\n",
       "      <td>7.886938</td>\n",
       "      <td>867.879243</td>\n",
       "      <td>63.739495</td>\n",
       "      <td>137.159668</td>\n",
       "      <td>30.057079</td>\n",
       "      <td>84.269791</td>\n",
       "      <td>211.717165</td>\n",
       "    </tr>\n",
       "    <tr>\n",
       "      <th>2018</th>\n",
       "      <td>7.841661</td>\n",
       "      <td>861.556227</td>\n",
       "      <td>64.298351</td>\n",
       "      <td>136.397333</td>\n",
       "      <td>29.920370</td>\n",
       "      <td>84.532481</td>\n",
       "      <td>210.331432</td>\n",
       "    </tr>\n",
       "    <tr>\n",
       "      <th>2019</th>\n",
       "      <td>7.785028</td>\n",
       "      <td>855.030049</td>\n",
       "      <td>64.863667</td>\n",
       "      <td>135.346810</td>\n",
       "      <td>29.751818</td>\n",
       "      <td>83.707858</td>\n",
       "      <td>209.077100</td>\n",
       "    </tr>\n",
       "  </tbody>\n",
       "</table>\n",
       "<p>270 rows × 7 columns</p>\n",
       "</div>"
      ],
      "text/plain": [
       "            BC          CO        NH3         NOx         OC        SO2  \\\n",
       "year                                                                      \n",
       "1750  2.097336  348.420476   6.683996   12.730074  15.447054   2.312083   \n",
       "1751  2.072491  343.819148   6.615537   12.587160  15.188102   2.281498   \n",
       "1752  2.063877  341.701465   6.573965   12.589121  15.033861   2.270899   \n",
       "1753  2.071515  343.567551   6.635011   12.534665  15.181930   2.284976   \n",
       "1754  2.098914  349.707369   6.767852   12.631676  15.558158   2.336934   \n",
       "...        ...         ...        ...         ...        ...        ...   \n",
       "2015  7.992567  894.144647  62.462922  138.718989  30.046634  91.076152   \n",
       "2016  7.918346  874.700320  63.054904  137.128483  30.086767  87.215738   \n",
       "2017  7.886938  867.879243  63.739495  137.159668  30.057079  84.269791   \n",
       "2018  7.841661  861.556227  64.298351  136.397333  29.920370  84.532481   \n",
       "2019  7.785028  855.030049  64.863667  135.346810  29.751818  83.707858   \n",
       "\n",
       "             VOC  \n",
       "year              \n",
       "1750   60.599376  \n",
       "1751   59.667759  \n",
       "1752   59.213713  \n",
       "1753   59.610148  \n",
       "1754   60.855827  \n",
       "...          ...  \n",
       "2015  213.006570  \n",
       "2016  211.778440  \n",
       "2017  211.717165  \n",
       "2018  210.331432  \n",
       "2019  209.077100  \n",
       "\n",
       "[270 rows x 7 columns]"
      ]
     },
     "execution_count": 6,
     "metadata": {},
     "output_type": "execute_result"
    }
   ],
   "source": [
    "emissions = pd.read_csv('../data_input_large/rcmip-emissions-annual-means-v5-1-0.csv')\n",
    "df_emissions = pd.concat([emissions.loc[(\n",
    "        (emissions.Variable=='Emissions|BC')|\n",
    "        (emissions.Variable=='Emissions|OC')|\n",
    "        (emissions.Variable=='Emissions|Sulfur')|\n",
    "        (emissions.Variable=='Emissions|NOx')|\n",
    "        (emissions.Variable=='Emissions|NH3')|\n",
    "        (emissions.Variable=='Emissions|VOC')|\n",
    "        (emissions.Variable=='Emissions|CO')\n",
    "    ) & (emissions.Scenario=='ssp245') & (emissions.Region=='World'), 'Variable'], emissions.loc[(\n",
    "        (emissions.Variable=='Emissions|BC')|\n",
    "        (emissions.Variable=='Emissions|OC')|\n",
    "        (emissions.Variable=='Emissions|Sulfur')|\n",
    "        (emissions.Variable=='Emissions|NOx')|\n",
    "        (emissions.Variable=='Emissions|NH3')|\n",
    "        (emissions.Variable=='Emissions|VOC')|\n",
    "        (emissions.Variable=='Emissions|CO')\n",
    "    ) & (emissions.Scenario=='ssp245') & (emissions.Region=='World'), '1750':'2100']], axis=1)#.interpolate(axis=1).T\n",
    "df_emissions.set_index('Variable', inplace=True)\n",
    "df_emissions = df_emissions.interpolate(axis=1).T\n",
    "df_emissions.rename(\n",
    "    columns={\n",
    "        'Emissions|BC': 'BC',\n",
    "        'Emissions|OC': 'OC',\n",
    "        'Emissions|Sulfur': 'SO2',\n",
    "        'Emissions|NOx': 'NOx',\n",
    "        'Emissions|NH3': 'NH3',\n",
    "        'Emissions|VOC': 'VOC',\n",
    "        'Emissions|CO': 'CO'\n",
    "    }, inplace=True\n",
    ")\n",
    "# only keep cols we want\n",
    "emissions = df_emissions[['SO2', 'BC', 'OC', 'NH3', 'NOx', 'VOC', 'CO']]\n",
    "emissions.index = emissions.index.astype('int')\n",
    "emissions.index.name='year'\n",
    "emissions.columns.name=None\n",
    "\n",
    "emissions_ceds_update = emissions.copy()\n",
    "\n",
    "emissions_old = pd.read_csv('../data_input_large/rcmip-emissions-annual-means-v5-1-0.csv')\n",
    "df_emissions = pd.concat([emissions_old.loc[(\n",
    "        (emissions_old.Variable=='Emissions|BC|MAGICC Fossil and Industrial')|\n",
    "        (emissions_old.Variable=='Emissions|OC|MAGICC Fossil and Industrial')|\n",
    "        (emissions_old.Variable=='Emissions|Sulfur|MAGICC Fossil and Industrial')|\n",
    "        (emissions_old.Variable=='Emissions|NOx|MAGICC Fossil and Industrial')|\n",
    "        (emissions_old.Variable=='Emissions|NH3|MAGICC Fossil and Industrial')|\n",
    "        (emissions_old.Variable=='Emissions|VOC|MAGICC Fossil and Industrial')|\n",
    "        (emissions_old.Variable=='Emissions|CO|MAGICC Fossil and Industrial')|\n",
    "        (emissions_old.Variable=='Emissions|BC|MAGICC AFOLU|Agriculture')|\n",
    "        (emissions_old.Variable=='Emissions|OC|MAGICC AFOLU|Agriculture')|\n",
    "        (emissions_old.Variable=='Emissions|Sulfur|MAGICC AFOLU|Agriculture')|\n",
    "        (emissions_old.Variable=='Emissions|NOx|MAGICC AFOLU|Agriculture')|\n",
    "        (emissions_old.Variable=='Emissions|NH3|MAGICC AFOLU|Agriculture')|\n",
    "        (emissions_old.Variable=='Emissions|VOC|MAGICC AFOLU|Agriculture')|\n",
    "        (emissions_old.Variable=='Emissions|CO|MAGICC AFOLU|Agriculture')\n",
    "    ) & (emissions_old.Scenario=='ssp245') & (emissions_old.Region=='World'), 'Variable'], emissions_old.loc[(\n",
    "        (emissions_old.Variable=='Emissions|BC|MAGICC Fossil and Industrial')|\n",
    "        (emissions_old.Variable=='Emissions|OC|MAGICC Fossil and Industrial')|\n",
    "        (emissions_old.Variable=='Emissions|Sulfur|MAGICC Fossil and Industrial')|\n",
    "        (emissions_old.Variable=='Emissions|NOx|MAGICC Fossil and Industrial')|\n",
    "        (emissions_old.Variable=='Emissions|NH3|MAGICC Fossil and Industrial')|\n",
    "        (emissions_old.Variable=='Emissions|VOC|MAGICC Fossil and Industrial')|\n",
    "        (emissions_old.Variable=='Emissions|CO|MAGICC Fossil and Industrial')|\n",
    "        (emissions_old.Variable=='Emissions|BC|MAGICC AFOLU|Agriculture')|\n",
    "        (emissions_old.Variable=='Emissions|OC|MAGICC AFOLU|Agriculture')|\n",
    "        (emissions_old.Variable=='Emissions|Sulfur|MAGICC AFOLU|Agriculture')|\n",
    "        (emissions_old.Variable=='Emissions|NOx|MAGICC AFOLU|Agriculture')|\n",
    "        (emissions_old.Variable=='Emissions|NH3|MAGICC AFOLU|Agriculture')|\n",
    "        (emissions_old.Variable=='Emissions|VOC|MAGICC AFOLU|Agriculture')|\n",
    "        (emissions_old.Variable=='Emissions|CO|MAGICC AFOLU|Agriculture')\n",
    "    ) & (emissions_old.Scenario=='ssp245') & (emissions_old.Region=='World'), '1750':'2100']], axis=1)#.interpolate(axis=1).T\n",
    "df_emissions.set_index('Variable', inplace=True)\n",
    "df_emissions = df_emissions.interpolate(axis=1).T\n",
    "for species in ['BC', 'OC', 'Sulfur', 'NOx', 'NH3', 'VOC', 'CO']:\n",
    "    df_emissions[species] = df_emissions['Emissions|{}|MAGICC Fossil and Industrial'.format(species)] + df_emissions['Emissions|{}|MAGICC AFOLU|Agriculture'.format(species)]\n",
    "df_emissions.rename(columns = {'Sulfur': 'SO2'}, inplace=True)\n",
    "df_emissions.drop(columns=[\n",
    "        'Emissions|BC|MAGICC Fossil and Industrial',\n",
    "        'Emissions|OC|MAGICC Fossil and Industrial',\n",
    "        'Emissions|Sulfur|MAGICC Fossil and Industrial',\n",
    "        'Emissions|NOx|MAGICC Fossil and Industrial',\n",
    "        'Emissions|NH3|MAGICC Fossil and Industrial',\n",
    "        'Emissions|VOC|MAGICC Fossil and Industrial',\n",
    "        'Emissions|CO|MAGICC Fossil and Industrial',\n",
    "        'Emissions|BC|MAGICC AFOLU|Agriculture',\n",
    "        'Emissions|OC|MAGICC AFOLU|Agriculture',\n",
    "        'Emissions|Sulfur|MAGICC AFOLU|Agriculture',\n",
    "        'Emissions|NOx|MAGICC AFOLU|Agriculture',\n",
    "        'Emissions|NH3|MAGICC AFOLU|Agriculture',\n",
    "        'Emissions|VOC|MAGICC AFOLU|Agriculture',\n",
    "        'Emissions|CO|MAGICC AFOLU|Agriculture',\n",
    "    ],\n",
    "    inplace=True\n",
    ")\n",
    "df_emissions.index = emissions.index.astype('int')\n",
    "df_emissions.index.name='year'\n",
    "df_emissions.columns.name=None\n",
    "\n",
    "global_total = {}\n",
    "for species in ['BC', 'OC', 'SO2', 'NH3', 'NOx', 'NMVOC', 'CO']:\n",
    "    df = pd.read_csv('../data_input_large/CEDS_v_2020_09_11_emissions/{}_global_CEDS_emissions_by_sector_2020_09_11.csv'.format(species))\n",
    "    global_total[species] = df.sum(axis=0).values[3:].astype(float) / 1000 # yes could get openscm on this\n",
    "    #unit = df.units[0]\n",
    "    #print(unit)\n",
    "global_total['VOC'] = global_total.pop('NMVOC')\n",
    "new_ceds = pd.DataFrame(global_total)\n",
    "new_ceds.index = np.arange(1750,2020)\n",
    "new_ceds.index = new_ceds.index.astype('int')\n",
    "new_ceds.index.name='year'\n",
    "new_ceds.columns.name=None\n",
    "emissions_ceds_update = new_ceds.loc[1750:2020] + emissions - df_emissions\n",
    "emissions_ceds_update.drop(index=range(2020,2101), inplace=True)\n",
    "emissions_ceds_update"
   ]
  },
  {
   "cell_type": "markdown",
   "metadata": {},
   "source": [
    "## Thermal parameters"
   ]
  },
  {
   "cell_type": "code",
   "execution_count": 7,
   "metadata": {},
   "outputs": [
    {
     "ename": "FileNotFoundError",
     "evalue": "[Errno 2] No such file or directory: '../data_input/cmip6_geoffroy_params.json'",
     "output_type": "error",
     "traceback": [
      "\u001b[0;31m---------------------------------------------------------------------------\u001b[0m",
      "\u001b[0;31mFileNotFoundError\u001b[0m                         Traceback (most recent call last)",
      "\u001b[0;32m<ipython-input-7-3d72de3469c9>\u001b[0m in \u001b[0;36m<module>\u001b[0;34m\u001b[0m\n\u001b[1;32m      2\u001b[0m \u001b[0mlamg\u001b[0m \u001b[0;34m=\u001b[0m \u001b[0mst\u001b[0m\u001b[0;34m.\u001b[0m\u001b[0mnorm\u001b[0m\u001b[0;34m.\u001b[0m\u001b[0mrvs\u001b[0m\u001b[0;34m(\u001b[0m\u001b[0mloc\u001b[0m\u001b[0;34m=\u001b[0m\u001b[0;34m-\u001b[0m\u001b[0mF2XCO2_MEAN\u001b[0m\u001b[0;34m/\u001b[0m\u001b[0;36m3.0\u001b[0m\u001b[0;34m,\u001b[0m \u001b[0mscale\u001b[0m\u001b[0;34m=\u001b[0m\u001b[0;36m0.52\u001b[0m\u001b[0;34m/\u001b[0m\u001b[0mNINETY_TO_ONESIGMA\u001b[0m\u001b[0;34m,\u001b[0m \u001b[0msize\u001b[0m\u001b[0;34m=\u001b[0m\u001b[0mSAMPLES\u001b[0m\u001b[0;34m,\u001b[0m \u001b[0mrandom_state\u001b[0m\u001b[0;34m=\u001b[0m\u001b[0mSEEDS\u001b[0m\u001b[0;34m[\u001b[0m\u001b[0;36m74\u001b[0m\u001b[0;34m]\u001b[0m\u001b[0;34m)\u001b[0m\u001b[0;34m\u001b[0m\u001b[0;34m\u001b[0m\u001b[0m\n\u001b[1;32m      3\u001b[0m \u001b[0;34m\u001b[0m\u001b[0m\n\u001b[0;32m----> 4\u001b[0;31m \u001b[0;32mwith\u001b[0m \u001b[0mopen\u001b[0m\u001b[0;34m(\u001b[0m\u001b[0;34m\"../data_input/cmip6_geoffroy_params.json\"\u001b[0m\u001b[0;34m,\u001b[0m \u001b[0;34m\"r\"\u001b[0m\u001b[0;34m)\u001b[0m \u001b[0;32mas\u001b[0m \u001b[0mread_file\u001b[0m\u001b[0;34m:\u001b[0m\u001b[0;34m\u001b[0m\u001b[0;34m\u001b[0m\u001b[0m\n\u001b[0m\u001b[1;32m      5\u001b[0m     \u001b[0mparams\u001b[0m \u001b[0;34m=\u001b[0m \u001b[0mjson\u001b[0m\u001b[0;34m.\u001b[0m\u001b[0mload\u001b[0m\u001b[0;34m(\u001b[0m\u001b[0mread_file\u001b[0m\u001b[0;34m)\u001b[0m\u001b[0;34m\u001b[0m\u001b[0;34m\u001b[0m\u001b[0m\n\u001b[1;32m      6\u001b[0m \u001b[0mcmip6_models\u001b[0m \u001b[0;34m=\u001b[0m \u001b[0mlist\u001b[0m\u001b[0;34m(\u001b[0m\u001b[0mparams\u001b[0m\u001b[0;34m[\u001b[0m\u001b[0;34m'gamma_2l'\u001b[0m\u001b[0;34m]\u001b[0m\u001b[0;34m[\u001b[0m\u001b[0;34m'model_data'\u001b[0m\u001b[0;34m]\u001b[0m\u001b[0;34m[\u001b[0m\u001b[0;34m'EBM-epsilon'\u001b[0m\u001b[0;34m]\u001b[0m\u001b[0;34m.\u001b[0m\u001b[0mkeys\u001b[0m\u001b[0;34m(\u001b[0m\u001b[0;34m)\u001b[0m\u001b[0;34m)\u001b[0m\u001b[0;34m\u001b[0m\u001b[0;34m\u001b[0m\u001b[0m\n",
      "\u001b[0;31mFileNotFoundError\u001b[0m: [Errno 2] No such file or directory: '../data_input/cmip6_geoffroy_params.json'"
     ]
    }
   ],
   "source": [
    "f2x = st.norm.rvs(loc=F2XCO2_MEAN, scale=F2XCO2_NINETY/NINETY_TO_ONESIGMA, size=SAMPLES, random_state=SEEDS[73])\n",
    "lamg = st.norm.rvs(loc=-F2XCO2_MEAN/3.0, scale=0.52/NINETY_TO_ONESIGMA, size=SAMPLES, random_state=SEEDS[74])\n",
    "\n",
    "with open(\"../data_input/cmip6_geoffroy_params.json\", \"r\") as read_file:\n",
    "    params = json.load(read_file)\n",
    "cmip6_models = list(params['gamma_2l']['model_data']['EBM-epsilon'].keys())\n",
    "NMODELS = len(cmip6_models)\n",
    "\n",
    "geoff_data = np.zeros((NMODELS, 6))\n",
    "for im, model in enumerate(cmip6_models):\n",
    "    geoff_data[im,0] = params['q4x']['model_data']['EBM-epsilon'][model]\n",
    "    geoff_data[im,1] = params['lamg']['model_data']['EBM-epsilon'][model]\n",
    "    geoff_data[im,2] = params['cmix']['model_data']['EBM-epsilon'][model]\n",
    "    geoff_data[im,3] = params['cdeep']['model_data']['EBM-epsilon'][model]\n",
    "    geoff_data[im,4] = params['gamma_2l']['model_data']['EBM-epsilon'][model]\n",
    "    geoff_data[im,5] = params['eff']['model_data']['EBM-epsilon'][model]\n",
    "\n",
    "geoff_df = pd.DataFrame(geoff_data, columns=['q4x','lamg','cmix','cdeep','gamma_2l','eff'], index=cmip6_models)\n",
    "kde = st.gaussian_kde(geoff_df.T)\n",
    "geoff_sample = kde.resample(size=int(SAMPLES*1.25), seed = SEEDS[15])\n",
    "# remove unphysical combinations\n",
    "geoff_sample[:,geoff_sample[0,:] <= 0] = np.nan\n",
    "geoff_sample[:,geoff_sample[1,:] >= -0.55] = np.nan\n",
    "geoff_sample[:,geoff_sample[2,:] <= 0] = np.nan\n",
    "geoff_sample[:,geoff_sample[3,:] <= 0] = np.nan\n",
    "geoff_sample[:,geoff_sample[4,:] <= 0] = np.nan\n",
    "geoff_sample[:,geoff_sample[5,:] <= 0] = np.nan\n",
    "\n",
    "mask = np.all(np.isnan(geoff_sample), axis=0)\n",
    "geoff_sample = geoff_sample[:,~mask][:,accept_inds]\n",
    "geoff_sample_df=pd.DataFrame(data=geoff_sample.T, columns=['q4x','lamg','cmix','cdeep','gamma_2l','eff'])\n",
    "geoff_sample_df\n",
    "\n",
    "ecs = -f2x/geoff_sample[1,:]\n",
    "tcr = f2x/(-geoff_sample[1,:] + geoff_sample[4,:]*geoff_sample[5,:])"
   ]
  },
  {
   "cell_type": "markdown",
   "metadata": {},
   "source": [
    "## Forcing uncertainties"
   ]
  },
  {
   "cell_type": "code",
   "execution_count": 6,
   "metadata": {},
   "outputs": [],
   "source": [
    "seed    = 36572 \n",
    "NINETY_TO_ONESIGMA = st.norm.ppf(0.95)\n",
    "\n",
    "# to do move to module\n",
    "\n",
    "# these are standard deviations of the scale factor for normally distributed forcings (mean = 1). The list below is expressed in terms of 5-95% ranges.\n",
    "unc_ranges = np.array([\n",
    "    0.12,      # CO2\n",
    "    0.20,      # CH4: updated value from etminan 2016\n",
    "    0.14,      # N2O\n",
    "    0.19,      # other WMGHGs\n",
    "    0.50,      # Total ozone\n",
    "    1.00,      # stratospheric WV from CH4\n",
    "    0.70,      # contrails approx - half-normal\n",
    "    1.25,      # bc on snow - half-normal\n",
    "    0.50,      # land use change\n",
    "    5.0/20.0,  # volcanic\n",
    "    0.50,      # solar (amplitude)\n",
    "])/NINETY_TO_ONESIGMA\n",
    "\n",
    "scale = st.norm.rvs(size=(SAMPLES,11), loc=np.ones((SAMPLES,11)), scale=np.ones((SAMPLES, 11)) * unc_ranges[None,:], random_state=seed)\n",
    "#scale[:,8] = st.lognorm.rvs(0.5, size=samples, random_state=seed+1)\n",
    "# refine this calc and maybe half normal it\n",
    "\n",
    "# here's a half normal\n",
    "## bc snow is asymmetric Gaussian. We can just scale the half of the distribution above/below best estimate\n",
    "scale[scale[:,7]<1,7] = 0.06/0.1*(scale[scale[:,7]<1,7]-1) + 1\n",
    "\n",
    "## so is contrails - the benefits of doing this are tiny :)\n",
    "scale[scale[:,6]<1,6] = 0.0384/0.0406*(scale[scale[:,6]<1,6]-1) + 1\n",
    "\n",
    "trend_solar = st.norm.rvs(size=SAMPLES, loc=+0.01, scale=0.07/NINETY_TO_ONESIGMA, random_state=138294)\n",
    "#trend_solar[trend_solar>-0.01] = 11/4 * (trend_solar[trend_solar>-0.01]+0.01)-0.01\n",
    "\n",
    "scale_df = pd.DataFrame(\n",
    "    data = scale,\n",
    "    columns = ['co2','ch4','n2o','other_wmghg','o3','h2o_stratospheric','contrails','bc_on_snow','land_use','volcanic','solar']\n",
    ")"
   ]
  },
  {
   "cell_type": "markdown",
   "metadata": {},
   "source": [
    "### Aerosol emissions\n",
    "\n",
    "For ERFaci, following Smith, Harris et al. 2020: Energy Budget Constraints on the Time History of Aerosol Forcing and Climate Sensitivity\n",
    "\n",
    "For ERFari, start with Smith, Harris et al. and then add in the nitrate forcing from Myhre et al 2013\n",
    "\n",
    "For ERFari, take coefficients from Myhre et al., 2013: Radiative forcing of the direct aerosol effect from AeroCom Phase II\n",
    "simulations. The forcing calculated is 1850-2000 (or 2006; assume the same) using CMIP5 emissions."
   ]
  },
  {
   "cell_type": "code",
   "execution_count": 7,
   "metadata": {},
   "outputs": [
    {
     "data": {
      "application/vnd.jupyter.widget-view+json": {
       "model_id": "6f33aa3b139f49479ad0f7a6f0b6289f",
       "version_major": 2,
       "version_minor": 0
      },
      "text/plain": [
       "HBox(children=(HTML(value=''), FloatProgress(value=0.0, max=2000.0), HTML(value='')))"
      ]
     },
     "metadata": {},
     "output_type": "display_data"
    },
    {
     "name": "stdout",
     "output_type": "stream",
     "text": [
      "\n"
     ]
    }
   ],
   "source": [
    "df = pd.read_csv('../data_input_large/ERFaci_samples.csv')\n",
    "aci_coeffs = np.exp(df.values)\n",
    "\n",
    "NINETY_TO_ONESIGMA = st.norm.ppf(0.95)\n",
    "\n",
    "# SCALE TO ASSESSMENT\n",
    "ERFari_scale = st.norm.rvs(loc=-0.30, scale=0.30/NINETY_TO_ONESIGMA, size=SAMPLES, random_state=786418)\n",
    "ERFaci_scale = st.norm.rvs(loc=-1.00, scale=0.70/NINETY_TO_ONESIGMA, size=SAMPLES, random_state=31318990)\n",
    "\n",
    "ERFari = np.zeros((270,SAMPLES))\n",
    "ERFaci = np.zeros((270,SAMPLES))\n",
    "    \n",
    "bc = emissions_ceds_update['BC'].values.squeeze()\n",
    "oc = emissions_ceds_update['OC'].values.squeeze()\n",
    "so2 = emissions_ceds_update['SO2'].values.squeeze()\n",
    "nh3 = emissions_ceds_update['NH3'].values.squeeze()\n",
    "\n",
    "for i in tqdm(range(SAMPLES)):\n",
    "    ts2010 = np.mean(\n",
    "        ghan(\n",
    "            [\n",
    "                so2[255:265],\n",
    "                    bc[255:265]+\n",
    "                    oc[255:265],\n",
    "            ], 1.11, aci_coeffs[i,0], aci_coeffs[i,1]\n",
    "        )\n",
    "    )\n",
    "    ts1750 = ghan(\n",
    "        [\n",
    "            so2[0],\n",
    "                bc[0]+\n",
    "                oc[0],\n",
    "        ], 1.11, aci_coeffs[i,0], aci_coeffs[i,1]\n",
    "    )\n",
    "    ERFaci[:,i] = (\n",
    "        ghan([so2, bc+oc], 1.11, aci_coeffs[i,0], aci_coeffs[i,1])\n",
    "    - ts1750)/(ts2010-ts1750)*ERFaci_scale[i]"
   ]
  },
  {
   "cell_type": "code",
   "execution_count": 8,
   "metadata": {},
   "outputs": [
    {
     "data": {
      "application/vnd.jupyter.widget-view+json": {
       "model_id": "baa33c215a8e4a9cb90115384cc3631a",
       "version_major": 2,
       "version_minor": 0
      },
      "text/plain": [
       "HBox(children=(HTML(value=''), FloatProgress(value=0.0, max=2000.0), HTML(value='')))"
      ]
     },
     "metadata": {},
     "output_type": "display_data"
    },
    {
     "name": "stdout",
     "output_type": "stream",
     "text": [
      "\n"
     ]
    }
   ],
   "source": [
    "bc_20101750 = st.norm.rvs(loc=0.3, scale=0.2/NINETY_TO_ONESIGMA, size=SAMPLES, random_state=SEEDS[95])\n",
    "oc_20101750 = st.norm.rvs(loc=-0.09, scale=0.07/NINETY_TO_ONESIGMA, size=SAMPLES, random_state=SEEDS[96])\n",
    "so2_20101750 = st.norm.rvs(loc=-0.4, scale=0.2/NINETY_TO_ONESIGMA, size=SAMPLES, random_state=SEEDS[97])\n",
    "nh3_20101750 = st.norm.rvs(loc=-0.11, scale=0.05/NINETY_TO_ONESIGMA, size=SAMPLES, random_state=SEEDS[98])\n",
    "\n",
    "beta_bc = bc_20101750/(np.mean(emissions_ceds_update.loc[2005:2014,'BC'])-emissions_ceds_update.loc[1750,'BC'])\n",
    "beta_oc = oc_20101750/(np.mean(emissions_ceds_update.loc[2005:2014,'OC'])-emissions_ceds_update.loc[1750,'OC'])\n",
    "beta_so2 = so2_20101750/(np.mean(emissions_ceds_update.loc[2005:2014,'SO2'])-emissions_ceds_update.loc[1750,'SO2'])\n",
    "beta_nh3 = nh3_20101750/(np.mean(emissions_ceds_update.loc[2005:2014,'NH3'])-emissions_ceds_update.loc[1750,'NH3'])\n",
    "\n",
    "ERFari = np.zeros((270, SAMPLES))\n",
    "for i in tqdm(range(SAMPLES)):\n",
    "    ERFari[:, i] = (\n",
    "        (emissions_ceds_update.loc[:,'SO2']-emissions_ceds_update.loc[1750,'SO2']) * beta_so2[i] +\n",
    "        (emissions_ceds_update.loc[:,'BC']-emissions_ceds_update.loc[1750,'BC']) * beta_bc[i] +\n",
    "        (emissions_ceds_update.loc[:,'OC']-emissions_ceds_update.loc[1750,'OC']) * beta_oc[i] +\n",
    "        (emissions_ceds_update.loc[:,'NH3']-emissions_ceds_update.loc[1750,'NH3']) * beta_nh3[i]\n",
    "    )\n",
    "    \n",
    "beta_bc = 0.3/(np.mean(emissions_ceds_update.loc[2005:2014,'BC'])-emissions_ceds_update.loc[1750,'BC'])\n",
    "beta_oc = -0.09/(np.mean(emissions_ceds_update.loc[2005:2014,'OC'])-emissions_ceds_update.loc[1750,'OC'])\n",
    "beta_so2 = -0.4/(np.mean(emissions_ceds_update.loc[2005:2014,'SO2'])-emissions_ceds_update.loc[1750,'SO2'])\n",
    "beta_nh3 = -0.11/(np.mean(emissions_ceds_update.loc[2005:2014,'NH3'])-emissions_ceds_update.loc[1750,'NH3'])\n",
    "\n",
    "ERFari_median = (\n",
    "        (emissions_ceds_update.loc[:,'SO2']-emissions_ceds_update.loc[1750,'SO2']) * beta_so2 +\n",
    "        (emissions_ceds_update.loc[:,'BC']-emissions_ceds_update.loc[1750,'BC']) * beta_bc +\n",
    "        (emissions_ceds_update.loc[:,'OC']-emissions_ceds_update.loc[1750,'OC']) * beta_oc +\n",
    "        (emissions_ceds_update.loc[:,'NH3']-emissions_ceds_update.loc[1750,'NH3']) * beta_nh3 \n",
    "    )\n",
    "ERFaci_median = np.percentile(ERFaci, 50, axis=1) * (-1.0)/(np.percentile(ERFaci, 50, axis=1)[255:265].mean())"
   ]
  },
  {
   "cell_type": "markdown",
   "metadata": {},
   "source": [
    "## Non-aerosol forcings"
   ]
  },
  {
   "cell_type": "code",
   "execution_count": 9,
   "metadata": {},
   "outputs": [],
   "source": [
    "df = pd.read_csv('../data_output/AR6_ERF_1750-2019.csv')\n",
    "forcing_ensemble = {}\n",
    "forcing_ensemble['co2'] = df['co2'].values[:,None] * scale_df['co2'].values[None,:]\n",
    "forcing_ensemble['ch4'] = df['ch4'].values[:,None] * scale_df['ch4'].values[None,:]\n",
    "forcing_ensemble['n2o'] = df['n2o'].values[:,None] * scale_df['n2o'].values[None,:]\n",
    "forcing_ensemble['other_wmghg'] = df['other_wmghg'].values[:,None] * scale_df['other_wmghg'].values[None,:]\n",
    "forcing_ensemble['o3'] = df['o3'].values[:,None] * scale_df['o3'].values[None,:]\n",
    "forcing_ensemble['h2o_stratospheric'] = df['h2o_stratospheric'].values[:,None] * scale_df['h2o_stratospheric'].values[None,:]\n",
    "forcing_ensemble['contrails'] = df['contrails'].values[:,None] * scale_df['contrails'].values[None,:]\n",
    "forcing_ensemble['aerosol-radiation_interactions'] = ERFari\n",
    "forcing_ensemble['aerosol-cloud_interactions'] = ERFaci\n",
    "forcing_ensemble['bc_on_snow'] = df['bc_on_snow'].values[:,None] * scale_df['bc_on_snow'].values[None,:]\n",
    "forcing_ensemble['land_use'] = df['land_use'].values[:,None] * scale_df['land_use'].values[None,:]\n",
    "forcing_ensemble['volcanic'] = df['volcanic'].values[:,None] * scale_df['volcanic'].values[None,:]\n",
    "forcing_ensemble['solar'] = df['solar'].values[:,None] * scale_df['solar'].values[None,:]\n",
    "forcing_ensemble['total'] = (\n",
    "    forcing_ensemble['co2'] +\n",
    "    forcing_ensemble['ch4'] +\n",
    "    forcing_ensemble['n2o'] +\n",
    "    forcing_ensemble['other_wmghg'] +\n",
    "    forcing_ensemble['o3'] +\n",
    "    forcing_ensemble['h2o_stratospheric'] +\n",
    "    forcing_ensemble['contrails'] +\n",
    "    forcing_ensemble['aerosol-radiation_interactions'] +\n",
    "    forcing_ensemble['aerosol-cloud_interactions'] +\n",
    "    forcing_ensemble['bc_on_snow'] +\n",
    "    forcing_ensemble['land_use'] +\n",
    "    forcing_ensemble['volcanic'] +\n",
    "    forcing_ensemble['solar']\n",
    ")"
   ]
  },
  {
   "cell_type": "code",
   "execution_count": 10,
   "metadata": {},
   "outputs": [
    {
     "data": {
      "text/plain": [
       "(270,)"
      ]
     },
     "execution_count": 10,
     "metadata": {},
     "output_type": "execute_result"
    }
   ],
   "source": [
    "forcing_ensemble['total'][:,0].shape"
   ]
  },
  {
   "cell_type": "code",
   "execution_count": 11,
   "metadata": {},
   "outputs": [
    {
     "data": {
      "text/plain": [
       "['co2',\n",
       " 'ch4',\n",
       " 'n2o',\n",
       " 'other_wmghg',\n",
       " 'o3',\n",
       " 'h2o_stratospheric',\n",
       " 'contrails',\n",
       " 'aerosol-radiation_interactions',\n",
       " 'aerosol-cloud_interactions',\n",
       " 'bc_on_snow',\n",
       " 'land_use',\n",
       " 'volcanic',\n",
       " 'solar']"
      ]
     },
     "execution_count": 11,
     "metadata": {},
     "output_type": "execute_result"
    }
   ],
   "source": [
    "list(forcing_ensemble.keys())[:-1]"
   ]
  },
  {
   "cell_type": "markdown",
   "metadata": {},
   "source": [
    "# Run climate model\n",
    "\n",
    "Remove one forcing at a time, and take differences WRT the all forcing.\n",
    "\n",
    "Use ECS = 3, TCR = 1.8, central CMIP6 values for dl, du, eta, efficacy"
   ]
  },
  {
   "cell_type": "code",
   "execution_count": 12,
   "metadata": {},
   "outputs": [
    {
     "name": "stdout",
     "output_type": "stream",
     "text": [
      "0.8888888888888891\n",
      "0.8262461955369731\n"
     ]
    },
    {
     "data": {
      "text/plain": [
       "0.6862967868401252"
      ]
     },
     "execution_count": 12,
     "metadata": {},
     "output_type": "execute_result"
    }
   ],
   "source": [
    "ecs = 3.0\n",
    "tcr = 1.8\n",
    "f2x = 4.0\n",
    "lambda0 = f2x / ecs\n",
    "kappa = f2x/tcr - f2x/ecs\n",
    "print(kappa)\n",
    "print((params.efficacy * params.eta).mean())\n",
    "# let's go with efficacy as given and scale eta accordingly\n",
    "eta = kappa/params.efficacy.mean()\n",
    "eta"
   ]
  },
  {
   "cell_type": "markdown",
   "metadata": {},
   "source": [
    "## Only varying the forcing"
   ]
  },
  {
   "cell_type": "code",
   "execution_count": 13,
   "metadata": {},
   "outputs": [],
   "source": [
    "arglist = []\n",
    "\n",
    "for i in range(SAMPLES):\n",
    "    arglist.append(\n",
    "        {\n",
    "            'in_forcing' : forcing_ensemble['total'][:,i],\n",
    "            'run_id': i\n",
    "        }\n",
    "    )"
   ]
  },
  {
   "cell_type": "code",
   "execution_count": 14,
   "metadata": {},
   "outputs": [
    {
     "data": {
      "application/vnd.jupyter.widget-view+json": {
       "model_id": "5a9c8a8e60564d49aa9b6ca4f20c61d7",
       "version_major": 2,
       "version_minor": 0
      },
      "text/plain": [
       "HBox(children=(HTML(value=''), FloatProgress(value=0.0, max=2000.0), HTML(value='')))"
      ]
     },
     "metadata": {},
     "output_type": "display_data"
    },
    {
     "name": "stdout",
     "output_type": "stream",
     "text": [
      "\n"
     ]
    },
    {
     "data": {
      "application/vnd.jupyter.widget-view+json": {
       "model_id": "59d90bb7e9ff4979b66262971d27c29d",
       "version_major": 2,
       "version_minor": 0
      },
      "text/plain": [
       "HBox(children=(HTML(value='Removing one at a time'), FloatProgress(value=0.0, max=13.0), HTML(value='')))"
      ]
     },
     "metadata": {},
     "output_type": "display_data"
    },
    {
     "data": {
      "application/vnd.jupyter.widget-view+json": {
       "model_id": "",
       "version_major": 2,
       "version_minor": 0
      },
      "text/plain": [
       "HBox(children=(HTML(value=''), FloatProgress(value=0.0, max=2000.0), HTML(value='')))"
      ]
     },
     "metadata": {},
     "output_type": "display_data"
    },
    {
     "data": {
      "application/vnd.jupyter.widget-view+json": {
       "model_id": "",
       "version_major": 2,
       "version_minor": 0
      },
      "text/plain": [
       "HBox(children=(HTML(value=''), FloatProgress(value=0.0, max=2000.0), HTML(value='')))"
      ]
     },
     "metadata": {},
     "output_type": "display_data"
    },
    {
     "data": {
      "application/vnd.jupyter.widget-view+json": {
       "model_id": "",
       "version_major": 2,
       "version_minor": 0
      },
      "text/plain": [
       "HBox(children=(HTML(value=''), FloatProgress(value=0.0, max=2000.0), HTML(value='')))"
      ]
     },
     "metadata": {},
     "output_type": "display_data"
    },
    {
     "data": {
      "application/vnd.jupyter.widget-view+json": {
       "model_id": "",
       "version_major": 2,
       "version_minor": 0
      },
      "text/plain": [
       "HBox(children=(HTML(value=''), FloatProgress(value=0.0, max=2000.0), HTML(value='')))"
      ]
     },
     "metadata": {},
     "output_type": "display_data"
    },
    {
     "data": {
      "application/vnd.jupyter.widget-view+json": {
       "model_id": "",
       "version_major": 2,
       "version_minor": 0
      },
      "text/plain": [
       "HBox(children=(HTML(value=''), FloatProgress(value=0.0, max=2000.0), HTML(value='')))"
      ]
     },
     "metadata": {},
     "output_type": "display_data"
    },
    {
     "data": {
      "application/vnd.jupyter.widget-view+json": {
       "model_id": "",
       "version_major": 2,
       "version_minor": 0
      },
      "text/plain": [
       "HBox(children=(HTML(value=''), FloatProgress(value=0.0, max=2000.0), HTML(value='')))"
      ]
     },
     "metadata": {},
     "output_type": "display_data"
    },
    {
     "data": {
      "application/vnd.jupyter.widget-view+json": {
       "model_id": "",
       "version_major": 2,
       "version_minor": 0
      },
      "text/plain": [
       "HBox(children=(HTML(value=''), FloatProgress(value=0.0, max=2000.0), HTML(value='')))"
      ]
     },
     "metadata": {},
     "output_type": "display_data"
    },
    {
     "data": {
      "application/vnd.jupyter.widget-view+json": {
       "model_id": "",
       "version_major": 2,
       "version_minor": 0
      },
      "text/plain": [
       "HBox(children=(HTML(value=''), FloatProgress(value=0.0, max=2000.0), HTML(value='')))"
      ]
     },
     "metadata": {},
     "output_type": "display_data"
    },
    {
     "data": {
      "application/vnd.jupyter.widget-view+json": {
       "model_id": "",
       "version_major": 2,
       "version_minor": 0
      },
      "text/plain": [
       "HBox(children=(HTML(value=''), FloatProgress(value=0.0, max=2000.0), HTML(value='')))"
      ]
     },
     "metadata": {},
     "output_type": "display_data"
    },
    {
     "data": {
      "application/vnd.jupyter.widget-view+json": {
       "model_id": "",
       "version_major": 2,
       "version_minor": 0
      },
      "text/plain": [
       "HBox(children=(HTML(value=''), FloatProgress(value=0.0, max=2000.0), HTML(value='')))"
      ]
     },
     "metadata": {},
     "output_type": "display_data"
    },
    {
     "data": {
      "application/vnd.jupyter.widget-view+json": {
       "model_id": "",
       "version_major": 2,
       "version_minor": 0
      },
      "text/plain": [
       "HBox(children=(HTML(value=''), FloatProgress(value=0.0, max=2000.0), HTML(value='')))"
      ]
     },
     "metadata": {},
     "output_type": "display_data"
    },
    {
     "data": {
      "application/vnd.jupyter.widget-view+json": {
       "model_id": "",
       "version_major": 2,
       "version_minor": 0
      },
      "text/plain": [
       "HBox(children=(HTML(value=''), FloatProgress(value=0.0, max=2000.0), HTML(value='')))"
      ]
     },
     "metadata": {},
     "output_type": "display_data"
    },
    {
     "data": {
      "application/vnd.jupyter.widget-view+json": {
       "model_id": "",
       "version_major": 2,
       "version_minor": 0
      },
      "text/plain": [
       "HBox(children=(HTML(value=''), FloatProgress(value=0.0, max=2000.0), HTML(value='')))"
      ]
     },
     "metadata": {},
     "output_type": "display_data"
    },
    {
     "name": "stdout",
     "output_type": "stream",
     "text": [
      "\n"
     ]
    }
   ],
   "source": [
    "runner = TwoLayerModel()\n",
    "output = []\n",
    "\n",
    "results = {}\n",
    "results['AR6-historical'] = {}\n",
    "\n",
    "dl = params.dl.mean()# * ur(cmip6_models['dl']['units'])\n",
    "du = params.du.mean()#  * ur(cmip6_models['du']['units'])\n",
    "eta = eta# * ur(cmip6_models['eta']['units'])\n",
    "lambda0 = lambda0# *  ur(cmip6_models['lambda0']['units'])\n",
    "efficacy = params.efficacy.mean()# * ur(cmip6_models['efficacy']['units'])\n",
    "\n",
    "def run_tlm(args):\n",
    "    in_forcing = args['in_forcing']\n",
    "    driver = ScmRun(\n",
    "        data=in_forcing,#[:,None]*np.ones((270,500)),\n",
    "        index=np.arange(1750,2020),\n",
    "        columns={\n",
    "            \"unit\": \"W/m^2\",\n",
    "            \"model\": \"openscm-twolayermodel-0.2.0\",\n",
    "            \"scenario\": \"historical-AR6\",\n",
    "            \"region\": \"World\",\n",
    "            \"variable\": \"Effective Radiative Forcing\",\n",
    "            \"run_id\": args['run_id']\n",
    "        }\n",
    "    )\n",
    "    runner.dl = dl*ur(cmip6_models['dl']['units'])\n",
    "    runner.du = du*ur(cmip6_models['du']['units'])\n",
    "    runner.eta = eta*ur(cmip6_models['eta']['units'])\n",
    "    runner.lambda0 = lambda0 * ur(cmip6_models['lambda0']['units'])\n",
    "    runner.efficacy = efficacy * ur(cmip6_models['efficacy']['units'])\n",
    "    return (runner.run_scenarios(driver, progress=False))\n",
    "    \n",
    "    \n",
    "if __name__ == '__main__':\n",
    "    with Pool(16) as pool:\n",
    "        result = list(tqdm(pool.imap(run_tlm, arglist), total=SAMPLES))\n",
    "    output = run_append(result)\n",
    "\n",
    "MODEL_TIMESTEP = runner.delta_t.to('s').magnitude\n",
    "results['AR6-historical']['effective_radiative_forcing'] = output.filter(variable='Effective Radiative Forcing').timeseries().values.T\n",
    "results['AR6-historical']['surface_temperature'] = output.filter(variable='Surface Temperature|Upper').timeseries().values.T\n",
    "\n",
    "\n",
    "if __name__ == '__main__':\n",
    "    for agent in tqdm(list(forcing_ensemble.keys())[:-1], desc='Removing one at a time'):\n",
    "        arglist = []\n",
    "        for i in range(SAMPLES):\n",
    "            in_forcing = forcing_ensemble['total'][:,i] - forcing_ensemble[agent][:,i]\n",
    "            arglist.append(\n",
    "                {\n",
    "                    'in_forcing' : in_forcing,\n",
    "                    'run_id': i\n",
    "                }\n",
    "            )\n",
    "        output = []\n",
    "        results['remove_%s' % agent] = {}\n",
    "        with Pool(16) as pool:\n",
    "            result = list(tqdm(pool.imap(run_tlm, arglist), total=SAMPLES, leave=False))\n",
    "        output = run_append(result)\n",
    "\n",
    "        results['remove_%s' % agent]['effective_radiative_forcing'] = output.filter(variable='Effective Radiative Forcing').timeseries().values.T\n",
    "        results['remove_%s' % agent]['surface_temperature'] = output.filter(variable='Surface Temperature|Upper').timeseries().values.T"
   ]
  },
  {
   "cell_type": "code",
   "execution_count": 15,
   "metadata": {},
   "outputs": [],
   "source": [
    "#save_dict_to_hdf5(results, '../data_input_large/ERF_leave_one_out.h5')"
   ]
  },
  {
   "cell_type": "code",
   "execution_count": 16,
   "metadata": {},
   "outputs": [
    {
     "data": {
      "text/plain": [
       "Text(0.5, 1.0, 'temperature impact of ERFaci')"
      ]
     },
     "execution_count": 16,
     "metadata": {},
     "output_type": "execute_result"
    },
    {
     "data": {
      "image/png": "[encoded data removed]",
      "text/plain": [
       "<Figure size 432x288 with 1 Axes>"
      ]
     },
     "metadata": {
      "needs_background": "light"
     },
     "output_type": "display_data"
    }
   ],
   "source": [
    "pl.hist((results['AR6-historical']['surface_temperature']-results['remove_aerosol-cloud_interactions']['surface_temperature'])[-1,:])\n",
    "pl.xlabel('ERF')\n",
    "pl.ylabel('samples')\n",
    "pl.title('temperature impact of ERFaci')"
   ]
  },
  {
   "cell_type": "code",
   "execution_count": 17,
   "metadata": {},
   "outputs": [
    {
     "data": {
      "text/plain": [
       "-0.4824290691359029"
      ]
     },
     "execution_count": 17,
     "metadata": {},
     "output_type": "execute_result"
    }
   ],
   "source": [
    "np.mean((results['AR6-historical']['surface_temperature']-results['remove_aerosol-cloud_interactions']['surface_temperature'])[-1,:])"
   ]
  },
  {
   "cell_type": "code",
   "execution_count": 18,
   "metadata": {},
   "outputs": [
    {
     "data": {
      "text/plain": [
       "-0.1253383904692148"
      ]
     },
     "execution_count": 18,
     "metadata": {},
     "output_type": "execute_result"
    }
   ],
   "source": [
    "np.mean((results['AR6-historical']['surface_temperature']-results['remove_aerosol-radiation_interactions']['surface_temperature'])[-1,:])"
   ]
  },
  {
   "cell_type": "markdown",
   "metadata": {},
   "source": [
    "## Varying the forcing, climate sensitivity and two-layer model response"
   ]
  },
  {
   "cell_type": "code",
   "execution_count": 19,
   "metadata": {},
   "outputs": [],
   "source": [
    "f2x = st.norm.rvs(loc=F2XCO2_MEAN, scale=F2XCO2_NINETY/NINETY_TO_ONESIGMA, size=SAMPLES, random_state=SEEDS[72])\n",
    "\n",
    "with open(\"../data_output/cmip6_twolayer_tuning_params.json\", \"r\") as read_file:\n",
    "    cmip6_models = json.load(read_file)\n",
    "params = pd.DataFrame({\n",
    "    param:cmip6_models[param]['model_data'] for param in cmip6_models\n",
    "})\n",
    "params.drop(columns=['T4xCO2'], inplace=True)\n",
    "NMODELS = len(cmip6_models)\n",
    "\n",
    "lambda0 = feedback\n",
    "efficacy = st.norm.rvs(loc=params.efficacy.mean(), scale=params.efficacy.std(), size=SAMPLES, random_state=SEEDS[65])\n",
    "eta = kappa/efficacy\n",
    "dl = st.truncnorm.rvs(-NINETY_TO_ONESIGMA, NINETY_TO_ONESIGMA, loc=params.dl.mean(), scale=params.dl.std(), size=SAMPLES, random_state=SEEDS[66])\n",
    "du = st.truncnorm.rvs(-NINETY_TO_ONESIGMA, NINETY_TO_ONESIGMA, loc=params.du.mean(), scale=params.du.std(), size=SAMPLES, random_state=SEEDS[67])"
   ]
  },
  {
   "cell_type": "code",
   "execution_count": 20,
   "metadata": {},
   "outputs": [],
   "source": [
    "arglist = []\n",
    "\n",
    "dl = np.array(dl)\n",
    "du = np.array(du)\n",
    "eta = np.array(eta)\n",
    "lambda0 = np.array(lambda0)\n",
    "efficacy = np.array(efficacy)\n",
    "\n",
    "for i in range(SAMPLES):\n",
    "    arglist.append(\n",
    "        {\n",
    "            'dl': dl[i],\n",
    "            'du': du[i],\n",
    "            'eta': eta[i],\n",
    "            'lambda0': lambda0[i],\n",
    "            'efficacy': efficacy[i],\n",
    "            'in_forcing' : forcing_ensemble['total'][:,i],\n",
    "            'run_id': i\n",
    "        }\n",
    "    )"
   ]
  },
  {
   "cell_type": "code",
   "execution_count": 21,
   "metadata": {},
   "outputs": [
    {
     "data": {
      "application/vnd.jupyter.widget-view+json": {
       "model_id": "179fdd1dbf3f48f0bf4078c88b1ddbbc",
       "version_major": 2,
       "version_minor": 0
      },
      "text/plain": [
       "HBox(children=(HTML(value=''), FloatProgress(value=0.0, max=2000.0), HTML(value='')))"
      ]
     },
     "metadata": {},
     "output_type": "display_data"
    },
    {
     "name": "stdout",
     "output_type": "stream",
     "text": [
      "\n"
     ]
    },
    {
     "data": {
      "application/vnd.jupyter.widget-view+json": {
       "model_id": "b9fb937b53834c1580f3f36dbd043322",
       "version_major": 2,
       "version_minor": 0
      },
      "text/plain": [
       "HBox(children=(HTML(value='Removing one at a time'), FloatProgress(value=0.0, max=13.0), HTML(value='')))"
      ]
     },
     "metadata": {},
     "output_type": "display_data"
    },
    {
     "data": {
      "application/vnd.jupyter.widget-view+json": {
       "model_id": "",
       "version_major": 2,
       "version_minor": 0
      },
      "text/plain": [
       "HBox(children=(HTML(value=''), FloatProgress(value=0.0, max=2000.0), HTML(value='')))"
      ]
     },
     "metadata": {},
     "output_type": "display_data"
    },
    {
     "data": {
      "application/vnd.jupyter.widget-view+json": {
       "model_id": "",
       "version_major": 2,
       "version_minor": 0
      },
      "text/plain": [
       "HBox(children=(HTML(value=''), FloatProgress(value=0.0, max=2000.0), HTML(value='')))"
      ]
     },
     "metadata": {},
     "output_type": "display_data"
    },
    {
     "data": {
      "application/vnd.jupyter.widget-view+json": {
       "model_id": "",
       "version_major": 2,
       "version_minor": 0
      },
      "text/plain": [
       "HBox(children=(HTML(value=''), FloatProgress(value=0.0, max=2000.0), HTML(value='')))"
      ]
     },
     "metadata": {},
     "output_type": "display_data"
    },
    {
     "data": {
      "application/vnd.jupyter.widget-view+json": {
       "model_id": "",
       "version_major": 2,
       "version_minor": 0
      },
      "text/plain": [
       "HBox(children=(HTML(value=''), FloatProgress(value=0.0, max=2000.0), HTML(value='')))"
      ]
     },
     "metadata": {},
     "output_type": "display_data"
    },
    {
     "data": {
      "application/vnd.jupyter.widget-view+json": {
       "model_id": "",
       "version_major": 2,
       "version_minor": 0
      },
      "text/plain": [
       "HBox(children=(HTML(value=''), FloatProgress(value=0.0, max=2000.0), HTML(value='')))"
      ]
     },
     "metadata": {},
     "output_type": "display_data"
    },
    {
     "data": {
      "application/vnd.jupyter.widget-view+json": {
       "model_id": "",
       "version_major": 2,
       "version_minor": 0
      },
      "text/plain": [
       "HBox(children=(HTML(value=''), FloatProgress(value=0.0, max=2000.0), HTML(value='')))"
      ]
     },
     "metadata": {},
     "output_type": "display_data"
    },
    {
     "data": {
      "application/vnd.jupyter.widget-view+json": {
       "model_id": "",
       "version_major": 2,
       "version_minor": 0
      },
      "text/plain": [
       "HBox(children=(HTML(value=''), FloatProgress(value=0.0, max=2000.0), HTML(value='')))"
      ]
     },
     "metadata": {},
     "output_type": "display_data"
    },
    {
     "data": {
      "application/vnd.jupyter.widget-view+json": {
       "model_id": "",
       "version_major": 2,
       "version_minor": 0
      },
      "text/plain": [
       "HBox(children=(HTML(value=''), FloatProgress(value=0.0, max=2000.0), HTML(value='')))"
      ]
     },
     "metadata": {},
     "output_type": "display_data"
    },
    {
     "data": {
      "application/vnd.jupyter.widget-view+json": {
       "model_id": "",
       "version_major": 2,
       "version_minor": 0
      },
      "text/plain": [
       "HBox(children=(HTML(value=''), FloatProgress(value=0.0, max=2000.0), HTML(value='')))"
      ]
     },
     "metadata": {},
     "output_type": "display_data"
    },
    {
     "data": {
      "application/vnd.jupyter.widget-view+json": {
       "model_id": "",
       "version_major": 2,
       "version_minor": 0
      },
      "text/plain": [
       "HBox(children=(HTML(value=''), FloatProgress(value=0.0, max=2000.0), HTML(value='')))"
      ]
     },
     "metadata": {},
     "output_type": "display_data"
    },
    {
     "data": {
      "application/vnd.jupyter.widget-view+json": {
       "model_id": "",
       "version_major": 2,
       "version_minor": 0
      },
      "text/plain": [
       "HBox(children=(HTML(value=''), FloatProgress(value=0.0, max=2000.0), HTML(value='')))"
      ]
     },
     "metadata": {},
     "output_type": "display_data"
    },
    {
     "data": {
      "application/vnd.jupyter.widget-view+json": {
       "model_id": "",
       "version_major": 2,
       "version_minor": 0
      },
      "text/plain": [
       "HBox(children=(HTML(value=''), FloatProgress(value=0.0, max=2000.0), HTML(value='')))"
      ]
     },
     "metadata": {},
     "output_type": "display_data"
    },
    {
     "data": {
      "application/vnd.jupyter.widget-view+json": {
       "model_id": "",
       "version_major": 2,
       "version_minor": 0
      },
      "text/plain": [
       "HBox(children=(HTML(value=''), FloatProgress(value=0.0, max=2000.0), HTML(value='')))"
      ]
     },
     "metadata": {},
     "output_type": "display_data"
    },
    {
     "name": "stdout",
     "output_type": "stream",
     "text": [
      "\n"
     ]
    }
   ],
   "source": [
    "runner = TwoLayerModel()\n",
    "output = []\n",
    "\n",
    "results['AR6-historical_climuncert'] = {}\n",
    "\n",
    "def run_tlm(args):\n",
    "    in_forcing = args['in_forcing']\n",
    "    driver = ScmRun(\n",
    "        data=in_forcing,#[:,None]*np.ones((270,500)),\n",
    "        index=np.arange(1750,2020),\n",
    "        columns={\n",
    "            \"unit\": \"W/m^2\",\n",
    "            \"model\": \"openscm-twolayermodel-0.2.0\",\n",
    "            \"scenario\": \"historical-AR6\",\n",
    "            \"region\": \"World\",\n",
    "            \"variable\": \"Effective Radiative Forcing\",\n",
    "            \"run_id\": args['run_id']\n",
    "        }\n",
    "    )\n",
    "    runner.dl = args['dl']*ur(cmip6_models['dl']['units'])\n",
    "    runner.du = args['du']*ur(cmip6_models['du']['units'])\n",
    "    runner.eta = args['eta']*ur(cmip6_models['eta']['units'])\n",
    "    runner.lambda0 = args['lambda0'] * ur(cmip6_models['lambda0']['units'])\n",
    "    runner.efficacy = args['efficacy'] * ur(cmip6_models['efficacy']['units'])\n",
    "    return (runner.run_scenarios(driver, progress=False))\n",
    "    \n",
    "    \n",
    "if __name__ == '__main__':\n",
    "    with Pool(16) as pool:\n",
    "        result = list(tqdm(pool.imap(run_tlm, arglist), total=SAMPLES))\n",
    "    output = run_append(result)\n",
    "\n",
    "MODEL_TIMESTEP = runner.delta_t.to('s').magnitude\n",
    "results['AR6-historical_climuncert']['effective_radiative_forcing'] = output.filter(variable='Effective Radiative Forcing').timeseries().values.T\n",
    "results['AR6-historical_climuncert']['surface_temperature'] = output.filter(variable='Surface Temperature|Upper').timeseries().values.T\n",
    "\n",
    "\n",
    "if __name__ == '__main__':\n",
    "    for agent in tqdm(list(forcing_ensemble.keys())[:-1], desc='Removing one at a time'):\n",
    "        arglist = []\n",
    "        for i in range(SAMPLES):\n",
    "            in_forcing = forcing_ensemble['total'][:,i] - forcing_ensemble[agent][:,i]\n",
    "            arglist.append(\n",
    "                {\n",
    "                    'in_forcing' : in_forcing,\n",
    "                    'run_id': i,\n",
    "                    'dl': dl[i],\n",
    "                    'du': du[i],\n",
    "                    'eta': eta[i],\n",
    "                    'lambda0': lambda0[i],\n",
    "                    'efficacy': efficacy[i],\n",
    "                }\n",
    "            )\n",
    "        output = []\n",
    "        results['remove_%s_climuncert' % agent] = {}\n",
    "        with Pool(16) as pool:\n",
    "            result = list(tqdm(pool.imap(run_tlm, arglist), total=SAMPLES, leave=False))\n",
    "        output = run_append(result)\n",
    "\n",
    "        results['remove_%s_climuncert' % agent]['effective_radiative_forcing'] = output.filter(variable='Effective Radiative Forcing').timeseries().values.T\n",
    "        results['remove_%s_climuncert' % agent]['surface_temperature'] = output.filter(variable='Surface Temperature|Upper').timeseries().values.T"
   ]
  },
  {
   "cell_type": "code",
   "execution_count": 22,
   "metadata": {},
   "outputs": [],
   "source": [
    "save_dict_to_hdf5(results, '../data_input_large/ERF_leave_one_out.h5')"
   ]
  },
  {
   "cell_type": "code",
   "execution_count": null,
   "metadata": {},
   "outputs": [],
   "source": []
  }
 ],
 "metadata": {
  "kernelspec": {
   "display_name": "Python 3",
   "language": "python",
   "name": "python3"
  },
  "language_info": {
   "codemirror_mode": {
    "name": "ipython",
    "version": 3
   },
   "file_extension": ".py",
   "mimetype": "text/x-python",
   "name": "python",
   "nbconvert_exporter": "python",
   "pygments_lexer": "ipython3",
   "version": "3.7.9"
  }
 },
 "nbformat": 4,
 "nbformat_minor": 4
}
