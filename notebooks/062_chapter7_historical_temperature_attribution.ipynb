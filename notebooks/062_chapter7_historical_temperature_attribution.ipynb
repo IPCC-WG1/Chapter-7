{
 "cells": [
  {
   "cell_type": "markdown",
   "metadata": {},
   "source": [
    "# This notebook here will provide the background for figs. 7.11 and 7.12."
   ]
  },
  {
   "cell_type": "code",
   "execution_count": 1,
   "metadata": {},
   "outputs": [
    {
     "name": "stderr",
     "output_type": "stream",
     "text": [
      "/Users/znicholls/miniconda3/envs/ar6-chris-smith/lib/python3.7/site-packages/openscm_twolayermodel/base.py:10: TqdmExperimentalWarning: Using `tqdm.autonotebook.tqdm` in notebook mode. Use `tqdm.tqdm` instead to force console mode (e.g. in jupyter console)\n",
      "  import tqdm.autonotebook as tqdman\n"
     ]
    }
   ],
   "source": [
    "import json\n",
    "import sys\n",
    "import os\n",
    "import random\n",
    "import numpy as np\n",
    "import scipy.stats as st       # v1.4+ needed\n",
    "import matplotlib.pyplot as pl\n",
    "import pandas as pd\n",
    "import pickle\n",
    "\n",
    "from ar6.utils.h5 import *\n",
    "from ar6.forcing.aerosol import aerocom_n, shindell\n",
    "from netCDF4 import Dataset\n",
    "from tqdm import tqdm_notebook\n",
    "from scipy.interpolate import interp1d\n",
    "from fair.constants import molwt\n",
    "from fair.constants.general import EARTH_RADIUS\n",
    "from fair.ancil import natural, cmip6_volcanic, cmip6_solar\n",
    "from fair.forcing.ghg import etminan, meinshausen\n",
    "\n",
    "import openscm_units.unit_registry as ur\n",
    "from scmdata import ScmRun, run_append\n",
    "\n",
    "from openscm_twolayermodel import TwoLayerModel\n",
    "import tqdm.autonotebook as tqdman"
   ]
  },
  {
   "cell_type": "markdown",
   "metadata": {},
   "source": [
    "## Ensemble generation\n",
    "\n",
    "We want to ensure reproducible results that don't change when this script is re-run. Grab list of pre-generated random seeds."
   ]
  },
  {
   "cell_type": "code",
   "execution_count": 2,
   "metadata": {},
   "outputs": [],
   "source": [
    "with open('../data_input/random_seeds.json', 'r') as filehandle:\n",
    "    SEEDS = json.load(filehandle)"
   ]
  },
  {
   "cell_type": "code",
   "execution_count": 3,
   "metadata": {},
   "outputs": [],
   "source": [
    "SAMPLES = 600#00\n",
    "NINETY_TO_ONESIGMA = st.norm.ppf(0.95)\n",
    "F2XCO2_MEAN = 4.00\n",
    "F2XCO2_NINETY = 0.48"
   ]
  },
  {
   "cell_type": "code",
   "execution_count": 4,
   "metadata": {},
   "outputs": [
    {
     "data": {
      "text/html": [
       "<div>\n",
       "<style scoped>\n",
       "    .dataframe tbody tr th:only-of-type {\n",
       "        vertical-align: middle;\n",
       "    }\n",
       "\n",
       "    .dataframe tbody tr th {\n",
       "        vertical-align: top;\n",
       "    }\n",
       "\n",
       "    .dataframe thead th {\n",
       "        text-align: right;\n",
       "    }\n",
       "</style>\n",
       "<table border=\"1\" class=\"dataframe\">\n",
       "  <thead>\n",
       "    <tr style=\"text-align: right;\">\n",
       "      <th></th>\n",
       "      <th>BC</th>\n",
       "      <th>CO</th>\n",
       "      <th>NH3</th>\n",
       "      <th>NOx</th>\n",
       "      <th>OC</th>\n",
       "      <th>SO2</th>\n",
       "      <th>VOC</th>\n",
       "    </tr>\n",
       "    <tr>\n",
       "      <th>year</th>\n",
       "      <th></th>\n",
       "      <th></th>\n",
       "      <th></th>\n",
       "      <th></th>\n",
       "      <th></th>\n",
       "      <th></th>\n",
       "      <th></th>\n",
       "    </tr>\n",
       "  </thead>\n",
       "  <tbody>\n",
       "    <tr>\n",
       "      <th>1750</th>\n",
       "      <td>2.097336</td>\n",
       "      <td>348.420476</td>\n",
       "      <td>6.683996</td>\n",
       "      <td>12.730074</td>\n",
       "      <td>15.447054</td>\n",
       "      <td>2.312083</td>\n",
       "      <td>60.599376</td>\n",
       "    </tr>\n",
       "    <tr>\n",
       "      <th>1751</th>\n",
       "      <td>2.072491</td>\n",
       "      <td>343.819148</td>\n",
       "      <td>6.615537</td>\n",
       "      <td>12.587160</td>\n",
       "      <td>15.188102</td>\n",
       "      <td>2.281498</td>\n",
       "      <td>59.667759</td>\n",
       "    </tr>\n",
       "    <tr>\n",
       "      <th>1752</th>\n",
       "      <td>2.063877</td>\n",
       "      <td>341.701465</td>\n",
       "      <td>6.573965</td>\n",
       "      <td>12.589121</td>\n",
       "      <td>15.033861</td>\n",
       "      <td>2.270899</td>\n",
       "      <td>59.213713</td>\n",
       "    </tr>\n",
       "    <tr>\n",
       "      <th>1753</th>\n",
       "      <td>2.071515</td>\n",
       "      <td>343.567551</td>\n",
       "      <td>6.635011</td>\n",
       "      <td>12.534665</td>\n",
       "      <td>15.181930</td>\n",
       "      <td>2.284976</td>\n",
       "      <td>59.610148</td>\n",
       "    </tr>\n",
       "    <tr>\n",
       "      <th>1754</th>\n",
       "      <td>2.098914</td>\n",
       "      <td>349.707369</td>\n",
       "      <td>6.767852</td>\n",
       "      <td>12.631676</td>\n",
       "      <td>15.558158</td>\n",
       "      <td>2.336934</td>\n",
       "      <td>60.855827</td>\n",
       "    </tr>\n",
       "    <tr>\n",
       "      <th>...</th>\n",
       "      <td>...</td>\n",
       "      <td>...</td>\n",
       "      <td>...</td>\n",
       "      <td>...</td>\n",
       "      <td>...</td>\n",
       "      <td>...</td>\n",
       "      <td>...</td>\n",
       "    </tr>\n",
       "    <tr>\n",
       "      <th>2015</th>\n",
       "      <td>7.992567</td>\n",
       "      <td>894.144647</td>\n",
       "      <td>62.462922</td>\n",
       "      <td>138.718989</td>\n",
       "      <td>30.046634</td>\n",
       "      <td>91.076152</td>\n",
       "      <td>213.006570</td>\n",
       "    </tr>\n",
       "    <tr>\n",
       "      <th>2016</th>\n",
       "      <td>7.918346</td>\n",
       "      <td>874.700320</td>\n",
       "      <td>63.054904</td>\n",
       "      <td>137.128483</td>\n",
       "      <td>30.086767</td>\n",
       "      <td>87.215738</td>\n",
       "      <td>211.778440</td>\n",
       "    </tr>\n",
       "    <tr>\n",
       "      <th>2017</th>\n",
       "      <td>7.886938</td>\n",
       "      <td>867.879243</td>\n",
       "      <td>63.739495</td>\n",
       "      <td>137.159668</td>\n",
       "      <td>30.057079</td>\n",
       "      <td>84.269791</td>\n",
       "      <td>211.717165</td>\n",
       "    </tr>\n",
       "    <tr>\n",
       "      <th>2018</th>\n",
       "      <td>7.841661</td>\n",
       "      <td>861.556227</td>\n",
       "      <td>64.298351</td>\n",
       "      <td>136.397333</td>\n",
       "      <td>29.920370</td>\n",
       "      <td>84.532481</td>\n",
       "      <td>210.331432</td>\n",
       "    </tr>\n",
       "    <tr>\n",
       "      <th>2019</th>\n",
       "      <td>7.785028</td>\n",
       "      <td>855.030049</td>\n",
       "      <td>64.863667</td>\n",
       "      <td>135.346810</td>\n",
       "      <td>29.751818</td>\n",
       "      <td>83.707858</td>\n",
       "      <td>209.077100</td>\n",
       "    </tr>\n",
       "  </tbody>\n",
       "</table>\n",
       "<p>270 rows × 7 columns</p>\n",
       "</div>"
      ],
      "text/plain": [
       "            BC          CO        NH3         NOx         OC        SO2  \\\n",
       "year                                                                      \n",
       "1750  2.097336  348.420476   6.683996   12.730074  15.447054   2.312083   \n",
       "1751  2.072491  343.819148   6.615537   12.587160  15.188102   2.281498   \n",
       "1752  2.063877  341.701465   6.573965   12.589121  15.033861   2.270899   \n",
       "1753  2.071515  343.567551   6.635011   12.534665  15.181930   2.284976   \n",
       "1754  2.098914  349.707369   6.767852   12.631676  15.558158   2.336934   \n",
       "...        ...         ...        ...         ...        ...        ...   \n",
       "2015  7.992567  894.144647  62.462922  138.718989  30.046634  91.076152   \n",
       "2016  7.918346  874.700320  63.054904  137.128483  30.086767  87.215738   \n",
       "2017  7.886938  867.879243  63.739495  137.159668  30.057079  84.269791   \n",
       "2018  7.841661  861.556227  64.298351  136.397333  29.920370  84.532481   \n",
       "2019  7.785028  855.030049  64.863667  135.346810  29.751818  83.707858   \n",
       "\n",
       "             VOC  \n",
       "year              \n",
       "1750   60.599376  \n",
       "1751   59.667759  \n",
       "1752   59.213713  \n",
       "1753   59.610148  \n",
       "1754   60.855827  \n",
       "...          ...  \n",
       "2015  213.006570  \n",
       "2016  211.778440  \n",
       "2017  211.717165  \n",
       "2018  210.331432  \n",
       "2019  209.077100  \n",
       "\n",
       "[270 rows x 7 columns]"
      ]
     },
     "execution_count": 4,
     "metadata": {},
     "output_type": "execute_result"
    }
   ],
   "source": [
    "emissions = pd.read_csv('../data_input_large/rcmip-emissions-annual-means-v5-1-0.csv')\n",
    "df_emissions = pd.concat([emissions.loc[(\n",
    "        (emissions.Variable=='Emissions|BC')|\n",
    "        (emissions.Variable=='Emissions|OC')|\n",
    "        (emissions.Variable=='Emissions|Sulfur')|\n",
    "        (emissions.Variable=='Emissions|NOx')|\n",
    "        (emissions.Variable=='Emissions|NH3')|\n",
    "        (emissions.Variable=='Emissions|VOC')|\n",
    "        (emissions.Variable=='Emissions|CO')\n",
    "    ) & (emissions.Scenario=='ssp245') & (emissions.Region=='World'), 'Variable'], emissions.loc[(\n",
    "        (emissions.Variable=='Emissions|BC')|\n",
    "        (emissions.Variable=='Emissions|OC')|\n",
    "        (emissions.Variable=='Emissions|Sulfur')|\n",
    "        (emissions.Variable=='Emissions|NOx')|\n",
    "        (emissions.Variable=='Emissions|NH3')|\n",
    "        (emissions.Variable=='Emissions|VOC')|\n",
    "        (emissions.Variable=='Emissions|CO')\n",
    "    ) & (emissions.Scenario=='ssp245') & (emissions.Region=='World'), '1750':'2100']], axis=1)#.interpolate(axis=1).T\n",
    "df_emissions.set_index('Variable', inplace=True)\n",
    "df_emissions = df_emissions.interpolate(axis=1).T\n",
    "df_emissions.rename(\n",
    "    columns={\n",
    "        'Emissions|BC': 'BC',\n",
    "        'Emissions|OC': 'OC',\n",
    "        'Emissions|Sulfur': 'SO2',\n",
    "        'Emissions|NOx': 'NOx',\n",
    "        'Emissions|NH3': 'NH3',\n",
    "        'Emissions|VOC': 'VOC',\n",
    "        'Emissions|CO': 'CO'\n",
    "    }, inplace=True\n",
    ")\n",
    "# only keep cols we want\n",
    "emissions = df_emissions[['SO2', 'BC', 'OC', 'NH3', 'NOx', 'VOC', 'CO']]\n",
    "emissions.index = emissions.index.astype('int')\n",
    "emissions.index.name='year'\n",
    "emissions.columns.name=None\n",
    "\n",
    "emissions_ceds_update = emissions.copy()\n",
    "\n",
    "emissions_old = pd.read_csv('../data_input_large/rcmip-emissions-annual-means-v5-1-0.csv')\n",
    "df_emissions = pd.concat([emissions_old.loc[(\n",
    "        (emissions_old.Variable=='Emissions|BC|MAGICC Fossil and Industrial')|\n",
    "        (emissions_old.Variable=='Emissions|OC|MAGICC Fossil and Industrial')|\n",
    "        (emissions_old.Variable=='Emissions|Sulfur|MAGICC Fossil and Industrial')|\n",
    "        (emissions_old.Variable=='Emissions|NOx|MAGICC Fossil and Industrial')|\n",
    "        (emissions_old.Variable=='Emissions|NH3|MAGICC Fossil and Industrial')|\n",
    "        (emissions_old.Variable=='Emissions|VOC|MAGICC Fossil and Industrial')|\n",
    "        (emissions_old.Variable=='Emissions|CO|MAGICC Fossil and Industrial')|\n",
    "        (emissions_old.Variable=='Emissions|BC|MAGICC AFOLU|Agriculture')|\n",
    "        (emissions_old.Variable=='Emissions|OC|MAGICC AFOLU|Agriculture')|\n",
    "        (emissions_old.Variable=='Emissions|Sulfur|MAGICC AFOLU|Agriculture')|\n",
    "        (emissions_old.Variable=='Emissions|NOx|MAGICC AFOLU|Agriculture')|\n",
    "        (emissions_old.Variable=='Emissions|NH3|MAGICC AFOLU|Agriculture')|\n",
    "        (emissions_old.Variable=='Emissions|VOC|MAGICC AFOLU|Agriculture')|\n",
    "        (emissions_old.Variable=='Emissions|CO|MAGICC AFOLU|Agriculture')\n",
    "    ) & (emissions_old.Scenario=='ssp245') & (emissions_old.Region=='World'), 'Variable'], emissions_old.loc[(\n",
    "        (emissions_old.Variable=='Emissions|BC|MAGICC Fossil and Industrial')|\n",
    "        (emissions_old.Variable=='Emissions|OC|MAGICC Fossil and Industrial')|\n",
    "        (emissions_old.Variable=='Emissions|Sulfur|MAGICC Fossil and Industrial')|\n",
    "        (emissions_old.Variable=='Emissions|NOx|MAGICC Fossil and Industrial')|\n",
    "        (emissions_old.Variable=='Emissions|NH3|MAGICC Fossil and Industrial')|\n",
    "        (emissions_old.Variable=='Emissions|VOC|MAGICC Fossil and Industrial')|\n",
    "        (emissions_old.Variable=='Emissions|CO|MAGICC Fossil and Industrial')|\n",
    "        (emissions_old.Variable=='Emissions|BC|MAGICC AFOLU|Agriculture')|\n",
    "        (emissions_old.Variable=='Emissions|OC|MAGICC AFOLU|Agriculture')|\n",
    "        (emissions_old.Variable=='Emissions|Sulfur|MAGICC AFOLU|Agriculture')|\n",
    "        (emissions_old.Variable=='Emissions|NOx|MAGICC AFOLU|Agriculture')|\n",
    "        (emissions_old.Variable=='Emissions|NH3|MAGICC AFOLU|Agriculture')|\n",
    "        (emissions_old.Variable=='Emissions|VOC|MAGICC AFOLU|Agriculture')|\n",
    "        (emissions_old.Variable=='Emissions|CO|MAGICC AFOLU|Agriculture')\n",
    "    ) & (emissions_old.Scenario=='ssp245') & (emissions_old.Region=='World'), '1750':'2100']], axis=1)#.interpolate(axis=1).T\n",
    "df_emissions.set_index('Variable', inplace=True)\n",
    "df_emissions = df_emissions.interpolate(axis=1).T\n",
    "for species in ['BC', 'OC', 'Sulfur', 'NOx', 'NH3', 'VOC', 'CO']:\n",
    "    df_emissions[species] = df_emissions['Emissions|{}|MAGICC Fossil and Industrial'.format(species)] + df_emissions['Emissions|{}|MAGICC AFOLU|Agriculture'.format(species)]\n",
    "df_emissions.rename(columns = {'Sulfur': 'SO2'}, inplace=True)\n",
    "df_emissions.drop(columns=[\n",
    "        'Emissions|BC|MAGICC Fossil and Industrial',\n",
    "        'Emissions|OC|MAGICC Fossil and Industrial',\n",
    "        'Emissions|Sulfur|MAGICC Fossil and Industrial',\n",
    "        'Emissions|NOx|MAGICC Fossil and Industrial',\n",
    "        'Emissions|NH3|MAGICC Fossil and Industrial',\n",
    "        'Emissions|VOC|MAGICC Fossil and Industrial',\n",
    "        'Emissions|CO|MAGICC Fossil and Industrial',\n",
    "        'Emissions|BC|MAGICC AFOLU|Agriculture',\n",
    "        'Emissions|OC|MAGICC AFOLU|Agriculture',\n",
    "        'Emissions|Sulfur|MAGICC AFOLU|Agriculture',\n",
    "        'Emissions|NOx|MAGICC AFOLU|Agriculture',\n",
    "        'Emissions|NH3|MAGICC AFOLU|Agriculture',\n",
    "        'Emissions|VOC|MAGICC AFOLU|Agriculture',\n",
    "        'Emissions|CO|MAGICC AFOLU|Agriculture',\n",
    "    ],\n",
    "    inplace=True\n",
    ")\n",
    "df_emissions.index = emissions.index.astype('int')\n",
    "df_emissions.index.name='year'\n",
    "df_emissions.columns.name=None\n",
    "\n",
    "global_total = {}\n",
    "for species in ['BC', 'OC', 'SO2', 'NH3', 'NOx', 'NMVOC', 'CO']:\n",
    "    df = pd.read_csv('../data_input_large/CEDS_v_2020_09_11_emissions/{}_global_CEDS_emissions_by_sector_2020_09_11.csv'.format(species))\n",
    "    global_total[species] = df.sum(axis=0).values[3:].astype(float) / 1000 # yes could get openscm on this\n",
    "    #unit = df.units[0]\n",
    "    #print(unit)\n",
    "global_total['VOC'] = global_total.pop('NMVOC')\n",
    "new_ceds = pd.DataFrame(global_total)\n",
    "new_ceds.index = np.arange(1750,2020)\n",
    "new_ceds.index = new_ceds.index.astype('int')\n",
    "new_ceds.index.name='year'\n",
    "new_ceds.columns.name=None\n",
    "emissions_ceds_update = new_ceds.loc[1750:2020] + emissions - df_emissions\n",
    "emissions_ceds_update.drop(index=range(2020,2101), inplace=True)\n",
    "emissions_ceds_update"
   ]
  },
  {
   "cell_type": "markdown",
   "metadata": {},
   "source": [
    "## Thermal parameters"
   ]
  },
  {
   "cell_type": "markdown",
   "metadata": {},
   "source": [
    "### Location"
   ]
  },
  {
   "cell_type": "code",
   "execution_count": 5,
   "metadata": {},
   "outputs": [
    {
     "data": {
      "text/plain": [
       "[<matplotlib.lines.Line2D at 0x107416bd0>]"
      ]
     },
     "execution_count": 5,
     "metadata": {},
     "output_type": "execute_result"
    },
    {
     "data": {
      "image/png": "[encoded data removed]",
      "text/plain": [
       "<Figure size 432x288 with 1 Axes>"
      ]
     },
     "metadata": {
      "needs_background": "light"
     },
     "output_type": "display_data"
    }
   ],
   "source": [
    "x = np.linspace(1.5,7,100)\n",
    "pl.plot(x, np.maximum(0.8*np.exp(-0.075*x**1.2), 0.2))\n",
    "pl.plot(x, np.maximum(0.82*np.exp(-0.08*x**1.2), 0.2))\n",
    "pl.plot(x, 0.85-0.08*x)\n",
    "pl.plot(x, 0.84-0.079*x)"
   ]
  },
  {
   "cell_type": "markdown",
   "metadata": {},
   "source": [
    "### Scale"
   ]
  },
  {
   "cell_type": "code",
   "execution_count": 6,
   "metadata": {},
   "outputs": [
    {
     "data": {
      "text/plain": [
       "[<matplotlib.lines.Line2D at 0x1279cbd90>]"
      ]
     },
     "execution_count": 6,
     "metadata": {},
     "output_type": "execute_result"
    },
    {
     "data": {
      "image/png": "[encoded data removed]",
      "text/plain": [
       "<Figure size 432x288 with 1 Axes>"
      ]
     },
     "metadata": {
      "needs_background": "light"
     },
     "output_type": "display_data"
    }
   ],
   "source": [
    "x = np.linspace(1.5,7,100)\n",
    "pl.plot(x, 0.11*np.exp(-0.09*x**0.9))\n",
    "pl.plot(x, 0.108-0.007*x)"
   ]
  },
  {
   "cell_type": "code",
   "execution_count": 7,
   "metadata": {},
   "outputs": [
    {
     "name": "stdout",
     "output_type": "stream",
     "text": [
      "0.679717666494595\n",
      "[2.00280074 2.33378037 3.00494616 3.98229414 4.90918088]\n",
      "[1.24347834 1.44098012 1.78849718 2.2094467  2.45718969]\n"
     ]
    },
    {
     "data": {
      "image/png": "[encoded data removed]",
      "text/plain": [
       "<Figure size 432x288 with 1 Axes>"
      ]
     },
     "metadata": {
      "needs_background": "light"
     },
     "output_type": "display_data"
    }
   ],
   "source": [
    "# draw distributions of ECS and TCR: 5-95% range 1.0 to 2.2 for TCR normal, 2-5 for ECS lognormal\n",
    "seed    = SEEDS[9]\n",
    "SAMPLES = 600\n",
    "feedback = 4/3 * st.truncnorm.rvs(-1.8, np.inf, loc=1, scale=0.29, size=SAMPLES, random_state=SEEDS[18])\n",
    "f2x = 4.00\n",
    "ecs = f2x/feedback\n",
    "rwf = st.norm.rvs(size=SAMPLES, loc=0.83-0.075*ecs, scale=0.108-0.007*ecs, random_state=11)\n",
    "tcr = ecs*rwf\n",
    "tcrecs = np.stack((tcr,ecs)).T\n",
    "\n",
    "pl.scatter(ecs, tcr)\n",
    "pl.xlabel('ECS')\n",
    "pl.ylabel('TCR')\n",
    "print(np.corrcoef((ecs,tcr))[0,1])\n",
    "print(np.percentile(ecs, (5,16,50,84,95)))\n",
    "print(np.percentile(tcr, (5,16,50,84,95)))"
   ]
  },
  {
   "cell_type": "code",
   "execution_count": 8,
   "metadata": {},
   "outputs": [
    {
     "data": {
      "text/plain": [
       "(array([ 46., 126., 137., 113.,  81.,  36.,  30.,  14.,  11.,   6.]),\n",
       " array([1.65854746, 2.116387  , 2.57422655, 3.0320661 , 3.48990565,\n",
       "        3.94774519, 4.40558474, 4.86342429, 5.32126383, 5.77910338,\n",
       "        6.23694293]),\n",
       " <BarContainer object of 10 artists>)"
      ]
     },
     "execution_count": 8,
     "metadata": {},
     "output_type": "execute_result"
    },
    {
     "data": {
      "image/png": "[encoded data removed]",
      "text/plain": [
       "<Figure size 432x288 with 1 Axes>"
      ]
     },
     "metadata": {
      "needs_background": "light"
     },
     "output_type": "display_data"
    }
   ],
   "source": [
    "pl.hist(ecs)"
   ]
  },
  {
   "cell_type": "code",
   "execution_count": 9,
   "metadata": {},
   "outputs": [
    {
     "data": {
      "text/plain": [
       "(array([  6.,  29.,  77., 101., 143., 102.,  64.,  51.,  18.,   9.]),\n",
       " array([0.85455585, 1.05729861, 1.26004137, 1.46278413, 1.66552689,\n",
       "        1.86826965, 2.07101241, 2.27375517, 2.47649793, 2.67924069,\n",
       "        2.88198345]),\n",
       " <BarContainer object of 10 artists>)"
      ]
     },
     "execution_count": 9,
     "metadata": {},
     "output_type": "execute_result"
    },
    {
     "data": {
      "image/png": "[encoded data removed]",
      "text/plain": [
       "<Figure size 432x288 with 1 Axes>"
      ]
     },
     "metadata": {
      "needs_background": "light"
     },
     "output_type": "display_data"
    }
   ],
   "source": [
    "pl.hist(tcr)"
   ]
  },
  {
   "cell_type": "code",
   "execution_count": 10,
   "metadata": {},
   "outputs": [
    {
     "data": {
      "text/plain": [
       "(array([ 59., 192., 197.,  92.,  38.,  17.,   3.,   1.,   0.,   1.]),\n",
       " array([0.24846198, 0.54135292, 0.83424385, 1.12713479, 1.42002573,\n",
       "        1.71291666, 2.0058076 , 2.29869854, 2.59158947, 2.88448041,\n",
       "        3.17737135]),\n",
       " <BarContainer object of 10 artists>)"
      ]
     },
     "execution_count": 10,
     "metadata": {},
     "output_type": "execute_result"
    },
    {
     "data": {
      "image/png": "[encoded data removed]",
      "text/plain": [
       "<Figure size 432x288 with 1 Axes>"
      ]
     },
     "metadata": {
      "needs_background": "light"
     },
     "output_type": "display_data"
    }
   ],
   "source": [
    "kappa = f2x/tcr - f2x/ecs\n",
    "pl.hist(kappa)"
   ]
  },
  {
   "cell_type": "code",
   "execution_count": 11,
   "metadata": {},
   "outputs": [],
   "source": [
    "f2x = st.norm.rvs(loc=F2XCO2_MEAN, scale=F2XCO2_NINETY/NINETY_TO_ONESIGMA, size=SAMPLES, random_state=SEEDS[72])\n",
    "\n",
    "with open(\"../data_output/cmip6_twolayer_tuning_params.json\", \"r\") as read_file:\n",
    "    cmip6_models = json.load(read_file)\n",
    "params = pd.DataFrame({\n",
    "    param:cmip6_models[param]['model_data'] for param in cmip6_models\n",
    "})\n",
    "params.drop(columns=['T4xCO2'], inplace=True)\n",
    "NMODELS = len(cmip6_models)\n",
    "\n",
    "lambda0 = feedback\n",
    "efficacy = st.norm.rvs(loc=params.efficacy.mean(), scale=params.efficacy.std(), size=SAMPLES, random_state=SEEDS[65])\n",
    "eta = kappa/efficacy\n",
    "dl = st.truncnorm.rvs(-NINETY_TO_ONESIGMA, NINETY_TO_ONESIGMA, loc=params.dl.mean(), scale=params.dl.std(), size=SAMPLES, random_state=SEEDS[66])\n",
    "du = st.truncnorm.rvs(-NINETY_TO_ONESIGMA, NINETY_TO_ONESIGMA, loc=params.du.mean(), scale=params.du.std(), size=SAMPLES, random_state=SEEDS[67])"
   ]
  },
  {
   "cell_type": "markdown",
   "metadata": {},
   "source": [
    "## Forcing uncertainties"
   ]
  },
  {
   "cell_type": "code",
   "execution_count": 12,
   "metadata": {},
   "outputs": [],
   "source": [
    "# these are standard deviations of the scale factor for normally distributed forcings (mean = 1). The list below is expressed in terms of 5-95% ranges.\n",
    "unc_ranges = np.array([\n",
    "    0.12,      # CO2\n",
    "    0.20,      # CH4: updated value from etminan 2016\n",
    "    0.14,      # N2O\n",
    "    0.17,      # other WMGHGs\n",
    "    0.50,      # tropospheric O3\n",
    "    0.50,      # stratospheric O3\n",
    "    1.00,      # stratospheric WV from CH4\n",
    "    0.67,      # contrails approx - could half range it (0.019 - 0.0574 - 0.098)\n",
    "    1.25,      # bc on snow - half-normal\n",
    "    0.50,      # land use change\n",
    "    5.0/20.0,  # volcanic\n",
    "    1,         # solar: TO DO NEED TO UPDATE\n",
    "])/NINETY_TO_ONESIGMA\n",
    "\n",
    "scale = st.norm.rvs(size=(SAMPLES,12), loc=np.ones((SAMPLES,12)), scale=np.ones((SAMPLES, 12)) * unc_ranges[None,:], random_state=36572)\n",
    "\n",
    "# here's a half normal\n",
    "## stratospheric ozone is asymmetric Gaussian. We can just scale the half of the distribution above/below best estimate\n",
    "scale[scale[:,8]<1,8] = 0.06/0.1*(scale[scale[:,8]<1,8]-1) + 1\n",
    "\n",
    "scale_df = pd.DataFrame(\n",
    "    data = scale,\n",
    "    columns = ['co2','ch4','n2o','other_wmghg','o3_tropospheric','o3_stratospheric','h2o_stratospheric','contrails','bc_on_snow','land_use','volcanic','solar']\n",
    ")"
   ]
  },
  {
   "cell_type": "markdown",
   "metadata": {},
   "source": [
    "### Aerosol emissions\n",
    "\n",
    "For ERFaci, following Smith, Harris et al. 2020: Energy Budget Constraints on the Time History of Aerosol Forcing and Climate Sensitivity\n",
    "\n",
    "For ERFari, start with Smith, Harris et al. and then add in the nitrate forcing from Myhre et al 2013\n",
    "\n",
    "For ERFari, take coefficients from Myhre et al., 2013: Radiative forcing of the direct aerosol effect from AeroCom Phase II\n",
    "simulations. The forcing calculated is 1850-2000 (or 2006; assume the same) using CMIP5 emissions."
   ]
  },
  {
   "cell_type": "code",
   "execution_count": 13,
   "metadata": {},
   "outputs": [
    {
     "name": "stderr",
     "output_type": "stream",
     "text": [
      "/Users/znicholls/miniconda3/envs/ar6-chris-smith/lib/python3.7/site-packages/ipykernel_launcher.py:22: TqdmDeprecationWarning: This function will be removed in tqdm==5.0.0\n",
      "Please use `tqdm.notebook.tqdm` instead of `tqdm.tqdm_notebook`\n"
     ]
    },
    {
     "data": {
      "application/vnd.jupyter.widget-view+json": {
       "model_id": "",
       "version_major": 2,
       "version_minor": 0
      },
      "text/plain": [
       "HBox(children=(HTML(value=''), FloatProgress(value=0.0, max=600.0), HTML(value='')))"
      ]
     },
     "metadata": {},
     "output_type": "display_data"
    }
   ],
   "source": [
    "df = pd.read_csv('../data_input_large/ERFari_samples.csv')\n",
    "ari_coeffs = df.values\n",
    "\n",
    "df = pd.read_csv('../data_input_large/ERFaci_samples.csv')\n",
    "aci_coeffs = np.exp(df.values)\n",
    "\n",
    "NINETY_TO_ONESIGMA = st.norm.ppf(0.95)\n",
    "\n",
    "# SCALE TO ASSESSMENT\n",
    "ERFari_scale = st.norm.rvs(loc=-0.30, scale=0.30/NINETY_TO_ONESIGMA, size=SAMPLES, random_state=786418)\n",
    "ERFaci_scale = st.norm.rvs(loc=-1.00, scale=0.65/NINETY_TO_ONESIGMA, size=SAMPLES, random_state=31318990)\n",
    "\n",
    "ERFari = np.zeros((270,SAMPLES))\n",
    "ERFaci = np.zeros((270,SAMPLES))\n",
    "    \n",
    "bc = emissions_ceds_update['BC'].values.squeeze()\n",
    "oc = emissions_ceds_update['OC'].values.squeeze()\n",
    "so2 = emissions_ceds_update['SO2'].values.squeeze()\n",
    "nh3 = emissions_ceds_update['NH3'].values.squeeze()\n",
    "nox = emissions_ceds_update['NOx'].values.squeeze()\n",
    "\n",
    "for i in tqdm_notebook(range(SAMPLES), leave=False):\n",
    "    ts2010 = np.mean(\n",
    "        aerocom_n(\n",
    "            [\n",
    "                bc[255:265],\n",
    "                oc[255:265],\n",
    "                so2[255:265],\n",
    "                    1.0*nh3[255:265]+\n",
    "                    0.0*nox[255:265],\n",
    "            ], ari_coeffs[i,1], ari_coeffs[i,2], ari_coeffs[i,0], ari_coeffs[i,3]\n",
    "        )\n",
    "    )\n",
    "    ts1750 = aerocom_n(\n",
    "        [\n",
    "            bc[0],\n",
    "            oc[0],\n",
    "            so2[0],\n",
    "                1.0*nh3[0]+\n",
    "                0.0*nox[0],\n",
    "        ], ari_coeffs[i,1], ari_coeffs[i,2], ari_coeffs[i,0], ari_coeffs[i,3]\n",
    "    )\n",
    "    ERFari[:,i] = (\n",
    "        aerocom_n(\n",
    "            [bc, oc, so2, 1.0*nh3+0.0*nox], ari_coeffs[i,1], ari_coeffs[i,2], ari_coeffs[i,0], ari_coeffs[i,3]\n",
    "        )\n",
    "    - ts1750)/(ts2010-ts1750)*ERFari_scale[i]\n",
    "\n",
    "    ts2010 = np.mean(\n",
    "        shindell(\n",
    "            [\n",
    "                so2[255:265],\n",
    "                    bc[255:265]+\n",
    "                    oc[255:265],\n",
    "                nh3[255:265]\n",
    "            ], 1.11, aci_coeffs[i,0], aci_coeffs[i,1], aci_coeffs[i,2]\n",
    "        )\n",
    "    )\n",
    "    ts1750 = shindell(\n",
    "        [\n",
    "            so2[0],\n",
    "                bc[0]+\n",
    "                oc[0],\n",
    "            nh3[0]\n",
    "        ], 1.11, aci_coeffs[i,0], aci_coeffs[i,1], aci_coeffs[i,2]\n",
    "    )\n",
    "    ERFaci[:,i] = (\n",
    "        shindell([so2, bc+oc, nh3], 1.11, aci_coeffs[i,0], aci_coeffs[i,1], aci_coeffs[i,2])\n",
    "    - ts1750)/(ts2010-ts1750)*ERFaci_scale[i]"
   ]
  },
  {
   "cell_type": "code",
   "execution_count": 14,
   "metadata": {},
   "outputs": [
    {
     "name": "stderr",
     "output_type": "stream",
     "text": [
      "/Users/znicholls/miniconda3/envs/ar6-chris-smith/lib/python3.7/site-packages/ipykernel_launcher.py:10: TqdmDeprecationWarning: This function will be removed in tqdm==5.0.0\n",
      "Please use `tqdm.notebook.tqdm` instead of `tqdm.tqdm_notebook`\n",
      "  # Remove the CWD from sys.path while we load stuff.\n"
     ]
    },
    {
     "data": {
      "application/vnd.jupyter.widget-view+json": {
       "model_id": "",
       "version_major": 2,
       "version_minor": 0
      },
      "text/plain": [
       "HBox(children=(HTML(value=''), FloatProgress(value=0.0, max=600.0), HTML(value='')))"
      ]
     },
     "metadata": {},
     "output_type": "display_data"
    },
    {
     "name": "stderr",
     "output_type": "stream",
     "text": [
      "/Users/znicholls/miniconda3/envs/ar6-chris-smith/lib/python3.7/site-packages/ipykernel_launcher.py:71: TqdmDeprecationWarning: This function will be removed in tqdm==5.0.0\n",
      "Please use `tqdm.notebook.tqdm` instead of `tqdm.tqdm_notebook`\n"
     ]
    },
    {
     "data": {
      "application/vnd.jupyter.widget-view+json": {
       "model_id": "239a5a77f9f94e05b71c817833b5a500",
       "version_major": 2,
       "version_minor": 0
      },
      "text/plain": [
       "HBox(children=(HTML(value=''), FloatProgress(value=0.0, max=600.0), HTML(value='')))"
      ]
     },
     "metadata": {},
     "output_type": "display_data"
    },
    {
     "name": "stdout",
     "output_type": "stream",
     "text": [
      "\n"
     ]
    }
   ],
   "source": [
    "ERFari = np.zeros((270,SAMPLES))\n",
    "ERFaci = np.zeros((270,SAMPLES))\n",
    "    \n",
    "bc = emissions_ceds_update['BC'].values.squeeze()\n",
    "oc = emissions_ceds_update['OC'].values.squeeze()\n",
    "so2 = emissions_ceds_update['SO2'].values.squeeze()\n",
    "nh3 = emissions_ceds_update['NH3'].values.squeeze()\n",
    "nox = emissions_ceds_update['NOx'].values.squeeze()\n",
    "\n",
    "for i in tqdm_notebook(range(SAMPLES), leave=False):\n",
    "    ts2010 = np.mean(\n",
    "        aerocom_n(\n",
    "            [\n",
    "                bc[255:265],\n",
    "                oc[255:265],\n",
    "                so2[255:265],\n",
    "                    0.6*nh3[255:265]+\n",
    "                    0.4*nox[255:265],\n",
    "            ], ari_coeffs[i,1], ari_coeffs[i,2], ari_coeffs[i,0], ari_coeffs[i,3]\n",
    "        )\n",
    "    )\n",
    "    ts1750 = aerocom_n(\n",
    "        [\n",
    "            bc[0],\n",
    "            oc[0],\n",
    "            so2[0],\n",
    "                0.6*nh3[0]+\n",
    "                0.4*nox[0],\n",
    "        ], ari_coeffs[i,1], ari_coeffs[i,2], ari_coeffs[i,0], ari_coeffs[i,3]\n",
    "    )\n",
    "    ERFari[:,i] = (\n",
    "        aerocom_n(\n",
    "            [bc, oc, so2, 0.6*nh3+0.4*nox], ari_coeffs[i,1], ari_coeffs[i,2], ari_coeffs[i,0], ari_coeffs[i,3]\n",
    "        )\n",
    "    - ts1750)/(ts2010-ts1750)*ERFari_scale[i]\n",
    "\n",
    "    ts2010 = np.mean(\n",
    "        shindell(\n",
    "            [\n",
    "                so2[255:265],\n",
    "                    bc[255:265]+\n",
    "                    oc[255:265],\n",
    "                nh3[255:265]\n",
    "            ], 1.11, aci_coeffs[i,0], aci_coeffs[i,1], aci_coeffs[i,2]\n",
    "        )\n",
    "    )\n",
    "    ts1750 = shindell(\n",
    "        [\n",
    "            so2[0],\n",
    "                bc[0]+\n",
    "                oc[0],\n",
    "            nh3[0]\n",
    "        ], 1.11, aci_coeffs[i,0], aci_coeffs[i,1], aci_coeffs[i,2]\n",
    "    )\n",
    "    ERFaci[:,i] = (\n",
    "        shindell([so2, bc+oc, nh3], 1.11, aci_coeffs[i,0], aci_coeffs[i,1], aci_coeffs[i,2])\n",
    "    - ts1750)/(ts2010-ts1750)*ERFaci_scale[i]\n",
    "\n",
    "bc_20101750 = st.norm.rvs(loc=0.3, scale=0.2/NINETY_TO_ONESIGMA, size=SAMPLES, random_state=SEEDS[95])\n",
    "oc_20101750 = st.norm.rvs(loc=-0.09, scale=0.07/NINETY_TO_ONESIGMA, size=SAMPLES, random_state=SEEDS[96])\n",
    "so2_20101750 = st.norm.rvs(loc=-0.4, scale=0.2/NINETY_TO_ONESIGMA, size=SAMPLES, random_state=SEEDS[97])\n",
    "nit_20101750 = st.norm.rvs(loc=-0.11, scale=0.05/NINETY_TO_ONESIGMA, size=SAMPLES, random_state=SEEDS[98])\n",
    "\n",
    "beta_bc = bc_20101750/(np.mean(emissions_ceds_update.loc[2005:2014,'BC'])-emissions_ceds_update.loc[1750,'BC'])\n",
    "beta_oc = oc_20101750/(np.mean(emissions_ceds_update.loc[2005:2014,'OC'])-emissions_ceds_update.loc[1750,'OC'])\n",
    "beta_so2 = so2_20101750/(np.mean(emissions_ceds_update.loc[2005:2014,'SO2'])-emissions_ceds_update.loc[1750,'SO2'])\n",
    "beta_nox = 0.4*nit_20101750/(np.mean(emissions_ceds_update.loc[2005:2014,'NOx'])-emissions_ceds_update.loc[1750,'NOx'])\n",
    "beta_nh3 = 0.6*nit_20101750/(np.mean(emissions_ceds_update.loc[2005:2014,'NH3'])-emissions_ceds_update.loc[1750,'NH3'])\n",
    "\n",
    "ERFari = np.zeros((270, SAMPLES))\n",
    "for i in tqdm_notebook(range(SAMPLES)):\n",
    "    ERFari[:, i] = (\n",
    "        (emissions_ceds_update.loc[:,'SO2']-emissions_ceds_update.loc[1750,'SO2']) * beta_so2[i] +\n",
    "        (emissions_ceds_update.loc[:,'BC']-emissions_ceds_update.loc[1750,'BC']) * beta_bc[i] +\n",
    "        (emissions_ceds_update.loc[:,'OC']-emissions_ceds_update.loc[1750,'OC']) * beta_oc[i] +\n",
    "        (emissions_ceds_update.loc[:,'NH3']-emissions_ceds_update.loc[1750,'NH3']) * beta_nh3[i] +\n",
    "        (emissions_ceds_update.loc[:,'NOx']-emissions_ceds_update.loc[1750,'NOx']) * beta_nox[i]\n",
    "    )"
   ]
  },
  {
   "cell_type": "markdown",
   "metadata": {},
   "source": [
    "### Testing and scaling aerosol emissions\n",
    "\n",
    "The ERFari has some funky possible time evolutions - these could be filtered out based on some criterion"
   ]
  },
  {
   "cell_type": "code",
   "execution_count": 15,
   "metadata": {},
   "outputs": [
    {
     "data": {
      "text/plain": [
       "[<matplotlib.lines.Line2D at 0x127a25750>]"
      ]
     },
     "execution_count": 15,
     "metadata": {},
     "output_type": "execute_result"
    },
    {
     "data": {
      "image/png": "[encoded data removed]",
      "text/plain": [
       "<Figure size 432x288 with 1 Axes>"
      ]
     },
     "metadata": {
      "needs_background": "light"
     },
     "output_type": "display_data"
    }
   ],
   "source": [
    "pl.fill_between(np.arange(1750, 2020), np.percentile(ERFari, 5, axis=1), np.percentile(ERFari, 95, axis=1), color='k', alpha=0.5)\n",
    "pl.plot(np.arange(1750,2020), np.percentile(ERFari, 50, axis=1), color='k')"
   ]
  },
  {
   "cell_type": "code",
   "execution_count": 16,
   "metadata": {},
   "outputs": [
    {
     "data": {
      "text/plain": [
       "[<matplotlib.lines.Line2D at 0x1278f0ed0>]"
      ]
     },
     "execution_count": 16,
     "metadata": {},
     "output_type": "execute_result"
    },
    {
     "data": {
      "image/png": "[encoded data removed]",
      "text/plain": [
       "<Figure size 432x288 with 1 Axes>"
      ]
     },
     "metadata": {
      "needs_background": "light"
     },
     "output_type": "display_data"
    }
   ],
   "source": [
    "pl.fill_between(np.arange(1750, 2020), np.percentile(ERFaci, 5, axis=1), np.percentile(ERFaci, 95, axis=1), color='k', alpha=0.5)\n",
    "pl.plot(np.arange(1750,2020), np.percentile(ERFaci, 50, axis=1), color='k')"
   ]
  },
  {
   "cell_type": "code",
   "execution_count": 17,
   "metadata": {},
   "outputs": [],
   "source": [
    "ERFaer = ERFari+ERFaci"
   ]
  },
  {
   "cell_type": "markdown",
   "metadata": {},
   "source": [
    "## Non-aerosol forcings"
   ]
  },
  {
   "cell_type": "code",
   "execution_count": 18,
   "metadata": {},
   "outputs": [
    {
     "name": "stderr",
     "output_type": "stream",
     "text": [
      "/Users/znicholls/miniconda3/envs/ar6-chris-smith/lib/python3.7/site-packages/ipykernel_launcher.py:3: FutureWarning: Support for multi-dimensional indexing (e.g. `obj[:, None]`) is deprecated and will be removed in a future version.  Convert to a numpy array before indexing instead.\n",
      "  This is separate from the ipykernel package so we can avoid doing imports until\n",
      "/Users/znicholls/miniconda3/envs/ar6-chris-smith/lib/python3.7/site-packages/ipykernel_launcher.py:4: FutureWarning: Support for multi-dimensional indexing (e.g. `obj[:, None]`) is deprecated and will be removed in a future version.  Convert to a numpy array before indexing instead.\n",
      "  after removing the cwd from sys.path.\n",
      "/Users/znicholls/miniconda3/envs/ar6-chris-smith/lib/python3.7/site-packages/ipykernel_launcher.py:5: FutureWarning: Support for multi-dimensional indexing (e.g. `obj[:, None]`) is deprecated and will be removed in a future version.  Convert to a numpy array before indexing instead.\n",
      "  \"\"\"\n",
      "/Users/znicholls/miniconda3/envs/ar6-chris-smith/lib/python3.7/site-packages/ipykernel_launcher.py:6: FutureWarning: Support for multi-dimensional indexing (e.g. `obj[:, None]`) is deprecated and will be removed in a future version.  Convert to a numpy array before indexing instead.\n",
      "  \n",
      "/Users/znicholls/miniconda3/envs/ar6-chris-smith/lib/python3.7/site-packages/ipykernel_launcher.py:7: FutureWarning: Support for multi-dimensional indexing (e.g. `obj[:, None]`) is deprecated and will be removed in a future version.  Convert to a numpy array before indexing instead.\n",
      "  import sys\n",
      "/Users/znicholls/miniconda3/envs/ar6-chris-smith/lib/python3.7/site-packages/ipykernel_launcher.py:8: FutureWarning: Support for multi-dimensional indexing (e.g. `obj[:, None]`) is deprecated and will be removed in a future version.  Convert to a numpy array before indexing instead.\n",
      "  \n",
      "/Users/znicholls/miniconda3/envs/ar6-chris-smith/lib/python3.7/site-packages/ipykernel_launcher.py:9: FutureWarning: Support for multi-dimensional indexing (e.g. `obj[:, None]`) is deprecated and will be removed in a future version.  Convert to a numpy array before indexing instead.\n",
      "  if __name__ == '__main__':\n",
      "/Users/znicholls/miniconda3/envs/ar6-chris-smith/lib/python3.7/site-packages/ipykernel_launcher.py:10: FutureWarning: Support for multi-dimensional indexing (e.g. `obj[:, None]`) is deprecated and will be removed in a future version.  Convert to a numpy array before indexing instead.\n",
      "  # Remove the CWD from sys.path while we load stuff.\n",
      "/Users/znicholls/miniconda3/envs/ar6-chris-smith/lib/python3.7/site-packages/ipykernel_launcher.py:13: FutureWarning: Support for multi-dimensional indexing (e.g. `obj[:, None]`) is deprecated and will be removed in a future version.  Convert to a numpy array before indexing instead.\n",
      "  del sys.path[0]\n",
      "/Users/znicholls/miniconda3/envs/ar6-chris-smith/lib/python3.7/site-packages/ipykernel_launcher.py:14: FutureWarning: Support for multi-dimensional indexing (e.g. `obj[:, None]`) is deprecated and will be removed in a future version.  Convert to a numpy array before indexing instead.\n",
      "  \n",
      "/Users/znicholls/miniconda3/envs/ar6-chris-smith/lib/python3.7/site-packages/ipykernel_launcher.py:15: FutureWarning: Support for multi-dimensional indexing (e.g. `obj[:, None]`) is deprecated and will be removed in a future version.  Convert to a numpy array before indexing instead.\n",
      "  from ipykernel import kernelapp as app\n",
      "/Users/znicholls/miniconda3/envs/ar6-chris-smith/lib/python3.7/site-packages/ipykernel_launcher.py:16: FutureWarning: Support for multi-dimensional indexing (e.g. `obj[:, None]`) is deprecated and will be removed in a future version.  Convert to a numpy array before indexing instead.\n",
      "  app.launch_new_instance()\n"
     ]
    }
   ],
   "source": [
    "df = pd.read_csv('../data_output/AR6_ERF_1750-2019.csv')\n",
    "forcing_ensemble = {}\n",
    "forcing_ensemble['co2'] = df['co2'][:,None] * scale_df['co2'][None,:]\n",
    "forcing_ensemble['ch4'] = df['ch4'][:,None] * scale_df['ch4'][None,:]\n",
    "forcing_ensemble['n2o'] = df['n2o'][:,None] * scale_df['n2o'][None,:]\n",
    "forcing_ensemble['other_wmghg'] = df['other_wmghg'][:,None] * scale_df['other_wmghg'][None,:]\n",
    "forcing_ensemble['o3_tropospheric'] = df['o3_tropospheric'][:,None] * scale_df['o3_tropospheric'][None,:]\n",
    "forcing_ensemble['o3_stratospheric'] = df['o3_stratospheric'][:,None] * scale_df['o3_tropospheric'][None,:]\n",
    "forcing_ensemble['h2o_stratospheric'] = df['h2o_stratospheric'][:,None] * scale_df['h2o_stratospheric'][None,:]\n",
    "forcing_ensemble['contrails'] = df['contrails'][:,None] * scale_df['contrails'][None,:]\n",
    "forcing_ensemble['aerosol-radiation_interactions'] = ERFari\n",
    "forcing_ensemble['aerosol-cloud_interactions'] = ERFaci\n",
    "forcing_ensemble['bc_on_snow'] = df['bc_on_snow'][:,None] * scale_df['bc_on_snow'][None,:]\n",
    "forcing_ensemble['land_use'] = df['land_use'][:,None] * scale_df['land_use'][None,:]\n",
    "forcing_ensemble['volcanic'] = df['volcanic'][:,None] * scale_df['volcanic'][None,:]\n",
    "forcing_ensemble['solar'] = df['solar'][:,None] * scale_df['solar'][None,:]\n",
    "forcing_ensemble['total'] = (\n",
    "    forcing_ensemble['co2'] +\n",
    "    forcing_ensemble['ch4'] +\n",
    "    forcing_ensemble['n2o'] +\n",
    "    forcing_ensemble['other_wmghg'] +\n",
    "    forcing_ensemble['o3_tropospheric'] +\n",
    "    forcing_ensemble['o3_stratospheric'] +\n",
    "    forcing_ensemble['h2o_stratospheric'] +\n",
    "    forcing_ensemble['contrails'] +\n",
    "    forcing_ensemble['aerosol-radiation_interactions'] +\n",
    "    forcing_ensemble['aerosol-cloud_interactions'] +\n",
    "    forcing_ensemble['bc_on_snow'] +\n",
    "    forcing_ensemble['land_use'] +\n",
    "    forcing_ensemble['volcanic'] +\n",
    "    forcing_ensemble['solar']\n",
    ")"
   ]
  },
  {
   "cell_type": "code",
   "execution_count": 19,
   "metadata": {},
   "outputs": [
    {
     "data": {
      "text/plain": [
       "(270, 600)"
      ]
     },
     "execution_count": 19,
     "metadata": {},
     "output_type": "execute_result"
    }
   ],
   "source": [
    "forcing_ensemble[\"total\"].shape"
   ]
  },
  {
   "cell_type": "code",
   "execution_count": 22,
   "metadata": {},
   "outputs": [
    {
     "data": {
      "text/plain": [
       "['co2',\n",
       " 'ch4',\n",
       " 'n2o',\n",
       " 'other_wmghg',\n",
       " 'o3_tropospheric',\n",
       " 'o3_stratospheric',\n",
       " 'h2o_stratospheric',\n",
       " 'contrails',\n",
       " 'aerosol-radiation_interactions',\n",
       " 'aerosol-cloud_interactions',\n",
       " 'bc_on_snow',\n",
       " 'land_use',\n",
       " 'volcanic',\n",
       " 'solar',\n",
       " 'total']"
      ]
     },
     "execution_count": 22,
     "metadata": {},
     "output_type": "execute_result"
    }
   ],
   "source": [
    "list(forcing_ensemble.keys())"
   ]
  },
  {
   "cell_type": "code",
   "execution_count": 24,
   "metadata": {},
   "outputs": [],
   "source": [
    "import scmdata"
   ]
  },
  {
   "cell_type": "code",
   "execution_count": 32,
   "metadata": {},
   "outputs": [
    {
     "data": {
      "text/plain": [
       "<scmdata.ScmRun (timeseries: 9000, timepoints: 270)>\n",
       "Time:\n",
       "\tStart: 1750-01-01T00:00:00\n",
       "\tEnd: 2019-01-01T00:00:00\n",
       "Meta:\n",
       "\t      ensemble_member        model region        scenario     unit variable\n",
       "\t0                   0  unspecified  World  historical-AR6  W / m^2      co2\n",
       "\t1                   1  unspecified  World  historical-AR6  W / m^2      co2\n",
       "\t2                   2  unspecified  World  historical-AR6  W / m^2      co2\n",
       "\t3                   3  unspecified  World  historical-AR6  W / m^2      co2\n",
       "\t4                   4  unspecified  World  historical-AR6  W / m^2      co2\n",
       "\t...               ...          ...    ...             ...      ...      ...\n",
       "\t8995              595  unspecified  World  historical-AR6  W / m^2    total\n",
       "\t8996              596  unspecified  World  historical-AR6  W / m^2    total\n",
       "\t8997              597  unspecified  World  historical-AR6  W / m^2    total\n",
       "\t8998              598  unspecified  World  historical-AR6  W / m^2    total\n",
       "\t8999              599  unspecified  World  historical-AR6  W / m^2    total\n",
       "\t\n",
       "\t[9000 rows x 6 columns]"
      ]
     },
     "execution_count": 32,
     "metadata": {},
     "output_type": "execute_result"
    }
   ],
   "source": [
    "to_save = []\n",
    "for k, v in forcing_ensemble.items():\n",
    "    v_scmrun = scmdata.ScmRun(\n",
    "        index=range(1750, 2019 + 1),\n",
    "        data=v,\n",
    "        columns={\n",
    "            \"variable\": k,\n",
    "            \"unit\": \"W / m^2\",\n",
    "            \"model\": \"unspecified\",\n",
    "            \"scenario\": \"historical-AR6\",\n",
    "            \"region\": \"World\",\n",
    "            \"ensemble_member\": range(v.shape[1])\n",
    "        }\n",
    "    )\n",
    "    to_save.append(v_scmrun)\n",
    "    \n",
    "to_save = scmdata.run_append(to_save)\n",
    "to_save"
   ]
  },
  {
   "cell_type": "code",
   "execution_count": 35,
   "metadata": {},
   "outputs": [],
   "source": [
    "to_save.to_nc(\"chris-smith-ar6-forcing-timeseries.nc\", dimensions=(\"ensemble_member\",))"
   ]
  },
  {
   "cell_type": "markdown",
   "metadata": {},
   "source": [
    "# Run climate model\n",
    "\n",
    "Remove one forcing at a time, and take differences WRT the all forcing.\n",
    "\n",
    "Use ECS = 3, TCR = 1.8, central CMIP6 values for dl, du, eta, efficacy"
   ]
  },
  {
   "cell_type": "code",
   "execution_count": 22,
   "metadata": {},
   "outputs": [
    {
     "name": "stdout",
     "output_type": "stream",
     "text": [
      "0.8888888888888891\n",
      "0.8262461955369731\n"
     ]
    },
    {
     "data": {
      "text/plain": [
       "0.6862967868401252"
      ]
     },
     "execution_count": 22,
     "metadata": {},
     "output_type": "execute_result"
    }
   ],
   "source": [
    "ecs = 3.0\n",
    "tcr = 1.8\n",
    "f2x = 4.0\n",
    "lambda0 = f2x / ecs\n",
    "kappa = f2x/tcr - f2x/ecs\n",
    "print(kappa)\n",
    "print((params.efficacy * params.eta).mean())\n",
    "# let's go with efficacy as given and scale eta accordingly\n",
    "eta = kappa/params.efficacy.mean()\n",
    "eta"
   ]
  },
  {
   "cell_type": "markdown",
   "metadata": {},
   "source": [
    "## Only varying the forcing"
   ]
  },
  {
   "cell_type": "code",
   "execution_count": 23,
   "metadata": {},
   "outputs": [
    {
     "data": {
      "application/vnd.jupyter.widget-view+json": {
       "model_id": "047fd67c073c41d19c89cfb8f8b29289",
       "version_major": 2,
       "version_minor": 0
      },
      "text/plain": [
       "HBox(children=(HTML(value='Forcing variants'), FloatProgress(value=0.0, max=20.0), HTML(value='')))"
      ]
     },
     "metadata": {},
     "output_type": "display_data"
    },
    {
     "name": "stdout",
     "output_type": "stream",
     "text": [
      "\n"
     ]
    },
    {
     "data": {
      "application/vnd.jupyter.widget-view+json": {
       "model_id": "98d1fe4e070b425094ef9795545c65da",
       "version_major": 2,
       "version_minor": 0
      },
      "text/plain": [
       "HBox(children=(HTML(value='Removing one at a time'), FloatProgress(value=0.0, max=14.0), HTML(value='')))"
      ]
     },
     "metadata": {},
     "output_type": "display_data"
    },
    {
     "data": {
      "application/vnd.jupyter.widget-view+json": {
       "model_id": "",
       "version_major": 2,
       "version_minor": 0
      },
      "text/plain": [
       "HBox(children=(HTML(value='Forcing variants'), FloatProgress(value=0.0, max=20.0), HTML(value='')))"
      ]
     },
     "metadata": {},
     "output_type": "display_data"
    },
    {
     "data": {
      "application/vnd.jupyter.widget-view+json": {
       "model_id": "",
       "version_major": 2,
       "version_minor": 0
      },
      "text/plain": [
       "HBox(children=(HTML(value='Forcing variants'), FloatProgress(value=0.0, max=20.0), HTML(value='')))"
      ]
     },
     "metadata": {},
     "output_type": "display_data"
    },
    {
     "data": {
      "application/vnd.jupyter.widget-view+json": {
       "model_id": "",
       "version_major": 2,
       "version_minor": 0
      },
      "text/plain": [
       "HBox(children=(HTML(value='Forcing variants'), FloatProgress(value=0.0, max=20.0), HTML(value='')))"
      ]
     },
     "metadata": {},
     "output_type": "display_data"
    },
    {
     "data": {
      "application/vnd.jupyter.widget-view+json": {
       "model_id": "",
       "version_major": 2,
       "version_minor": 0
      },
      "text/plain": [
       "HBox(children=(HTML(value='Forcing variants'), FloatProgress(value=0.0, max=20.0), HTML(value='')))"
      ]
     },
     "metadata": {},
     "output_type": "display_data"
    },
    {
     "data": {
      "application/vnd.jupyter.widget-view+json": {
       "model_id": "",
       "version_major": 2,
       "version_minor": 0
      },
      "text/plain": [
       "HBox(children=(HTML(value='Forcing variants'), FloatProgress(value=0.0, max=20.0), HTML(value='')))"
      ]
     },
     "metadata": {},
     "output_type": "display_data"
    },
    {
     "data": {
      "application/vnd.jupyter.widget-view+json": {
       "model_id": "",
       "version_major": 2,
       "version_minor": 0
      },
      "text/plain": [
       "HBox(children=(HTML(value='Forcing variants'), FloatProgress(value=0.0, max=20.0), HTML(value='')))"
      ]
     },
     "metadata": {},
     "output_type": "display_data"
    },
    {
     "data": {
      "application/vnd.jupyter.widget-view+json": {
       "model_id": "",
       "version_major": 2,
       "version_minor": 0
      },
      "text/plain": [
       "HBox(children=(HTML(value='Forcing variants'), FloatProgress(value=0.0, max=20.0), HTML(value='')))"
      ]
     },
     "metadata": {},
     "output_type": "display_data"
    },
    {
     "data": {
      "application/vnd.jupyter.widget-view+json": {
       "model_id": "",
       "version_major": 2,
       "version_minor": 0
      },
      "text/plain": [
       "HBox(children=(HTML(value='Forcing variants'), FloatProgress(value=0.0, max=20.0), HTML(value='')))"
      ]
     },
     "metadata": {},
     "output_type": "display_data"
    },
    {
     "data": {
      "application/vnd.jupyter.widget-view+json": {
       "model_id": "",
       "version_major": 2,
       "version_minor": 0
      },
      "text/plain": [
       "HBox(children=(HTML(value='Forcing variants'), FloatProgress(value=0.0, max=20.0), HTML(value='')))"
      ]
     },
     "metadata": {},
     "output_type": "display_data"
    },
    {
     "data": {
      "application/vnd.jupyter.widget-view+json": {
       "model_id": "",
       "version_major": 2,
       "version_minor": 0
      },
      "text/plain": [
       "HBox(children=(HTML(value='Forcing variants'), FloatProgress(value=0.0, max=20.0), HTML(value='')))"
      ]
     },
     "metadata": {},
     "output_type": "display_data"
    },
    {
     "data": {
      "application/vnd.jupyter.widget-view+json": {
       "model_id": "",
       "version_major": 2,
       "version_minor": 0
      },
      "text/plain": [
       "HBox(children=(HTML(value='Forcing variants'), FloatProgress(value=0.0, max=20.0), HTML(value='')))"
      ]
     },
     "metadata": {},
     "output_type": "display_data"
    },
    {
     "data": {
      "application/vnd.jupyter.widget-view+json": {
       "model_id": "",
       "version_major": 2,
       "version_minor": 0
      },
      "text/plain": [
       "HBox(children=(HTML(value='Forcing variants'), FloatProgress(value=0.0, max=20.0), HTML(value='')))"
      ]
     },
     "metadata": {},
     "output_type": "display_data"
    },
    {
     "data": {
      "application/vnd.jupyter.widget-view+json": {
       "model_id": "",
       "version_major": 2,
       "version_minor": 0
      },
      "text/plain": [
       "HBox(children=(HTML(value='Forcing variants'), FloatProgress(value=0.0, max=20.0), HTML(value='')))"
      ]
     },
     "metadata": {},
     "output_type": "display_data"
    },
    {
     "data": {
      "application/vnd.jupyter.widget-view+json": {
       "model_id": "",
       "version_major": 2,
       "version_minor": 0
      },
      "text/plain": [
       "HBox(children=(HTML(value='Forcing variants'), FloatProgress(value=0.0, max=20.0), HTML(value='')))"
      ]
     },
     "metadata": {},
     "output_type": "display_data"
    },
    {
     "name": "stdout",
     "output_type": "stream",
     "text": [
      "\n"
     ]
    }
   ],
   "source": [
    "runner = TwoLayerModel()\n",
    "output = []\n",
    "\n",
    "results = {}\n",
    "results['historical-AR6'] = {}\n",
    "\n",
    "dl = params.dl.mean() * ur(cmip6_models['dl']['units'])\n",
    "du = params.du.mean()  * ur(cmip6_models['du']['units'])\n",
    "eta = eta * ur(cmip6_models['eta']['units'])\n",
    "lambda0 = lambda0 *  ur(cmip6_models['lambda0']['units'])\n",
    "efficacy = params.efficacy.mean() * ur(cmip6_models['efficacy']['units'])\n",
    "\n",
    "results['AR6-historical'] = {}\n",
    "for i in tqdman.tqdm(range(SAMPLES), desc=\"Forcing variants\"):\n",
    "    in_forcing = forcing_ensemble['total'][:,i]\n",
    "    driver = ScmRun(\n",
    "        data=in_forcing,#[:,None]*np.ones((270,500)),\n",
    "        index=np.arange(1750,2020),\n",
    "        columns={\n",
    "            \"unit\": \"W/m^2\",\n",
    "            \"model\": \"openscm-twolayermodel-0.2.0\",\n",
    "            \"scenario\": \"historical-AR6\",\n",
    "            \"region\": \"World\",\n",
    "            \"variable\": \"Effective Radiative Forcing\",\n",
    "            \"run_id\": i\n",
    "        }\n",
    "    )\n",
    "    runner.dl = dl\n",
    "    runner.du = du\n",
    "    runner.eta = eta\n",
    "    runner.lambda0 = lambda0\n",
    "    runner.efficacy = efficacy\n",
    "    output.append(runner.run_scenarios(driver, progress=False))\n",
    "output = run_append(output)\n",
    "MODEL_TIMESTEP = runner.delta_t.to('s').magnitude\n",
    "results['AR6-historical']['effective_radiative_forcing'] = output.filter(variable='Effective Radiative Forcing').timeseries().values.T\n",
    "results['AR6-historical']['surface_temperature'] = output.filter(variable='Surface Temperature|Upper').timeseries().values.T\n",
    "\n",
    "for agent in tqdman.tqdm(list(forcing_ensemble.keys())[:-1], desc='Removing one at a time'):\n",
    "    output = []\n",
    "    results['remove_%s' % agent] = {}\n",
    "    for i in tqdman.tqdm(range(SAMPLES), desc=\"Forcing variants\", leave=False):\n",
    "        in_forcing = forcing_ensemble['total'][:,i] - forcing_ensemble[agent][:,i]\n",
    "        driver = ScmRun(\n",
    "            data=in_forcing,#[:,None]*np.ones((270,500)),\n",
    "            index=np.arange(1750,2020),\n",
    "            columns={\n",
    "                \"unit\": \"W/m^2\",\n",
    "                \"model\": \"openscm-twolayermodel-0.2.0\",\n",
    "                \"scenario\": \"historical-AR6\",\n",
    "                \"region\": \"World\",\n",
    "                \"variable\": \"Effective Radiative Forcing\",\n",
    "                \"run_id\": i\n",
    "            }\n",
    "        )\n",
    "        runner.dl = dl\n",
    "        runner.du = du\n",
    "        runner.eta = eta\n",
    "        runner.lambda0 = lambda0\n",
    "        runner.efficacy = efficacy\n",
    "        output.append(runner.run_scenarios(driver, progress=False))\n",
    "    output = run_append(output)\n",
    "    MODEL_TIMESTEP = runner.delta_t.to('s').magnitude\n",
    "    results['remove_%s' % agent]['effective_radiative_forcing'] = output.filter(variable='Effective Radiative Forcing').timeseries().values.T\n",
    "    results['remove_%s' % agent]['surface_temperature'] = output.filter(variable='Surface Temperature|Upper').timeseries().values.T"
   ]
  },
  {
   "cell_type": "code",
   "execution_count": 24,
   "metadata": {},
   "outputs": [],
   "source": [
    "save_dict_to_hdf5(results, '../data_input_large/ERF_leave_one_out.h5')"
   ]
  },
  {
   "cell_type": "code",
   "execution_count": 25,
   "metadata": {},
   "outputs": [
    {
     "data": {
      "text/plain": [
       "(array([3., 3., 5., 5., 2., 0., 1., 0., 0., 1.]),\n",
       " array([-0.79835834, -0.70352633, -0.60869432, -0.51386231, -0.4190303 ,\n",
       "        -0.32419829, -0.22936628, -0.13453426, -0.03970225,  0.05512976,\n",
       "         0.14996177]),\n",
       " <BarContainer object of 10 artists>)"
      ]
     },
     "execution_count": 25,
     "metadata": {},
     "output_type": "execute_result"
    },
    {
     "data": {
      "image/png": "[encoded data removed]",
      "text/plain": [
       "<Figure size 432x288 with 1 Axes>"
      ]
     },
     "metadata": {
      "needs_background": "light"
     },
     "output_type": "display_data"
    }
   ],
   "source": [
    "pl.hist((results['AR6-historical']['surface_temperature']-results['remove_aerosol-cloud_interactions']['surface_temperature'])[-1,:])"
   ]
  },
  {
   "cell_type": "code",
   "execution_count": 26,
   "metadata": {},
   "outputs": [
    {
     "data": {
      "text/plain": [
       "-0.5091762231111142"
      ]
     },
     "execution_count": 26,
     "metadata": {},
     "output_type": "execute_result"
    }
   ],
   "source": [
    "np.mean((results['AR6-historical']['surface_temperature']-results['remove_aerosol-cloud_interactions']['surface_temperature'])[-1,:])"
   ]
  },
  {
   "cell_type": "code",
   "execution_count": 27,
   "metadata": {},
   "outputs": [
    {
     "data": {
      "text/plain": [
       "-0.1098808009433739"
      ]
     },
     "execution_count": 27,
     "metadata": {},
     "output_type": "execute_result"
    }
   ],
   "source": [
    "np.mean((results['AR6-historical']['surface_temperature']-results['remove_aerosol-radiation_interactions']['surface_temperature'])[-1,:])"
   ]
  },
  {
   "cell_type": "markdown",
   "metadata": {},
   "source": [
    "## Varying the forcing, climate sensitivity and two-layer model response"
   ]
  },
  {
   "cell_type": "code",
   "execution_count": 31,
   "metadata": {},
   "outputs": [],
   "source": [
    "# draw distributions of ECS and TCR: 5-95% range 1.0 to 2.2 for TCR normal, 2-5 for ECS lognormal\n",
    "seed    = SEEDS[9]\n",
    "SAMPLES=20#00\n",
    "feedback = 4/3 * st.truncnorm.rvs(-1.8, np.inf, loc=1, scale=0.29, size=SAMPLES, random_state=SEEDS[18])\n",
    "f2x = 4.00\n",
    "ecs = f2x/feedback\n",
    "rwf = st.norm.rvs(size=SAMPLES, loc=0.83-0.075*ecs, scale=0.108-0.007*ecs, random_state=11)\n",
    "tcr = ecs*rwf\n",
    "kappa = f2x/tcr - f2x/ecs"
   ]
  },
  {
   "cell_type": "code",
   "execution_count": 32,
   "metadata": {},
   "outputs": [
    {
     "data": {
      "application/vnd.jupyter.widget-view+json": {
       "model_id": "498d49c18fc14220a5c5f46d888d1ffe",
       "version_major": 2,
       "version_minor": 0
      },
      "text/plain": [
       "HBox(children=(HTML(value='Forcing variants'), FloatProgress(value=0.0, max=20.0), HTML(value='')))"
      ]
     },
     "metadata": {},
     "output_type": "display_data"
    },
    {
     "name": "stdout",
     "output_type": "stream",
     "text": [
      "\n"
     ]
    },
    {
     "data": {
      "application/vnd.jupyter.widget-view+json": {
       "model_id": "31a38dc1193f42248d9900641fe86fdb",
       "version_major": 2,
       "version_minor": 0
      },
      "text/plain": [
       "HBox(children=(HTML(value='Removing one at a time'), FloatProgress(value=0.0, max=14.0), HTML(value='')))"
      ]
     },
     "metadata": {},
     "output_type": "display_data"
    },
    {
     "data": {
      "application/vnd.jupyter.widget-view+json": {
       "model_id": "",
       "version_major": 2,
       "version_minor": 0
      },
      "text/plain": [
       "HBox(children=(HTML(value='Forcing variants'), FloatProgress(value=0.0, max=20.0), HTML(value='')))"
      ]
     },
     "metadata": {},
     "output_type": "display_data"
    },
    {
     "data": {
      "application/vnd.jupyter.widget-view+json": {
       "model_id": "",
       "version_major": 2,
       "version_minor": 0
      },
      "text/plain": [
       "HBox(children=(HTML(value='Forcing variants'), FloatProgress(value=0.0, max=20.0), HTML(value='')))"
      ]
     },
     "metadata": {},
     "output_type": "display_data"
    },
    {
     "data": {
      "application/vnd.jupyter.widget-view+json": {
       "model_id": "",
       "version_major": 2,
       "version_minor": 0
      },
      "text/plain": [
       "HBox(children=(HTML(value='Forcing variants'), FloatProgress(value=0.0, max=20.0), HTML(value='')))"
      ]
     },
     "metadata": {},
     "output_type": "display_data"
    },
    {
     "data": {
      "application/vnd.jupyter.widget-view+json": {
       "model_id": "",
       "version_major": 2,
       "version_minor": 0
      },
      "text/plain": [
       "HBox(children=(HTML(value='Forcing variants'), FloatProgress(value=0.0, max=20.0), HTML(value='')))"
      ]
     },
     "metadata": {},
     "output_type": "display_data"
    },
    {
     "data": {
      "application/vnd.jupyter.widget-view+json": {
       "model_id": "",
       "version_major": 2,
       "version_minor": 0
      },
      "text/plain": [
       "HBox(children=(HTML(value='Forcing variants'), FloatProgress(value=0.0, max=20.0), HTML(value='')))"
      ]
     },
     "metadata": {},
     "output_type": "display_data"
    },
    {
     "data": {
      "application/vnd.jupyter.widget-view+json": {
       "model_id": "",
       "version_major": 2,
       "version_minor": 0
      },
      "text/plain": [
       "HBox(children=(HTML(value='Forcing variants'), FloatProgress(value=0.0, max=20.0), HTML(value='')))"
      ]
     },
     "metadata": {},
     "output_type": "display_data"
    },
    {
     "data": {
      "application/vnd.jupyter.widget-view+json": {
       "model_id": "",
       "version_major": 2,
       "version_minor": 0
      },
      "text/plain": [
       "HBox(children=(HTML(value='Forcing variants'), FloatProgress(value=0.0, max=20.0), HTML(value='')))"
      ]
     },
     "metadata": {},
     "output_type": "display_data"
    },
    {
     "data": {
      "application/vnd.jupyter.widget-view+json": {
       "model_id": "",
       "version_major": 2,
       "version_minor": 0
      },
      "text/plain": [
       "HBox(children=(HTML(value='Forcing variants'), FloatProgress(value=0.0, max=20.0), HTML(value='')))"
      ]
     },
     "metadata": {},
     "output_type": "display_data"
    },
    {
     "data": {
      "application/vnd.jupyter.widget-view+json": {
       "model_id": "",
       "version_major": 2,
       "version_minor": 0
      },
      "text/plain": [
       "HBox(children=(HTML(value='Forcing variants'), FloatProgress(value=0.0, max=20.0), HTML(value='')))"
      ]
     },
     "metadata": {},
     "output_type": "display_data"
    },
    {
     "data": {
      "application/vnd.jupyter.widget-view+json": {
       "model_id": "",
       "version_major": 2,
       "version_minor": 0
      },
      "text/plain": [
       "HBox(children=(HTML(value='Forcing variants'), FloatProgress(value=0.0, max=20.0), HTML(value='')))"
      ]
     },
     "metadata": {},
     "output_type": "display_data"
    },
    {
     "data": {
      "application/vnd.jupyter.widget-view+json": {
       "model_id": "",
       "version_major": 2,
       "version_minor": 0
      },
      "text/plain": [
       "HBox(children=(HTML(value='Forcing variants'), FloatProgress(value=0.0, max=20.0), HTML(value='')))"
      ]
     },
     "metadata": {},
     "output_type": "display_data"
    },
    {
     "data": {
      "application/vnd.jupyter.widget-view+json": {
       "model_id": "",
       "version_major": 2,
       "version_minor": 0
      },
      "text/plain": [
       "HBox(children=(HTML(value='Forcing variants'), FloatProgress(value=0.0, max=20.0), HTML(value='')))"
      ]
     },
     "metadata": {},
     "output_type": "display_data"
    },
    {
     "data": {
      "application/vnd.jupyter.widget-view+json": {
       "model_id": "",
       "version_major": 2,
       "version_minor": 0
      },
      "text/plain": [
       "HBox(children=(HTML(value='Forcing variants'), FloatProgress(value=0.0, max=20.0), HTML(value='')))"
      ]
     },
     "metadata": {},
     "output_type": "display_data"
    },
    {
     "data": {
      "application/vnd.jupyter.widget-view+json": {
       "model_id": "",
       "version_major": 2,
       "version_minor": 0
      },
      "text/plain": [
       "HBox(children=(HTML(value='Forcing variants'), FloatProgress(value=0.0, max=20.0), HTML(value='')))"
      ]
     },
     "metadata": {},
     "output_type": "display_data"
    },
    {
     "name": "stdout",
     "output_type": "stream",
     "text": [
      "\n"
     ]
    }
   ],
   "source": [
    "lambda0 = feedback\n",
    "efficacy = st.norm.rvs(loc=params.efficacy.mean(), scale=params.efficacy.std(), size=SAMPLES, random_state=SEEDS[65])\n",
    "eta = kappa/efficacy\n",
    "dl = st.truncnorm.rvs(-NINETY_TO_ONESIGMA, NINETY_TO_ONESIGMA, loc=params.dl.mean(), scale=params.dl.std(), size=SAMPLES, random_state=SEEDS[66])\n",
    "du = st.truncnorm.rvs(-NINETY_TO_ONESIGMA, NINETY_TO_ONESIGMA, loc=params.du.mean(), scale=params.du.std(), size=SAMPLES, random_state=SEEDS[67])\n",
    "\n",
    "runner = TwoLayerModel()\n",
    "output = []\n",
    "\n",
    "results['AR6-historical_climuncert'] = {}\n",
    "\n",
    "dl = np.array(dl) * ur(cmip6_models['dl']['units'])\n",
    "du = np.array(du)  * ur(cmip6_models['du']['units'])\n",
    "eta = np.array(eta) * ur(cmip6_models['eta']['units'])\n",
    "lambda0 = np.array(lambda0) *  ur(cmip6_models['lambda0']['units'])\n",
    "efficacy = np.array(efficacy) * ur(cmip6_models['efficacy']['units'])\n",
    "\n",
    "for i in tqdman.tqdm(range(SAMPLES), desc=\"Forcing variants\"):\n",
    "    in_forcing = forcing_ensemble['total'][:,i]\n",
    "    driver = ScmRun(\n",
    "        data=in_forcing,#[:,None]*np.ones((270,500)),\n",
    "        index=np.arange(1750,2020),\n",
    "        columns={\n",
    "            \"unit\": \"W/m^2\",\n",
    "            \"model\": \"openscm-twolayermodel-0.2.0\",\n",
    "            \"scenario\": \"historical-AR6\",\n",
    "            \"region\": \"World\",\n",
    "            \"variable\": \"Effective Radiative Forcing\",\n",
    "            \"run_id\": i\n",
    "        }\n",
    "    )\n",
    "    runner.dl = dl[i]\n",
    "    runner.du = du[i]\n",
    "    runner.eta = eta[i]\n",
    "    runner.lambda0 = lambda0[i]\n",
    "    runner.efficacy = efficacy[i]\n",
    "    output.append(runner.run_scenarios(driver, progress=False))\n",
    "output = run_append(output)\n",
    "MODEL_TIMESTEP = runner.delta_t.to('s').magnitude\n",
    "results['AR6-historical_climuncert']['effective_radiative_forcing'] = output.filter(variable='Effective Radiative Forcing').timeseries().values.T\n",
    "results['AR6-historical_climuncert']['surface_temperature'] = output.filter(variable='Surface Temperature|Upper').timeseries().values.T\n",
    "\n",
    "for agent in tqdman.tqdm(list(forcing_ensemble.keys())[:-1], desc='Removing one at a time'):\n",
    "    output = []\n",
    "    results['remove_%s_climuncert' % agent] = {}\n",
    "    for i in tqdman.tqdm(range(SAMPLES), desc=\"Forcing variants\", leave=False):\n",
    "        in_forcing = forcing_ensemble['total'][:,i] - forcing_ensemble[agent][:,i]\n",
    "        driver = ScmRun(\n",
    "            data=in_forcing,#[:,None]*np.ones((270,500)),\n",
    "            index=np.arange(1750,2020),\n",
    "            columns={\n",
    "                \"unit\": \"W/m^2\",\n",
    "                \"model\": \"openscm-twolayermodel-0.2.0\",\n",
    "                \"scenario\": \"historical-AR6\",\n",
    "                \"region\": \"World\",\n",
    "                \"variable\": \"Effective Radiative Forcing\",\n",
    "                \"run_id\": i\n",
    "            }\n",
    "        )\n",
    "        runner.dl = dl[i]\n",
    "        runner.du = du[i]\n",
    "        runner.eta = eta[i]\n",
    "        runner.lambda0 = lambda0[i]\n",
    "        runner.efficacy = efficacy[i]\n",
    "        output.append(runner.run_scenarios(driver, progress=False))\n",
    "    output = run_append(output)\n",
    "    MODEL_TIMESTEP = runner.delta_t.to('s').magnitude\n",
    "    results['remove_%s_climuncert' % agent]['effective_radiative_forcing'] = output.filter(variable='Effective Radiative Forcing').timeseries().values.T\n",
    "    results['remove_%s_climuncert' % agent]['surface_temperature'] = output.filter(variable='Surface Temperature|Upper').timeseries().values.T"
   ]
  },
  {
   "cell_type": "code",
   "execution_count": 33,
   "metadata": {},
   "outputs": [
    {
     "data": {
      "text/plain": [
       "19"
      ]
     },
     "execution_count": 33,
     "metadata": {},
     "output_type": "execute_result"
    }
   ],
   "source": [
    "i"
   ]
  },
  {
   "cell_type": "code",
   "execution_count": 34,
   "metadata": {},
   "outputs": [],
   "source": [
    "save_dict_to_hdf5(results, '../data_input_large/ERF_leave_one_out.h5')"
   ]
  },
  {
   "cell_type": "code",
   "execution_count": null,
   "metadata": {},
   "outputs": [],
   "source": []
  }
 ],
 "metadata": {
  "kernelspec": {
   "display_name": "Python 3",
   "language": "python",
   "name": "python3"
  },
  "language_info": {
   "codemirror_mode": {
    "name": "ipython",
    "version": 3
   },
   "file_extension": ".py",
   "mimetype": "text/x-python",
   "name": "python",
   "nbconvert_exporter": "python",
   "pygments_lexer": "ipython3",
   "version": "3.7.8"
  }
 },
 "nbformat": 4,
 "nbformat_minor": 4
}
