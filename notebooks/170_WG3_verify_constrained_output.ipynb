{
 "cells": [
  {
   "cell_type": "markdown",
   "metadata": {},
   "source": [
    "# Run constrained emissions-driven ensemble in SSP2-4.5\n",
    "\n",
    "-  verify forcings are close to assessment"
   ]
  },
  {
   "cell_type": "code",
   "execution_count": 1,
   "metadata": {},
   "outputs": [
    {
     "data": {
      "application/javascript": [
       "IPython.OutputArea.prototype._should_scroll = function(lines) { return false; }"
      ],
      "text/plain": [
       "<IPython.core.display.Javascript object>"
      ]
     },
     "metadata": {},
     "output_type": "display_data"
    },
    {
     "name": "stderr",
     "output_type": "stream",
     "text": [
      "/nfs/b0110/Users/mencsm/miniconda3/envs/ar6/lib/python3.7/site-packages/openscm_runner/run.py:7: TqdmExperimentalWarning: Using `tqdm.autonotebook.tqdm` in notebook mode. Use `tqdm.tqdm` instead to force console mode (e.g. in jupyter console)\n",
      "  from tqdm.autonotebook import tqdm\n"
     ]
    }
   ],
   "source": [
    "import os.path\n",
    "\n",
    "import json\n",
    "import numpy as np\n",
    "import matplotlib.pyplot as plt\n",
    "import pandas as pd\n",
    "import pyam\n",
    "from fair.forward import fair_scm\n",
    "from scmdata import ScmRun, run_append\n",
    "from tqdm import tqdm_notebook\n",
    "\n",
    "import openscm_runner\n",
    "from openscm_runner.run import run\n",
    "from openscm_runner.adapters import FAIR"
   ]
  },
  {
   "cell_type": "code",
   "execution_count": 2,
   "metadata": {},
   "outputs": [
    {
     "data": {
      "text/plain": [
       "'0.4.4'"
      ]
     },
     "execution_count": 2,
     "metadata": {},
     "output_type": "execute_result"
    }
   ],
   "source": [
    "openscm_runner.__version__"
   ]
  },
  {
   "cell_type": "code",
   "execution_count": 3,
   "metadata": {},
   "outputs": [
    {
     "data": {
      "text/plain": [
       "'1.6.2'"
      ]
     },
     "execution_count": 3,
     "metadata": {},
     "output_type": "execute_result"
    }
   ],
   "source": [
    "fair = FAIR()\n",
    "fair.get_version()"
   ]
  },
  {
   "cell_type": "code",
   "execution_count": 4,
   "metadata": {},
   "outputs": [],
   "source": [
    "with open('../data_output_large/fair-samples/fair-1.6.2-wg3-params.json') as f:\n",
    "    config_list = json.load(f)"
   ]
  },
  {
   "cell_type": "code",
   "execution_count": 5,
   "metadata": {},
   "outputs": [],
   "source": [
    "# what a pain\n",
    "\n",
    "species = [\n",
    "'Emissions|BC',\n",
    "'Emissions|CH4',\n",
    "'Emissions|CO',\n",
    "'Emissions|CO2|MAGICC AFOLU',\n",
    "'Emissions|CO2|MAGICC Fossil and Industrial',\n",
    "'Emissions|F-Gases|HFC|HFC125',\n",
    "'Emissions|F-Gases|HFC|HFC134a',\n",
    "'Emissions|F-Gases|HFC|HFC143a',\n",
    "'Emissions|F-Gases|HFC|HFC227ea',\n",
    "'Emissions|F-Gases|HFC|HFC23',\n",
    "'Emissions|F-Gases|HFC|HFC245fa',\n",
    "'Emissions|F-Gases|HFC|HFC32',\n",
    "'Emissions|F-Gases|HFC|HFC4310mee',\n",
    "'Emissions|F-Gases|PFC|C2F6',\n",
    "'Emissions|F-Gases|PFC|C6F14',\n",
    "'Emissions|F-Gases|PFC|CF4',\n",
    "'Emissions|F-Gases|SF6',\n",
    "'Emissions|Montreal Gases|CCl4',\n",
    "'Emissions|Montreal Gases|CFC|CFC11',\n",
    "'Emissions|Montreal Gases|CFC|CFC113',\n",
    "'Emissions|Montreal Gases|CFC|CFC114',\n",
    "'Emissions|Montreal Gases|CFC|CFC115',\n",
    "'Emissions|Montreal Gases|CFC|CFC12',\n",
    "'Emissions|Montreal Gases|CH3Br',\n",
    "'Emissions|Montreal Gases|CH3CCl3',\n",
    "'Emissions|Montreal Gases|CH3Cl',\n",
    "'Emissions|Montreal Gases|HCFC141b',\n",
    "'Emissions|Montreal Gases|HCFC142b',\n",
    "'Emissions|Montreal Gases|HCFC22',\n",
    "'Emissions|Montreal Gases|Halon1202',\n",
    "'Emissions|Montreal Gases|Halon1211',\n",
    "'Emissions|Montreal Gases|Halon1301',\n",
    "'Emissions|Montreal Gases|Halon2402',\n",
    "'Emissions|N2O',\n",
    "'Emissions|NH3',\n",
    "'Emissions|NOx',\n",
    "'Emissions|OC',\n",
    "'Emissions|Sulfur',\n",
    "'Emissions|VOC']"
   ]
  },
  {
   "cell_type": "code",
   "execution_count": 6,
   "metadata": {},
   "outputs": [
    {
     "name": "stdout",
     "output_type": "stream",
     "text": [
      "39\n"
     ]
    }
   ],
   "source": [
    "df_fair = ScmRun('../data_input_large/rcmip-emissions-annual-means-v5-1-0.csv', lowercase_cols=True)\n",
    "df_fair.filter(\n",
    "    scenario=['ssp245'], \n",
    "#    year=range(2015,2301),\n",
    "    year=range(2015,2101),\n",
    "    variable=species,\n",
    "    region='World', \n",
    "    inplace=True\n",
    ")\n",
    "print(len(df_fair))\n",
    "#df_fair.head(50)"
   ]
  },
  {
   "cell_type": "code",
   "execution_count": 7,
   "metadata": {},
   "outputs": [
    {
     "data": {
      "text/plain": [
       "351"
      ]
     },
     "execution_count": 7,
     "metadata": {},
     "output_type": "execute_result"
    }
   ],
   "source": [
    "nt = df_fair.time_points.years()[-1] - 1750 + 1\n",
    "nt"
   ]
  },
  {
   "cell_type": "code",
   "execution_count": 8,
   "metadata": {},
   "outputs": [],
   "source": [
    "# convert lists to numpy arrays\n",
    "updated_config = []\n",
    "for i in range(len(config_list)):\n",
    "    updated_config.append({})\n",
    "    for key, value in config_list[i].items():\n",
    "        if type(value)==list:\n",
    "            updated_config[i][key] = np.asarray(value)\n",
    "        else:\n",
    "            updated_config[i][key] = value"
   ]
  },
  {
   "cell_type": "code",
   "execution_count": 9,
   "metadata": {},
   "outputs": [
    {
     "data": {
      "application/vnd.jupyter.widget-view+json": {
       "model_id": "061df3b6391940068ce495dca5046d1e",
       "version_major": 2,
       "version_minor": 0
      },
      "text/plain": [
       "Climate models:   0%|          | 0/1 [00:00<?, ?it/s]"
      ]
     },
     "metadata": {},
     "output_type": "display_data"
    },
    {
     "data": {
      "application/vnd.jupyter.widget-view+json": {
       "model_id": "538a17ecb5a94da4a5f5a5b968bc21f9",
       "version_major": 2,
       "version_minor": 0
      },
      "text/plain": [
       "Creating FaIR emissions inputs:   0%|          | 0/1 [00:00<?, ?it/s]"
      ]
     },
     "metadata": {},
     "output_type": "display_data"
    }
   ],
   "source": [
    "# need parallel FaIR in openscm-runner\n",
    "\n",
    "x = run(\n",
    "    climate_models_cfgs={\n",
    "        \"FAIR\": updated_config,\n",
    "    },\n",
    "    scenarios=df_fair,\n",
    "    output_variables=(\n",
    "        \"Surface Temperature\",\n",
    "        \"Surface Temperature (GMST)\",\n",
    "        \"Atmospheric Concentrations|CO2\",\n",
    "        \"Atmospheric Concentrations|CH4\",\n",
    "        \"Atmospheric Concentrations|N2O\",\n",
    "        \"Effective Radiative Forcing\",\n",
    "        \"Effective Radiative Forcing|CO2\",\n",
    "        \"Effective Radiative Forcing|CH4\",\n",
    "        \"Effective Radiative Forcing|N2O\",\n",
    "        \"Effective Radiative Forcing|Greenhouse Gases\",\n",
    "        \"Effective Radiative Forcing|Tropospheric Ozone\",\n",
    "        \"Effective Radiative Forcing|CH4 Oxidation Stratospheric H2O\",\n",
    "        \"Effective Radiative Forcing|Contrails\",\n",
    "        \"Effective Radiative Forcing|Aerosols\",\n",
    "        \"Effective Radiative Forcing|Aerosols|Direct Effect|BC\",\n",
    "        \"Effective Radiative Forcing|Aerosols|Direct Effect|OC\",\n",
    "        \"Effective Radiative Forcing|Aerosols|Direct Effect|Sulfur\",\n",
    "        \"Effective Radiative Forcing|Aerosols|Direct Effect|Nitrate\",\n",
    "        \"Effective Radiative Forcing|Aerosols|Direct Effect\",\n",
    "        \"Effective Radiative Forcing|Aerosols|Indirect Effect\",\n",
    "        \"Effective Radiative Forcing|Black Carbon on Snow\",\n",
    "        \"Effective Radiative Forcing|Land-use Change\"\n",
    "    ),\n",
    ")"
   ]
  },
  {
   "cell_type": "code",
   "execution_count": 10,
   "metadata": {},
   "outputs": [],
   "source": [
    "# convert to ScmRun for better plotting functionality\n",
    "x = ScmRun(x.timeseries())"
   ]
  },
  {
   "cell_type": "code",
   "execution_count": 11,
   "metadata": {},
   "outputs": [
    {
     "data": {
      "text/html": [
       "<div>\n",
       "<style scoped>\n",
       "    .dataframe tbody tr th:only-of-type {\n",
       "        vertical-align: middle;\n",
       "    }\n",
       "\n",
       "    .dataframe tbody tr th {\n",
       "        vertical-align: top;\n",
       "    }\n",
       "\n",
       "    .dataframe thead th {\n",
       "        text-align: right;\n",
       "    }\n",
       "</style>\n",
       "<table border=\"1\" class=\"dataframe\">\n",
       "  <thead>\n",
       "    <tr style=\"text-align: right;\">\n",
       "      <th></th>\n",
       "      <th></th>\n",
       "      <th></th>\n",
       "      <th></th>\n",
       "      <th></th>\n",
       "      <th></th>\n",
       "      <th>time</th>\n",
       "      <th>1750-01-01</th>\n",
       "      <th>1751-01-01</th>\n",
       "      <th>1752-01-01</th>\n",
       "      <th>1753-01-01</th>\n",
       "      <th>1754-01-01</th>\n",
       "      <th>1755-01-01</th>\n",
       "      <th>1756-01-01</th>\n",
       "      <th>1757-01-01</th>\n",
       "      <th>1758-01-01</th>\n",
       "      <th>1759-01-01</th>\n",
       "      <th>...</th>\n",
       "      <th>2091-01-01</th>\n",
       "      <th>2092-01-01</th>\n",
       "      <th>2093-01-01</th>\n",
       "      <th>2094-01-01</th>\n",
       "      <th>2095-01-01</th>\n",
       "      <th>2096-01-01</th>\n",
       "      <th>2097-01-01</th>\n",
       "      <th>2098-01-01</th>\n",
       "      <th>2099-01-01</th>\n",
       "      <th>2100-01-01</th>\n",
       "    </tr>\n",
       "    <tr>\n",
       "      <th>climate_model</th>\n",
       "      <th>model</th>\n",
       "      <th>region</th>\n",
       "      <th>run_id</th>\n",
       "      <th>scenario</th>\n",
       "      <th>unit</th>\n",
       "      <th>variable</th>\n",
       "      <th></th>\n",
       "      <th></th>\n",
       "      <th></th>\n",
       "      <th></th>\n",
       "      <th></th>\n",
       "      <th></th>\n",
       "      <th></th>\n",
       "      <th></th>\n",
       "      <th></th>\n",
       "      <th></th>\n",
       "      <th></th>\n",
       "      <th></th>\n",
       "      <th></th>\n",
       "      <th></th>\n",
       "      <th></th>\n",
       "      <th></th>\n",
       "      <th></th>\n",
       "      <th></th>\n",
       "      <th></th>\n",
       "      <th></th>\n",
       "      <th></th>\n",
       "    </tr>\n",
       "  </thead>\n",
       "  <tbody>\n",
       "    <tr>\n",
       "      <th rowspan=\"5\" valign=\"top\">FaIRv1.6.2</th>\n",
       "      <th rowspan=\"5\" valign=\"top\">MESSAGE-GLOBIOM</th>\n",
       "      <th rowspan=\"5\" valign=\"top\">World</th>\n",
       "      <th rowspan=\"5\" valign=\"top\">2048</th>\n",
       "      <th rowspan=\"5\" valign=\"top\">ssp245</th>\n",
       "      <th rowspan=\"5\" valign=\"top\">W/m**2</th>\n",
       "      <th>Effective Radiative Forcing|Aerosols|Direct Effect|Nitrate</th>\n",
       "      <td>-1.933205e-12</td>\n",
       "      <td>0.000131</td>\n",
       "      <td>0.000209</td>\n",
       "      <td>0.000089</td>\n",
       "      <td>-0.000169</td>\n",
       "      <td>-0.000032</td>\n",
       "      <td>0.000010</td>\n",
       "      <td>-0.000232</td>\n",
       "      <td>-0.000131</td>\n",
       "      <td>-0.000229</td>\n",
       "      <td>...</td>\n",
       "      <td>-0.116485</td>\n",
       "      <td>-0.116096</td>\n",
       "      <td>-0.115706</td>\n",
       "      <td>-0.115317</td>\n",
       "      <td>-0.114927</td>\n",
       "      <td>-0.114538</td>\n",
       "      <td>-0.114148</td>\n",
       "      <td>-0.113759</td>\n",
       "      <td>-0.113369</td>\n",
       "      <td>-0.112980</td>\n",
       "    </tr>\n",
       "    <tr>\n",
       "      <th>Effective Radiative Forcing|Aerosols|Direct Effect</th>\n",
       "      <td>5.735094e-10</td>\n",
       "      <td>-0.000629</td>\n",
       "      <td>-0.000568</td>\n",
       "      <td>-0.000726</td>\n",
       "      <td>-0.000542</td>\n",
       "      <td>0.000404</td>\n",
       "      <td>-0.001107</td>\n",
       "      <td>0.002296</td>\n",
       "      <td>0.001182</td>\n",
       "      <td>0.000631</td>\n",
       "      <td>...</td>\n",
       "      <td>-0.147071</td>\n",
       "      <td>-0.148270</td>\n",
       "      <td>-0.149472</td>\n",
       "      <td>-0.150671</td>\n",
       "      <td>-0.151870</td>\n",
       "      <td>-0.153069</td>\n",
       "      <td>-0.154271</td>\n",
       "      <td>-0.155470</td>\n",
       "      <td>-0.156669</td>\n",
       "      <td>-0.157868</td>\n",
       "    </tr>\n",
       "    <tr>\n",
       "      <th>Effective Radiative Forcing|Aerosols|Indirect Effect</th>\n",
       "      <td>5.432287e-10</td>\n",
       "      <td>0.003442</td>\n",
       "      <td>0.005300</td>\n",
       "      <td>0.003471</td>\n",
       "      <td>-0.001534</td>\n",
       "      <td>0.000839</td>\n",
       "      <td>0.003209</td>\n",
       "      <td>-0.004306</td>\n",
       "      <td>-0.001633</td>\n",
       "      <td>-0.002077</td>\n",
       "      <td>...</td>\n",
       "      <td>-0.365407</td>\n",
       "      <td>-0.362897</td>\n",
       "      <td>-0.360365</td>\n",
       "      <td>-0.357825</td>\n",
       "      <td>-0.355270</td>\n",
       "      <td>-0.352700</td>\n",
       "      <td>-0.350107</td>\n",
       "      <td>-0.347506</td>\n",
       "      <td>-0.344888</td>\n",
       "      <td>-0.342255</td>\n",
       "    </tr>\n",
       "    <tr>\n",
       "      <th>Effective Radiative Forcing|Black Carbon on Snow</th>\n",
       "      <td>7.396161e-11</td>\n",
       "      <td>-0.000368</td>\n",
       "      <td>-0.000495</td>\n",
       "      <td>-0.000382</td>\n",
       "      <td>0.000023</td>\n",
       "      <td>0.000021</td>\n",
       "      <td>-0.000427</td>\n",
       "      <td>0.000742</td>\n",
       "      <td>0.000338</td>\n",
       "      <td>0.000288</td>\n",
       "      <td>...</td>\n",
       "      <td>0.013149</td>\n",
       "      <td>0.012598</td>\n",
       "      <td>0.012045</td>\n",
       "      <td>0.011493</td>\n",
       "      <td>0.010942</td>\n",
       "      <td>0.010390</td>\n",
       "      <td>0.009837</td>\n",
       "      <td>0.009286</td>\n",
       "      <td>0.008734</td>\n",
       "      <td>0.008183</td>\n",
       "    </tr>\n",
       "    <tr>\n",
       "      <th>Effective Radiative Forcing|Land-use Change</th>\n",
       "      <td>-9.371003e-05</td>\n",
       "      <td>-0.000189</td>\n",
       "      <td>-0.000286</td>\n",
       "      <td>-0.000385</td>\n",
       "      <td>-0.000486</td>\n",
       "      <td>-0.000589</td>\n",
       "      <td>-0.000693</td>\n",
       "      <td>-0.000800</td>\n",
       "      <td>-0.000908</td>\n",
       "      <td>-0.001019</td>\n",
       "      <td>...</td>\n",
       "      <td>-0.211023</td>\n",
       "      <td>-0.209633</td>\n",
       "      <td>-0.208227</td>\n",
       "      <td>-0.206806</td>\n",
       "      <td>-0.205370</td>\n",
       "      <td>-0.203919</td>\n",
       "      <td>-0.202452</td>\n",
       "      <td>-0.200970</td>\n",
       "      <td>-0.199473</td>\n",
       "      <td>-0.197961</td>\n",
       "    </tr>\n",
       "  </tbody>\n",
       "</table>\n",
       "<p>5 rows × 351 columns</p>\n",
       "</div>"
      ],
      "text/plain": [
       "time                                                                                                              1750-01-01  \\\n",
       "climate_model model           region run_id scenario unit   variable                                                           \n",
       "FaIRv1.6.2    MESSAGE-GLOBIOM World  2048   ssp245   W/m**2 Effective Radiative Forcing|Aerosols|Direct Eff... -1.933205e-12   \n",
       "                                                            Effective Radiative Forcing|Aerosols|Direct Effect  5.735094e-10   \n",
       "                                                            Effective Radiative Forcing|Aerosols|Indirect E...  5.432287e-10   \n",
       "                                                            Effective Radiative Forcing|Black Carbon on Snow    7.396161e-11   \n",
       "                                                            Effective Radiative Forcing|Land-use Change        -9.371003e-05   \n",
       "\n",
       "time                                                                                                            1751-01-01  \\\n",
       "climate_model model           region run_id scenario unit   variable                                                         \n",
       "FaIRv1.6.2    MESSAGE-GLOBIOM World  2048   ssp245   W/m**2 Effective Radiative Forcing|Aerosols|Direct Eff...    0.000131   \n",
       "                                                            Effective Radiative Forcing|Aerosols|Direct Effect   -0.000629   \n",
       "                                                            Effective Radiative Forcing|Aerosols|Indirect E...    0.003442   \n",
       "                                                            Effective Radiative Forcing|Black Carbon on Snow     -0.000368   \n",
       "                                                            Effective Radiative Forcing|Land-use Change          -0.000189   \n",
       "\n",
       "time                                                                                                            1752-01-01  \\\n",
       "climate_model model           region run_id scenario unit   variable                                                         \n",
       "FaIRv1.6.2    MESSAGE-GLOBIOM World  2048   ssp245   W/m**2 Effective Radiative Forcing|Aerosols|Direct Eff...    0.000209   \n",
       "                                                            Effective Radiative Forcing|Aerosols|Direct Effect   -0.000568   \n",
       "                                                            Effective Radiative Forcing|Aerosols|Indirect E...    0.005300   \n",
       "                                                            Effective Radiative Forcing|Black Carbon on Snow     -0.000495   \n",
       "                                                            Effective Radiative Forcing|Land-use Change          -0.000286   \n",
       "\n",
       "time                                                                                                            1753-01-01  \\\n",
       "climate_model model           region run_id scenario unit   variable                                                         \n",
       "FaIRv1.6.2    MESSAGE-GLOBIOM World  2048   ssp245   W/m**2 Effective Radiative Forcing|Aerosols|Direct Eff...    0.000089   \n",
       "                                                            Effective Radiative Forcing|Aerosols|Direct Effect   -0.000726   \n",
       "                                                            Effective Radiative Forcing|Aerosols|Indirect E...    0.003471   \n",
       "                                                            Effective Radiative Forcing|Black Carbon on Snow     -0.000382   \n",
       "                                                            Effective Radiative Forcing|Land-use Change          -0.000385   \n",
       "\n",
       "time                                                                                                            1754-01-01  \\\n",
       "climate_model model           region run_id scenario unit   variable                                                         \n",
       "FaIRv1.6.2    MESSAGE-GLOBIOM World  2048   ssp245   W/m**2 Effective Radiative Forcing|Aerosols|Direct Eff...   -0.000169   \n",
       "                                                            Effective Radiative Forcing|Aerosols|Direct Effect   -0.000542   \n",
       "                                                            Effective Radiative Forcing|Aerosols|Indirect E...   -0.001534   \n",
       "                                                            Effective Radiative Forcing|Black Carbon on Snow      0.000023   \n",
       "                                                            Effective Radiative Forcing|Land-use Change          -0.000486   \n",
       "\n",
       "time                                                                                                            1755-01-01  \\\n",
       "climate_model model           region run_id scenario unit   variable                                                         \n",
       "FaIRv1.6.2    MESSAGE-GLOBIOM World  2048   ssp245   W/m**2 Effective Radiative Forcing|Aerosols|Direct Eff...   -0.000032   \n",
       "                                                            Effective Radiative Forcing|Aerosols|Direct Effect    0.000404   \n",
       "                                                            Effective Radiative Forcing|Aerosols|Indirect E...    0.000839   \n",
       "                                                            Effective Radiative Forcing|Black Carbon on Snow      0.000021   \n",
       "                                                            Effective Radiative Forcing|Land-use Change          -0.000589   \n",
       "\n",
       "time                                                                                                            1756-01-01  \\\n",
       "climate_model model           region run_id scenario unit   variable                                                         \n",
       "FaIRv1.6.2    MESSAGE-GLOBIOM World  2048   ssp245   W/m**2 Effective Radiative Forcing|Aerosols|Direct Eff...    0.000010   \n",
       "                                                            Effective Radiative Forcing|Aerosols|Direct Effect   -0.001107   \n",
       "                                                            Effective Radiative Forcing|Aerosols|Indirect E...    0.003209   \n",
       "                                                            Effective Radiative Forcing|Black Carbon on Snow     -0.000427   \n",
       "                                                            Effective Radiative Forcing|Land-use Change          -0.000693   \n",
       "\n",
       "time                                                                                                            1757-01-01  \\\n",
       "climate_model model           region run_id scenario unit   variable                                                         \n",
       "FaIRv1.6.2    MESSAGE-GLOBIOM World  2048   ssp245   W/m**2 Effective Radiative Forcing|Aerosols|Direct Eff...   -0.000232   \n",
       "                                                            Effective Radiative Forcing|Aerosols|Direct Effect    0.002296   \n",
       "                                                            Effective Radiative Forcing|Aerosols|Indirect E...   -0.004306   \n",
       "                                                            Effective Radiative Forcing|Black Carbon on Snow      0.000742   \n",
       "                                                            Effective Radiative Forcing|Land-use Change          -0.000800   \n",
       "\n",
       "time                                                                                                            1758-01-01  \\\n",
       "climate_model model           region run_id scenario unit   variable                                                         \n",
       "FaIRv1.6.2    MESSAGE-GLOBIOM World  2048   ssp245   W/m**2 Effective Radiative Forcing|Aerosols|Direct Eff...   -0.000131   \n",
       "                                                            Effective Radiative Forcing|Aerosols|Direct Effect    0.001182   \n",
       "                                                            Effective Radiative Forcing|Aerosols|Indirect E...   -0.001633   \n",
       "                                                            Effective Radiative Forcing|Black Carbon on Snow      0.000338   \n",
       "                                                            Effective Radiative Forcing|Land-use Change          -0.000908   \n",
       "\n",
       "time                                                                                                            1759-01-01  \\\n",
       "climate_model model           region run_id scenario unit   variable                                                         \n",
       "FaIRv1.6.2    MESSAGE-GLOBIOM World  2048   ssp245   W/m**2 Effective Radiative Forcing|Aerosols|Direct Eff...   -0.000229   \n",
       "                                                            Effective Radiative Forcing|Aerosols|Direct Effect    0.000631   \n",
       "                                                            Effective Radiative Forcing|Aerosols|Indirect E...   -0.002077   \n",
       "                                                            Effective Radiative Forcing|Black Carbon on Snow      0.000288   \n",
       "                                                            Effective Radiative Forcing|Land-use Change          -0.001019   \n",
       "\n",
       "time                                                                                                            ...  \\\n",
       "climate_model model           region run_id scenario unit   variable                                            ...   \n",
       "FaIRv1.6.2    MESSAGE-GLOBIOM World  2048   ssp245   W/m**2 Effective Radiative Forcing|Aerosols|Direct Eff...  ...   \n",
       "                                                            Effective Radiative Forcing|Aerosols|Direct Effect  ...   \n",
       "                                                            Effective Radiative Forcing|Aerosols|Indirect E...  ...   \n",
       "                                                            Effective Radiative Forcing|Black Carbon on Snow    ...   \n",
       "                                                            Effective Radiative Forcing|Land-use Change         ...   \n",
       "\n",
       "time                                                                                                            2091-01-01  \\\n",
       "climate_model model           region run_id scenario unit   variable                                                         \n",
       "FaIRv1.6.2    MESSAGE-GLOBIOM World  2048   ssp245   W/m**2 Effective Radiative Forcing|Aerosols|Direct Eff...   -0.116485   \n",
       "                                                            Effective Radiative Forcing|Aerosols|Direct Effect   -0.147071   \n",
       "                                                            Effective Radiative Forcing|Aerosols|Indirect E...   -0.365407   \n",
       "                                                            Effective Radiative Forcing|Black Carbon on Snow      0.013149   \n",
       "                                                            Effective Radiative Forcing|Land-use Change          -0.211023   \n",
       "\n",
       "time                                                                                                            2092-01-01  \\\n",
       "climate_model model           region run_id scenario unit   variable                                                         \n",
       "FaIRv1.6.2    MESSAGE-GLOBIOM World  2048   ssp245   W/m**2 Effective Radiative Forcing|Aerosols|Direct Eff...   -0.116096   \n",
       "                                                            Effective Radiative Forcing|Aerosols|Direct Effect   -0.148270   \n",
       "                                                            Effective Radiative Forcing|Aerosols|Indirect E...   -0.362897   \n",
       "                                                            Effective Radiative Forcing|Black Carbon on Snow      0.012598   \n",
       "                                                            Effective Radiative Forcing|Land-use Change          -0.209633   \n",
       "\n",
       "time                                                                                                            2093-01-01  \\\n",
       "climate_model model           region run_id scenario unit   variable                                                         \n",
       "FaIRv1.6.2    MESSAGE-GLOBIOM World  2048   ssp245   W/m**2 Effective Radiative Forcing|Aerosols|Direct Eff...   -0.115706   \n",
       "                                                            Effective Radiative Forcing|Aerosols|Direct Effect   -0.149472   \n",
       "                                                            Effective Radiative Forcing|Aerosols|Indirect E...   -0.360365   \n",
       "                                                            Effective Radiative Forcing|Black Carbon on Snow      0.012045   \n",
       "                                                            Effective Radiative Forcing|Land-use Change          -0.208227   \n",
       "\n",
       "time                                                                                                            2094-01-01  \\\n",
       "climate_model model           region run_id scenario unit   variable                                                         \n",
       "FaIRv1.6.2    MESSAGE-GLOBIOM World  2048   ssp245   W/m**2 Effective Radiative Forcing|Aerosols|Direct Eff...   -0.115317   \n",
       "                                                            Effective Radiative Forcing|Aerosols|Direct Effect   -0.150671   \n",
       "                                                            Effective Radiative Forcing|Aerosols|Indirect E...   -0.357825   \n",
       "                                                            Effective Radiative Forcing|Black Carbon on Snow      0.011493   \n",
       "                                                            Effective Radiative Forcing|Land-use Change          -0.206806   \n",
       "\n",
       "time                                                                                                            2095-01-01  \\\n",
       "climate_model model           region run_id scenario unit   variable                                                         \n",
       "FaIRv1.6.2    MESSAGE-GLOBIOM World  2048   ssp245   W/m**2 Effective Radiative Forcing|Aerosols|Direct Eff...   -0.114927   \n",
       "                                                            Effective Radiative Forcing|Aerosols|Direct Effect   -0.151870   \n",
       "                                                            Effective Radiative Forcing|Aerosols|Indirect E...   -0.355270   \n",
       "                                                            Effective Radiative Forcing|Black Carbon on Snow      0.010942   \n",
       "                                                            Effective Radiative Forcing|Land-use Change          -0.205370   \n",
       "\n",
       "time                                                                                                            2096-01-01  \\\n",
       "climate_model model           region run_id scenario unit   variable                                                         \n",
       "FaIRv1.6.2    MESSAGE-GLOBIOM World  2048   ssp245   W/m**2 Effective Radiative Forcing|Aerosols|Direct Eff...   -0.114538   \n",
       "                                                            Effective Radiative Forcing|Aerosols|Direct Effect   -0.153069   \n",
       "                                                            Effective Radiative Forcing|Aerosols|Indirect E...   -0.352700   \n",
       "                                                            Effective Radiative Forcing|Black Carbon on Snow      0.010390   \n",
       "                                                            Effective Radiative Forcing|Land-use Change          -0.203919   \n",
       "\n",
       "time                                                                                                            2097-01-01  \\\n",
       "climate_model model           region run_id scenario unit   variable                                                         \n",
       "FaIRv1.6.2    MESSAGE-GLOBIOM World  2048   ssp245   W/m**2 Effective Radiative Forcing|Aerosols|Direct Eff...   -0.114148   \n",
       "                                                            Effective Radiative Forcing|Aerosols|Direct Effect   -0.154271   \n",
       "                                                            Effective Radiative Forcing|Aerosols|Indirect E...   -0.350107   \n",
       "                                                            Effective Radiative Forcing|Black Carbon on Snow      0.009837   \n",
       "                                                            Effective Radiative Forcing|Land-use Change          -0.202452   \n",
       "\n",
       "time                                                                                                            2098-01-01  \\\n",
       "climate_model model           region run_id scenario unit   variable                                                         \n",
       "FaIRv1.6.2    MESSAGE-GLOBIOM World  2048   ssp245   W/m**2 Effective Radiative Forcing|Aerosols|Direct Eff...   -0.113759   \n",
       "                                                            Effective Radiative Forcing|Aerosols|Direct Effect   -0.155470   \n",
       "                                                            Effective Radiative Forcing|Aerosols|Indirect E...   -0.347506   \n",
       "                                                            Effective Radiative Forcing|Black Carbon on Snow      0.009286   \n",
       "                                                            Effective Radiative Forcing|Land-use Change          -0.200970   \n",
       "\n",
       "time                                                                                                            2099-01-01  \\\n",
       "climate_model model           region run_id scenario unit   variable                                                         \n",
       "FaIRv1.6.2    MESSAGE-GLOBIOM World  2048   ssp245   W/m**2 Effective Radiative Forcing|Aerosols|Direct Eff...   -0.113369   \n",
       "                                                            Effective Radiative Forcing|Aerosols|Direct Effect   -0.156669   \n",
       "                                                            Effective Radiative Forcing|Aerosols|Indirect E...   -0.344888   \n",
       "                                                            Effective Radiative Forcing|Black Carbon on Snow      0.008734   \n",
       "                                                            Effective Radiative Forcing|Land-use Change          -0.199473   \n",
       "\n",
       "time                                                                                                            2100-01-01  \n",
       "climate_model model           region run_id scenario unit   variable                                                        \n",
       "FaIRv1.6.2    MESSAGE-GLOBIOM World  2048   ssp245   W/m**2 Effective Radiative Forcing|Aerosols|Direct Eff...   -0.112980  \n",
       "                                                            Effective Radiative Forcing|Aerosols|Direct Effect   -0.157868  \n",
       "                                                            Effective Radiative Forcing|Aerosols|Indirect E...   -0.342255  \n",
       "                                                            Effective Radiative Forcing|Black Carbon on Snow      0.008183  \n",
       "                                                            Effective Radiative Forcing|Land-use Change          -0.197961  \n",
       "\n",
       "[5 rows x 351 columns]"
      ]
     },
     "execution_count": 11,
     "metadata": {},
     "output_type": "execute_result"
    }
   ],
   "source": [
    "x.tail()"
   ]
  },
  {
   "cell_type": "code",
   "execution_count": 12,
   "metadata": {},
   "outputs": [
    {
     "data": {
      "text/plain": [
       "array([409.0799415 , 410.13768532, 411.21770688])"
      ]
     },
     "execution_count": 12,
     "metadata": {},
     "output_type": "execute_result"
    }
   ],
   "source": [
    "# co2 409.9\n",
    "np.percentile(x.filter(variable=\"Atmospheric Concentrations|CO2\", scenario='ssp245', year=2019).timeseries().values.squeeze(), (5, 50, 95))"
   ]
  },
  {
   "cell_type": "code",
   "execution_count": 13,
   "metadata": {
    "scrolled": true
   },
   "outputs": [
    {
     "data": {
      "text/plain": [
       "array([1868.81582612, 1868.81582612, 1868.81582612])"
      ]
     },
     "execution_count": 13,
     "metadata": {},
     "output_type": "execute_result"
    }
   ],
   "source": [
    "# ch4 1866.3\n",
    "np.percentile(x.filter(variable=\"Atmospheric Concentrations|CH4\", scenario='ssp245', year=2019).timeseries().values.squeeze(), (5, 50, 95))"
   ]
  },
  {
   "cell_type": "code",
   "execution_count": 14,
   "metadata": {},
   "outputs": [
    {
     "data": {
      "text/plain": [
       "array([332.32989281, 332.32989281, 332.32989281])"
      ]
     },
     "execution_count": 14,
     "metadata": {},
     "output_type": "execute_result"
    }
   ],
   "source": [
    "# n2o 332.1\n",
    "np.percentile(x.filter(variable=\"Atmospheric Concentrations|N2O\", scenario='ssp245', year=2019).timeseries().values.squeeze(), (5, 50, 95))"
   ]
  },
  {
   "cell_type": "code",
   "execution_count": 15,
   "metadata": {},
   "outputs": [
    {
     "data": {
      "text/plain": [
       "array([1.93389225, 2.21294904, 2.48878616])"
      ]
     },
     "execution_count": 15,
     "metadata": {},
     "output_type": "execute_result"
    }
   ],
   "source": [
    "# co2 1.90 2.16 2.41\n",
    "# any differences to GHG forcing is as likely to be with the pre-industrial concentration as it is with FaIR itself\n",
    "np.percentile(x.filter(variable=\"Effective Radiative Forcing|CO2\", scenario='ssp245', year=2019).timeseries().values.squeeze(), (5, 50, 95))"
   ]
  },
  {
   "cell_type": "code",
   "execution_count": 16,
   "metadata": {},
   "outputs": [
    {
     "data": {
      "text/plain": [
       "array([0.43320942, 0.5471859 , 0.65354015])"
      ]
     },
     "execution_count": 16,
     "metadata": {},
     "output_type": "execute_result"
    }
   ],
   "source": [
    "# ch4 0.43 0.54 0.65\n",
    "np.percentile(x.filter(variable=\"Effective Radiative Forcing|CH4\", scenario='ssp245', year=2019).timeseries().values.squeeze(), (5, 50, 95))"
   ]
  },
  {
   "cell_type": "code",
   "execution_count": 17,
   "metadata": {},
   "outputs": [
    {
     "data": {
      "text/plain": [
       "array([0.16852683, 0.19654704, 0.22267794])"
      ]
     },
     "execution_count": 17,
     "metadata": {},
     "output_type": "execute_result"
    }
   ],
   "source": [
    "# n2o 0.18 0.21 0.24\n",
    "np.percentile(x.filter(variable=\"Effective Radiative Forcing|N2O\", scenario='ssp245', year=2019).timeseries().values.squeeze(), (5, 50, 95))"
   ]
  },
  {
   "cell_type": "code",
   "execution_count": 18,
   "metadata": {},
   "outputs": [
    {
     "data": {
      "text/plain": [
       "array([0.30891275, 0.38111656, 0.45100342])"
      ]
     },
     "execution_count": 18,
     "metadata": {},
     "output_type": "execute_result"
    }
   ],
   "source": [
    "# other wmghg 0.33 0.41 0.49\n",
    "np.percentile(\n",
    "    (\n",
    "        x.filter(variable=\"Effective Radiative Forcing|Greenhouse Gases\", scenario='ssp245', year=2019).timeseries().values.squeeze() - \n",
    "        x.filter(variable=\"Effective Radiative Forcing|CO2\", scenario='ssp245', year=2019).timeseries().values.squeeze() -\n",
    "        x.filter(variable=\"Effective Radiative Forcing|CH4\", scenario='ssp245', year=2019).timeseries().values.squeeze() -\n",
    "        x.filter(variable=\"Effective Radiative Forcing|N2O\", scenario='ssp245', year=2019).timeseries().values.squeeze()\n",
    "    )\n",
    ", (5, 50, 95))"
   ]
  },
  {
   "cell_type": "code",
   "execution_count": 19,
   "metadata": {},
   "outputs": [
    {
     "data": {
      "text/html": [
       "<div>\n",
       "<style scoped>\n",
       "    .dataframe tbody tr th:only-of-type {\n",
       "        vertical-align: middle;\n",
       "    }\n",
       "\n",
       "    .dataframe tbody tr th {\n",
       "        vertical-align: top;\n",
       "    }\n",
       "\n",
       "    .dataframe thead th {\n",
       "        text-align: right;\n",
       "    }\n",
       "</style>\n",
       "<table border=\"1\" class=\"dataframe\">\n",
       "  <thead>\n",
       "    <tr style=\"text-align: right;\">\n",
       "      <th></th>\n",
       "      <th></th>\n",
       "      <th></th>\n",
       "      <th></th>\n",
       "      <th></th>\n",
       "      <th></th>\n",
       "      <th>time</th>\n",
       "      <th>2019-01-01</th>\n",
       "    </tr>\n",
       "    <tr>\n",
       "      <th>climate_model</th>\n",
       "      <th>model</th>\n",
       "      <th>region</th>\n",
       "      <th>run_id</th>\n",
       "      <th>scenario</th>\n",
       "      <th>unit</th>\n",
       "      <th>variable</th>\n",
       "      <th></th>\n",
       "    </tr>\n",
       "  </thead>\n",
       "  <tbody>\n",
       "    <tr>\n",
       "      <th rowspan=\"11\" valign=\"top\">FaIRv1.6.2</th>\n",
       "      <th rowspan=\"11\" valign=\"top\">MESSAGE-GLOBIOM</th>\n",
       "      <th rowspan=\"11\" valign=\"top\">World</th>\n",
       "      <th>0</th>\n",
       "      <th>ssp245</th>\n",
       "      <th>W/m**2</th>\n",
       "      <th>Effective Radiative Forcing|N2O</th>\n",
       "      <td>0.231808</td>\n",
       "    </tr>\n",
       "    <tr>\n",
       "      <th>1</th>\n",
       "      <th>ssp245</th>\n",
       "      <th>W/m**2</th>\n",
       "      <th>Effective Radiative Forcing|N2O</th>\n",
       "      <td>0.194334</td>\n",
       "    </tr>\n",
       "    <tr>\n",
       "      <th>2</th>\n",
       "      <th>ssp245</th>\n",
       "      <th>W/m**2</th>\n",
       "      <th>Effective Radiative Forcing|N2O</th>\n",
       "      <td>0.218864</td>\n",
       "    </tr>\n",
       "    <tr>\n",
       "      <th>3</th>\n",
       "      <th>ssp245</th>\n",
       "      <th>W/m**2</th>\n",
       "      <th>Effective Radiative Forcing|N2O</th>\n",
       "      <td>0.206190</td>\n",
       "    </tr>\n",
       "    <tr>\n",
       "      <th>4</th>\n",
       "      <th>ssp245</th>\n",
       "      <th>W/m**2</th>\n",
       "      <th>Effective Radiative Forcing|N2O</th>\n",
       "      <td>0.195785</td>\n",
       "    </tr>\n",
       "    <tr>\n",
       "      <th>...</th>\n",
       "      <th>...</th>\n",
       "      <th>...</th>\n",
       "      <th>...</th>\n",
       "      <td>...</td>\n",
       "    </tr>\n",
       "    <tr>\n",
       "      <th>2044</th>\n",
       "      <th>ssp245</th>\n",
       "      <th>W/m**2</th>\n",
       "      <th>Effective Radiative Forcing|N2O</th>\n",
       "      <td>0.222928</td>\n",
       "    </tr>\n",
       "    <tr>\n",
       "      <th>2045</th>\n",
       "      <th>ssp245</th>\n",
       "      <th>W/m**2</th>\n",
       "      <th>Effective Radiative Forcing|N2O</th>\n",
       "      <td>0.202872</td>\n",
       "    </tr>\n",
       "    <tr>\n",
       "      <th>2046</th>\n",
       "      <th>ssp245</th>\n",
       "      <th>W/m**2</th>\n",
       "      <th>Effective Radiative Forcing|N2O</th>\n",
       "      <td>0.203787</td>\n",
       "    </tr>\n",
       "    <tr>\n",
       "      <th>2047</th>\n",
       "      <th>ssp245</th>\n",
       "      <th>W/m**2</th>\n",
       "      <th>Effective Radiative Forcing|N2O</th>\n",
       "      <td>0.190044</td>\n",
       "    </tr>\n",
       "    <tr>\n",
       "      <th>2048</th>\n",
       "      <th>ssp245</th>\n",
       "      <th>W/m**2</th>\n",
       "      <th>Effective Radiative Forcing|N2O</th>\n",
       "      <td>0.202290</td>\n",
       "    </tr>\n",
       "  </tbody>\n",
       "</table>\n",
       "<p>2049 rows × 1 columns</p>\n",
       "</div>"
      ],
      "text/plain": [
       "time                                                                                         2019-01-01\n",
       "climate_model model           region run_id scenario unit   variable                                   \n",
       "FaIRv1.6.2    MESSAGE-GLOBIOM World  0      ssp245   W/m**2 Effective Radiative Forcing|N2O    0.231808\n",
       "                                     1      ssp245   W/m**2 Effective Radiative Forcing|N2O    0.194334\n",
       "                                     2      ssp245   W/m**2 Effective Radiative Forcing|N2O    0.218864\n",
       "                                     3      ssp245   W/m**2 Effective Radiative Forcing|N2O    0.206190\n",
       "                                     4      ssp245   W/m**2 Effective Radiative Forcing|N2O    0.195785\n",
       "...                                                                                                 ...\n",
       "                                     2044   ssp245   W/m**2 Effective Radiative Forcing|N2O    0.222928\n",
       "                                     2045   ssp245   W/m**2 Effective Radiative Forcing|N2O    0.202872\n",
       "                                     2046   ssp245   W/m**2 Effective Radiative Forcing|N2O    0.203787\n",
       "                                     2047   ssp245   W/m**2 Effective Radiative Forcing|N2O    0.190044\n",
       "                                     2048   ssp245   W/m**2 Effective Radiative Forcing|N2O    0.202290\n",
       "\n",
       "[2049 rows x 1 columns]"
      ]
     },
     "execution_count": 19,
     "metadata": {},
     "output_type": "execute_result"
    }
   ],
   "source": [
    "x.filter(variable=\"Effective Radiative Forcing|N2O\", scenario='ssp245', year=2019).timeseries()"
   ]
  },
  {
   "cell_type": "code",
   "execution_count": 20,
   "metadata": {},
   "outputs": [
    {
     "data": {
      "text/plain": [
       "array([0.16852683, 0.19654704, 0.22267794])"
      ]
     },
     "execution_count": 20,
     "metadata": {},
     "output_type": "execute_result"
    }
   ],
   "source": [
    "# n2o 0.18 0.21 0.24\n",
    "np.percentile(x.filter(variable=\"Effective Radiative Forcing|N2O\", scenario='ssp245', year=2019).timeseries().values.squeeze(), (5, 50, 95))"
   ]
  },
  {
   "cell_type": "code",
   "execution_count": 21,
   "metadata": {},
   "outputs": [
    {
     "data": {
      "text/plain": [
       "array([0.21505865, 0.44448128, 0.67491947])"
      ]
     },
     "execution_count": 21,
     "metadata": {},
     "output_type": "execute_result"
    }
   ],
   "source": [
    "# o3 0.24 0.47 0.71\n",
    "np.percentile(x.filter(variable=\"Effective Radiative Forcing|Tropospheric Ozone\", scenario='ssp245', year=2019).timeseries().values.squeeze(), (5, 50, 95))"
   ]
  },
  {
   "cell_type": "code",
   "execution_count": 22,
   "metadata": {},
   "outputs": [
    {
     "data": {
      "text/plain": [
       "array([-0.00189996,  0.04990273,  0.10009878])"
      ]
     },
     "execution_count": 22,
     "metadata": {},
     "output_type": "execute_result"
    }
   ],
   "source": [
    "# h2o 0 0.05 0.10\n",
    "np.percentile(x.filter(variable=\"Effective Radiative Forcing|CH4 Oxidation Stratospheric H2O\", scenario='ssp245', year=2019).timeseries().values.squeeze(), (5, 50, 95))"
   ]
  },
  {
   "cell_type": "code",
   "execution_count": 23,
   "metadata": {},
   "outputs": [
    {
     "data": {
      "text/plain": [
       "array([-0.56769848, -0.27577097,  0.00135659])"
      ]
     },
     "execution_count": 23,
     "metadata": {},
     "output_type": "execute_result"
    }
   ],
   "source": [
    "# ERFaer -0.6 -0.3 -0.0\n",
    "np.percentile(x.filter(variable=\"Effective Radiative Forcing|Aerosols|Direct Effect\", scenario='ssp245', year=np.arange(2005,2015)).timeseries().values.squeeze(), (5, 50, 95))"
   ]
  },
  {
   "cell_type": "code",
   "execution_count": 24,
   "metadata": {},
   "outputs": [
    {
     "data": {
      "text/plain": [
       "array([-1.41563948, -0.85284098, -0.32777979])"
      ]
     },
     "execution_count": 24,
     "metadata": {},
     "output_type": "execute_result"
    }
   ],
   "source": [
    "# ERFaci -1.7 -1.0 -0.3   - very hard to get\n",
    "np.percentile(x.filter(variable=\"Effective Radiative Forcing|Aerosols|Indirect Effect\", scenario='ssp245', year=np.arange(2005,2015)).timeseries().values.squeeze(), (5, 50, 95))"
   ]
  },
  {
   "cell_type": "code",
   "execution_count": 25,
   "metadata": {},
   "outputs": [
    {
     "data": {
      "text/plain": [
       "array([0.02062592, 0.09115713, 0.20588791])"
      ]
     },
     "execution_count": 25,
     "metadata": {},
     "output_type": "execute_result"
    }
   ],
   "source": [
    "# BC Snow 0.02 0.08 0.18\n",
    "np.percentile(x.filter(variable=\"Effective Radiative Forcing|Black Carbon on Snow\", scenario='ssp245', year=2019).timeseries().values.squeeze(), (5, 50, 95))"
   ]
  },
  {
   "cell_type": "code",
   "execution_count": 26,
   "metadata": {},
   "outputs": [
    {
     "data": {
      "text/plain": [
       "array([-0.29814782, -0.19945219, -0.10227193])"
      ]
     },
     "execution_count": 26,
     "metadata": {},
     "output_type": "execute_result"
    }
   ],
   "source": [
    "# Land use -0.30 -0.20 -0.10\n",
    "np.percentile(x.filter(variable=\"Effective Radiative Forcing|Land-use Change\", scenario='ssp245', year=2019).timeseries().values.squeeze(), (5, 50, 95))"
   ]
  },
  {
   "cell_type": "code",
   "execution_count": 27,
   "metadata": {},
   "outputs": [
    {
     "data": {
      "text/plain": [
       "[1.0,\n",
       " 0.9145866648321018,\n",
       " 1.2661237500125642,\n",
       " 1.024955991601806,\n",
       " 1.024955991601806,\n",
       " 1.024955991601806,\n",
       " 1.024955991601806,\n",
       " 1.024955991601806,\n",
       " 1.024955991601806,\n",
       " 1.024955991601806,\n",
       " 1.024955991601806,\n",
       " 1.024955991601806,\n",
       " 1.024955991601806,\n",
       " 1.024955991601806,\n",
       " 1.024955991601806,\n",
       " 1.1582002705100407,\n",
       " 1.147950710594023,\n",
       " 1.024955991601806,\n",
       " 1.024955991601806,\n",
       " 1.024955991601806,\n",
       " 1.024955991601806,\n",
       " 1.024955991601806,\n",
       " 1.024955991601806,\n",
       " 1.024955991601806,\n",
       " 1.024955991601806,\n",
       " 1.024955991601806,\n",
       " 1.024955991601806,\n",
       " 1.024955991601806,\n",
       " 1.024955991601806,\n",
       " 1.024955991601806,\n",
       " 1.024955991601806,\n",
       " 1.0,\n",
       " 1.0,\n",
       " 1.4468188139272717,\n",
       " 1.0283056135367221,\n",
       " 1.0,\n",
       " 1.0,\n",
       " 1.0,\n",
       " 1.0,\n",
       " 1.0,\n",
       " 1.0,\n",
       " 0.9140050659337687,\n",
       " 1.43808811525497,\n",
       " 1.0360710019580495,\n",
       " 1.0]"
      ]
     },
     "execution_count": 27,
     "metadata": {},
     "output_type": "execute_result"
    }
   ],
   "source": [
    "config_list[0]['scale']"
   ]
  },
  {
   "cell_type": "code",
   "execution_count": 28,
   "metadata": {},
   "outputs": [
    {
     "data": {
      "text/plain": [
       "array([0.91283067, 1.043585  , 1.08659637, 0.88729184, 1.36324128,\n",
       "       0.0405751 , 1.22167194, 1.4286079 , 1.12050869, 1.12097391,\n",
       "       0.5710494 ])"
      ]
     },
     "execution_count": 28,
     "metadata": {},
     "output_type": "execute_result"
    }
   ],
   "source": [
    "scale_normals = np.load('../data_input_large/fair-samples/scale_normals.npy')\n",
    "scale_normals[838]"
   ]
  }
 ],
 "metadata": {
  "kernelspec": {
   "display_name": "Python 3",
   "language": "python",
   "name": "python3"
  },
  "language_info": {
   "codemirror_mode": {
    "name": "ipython",
    "version": 3
   },
   "file_extension": ".py",
   "mimetype": "text/x-python",
   "name": "python",
   "nbconvert_exporter": "python",
   "pygments_lexer": "ipython3",
   "version": "3.7.9"
  }
 },
 "nbformat": 4,
 "nbformat_minor": 4
}
