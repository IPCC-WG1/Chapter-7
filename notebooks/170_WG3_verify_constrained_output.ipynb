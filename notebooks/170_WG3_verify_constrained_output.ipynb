{
 "cells": [
  {
   "cell_type": "markdown",
   "metadata": {},
   "source": [
    "# Run constrained emissions-driven ensemble in SSP2-4.5\n",
    "\n",
    "-  verify forcings are close to assessment"
   ]
  },
  {
   "cell_type": "code",
   "execution_count": 1,
   "metadata": {},
   "outputs": [
    {
     "data": {
      "application/javascript": [
       "IPython.OutputArea.prototype._should_scroll = function(lines) { return false; }"
      ],
      "text/plain": [
       "<IPython.core.display.Javascript object>"
      ]
     },
     "metadata": {},
     "output_type": "display_data"
    },
    {
     "name": "stderr",
     "output_type": "stream",
     "text": [
      "/nfs/b0110/Users/mencsm/miniconda3/envs/ar6/lib/python3.7/site-packages/openscm_runner/progress.py:5: TqdmExperimentalWarning: Using `tqdm.autonotebook.tqdm` in notebook mode. Use `tqdm.tqdm` instead to force console mode (e.g. in jupyter console)\n",
      "  from tqdm.autonotebook import tqdm\n"
     ]
    }
   ],
   "source": [
    "import os.path\n",
    "import copy\n",
    "import json\n",
    "import numpy as np\n",
    "import matplotlib.pyplot as plt\n",
    "import pandas as pd\n",
    "import pyam\n",
    "from fair.forward import fair_scm\n",
    "from scmdata import ScmRun, run_append\n",
    "from tqdm import tqdm_notebook\n",
    "\n",
    "import openscm_runner\n",
    "from openscm_runner.run import run\n",
    "from openscm_runner.adapters import FAIR"
   ]
  },
  {
   "cell_type": "code",
   "execution_count": 2,
   "metadata": {},
   "outputs": [
    {
     "data": {
      "text/plain": [
       "'0.5.1'"
      ]
     },
     "execution_count": 2,
     "metadata": {},
     "output_type": "execute_result"
    }
   ],
   "source": [
    "openscm_runner.__version__"
   ]
  },
  {
   "cell_type": "code",
   "execution_count": 3,
   "metadata": {},
   "outputs": [
    {
     "data": {
      "text/plain": [
       "'1.6.2'"
      ]
     },
     "execution_count": 3,
     "metadata": {},
     "output_type": "execute_result"
    }
   ],
   "source": [
    "fair = FAIR()\n",
    "fair.get_version()"
   ]
  },
  {
   "cell_type": "code",
   "execution_count": 4,
   "metadata": {},
   "outputs": [],
   "source": [
    "with open('../data_output_large/fair-samples/fair-1.6.2-wg3-params.json') as f:\n",
    "    config_list = json.load(f)"
   ]
  },
  {
   "cell_type": "code",
   "execution_count": 5,
   "metadata": {},
   "outputs": [],
   "source": [
    "# what a pain\n",
    "\n",
    "species = [\n",
    "'Emissions|BC',\n",
    "'Emissions|CH4',\n",
    "'Emissions|CO',\n",
    "'Emissions|CO2|MAGICC AFOLU',\n",
    "'Emissions|CO2|MAGICC Fossil and Industrial',\n",
    "'Emissions|F-Gases|HFC|HFC125',\n",
    "'Emissions|F-Gases|HFC|HFC134a',\n",
    "'Emissions|F-Gases|HFC|HFC143a',\n",
    "'Emissions|F-Gases|HFC|HFC227ea',\n",
    "'Emissions|F-Gases|HFC|HFC23',\n",
    "'Emissions|F-Gases|HFC|HFC245fa',\n",
    "'Emissions|F-Gases|HFC|HFC32',\n",
    "'Emissions|F-Gases|HFC|HFC4310mee',\n",
    "'Emissions|F-Gases|PFC|C2F6',\n",
    "'Emissions|F-Gases|PFC|C6F14',\n",
    "'Emissions|F-Gases|PFC|CF4',\n",
    "'Emissions|F-Gases|SF6',\n",
    "'Emissions|Montreal Gases|CCl4',\n",
    "'Emissions|Montreal Gases|CFC|CFC11',\n",
    "'Emissions|Montreal Gases|CFC|CFC113',\n",
    "'Emissions|Montreal Gases|CFC|CFC114',\n",
    "'Emissions|Montreal Gases|CFC|CFC115',\n",
    "'Emissions|Montreal Gases|CFC|CFC12',\n",
    "'Emissions|Montreal Gases|CH3Br',\n",
    "'Emissions|Montreal Gases|CH3CCl3',\n",
    "'Emissions|Montreal Gases|CH3Cl',\n",
    "'Emissions|Montreal Gases|HCFC141b',\n",
    "'Emissions|Montreal Gases|HCFC142b',\n",
    "'Emissions|Montreal Gases|HCFC22',\n",
    "'Emissions|Montreal Gases|Halon1202',\n",
    "'Emissions|Montreal Gases|Halon1211',\n",
    "'Emissions|Montreal Gases|Halon1301',\n",
    "'Emissions|Montreal Gases|Halon2402',\n",
    "'Emissions|N2O',\n",
    "'Emissions|NH3',\n",
    "'Emissions|NOx',\n",
    "'Emissions|OC',\n",
    "'Emissions|Sulfur',\n",
    "'Emissions|VOC']"
   ]
  },
  {
   "cell_type": "code",
   "execution_count": 6,
   "metadata": {},
   "outputs": [
    {
     "name": "stdout",
     "output_type": "stream",
     "text": [
      "39\n"
     ]
    }
   ],
   "source": [
    "df_fair = ScmRun('../data_input_large/rcmip-emissions-annual-means-v5-1-0.csv', lowercase_cols=True)\n",
    "df_fair.filter(\n",
    "    scenario=['ssp245'], \n",
    "#    year=range(2015,2301),\n",
    "    year=range(2015,2101),\n",
    "    variable=species,\n",
    "    region='World', \n",
    "    inplace=True\n",
    ")\n",
    "print(len(df_fair))\n",
    "#df_fair.head(50)"
   ]
  },
  {
   "cell_type": "code",
   "execution_count": 7,
   "metadata": {},
   "outputs": [
    {
     "data": {
      "text/plain": [
       "351"
      ]
     },
     "execution_count": 7,
     "metadata": {},
     "output_type": "execute_result"
    }
   ],
   "source": [
    "nt = df_fair.time_points.years()[-1] - 1750 + 1\n",
    "nt"
   ]
  },
  {
   "cell_type": "code",
   "execution_count": 8,
   "metadata": {},
   "outputs": [],
   "source": [
    "# drop beyond 2100\n",
    "updated_config = copy.copy(config_list)\n",
    "for i in range(len(config_list)):\n",
    "    updated_config[i]['F_solar'] = updated_config[i]['F_solar'][:nt]\n",
    "    updated_config[i]['F_volcanic'] = updated_config[i]['F_volcanic'][:nt]\n",
    "    updated_config[i]['natural'] = updated_config[i]['natural'][:nt]"
   ]
  },
  {
   "cell_type": "code",
   "execution_count": 9,
   "metadata": {},
   "outputs": [
    {
     "data": {
      "application/vnd.jupyter.widget-view+json": {
       "model_id": "d2029b3f23004d2185d23185d6f17ada",
       "version_major": 2,
       "version_minor": 0
      },
      "text/plain": [
       "Climate models:   0%|          | 0.00/1.00 [00:00<?, ?it/s]"
      ]
     },
     "metadata": {},
     "output_type": "display_data"
    },
    {
     "data": {
      "application/vnd.jupyter.widget-view+json": {
       "model_id": "3a2dfcdd49f1437da07accd8361cba14",
       "version_major": 2,
       "version_minor": 0
      },
      "text/plain": [
       "Creating FaIR emissions inputs:   0%|          | 0.00/1.00 [00:00<?, ?it/s]"
      ]
     },
     "metadata": {},
     "output_type": "display_data"
    }
   ],
   "source": [
    "# need parallel FaIR in openscm-runner\n",
    "\n",
    "x = run(\n",
    "    climate_models_cfgs={\n",
    "        \"FAIR\": updated_config,\n",
    "    },\n",
    "    scenarios=df_fair,\n",
    "    output_variables=(\n",
    "        \"Surface Air Temperature Change\",\n",
    "        \"Atmospheric Concentrations|CO2\",\n",
    "        \"Atmospheric Concentrations|CH4\",\n",
    "        \"Atmospheric Concentrations|N2O\",\n",
    "        \"Effective Radiative Forcing\",\n",
    "        \"Effective Radiative Forcing|CO2\",\n",
    "        \"Effective Radiative Forcing|CH4\",\n",
    "        \"Effective Radiative Forcing|N2O\",\n",
    "        \"Effective Radiative Forcing|Greenhouse Gases\",\n",
    "        \"Effective Radiative Forcing|Tropospheric Ozone\",\n",
    "        \"Effective Radiative Forcing|CH4 Oxidation Stratospheric H2O\",\n",
    "        \"Effective Radiative Forcing|Contrails\",\n",
    "        \"Effective Radiative Forcing|Aerosols\",\n",
    "        \"Effective Radiative Forcing|Aerosols|Direct Effect|BC\",\n",
    "        \"Effective Radiative Forcing|Aerosols|Direct Effect|OC\",\n",
    "        \"Effective Radiative Forcing|Aerosols|Direct Effect|SOx\",\n",
    "        \"Effective Radiative Forcing|Aerosols|Direct Effect|Nitrate\",\n",
    "        \"Effective Radiative Forcing|Aerosols|Direct Effect\",\n",
    "        \"Effective Radiative Forcing|Aerosols|Indirect Effect\",\n",
    "        \"Effective Radiative Forcing|Black Carbon on Snow\",\n",
    "        \"Effective Radiative Forcing|Land-use Change\"\n",
    "    ),\n",
    ")"
   ]
  },
  {
   "cell_type": "code",
   "execution_count": 10,
   "metadata": {},
   "outputs": [],
   "source": [
    "# convert to ScmRun for better plotting functionality\n",
    "x = ScmRun(x.timeseries())"
   ]
  },
  {
   "cell_type": "code",
   "execution_count": 11,
   "metadata": {},
   "outputs": [
    {
     "data": {
      "text/html": [
       "<div>\n",
       "<style scoped>\n",
       "    .dataframe tbody tr th:only-of-type {\n",
       "        vertical-align: middle;\n",
       "    }\n",
       "\n",
       "    .dataframe tbody tr th {\n",
       "        vertical-align: top;\n",
       "    }\n",
       "\n",
       "    .dataframe thead th {\n",
       "        text-align: right;\n",
       "    }\n",
       "</style>\n",
       "<table border=\"1\" class=\"dataframe\">\n",
       "  <thead>\n",
       "    <tr style=\"text-align: right;\">\n",
       "      <th></th>\n",
       "      <th></th>\n",
       "      <th></th>\n",
       "      <th></th>\n",
       "      <th></th>\n",
       "      <th></th>\n",
       "      <th>time</th>\n",
       "      <th>1750-01-01</th>\n",
       "      <th>1751-01-01</th>\n",
       "      <th>1752-01-01</th>\n",
       "      <th>1753-01-01</th>\n",
       "      <th>1754-01-01</th>\n",
       "      <th>1755-01-01</th>\n",
       "      <th>1756-01-01</th>\n",
       "      <th>1757-01-01</th>\n",
       "      <th>1758-01-01</th>\n",
       "      <th>1759-01-01</th>\n",
       "      <th>...</th>\n",
       "      <th>2091-01-01</th>\n",
       "      <th>2092-01-01</th>\n",
       "      <th>2093-01-01</th>\n",
       "      <th>2094-01-01</th>\n",
       "      <th>2095-01-01</th>\n",
       "      <th>2096-01-01</th>\n",
       "      <th>2097-01-01</th>\n",
       "      <th>2098-01-01</th>\n",
       "      <th>2099-01-01</th>\n",
       "      <th>2100-01-01</th>\n",
       "    </tr>\n",
       "    <tr>\n",
       "      <th>climate_model</th>\n",
       "      <th>model</th>\n",
       "      <th>region</th>\n",
       "      <th>run_id</th>\n",
       "      <th>scenario</th>\n",
       "      <th>unit</th>\n",
       "      <th>variable</th>\n",
       "      <th></th>\n",
       "      <th></th>\n",
       "      <th></th>\n",
       "      <th></th>\n",
       "      <th></th>\n",
       "      <th></th>\n",
       "      <th></th>\n",
       "      <th></th>\n",
       "      <th></th>\n",
       "      <th></th>\n",
       "      <th></th>\n",
       "      <th></th>\n",
       "      <th></th>\n",
       "      <th></th>\n",
       "      <th></th>\n",
       "      <th></th>\n",
       "      <th></th>\n",
       "      <th></th>\n",
       "      <th></th>\n",
       "      <th></th>\n",
       "      <th></th>\n",
       "    </tr>\n",
       "  </thead>\n",
       "  <tbody>\n",
       "    <tr>\n",
       "      <th rowspan=\"5\" valign=\"top\">FaIRv1.6.2</th>\n",
       "      <th rowspan=\"5\" valign=\"top\">MESSAGE-GLOBIOM</th>\n",
       "      <th rowspan=\"5\" valign=\"top\">World</th>\n",
       "      <th rowspan=\"5\" valign=\"top\">2236</th>\n",
       "      <th rowspan=\"5\" valign=\"top\">ssp245</th>\n",
       "      <th rowspan=\"5\" valign=\"top\">W/m**2</th>\n",
       "      <th>Effective Radiative Forcing|Aerosols|Direct Effect|Nitrate</th>\n",
       "      <td>-1.798222e-12</td>\n",
       "      <td>0.000121</td>\n",
       "      <td>0.000195</td>\n",
       "      <td>0.000083</td>\n",
       "      <td>-0.000157</td>\n",
       "      <td>-0.000029</td>\n",
       "      <td>0.000009</td>\n",
       "      <td>-0.000216</td>\n",
       "      <td>-0.000122</td>\n",
       "      <td>-0.000213</td>\n",
       "      <td>...</td>\n",
       "      <td>-0.108352</td>\n",
       "      <td>-0.107990</td>\n",
       "      <td>-0.107627</td>\n",
       "      <td>-0.107265</td>\n",
       "      <td>-0.106903</td>\n",
       "      <td>-0.106541</td>\n",
       "      <td>-0.106178</td>\n",
       "      <td>-0.105816</td>\n",
       "      <td>-0.105453</td>\n",
       "      <td>-0.105091</td>\n",
       "    </tr>\n",
       "    <tr>\n",
       "      <th>Effective Radiative Forcing|Aerosols|Direct Effect</th>\n",
       "      <td>4.927383e-10</td>\n",
       "      <td>-0.000540</td>\n",
       "      <td>-0.000497</td>\n",
       "      <td>-0.000632</td>\n",
       "      <td>-0.000491</td>\n",
       "      <td>0.000325</td>\n",
       "      <td>-0.000977</td>\n",
       "      <td>0.001918</td>\n",
       "      <td>0.000965</td>\n",
       "      <td>0.000505</td>\n",
       "      <td>...</td>\n",
       "      <td>-0.182128</td>\n",
       "      <td>-0.182800</td>\n",
       "      <td>-0.183473</td>\n",
       "      <td>-0.184145</td>\n",
       "      <td>-0.184816</td>\n",
       "      <td>-0.185488</td>\n",
       "      <td>-0.186161</td>\n",
       "      <td>-0.186833</td>\n",
       "      <td>-0.187504</td>\n",
       "      <td>-0.188176</td>\n",
       "    </tr>\n",
       "    <tr>\n",
       "      <th>Effective Radiative Forcing|Aerosols|Indirect Effect</th>\n",
       "      <td>5.073510e-10</td>\n",
       "      <td>0.003208</td>\n",
       "      <td>0.005027</td>\n",
       "      <td>0.003276</td>\n",
       "      <td>-0.001310</td>\n",
       "      <td>0.000941</td>\n",
       "      <td>0.003128</td>\n",
       "      <td>-0.003599</td>\n",
       "      <td>-0.001140</td>\n",
       "      <td>-0.001717</td>\n",
       "      <td>...</td>\n",
       "      <td>-0.128913</td>\n",
       "      <td>-0.126744</td>\n",
       "      <td>-0.124561</td>\n",
       "      <td>-0.122377</td>\n",
       "      <td>-0.120186</td>\n",
       "      <td>-0.117986</td>\n",
       "      <td>-0.115773</td>\n",
       "      <td>-0.113557</td>\n",
       "      <td>-0.111334</td>\n",
       "      <td>-0.109103</td>\n",
       "    </tr>\n",
       "    <tr>\n",
       "      <th>Effective Radiative Forcing|Black Carbon on Snow</th>\n",
       "      <td>1.077858e-10</td>\n",
       "      <td>-0.000536</td>\n",
       "      <td>-0.000721</td>\n",
       "      <td>-0.000557</td>\n",
       "      <td>0.000034</td>\n",
       "      <td>0.000030</td>\n",
       "      <td>-0.000622</td>\n",
       "      <td>0.001081</td>\n",
       "      <td>0.000492</td>\n",
       "      <td>0.000420</td>\n",
       "      <td>...</td>\n",
       "      <td>0.019163</td>\n",
       "      <td>0.018359</td>\n",
       "      <td>0.017553</td>\n",
       "      <td>0.016749</td>\n",
       "      <td>0.015946</td>\n",
       "      <td>0.015142</td>\n",
       "      <td>0.014336</td>\n",
       "      <td>0.013532</td>\n",
       "      <td>0.012729</td>\n",
       "      <td>0.011925</td>\n",
       "    </tr>\n",
       "    <tr>\n",
       "      <th>Effective Radiative Forcing|Land-use Change</th>\n",
       "      <td>-6.077627e-05</td>\n",
       "      <td>-0.000123</td>\n",
       "      <td>-0.000186</td>\n",
       "      <td>-0.000250</td>\n",
       "      <td>-0.000315</td>\n",
       "      <td>-0.000382</td>\n",
       "      <td>-0.000450</td>\n",
       "      <td>-0.000519</td>\n",
       "      <td>-0.000589</td>\n",
       "      <td>-0.000661</td>\n",
       "      <td>...</td>\n",
       "      <td>-0.136860</td>\n",
       "      <td>-0.135959</td>\n",
       "      <td>-0.135047</td>\n",
       "      <td>-0.134126</td>\n",
       "      <td>-0.133194</td>\n",
       "      <td>-0.132253</td>\n",
       "      <td>-0.131302</td>\n",
       "      <td>-0.130341</td>\n",
       "      <td>-0.129370</td>\n",
       "      <td>-0.128389</td>\n",
       "    </tr>\n",
       "  </tbody>\n",
       "</table>\n",
       "<p>5 rows × 351 columns</p>\n",
       "</div>"
      ],
      "text/plain": [
       "time                                                                                                              1750-01-01  \\\n",
       "climate_model model           region run_id scenario unit   variable                                                           \n",
       "FaIRv1.6.2    MESSAGE-GLOBIOM World  2236   ssp245   W/m**2 Effective Radiative Forcing|Aerosols|Direct Eff... -1.798222e-12   \n",
       "                                                            Effective Radiative Forcing|Aerosols|Direct Effect  4.927383e-10   \n",
       "                                                            Effective Radiative Forcing|Aerosols|Indirect E...  5.073510e-10   \n",
       "                                                            Effective Radiative Forcing|Black Carbon on Snow    1.077858e-10   \n",
       "                                                            Effective Radiative Forcing|Land-use Change        -6.077627e-05   \n",
       "\n",
       "time                                                                                                            1751-01-01  \\\n",
       "climate_model model           region run_id scenario unit   variable                                                         \n",
       "FaIRv1.6.2    MESSAGE-GLOBIOM World  2236   ssp245   W/m**2 Effective Radiative Forcing|Aerosols|Direct Eff...    0.000121   \n",
       "                                                            Effective Radiative Forcing|Aerosols|Direct Effect   -0.000540   \n",
       "                                                            Effective Radiative Forcing|Aerosols|Indirect E...    0.003208   \n",
       "                                                            Effective Radiative Forcing|Black Carbon on Snow     -0.000536   \n",
       "                                                            Effective Radiative Forcing|Land-use Change          -0.000123   \n",
       "\n",
       "time                                                                                                            1752-01-01  \\\n",
       "climate_model model           region run_id scenario unit   variable                                                         \n",
       "FaIRv1.6.2    MESSAGE-GLOBIOM World  2236   ssp245   W/m**2 Effective Radiative Forcing|Aerosols|Direct Eff...    0.000195   \n",
       "                                                            Effective Radiative Forcing|Aerosols|Direct Effect   -0.000497   \n",
       "                                                            Effective Radiative Forcing|Aerosols|Indirect E...    0.005027   \n",
       "                                                            Effective Radiative Forcing|Black Carbon on Snow     -0.000721   \n",
       "                                                            Effective Radiative Forcing|Land-use Change          -0.000186   \n",
       "\n",
       "time                                                                                                            1753-01-01  \\\n",
       "climate_model model           region run_id scenario unit   variable                                                         \n",
       "FaIRv1.6.2    MESSAGE-GLOBIOM World  2236   ssp245   W/m**2 Effective Radiative Forcing|Aerosols|Direct Eff...    0.000083   \n",
       "                                                            Effective Radiative Forcing|Aerosols|Direct Effect   -0.000632   \n",
       "                                                            Effective Radiative Forcing|Aerosols|Indirect E...    0.003276   \n",
       "                                                            Effective Radiative Forcing|Black Carbon on Snow     -0.000557   \n",
       "                                                            Effective Radiative Forcing|Land-use Change          -0.000250   \n",
       "\n",
       "time                                                                                                            1754-01-01  \\\n",
       "climate_model model           region run_id scenario unit   variable                                                         \n",
       "FaIRv1.6.2    MESSAGE-GLOBIOM World  2236   ssp245   W/m**2 Effective Radiative Forcing|Aerosols|Direct Eff...   -0.000157   \n",
       "                                                            Effective Radiative Forcing|Aerosols|Direct Effect   -0.000491   \n",
       "                                                            Effective Radiative Forcing|Aerosols|Indirect E...   -0.001310   \n",
       "                                                            Effective Radiative Forcing|Black Carbon on Snow      0.000034   \n",
       "                                                            Effective Radiative Forcing|Land-use Change          -0.000315   \n",
       "\n",
       "time                                                                                                            1755-01-01  \\\n",
       "climate_model model           region run_id scenario unit   variable                                                         \n",
       "FaIRv1.6.2    MESSAGE-GLOBIOM World  2236   ssp245   W/m**2 Effective Radiative Forcing|Aerosols|Direct Eff...   -0.000029   \n",
       "                                                            Effective Radiative Forcing|Aerosols|Direct Effect    0.000325   \n",
       "                                                            Effective Radiative Forcing|Aerosols|Indirect E...    0.000941   \n",
       "                                                            Effective Radiative Forcing|Black Carbon on Snow      0.000030   \n",
       "                                                            Effective Radiative Forcing|Land-use Change          -0.000382   \n",
       "\n",
       "time                                                                                                            1756-01-01  \\\n",
       "climate_model model           region run_id scenario unit   variable                                                         \n",
       "FaIRv1.6.2    MESSAGE-GLOBIOM World  2236   ssp245   W/m**2 Effective Radiative Forcing|Aerosols|Direct Eff...    0.000009   \n",
       "                                                            Effective Radiative Forcing|Aerosols|Direct Effect   -0.000977   \n",
       "                                                            Effective Radiative Forcing|Aerosols|Indirect E...    0.003128   \n",
       "                                                            Effective Radiative Forcing|Black Carbon on Snow     -0.000622   \n",
       "                                                            Effective Radiative Forcing|Land-use Change          -0.000450   \n",
       "\n",
       "time                                                                                                            1757-01-01  \\\n",
       "climate_model model           region run_id scenario unit   variable                                                         \n",
       "FaIRv1.6.2    MESSAGE-GLOBIOM World  2236   ssp245   W/m**2 Effective Radiative Forcing|Aerosols|Direct Eff...   -0.000216   \n",
       "                                                            Effective Radiative Forcing|Aerosols|Direct Effect    0.001918   \n",
       "                                                            Effective Radiative Forcing|Aerosols|Indirect E...   -0.003599   \n",
       "                                                            Effective Radiative Forcing|Black Carbon on Snow      0.001081   \n",
       "                                                            Effective Radiative Forcing|Land-use Change          -0.000519   \n",
       "\n",
       "time                                                                                                            1758-01-01  \\\n",
       "climate_model model           region run_id scenario unit   variable                                                         \n",
       "FaIRv1.6.2    MESSAGE-GLOBIOM World  2236   ssp245   W/m**2 Effective Radiative Forcing|Aerosols|Direct Eff...   -0.000122   \n",
       "                                                            Effective Radiative Forcing|Aerosols|Direct Effect    0.000965   \n",
       "                                                            Effective Radiative Forcing|Aerosols|Indirect E...   -0.001140   \n",
       "                                                            Effective Radiative Forcing|Black Carbon on Snow      0.000492   \n",
       "                                                            Effective Radiative Forcing|Land-use Change          -0.000589   \n",
       "\n",
       "time                                                                                                            1759-01-01  \\\n",
       "climate_model model           region run_id scenario unit   variable                                                         \n",
       "FaIRv1.6.2    MESSAGE-GLOBIOM World  2236   ssp245   W/m**2 Effective Radiative Forcing|Aerosols|Direct Eff...   -0.000213   \n",
       "                                                            Effective Radiative Forcing|Aerosols|Direct Effect    0.000505   \n",
       "                                                            Effective Radiative Forcing|Aerosols|Indirect E...   -0.001717   \n",
       "                                                            Effective Radiative Forcing|Black Carbon on Snow      0.000420   \n",
       "                                                            Effective Radiative Forcing|Land-use Change          -0.000661   \n",
       "\n",
       "time                                                                                                            ...  \\\n",
       "climate_model model           region run_id scenario unit   variable                                            ...   \n",
       "FaIRv1.6.2    MESSAGE-GLOBIOM World  2236   ssp245   W/m**2 Effective Radiative Forcing|Aerosols|Direct Eff...  ...   \n",
       "                                                            Effective Radiative Forcing|Aerosols|Direct Effect  ...   \n",
       "                                                            Effective Radiative Forcing|Aerosols|Indirect E...  ...   \n",
       "                                                            Effective Radiative Forcing|Black Carbon on Snow    ...   \n",
       "                                                            Effective Radiative Forcing|Land-use Change         ...   \n",
       "\n",
       "time                                                                                                            2091-01-01  \\\n",
       "climate_model model           region run_id scenario unit   variable                                                         \n",
       "FaIRv1.6.2    MESSAGE-GLOBIOM World  2236   ssp245   W/m**2 Effective Radiative Forcing|Aerosols|Direct Eff...   -0.108352   \n",
       "                                                            Effective Radiative Forcing|Aerosols|Direct Effect   -0.182128   \n",
       "                                                            Effective Radiative Forcing|Aerosols|Indirect E...   -0.128913   \n",
       "                                                            Effective Radiative Forcing|Black Carbon on Snow      0.019163   \n",
       "                                                            Effective Radiative Forcing|Land-use Change          -0.136860   \n",
       "\n",
       "time                                                                                                            2092-01-01  \\\n",
       "climate_model model           region run_id scenario unit   variable                                                         \n",
       "FaIRv1.6.2    MESSAGE-GLOBIOM World  2236   ssp245   W/m**2 Effective Radiative Forcing|Aerosols|Direct Eff...   -0.107990   \n",
       "                                                            Effective Radiative Forcing|Aerosols|Direct Effect   -0.182800   \n",
       "                                                            Effective Radiative Forcing|Aerosols|Indirect E...   -0.126744   \n",
       "                                                            Effective Radiative Forcing|Black Carbon on Snow      0.018359   \n",
       "                                                            Effective Radiative Forcing|Land-use Change          -0.135959   \n",
       "\n",
       "time                                                                                                            2093-01-01  \\\n",
       "climate_model model           region run_id scenario unit   variable                                                         \n",
       "FaIRv1.6.2    MESSAGE-GLOBIOM World  2236   ssp245   W/m**2 Effective Radiative Forcing|Aerosols|Direct Eff...   -0.107627   \n",
       "                                                            Effective Radiative Forcing|Aerosols|Direct Effect   -0.183473   \n",
       "                                                            Effective Radiative Forcing|Aerosols|Indirect E...   -0.124561   \n",
       "                                                            Effective Radiative Forcing|Black Carbon on Snow      0.017553   \n",
       "                                                            Effective Radiative Forcing|Land-use Change          -0.135047   \n",
       "\n",
       "time                                                                                                            2094-01-01  \\\n",
       "climate_model model           region run_id scenario unit   variable                                                         \n",
       "FaIRv1.6.2    MESSAGE-GLOBIOM World  2236   ssp245   W/m**2 Effective Radiative Forcing|Aerosols|Direct Eff...   -0.107265   \n",
       "                                                            Effective Radiative Forcing|Aerosols|Direct Effect   -0.184145   \n",
       "                                                            Effective Radiative Forcing|Aerosols|Indirect E...   -0.122377   \n",
       "                                                            Effective Radiative Forcing|Black Carbon on Snow      0.016749   \n",
       "                                                            Effective Radiative Forcing|Land-use Change          -0.134126   \n",
       "\n",
       "time                                                                                                            2095-01-01  \\\n",
       "climate_model model           region run_id scenario unit   variable                                                         \n",
       "FaIRv1.6.2    MESSAGE-GLOBIOM World  2236   ssp245   W/m**2 Effective Radiative Forcing|Aerosols|Direct Eff...   -0.106903   \n",
       "                                                            Effective Radiative Forcing|Aerosols|Direct Effect   -0.184816   \n",
       "                                                            Effective Radiative Forcing|Aerosols|Indirect E...   -0.120186   \n",
       "                                                            Effective Radiative Forcing|Black Carbon on Snow      0.015946   \n",
       "                                                            Effective Radiative Forcing|Land-use Change          -0.133194   \n",
       "\n",
       "time                                                                                                            2096-01-01  \\\n",
       "climate_model model           region run_id scenario unit   variable                                                         \n",
       "FaIRv1.6.2    MESSAGE-GLOBIOM World  2236   ssp245   W/m**2 Effective Radiative Forcing|Aerosols|Direct Eff...   -0.106541   \n",
       "                                                            Effective Radiative Forcing|Aerosols|Direct Effect   -0.185488   \n",
       "                                                            Effective Radiative Forcing|Aerosols|Indirect E...   -0.117986   \n",
       "                                                            Effective Radiative Forcing|Black Carbon on Snow      0.015142   \n",
       "                                                            Effective Radiative Forcing|Land-use Change          -0.132253   \n",
       "\n",
       "time                                                                                                            2097-01-01  \\\n",
       "climate_model model           region run_id scenario unit   variable                                                         \n",
       "FaIRv1.6.2    MESSAGE-GLOBIOM World  2236   ssp245   W/m**2 Effective Radiative Forcing|Aerosols|Direct Eff...   -0.106178   \n",
       "                                                            Effective Radiative Forcing|Aerosols|Direct Effect   -0.186161   \n",
       "                                                            Effective Radiative Forcing|Aerosols|Indirect E...   -0.115773   \n",
       "                                                            Effective Radiative Forcing|Black Carbon on Snow      0.014336   \n",
       "                                                            Effective Radiative Forcing|Land-use Change          -0.131302   \n",
       "\n",
       "time                                                                                                            2098-01-01  \\\n",
       "climate_model model           region run_id scenario unit   variable                                                         \n",
       "FaIRv1.6.2    MESSAGE-GLOBIOM World  2236   ssp245   W/m**2 Effective Radiative Forcing|Aerosols|Direct Eff...   -0.105816   \n",
       "                                                            Effective Radiative Forcing|Aerosols|Direct Effect   -0.186833   \n",
       "                                                            Effective Radiative Forcing|Aerosols|Indirect E...   -0.113557   \n",
       "                                                            Effective Radiative Forcing|Black Carbon on Snow      0.013532   \n",
       "                                                            Effective Radiative Forcing|Land-use Change          -0.130341   \n",
       "\n",
       "time                                                                                                            2099-01-01  \\\n",
       "climate_model model           region run_id scenario unit   variable                                                         \n",
       "FaIRv1.6.2    MESSAGE-GLOBIOM World  2236   ssp245   W/m**2 Effective Radiative Forcing|Aerosols|Direct Eff...   -0.105453   \n",
       "                                                            Effective Radiative Forcing|Aerosols|Direct Effect   -0.187504   \n",
       "                                                            Effective Radiative Forcing|Aerosols|Indirect E...   -0.111334   \n",
       "                                                            Effective Radiative Forcing|Black Carbon on Snow      0.012729   \n",
       "                                                            Effective Radiative Forcing|Land-use Change          -0.129370   \n",
       "\n",
       "time                                                                                                            2100-01-01  \n",
       "climate_model model           region run_id scenario unit   variable                                                        \n",
       "FaIRv1.6.2    MESSAGE-GLOBIOM World  2236   ssp245   W/m**2 Effective Radiative Forcing|Aerosols|Direct Eff...   -0.105091  \n",
       "                                                            Effective Radiative Forcing|Aerosols|Direct Effect   -0.188176  \n",
       "                                                            Effective Radiative Forcing|Aerosols|Indirect E...   -0.109103  \n",
       "                                                            Effective Radiative Forcing|Black Carbon on Snow      0.011925  \n",
       "                                                            Effective Radiative Forcing|Land-use Change          -0.128389  \n",
       "\n",
       "[5 rows x 351 columns]"
      ]
     },
     "execution_count": 11,
     "metadata": {},
     "output_type": "execute_result"
    }
   ],
   "source": [
    "x.tail()"
   ]
  },
  {
   "cell_type": "code",
   "execution_count": 12,
   "metadata": {},
   "outputs": [
    {
     "data": {
      "text/plain": [
       "array([409.11595641, 410.11169543, 411.21552965])"
      ]
     },
     "execution_count": 12,
     "metadata": {},
     "output_type": "execute_result"
    }
   ],
   "source": [
    "# co2 409.9\n",
    "np.percentile(x.filter(variable=\"Atmospheric Concentrations|CO2\", scenario='ssp245', year=2019).timeseries().values.squeeze(), (5, 50, 95))"
   ]
  },
  {
   "cell_type": "code",
   "execution_count": 13,
   "metadata": {
    "scrolled": true
   },
   "outputs": [
    {
     "data": {
      "text/plain": [
       "array([1868.81582612, 1868.81582612, 1868.81582612])"
      ]
     },
     "execution_count": 13,
     "metadata": {},
     "output_type": "execute_result"
    }
   ],
   "source": [
    "# ch4 1866.3\n",
    "np.percentile(x.filter(variable=\"Atmospheric Concentrations|CH4\", scenario='ssp245', year=2019).timeseries().values.squeeze(), (5, 50, 95))"
   ]
  },
  {
   "cell_type": "code",
   "execution_count": 14,
   "metadata": {},
   "outputs": [
    {
     "data": {
      "text/plain": [
       "array([332.32989281, 332.32989281, 332.32989281])"
      ]
     },
     "execution_count": 14,
     "metadata": {},
     "output_type": "execute_result"
    }
   ],
   "source": [
    "# n2o 332.1\n",
    "np.percentile(x.filter(variable=\"Atmospheric Concentrations|N2O\", scenario='ssp245', year=2019).timeseries().values.squeeze(), (5, 50, 95))"
   ]
  },
  {
   "cell_type": "code",
   "execution_count": 15,
   "metadata": {},
   "outputs": [
    {
     "data": {
      "text/plain": [
       "array([1.93929585, 2.21408999, 2.49099997])"
      ]
     },
     "execution_count": 15,
     "metadata": {},
     "output_type": "execute_result"
    }
   ],
   "source": [
    "# co2 1.90 2.16 2.41\n",
    "# any differences to GHG forcing is as likely to be with the pre-industrial concentration as it is with FaIR itself\n",
    "np.percentile(x.filter(variable=\"Effective Radiative Forcing|CO2\", scenario='ssp245', year=2019).timeseries().values.squeeze(), (5, 50, 95))"
   ]
  },
  {
   "cell_type": "code",
   "execution_count": 16,
   "metadata": {},
   "outputs": [
    {
     "data": {
      "text/plain": [
       "array([0.43267558, 0.54600381, 0.65279681])"
      ]
     },
     "execution_count": 16,
     "metadata": {},
     "output_type": "execute_result"
    }
   ],
   "source": [
    "# ch4 0.43 0.54 0.65\n",
    "np.percentile(x.filter(variable=\"Effective Radiative Forcing|CH4\", scenario='ssp245', year=2019).timeseries().values.squeeze(), (5, 50, 95))"
   ]
  },
  {
   "cell_type": "code",
   "execution_count": 17,
   "metadata": {},
   "outputs": [
    {
     "data": {
      "text/plain": [
       "array([0.16857336, 0.19626231, 0.22257749])"
      ]
     },
     "execution_count": 17,
     "metadata": {},
     "output_type": "execute_result"
    }
   ],
   "source": [
    "# n2o 0.18 0.21 0.24\n",
    "np.percentile(x.filter(variable=\"Effective Radiative Forcing|N2O\", scenario='ssp245', year=2019).timeseries().values.squeeze(), (5, 50, 95))"
   ]
  },
  {
   "cell_type": "code",
   "execution_count": 18,
   "metadata": {},
   "outputs": [
    {
     "data": {
      "text/plain": [
       "array([0.31023668, 0.38161295, 0.45282427])"
      ]
     },
     "execution_count": 18,
     "metadata": {},
     "output_type": "execute_result"
    }
   ],
   "source": [
    "# other wmghg 0.33 0.41 0.49\n",
    "np.percentile(\n",
    "    (\n",
    "        x.filter(variable=\"Effective Radiative Forcing|Greenhouse Gases\", scenario='ssp245', year=2019).timeseries().values.squeeze() - \n",
    "        x.filter(variable=\"Effective Radiative Forcing|CO2\", scenario='ssp245', year=2019).timeseries().values.squeeze() -\n",
    "        x.filter(variable=\"Effective Radiative Forcing|CH4\", scenario='ssp245', year=2019).timeseries().values.squeeze() -\n",
    "        x.filter(variable=\"Effective Radiative Forcing|N2O\", scenario='ssp245', year=2019).timeseries().values.squeeze()\n",
    "    )\n",
    ", (5, 50, 95))"
   ]
  },
  {
   "cell_type": "code",
   "execution_count": 19,
   "metadata": {},
   "outputs": [
    {
     "data": {
      "text/html": [
       "<div>\n",
       "<style scoped>\n",
       "    .dataframe tbody tr th:only-of-type {\n",
       "        vertical-align: middle;\n",
       "    }\n",
       "\n",
       "    .dataframe tbody tr th {\n",
       "        vertical-align: top;\n",
       "    }\n",
       "\n",
       "    .dataframe thead th {\n",
       "        text-align: right;\n",
       "    }\n",
       "</style>\n",
       "<table border=\"1\" class=\"dataframe\">\n",
       "  <thead>\n",
       "    <tr style=\"text-align: right;\">\n",
       "      <th></th>\n",
       "      <th></th>\n",
       "      <th></th>\n",
       "      <th></th>\n",
       "      <th></th>\n",
       "      <th></th>\n",
       "      <th>time</th>\n",
       "      <th>2019-01-01</th>\n",
       "    </tr>\n",
       "    <tr>\n",
       "      <th>climate_model</th>\n",
       "      <th>model</th>\n",
       "      <th>region</th>\n",
       "      <th>run_id</th>\n",
       "      <th>scenario</th>\n",
       "      <th>unit</th>\n",
       "      <th>variable</th>\n",
       "      <th></th>\n",
       "    </tr>\n",
       "  </thead>\n",
       "  <tbody>\n",
       "    <tr>\n",
       "      <th rowspan=\"11\" valign=\"top\">FaIRv1.6.2</th>\n",
       "      <th rowspan=\"11\" valign=\"top\">MESSAGE-GLOBIOM</th>\n",
       "      <th rowspan=\"11\" valign=\"top\">World</th>\n",
       "      <th>0</th>\n",
       "      <th>ssp245</th>\n",
       "      <th>W/m**2</th>\n",
       "      <th>Effective Radiative Forcing|N2O</th>\n",
       "      <td>0.231809</td>\n",
       "    </tr>\n",
       "    <tr>\n",
       "      <th>1</th>\n",
       "      <th>ssp245</th>\n",
       "      <th>W/m**2</th>\n",
       "      <th>Effective Radiative Forcing|N2O</th>\n",
       "      <td>0.218864</td>\n",
       "    </tr>\n",
       "    <tr>\n",
       "      <th>2</th>\n",
       "      <th>ssp245</th>\n",
       "      <th>W/m**2</th>\n",
       "      <th>Effective Radiative Forcing|N2O</th>\n",
       "      <td>0.206191</td>\n",
       "    </tr>\n",
       "    <tr>\n",
       "      <th>3</th>\n",
       "      <th>ssp245</th>\n",
       "      <th>W/m**2</th>\n",
       "      <th>Effective Radiative Forcing|N2O</th>\n",
       "      <td>0.195786</td>\n",
       "    </tr>\n",
       "    <tr>\n",
       "      <th>4</th>\n",
       "      <th>ssp245</th>\n",
       "      <th>W/m**2</th>\n",
       "      <th>Effective Radiative Forcing|N2O</th>\n",
       "      <td>0.200771</td>\n",
       "    </tr>\n",
       "    <tr>\n",
       "      <th>...</th>\n",
       "      <th>...</th>\n",
       "      <th>...</th>\n",
       "      <th>...</th>\n",
       "      <td>...</td>\n",
       "    </tr>\n",
       "    <tr>\n",
       "      <th>2232</th>\n",
       "      <th>ssp245</th>\n",
       "      <th>W/m**2</th>\n",
       "      <th>Effective Radiative Forcing|N2O</th>\n",
       "      <td>0.222929</td>\n",
       "    </tr>\n",
       "    <tr>\n",
       "      <th>2233</th>\n",
       "      <th>ssp245</th>\n",
       "      <th>W/m**2</th>\n",
       "      <th>Effective Radiative Forcing|N2O</th>\n",
       "      <td>0.202872</td>\n",
       "    </tr>\n",
       "    <tr>\n",
       "      <th>2234</th>\n",
       "      <th>ssp245</th>\n",
       "      <th>W/m**2</th>\n",
       "      <th>Effective Radiative Forcing|N2O</th>\n",
       "      <td>0.203788</td>\n",
       "    </tr>\n",
       "    <tr>\n",
       "      <th>2235</th>\n",
       "      <th>ssp245</th>\n",
       "      <th>W/m**2</th>\n",
       "      <th>Effective Radiative Forcing|N2O</th>\n",
       "      <td>0.190045</td>\n",
       "    </tr>\n",
       "    <tr>\n",
       "      <th>2236</th>\n",
       "      <th>ssp245</th>\n",
       "      <th>W/m**2</th>\n",
       "      <th>Effective Radiative Forcing|N2O</th>\n",
       "      <td>0.198236</td>\n",
       "    </tr>\n",
       "  </tbody>\n",
       "</table>\n",
       "<p>2237 rows × 1 columns</p>\n",
       "</div>"
      ],
      "text/plain": [
       "time                                                                                         2019-01-01\n",
       "climate_model model           region run_id scenario unit   variable                                   \n",
       "FaIRv1.6.2    MESSAGE-GLOBIOM World  0      ssp245   W/m**2 Effective Radiative Forcing|N2O    0.231809\n",
       "                                     1      ssp245   W/m**2 Effective Radiative Forcing|N2O    0.218864\n",
       "                                     2      ssp245   W/m**2 Effective Radiative Forcing|N2O    0.206191\n",
       "                                     3      ssp245   W/m**2 Effective Radiative Forcing|N2O    0.195786\n",
       "                                     4      ssp245   W/m**2 Effective Radiative Forcing|N2O    0.200771\n",
       "...                                                                                                 ...\n",
       "                                     2232   ssp245   W/m**2 Effective Radiative Forcing|N2O    0.222929\n",
       "                                     2233   ssp245   W/m**2 Effective Radiative Forcing|N2O    0.202872\n",
       "                                     2234   ssp245   W/m**2 Effective Radiative Forcing|N2O    0.203788\n",
       "                                     2235   ssp245   W/m**2 Effective Radiative Forcing|N2O    0.190045\n",
       "                                     2236   ssp245   W/m**2 Effective Radiative Forcing|N2O    0.198236\n",
       "\n",
       "[2237 rows x 1 columns]"
      ]
     },
     "execution_count": 19,
     "metadata": {},
     "output_type": "execute_result"
    }
   ],
   "source": [
    "x.filter(variable=\"Effective Radiative Forcing|N2O\", scenario='ssp245', year=2019).timeseries()"
   ]
  },
  {
   "cell_type": "code",
   "execution_count": 20,
   "metadata": {},
   "outputs": [
    {
     "data": {
      "text/plain": [
       "array([0.16857336, 0.19626231, 0.22257749])"
      ]
     },
     "execution_count": 20,
     "metadata": {},
     "output_type": "execute_result"
    }
   ],
   "source": [
    "# n2o 0.18 0.21 0.24\n",
    "np.percentile(x.filter(variable=\"Effective Radiative Forcing|N2O\", scenario='ssp245', year=2019).timeseries().values.squeeze(), (5, 50, 95))"
   ]
  },
  {
   "cell_type": "code",
   "execution_count": 21,
   "metadata": {},
   "outputs": [
    {
     "data": {
      "text/plain": [
       "array([0.20322417, 0.43526575, 0.65958595])"
      ]
     },
     "execution_count": 21,
     "metadata": {},
     "output_type": "execute_result"
    }
   ],
   "source": [
    "# o3 0.24 0.47 0.71\n",
    "np.percentile(x.filter(variable=\"Effective Radiative Forcing|Tropospheric Ozone\", scenario='ssp245', year=2019).timeseries().values.squeeze(), (5, 50, 95))"
   ]
  },
  {
   "cell_type": "code",
   "execution_count": 22,
   "metadata": {},
   "outputs": [
    {
     "data": {
      "text/plain": [
       "array([-0.00175108,  0.05027999,  0.10101726])"
      ]
     },
     "execution_count": 22,
     "metadata": {},
     "output_type": "execute_result"
    }
   ],
   "source": [
    "# h2o 0 0.05 0.10\n",
    "np.percentile(x.filter(variable=\"Effective Radiative Forcing|CH4 Oxidation Stratospheric H2O\", scenario='ssp245', year=2019).timeseries().values.squeeze(), (5, 50, 95))"
   ]
  },
  {
   "cell_type": "code",
   "execution_count": 23,
   "metadata": {},
   "outputs": [
    {
     "data": {
      "text/plain": [
       "array([-0.56274191, -0.27518388,  0.00098477])"
      ]
     },
     "execution_count": 23,
     "metadata": {},
     "output_type": "execute_result"
    }
   ],
   "source": [
    "# ERFaer -0.6 -0.3 -0.0\n",
    "np.percentile(x.filter(variable=\"Effective Radiative Forcing|Aerosols|Direct Effect\", scenario='ssp245', year=np.arange(2005,2015)).timeseries().values.squeeze(), (5, 50, 95))"
   ]
  },
  {
   "cell_type": "code",
   "execution_count": 24,
   "metadata": {},
   "outputs": [
    {
     "data": {
      "text/plain": [
       "array([-1.4144017 , -0.87263228, -0.32916643])"
      ]
     },
     "execution_count": 24,
     "metadata": {},
     "output_type": "execute_result"
    }
   ],
   "source": [
    "# ERFaci -1.7 -1.0 -0.3   - very hard to get\n",
    "np.percentile(x.filter(variable=\"Effective Radiative Forcing|Aerosols|Indirect Effect\", scenario='ssp245', year=np.arange(2005,2015)).timeseries().values.squeeze(), (5, 50, 95))"
   ]
  },
  {
   "cell_type": "code",
   "execution_count": 25,
   "metadata": {},
   "outputs": [
    {
     "data": {
      "text/plain": [
       "array([-0.00223529,  0.09207536,  0.20394915])"
      ]
     },
     "execution_count": 25,
     "metadata": {},
     "output_type": "execute_result"
    }
   ],
   "source": [
    "# BC Snow 0.02 0.08 0.18\n",
    "np.percentile(x.filter(variable=\"Effective Radiative Forcing|Black Carbon on Snow\", scenario='ssp245', year=2019).timeseries().values.squeeze(), (5, 50, 95))"
   ]
  },
  {
   "cell_type": "code",
   "execution_count": 26,
   "metadata": {},
   "outputs": [
    {
     "data": {
      "text/plain": [
       "array([-0.29845918, -0.19920235, -0.09915449])"
      ]
     },
     "execution_count": 26,
     "metadata": {},
     "output_type": "execute_result"
    }
   ],
   "source": [
    "# Land use -0.30 -0.20 -0.10\n",
    "np.percentile(x.filter(variable=\"Effective Radiative Forcing|Land-use Change\", scenario='ssp245', year=2019).timeseries().values.squeeze(), (5, 50, 95))"
   ]
  },
  {
   "cell_type": "code",
   "execution_count": 27,
   "metadata": {},
   "outputs": [
    {
     "data": {
      "text/plain": [
       "[1.0,\n",
       " 0.9145866648321018,\n",
       " 1.2661237500125642,\n",
       " 1.024955991601806,\n",
       " 1.024955991601806,\n",
       " 1.024955991601806,\n",
       " 1.024955991601806,\n",
       " 1.024955991601806,\n",
       " 1.024955991601806,\n",
       " 1.024955991601806,\n",
       " 1.024955991601806,\n",
       " 1.024955991601806,\n",
       " 1.024955991601806,\n",
       " 1.024955991601806,\n",
       " 1.024955991601806,\n",
       " 1.1582002705100407,\n",
       " 1.147950710594023,\n",
       " 1.024955991601806,\n",
       " 1.024955991601806,\n",
       " 1.024955991601806,\n",
       " 1.024955991601806,\n",
       " 1.024955991601806,\n",
       " 1.024955991601806,\n",
       " 1.024955991601806,\n",
       " 1.024955991601806,\n",
       " 1.024955991601806,\n",
       " 1.024955991601806,\n",
       " 1.024955991601806,\n",
       " 1.024955991601806,\n",
       " 1.024955991601806,\n",
       " 1.024955991601806,\n",
       " 1.0,\n",
       " 1.0,\n",
       " 1.4468188139272717,\n",
       " 1.0283056135367221,\n",
       " 1.0,\n",
       " 1.0,\n",
       " 1.0,\n",
       " 1.0,\n",
       " 1.0,\n",
       " 1.0,\n",
       " 0.8853400879116917,\n",
       " 1.43808811525497,\n",
       " 1.0360710019580495,\n",
       " 1.0]"
      ]
     },
     "execution_count": 27,
     "metadata": {},
     "output_type": "execute_result"
    }
   ],
   "source": [
    "config_list[0]['scale']"
   ]
  },
  {
   "cell_type": "code",
   "execution_count": 28,
   "metadata": {},
   "outputs": [
    {
     "data": {
      "text/plain": [
       "array([0.91283067, 1.043585  , 1.08659637, 0.88729184, 1.36324128,\n",
       "       0.0405751 , 1.22167194, 1.4286079 , 1.12050869, 1.12097391,\n",
       "       0.5710494 ])"
      ]
     },
     "execution_count": 28,
     "metadata": {},
     "output_type": "execute_result"
    }
   ],
   "source": [
    "scale_normals = np.load('../data_input_large/fair-samples/scale_normals.npy')\n",
    "scale_normals[838]"
   ]
  }
 ],
 "metadata": {
  "kernelspec": {
   "display_name": "Python 3",
   "language": "python",
   "name": "python3"
  },
  "language_info": {
   "codemirror_mode": {
    "name": "ipython",
    "version": 3
   },
   "file_extension": ".py",
   "mimetype": "text/x-python",
   "name": "python",
   "nbconvert_exporter": "python",
   "pygments_lexer": "ipython3",
   "version": "3.7.9"
  }
 },
 "nbformat": 4,
 "nbformat_minor": 4
}
