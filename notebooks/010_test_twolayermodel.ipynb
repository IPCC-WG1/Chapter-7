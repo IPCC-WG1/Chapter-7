{
 "cells": [
  {
   "cell_type": "markdown",
   "metadata": {},
   "source": [
    "# Check the two layer model is behaving\n",
    "\n",
    "Theme Song: The Courage To Start Again<br>\n",
    "Artist: ...And Stars Collide<br>\n",
    "Album: The Courage To Start Again<br>\n",
    "Released: 2011"
   ]
  },
  {
   "cell_type": "code",
   "execution_count": 1,
   "metadata": {},
   "outputs": [],
   "source": [
    "from ar6.twolayermodel import TwoLayerModel\n",
    "import numpy as np\n",
    "import matplotlib.pyplot as pl\n",
    "from tqdm import tqdm"
   ]
  },
  {
   "cell_type": "code",
   "execution_count": 2,
   "metadata": {},
   "outputs": [
    {
     "name": "stderr",
     "output_type": "stream",
     "text": [
      "100%|██████████| 1000/1000 [00:13<00:00, 76.57it/s]\n"
     ]
    }
   ],
   "source": [
    "for i in tqdm(range(1000)):   # 5x as fast as fair, 10x as fast as openscm-runner\n",
    "    scm = TwoLayerModel(\n",
    "        extforce=4.0*np.ones(270),\n",
    "        exttime=np.arange(270),\n",
    "        tbeg=1750,\n",
    "        tend=2020,\n",
    "        lamg=4.0/3.0,\n",
    "        t2x=None,\n",
    "        eff=1.29,\n",
    "        cmix=6,\n",
    "        cdeep=75,\n",
    "        gamma_2l=0.7,\n",
    "    \n",
    "        outtime=np.arange(1750.5,2020),\n",
    "        dt=1\n",
    "    )\n",
    "    out = scm.run()"
   ]
  },
  {
   "cell_type": "code",
   "execution_count": 3,
   "metadata": {},
   "outputs": [
    {
     "data": {
      "text/plain": [
       "[<matplotlib.lines.Line2D at 0x7fda8028c3d0>]"
      ]
     },
     "execution_count": 3,
     "metadata": {},
     "output_type": "execute_result"
    },
    {
     "data": {
      "image/png": "[encoded data removed]",
      "text/plain": [
       "<Figure size 432x288 with 1 Axes>"
      ]
     },
     "metadata": {
      "needs_background": "light"
     },
     "output_type": "display_data"
    }
   ],
   "source": [
    "pl.plot(out.time, out.tg)"
   ]
  },
  {
   "cell_type": "code",
   "execution_count": null,
   "metadata": {},
   "outputs": [],
   "source": []
  }
 ],
 "metadata": {
  "kernelspec": {
   "display_name": "Python 3",
   "language": "python",
   "name": "python3"
  },
  "language_info": {
   "codemirror_mode": {
    "name": "ipython",
    "version": 3
   },
   "file_extension": ".py",
   "mimetype": "text/x-python",
   "name": "python",
   "nbconvert_exporter": "python",
   "pygments_lexer": "ipython3",
   "version": "3.7.9"
  }
 },
 "nbformat": 4,
 "nbformat_minor": 4
}
