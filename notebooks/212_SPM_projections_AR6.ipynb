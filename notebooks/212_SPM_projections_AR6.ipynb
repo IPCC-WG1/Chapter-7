{
 "cells": [
  {
   "cell_type": "markdown",
   "metadata": {},
   "source": [
    "# Emissions-driven GSAT attributions\n",
    "\n",
    "Theme Song: Electric Sunrise<br>\n",
    "Artist: Plini<br>\n",
    "Album: Handmade Cities<br>\n",
    "Released: 2016\n",
    "\n",
    "- Run two layer model with AR6 forcing, but using constrained-correlated parameter setups\n",
    "- unlike 210, we now scale each individual forcing by its emission-driven estimate from Sara\n",
    "- Use constrained FaIR setup from 160"
   ]
  },
  {
   "cell_type": "code",
   "execution_count": 1,
   "metadata": {},
   "outputs": [],
   "source": [
    "import fair\n",
    "import json\n",
    "import sys\n",
    "import os\n",
    "import random\n",
    "import numpy as np\n",
    "import scipy.stats as st       # v1.4+ needed\n",
    "import matplotlib.pyplot as pl\n",
    "import pandas as pd\n",
    "from multiprocessing import Pool\n",
    "\n",
    "from ar6.utils.h5 import *\n",
    "from ar6.forcing.aerosol import aerocom_n, ghan\n",
    "from ar6.twolayermodel import TwoLayerModel\n",
    "from ar6.constants import NINETY_TO_ONESIGMA\n",
    "\n",
    "from netCDF4 import Dataset\n",
    "from tqdm import tqdm_notebook\n",
    "from scipy.interpolate import interp1d\n",
    "\n",
    "from tqdm.notebook import tqdm"
   ]
  },
  {
   "cell_type": "markdown",
   "metadata": {},
   "source": [
    "## Ensemble generation\n",
    "\n",
    "We want to ensure reproducible results that don't change when this script is re-run. Grab list of pre-generated random seeds."
   ]
  },
  {
   "cell_type": "code",
   "execution_count": 2,
   "metadata": {},
   "outputs": [],
   "source": [
    "with open('../data_input/random_seeds.json', 'r') as filehandle:\n",
    "    SEEDS = json.load(filehandle)"
   ]
  },
  {
   "cell_type": "code",
   "execution_count": 3,
   "metadata": {},
   "outputs": [
    {
     "data": {
      "text/html": [
       "<div>\n",
       "<style scoped>\n",
       "    .dataframe tbody tr th:only-of-type {\n",
       "        vertical-align: middle;\n",
       "    }\n",
       "\n",
       "    .dataframe tbody tr th {\n",
       "        vertical-align: top;\n",
       "    }\n",
       "\n",
       "    .dataframe thead th {\n",
       "        text-align: right;\n",
       "    }\n",
       "</style>\n",
       "<table border=\"1\" class=\"dataframe\">\n",
       "  <thead>\n",
       "    <tr style=\"text-align: right;\">\n",
       "      <th></th>\n",
       "      <th>BC</th>\n",
       "      <th>CO</th>\n",
       "      <th>NH3</th>\n",
       "      <th>NOx</th>\n",
       "      <th>OC</th>\n",
       "      <th>SO2</th>\n",
       "      <th>VOC</th>\n",
       "    </tr>\n",
       "    <tr>\n",
       "      <th>year</th>\n",
       "      <th></th>\n",
       "      <th></th>\n",
       "      <th></th>\n",
       "      <th></th>\n",
       "      <th></th>\n",
       "      <th></th>\n",
       "      <th></th>\n",
       "    </tr>\n",
       "  </thead>\n",
       "  <tbody>\n",
       "    <tr>\n",
       "      <th>1750</th>\n",
       "      <td>2.097336</td>\n",
       "      <td>348.420476</td>\n",
       "      <td>6.683996</td>\n",
       "      <td>12.730074</td>\n",
       "      <td>15.447054</td>\n",
       "      <td>2.312083</td>\n",
       "      <td>60.599376</td>\n",
       "    </tr>\n",
       "    <tr>\n",
       "      <th>1751</th>\n",
       "      <td>2.072491</td>\n",
       "      <td>343.819148</td>\n",
       "      <td>6.615537</td>\n",
       "      <td>12.587160</td>\n",
       "      <td>15.188102</td>\n",
       "      <td>2.281498</td>\n",
       "      <td>59.667759</td>\n",
       "    </tr>\n",
       "    <tr>\n",
       "      <th>1752</th>\n",
       "      <td>2.063877</td>\n",
       "      <td>341.701465</td>\n",
       "      <td>6.573965</td>\n",
       "      <td>12.589121</td>\n",
       "      <td>15.033861</td>\n",
       "      <td>2.270899</td>\n",
       "      <td>59.213713</td>\n",
       "    </tr>\n",
       "    <tr>\n",
       "      <th>1753</th>\n",
       "      <td>2.071515</td>\n",
       "      <td>343.567551</td>\n",
       "      <td>6.635011</td>\n",
       "      <td>12.534665</td>\n",
       "      <td>15.181930</td>\n",
       "      <td>2.284976</td>\n",
       "      <td>59.610148</td>\n",
       "    </tr>\n",
       "    <tr>\n",
       "      <th>1754</th>\n",
       "      <td>2.098914</td>\n",
       "      <td>349.707369</td>\n",
       "      <td>6.767852</td>\n",
       "      <td>12.631676</td>\n",
       "      <td>15.558158</td>\n",
       "      <td>2.336934</td>\n",
       "      <td>60.855827</td>\n",
       "    </tr>\n",
       "    <tr>\n",
       "      <th>...</th>\n",
       "      <td>...</td>\n",
       "      <td>...</td>\n",
       "      <td>...</td>\n",
       "      <td>...</td>\n",
       "      <td>...</td>\n",
       "      <td>...</td>\n",
       "      <td>...</td>\n",
       "    </tr>\n",
       "    <tr>\n",
       "      <th>2015</th>\n",
       "      <td>7.992567</td>\n",
       "      <td>894.144647</td>\n",
       "      <td>62.462922</td>\n",
       "      <td>138.718989</td>\n",
       "      <td>30.046634</td>\n",
       "      <td>91.076152</td>\n",
       "      <td>213.006570</td>\n",
       "    </tr>\n",
       "    <tr>\n",
       "      <th>2016</th>\n",
       "      <td>7.918346</td>\n",
       "      <td>874.700320</td>\n",
       "      <td>63.054904</td>\n",
       "      <td>137.128483</td>\n",
       "      <td>30.086767</td>\n",
       "      <td>87.215738</td>\n",
       "      <td>211.778440</td>\n",
       "    </tr>\n",
       "    <tr>\n",
       "      <th>2017</th>\n",
       "      <td>7.886938</td>\n",
       "      <td>867.879243</td>\n",
       "      <td>63.739495</td>\n",
       "      <td>137.159668</td>\n",
       "      <td>30.057079</td>\n",
       "      <td>84.269791</td>\n",
       "      <td>211.717165</td>\n",
       "    </tr>\n",
       "    <tr>\n",
       "      <th>2018</th>\n",
       "      <td>7.841661</td>\n",
       "      <td>861.556227</td>\n",
       "      <td>64.298351</td>\n",
       "      <td>136.397333</td>\n",
       "      <td>29.920370</td>\n",
       "      <td>84.532481</td>\n",
       "      <td>210.331432</td>\n",
       "    </tr>\n",
       "    <tr>\n",
       "      <th>2019</th>\n",
       "      <td>7.785028</td>\n",
       "      <td>855.030049</td>\n",
       "      <td>64.863667</td>\n",
       "      <td>135.346810</td>\n",
       "      <td>29.751818</td>\n",
       "      <td>83.707858</td>\n",
       "      <td>209.077100</td>\n",
       "    </tr>\n",
       "  </tbody>\n",
       "</table>\n",
       "<p>270 rows × 7 columns</p>\n",
       "</div>"
      ],
      "text/plain": [
       "            BC          CO        NH3         NOx         OC        SO2  \\\n",
       "year                                                                      \n",
       "1750  2.097336  348.420476   6.683996   12.730074  15.447054   2.312083   \n",
       "1751  2.072491  343.819148   6.615537   12.587160  15.188102   2.281498   \n",
       "1752  2.063877  341.701465   6.573965   12.589121  15.033861   2.270899   \n",
       "1753  2.071515  343.567551   6.635011   12.534665  15.181930   2.284976   \n",
       "1754  2.098914  349.707369   6.767852   12.631676  15.558158   2.336934   \n",
       "...        ...         ...        ...         ...        ...        ...   \n",
       "2015  7.992567  894.144647  62.462922  138.718989  30.046634  91.076152   \n",
       "2016  7.918346  874.700320  63.054904  137.128483  30.086767  87.215738   \n",
       "2017  7.886938  867.879243  63.739495  137.159668  30.057079  84.269791   \n",
       "2018  7.841661  861.556227  64.298351  136.397333  29.920370  84.532481   \n",
       "2019  7.785028  855.030049  64.863667  135.346810  29.751818  83.707858   \n",
       "\n",
       "             VOC  \n",
       "year              \n",
       "1750   60.599376  \n",
       "1751   59.667759  \n",
       "1752   59.213713  \n",
       "1753   59.610148  \n",
       "1754   60.855827  \n",
       "...          ...  \n",
       "2015  213.006570  \n",
       "2016  211.778440  \n",
       "2017  211.717165  \n",
       "2018  210.331432  \n",
       "2019  209.077100  \n",
       "\n",
       "[270 rows x 7 columns]"
      ]
     },
     "execution_count": 3,
     "metadata": {},
     "output_type": "execute_result"
    }
   ],
   "source": [
    "emissions = pd.read_csv('../data_input_large/rcmip-emissions-annual-means-v5-1-0.csv')\n",
    "df_emissions = pd.concat([emissions.loc[(\n",
    "        (emissions.Variable=='Emissions|BC')|\n",
    "        (emissions.Variable=='Emissions|OC')|\n",
    "        (emissions.Variable=='Emissions|Sulfur')|\n",
    "        (emissions.Variable=='Emissions|NOx')|\n",
    "        (emissions.Variable=='Emissions|NH3')|\n",
    "        (emissions.Variable=='Emissions|VOC')|\n",
    "        (emissions.Variable=='Emissions|CO')\n",
    "    ) & (emissions.Scenario=='ssp245') & (emissions.Region=='World'), 'Variable'], emissions.loc[(\n",
    "        (emissions.Variable=='Emissions|BC')|\n",
    "        (emissions.Variable=='Emissions|OC')|\n",
    "        (emissions.Variable=='Emissions|Sulfur')|\n",
    "        (emissions.Variable=='Emissions|NOx')|\n",
    "        (emissions.Variable=='Emissions|NH3')|\n",
    "        (emissions.Variable=='Emissions|VOC')|\n",
    "        (emissions.Variable=='Emissions|CO')\n",
    "    ) & (emissions.Scenario=='ssp245') & (emissions.Region=='World'), '1750':'2100']], axis=1)#.interpolate(axis=1).T\n",
    "df_emissions.set_index('Variable', inplace=True)\n",
    "df_emissions = df_emissions.interpolate(axis=1).T\n",
    "df_emissions.rename(\n",
    "    columns={\n",
    "        'Emissions|BC': 'BC',\n",
    "        'Emissions|OC': 'OC',\n",
    "        'Emissions|Sulfur': 'SO2',\n",
    "        'Emissions|NOx': 'NOx',\n",
    "        'Emissions|NH3': 'NH3',\n",
    "        'Emissions|VOC': 'VOC',\n",
    "        'Emissions|CO': 'CO'\n",
    "    }, inplace=True\n",
    ")\n",
    "# only keep cols we want\n",
    "emissions = df_emissions[['SO2', 'BC', 'OC', 'NH3', 'NOx', 'VOC', 'CO']]\n",
    "emissions.index = emissions.index.astype('int')\n",
    "emissions.index.name='year'\n",
    "emissions.columns.name=None\n",
    "\n",
    "emissions_ceds_update = emissions.copy()\n",
    "\n",
    "emissions_old = pd.read_csv('../data_input_large/rcmip-emissions-annual-means-v5-1-0.csv')\n",
    "df_emissions = pd.concat([emissions_old.loc[(\n",
    "        (emissions_old.Variable=='Emissions|BC|MAGICC Fossil and Industrial')|\n",
    "        (emissions_old.Variable=='Emissions|OC|MAGICC Fossil and Industrial')|\n",
    "        (emissions_old.Variable=='Emissions|Sulfur|MAGICC Fossil and Industrial')|\n",
    "        (emissions_old.Variable=='Emissions|NOx|MAGICC Fossil and Industrial')|\n",
    "        (emissions_old.Variable=='Emissions|NH3|MAGICC Fossil and Industrial')|\n",
    "        (emissions_old.Variable=='Emissions|VOC|MAGICC Fossil and Industrial')|\n",
    "        (emissions_old.Variable=='Emissions|CO|MAGICC Fossil and Industrial')|\n",
    "        (emissions_old.Variable=='Emissions|BC|MAGICC AFOLU|Agriculture')|\n",
    "        (emissions_old.Variable=='Emissions|OC|MAGICC AFOLU|Agriculture')|\n",
    "        (emissions_old.Variable=='Emissions|Sulfur|MAGICC AFOLU|Agriculture')|\n",
    "        (emissions_old.Variable=='Emissions|NOx|MAGICC AFOLU|Agriculture')|\n",
    "        (emissions_old.Variable=='Emissions|NH3|MAGICC AFOLU|Agriculture')|\n",
    "        (emissions_old.Variable=='Emissions|VOC|MAGICC AFOLU|Agriculture')|\n",
    "        (emissions_old.Variable=='Emissions|CO|MAGICC AFOLU|Agriculture')\n",
    "    ) & (emissions_old.Scenario=='ssp245') & (emissions_old.Region=='World'), 'Variable'], emissions_old.loc[(\n",
    "        (emissions_old.Variable=='Emissions|BC|MAGICC Fossil and Industrial')|\n",
    "        (emissions_old.Variable=='Emissions|OC|MAGICC Fossil and Industrial')|\n",
    "        (emissions_old.Variable=='Emissions|Sulfur|MAGICC Fossil and Industrial')|\n",
    "        (emissions_old.Variable=='Emissions|NOx|MAGICC Fossil and Industrial')|\n",
    "        (emissions_old.Variable=='Emissions|NH3|MAGICC Fossil and Industrial')|\n",
    "        (emissions_old.Variable=='Emissions|VOC|MAGICC Fossil and Industrial')|\n",
    "        (emissions_old.Variable=='Emissions|CO|MAGICC Fossil and Industrial')|\n",
    "        (emissions_old.Variable=='Emissions|BC|MAGICC AFOLU|Agriculture')|\n",
    "        (emissions_old.Variable=='Emissions|OC|MAGICC AFOLU|Agriculture')|\n",
    "        (emissions_old.Variable=='Emissions|Sulfur|MAGICC AFOLU|Agriculture')|\n",
    "        (emissions_old.Variable=='Emissions|NOx|MAGICC AFOLU|Agriculture')|\n",
    "        (emissions_old.Variable=='Emissions|NH3|MAGICC AFOLU|Agriculture')|\n",
    "        (emissions_old.Variable=='Emissions|VOC|MAGICC AFOLU|Agriculture')|\n",
    "        (emissions_old.Variable=='Emissions|CO|MAGICC AFOLU|Agriculture')\n",
    "    ) & (emissions_old.Scenario=='ssp245') & (emissions_old.Region=='World'), '1750':'2100']], axis=1)#.interpolate(axis=1).T\n",
    "df_emissions.set_index('Variable', inplace=True)\n",
    "df_emissions = df_emissions.interpolate(axis=1).T\n",
    "for species in ['BC', 'OC', 'Sulfur', 'NOx', 'NH3', 'VOC', 'CO']:\n",
    "    df_emissions[species] = df_emissions['Emissions|{}|MAGICC Fossil and Industrial'.format(species)] + df_emissions['Emissions|{}|MAGICC AFOLU|Agriculture'.format(species)]\n",
    "df_emissions.rename(columns = {'Sulfur': 'SO2'}, inplace=True)\n",
    "df_emissions.drop(columns=[\n",
    "        'Emissions|BC|MAGICC Fossil and Industrial',\n",
    "        'Emissions|OC|MAGICC Fossil and Industrial',\n",
    "        'Emissions|Sulfur|MAGICC Fossil and Industrial',\n",
    "        'Emissions|NOx|MAGICC Fossil and Industrial',\n",
    "        'Emissions|NH3|MAGICC Fossil and Industrial',\n",
    "        'Emissions|VOC|MAGICC Fossil and Industrial',\n",
    "        'Emissions|CO|MAGICC Fossil and Industrial',\n",
    "        'Emissions|BC|MAGICC AFOLU|Agriculture',\n",
    "        'Emissions|OC|MAGICC AFOLU|Agriculture',\n",
    "        'Emissions|Sulfur|MAGICC AFOLU|Agriculture',\n",
    "        'Emissions|NOx|MAGICC AFOLU|Agriculture',\n",
    "        'Emissions|NH3|MAGICC AFOLU|Agriculture',\n",
    "        'Emissions|VOC|MAGICC AFOLU|Agriculture',\n",
    "        'Emissions|CO|MAGICC AFOLU|Agriculture',\n",
    "    ],\n",
    "    inplace=True\n",
    ")\n",
    "df_emissions.index = emissions.index.astype('int')\n",
    "df_emissions.index.name='year'\n",
    "df_emissions.columns.name=None\n",
    "\n",
    "global_total = {}\n",
    "for species in ['BC', 'OC', 'SO2', 'NH3', 'NOx', 'NMVOC', 'CO']:\n",
    "    df = pd.read_csv('../data_input_large/CEDS_v_2020_09_11_emissions/{}_global_CEDS_emissions_by_sector_2020_09_11.csv'.format(species))\n",
    "    global_total[species] = df.sum(axis=0).values[3:].astype(float) / 1000 \n",
    "    #unit = df.units[0]\n",
    "    #print(unit)\n",
    "global_total['VOC'] = global_total.pop('NMVOC')\n",
    "new_ceds = pd.DataFrame(global_total)\n",
    "new_ceds.index = np.arange(1750,2020)\n",
    "new_ceds.index = new_ceds.index.astype('int')\n",
    "new_ceds.index.name='year'\n",
    "new_ceds.columns.name=None\n",
    "emissions_ceds_update = new_ceds.loc[1750:2020] + emissions - df_emissions\n",
    "emissions_ceds_update.drop(index=range(2020,2101), inplace=True)\n",
    "emissions_ceds_update"
   ]
  },
  {
   "cell_type": "markdown",
   "metadata": {},
   "source": [
    "## Climate model parameters"
   ]
  },
  {
   "cell_type": "markdown",
   "metadata": {},
   "source": [
    "### load unconstrained"
   ]
  },
  {
   "cell_type": "code",
   "execution_count": 4,
   "metadata": {},
   "outputs": [],
   "source": [
    "# ozone\n",
    "ozone_feedback = np.load('../data_input_large/fair-samples/ozone_feedback_unconstrained.npy')\n",
    "beta_ch4 = np.load('../data_input_large/fair-samples/beta_ch4_unconstrained.npy')\n",
    "beta_n2o = np.load('../data_input_large/fair-samples/beta_n2o_unconstrained.npy')\n",
    "beta_ods = np.load('../data_input_large/fair-samples/beta_ods_unconstrained.npy')\n",
    "beta_co = np.load('../data_input_large/fair-samples/beta_co_unconstrained.npy')\n",
    "beta_voc = np.load('../data_input_large/fair-samples/beta_voc_unconstrained.npy')\n",
    "beta_nox = np.load('../data_input_large/fair-samples/beta_nox_unconstrained.npy')\n",
    "\n",
    "# carbon cycle\n",
    "r0 = np.load('../data_input_large/fair-samples/r0_unconstrained.npy')\n",
    "rC = np.load('../data_input_large/fair-samples/rC_unconstrained.npy')\n",
    "rT = np.load('../data_input_large/fair-samples/rT_unconstrained.npy')\n",
    "pre_ind_co2 = np.load('../data_input_large/fair-samples/pre_ind_co2_unconstrained.npy')\n",
    "\n",
    "# aerosol\n",
    "beta_so2 = np.load('../data_input_large/fair-samples/beta_so2_unconstrained.npy')\n",
    "beta_bc = np.load('../data_input_large/fair-samples/beta_bc_unconstrained.npy')\n",
    "beta_oc = np.load('../data_input_large/fair-samples/beta_oc_unconstrained.npy')\n",
    "beta_nh3 = np.load('../data_input_large/fair-samples/beta_nh3_unconstrained.npy')\n",
    "beta = np.load('../data_input_large/fair-samples/beta_unconstrained.npy')\n",
    "aci_coeffs = np.load('../data_input_large/fair-samples/aci_coeffs.npy')\n",
    "\n",
    "# forcing\n",
    "scale_normals = np.load('../data_input_large/fair-samples/scale_normals.npy')\n",
    "trend_solar = np.load('../data_input_large/fair-samples/scale_trend_solar.npy')\n",
    "\n",
    "# climate response\n",
    "geoff_sample_df = pd.read_csv('../data_output_large/geoff_sample.csv', index_col=0)\n",
    "f2x = np.load('../data_input_large/fair-samples/f2x_unconstrained.npy')\n",
    "ecs = np.load('../data_input_large/fair-samples/ecs_unconstrained.npy')\n",
    "tcr = np.load('../data_input_large/fair-samples/tcr_unconstrained.npy')\n",
    "\n",
    "# accepted ensemble\n",
    "accept_inds = np.loadtxt('../data_output_large/fair-samples/accept_inds.csv', dtype=int)"
   ]
  },
  {
   "cell_type": "markdown",
   "metadata": {},
   "source": [
    "### apply the constraint and overwrite unconstrained"
   ]
  },
  {
   "cell_type": "code",
   "execution_count": 5,
   "metadata": {},
   "outputs": [
    {
     "data": {
      "text/plain": [
       "array([   156,    358,    441, ..., 998289, 998908, 999021])"
      ]
     },
     "execution_count": 5,
     "metadata": {},
     "output_type": "execute_result"
    }
   ],
   "source": [
    "accept_inds"
   ]
  },
  {
   "cell_type": "code",
   "execution_count": 6,
   "metadata": {},
   "outputs": [
    {
     "data": {
      "text/html": [
       "<div>\n",
       "<style scoped>\n",
       "    .dataframe tbody tr th:only-of-type {\n",
       "        vertical-align: middle;\n",
       "    }\n",
       "\n",
       "    .dataframe tbody tr th {\n",
       "        vertical-align: top;\n",
       "    }\n",
       "\n",
       "    .dataframe thead th {\n",
       "        text-align: right;\n",
       "    }\n",
       "</style>\n",
       "<table border=\"1\" class=\"dataframe\">\n",
       "  <thead>\n",
       "    <tr style=\"text-align: right;\">\n",
       "      <th></th>\n",
       "      <th>q4x</th>\n",
       "      <th>lamg</th>\n",
       "      <th>cmix</th>\n",
       "      <th>cdeep</th>\n",
       "      <th>gamma_2l</th>\n",
       "      <th>eff</th>\n",
       "    </tr>\n",
       "  </thead>\n",
       "  <tbody>\n",
       "    <tr>\n",
       "      <th>156</th>\n",
       "      <td>6.419499</td>\n",
       "      <td>-1.714643</td>\n",
       "      <td>8.810878</td>\n",
       "      <td>448.213437</td>\n",
       "      <td>0.440273</td>\n",
       "      <td>0.347264</td>\n",
       "    </tr>\n",
       "    <tr>\n",
       "      <th>358</th>\n",
       "      <td>8.646745</td>\n",
       "      <td>-1.817834</td>\n",
       "      <td>9.691545</td>\n",
       "      <td>103.494497</td>\n",
       "      <td>0.772469</td>\n",
       "      <td>1.585394</td>\n",
       "    </tr>\n",
       "    <tr>\n",
       "      <th>441</th>\n",
       "      <td>8.316302</td>\n",
       "      <td>-2.085561</td>\n",
       "      <td>5.696549</td>\n",
       "      <td>180.474488</td>\n",
       "      <td>0.821490</td>\n",
       "      <td>1.251474</td>\n",
       "    </tr>\n",
       "    <tr>\n",
       "      <th>636</th>\n",
       "      <td>7.889668</td>\n",
       "      <td>-0.796998</td>\n",
       "      <td>7.735094</td>\n",
       "      <td>89.445554</td>\n",
       "      <td>0.852359</td>\n",
       "      <td>1.535440</td>\n",
       "    </tr>\n",
       "    <tr>\n",
       "      <th>914</th>\n",
       "      <td>7.034846</td>\n",
       "      <td>-1.315331</td>\n",
       "      <td>8.992672</td>\n",
       "      <td>168.484833</td>\n",
       "      <td>0.709503</td>\n",
       "      <td>1.100228</td>\n",
       "    </tr>\n",
       "    <tr>\n",
       "      <th>...</th>\n",
       "      <td>...</td>\n",
       "      <td>...</td>\n",
       "      <td>...</td>\n",
       "      <td>...</td>\n",
       "      <td>...</td>\n",
       "      <td>...</td>\n",
       "    </tr>\n",
       "    <tr>\n",
       "      <th>996792</th>\n",
       "      <td>7.585270</td>\n",
       "      <td>-1.281183</td>\n",
       "      <td>8.745431</td>\n",
       "      <td>62.417455</td>\n",
       "      <td>0.755601</td>\n",
       "      <td>1.668154</td>\n",
       "    </tr>\n",
       "    <tr>\n",
       "      <th>996846</th>\n",
       "      <td>7.574501</td>\n",
       "      <td>-1.881943</td>\n",
       "      <td>9.089493</td>\n",
       "      <td>452.306881</td>\n",
       "      <td>0.565309</td>\n",
       "      <td>0.532951</td>\n",
       "    </tr>\n",
       "    <tr>\n",
       "      <th>998289</th>\n",
       "      <td>7.528928</td>\n",
       "      <td>-1.436389</td>\n",
       "      <td>7.878012</td>\n",
       "      <td>109.737561</td>\n",
       "      <td>0.522615</td>\n",
       "      <td>1.350649</td>\n",
       "    </tr>\n",
       "    <tr>\n",
       "      <th>998908</th>\n",
       "      <td>8.727801</td>\n",
       "      <td>-1.409111</td>\n",
       "      <td>9.221984</td>\n",
       "      <td>128.496448</td>\n",
       "      <td>0.521846</td>\n",
       "      <td>1.581632</td>\n",
       "    </tr>\n",
       "    <tr>\n",
       "      <th>999021</th>\n",
       "      <td>9.073809</td>\n",
       "      <td>-1.471653</td>\n",
       "      <td>9.764826</td>\n",
       "      <td>47.657547</td>\n",
       "      <td>0.499383</td>\n",
       "      <td>0.793753</td>\n",
       "    </tr>\n",
       "  </tbody>\n",
       "</table>\n",
       "<p>2237 rows × 6 columns</p>\n",
       "</div>"
      ],
      "text/plain": [
       "             q4x      lamg      cmix       cdeep  gamma_2l       eff\n",
       "156     6.419499 -1.714643  8.810878  448.213437  0.440273  0.347264\n",
       "358     8.646745 -1.817834  9.691545  103.494497  0.772469  1.585394\n",
       "441     8.316302 -2.085561  5.696549  180.474488  0.821490  1.251474\n",
       "636     7.889668 -0.796998  7.735094   89.445554  0.852359  1.535440\n",
       "914     7.034846 -1.315331  8.992672  168.484833  0.709503  1.100228\n",
       "...          ...       ...       ...         ...       ...       ...\n",
       "996792  7.585270 -1.281183  8.745431   62.417455  0.755601  1.668154\n",
       "996846  7.574501 -1.881943  9.089493  452.306881  0.565309  0.532951\n",
       "998289  7.528928 -1.436389  7.878012  109.737561  0.522615  1.350649\n",
       "998908  8.727801 -1.409111  9.221984  128.496448  0.521846  1.581632\n",
       "999021  9.073809 -1.471653  9.764826   47.657547  0.499383  0.793753\n",
       "\n",
       "[2237 rows x 6 columns]"
      ]
     },
     "execution_count": 6,
     "metadata": {},
     "output_type": "execute_result"
    }
   ],
   "source": [
    "geoff_sample_df.loc[accept_inds]"
   ]
  },
  {
   "cell_type": "code",
   "execution_count": 7,
   "metadata": {},
   "outputs": [],
   "source": [
    "# ozone\n",
    "ozone_feedback = ozone_feedback[accept_inds]\n",
    "beta_ch4 = beta_ch4[accept_inds]\n",
    "beta_n2o = beta_n2o[accept_inds]\n",
    "beta_ods = beta_ods[accept_inds]\n",
    "beta_co = beta_co[accept_inds]\n",
    "beta_voc = beta_voc[accept_inds]\n",
    "beta_nox = beta_nox[accept_inds]\n",
    "\n",
    "# carbon cycle\n",
    "pre_ind_co2 = pre_ind_co2[accept_inds]\n",
    "r0 = r0[accept_inds]\n",
    "rC = rC[accept_inds]\n",
    "rT = rT[accept_inds]\n",
    "\n",
    "# aerosol\n",
    "beta_so2 = beta_so2[accept_inds]\n",
    "beta_bc = beta_bc[accept_inds]\n",
    "beta_oc = beta_oc[accept_inds]\n",
    "beta_nh3 = beta_nh3[accept_inds]\n",
    "beta = beta[accept_inds]\n",
    "aci_coeffs = aci_coeffs[accept_inds]\n",
    "\n",
    "# forcing\n",
    "scale_normals = scale_normals[accept_inds]\n",
    "trend_solar = trend_solar[accept_inds]\n",
    "\n",
    "# climate response\n",
    "geoff_sample_df = geoff_sample_df.loc[accept_inds]\n",
    "f2x = f2x[accept_inds]\n",
    "ecs = ecs[accept_inds]\n",
    "tcr = tcr[accept_inds]"
   ]
  },
  {
   "cell_type": "code",
   "execution_count": 8,
   "metadata": {},
   "outputs": [],
   "source": [
    "f2x_median = np.median(f2x)\n",
    "ecs_median = np.median(ecs)\n",
    "tcr_median = np.median(tcr)"
   ]
  },
  {
   "cell_type": "code",
   "execution_count": 9,
   "metadata": {},
   "outputs": [
    {
     "data": {
      "text/plain": [
       "(array([121., 574., 807., 474., 185.,  37.,  10.,  16.,  10.,   3.]),\n",
       " array([6.80758831e-04, 3.38060015e-01, 6.75439272e-01, 1.01281853e+00,\n",
       "        1.35019778e+00, 1.68757704e+00, 2.02495630e+00, 2.36233555e+00,\n",
       "        2.69971481e+00, 3.03709407e+00, 3.37447332e+00]),\n",
       " <a list of 10 Patch objects>)"
      ]
     },
     "execution_count": 9,
     "metadata": {},
     "output_type": "execute_result"
    },
    {
     "data": {
      "image/png": "[encoded data removed]",
      "text/plain": [
       "<Figure size 432x288 with 1 Axes>"
      ]
     },
     "metadata": {
      "needs_background": "light"
     },
     "output_type": "display_data"
    }
   ],
   "source": [
    "kappa = f2x/tcr - f2x/ecs\n",
    "# kappa = efficacy * eta\n",
    "pl.hist(kappa)"
   ]
  },
  {
   "cell_type": "code",
   "execution_count": 10,
   "metadata": {},
   "outputs": [],
   "source": [
    "lamg = geoff_sample_df['lamg'].values\n",
    "eff = geoff_sample_df['eff'].values\n",
    "gamma_2l = geoff_sample_df['gamma_2l'].values\n",
    "cdeep = geoff_sample_df['cdeep'].values\n",
    "cmix = geoff_sample_df['cmix'].values"
   ]
  },
  {
   "cell_type": "markdown",
   "metadata": {},
   "source": [
    "## Forcing uncertainties - ensure consistency with 040"
   ]
  },
  {
   "cell_type": "markdown",
   "metadata": {},
   "source": [
    "### Aerosol emissions"
   ]
  },
  {
   "cell_type": "code",
   "execution_count": 11,
   "metadata": {},
   "outputs": [
    {
     "data": {
      "application/vnd.jupyter.widget-view+json": {
       "model_id": "ed28fa34b60d4d6bbaca296f8b3ce922",
       "version_major": 2,
       "version_minor": 0
      },
      "text/plain": [
       "  0%|          | 0/2237 [00:00<?, ?it/s]"
      ]
     },
     "metadata": {},
     "output_type": "display_data"
    }
   ],
   "source": [
    "ERFari = np.zeros((270, len(accept_inds)))\n",
    "ERFaci = np.zeros((270, len(accept_inds)))\n",
    "\n",
    "so2 = emissions_ceds_update.loc[:,'SO2']\n",
    "bc = emissions_ceds_update.loc[:,'BC']\n",
    "oc = emissions_ceds_update.loc[:,'OC']\n",
    "nh3 = emissions_ceds_update.loc[:,'NH3']\n",
    "\n",
    "for i in tqdm(range(len(accept_inds))):\n",
    "    ERFari[:, i] = (\n",
    "        (emissions_ceds_update.loc[:,'SO2']-emissions_ceds_update.loc[1750,'SO2']) * beta_so2[i] * 32/64 +\n",
    "        (emissions_ceds_update.loc[:,'BC']-emissions_ceds_update.loc[1750,'BC']) * beta_bc[i] +\n",
    "        (emissions_ceds_update.loc[:,'OC']-emissions_ceds_update.loc[1750,'OC']) * beta_oc[i] +\n",
    "        (emissions_ceds_update.loc[:,'NH3']-emissions_ceds_update.loc[1750,'NH3']) * beta_nh3[i]\n",
    "    )\n",
    "    \n",
    "    ERFaci[:,i] = ghan([so2 * 32/64, bc+oc], beta[i], aci_coeffs[i,0], aci_coeffs[i,1]) - ghan([so2[1750] * 32/64, bc[1750]+oc[1750]], beta[i], aci_coeffs[i,0], aci_coeffs[i,1])"
   ]
  },
  {
   "cell_type": "code",
   "execution_count": 12,
   "metadata": {},
   "outputs": [
    {
     "data": {
      "image/png": "[encoded data removed]",
      "text/plain": [
       "<Figure size 432x288 with 1 Axes>"
      ]
     },
     "metadata": {
      "needs_background": "light"
     },
     "output_type": "display_data"
    }
   ],
   "source": [
    "pl.fill_between(np.arange(1750, 2020), np.percentile(ERFari, 5, axis=1), np.percentile(ERFari, 95, axis=1), color='k', alpha=0.5)\n",
    "pl.plot(np.arange(1750,2020), np.percentile(ERFari, 50, axis=1), color='k')\n",
    "pl.grid()"
   ]
  },
  {
   "cell_type": "code",
   "execution_count": 13,
   "metadata": {},
   "outputs": [
    {
     "data": {
      "image/png": "[encoded data removed]",
      "text/plain": [
       "<Figure size 432x288 with 1 Axes>"
      ]
     },
     "metadata": {
      "needs_background": "light"
     },
     "output_type": "display_data"
    }
   ],
   "source": [
    "pl.fill_between(np.arange(1750, 2020), np.percentile(ERFaci, 5, axis=1), np.percentile(ERFaci, 95, axis=1), color='k', alpha=0.5)\n",
    "pl.plot(np.arange(1750,2020), np.percentile(ERFaci, 50, axis=1), color='k')\n",
    "pl.grid()"
   ]
  },
  {
   "cell_type": "code",
   "execution_count": 14,
   "metadata": {},
   "outputs": [
    {
     "data": {
      "image/png": "[encoded data removed]",
      "text/plain": [
       "<Figure size 432x288 with 1 Axes>"
      ]
     },
     "metadata": {
      "needs_background": "light"
     },
     "output_type": "display_data"
    }
   ],
   "source": [
    "pl.fill_between(np.arange(1750, 2020), np.percentile(ERFari+ERFaci, 5, axis=1), np.percentile(ERFari+ERFaci, 95, axis=1), color='k', alpha=0.5)\n",
    "pl.plot(np.arange(1750,2020), np.percentile(ERFari+ERFaci, 50, axis=1), color='k')\n",
    "pl.grid()"
   ]
  },
  {
   "cell_type": "markdown",
   "metadata": {},
   "source": [
    "## get Sara's numbers"
   ]
  },
  {
   "cell_type": "code",
   "execution_count": 15,
   "metadata": {},
   "outputs": [
    {
     "data": {
      "text/html": [
       "<div>\n",
       "<style scoped>\n",
       "    .dataframe tbody tr th:only-of-type {\n",
       "        vertical-align: middle;\n",
       "    }\n",
       "\n",
       "    .dataframe tbody tr th {\n",
       "        vertical-align: top;\n",
       "    }\n",
       "\n",
       "    .dataframe thead th {\n",
       "        text-align: right;\n",
       "    }\n",
       "</style>\n",
       "<table border=\"1\" class=\"dataframe\">\n",
       "  <thead>\n",
       "    <tr style=\"text-align: right;\">\n",
       "      <th></th>\n",
       "      <th>co2</th>\n",
       "      <th>ch4</th>\n",
       "      <th>h2o_stratospheric</th>\n",
       "      <th>aerosol-radiation_interactions</th>\n",
       "      <th>aerosol-cloud_interactions</th>\n",
       "      <th>o3</th>\n",
       "      <th>other_wmghg</th>\n",
       "      <th>n2o</th>\n",
       "    </tr>\n",
       "    <tr>\n",
       "      <th>emission_experiment</th>\n",
       "      <th></th>\n",
       "      <th></th>\n",
       "      <th></th>\n",
       "      <th></th>\n",
       "      <th></th>\n",
       "      <th></th>\n",
       "      <th></th>\n",
       "      <th></th>\n",
       "    </tr>\n",
       "  </thead>\n",
       "  <tbody>\n",
       "    <tr>\n",
       "      <th>co2</th>\n",
       "      <td>0.959391</td>\n",
       "      <td>0.000000</td>\n",
       "      <td>0.0</td>\n",
       "      <td>-0.000000</td>\n",
       "      <td>-0.000000</td>\n",
       "      <td>0.000000</td>\n",
       "      <td>0.0</td>\n",
       "      <td>0.0</td>\n",
       "    </tr>\n",
       "    <tr>\n",
       "      <th>ch4</th>\n",
       "      <td>0.008183</td>\n",
       "      <td>1.563808</td>\n",
       "      <td>1.0</td>\n",
       "      <td>0.015673</td>\n",
       "      <td>-0.021930</td>\n",
       "      <td>0.593998</td>\n",
       "      <td>0.0</td>\n",
       "      <td>0.0</td>\n",
       "    </tr>\n",
       "    <tr>\n",
       "      <th>n2o</th>\n",
       "      <td>0.000000</td>\n",
       "      <td>-0.066606</td>\n",
       "      <td>0.0</td>\n",
       "      <td>0.012349</td>\n",
       "      <td>-0.050599</td>\n",
       "      <td>0.051725</td>\n",
       "      <td>0.0</td>\n",
       "      <td>1.0</td>\n",
       "    </tr>\n",
       "    <tr>\n",
       "      <th>other_wmghg</th>\n",
       "      <td>0.000025</td>\n",
       "      <td>-0.094309</td>\n",
       "      <td>0.0</td>\n",
       "      <td>0.047732</td>\n",
       "      <td>0.020737</td>\n",
       "      <td>-0.350183</td>\n",
       "      <td>1.0</td>\n",
       "      <td>0.0</td>\n",
       "    </tr>\n",
       "    <tr>\n",
       "      <th>NOx</th>\n",
       "      <td>0.000000</td>\n",
       "      <td>-0.703749</td>\n",
       "      <td>0.0</td>\n",
       "      <td>0.054144</td>\n",
       "      <td>0.017212</td>\n",
       "      <td>0.255823</td>\n",
       "      <td>0.0</td>\n",
       "      <td>0.0</td>\n",
       "    </tr>\n",
       "    <tr>\n",
       "      <th>VOC</th>\n",
       "      <td>0.032402</td>\n",
       "      <td>0.300856</td>\n",
       "      <td>0.0</td>\n",
       "      <td>0.015198</td>\n",
       "      <td>-0.010576</td>\n",
       "      <td>0.448638</td>\n",
       "      <td>0.0</td>\n",
       "      <td>0.0</td>\n",
       "    </tr>\n",
       "    <tr>\n",
       "      <th>SO2</th>\n",
       "      <td>0.000000</td>\n",
       "      <td>0.000000</td>\n",
       "      <td>0.0</td>\n",
       "      <td>0.975919</td>\n",
       "      <td>0.814268</td>\n",
       "      <td>0.000000</td>\n",
       "      <td>0.0</td>\n",
       "      <td>0.0</td>\n",
       "    </tr>\n",
       "    <tr>\n",
       "      <th>OC</th>\n",
       "      <td>0.000000</td>\n",
       "      <td>0.000000</td>\n",
       "      <td>0.0</td>\n",
       "      <td>0.300588</td>\n",
       "      <td>0.158413</td>\n",
       "      <td>0.000000</td>\n",
       "      <td>0.0</td>\n",
       "      <td>0.0</td>\n",
       "    </tr>\n",
       "    <tr>\n",
       "      <th>BC</th>\n",
       "      <td>0.000000</td>\n",
       "      <td>0.000000</td>\n",
       "      <td>0.0</td>\n",
       "      <td>-0.562303</td>\n",
       "      <td>0.072474</td>\n",
       "      <td>0.000000</td>\n",
       "      <td>0.0</td>\n",
       "      <td>0.0</td>\n",
       "    </tr>\n",
       "    <tr>\n",
       "      <th>NH3</th>\n",
       "      <td>0.000000</td>\n",
       "      <td>0.000000</td>\n",
       "      <td>0.0</td>\n",
       "      <td>0.140699</td>\n",
       "      <td>-0.000000</td>\n",
       "      <td>0.000000</td>\n",
       "      <td>0.0</td>\n",
       "      <td>0.0</td>\n",
       "    </tr>\n",
       "  </tbody>\n",
       "</table>\n",
       "</div>"
      ],
      "text/plain": [
       "                          co2       ch4  h2o_stratospheric  \\\n",
       "emission_experiment                                          \n",
       "co2                  0.959391  0.000000                0.0   \n",
       "ch4                  0.008183  1.563808                1.0   \n",
       "n2o                  0.000000 -0.066606                0.0   \n",
       "other_wmghg          0.000025 -0.094309                0.0   \n",
       "NOx                  0.000000 -0.703749                0.0   \n",
       "VOC                  0.032402  0.300856                0.0   \n",
       "SO2                  0.000000  0.000000                0.0   \n",
       "OC                   0.000000  0.000000                0.0   \n",
       "BC                   0.000000  0.000000                0.0   \n",
       "NH3                  0.000000  0.000000                0.0   \n",
       "\n",
       "                     aerosol-radiation_interactions  \\\n",
       "emission_experiment                                   \n",
       "co2                                       -0.000000   \n",
       "ch4                                        0.015673   \n",
       "n2o                                        0.012349   \n",
       "other_wmghg                                0.047732   \n",
       "NOx                                        0.054144   \n",
       "VOC                                        0.015198   \n",
       "SO2                                        0.975919   \n",
       "OC                                         0.300588   \n",
       "BC                                        -0.562303   \n",
       "NH3                                        0.140699   \n",
       "\n",
       "                     aerosol-cloud_interactions        o3  other_wmghg  n2o  \n",
       "emission_experiment                                                          \n",
       "co2                                   -0.000000  0.000000          0.0  0.0  \n",
       "ch4                                   -0.021930  0.593998          0.0  0.0  \n",
       "n2o                                   -0.050599  0.051725          0.0  1.0  \n",
       "other_wmghg                            0.020737 -0.350183          1.0  0.0  \n",
       "NOx                                    0.017212  0.255823          0.0  0.0  \n",
       "VOC                                   -0.010576  0.448638          0.0  0.0  \n",
       "SO2                                    0.814268  0.000000          0.0  0.0  \n",
       "OC                                     0.158413  0.000000          0.0  0.0  \n",
       "BC                                     0.072474  0.000000          0.0  0.0  \n",
       "NH3                                   -0.000000  0.000000          0.0  0.0  "
      ]
     },
     "execution_count": 15,
     "metadata": {},
     "output_type": "execute_result"
    }
   ],
   "source": [
    "forcing_by_emissions = pd.read_csv('../data_input/chapter6_emissions_attribution/2019_ERF_est.csv', index_col=0)\n",
    "forcing_by_emissions.rename(\n",
    "    columns={\n",
    "        'CO2': 'co2',\n",
    "        'CH4_lifetime': 'ch4',\n",
    "        'Strat_H2O': 'h2o_stratospheric',\n",
    "        'Aerosol': 'aerosol-radiation_interactions',\n",
    "        'Cloud': 'aerosol-cloud_interactions',\n",
    "        'O3': 'o3',\n",
    "        'HC': 'other_wmghg',\n",
    "        'N2O': 'n2o'\n",
    "    },\n",
    "    index = {\n",
    "        'CO2': 'co2',\n",
    "        'CH4': 'ch4',\n",
    "        'N2O': 'n2o',\n",
    "        'HC': 'other_wmghg',\n",
    "    },\n",
    "    inplace=True\n",
    ")\n",
    "forcing_by_emissions.drop(columns='HFCs', inplace=True)\n",
    "forcing_by_emissions_ratio = forcing_by_emissions / forcing_by_emissions.sum(axis=0)\n",
    "forcing_by_emissions_ratio"
   ]
  },
  {
   "cell_type": "markdown",
   "metadata": {},
   "source": [
    "### Non-aerosol forcings and aggregated categories"
   ]
  },
  {
   "cell_type": "code",
   "execution_count": 16,
   "metadata": {},
   "outputs": [
    {
     "data": {
      "text/plain": [
       "(2237, 11)"
      ]
     },
     "execution_count": 16,
     "metadata": {},
     "output_type": "execute_result"
    }
   ],
   "source": [
    "scale_normals.shape"
   ]
  },
  {
   "cell_type": "code",
   "execution_count": 18,
   "metadata": {},
   "outputs": [],
   "source": [
    "df = pd.read_csv('../data_output/AR6_ERF_1750-2019.csv')\n",
    "forcing_ensemble = {}\n",
    "#for cat in ['co2', 'ch4', 'n2o', 'other_wmghg', 'o3', 'h2o_stratospheric', 'contrails', 'aerosol-radiation_interactions',\n",
    "##           'aerosol-cloud_interactions', 'bc_on_snow', 'land_use', 'solar', 'volcanic', 'wmghgs', 'aerosol', 'albedo',\n",
    "#           'anthro', 'natural']:\n",
    "#    forcing_ensemble[cat] = np.zeros((270, len(accept_inds)))\n",
    "    \n",
    "# naming convention: emissions_resulting-forcing\n",
    "forcing_ensemble['co2_co2'] = df['co2'].values[:,None] * scale_normals[:,0] * forcing_by_emissions_ratio.loc['co2', 'co2']\n",
    "forcing_ensemble['ch4_co2'] = df['co2'].values[:,None] * scale_normals[:,0] * forcing_by_emissions_ratio.loc['ch4', 'co2']\n",
    "forcing_ensemble['oth_co2'] = df['co2'].values[:,None] * scale_normals[:,0] * forcing_by_emissions_ratio.loc['other_wmghg', 'co2']\n",
    "forcing_ensemble['voc_co2'] = df['co2'].values[:,None] * scale_normals[:,0] * forcing_by_emissions_ratio.loc['VOC', 'co2']\n",
    "\n",
    "forcing_ensemble['ch4_ch4'] = df['ch4'].values[:,None] * scale_normals[:,1] * forcing_by_emissions_ratio.loc['ch4', 'ch4']\n",
    "forcing_ensemble['n2o_ch4'] = df['ch4'].values[:,None] * scale_normals[:,1] * forcing_by_emissions_ratio.loc['n2o', 'ch4']\n",
    "forcing_ensemble['oth_ch4'] = df['ch4'].values[:,None] * scale_normals[:,1] * forcing_by_emissions_ratio.loc['other_wmghg', 'ch4']\n",
    "forcing_ensemble['nox_ch4'] = df['ch4'].values[:,None] * scale_normals[:,1] * forcing_by_emissions_ratio.loc['NOx', 'ch4']\n",
    "forcing_ensemble['voc_ch4'] = df['ch4'].values[:,None] * scale_normals[:,1] * forcing_by_emissions_ratio.loc['VOC', 'ch4']\n",
    "\n",
    "forcing_ensemble['n2o_n2o'] = df['n2o'].values[:,None] * scale_normals[:,2]\n",
    "\n",
    "forcing_ensemble['oth_oth'] = df['other_wmghg'].values[:,None] * scale_normals[:,3]\n",
    "\n",
    "forcing_ensemble['ch4_ozo'] = df['o3'].values[:,None] * scale_normals[:,4] * forcing_by_emissions_ratio.loc['ch4', 'o3']\n",
    "forcing_ensemble['n2o_ozo'] = df['o3'].values[:,None] * scale_normals[:,4] * forcing_by_emissions_ratio.loc['n2o', 'o3']\n",
    "forcing_ensemble['oth_ozo'] = df['o3'].values[:,None] * scale_normals[:,4] * forcing_by_emissions_ratio.loc['other_wmghg', 'o3']\n",
    "forcing_ensemble['nox_ozo'] = df['o3'].values[:,None] * scale_normals[:,4] * forcing_by_emissions_ratio.loc['NOx', 'o3']\n",
    "forcing_ensemble['voc_ozo'] = df['o3'].values[:,None] * scale_normals[:,4] * forcing_by_emissions_ratio.loc['VOC', 'o3']\n",
    "\n",
    "forcing_ensemble['ch4_h2o'] = df['h2o_stratospheric'].values[:,None] * scale_normals[:,5]\n",
    "\n",
    "forcing_ensemble['con_con'] = df['contrails'].values[:,None] * scale_normals[:,6]\n",
    "\n",
    "forcing_ensemble['ch4_ari'] = ERFari * forcing_by_emissions_ratio.loc['ch4', 'aerosol-radiation_interactions']\n",
    "forcing_ensemble['n2o_ari'] = ERFari * forcing_by_emissions_ratio.loc['n2o', 'aerosol-radiation_interactions']\n",
    "forcing_ensemble['oth_ari'] = ERFari * forcing_by_emissions_ratio.loc['other_wmghg', 'aerosol-radiation_interactions']\n",
    "forcing_ensemble['nox_ari'] = ERFari * forcing_by_emissions_ratio.loc['NOx', 'aerosol-radiation_interactions']\n",
    "forcing_ensemble['voc_ari'] = ERFari * forcing_by_emissions_ratio.loc['VOC', 'aerosol-radiation_interactions']\n",
    "forcing_ensemble['so2_ari'] = ERFari * forcing_by_emissions_ratio.loc['SO2', 'aerosol-radiation_interactions']\n",
    "forcing_ensemble['blc_ari'] = ERFari * forcing_by_emissions_ratio.loc['BC', 'aerosol-radiation_interactions']\n",
    "forcing_ensemble['orc_ari'] = ERFari * forcing_by_emissions_ratio.loc['OC', 'aerosol-radiation_interactions']\n",
    "forcing_ensemble['nh3_ari'] = ERFari * forcing_by_emissions_ratio.loc['NH3', 'aerosol-radiation_interactions']\n",
    "\n",
    "forcing_ensemble['ch4_aci'] = ERFaci * forcing_by_emissions_ratio.loc['ch4', 'aerosol-cloud_interactions']\n",
    "forcing_ensemble['n2o_aci'] = ERFaci * forcing_by_emissions_ratio.loc['n2o', 'aerosol-cloud_interactions']\n",
    "forcing_ensemble['oth_aci'] = ERFaci * forcing_by_emissions_ratio.loc['other_wmghg', 'aerosol-cloud_interactions']\n",
    "forcing_ensemble['nox_aci'] = ERFaci * forcing_by_emissions_ratio.loc['NOx', 'aerosol-cloud_interactions']\n",
    "forcing_ensemble['voc_aci'] = ERFaci * forcing_by_emissions_ratio.loc['VOC', 'aerosol-cloud_interactions']\n",
    "forcing_ensemble['so2_aci'] = ERFaci * forcing_by_emissions_ratio.loc['SO2', 'aerosol-cloud_interactions']\n",
    "forcing_ensemble['blc_aci'] = ERFaci * forcing_by_emissions_ratio.loc['BC', 'aerosol-cloud_interactions']\n",
    "forcing_ensemble['orc_aci'] = ERFaci * forcing_by_emissions_ratio.loc['OC', 'aerosol-cloud_interactions']\n",
    "\n",
    "forcing_ensemble['blc_bcs'] = df['bc_on_snow'].values[:,None] * scale_normals[:,7]\n",
    "\n",
    "forcing_ensemble['luc_luc'] = df['land_use'].values[:,None] * scale_normals[:,8]\n",
    "\n",
    "forcing_ensemble['anthro'] = (\n",
    "    forcing_ensemble['co2_co2'] +\n",
    "    forcing_ensemble['ch4_co2'] +\n",
    "    forcing_ensemble['oth_co2'] +\n",
    "    forcing_ensemble['voc_co2'] +\n",
    "    forcing_ensemble['ch4_ch4'] +\n",
    "    forcing_ensemble['n2o_ch4'] +\n",
    "    forcing_ensemble['oth_ch4'] +\n",
    "    forcing_ensemble['nox_ch4'] +\n",
    "    forcing_ensemble['voc_ch4'] +\n",
    "    forcing_ensemble['n2o_n2o'] +\n",
    "    forcing_ensemble['oth_oth'] +\n",
    "    forcing_ensemble['ch4_ozo'] +\n",
    "    forcing_ensemble['n2o_ozo'] +\n",
    "    forcing_ensemble['oth_ozo'] +\n",
    "    forcing_ensemble['nox_ozo'] +\n",
    "    forcing_ensemble['voc_ozo'] +\n",
    "    forcing_ensemble['ch4_h2o'] +\n",
    "    forcing_ensemble['con_con'] +\n",
    "    forcing_ensemble['ch4_ari'] +\n",
    "    forcing_ensemble['n2o_ari'] +\n",
    "    forcing_ensemble['oth_ari'] +\n",
    "    forcing_ensemble['nox_ari'] +\n",
    "    forcing_ensemble['voc_ari'] +\n",
    "    forcing_ensemble['so2_ari'] +\n",
    "    forcing_ensemble['blc_ari'] +\n",
    "    forcing_ensemble['orc_ari'] +\n",
    "    forcing_ensemble['nh3_ari'] +\n",
    "    forcing_ensemble['ch4_aci'] +\n",
    "    forcing_ensemble['n2o_aci'] +\n",
    "    forcing_ensemble['oth_aci'] +\n",
    "    forcing_ensemble['nox_aci'] +\n",
    "    forcing_ensemble['voc_aci'] +\n",
    "    forcing_ensemble['so2_aci'] +\n",
    "    forcing_ensemble['blc_aci'] +\n",
    "    forcing_ensemble['orc_aci'] +\n",
    "    forcing_ensemble['blc_bcs'] +\n",
    "    forcing_ensemble['luc_luc']\n",
    ")"
   ]
  },
  {
   "cell_type": "code",
   "execution_count": 19,
   "metadata": {},
   "outputs": [
    {
     "data": {
      "text/plain": [
       "(270, 2237)"
      ]
     },
     "execution_count": 19,
     "metadata": {},
     "output_type": "execute_result"
    }
   ],
   "source": [
    "forcing_ensemble['anthro'].shape"
   ]
  },
  {
   "cell_type": "markdown",
   "metadata": {},
   "source": [
    "# Run climate model"
   ]
  },
  {
   "cell_type": "code",
   "execution_count": 20,
   "metadata": {},
   "outputs": [],
   "source": [
    "with open('../data_input/tunings/cmip6_twolayer_tuning_params.json', 'r') as filehandle:\n",
    "    cmip6_models = json.load(filehandle)"
   ]
  },
  {
   "cell_type": "code",
   "execution_count": 21,
   "metadata": {},
   "outputs": [],
   "source": [
    "cmix_mean = cmip6_models['cmix']['mean']['EBM-epsilon']\n",
    "cdeep_mean = cmip6_models['cdeep']['mean']['EBM-epsilon']\n",
    "eff_mean = cmip6_models['eff']['mean']['EBM-epsilon']\n",
    "\n",
    "lamg_median = f2x_median/ecs_median\n",
    "kappa_median = -(f2x_median/ecs_median - f2x_median/tcr_median)\n",
    "gamma_2l_median = kappa_median/eff_mean"
   ]
  },
  {
   "cell_type": "code",
   "execution_count": 22,
   "metadata": {},
   "outputs": [
    {
     "data": {
      "text/plain": [
       "(0.6395952745483992,\n",
       " 0.85785768256684,\n",
       " 1.3670409092103908,\n",
       " 1.3412508139190835,\n",
       " 8.144224615560551,\n",
       " 109.62536045769089)"
      ]
     },
     "execution_count": 22,
     "metadata": {},
     "output_type": "execute_result"
    }
   ],
   "source": [
    "gamma_2l_median, kappa_median, lamg_median, eff_mean, cmix_mean, cdeep_mean"
   ]
  },
  {
   "cell_type": "code",
   "execution_count": 23,
   "metadata": {},
   "outputs": [],
   "source": [
    "results = {}"
   ]
  },
  {
   "cell_type": "code",
   "execution_count": 24,
   "metadata": {},
   "outputs": [
    {
     "data": {
      "text/plain": [
       "dict_keys(['co2_co2', 'ch4_co2', 'oth_co2', 'voc_co2', 'ch4_ch4', 'n2o_ch4', 'oth_ch4', 'nox_ch4', 'voc_ch4', 'n2o_n2o', 'oth_oth', 'ch4_ozo', 'n2o_ozo', 'oth_ozo', 'nox_ozo', 'voc_ozo', 'ch4_h2o', 'con_con', 'ch4_ari', 'n2o_ari', 'oth_ari', 'nox_ari', 'voc_ari', 'so2_ari', 'blc_ari', 'orc_ari', 'nh3_ari', 'ch4_aci', 'n2o_aci', 'oth_aci', 'nox_aci', 'voc_aci', 'so2_aci', 'blc_aci', 'orc_aci', 'blc_bcs', 'luc_luc', 'anthro'])"
      ]
     },
     "execution_count": 24,
     "metadata": {},
     "output_type": "execute_result"
    }
   ],
   "source": [
    "forcing_ensemble.keys()"
   ]
  },
  {
   "cell_type": "markdown",
   "metadata": {},
   "source": [
    "## 270-year forcing runs\n",
    "\n",
    "- forcing and climate variation"
   ]
  },
  {
   "cell_type": "code",
   "execution_count": 25,
   "metadata": {},
   "outputs": [
    {
     "data": {
      "application/vnd.jupyter.widget-view+json": {
       "model_id": "709ccb8127754093a0c1bc7b793d5ae0",
       "version_major": 2,
       "version_minor": 0
      },
      "text/plain": [
       "  0%|          | 0/2237 [00:00<?, ?it/s]"
      ]
     },
     "metadata": {},
     "output_type": "display_data"
    }
   ],
   "source": [
    "arglist = []\n",
    "\n",
    "lamg = -geoff_sample_df['lamg'].values\n",
    "eff = geoff_sample_df['eff'].values\n",
    "gamma_2l = geoff_sample_df['gamma_2l'].values\n",
    "cdeep = geoff_sample_df['cdeep'].values\n",
    "cmix = geoff_sample_df['cmix'].values\n",
    "\n",
    "\n",
    "for i in range(len(accept_inds)):\n",
    "    arglist.append(\n",
    "        {\n",
    "            'cmix': cmix[i],\n",
    "            'cdeep': cdeep[i],\n",
    "            'gamma_2l': gamma_2l[i],\n",
    "            'lamg': lamg[i],\n",
    "            'eff': eff[i],\n",
    "            'in_forcing' : forcing_ensemble['anthro'][:,i],\n",
    "            'firstyear': 1750\n",
    "        }\n",
    "    )\n",
    "\n",
    "results['AR6-anthro_climuncert'] = {}\n",
    "\n",
    "def run_tlm(args):\n",
    "    in_forcing = args['in_forcing']\n",
    "    driver = TwoLayerModel(\n",
    "        extforce=in_forcing,\n",
    "        exttime=np.arange(args['firstyear'],2020),\n",
    "        tbeg=args['firstyear'],\n",
    "        tend=2020,\n",
    "        lamg=args['lamg'],\n",
    "        t2x=None,\n",
    "        eff=args['eff'],\n",
    "        cmix=args['cmix'],\n",
    "        cdeep=args['cdeep'],\n",
    "        gamma_2l=args['gamma_2l'],\n",
    "        outtime=np.arange(1750,2020),\n",
    "        dt=0.2\n",
    "    )\n",
    "    output = driver.run()\n",
    "    return(output.tg)\n",
    "    \n",
    "    \n",
    "if __name__ == '__main__':\n",
    "    with Pool(24) as pool:\n",
    "        result = list(tqdm(pool.imap(run_tlm, arglist), total=len(accept_inds)))\n",
    "    output = np.array(result).T\n",
    "\n",
    "results['AR6-anthro_climuncert']['effective_radiative_forcing'] = forcing_ensemble['anthro']\n",
    "results['AR6-anthro_climuncert']['surface_temperature'] = output"
   ]
  },
  {
   "cell_type": "code",
   "execution_count": 26,
   "metadata": {},
   "outputs": [
    {
     "data": {
      "text/plain": [
       "(270, 2237)"
      ]
     },
     "execution_count": 26,
     "metadata": {},
     "output_type": "execute_result"
    }
   ],
   "source": [
    "results['AR6-anthro_climuncert']['surface_temperature'].shape"
   ]
  },
  {
   "cell_type": "code",
   "execution_count": 27,
   "metadata": {},
   "outputs": [
    {
     "data": {
      "text/plain": [
       "[<matplotlib.lines.Line2D at 0x7f5441ffb250>]"
      ]
     },
     "execution_count": 27,
     "metadata": {},
     "output_type": "execute_result"
    },
    {
     "data": {
      "image/png": "[encoded data removed]",
      "text/plain": [
       "<Figure size 432x288 with 1 Axes>"
      ]
     },
     "metadata": {
      "needs_background": "light"
     },
     "output_type": "display_data"
    }
   ],
   "source": [
    "pl.fill_between(np.arange(1750, 2020),\n",
    "                np.percentile(results['AR6-anthro_climuncert']['surface_temperature'], 5, axis=1),\n",
    "                np.percentile(results['AR6-anthro_climuncert']['surface_temperature'], 95, axis=1),\n",
    "               )\n",
    "pl.plot(np.arange(1750, 2020), np.median(results['AR6-anthro_climuncert']['surface_temperature'], axis=1), color='k')"
   ]
  },
  {
   "cell_type": "markdown",
   "metadata": {},
   "source": [
    "## Marginal contributions since 1750\n",
    "\n",
    "- forcing and climate variation"
   ]
  },
  {
   "cell_type": "code",
   "execution_count": 28,
   "metadata": {
    "scrolled": true
   },
   "outputs": [
    {
     "data": {
      "application/vnd.jupyter.widget-view+json": {
       "model_id": "d0adfeab3a9f4654ba01c4158a62ccdf",
       "version_major": 2,
       "version_minor": 0
      },
      "text/plain": [
       "Removing one at a time:   0%|          | 0/37 [00:00<?, ?it/s]"
      ]
     },
     "metadata": {},
     "output_type": "display_data"
    },
    {
     "data": {
      "application/vnd.jupyter.widget-view+json": {
       "model_id": "",
       "version_major": 2,
       "version_minor": 0
      },
      "text/plain": [
       "  0%|          | 0/2237 [00:00<?, ?it/s]"
      ]
     },
     "metadata": {},
     "output_type": "display_data"
    },
    {
     "data": {
      "application/vnd.jupyter.widget-view+json": {
       "model_id": "",
       "version_major": 2,
       "version_minor": 0
      },
      "text/plain": [
       "  0%|          | 0/2237 [00:00<?, ?it/s]"
      ]
     },
     "metadata": {},
     "output_type": "display_data"
    },
    {
     "data": {
      "application/vnd.jupyter.widget-view+json": {
       "model_id": "",
       "version_major": 2,
       "version_minor": 0
      },
      "text/plain": [
       "  0%|          | 0/2237 [00:00<?, ?it/s]"
      ]
     },
     "metadata": {},
     "output_type": "display_data"
    },
    {
     "data": {
      "application/vnd.jupyter.widget-view+json": {
       "model_id": "",
       "version_major": 2,
       "version_minor": 0
      },
      "text/plain": [
       "  0%|          | 0/2237 [00:00<?, ?it/s]"
      ]
     },
     "metadata": {},
     "output_type": "display_data"
    },
    {
     "data": {
      "application/vnd.jupyter.widget-view+json": {
       "model_id": "",
       "version_major": 2,
       "version_minor": 0
      },
      "text/plain": [
       "  0%|          | 0/2237 [00:00<?, ?it/s]"
      ]
     },
     "metadata": {},
     "output_type": "display_data"
    },
    {
     "data": {
      "application/vnd.jupyter.widget-view+json": {
       "model_id": "",
       "version_major": 2,
       "version_minor": 0
      },
      "text/plain": [
       "  0%|          | 0/2237 [00:00<?, ?it/s]"
      ]
     },
     "metadata": {},
     "output_type": "display_data"
    },
    {
     "data": {
      "application/vnd.jupyter.widget-view+json": {
       "model_id": "",
       "version_major": 2,
       "version_minor": 0
      },
      "text/plain": [
       "  0%|          | 0/2237 [00:00<?, ?it/s]"
      ]
     },
     "metadata": {},
     "output_type": "display_data"
    },
    {
     "data": {
      "application/vnd.jupyter.widget-view+json": {
       "model_id": "",
       "version_major": 2,
       "version_minor": 0
      },
      "text/plain": [
       "  0%|          | 0/2237 [00:00<?, ?it/s]"
      ]
     },
     "metadata": {},
     "output_type": "display_data"
    },
    {
     "data": {
      "application/vnd.jupyter.widget-view+json": {
       "model_id": "",
       "version_major": 2,
       "version_minor": 0
      },
      "text/plain": [
       "  0%|          | 0/2237 [00:00<?, ?it/s]"
      ]
     },
     "metadata": {},
     "output_type": "display_data"
    },
    {
     "data": {
      "application/vnd.jupyter.widget-view+json": {
       "model_id": "",
       "version_major": 2,
       "version_minor": 0
      },
      "text/plain": [
       "  0%|          | 0/2237 [00:00<?, ?it/s]"
      ]
     },
     "metadata": {},
     "output_type": "display_data"
    },
    {
     "data": {
      "application/vnd.jupyter.widget-view+json": {
       "model_id": "",
       "version_major": 2,
       "version_minor": 0
      },
      "text/plain": [
       "  0%|          | 0/2237 [00:00<?, ?it/s]"
      ]
     },
     "metadata": {},
     "output_type": "display_data"
    },
    {
     "data": {
      "application/vnd.jupyter.widget-view+json": {
       "model_id": "",
       "version_major": 2,
       "version_minor": 0
      },
      "text/plain": [
       "  0%|          | 0/2237 [00:00<?, ?it/s]"
      ]
     },
     "metadata": {},
     "output_type": "display_data"
    },
    {
     "data": {
      "application/vnd.jupyter.widget-view+json": {
       "model_id": "",
       "version_major": 2,
       "version_minor": 0
      },
      "text/plain": [
       "  0%|          | 0/2237 [00:00<?, ?it/s]"
      ]
     },
     "metadata": {},
     "output_type": "display_data"
    },
    {
     "data": {
      "application/vnd.jupyter.widget-view+json": {
       "model_id": "",
       "version_major": 2,
       "version_minor": 0
      },
      "text/plain": [
       "  0%|          | 0/2237 [00:00<?, ?it/s]"
      ]
     },
     "metadata": {},
     "output_type": "display_data"
    },
    {
     "data": {
      "application/vnd.jupyter.widget-view+json": {
       "model_id": "",
       "version_major": 2,
       "version_minor": 0
      },
      "text/plain": [
       "  0%|          | 0/2237 [00:00<?, ?it/s]"
      ]
     },
     "metadata": {},
     "output_type": "display_data"
    },
    {
     "data": {
      "application/vnd.jupyter.widget-view+json": {
       "model_id": "",
       "version_major": 2,
       "version_minor": 0
      },
      "text/plain": [
       "  0%|          | 0/2237 [00:00<?, ?it/s]"
      ]
     },
     "metadata": {},
     "output_type": "display_data"
    },
    {
     "data": {
      "application/vnd.jupyter.widget-view+json": {
       "model_id": "",
       "version_major": 2,
       "version_minor": 0
      },
      "text/plain": [
       "  0%|          | 0/2237 [00:00<?, ?it/s]"
      ]
     },
     "metadata": {},
     "output_type": "display_data"
    },
    {
     "data": {
      "application/vnd.jupyter.widget-view+json": {
       "model_id": "",
       "version_major": 2,
       "version_minor": 0
      },
      "text/plain": [
       "  0%|          | 0/2237 [00:00<?, ?it/s]"
      ]
     },
     "metadata": {},
     "output_type": "display_data"
    },
    {
     "data": {
      "application/vnd.jupyter.widget-view+json": {
       "model_id": "",
       "version_major": 2,
       "version_minor": 0
      },
      "text/plain": [
       "  0%|          | 0/2237 [00:00<?, ?it/s]"
      ]
     },
     "metadata": {},
     "output_type": "display_data"
    },
    {
     "data": {
      "application/vnd.jupyter.widget-view+json": {
       "model_id": "",
       "version_major": 2,
       "version_minor": 0
      },
      "text/plain": [
       "  0%|          | 0/2237 [00:00<?, ?it/s]"
      ]
     },
     "metadata": {},
     "output_type": "display_data"
    },
    {
     "data": {
      "application/vnd.jupyter.widget-view+json": {
       "model_id": "",
       "version_major": 2,
       "version_minor": 0
      },
      "text/plain": [
       "  0%|          | 0/2237 [00:00<?, ?it/s]"
      ]
     },
     "metadata": {},
     "output_type": "display_data"
    },
    {
     "data": {
      "application/vnd.jupyter.widget-view+json": {
       "model_id": "",
       "version_major": 2,
       "version_minor": 0
      },
      "text/plain": [
       "  0%|          | 0/2237 [00:00<?, ?it/s]"
      ]
     },
     "metadata": {},
     "output_type": "display_data"
    },
    {
     "data": {
      "application/vnd.jupyter.widget-view+json": {
       "model_id": "",
       "version_major": 2,
       "version_minor": 0
      },
      "text/plain": [
       "  0%|          | 0/2237 [00:00<?, ?it/s]"
      ]
     },
     "metadata": {},
     "output_type": "display_data"
    },
    {
     "data": {
      "application/vnd.jupyter.widget-view+json": {
       "model_id": "",
       "version_major": 2,
       "version_minor": 0
      },
      "text/plain": [
       "  0%|          | 0/2237 [00:00<?, ?it/s]"
      ]
     },
     "metadata": {},
     "output_type": "display_data"
    },
    {
     "data": {
      "application/vnd.jupyter.widget-view+json": {
       "model_id": "",
       "version_major": 2,
       "version_minor": 0
      },
      "text/plain": [
       "  0%|          | 0/2237 [00:00<?, ?it/s]"
      ]
     },
     "metadata": {},
     "output_type": "display_data"
    },
    {
     "data": {
      "application/vnd.jupyter.widget-view+json": {
       "model_id": "",
       "version_major": 2,
       "version_minor": 0
      },
      "text/plain": [
       "  0%|          | 0/2237 [00:00<?, ?it/s]"
      ]
     },
     "metadata": {},
     "output_type": "display_data"
    },
    {
     "data": {
      "application/vnd.jupyter.widget-view+json": {
       "model_id": "",
       "version_major": 2,
       "version_minor": 0
      },
      "text/plain": [
       "  0%|          | 0/2237 [00:00<?, ?it/s]"
      ]
     },
     "metadata": {},
     "output_type": "display_data"
    },
    {
     "data": {
      "application/vnd.jupyter.widget-view+json": {
       "model_id": "",
       "version_major": 2,
       "version_minor": 0
      },
      "text/plain": [
       "  0%|          | 0/2237 [00:00<?, ?it/s]"
      ]
     },
     "metadata": {},
     "output_type": "display_data"
    },
    {
     "data": {
      "application/vnd.jupyter.widget-view+json": {
       "model_id": "",
       "version_major": 2,
       "version_minor": 0
      },
      "text/plain": [
       "  0%|          | 0/2237 [00:00<?, ?it/s]"
      ]
     },
     "metadata": {},
     "output_type": "display_data"
    },
    {
     "data": {
      "application/vnd.jupyter.widget-view+json": {
       "model_id": "",
       "version_major": 2,
       "version_minor": 0
      },
      "text/plain": [
       "  0%|          | 0/2237 [00:00<?, ?it/s]"
      ]
     },
     "metadata": {},
     "output_type": "display_data"
    },
    {
     "data": {
      "application/vnd.jupyter.widget-view+json": {
       "model_id": "",
       "version_major": 2,
       "version_minor": 0
      },
      "text/plain": [
       "  0%|          | 0/2237 [00:00<?, ?it/s]"
      ]
     },
     "metadata": {},
     "output_type": "display_data"
    },
    {
     "data": {
      "application/vnd.jupyter.widget-view+json": {
       "model_id": "",
       "version_major": 2,
       "version_minor": 0
      },
      "text/plain": [
       "  0%|          | 0/2237 [00:00<?, ?it/s]"
      ]
     },
     "metadata": {},
     "output_type": "display_data"
    },
    {
     "data": {
      "application/vnd.jupyter.widget-view+json": {
       "model_id": "",
       "version_major": 2,
       "version_minor": 0
      },
      "text/plain": [
       "  0%|          | 0/2237 [00:00<?, ?it/s]"
      ]
     },
     "metadata": {},
     "output_type": "display_data"
    },
    {
     "data": {
      "application/vnd.jupyter.widget-view+json": {
       "model_id": "",
       "version_major": 2,
       "version_minor": 0
      },
      "text/plain": [
       "  0%|          | 0/2237 [00:00<?, ?it/s]"
      ]
     },
     "metadata": {},
     "output_type": "display_data"
    },
    {
     "data": {
      "application/vnd.jupyter.widget-view+json": {
       "model_id": "",
       "version_major": 2,
       "version_minor": 0
      },
      "text/plain": [
       "  0%|          | 0/2237 [00:00<?, ?it/s]"
      ]
     },
     "metadata": {},
     "output_type": "display_data"
    },
    {
     "data": {
      "application/vnd.jupyter.widget-view+json": {
       "model_id": "",
       "version_major": 2,
       "version_minor": 0
      },
      "text/plain": [
       "  0%|          | 0/2237 [00:00<?, ?it/s]"
      ]
     },
     "metadata": {},
     "output_type": "display_data"
    },
    {
     "data": {
      "application/vnd.jupyter.widget-view+json": {
       "model_id": "",
       "version_major": 2,
       "version_minor": 0
      },
      "text/plain": [
       "  0%|          | 0/2237 [00:00<?, ?it/s]"
      ]
     },
     "metadata": {},
     "output_type": "display_data"
    }
   ],
   "source": [
    "if __name__ == '__main__':\n",
    "    for agent in tqdm(list(forcing_ensemble.keys())[:-1], desc='Removing one at a time'):\n",
    "        arglist = []\n",
    "        for i in range(len(accept_inds)):\n",
    "            startindex=0\n",
    "            firstyear = 1750\n",
    "            in_forcing = forcing_ensemble['anthro'][startindex:,i] - forcing_ensemble[agent][startindex:,i]\n",
    "            arglist.append(\n",
    "                {\n",
    "                    'in_forcing' : in_forcing,\n",
    "                    'cmix': cmix[i],\n",
    "                    'cdeep': cdeep[i],\n",
    "                    'gamma_2l': gamma_2l[i],\n",
    "                    'lamg': lamg[i],\n",
    "                    'eff': eff[i],\n",
    "                    'firstyear': firstyear\n",
    "                }\n",
    "            )\n",
    "        output = []\n",
    "        results['remove_%s_climuncert' % agent] = {}\n",
    "        with Pool(24) as pool:\n",
    "            result = list(tqdm(pool.imap(run_tlm, arglist), total=len(accept_inds), leave=False))\n",
    "        output = np.array(result).T\n",
    "\n",
    "        results['remove_%s_climuncert' % agent]['effective_radiative_forcing'] = forcing_ensemble['anthro'] - forcing_ensemble[agent]\n",
    "        results['remove_%s_climuncert' % agent]['surface_temperature'] = output"
   ]
  },
  {
   "cell_type": "code",
   "execution_count": 29,
   "metadata": {},
   "outputs": [],
   "source": [
    "save_dict_to_hdf5(results, '../data_output_large/twolayer_AR6-historical-emissions-based.h5')"
   ]
  },
  {
   "cell_type": "code",
   "execution_count": null,
   "metadata": {},
   "outputs": [],
   "source": []
  }
 ],
 "metadata": {
  "kernelspec": {
   "display_name": "Python 3",
   "language": "python",
   "name": "python3"
  },
  "language_info": {
   "codemirror_mode": {
    "name": "ipython",
    "version": 3
   },
   "file_extension": ".py",
   "mimetype": "text/x-python",
   "name": "python",
   "nbconvert_exporter": "python",
   "pygments_lexer": "ipython3",
   "version": "3.7.10"
  }
 },
 "nbformat": 4,
 "nbformat_minor": 4
}
