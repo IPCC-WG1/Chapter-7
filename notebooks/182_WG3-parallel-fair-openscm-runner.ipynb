{
 "cells": [
  {
   "cell_type": "markdown",
   "metadata": {},
   "source": [
    "# Parallelise openscm-runner\n",
    "\n",
    "- 2237 ensemble members x 1600 scenarios is going to take a long time, even at 12 runs/second.\n",
    "\n",
    "Theme Song: All The Small Things<br>\n",
    "Artist: Blink-182<br>\n",
    "Album: Enema of the State<br>\n",
    "Released: 2000"
   ]
  },
  {
   "cell_type": "code",
   "execution_count": 1,
   "metadata": {},
   "outputs": [
    {
     "data": {
      "application/javascript": [
       "IPython.OutputArea.prototype._should_scroll = function(lines) { return false; }"
      ],
      "text/plain": [
       "<IPython.core.display.Javascript object>"
      ]
     },
     "metadata": {},
     "output_type": "display_data"
    },
    {
     "name": "stderr",
     "output_type": "stream",
     "text": [
      "/nfs/b0110/Users/mencsm/miniconda3/envs/ar6/lib/python3.7/site-packages/openscm_runner/progress.py:5: TqdmExperimentalWarning: Using `tqdm.autonotebook.tqdm` in notebook mode. Use `tqdm.tqdm` instead to force console mode (e.g. in jupyter console)\n",
      "  from tqdm.autonotebook import tqdm\n"
     ]
    }
   ],
   "source": [
    "import os.path\n",
    "\n",
    "import json\n",
    "import numpy as np\n",
    "import matplotlib.pyplot as plt\n",
    "import pandas as pd\n",
    "import pyam\n",
    "from fair.forward import fair_scm\n",
    "from scmdata import ScmRun, run_append\n",
    "from tqdm import tqdm_notebook\n",
    "\n",
    "import openscm_runner\n",
    "from openscm_runner.run import run\n",
    "from openscm_runner.adapters import FAIR"
   ]
  },
  {
   "cell_type": "code",
   "execution_count": 2,
   "metadata": {},
   "outputs": [
    {
     "data": {
      "text/plain": [
       "'0.1.0-alpha.1+309.g0ab51a4'"
      ]
     },
     "execution_count": 2,
     "metadata": {},
     "output_type": "execute_result"
    }
   ],
   "source": [
    "openscm_runner.__version__"
   ]
  },
  {
   "cell_type": "code",
   "execution_count": 3,
   "metadata": {},
   "outputs": [
    {
     "data": {
      "text/plain": [
       "'1.6.2'"
      ]
     },
     "execution_count": 3,
     "metadata": {},
     "output_type": "execute_result"
    }
   ],
   "source": [
    "fair = FAIR()\n",
    "fair.get_version()"
   ]
  },
  {
   "cell_type": "code",
   "execution_count": 4,
   "metadata": {},
   "outputs": [],
   "source": [
    "with open('../data_output_large/fair-samples/fair-1.6.2-wg3-params.json') as f:\n",
    "    config_list = json.load(f)"
   ]
  },
  {
   "cell_type": "code",
   "execution_count": 5,
   "metadata": {},
   "outputs": [],
   "source": [
    "species = [\n",
    "'Emissions|BC',\n",
    "'Emissions|CH4',\n",
    "'Emissions|CO',\n",
    "'Emissions|CO2|MAGICC AFOLU',\n",
    "'Emissions|CO2|MAGICC Fossil and Industrial',\n",
    "'Emissions|F-Gases|HFC|HFC125',\n",
    "'Emissions|F-Gases|HFC|HFC134a',\n",
    "'Emissions|F-Gases|HFC|HFC143a',\n",
    "'Emissions|F-Gases|HFC|HFC227ea',\n",
    "'Emissions|F-Gases|HFC|HFC23',\n",
    "'Emissions|F-Gases|HFC|HFC245fa',\n",
    "'Emissions|F-Gases|HFC|HFC32',\n",
    "'Emissions|F-Gases|HFC|HFC4310mee',\n",
    "'Emissions|F-Gases|PFC|C2F6',\n",
    "'Emissions|F-Gases|PFC|C6F14',\n",
    "'Emissions|F-Gases|PFC|CF4',\n",
    "'Emissions|F-Gases|SF6',\n",
    "'Emissions|Montreal Gases|CCl4',\n",
    "'Emissions|Montreal Gases|CFC|CFC11',\n",
    "'Emissions|Montreal Gases|CFC|CFC113',\n",
    "'Emissions|Montreal Gases|CFC|CFC114',\n",
    "'Emissions|Montreal Gases|CFC|CFC115',\n",
    "'Emissions|Montreal Gases|CFC|CFC12',\n",
    "'Emissions|Montreal Gases|CH3Br',\n",
    "'Emissions|Montreal Gases|CH3CCl3',\n",
    "'Emissions|Montreal Gases|CH3Cl',\n",
    "'Emissions|Montreal Gases|HCFC141b',\n",
    "'Emissions|Montreal Gases|HCFC142b',\n",
    "'Emissions|Montreal Gases|HCFC22',\n",
    "'Emissions|Montreal Gases|Halon1202',\n",
    "'Emissions|Montreal Gases|Halon1211',\n",
    "'Emissions|Montreal Gases|Halon1301',\n",
    "'Emissions|Montreal Gases|Halon2402',\n",
    "'Emissions|N2O',\n",
    "'Emissions|NH3',\n",
    "'Emissions|NOx',\n",
    "'Emissions|OC',\n",
    "'Emissions|Sulfur',\n",
    "'Emissions|VOC']"
   ]
  },
  {
   "cell_type": "code",
   "execution_count": 6,
   "metadata": {},
   "outputs": [
    {
     "name": "stdout",
     "output_type": "stream",
     "text": [
      "312\n"
     ]
    }
   ],
   "source": [
    "df_fair = ScmRun('../data_input_large/rcmip-emissions-annual-means-v5-1-0.csv', lowercase_cols=True)\n",
    "df_fair.filter(\n",
    "    scenario=['ssp119','ssp126','ssp245','ssp370','ssp434','ssp460','ssp534-over','ssp585'], \n",
    "    year=range(2015,2101),\n",
    "    variable=species,\n",
    "    region='World', \n",
    "    inplace=True\n",
    ")\n",
    "print(len(df_fair))"
   ]
  },
  {
   "cell_type": "code",
   "execution_count": 8,
   "metadata": {},
   "outputs": [],
   "source": [
    "# convert lists to numpy arrays\n",
    "# in 0.5.1 this is not needed?\n",
    "\n",
    "\n",
    "# updated_config = []\n",
    "# for i in range(len(config_list)):\n",
    "#     updated_config.append({})\n",
    "#     for key, value in config_list[i].items():\n",
    "#         if type(value)==list:\n",
    "#             updated_config[i][key] = np.asarray(value)\n",
    "#         else:\n",
    "#             updated_config[i][key] = value"
   ]
  },
  {
   "cell_type": "code",
   "execution_count": 9,
   "metadata": {},
   "outputs": [
    {
     "data": {
      "text/plain": [
       "2237"
      ]
     },
     "execution_count": 9,
     "metadata": {},
     "output_type": "execute_result"
    }
   ],
   "source": [
    "len(updated_config)"
   ]
  },
  {
   "cell_type": "code",
   "execution_count": 10,
   "metadata": {},
   "outputs": [
    {
     "data": {
      "application/vnd.jupyter.widget-view+json": {
       "model_id": "217e56deb5eb4015a846146a771129d0",
       "version_major": 2,
       "version_minor": 0
      },
      "text/plain": [
       "Climate models:   0%|          | 0.00/1.00 [00:00<?, ?it/s]"
      ]
     },
     "metadata": {},
     "output_type": "display_data"
    },
    {
     "data": {
      "application/vnd.jupyter.widget-view+json": {
       "model_id": "f002428d5a104e5b8a8a5d7af9cc80b1",
       "version_major": 2,
       "version_minor": 0
      },
      "text/plain": [
       "Creating FaIR emissions inputs:   0%|          | 0.00/8.00 [00:00<?, ?it/s]"
      ]
     },
     "metadata": {},
     "output_type": "display_data"
    }
   ],
   "source": [
    "# need parallel FaIR in openscm-runner\n",
    "\n",
    "x = run(\n",
    "    climate_models_cfgs={\n",
    "        \"FAIR\": config_list,\n",
    "    },\n",
    "    scenarios=df_fair,\n",
    "    output_variables=(\n",
    "        \"Surface Air Temperature Change\",\n",
    "        \"Surface Air Ocean Blended Temperature Change\",\n",
    "        \"Effective Radiative Forcing\",\n",
    "        \"Effective Radiative Forcing|Volcanic\",\n",
    "        \"Effective Radiative Forcing|Solar\",\n",
    "        \"Effective Radiative Forcing|Anthropogenic\",\n",
    "    ),\n",
    ")"
   ]
  },
  {
   "cell_type": "code",
   "execution_count": 11,
   "metadata": {},
   "outputs": [],
   "source": [
    "# convert to ScmRun for better plotting functionality\n",
    "x = ScmRun(x.timeseries())"
   ]
  },
  {
   "cell_type": "code",
   "execution_count": 12,
   "metadata": {},
   "outputs": [
    {
     "data": {
      "text/html": [
       "<div>\n",
       "<style scoped>\n",
       "    .dataframe tbody tr th:only-of-type {\n",
       "        vertical-align: middle;\n",
       "    }\n",
       "\n",
       "    .dataframe tbody tr th {\n",
       "        vertical-align: top;\n",
       "    }\n",
       "\n",
       "    .dataframe thead th {\n",
       "        text-align: right;\n",
       "    }\n",
       "</style>\n",
       "<table border=\"1\" class=\"dataframe\">\n",
       "  <thead>\n",
       "    <tr style=\"text-align: right;\">\n",
       "      <th></th>\n",
       "      <th></th>\n",
       "      <th></th>\n",
       "      <th></th>\n",
       "      <th></th>\n",
       "      <th></th>\n",
       "      <th>time</th>\n",
       "      <th>1750-01-01</th>\n",
       "      <th>1751-01-01</th>\n",
       "      <th>1752-01-01</th>\n",
       "      <th>1753-01-01</th>\n",
       "      <th>1754-01-01</th>\n",
       "      <th>1755-01-01</th>\n",
       "      <th>1756-01-01</th>\n",
       "      <th>1757-01-01</th>\n",
       "      <th>1758-01-01</th>\n",
       "      <th>1759-01-01</th>\n",
       "      <th>...</th>\n",
       "      <th>2091-01-01</th>\n",
       "      <th>2092-01-01</th>\n",
       "      <th>2093-01-01</th>\n",
       "      <th>2094-01-01</th>\n",
       "      <th>2095-01-01</th>\n",
       "      <th>2096-01-01</th>\n",
       "      <th>2097-01-01</th>\n",
       "      <th>2098-01-01</th>\n",
       "      <th>2099-01-01</th>\n",
       "      <th>2100-01-01</th>\n",
       "    </tr>\n",
       "    <tr>\n",
       "      <th>climate_model</th>\n",
       "      <th>model</th>\n",
       "      <th>region</th>\n",
       "      <th>run_id</th>\n",
       "      <th>scenario</th>\n",
       "      <th>unit</th>\n",
       "      <th>variable</th>\n",
       "      <th></th>\n",
       "      <th></th>\n",
       "      <th></th>\n",
       "      <th></th>\n",
       "      <th></th>\n",
       "      <th></th>\n",
       "      <th></th>\n",
       "      <th></th>\n",
       "      <th></th>\n",
       "      <th></th>\n",
       "      <th></th>\n",
       "      <th></th>\n",
       "      <th></th>\n",
       "      <th></th>\n",
       "      <th></th>\n",
       "      <th></th>\n",
       "      <th></th>\n",
       "      <th></th>\n",
       "      <th></th>\n",
       "      <th></th>\n",
       "      <th></th>\n",
       "    </tr>\n",
       "  </thead>\n",
       "  <tbody>\n",
       "    <tr>\n",
       "      <th rowspan=\"5\" valign=\"top\">FaIRv1.6.2</th>\n",
       "      <th rowspan=\"5\" valign=\"top\">REMIND-MAGPIE</th>\n",
       "      <th rowspan=\"5\" valign=\"top\">World</th>\n",
       "      <th rowspan=\"5\" valign=\"top\">17895</th>\n",
       "      <th rowspan=\"5\" valign=\"top\">ssp585</th>\n",
       "      <th>K</th>\n",
       "      <th>Surface Air Ocean Blended Temperature Change</th>\n",
       "      <td>0.028903</td>\n",
       "      <td>0.050731</td>\n",
       "      <td>0.065179</td>\n",
       "      <td>0.073775</td>\n",
       "      <td>0.077560</td>\n",
       "      <td>0.076799</td>\n",
       "      <td>0.060437</td>\n",
       "      <td>0.042806</td>\n",
       "      <td>0.043230</td>\n",
       "      <td>0.053925</td>\n",
       "      <td>...</td>\n",
       "      <td>4.168602</td>\n",
       "      <td>4.213313</td>\n",
       "      <td>4.257409</td>\n",
       "      <td>4.298854</td>\n",
       "      <td>4.337784</td>\n",
       "      <td>4.374638</td>\n",
       "      <td>4.410201</td>\n",
       "      <td>4.445228</td>\n",
       "      <td>4.480487</td>\n",
       "      <td>4.517100</td>\n",
       "    </tr>\n",
       "    <tr>\n",
       "      <th rowspan=\"4\" valign=\"top\">W/m**2</th>\n",
       "      <th>Effective Radiative Forcing</th>\n",
       "      <td>0.322464</td>\n",
       "      <td>0.278080</td>\n",
       "      <td>0.241880</td>\n",
       "      <td>0.203167</td>\n",
       "      <td>0.167197</td>\n",
       "      <td>0.116269</td>\n",
       "      <td>-0.176797</td>\n",
       "      <td>0.008617</td>\n",
       "      <td>0.158427</td>\n",
       "      <td>0.241252</td>\n",
       "      <td>...</td>\n",
       "      <td>7.838319</td>\n",
       "      <td>7.926747</td>\n",
       "      <td>7.978129</td>\n",
       "      <td>8.017832</td>\n",
       "      <td>8.061277</td>\n",
       "      <td>8.101148</td>\n",
       "      <td>8.153433</td>\n",
       "      <td>8.205477</td>\n",
       "      <td>8.272270</td>\n",
       "      <td>8.350262</td>\n",
       "    </tr>\n",
       "    <tr>\n",
       "      <th>Effective Radiative Forcing|Volcanic</th>\n",
       "      <td>0.227682</td>\n",
       "      <td>0.227696</td>\n",
       "      <td>0.227700</td>\n",
       "      <td>0.227702</td>\n",
       "      <td>0.227702</td>\n",
       "      <td>0.196998</td>\n",
       "      <td>-0.088433</td>\n",
       "      <td>0.075543</td>\n",
       "      <td>0.174501</td>\n",
       "      <td>0.209737</td>\n",
       "      <td>...</td>\n",
       "      <td>0.000000</td>\n",
       "      <td>0.000000</td>\n",
       "      <td>0.000000</td>\n",
       "      <td>0.000000</td>\n",
       "      <td>0.000000</td>\n",
       "      <td>0.000000</td>\n",
       "      <td>0.000000</td>\n",
       "      <td>0.000000</td>\n",
       "      <td>0.000000</td>\n",
       "      <td>0.000000</td>\n",
       "    </tr>\n",
       "    <tr>\n",
       "      <th>Effective Radiative Forcing|Solar</th>\n",
       "      <td>0.094167</td>\n",
       "      <td>0.076511</td>\n",
       "      <td>0.047536</td>\n",
       "      <td>0.012675</td>\n",
       "      <td>-0.020485</td>\n",
       "      <td>-0.044056</td>\n",
       "      <td>-0.051325</td>\n",
       "      <td>-0.032807</td>\n",
       "      <td>0.016796</td>\n",
       "      <td>0.065571</td>\n",
       "      <td>...</td>\n",
       "      <td>0.038849</td>\n",
       "      <td>0.064437</td>\n",
       "      <td>0.053860</td>\n",
       "      <td>0.032374</td>\n",
       "      <td>0.015319</td>\n",
       "      <td>-0.004619</td>\n",
       "      <td>-0.011427</td>\n",
       "      <td>-0.017753</td>\n",
       "      <td>-0.008580</td>\n",
       "      <td>0.012556</td>\n",
       "    </tr>\n",
       "    <tr>\n",
       "      <th>Effective Radiative Forcing|Anthropogenic</th>\n",
       "      <td>0.000677</td>\n",
       "      <td>-0.029470</td>\n",
       "      <td>-0.038743</td>\n",
       "      <td>-0.040492</td>\n",
       "      <td>-0.038089</td>\n",
       "      <td>-0.037536</td>\n",
       "      <td>-0.039868</td>\n",
       "      <td>-0.030295</td>\n",
       "      <td>-0.031428</td>\n",
       "      <td>-0.031711</td>\n",
       "      <td>...</td>\n",
       "      <td>8.114237</td>\n",
       "      <td>8.173726</td>\n",
       "      <td>8.232256</td>\n",
       "      <td>8.289955</td>\n",
       "      <td>8.346897</td>\n",
       "      <td>8.403077</td>\n",
       "      <td>8.458461</td>\n",
       "      <td>8.513060</td>\n",
       "      <td>8.566835</td>\n",
       "      <td>8.619772</td>\n",
       "    </tr>\n",
       "  </tbody>\n",
       "</table>\n",
       "<p>5 rows × 351 columns</p>\n",
       "</div>"
      ],
      "text/plain": [
       "time                                                                                                    1750-01-01  \\\n",
       "climate_model model         region run_id scenario unit   variable                                                   \n",
       "FaIRv1.6.2    REMIND-MAGPIE World  17895  ssp585   K      Surface Air Ocean Blended Temperature Change    0.028903   \n",
       "                                                   W/m**2 Effective Radiative Forcing                     0.322464   \n",
       "                                                          Effective Radiative Forcing|Volcanic            0.227682   \n",
       "                                                          Effective Radiative Forcing|Solar               0.094167   \n",
       "                                                          Effective Radiative Forcing|Anthropogenic       0.000677   \n",
       "\n",
       "time                                                                                                    1751-01-01  \\\n",
       "climate_model model         region run_id scenario unit   variable                                                   \n",
       "FaIRv1.6.2    REMIND-MAGPIE World  17895  ssp585   K      Surface Air Ocean Blended Temperature Change    0.050731   \n",
       "                                                   W/m**2 Effective Radiative Forcing                     0.278080   \n",
       "                                                          Effective Radiative Forcing|Volcanic            0.227696   \n",
       "                                                          Effective Radiative Forcing|Solar               0.076511   \n",
       "                                                          Effective Radiative Forcing|Anthropogenic      -0.029470   \n",
       "\n",
       "time                                                                                                    1752-01-01  \\\n",
       "climate_model model         region run_id scenario unit   variable                                                   \n",
       "FaIRv1.6.2    REMIND-MAGPIE World  17895  ssp585   K      Surface Air Ocean Blended Temperature Change    0.065179   \n",
       "                                                   W/m**2 Effective Radiative Forcing                     0.241880   \n",
       "                                                          Effective Radiative Forcing|Volcanic            0.227700   \n",
       "                                                          Effective Radiative Forcing|Solar               0.047536   \n",
       "                                                          Effective Radiative Forcing|Anthropogenic      -0.038743   \n",
       "\n",
       "time                                                                                                    1753-01-01  \\\n",
       "climate_model model         region run_id scenario unit   variable                                                   \n",
       "FaIRv1.6.2    REMIND-MAGPIE World  17895  ssp585   K      Surface Air Ocean Blended Temperature Change    0.073775   \n",
       "                                                   W/m**2 Effective Radiative Forcing                     0.203167   \n",
       "                                                          Effective Radiative Forcing|Volcanic            0.227702   \n",
       "                                                          Effective Radiative Forcing|Solar               0.012675   \n",
       "                                                          Effective Radiative Forcing|Anthropogenic      -0.040492   \n",
       "\n",
       "time                                                                                                    1754-01-01  \\\n",
       "climate_model model         region run_id scenario unit   variable                                                   \n",
       "FaIRv1.6.2    REMIND-MAGPIE World  17895  ssp585   K      Surface Air Ocean Blended Temperature Change    0.077560   \n",
       "                                                   W/m**2 Effective Radiative Forcing                     0.167197   \n",
       "                                                          Effective Radiative Forcing|Volcanic            0.227702   \n",
       "                                                          Effective Radiative Forcing|Solar              -0.020485   \n",
       "                                                          Effective Radiative Forcing|Anthropogenic      -0.038089   \n",
       "\n",
       "time                                                                                                    1755-01-01  \\\n",
       "climate_model model         region run_id scenario unit   variable                                                   \n",
       "FaIRv1.6.2    REMIND-MAGPIE World  17895  ssp585   K      Surface Air Ocean Blended Temperature Change    0.076799   \n",
       "                                                   W/m**2 Effective Radiative Forcing                     0.116269   \n",
       "                                                          Effective Radiative Forcing|Volcanic            0.196998   \n",
       "                                                          Effective Radiative Forcing|Solar              -0.044056   \n",
       "                                                          Effective Radiative Forcing|Anthropogenic      -0.037536   \n",
       "\n",
       "time                                                                                                    1756-01-01  \\\n",
       "climate_model model         region run_id scenario unit   variable                                                   \n",
       "FaIRv1.6.2    REMIND-MAGPIE World  17895  ssp585   K      Surface Air Ocean Blended Temperature Change    0.060437   \n",
       "                                                   W/m**2 Effective Radiative Forcing                    -0.176797   \n",
       "                                                          Effective Radiative Forcing|Volcanic           -0.088433   \n",
       "                                                          Effective Radiative Forcing|Solar              -0.051325   \n",
       "                                                          Effective Radiative Forcing|Anthropogenic      -0.039868   \n",
       "\n",
       "time                                                                                                    1757-01-01  \\\n",
       "climate_model model         region run_id scenario unit   variable                                                   \n",
       "FaIRv1.6.2    REMIND-MAGPIE World  17895  ssp585   K      Surface Air Ocean Blended Temperature Change    0.042806   \n",
       "                                                   W/m**2 Effective Radiative Forcing                     0.008617   \n",
       "                                                          Effective Radiative Forcing|Volcanic            0.075543   \n",
       "                                                          Effective Radiative Forcing|Solar              -0.032807   \n",
       "                                                          Effective Radiative Forcing|Anthropogenic      -0.030295   \n",
       "\n",
       "time                                                                                                    1758-01-01  \\\n",
       "climate_model model         region run_id scenario unit   variable                                                   \n",
       "FaIRv1.6.2    REMIND-MAGPIE World  17895  ssp585   K      Surface Air Ocean Blended Temperature Change    0.043230   \n",
       "                                                   W/m**2 Effective Radiative Forcing                     0.158427   \n",
       "                                                          Effective Radiative Forcing|Volcanic            0.174501   \n",
       "                                                          Effective Radiative Forcing|Solar               0.016796   \n",
       "                                                          Effective Radiative Forcing|Anthropogenic      -0.031428   \n",
       "\n",
       "time                                                                                                    1759-01-01  \\\n",
       "climate_model model         region run_id scenario unit   variable                                                   \n",
       "FaIRv1.6.2    REMIND-MAGPIE World  17895  ssp585   K      Surface Air Ocean Blended Temperature Change    0.053925   \n",
       "                                                   W/m**2 Effective Radiative Forcing                     0.241252   \n",
       "                                                          Effective Radiative Forcing|Volcanic            0.209737   \n",
       "                                                          Effective Radiative Forcing|Solar               0.065571   \n",
       "                                                          Effective Radiative Forcing|Anthropogenic      -0.031711   \n",
       "\n",
       "time                                                                                                    ...  \\\n",
       "climate_model model         region run_id scenario unit   variable                                      ...   \n",
       "FaIRv1.6.2    REMIND-MAGPIE World  17895  ssp585   K      Surface Air Ocean Blended Temperature Change  ...   \n",
       "                                                   W/m**2 Effective Radiative Forcing                   ...   \n",
       "                                                          Effective Radiative Forcing|Volcanic          ...   \n",
       "                                                          Effective Radiative Forcing|Solar             ...   \n",
       "                                                          Effective Radiative Forcing|Anthropogenic     ...   \n",
       "\n",
       "time                                                                                                    2091-01-01  \\\n",
       "climate_model model         region run_id scenario unit   variable                                                   \n",
       "FaIRv1.6.2    REMIND-MAGPIE World  17895  ssp585   K      Surface Air Ocean Blended Temperature Change    4.168602   \n",
       "                                                   W/m**2 Effective Radiative Forcing                     7.838319   \n",
       "                                                          Effective Radiative Forcing|Volcanic            0.000000   \n",
       "                                                          Effective Radiative Forcing|Solar               0.038849   \n",
       "                                                          Effective Radiative Forcing|Anthropogenic       8.114237   \n",
       "\n",
       "time                                                                                                    2092-01-01  \\\n",
       "climate_model model         region run_id scenario unit   variable                                                   \n",
       "FaIRv1.6.2    REMIND-MAGPIE World  17895  ssp585   K      Surface Air Ocean Blended Temperature Change    4.213313   \n",
       "                                                   W/m**2 Effective Radiative Forcing                     7.926747   \n",
       "                                                          Effective Radiative Forcing|Volcanic            0.000000   \n",
       "                                                          Effective Radiative Forcing|Solar               0.064437   \n",
       "                                                          Effective Radiative Forcing|Anthropogenic       8.173726   \n",
       "\n",
       "time                                                                                                    2093-01-01  \\\n",
       "climate_model model         region run_id scenario unit   variable                                                   \n",
       "FaIRv1.6.2    REMIND-MAGPIE World  17895  ssp585   K      Surface Air Ocean Blended Temperature Change    4.257409   \n",
       "                                                   W/m**2 Effective Radiative Forcing                     7.978129   \n",
       "                                                          Effective Radiative Forcing|Volcanic            0.000000   \n",
       "                                                          Effective Radiative Forcing|Solar               0.053860   \n",
       "                                                          Effective Radiative Forcing|Anthropogenic       8.232256   \n",
       "\n",
       "time                                                                                                    2094-01-01  \\\n",
       "climate_model model         region run_id scenario unit   variable                                                   \n",
       "FaIRv1.6.2    REMIND-MAGPIE World  17895  ssp585   K      Surface Air Ocean Blended Temperature Change    4.298854   \n",
       "                                                   W/m**2 Effective Radiative Forcing                     8.017832   \n",
       "                                                          Effective Radiative Forcing|Volcanic            0.000000   \n",
       "                                                          Effective Radiative Forcing|Solar               0.032374   \n",
       "                                                          Effective Radiative Forcing|Anthropogenic       8.289955   \n",
       "\n",
       "time                                                                                                    2095-01-01  \\\n",
       "climate_model model         region run_id scenario unit   variable                                                   \n",
       "FaIRv1.6.2    REMIND-MAGPIE World  17895  ssp585   K      Surface Air Ocean Blended Temperature Change    4.337784   \n",
       "                                                   W/m**2 Effective Radiative Forcing                     8.061277   \n",
       "                                                          Effective Radiative Forcing|Volcanic            0.000000   \n",
       "                                                          Effective Radiative Forcing|Solar               0.015319   \n",
       "                                                          Effective Radiative Forcing|Anthropogenic       8.346897   \n",
       "\n",
       "time                                                                                                    2096-01-01  \\\n",
       "climate_model model         region run_id scenario unit   variable                                                   \n",
       "FaIRv1.6.2    REMIND-MAGPIE World  17895  ssp585   K      Surface Air Ocean Blended Temperature Change    4.374638   \n",
       "                                                   W/m**2 Effective Radiative Forcing                     8.101148   \n",
       "                                                          Effective Radiative Forcing|Volcanic            0.000000   \n",
       "                                                          Effective Radiative Forcing|Solar              -0.004619   \n",
       "                                                          Effective Radiative Forcing|Anthropogenic       8.403077   \n",
       "\n",
       "time                                                                                                    2097-01-01  \\\n",
       "climate_model model         region run_id scenario unit   variable                                                   \n",
       "FaIRv1.6.2    REMIND-MAGPIE World  17895  ssp585   K      Surface Air Ocean Blended Temperature Change    4.410201   \n",
       "                                                   W/m**2 Effective Radiative Forcing                     8.153433   \n",
       "                                                          Effective Radiative Forcing|Volcanic            0.000000   \n",
       "                                                          Effective Radiative Forcing|Solar              -0.011427   \n",
       "                                                          Effective Radiative Forcing|Anthropogenic       8.458461   \n",
       "\n",
       "time                                                                                                    2098-01-01  \\\n",
       "climate_model model         region run_id scenario unit   variable                                                   \n",
       "FaIRv1.6.2    REMIND-MAGPIE World  17895  ssp585   K      Surface Air Ocean Blended Temperature Change    4.445228   \n",
       "                                                   W/m**2 Effective Radiative Forcing                     8.205477   \n",
       "                                                          Effective Radiative Forcing|Volcanic            0.000000   \n",
       "                                                          Effective Radiative Forcing|Solar              -0.017753   \n",
       "                                                          Effective Radiative Forcing|Anthropogenic       8.513060   \n",
       "\n",
       "time                                                                                                    2099-01-01  \\\n",
       "climate_model model         region run_id scenario unit   variable                                                   \n",
       "FaIRv1.6.2    REMIND-MAGPIE World  17895  ssp585   K      Surface Air Ocean Blended Temperature Change    4.480487   \n",
       "                                                   W/m**2 Effective Radiative Forcing                     8.272270   \n",
       "                                                          Effective Radiative Forcing|Volcanic            0.000000   \n",
       "                                                          Effective Radiative Forcing|Solar              -0.008580   \n",
       "                                                          Effective Radiative Forcing|Anthropogenic       8.566835   \n",
       "\n",
       "time                                                                                                    2100-01-01  \n",
       "climate_model model         region run_id scenario unit   variable                                                  \n",
       "FaIRv1.6.2    REMIND-MAGPIE World  17895  ssp585   K      Surface Air Ocean Blended Temperature Change    4.517100  \n",
       "                                                   W/m**2 Effective Radiative Forcing                     8.350262  \n",
       "                                                          Effective Radiative Forcing|Volcanic            0.000000  \n",
       "                                                          Effective Radiative Forcing|Solar               0.012556  \n",
       "                                                          Effective Radiative Forcing|Anthropogenic       8.619772  \n",
       "\n",
       "[5 rows x 351 columns]"
      ]
     },
     "execution_count": 12,
     "metadata": {},
     "output_type": "execute_result"
    }
   ],
   "source": [
    "x.tail()"
   ]
  },
  {
   "cell_type": "code",
   "execution_count": 13,
   "metadata": {},
   "outputs": [
    {
     "data": {
      "image/png": "[encoded data removed]",
      "text/plain": [
       "<Figure size 432x288 with 1 Axes>"
      ]
     },
     "metadata": {
      "needs_background": "light"
     },
     "output_type": "display_data"
    }
   ],
   "source": [
    "anthro = x.filter(variable='Effective Radiative Forcing|Anthropogenic').values.T\n",
    "solar = x.filter(variable='Effective Radiative Forcing|Solar').values.T\n",
    "volcanic = x.filter(variable='Effective Radiative Forcing|Volcanic').values.T\n",
    "total = x.filter(variable='Effective Radiative Forcing').values.T\n",
    "plt.plot(total-solar-volcanic-anthro); # should be zero"
   ]
  },
  {
   "cell_type": "code",
   "execution_count": null,
   "metadata": {},
   "outputs": [],
   "source": [
    "from scmdata.plotting import RCMIP_SCENARIO_COLOURS\n",
    "\n",
    "plt.rcParams['font.size'] = 14\n",
    "ax = plt.figure(figsize=(12, 7)).add_subplot(111)\n",
    "\n",
    "x.filter(variable=\"Surface Air Temperature Change\").relative_to_ref_period_mean(year=range(1850,1900)).lineplot(\n",
    "    hue=\"scenario\",\n",
    "    ax=ax,\n",
    "    time_axis=\"year\",\n",
    "    palette=RCMIP_SCENARIO_COLOURS,\n",
    "    hue_order=RCMIP_SCENARIO_COLOURS.keys(),\n",
    ")\n",
    "ax.set_xlim(1850,2100)\n",
    "#ax.axhline(0, color='k', ls=':')\n",
    "ax.grid()\n",
    "ax.set_title('SSP projections with FaIR: 1850-2100')\n",
    "plt.tight_layout()"
   ]
  },
  {
   "cell_type": "code",
   "execution_count": null,
   "metadata": {},
   "outputs": [],
   "source": []
  }
 ],
 "metadata": {
  "kernelspec": {
   "display_name": "Python 3",
   "language": "python",
   "name": "python3"
  },
  "language_info": {
   "codemirror_mode": {
    "name": "ipython",
    "version": 3
   },
   "file_extension": ".py",
   "mimetype": "text/x-python",
   "name": "python",
   "nbconvert_exporter": "python",
   "pygments_lexer": "ipython3",
   "version": "3.7.9"
  }
 },
 "nbformat": 4,
 "nbformat_minor": 4
}
