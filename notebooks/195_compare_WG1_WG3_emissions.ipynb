{
 "cells": [
  {
   "cell_type": "markdown",
   "id": "8d24c98c",
   "metadata": {},
   "source": [
    "# Compare WG1 and WG3 historical emissions driven runs\n",
    "\n",
    "- Working Group 1: 1750-2019 CEDS version 2020-09-11 for fossil and industrial, VUA historical + SSP2-4.5 for biomass burning\n",
    "- Working Group 3: 1750-2014 CEDS version from Hoesly et al. (2018), VUA historical\n",
    "\n",
    "Theme Song: Stained Silver<br>\n",
    "Artist: Cave In<br>\n",
    "Album: Antenna<br>\n",
    "Released: 2003"
   ]
  },
  {
   "cell_type": "code",
   "execution_count": 1,
   "id": "d3fdbcb4",
   "metadata": {},
   "outputs": [
    {
     "data": {
      "application/javascript": [
       "IPython.OutputArea.prototype._should_scroll = function(lines) { return false; }"
      ],
      "text/plain": [
       "<IPython.core.display.Javascript object>"
      ]
     },
     "metadata": {},
     "output_type": "display_data"
    }
   ],
   "source": [
    "import json\n",
    "import numpy as np\n",
    "from fair.constants import molwt\n",
    "from scipy.interpolate import interp1d\n",
    "from scipy.optimize import curve_fit\n",
    "import scipy.stats as st\n",
    "import pandas as pd\n",
    "from tqdm.notebook import tqdm\n",
    "from multiprocessing import Pool\n",
    "import random\n",
    "import os\n",
    "import copy\n",
    "\n",
    "from ar6.utils import check_and_download, mkdir_p\n",
    "from ar6.utils.statistics import weighted_percentile\n",
    "from ar6.utils.h5 import *\n",
    "from ar6.forcing.aerosol import ghan, aerocom_n\n",
    "from ar6.forcing.ozone import eesc\n",
    "from ar6.constants.gases import rcmip_to_ghg_names, ghg_to_rcmip_names, ods_species, radeff\n",
    "from ar6.constants import NINETY_TO_ONESIGMA\n",
    "\n",
    "from ar6.twolayermodel import TwoLayerModel\n",
    "\n",
    "import datetime as dt\n",
    "import scmdata\n",
    "import matplotlib.pyplot as pl\n",
    "import json\n",
    "import fair\n",
    "\n",
    "from scmdata.plotting import RCMIP_SCENARIO_COLOURS"
   ]
  },
  {
   "cell_type": "code",
   "execution_count": 2,
   "id": "14078c4f",
   "metadata": {},
   "outputs": [],
   "source": [
    "with open('../data_output_large/fair-samples/fair-1.6.2-wg3-params.json') as f:\n",
    "    config_list = json.load(f)"
   ]
  },
  {
   "cell_type": "code",
   "execution_count": 3,
   "id": "3914878c",
   "metadata": {},
   "outputs": [],
   "source": [
    "scenarios = ['ssp119','ssp126','ssp245','ssp370']"
   ]
  },
  {
   "cell_type": "code",
   "execution_count": 4,
   "id": "177eb6b3",
   "metadata": {},
   "outputs": [
    {
     "data": {
      "application/vnd.jupyter.widget-view+json": {
       "model_id": "4b2d9f6c7aa24800afe0544dfd60a1ab",
       "version_major": 2,
       "version_minor": 0
      },
      "text/plain": [
       "  0%|          | 0/4 [00:00<?, ?it/s]"
      ]
     },
     "metadata": {},
     "output_type": "display_data"
    }
   ],
   "source": [
    "emissions = pd.read_csv('../data_input_large/rcmip-emissions-annual-means-v5-1-0.csv')\n",
    "df_emissions = pd.concat([emissions.loc[(\n",
    "        (emissions.Variable=='Emissions|BC')|\n",
    "        (emissions.Variable=='Emissions|OC')|\n",
    "        (emissions.Variable=='Emissions|Sulfur')|\n",
    "        (emissions.Variable=='Emissions|NOx')|\n",
    "        (emissions.Variable=='Emissions|NH3')|\n",
    "        (emissions.Variable=='Emissions|VOC')|\n",
    "        (emissions.Variable=='Emissions|CO')\n",
    "    ) & (emissions.Scenario=='ssp245') & (emissions.Region=='World'), 'Variable'], emissions.loc[(\n",
    "        (emissions.Variable=='Emissions|BC')|\n",
    "        (emissions.Variable=='Emissions|OC')|\n",
    "        (emissions.Variable=='Emissions|Sulfur')|\n",
    "        (emissions.Variable=='Emissions|NOx')|\n",
    "        (emissions.Variable=='Emissions|NH3')|\n",
    "        (emissions.Variable=='Emissions|VOC')|\n",
    "        (emissions.Variable=='Emissions|CO')\n",
    "    ) & (emissions.Scenario=='ssp245') & (emissions.Region=='World'), '1750':'2100']], axis=1)#.interpolate(axis=1).T\n",
    "df_emissions.set_index('Variable', inplace=True)\n",
    "df_emissions = df_emissions.interpolate(axis=1).T\n",
    "df_emissions.rename(\n",
    "    columns={\n",
    "        'Emissions|BC': 'BC',\n",
    "        'Emissions|OC': 'OC',\n",
    "        'Emissions|Sulfur': 'SO2',\n",
    "        'Emissions|NOx': 'NOx',\n",
    "        'Emissions|NH3': 'NH3',\n",
    "        'Emissions|VOC': 'VOC',\n",
    "        'Emissions|CO': 'CO'\n",
    "    }, inplace=True\n",
    ")\n",
    "# only keep cols we want\n",
    "emissions = df_emissions[['SO2', 'BC', 'OC', 'NH3', 'NOx', 'VOC', 'CO']]\n",
    "emissions.index = emissions.index.astype('int')\n",
    "emissions.index.name='year'\n",
    "emissions.columns.name=None\n",
    "\n",
    "emissions_ceds_update = emissions.copy()\n",
    "\n",
    "emissions_old = pd.read_csv('../data_input_large/rcmip-emissions-annual-means-v5-1-0.csv')\n",
    "df_emissions = pd.concat([emissions_old.loc[(\n",
    "        (emissions_old.Variable=='Emissions|BC|MAGICC Fossil and Industrial')|\n",
    "        (emissions_old.Variable=='Emissions|OC|MAGICC Fossil and Industrial')|\n",
    "        (emissions_old.Variable=='Emissions|Sulfur|MAGICC Fossil and Industrial')|\n",
    "        (emissions_old.Variable=='Emissions|NOx|MAGICC Fossil and Industrial')|\n",
    "        (emissions_old.Variable=='Emissions|NH3|MAGICC Fossil and Industrial')|\n",
    "        (emissions_old.Variable=='Emissions|VOC|MAGICC Fossil and Industrial')|\n",
    "        (emissions_old.Variable=='Emissions|CO|MAGICC Fossil and Industrial')|\n",
    "        (emissions_old.Variable=='Emissions|BC|MAGICC AFOLU|Agriculture')|\n",
    "        (emissions_old.Variable=='Emissions|OC|MAGICC AFOLU|Agriculture')|\n",
    "        (emissions_old.Variable=='Emissions|Sulfur|MAGICC AFOLU|Agriculture')|\n",
    "        (emissions_old.Variable=='Emissions|NOx|MAGICC AFOLU|Agriculture')|\n",
    "        (emissions_old.Variable=='Emissions|NH3|MAGICC AFOLU|Agriculture')|\n",
    "        (emissions_old.Variable=='Emissions|VOC|MAGICC AFOLU|Agriculture')|\n",
    "        (emissions_old.Variable=='Emissions|CO|MAGICC AFOLU|Agriculture')\n",
    "    ) & (emissions_old.Scenario=='ssp245') & (emissions_old.Region=='World'), 'Variable'], emissions_old.loc[(\n",
    "        (emissions_old.Variable=='Emissions|BC|MAGICC Fossil and Industrial')|\n",
    "        (emissions_old.Variable=='Emissions|OC|MAGICC Fossil and Industrial')|\n",
    "        (emissions_old.Variable=='Emissions|Sulfur|MAGICC Fossil and Industrial')|\n",
    "        (emissions_old.Variable=='Emissions|NOx|MAGICC Fossil and Industrial')|\n",
    "        (emissions_old.Variable=='Emissions|NH3|MAGICC Fossil and Industrial')|\n",
    "        (emissions_old.Variable=='Emissions|VOC|MAGICC Fossil and Industrial')|\n",
    "        (emissions_old.Variable=='Emissions|CO|MAGICC Fossil and Industrial')|\n",
    "        (emissions_old.Variable=='Emissions|BC|MAGICC AFOLU|Agriculture')|\n",
    "        (emissions_old.Variable=='Emissions|OC|MAGICC AFOLU|Agriculture')|\n",
    "        (emissions_old.Variable=='Emissions|Sulfur|MAGICC AFOLU|Agriculture')|\n",
    "        (emissions_old.Variable=='Emissions|NOx|MAGICC AFOLU|Agriculture')|\n",
    "        (emissions_old.Variable=='Emissions|NH3|MAGICC AFOLU|Agriculture')|\n",
    "        (emissions_old.Variable=='Emissions|VOC|MAGICC AFOLU|Agriculture')|\n",
    "        (emissions_old.Variable=='Emissions|CO|MAGICC AFOLU|Agriculture')\n",
    "    ) & (emissions_old.Scenario=='ssp245') & (emissions_old.Region=='World'), '1750':'2100']], axis=1)#.interpolate(axis=1).T\n",
    "df_emissions.set_index('Variable', inplace=True)\n",
    "df_emissions = df_emissions.interpolate(axis=1).T\n",
    "for species in ['BC', 'OC', 'Sulfur', 'NOx', 'NH3', 'VOC', 'CO']:\n",
    "    df_emissions[species] = df_emissions['Emissions|{}|MAGICC Fossil and Industrial'.format(species)] + df_emissions['Emissions|{}|MAGICC AFOLU|Agriculture'.format(species)]\n",
    "df_emissions.rename(columns = {'Sulfur': 'SO2'}, inplace=True)\n",
    "df_emissions.drop(columns=[\n",
    "        'Emissions|BC|MAGICC Fossil and Industrial',\n",
    "        'Emissions|OC|MAGICC Fossil and Industrial',\n",
    "        'Emissions|Sulfur|MAGICC Fossil and Industrial',\n",
    "        'Emissions|NOx|MAGICC Fossil and Industrial',\n",
    "        'Emissions|NH3|MAGICC Fossil and Industrial',\n",
    "        'Emissions|VOC|MAGICC Fossil and Industrial',\n",
    "        'Emissions|CO|MAGICC Fossil and Industrial',\n",
    "        'Emissions|BC|MAGICC AFOLU|Agriculture',\n",
    "        'Emissions|OC|MAGICC AFOLU|Agriculture',\n",
    "        'Emissions|Sulfur|MAGICC AFOLU|Agriculture',\n",
    "        'Emissions|NOx|MAGICC AFOLU|Agriculture',\n",
    "        'Emissions|NH3|MAGICC AFOLU|Agriculture',\n",
    "        'Emissions|VOC|MAGICC AFOLU|Agriculture',\n",
    "        'Emissions|CO|MAGICC AFOLU|Agriculture',\n",
    "    ],\n",
    "    inplace=True\n",
    ")\n",
    "df_emissions.index = emissions.index.astype('int')\n",
    "df_emissions.index.name='year'\n",
    "df_emissions.columns.name=None\n",
    "\n",
    "global_total = {}\n",
    "for species in ['BC', 'OC', 'SO2', 'NH3', 'NOx', 'NMVOC', 'CO']:\n",
    "    df = pd.read_csv('../data_input_large/CEDS_v_2020_09_11_emissions/{}_global_CEDS_emissions_by_sector_2020_09_11.csv'.format(species))\n",
    "    global_total[species] = df.sum(axis=0).values[3:].astype(float) / 1000 # yes could get openscm on this\n",
    "    #unit = df.units[0]\n",
    "    #print(unit)\n",
    "global_total['VOC'] = global_total['NMVOC']\n",
    "new_ceds = pd.DataFrame(global_total)\n",
    "new_ceds.index = np.arange(1750,2020)\n",
    "new_ceds.index = new_ceds.index.astype('int')\n",
    "new_ceds.index.name='year'\n",
    "new_ceds.columns.name=None\n",
    "emissions_ceds_update = new_ceds.loc[1750:2020] + emissions - df_emissions\n",
    "emissions_ceds_update.drop(index=range(2020,2101), inplace=True)\n",
    "emissions_ceds_update\n",
    "#new_ceds\n",
    "\n",
    "emissions = pd.read_csv('../data_input_large/rcmip-emissions-annual-means-v5-1-0.csv')\n",
    "new_emissions = {}\n",
    "for scenario in tqdm(scenarios):\n",
    "    bc = emissions.loc[(emissions['Scenario']==scenario)&(emissions['Region']=='World')&(emissions['Variable']=='Emissions|BC'),'1750':'2500'].interpolate(axis=1, pad=True).values.squeeze()\n",
    "    oc = emissions.loc[(emissions['Scenario']==scenario)&(emissions['Region']=='World')&(emissions['Variable']=='Emissions|OC'),'1750':'2500'].interpolate(axis=1, pad=True).values.squeeze()\n",
    "    so2 = emissions.loc[(emissions['Scenario']==scenario)&(emissions['Region']=='World')&(emissions['Variable']=='Emissions|Sulfur'),'1750':'2500'].interpolate(axis=1, pad=True).values.squeeze()\n",
    "    nh3 = emissions.loc[(emissions['Scenario']==scenario)&(emissions['Region']=='World')&(emissions['Variable']=='Emissions|NH3'),'1750':'2500'].interpolate(axis=1, pad=True).values.squeeze()\n",
    "    nox = emissions.loc[(emissions['Scenario']==scenario)&(emissions['Region']=='World')&(emissions['Variable']=='Emissions|NOx'),'1750':'2500'].interpolate(axis=1, pad=True).values.squeeze()\n",
    "    nmvoc = emissions.loc[(emissions['Scenario']==scenario)&(emissions['Region']=='World')&(emissions['Variable']=='Emissions|VOC'),'1750':'2500'].interpolate(axis=1, pad=True).values.squeeze()\n",
    "    co = emissions.loc[(emissions['Scenario']==scenario)&(emissions['Region']=='World')&(emissions['Variable']=='Emissions|CO'),'1750':'2500'].interpolate(axis=1, pad=True).values.squeeze()\n",
    "    bc[:265] = emissions_ceds_update.loc[1750:2014,'BC'].values\n",
    "    oc[:265] = emissions_ceds_update.loc[1750:2014,'OC'].values\n",
    "    so2[:265] = emissions_ceds_update.loc[1750:2014,'SO2'].values\n",
    "    nh3[:265] = emissions_ceds_update.loc[1750:2014,'NH3'].values\n",
    "    nox[:265] = emissions_ceds_update.loc[1750:2014,'NOx'].values\n",
    "    nmvoc[:265] = emissions_ceds_update.loc[1750:2014,'VOC'].values\n",
    "    co[:265] = emissions_ceds_update.loc[1750:2014,'CO'].values\n",
    "    bc[265:270] = np.linspace(1,0.2,5) * emissions_ceds_update.loc[2015:2019,'BC'].values + np.linspace(0,0.8,5) * bc[265:270]\n",
    "    oc[265:270] = np.linspace(1,0.2,5) * emissions_ceds_update.loc[2015:2019,'OC'].values + np.linspace(0,0.8,5) * oc[265:270]\n",
    "    so2[265:270] = np.linspace(1,0.2,5) * emissions_ceds_update.loc[2015:2019,'SO2'].values + np.linspace(0,0.8,5) * so2[265:270]\n",
    "    nh3[265:270] = np.linspace(1,0.2,5) * emissions_ceds_update.loc[2015:2019,'NH3'].values + np.linspace(0,0.8,5) * nh3[265:270]\n",
    "    nox[265:270] = np.linspace(1,0.2,5) * emissions_ceds_update.loc[2015:2019,'NOx'].values + np.linspace(0,0.8,5) * nox[265:270]\n",
    "    nmvoc[265:270] = np.linspace(1,0.2,5) * emissions_ceds_update.loc[2015:2019,'VOC'].values + np.linspace(0,0.8,5) * nmvoc[265:270]\n",
    "    co[265:270] = np.linspace(1,0.2,5) * emissions_ceds_update.loc[2015:2019,'CO'].values + np.linspace(0,0.8,5) * co[265:270]\n",
    "    \n",
    "    new_emissions[scenario] = pd.DataFrame(\n",
    "    {\n",
    "        'BC': bc,\n",
    "        'OC': oc,\n",
    "        'SO2': so2,\n",
    "        'NH3': nh3,\n",
    "        'NOx': nox,\n",
    "        'VOC': nmvoc,\n",
    "        'CO': co\n",
    "    })"
   ]
  },
  {
   "cell_type": "code",
   "execution_count": 5,
   "id": "1f040ece",
   "metadata": {},
   "outputs": [
    {
     "data": {
      "text/plain": [
       "array([108.52104741, 109.30119381, 108.76746995, 113.46173257,\n",
       "       119.19142914, 124.39730103, 125.64091877, 124.27833608,\n",
       "       120.62499699, 111.76477982, 107.86486206, 109.21403802,\n",
       "       106.71700782, 101.5417518 ,  97.03202669,  91.07615229,\n",
       "        89.07794354,  87.47481964,  86.63576902,  83.77641894,\n",
       "        79.54915731,  75.2398318 ,  70.93050628,  66.62118076,\n",
       "        62.31185525,  58.00252973,  53.69320421,  49.38387869,\n",
       "        45.07455318,  40.76522766,  36.45590214,  35.17257184,\n",
       "        33.88924154,  32.60591124,  31.32258094,  30.03925063,\n",
       "        28.75592033,  27.47259003,  26.18925973,  24.90592943,\n",
       "        23.62259912,  23.42317644,  23.22375375,  23.02433106,\n",
       "        22.82490837,  22.62548569,  22.426063  ,  22.22664031,\n",
       "        22.02721763,  21.82779494,  21.62837225,  21.53253014,\n",
       "        21.43668802,  21.3408459 ,  21.24500379,  21.14916167,\n",
       "        21.05331955,  20.95747744,  20.86163532,  20.76579321,\n",
       "        20.66995109,  20.44359354,  20.217236  ,  19.99087845,\n",
       "        19.76452091,  19.53816336,  19.31180581,  19.08544827,\n",
       "        18.85909072,  18.63273317,  18.40637563,  18.11615122,\n",
       "        17.82592681,  17.5357024 ,  17.24547799,  16.95525358,\n",
       "        16.66502917,  16.37480476,  16.08458035,  15.79435594,\n",
       "        15.50413153,  15.21591523,  14.92769892,  14.63948262,\n",
       "        14.35126632,  14.06305002,  13.77483372,  13.48661742,\n",
       "        13.19840111,  12.91018481,  12.62196851,  12.30591253,\n",
       "        11.98985655,  11.67380058,  11.3577446 ,  11.04168862,\n",
       "        10.72563264,  10.40957667,  10.09352069,   9.77746471,\n",
       "         9.46140873])"
      ]
     },
     "execution_count": 5,
     "metadata": {},
     "output_type": "execute_result"
    }
   ],
   "source": [
    "index = {\n",
    "    5: 'SO2',\n",
    "    6: 'CO',\n",
    "    7: 'VOC',\n",
    "    8: 'NOx',\n",
    "    9: 'BC',\n",
    "    10: 'OC',\n",
    "    11: 'NH3'\n",
    "}\n",
    "\n",
    "new_emissions['ssp119'].loc[250:350,index[5]].values"
   ]
  },
  {
   "cell_type": "code",
   "execution_count": 6,
   "id": "5e49e571",
   "metadata": {},
   "outputs": [],
   "source": [
    "years = np.arange(1750,2111)\n",
    "startyear = 1750\n",
    "first_scenyear = 2015\n",
    "last_scenyear = 2110\n",
    "first_row = int(first_scenyear-startyear)\n",
    "last_row = int(last_scenyear-startyear)\n",
    "\n",
    "species = [  # in fair 1.6, order is important\n",
    "    '|CO2|MAGICC Fossil and Industrial',\n",
    "    '|CO2|MAGICC AFOLU',\n",
    "    '|CH4',\n",
    "    '|N2O',\n",
    "    '|Sulfur',\n",
    "    '|CO',\n",
    "    '|VOC',\n",
    "    '|NOx',\n",
    "    '|BC',\n",
    "    '|OC',\n",
    "    '|NH3',\n",
    "    '|CF4',\n",
    "    '|C2F6',\n",
    "    '|C6F14',\n",
    "    '|HFC23',\n",
    "    '|HFC32',\n",
    "    '|HFC4310mee',\n",
    "    '|HFC125',\n",
    "    '|HFC134a',\n",
    "    '|HFC143a',\n",
    "    '|HFC227ea',\n",
    "    '|HFC245fa',\n",
    "    '|SF6',\n",
    "    '|CFC11',\n",
    "    '|CFC12',\n",
    "    '|CFC113',\n",
    "    '|CFC114',\n",
    "    '|CFC115',\n",
    "    '|CCl4',\n",
    "    '|CH3CCl3',\n",
    "    '|HCFC22',\n",
    "    '|HCFC141b',\n",
    "    '|HCFC142b',\n",
    "    '|Halon1211',\n",
    "    '|Halon1202',\n",
    "    '|Halon1301',\n",
    "    '|Halon2402',\n",
    "    '|CH3Br',\n",
    "    '|CH3Cl',\n",
    "]\n",
    "\n",
    "# Assume that units coming out of aneris don't change. One day I'll do unit parsing\n",
    "unit_convert = np.ones(40)\n",
    "unit_convert[1] = 12/44/1000\n",
    "unit_convert[2] = 12/44/1000\n",
    "unit_convert[4] = 28/44/1000\n",
    "unit_convert[5] = 32/64\n",
    "unit_convert[8] = 14/46\n",
    "\n",
    "data_out = {}\n",
    "\n",
    "for scen in scenarios:\n",
    "    data_out[scen + '_WG1'] = np.ones((361, 40)) * np.nan\n",
    "    data_out[scen + '_WG1'][:,0] = years\n",
    "\n",
    "    years_future = [2015] + list(range(2020,2111,10))\n",
    "    for i, specie in enumerate(species):\n",
    "        if i<4 or i>10:\n",
    "            data_out[scen + '_WG1'][:first_row,i+1] = emissions.loc[(emissions['Region']=='World')&(emissions['Scenario']==scen)&(emissions['Variable'].str.endswith(specie)),str(startyear):'2014']*unit_convert[i+1]\n",
    "            f = interp1d(years_future, emissions.loc[(emissions['Region']=='World')&(emissions['Scenario']==scen)&(emissions['Variable'].str.endswith(specie)),'2015':'2110'].dropna(axis=1))\n",
    "            data_out[scen + '_WG1'][first_row:(last_row+1), i+1] = f(np.arange(first_scenyear, last_scenyear+1))*unit_convert[i+1]\n",
    "        else:\n",
    "            data_out[scen + '_WG1'][:,i+1] = new_emissions[scen].loc[:360,index[i+1]].values*unit_convert[i+1]"
   ]
  },
  {
   "cell_type": "code",
   "execution_count": 7,
   "id": "d2cff153",
   "metadata": {},
   "outputs": [],
   "source": [
    "years = np.arange(1750,2111)\n",
    "startyear = 1750\n",
    "first_scenyear = 2015\n",
    "last_scenyear = 2110\n",
    "first_row = int(first_scenyear-startyear)\n",
    "last_row = int(last_scenyear-startyear)\n",
    "\n",
    "species = [  # in fair 1.6, order is important\n",
    "    '|CO2|MAGICC Fossil and Industrial',\n",
    "    '|CO2|MAGICC AFOLU',\n",
    "    '|CH4',\n",
    "    '|N2O',\n",
    "    '|Sulfur',\n",
    "    '|CO',\n",
    "    '|VOC',\n",
    "    '|NOx',\n",
    "    '|BC',\n",
    "    '|OC',\n",
    "    '|NH3',\n",
    "    '|CF4',\n",
    "    '|C2F6',\n",
    "    '|C6F14',\n",
    "    '|HFC23',\n",
    "    '|HFC32',\n",
    "    '|HFC4310mee',\n",
    "    '|HFC125',\n",
    "    '|HFC134a',\n",
    "    '|HFC143a',\n",
    "    '|HFC227ea',\n",
    "    '|HFC245fa',\n",
    "    '|SF6',\n",
    "    '|CFC11',\n",
    "    '|CFC12',\n",
    "    '|CFC113',\n",
    "    '|CFC114',\n",
    "    '|CFC115',\n",
    "    '|CCl4',\n",
    "    '|CH3CCl3',\n",
    "    '|HCFC22',\n",
    "    '|HCFC141b',\n",
    "    '|HCFC142b',\n",
    "    '|Halon1211',\n",
    "    '|Halon1202',\n",
    "    '|Halon1301',\n",
    "    '|Halon2402',\n",
    "    '|CH3Br',\n",
    "    '|CH3Cl',\n",
    "]\n",
    "\n",
    "# Assume that units coming out of aneris don't change. One day I'll do unit parsing\n",
    "unit_convert = np.ones(40)\n",
    "unit_convert[1] = 12/44/1000\n",
    "unit_convert[2] = 12/44/1000\n",
    "unit_convert[4] = 28/44/1000\n",
    "unit_convert[5] = 32/64\n",
    "unit_convert[8] = 14/46\n",
    "\n",
    "for scen in scenarios:\n",
    "    data_out[scen + '_WG3'] = np.ones((361, 40)) * np.nan\n",
    "    data_out[scen + '_WG3'][:,0] = years\n",
    "\n",
    "    years_future = [2015] + list(range(2020,2111,10))\n",
    "    for i, specie in enumerate(species):\n",
    "        data_out[scen + '_WG3'][:first_row,i+1] = emissions.loc[(emissions['Region']=='World')&(emissions['Scenario']==scen)&(emissions['Variable'].str.endswith(specie)),str(startyear):'2014']*unit_convert[i+1]\n",
    "        f = interp1d(years_future, emissions.loc[(emissions['Region']=='World')&(emissions['Scenario']==scen)&(emissions['Variable'].str.endswith(specie)),'2015':'2110'].dropna(axis=1))\n",
    "        data_out[scen + '_WG3'][first_row:(last_row+1), i+1] = f(np.arange(first_scenyear, last_scenyear+1))*unit_convert[i+1]"
   ]
  },
  {
   "cell_type": "code",
   "execution_count": 8,
   "id": "65207978",
   "metadata": {},
   "outputs": [],
   "source": [
    "results_out = {}"
   ]
  },
  {
   "cell_type": "code",
   "execution_count": 9,
   "id": "217e20a0",
   "metadata": {},
   "outputs": [],
   "source": [
    "def run_fair(args):\n",
    "    thisC, thisF, thisT, _, thisOHU, _, thisAF = fair.forward.fair_scm(**args)\n",
    "    return (thisC[:,0], thisT, np.sum(thisF[:,:43], axis=1), np.sum(thisF[:,35:41], axis=1), np.sum(thisF, axis=1))"
   ]
  },
  {
   "cell_type": "code",
   "execution_count": 10,
   "id": "dbc78948",
   "metadata": {},
   "outputs": [],
   "source": [
    "all_scenarios = ['ssp119_WG1', 'ssp126_WG1', 'ssp245_WG1', 'ssp370_WG1', 'ssp119_WG3', 'ssp126_WG3', 'ssp245_WG3', 'ssp370_WG3']"
   ]
  },
  {
   "cell_type": "code",
   "execution_count": 11,
   "id": "2f2a8755",
   "metadata": {},
   "outputs": [
    {
     "data": {
      "application/vnd.jupyter.widget-view+json": {
       "model_id": "24dadc9883af499e8e919dae5d113a9e",
       "version_major": 2,
       "version_minor": 0
      },
      "text/plain": [
       "  0%|          | 0/8 [00:00<?, ?it/s]"
      ]
     },
     "metadata": {},
     "output_type": "display_data"
    },
    {
     "data": {
      "application/vnd.jupyter.widget-view+json": {
       "model_id": "",
       "version_major": 2,
       "version_minor": 0
      },
      "text/plain": [
       "  0%|          | 0/2237 [00:00<?, ?it/s]"
      ]
     },
     "metadata": {},
     "output_type": "display_data"
    },
    {
     "data": {
      "application/vnd.jupyter.widget-view+json": {
       "model_id": "",
       "version_major": 2,
       "version_minor": 0
      },
      "text/plain": [
       "  0%|          | 0/2237 [00:00<?, ?it/s]"
      ]
     },
     "metadata": {},
     "output_type": "display_data"
    },
    {
     "data": {
      "application/vnd.jupyter.widget-view+json": {
       "model_id": "",
       "version_major": 2,
       "version_minor": 0
      },
      "text/plain": [
       "  0%|          | 0/2237 [00:00<?, ?it/s]"
      ]
     },
     "metadata": {},
     "output_type": "display_data"
    },
    {
     "data": {
      "application/vnd.jupyter.widget-view+json": {
       "model_id": "",
       "version_major": 2,
       "version_minor": 0
      },
      "text/plain": [
       "  0%|          | 0/2237 [00:00<?, ?it/s]"
      ]
     },
     "metadata": {},
     "output_type": "display_data"
    },
    {
     "data": {
      "application/vnd.jupyter.widget-view+json": {
       "model_id": "",
       "version_major": 2,
       "version_minor": 0
      },
      "text/plain": [
       "  0%|          | 0/2237 [00:00<?, ?it/s]"
      ]
     },
     "metadata": {},
     "output_type": "display_data"
    },
    {
     "data": {
      "application/vnd.jupyter.widget-view+json": {
       "model_id": "",
       "version_major": 2,
       "version_minor": 0
      },
      "text/plain": [
       "  0%|          | 0/2237 [00:00<?, ?it/s]"
      ]
     },
     "metadata": {},
     "output_type": "display_data"
    },
    {
     "data": {
      "application/vnd.jupyter.widget-view+json": {
       "model_id": "",
       "version_major": 2,
       "version_minor": 0
      },
      "text/plain": [
       "  0%|          | 0/2237 [00:00<?, ?it/s]"
      ]
     },
     "metadata": {},
     "output_type": "display_data"
    },
    {
     "data": {
      "application/vnd.jupyter.widget-view+json": {
       "model_id": "",
       "version_major": 2,
       "version_minor": 0
      },
      "text/plain": [
       "  0%|          | 0/2237 [00:00<?, ?it/s]"
      ]
     },
     "metadata": {},
     "output_type": "display_data"
    }
   ],
   "source": [
    "for scenario in tqdm(all_scenarios):\n",
    "    updated_config = []\n",
    "    for i, cfg in enumerate(config_list):\n",
    "        updated_config.append({})\n",
    "        for key, value in cfg.items():\n",
    "            if isinstance(value, list):\n",
    "                updated_config[i][key] = np.asarray(value)\n",
    "            else:\n",
    "                updated_config[i][key] = value\n",
    "        updated_config[i]['emissions'] = data_out[scenario]\n",
    "        updated_config[i]['diagnostics'] = 'AR6'\n",
    "        updated_config[i][\"efficacy\"] = np.ones(45)\n",
    "        updated_config[i][\"gir_carbon_cycle\"] = True\n",
    "        updated_config[i][\"temperature_function\"] = \"Geoffroy\"\n",
    "        updated_config[i][\"aerosol_forcing\"] = \"aerocom+ghan2\"\n",
    "        updated_config[i][\"fixPre1850RCP\"] = False\n",
    "        \n",
    "    if __name__ == '__main__':\n",
    "        with Pool(28) as pool:\n",
    "            result = list(tqdm(pool.imap(run_fair, updated_config), total=len(updated_config), leave=False))\n",
    "        \n",
    "    result_t = np.array(result).transpose(1,2,0)\n",
    "    \n",
    "    results_out[scenario] = {}\n",
    "    c, t, f_ant, f_aer, f_tot = result_t\n",
    "    temp_rebase = t - t[245:265,:].mean(axis=0) + 0.85\n",
    "    results_out[scenario]['temp'] = temp_rebase"
   ]
  },
  {
   "cell_type": "code",
   "execution_count": 12,
   "id": "02df45f6",
   "metadata": {},
   "outputs": [],
   "source": [
    "ls = {\n",
    "    'WG1': '-',\n",
    "    'WG3': '--'\n",
    "}"
   ]
  },
  {
   "cell_type": "code",
   "execution_count": 13,
   "id": "e9398b1e",
   "metadata": {},
   "outputs": [
    {
     "data": {
      "image/png": "[encoded data removed]",
      "text/plain": [
       "<Figure size 432x288 with 1 Axes>"
      ]
     },
     "metadata": {
      "needs_background": "light"
     },
     "output_type": "display_data"
    }
   ],
   "source": [
    "for scenario in all_scenarios:\n",
    "    #pl.fill_between(np.arange(1750,2111), np.percentile(results_out[scenario]['temp'], 5, axis=1), np.percentile(results_out[scenario]['temp'], 95, axis=1))\n",
    "    pl.plot(np.arange(1750,2111), np.percentile(results_out[scenario]['temp'], 50, axis=1), color=RCMIP_SCENARIO_COLOURS[scenario[:6]], ls=ls[scenario[-3:]], label=scenario)\n",
    "    #pl.plot(temp_df.index, temp_df.temp, color='r')\n",
    "pl.legend()\n",
    "pl.grid()\n",
    "#pl.xlim(1950,2000)\n",
    "#pl.ylim(0,1)"
   ]
  },
  {
   "cell_type": "code",
   "execution_count": 14,
   "id": "5607523c",
   "metadata": {},
   "outputs": [
    {
     "data": {
      "text/plain": [
       "[<matplotlib.lines.Line2D at 0x7f2509016c10>]"
      ]
     },
     "execution_count": 14,
     "metadata": {},
     "output_type": "execute_result"
    },
    {
     "data": {
      "image/png": "[encoded data removed]",
      "text/plain": [
       "<Figure size 432x288 with 1 Axes>"
      ]
     },
     "metadata": {
      "needs_background": "light"
     },
     "output_type": "display_data"
    }
   ],
   "source": [
    "pl.plot(data_out['ssp119_WG1'][:,5])\n",
    "pl.plot(data_out['ssp119_WG3'][:,5])"
   ]
  },
  {
   "cell_type": "code",
   "execution_count": 15,
   "id": "a691e123",
   "metadata": {},
   "outputs": [
    {
     "data": {
      "text/plain": [
       "array([108.52104741, 109.30119381, 108.76746995, 113.46173257,\n",
       "       119.19142914, 124.39730103, 125.64091877, 124.27833608,\n",
       "       120.62499699, 111.76477982, 107.86486206, 109.21403802,\n",
       "       106.71700782, 101.5417518 ,  97.03202669,  91.07615229,\n",
       "        89.07794354,  87.47481964,  86.63576902,  83.77641894,\n",
       "        79.54915731,  75.2398318 ,  70.93050628,  66.62118076,\n",
       "        62.31185525,  58.00252973,  53.69320421,  49.38387869,\n",
       "        45.07455318,  40.76522766,  36.45590214,  35.17257184,\n",
       "        33.88924154,  32.60591124,  31.32258094,  30.03925063,\n",
       "        28.75592033,  27.47259003,  26.18925973,  24.90592943,\n",
       "        23.62259912,  23.42317644,  23.22375375,  23.02433106,\n",
       "        22.82490837,  22.62548569,  22.426063  ,  22.22664031,\n",
       "        22.02721763,  21.82779494,  21.62837225,  21.53253014,\n",
       "        21.43668802,  21.3408459 ,  21.24500379,  21.14916167,\n",
       "        21.05331955,  20.95747744,  20.86163532,  20.76579321,\n",
       "        20.66995109,  20.44359354,  20.217236  ,  19.99087845,\n",
       "        19.76452091,  19.53816336,  19.31180581,  19.08544827,\n",
       "        18.85909072,  18.63273317,  18.40637563,  18.11615122,\n",
       "        17.82592681,  17.5357024 ,  17.24547799,  16.95525358,\n",
       "        16.66502917,  16.37480476,  16.08458035,  15.79435594,\n",
       "        15.50413153,  15.21591523,  14.92769892,  14.63948262,\n",
       "        14.35126632,  14.06305002,  13.77483372,  13.48661742,\n",
       "        13.19840111,  12.91018481,  12.62196851,  12.30591253,\n",
       "        11.98985655,  11.67380058,  11.3577446 ,  11.04168862,\n",
       "        10.72563264,  10.40957667,  10.09352069,   9.77746471,\n",
       "         9.46140873])"
      ]
     },
     "execution_count": 15,
     "metadata": {},
     "output_type": "execute_result"
    }
   ],
   "source": [
    "new_emissions['ssp119'].loc[250:350,index[5]].values"
   ]
  },
  {
   "cell_type": "code",
   "execution_count": 16,
   "id": "3a892421",
   "metadata": {},
   "outputs": [
    {
     "data": {
      "text/plain": [
       "(1.0, 2.0)"
      ]
     },
     "execution_count": 16,
     "metadata": {},
     "output_type": "execute_result"
    },
    {
     "data": {
      "image/png": "[encoded data removed]",
      "text/plain": [
       "<Figure size 432x288 with 1 Axes>"
      ]
     },
     "metadata": {
      "needs_background": "light"
     },
     "output_type": "display_data"
    }
   ],
   "source": [
    "for scenario in all_scenarios:\n",
    "    #pl.fill_between(np.arange(1750,2111), np.percentile(results_out[scenario]['temp'], 5, axis=1), np.percentile(results_out[scenario]['temp'], 95, axis=1))\n",
    "    pl.plot(np.arange(1750,2111), np.percentile(results_out[scenario]['temp'], 50, axis=1), color=RCMIP_SCENARIO_COLOURS[scenario[:6]], ls=ls[scenario[-3:]], label=scenario)\n",
    "    #pl.plot(temp_df.index, temp_df.temp, color='r')\n",
    "pl.legend()\n",
    "pl.grid()\n",
    "pl.xlim(2000,2100)\n",
    "pl.ylim(1,2)"
   ]
  }
 ],
 "metadata": {
  "kernelspec": {
   "display_name": "Python 3",
   "language": "python",
   "name": "python3"
  },
  "language_info": {
   "codemirror_mode": {
    "name": "ipython",
    "version": 3
   },
   "file_extension": ".py",
   "mimetype": "text/x-python",
   "name": "python",
   "nbconvert_exporter": "python",
   "pygments_lexer": "ipython3",
   "version": "3.7.10"
  }
 },
 "nbformat": 4,
 "nbformat_minor": 5
}
