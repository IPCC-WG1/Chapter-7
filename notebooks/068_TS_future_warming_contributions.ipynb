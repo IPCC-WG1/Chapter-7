{
 "cells": [
  {
   "cell_type": "markdown",
   "metadata": {},
   "source": [
    "# For figure TS13\n",
    "\n",
    "Temperature response to forcing 1750-2100"
   ]
  },
  {
   "cell_type": "code",
   "execution_count": 1,
   "metadata": {},
   "outputs": [],
   "source": [
    "import numpy as np\n",
    "import scipy.stats as st\n",
    "import pandas as pd\n",
    "import matplotlib.pyplot as pl\n",
    "import os\n",
    "from matplotlib import gridspec, rc\n",
    "from matplotlib.lines import Line2D\n",
    "import matplotlib.patches as mp\n",
    "from netCDF4 import Dataset\n",
    "import warnings\n",
    "\n",
    "from ar6.utils.h5 import *"
   ]
  },
  {
   "cell_type": "code",
   "execution_count": 2,
   "metadata": {},
   "outputs": [],
   "source": [
    "# TODO - sort out figure sizing\n",
    "\n",
    "pl.rcParams['figure.figsize'] = (18/2.54, 11/2.54)\n",
    "pl.rcParams['font.size'] = 11\n",
    "pl.rcParams['font.family'] = 'Arial'\n",
    "pl.rcParams['xtick.direction'] = 'out'\n",
    "pl.rcParams['xtick.minor.visible'] = True\n",
    "pl.rcParams['ytick.major.left'] = True\n",
    "pl.rcParams['ytick.major.size'] = 0\n",
    "pl.rcParams['xtick.top'] = True\n",
    "pl.rcParams['figure.dpi'] = 150"
   ]
  },
  {
   "cell_type": "code",
   "execution_count": 3,
   "metadata": {},
   "outputs": [
    {
     "ename": "AttributeError",
     "evalue": "'Dataset' object has no attribute 'value'",
     "output_type": "error",
     "traceback": [
      "\u001b[0;31m---------------------------------------------------------------------------\u001b[0m",
      "\u001b[0;31mAttributeError\u001b[0m                            Traceback (most recent call last)",
      "\u001b[0;32m<ipython-input-3-5d25f99a5879>\u001b[0m in \u001b[0;36m<module>\u001b[0;34m\u001b[0m\n\u001b[0;32m----> 1\u001b[0;31m \u001b[0mresults\u001b[0m \u001b[0;34m=\u001b[0m \u001b[0mload_dict_from_hdf5\u001b[0m\u001b[0;34m(\u001b[0m\u001b[0;34m'../data_output_large/twolayer_SSPs.h5'\u001b[0m\u001b[0;34m)\u001b[0m\u001b[0;34m\u001b[0m\u001b[0;34m\u001b[0m\u001b[0m\n\u001b[0m",
      "\u001b[0;32m/nfs/b0110/Users/mencsm/ar6/src/ar6/utils/h5.py\u001b[0m in \u001b[0;36mload_dict_from_hdf5\u001b[0;34m(filename)\u001b[0m\n\u001b[1;32m     32\u001b[0m     \"\"\"\n\u001b[1;32m     33\u001b[0m     \u001b[0;32mwith\u001b[0m \u001b[0mh5py\u001b[0m\u001b[0;34m.\u001b[0m\u001b[0mFile\u001b[0m\u001b[0;34m(\u001b[0m\u001b[0mfilename\u001b[0m\u001b[0;34m,\u001b[0m \u001b[0;34m'r'\u001b[0m\u001b[0;34m)\u001b[0m \u001b[0;32mas\u001b[0m \u001b[0mh5file\u001b[0m\u001b[0;34m:\u001b[0m\u001b[0;34m\u001b[0m\u001b[0;34m\u001b[0m\u001b[0m\n\u001b[0;32m---> 34\u001b[0;31m         \u001b[0;32mreturn\u001b[0m \u001b[0mrecursively_load_dict_contents_from_group\u001b[0m\u001b[0;34m(\u001b[0m\u001b[0mh5file\u001b[0m\u001b[0;34m,\u001b[0m \u001b[0;34m'/'\u001b[0m\u001b[0;34m)\u001b[0m\u001b[0;34m\u001b[0m\u001b[0;34m\u001b[0m\u001b[0m\n\u001b[0m\u001b[1;32m     35\u001b[0m \u001b[0;34m\u001b[0m\u001b[0m\n\u001b[1;32m     36\u001b[0m \u001b[0;32mdef\u001b[0m \u001b[0mrecursively_load_dict_contents_from_group\u001b[0m\u001b[0;34m(\u001b[0m\u001b[0mh5file\u001b[0m\u001b[0;34m,\u001b[0m \u001b[0mpath\u001b[0m\u001b[0;34m)\u001b[0m\u001b[0;34m:\u001b[0m\u001b[0;34m\u001b[0m\u001b[0;34m\u001b[0m\u001b[0m\n",
      "\u001b[0;32m/nfs/b0110/Users/mencsm/ar6/src/ar6/utils/h5.py\u001b[0m in \u001b[0;36mrecursively_load_dict_contents_from_group\u001b[0;34m(h5file, path)\u001b[0m\n\u001b[1;32m     43\u001b[0m             \u001b[0mans\u001b[0m\u001b[0;34m[\u001b[0m\u001b[0mkey\u001b[0m\u001b[0;34m]\u001b[0m \u001b[0;34m=\u001b[0m \u001b[0mitem\u001b[0m\u001b[0;34m.\u001b[0m\u001b[0mvalue\u001b[0m\u001b[0;34m\u001b[0m\u001b[0;34m\u001b[0m\u001b[0m\n\u001b[1;32m     44\u001b[0m         \u001b[0;32melif\u001b[0m \u001b[0misinstance\u001b[0m\u001b[0;34m(\u001b[0m\u001b[0mitem\u001b[0m\u001b[0;34m,\u001b[0m \u001b[0mh5py\u001b[0m\u001b[0;34m.\u001b[0m\u001b[0m_hl\u001b[0m\u001b[0;34m.\u001b[0m\u001b[0mgroup\u001b[0m\u001b[0;34m.\u001b[0m\u001b[0mGroup\u001b[0m\u001b[0;34m)\u001b[0m\u001b[0;34m:\u001b[0m\u001b[0;34m\u001b[0m\u001b[0;34m\u001b[0m\u001b[0m\n\u001b[0;32m---> 45\u001b[0;31m             \u001b[0mans\u001b[0m\u001b[0;34m[\u001b[0m\u001b[0mkey\u001b[0m\u001b[0;34m]\u001b[0m \u001b[0;34m=\u001b[0m \u001b[0mrecursively_load_dict_contents_from_group\u001b[0m\u001b[0;34m(\u001b[0m\u001b[0mh5file\u001b[0m\u001b[0;34m,\u001b[0m \u001b[0mpath\u001b[0m \u001b[0;34m+\u001b[0m \u001b[0mkey\u001b[0m \u001b[0;34m+\u001b[0m \u001b[0;34m'/'\u001b[0m\u001b[0;34m)\u001b[0m\u001b[0;34m\u001b[0m\u001b[0;34m\u001b[0m\u001b[0m\n\u001b[0m\u001b[1;32m     46\u001b[0m     \u001b[0;32mreturn\u001b[0m \u001b[0mans\u001b[0m\u001b[0;34m\u001b[0m\u001b[0;34m\u001b[0m\u001b[0m\n",
      "\u001b[0;32m/nfs/b0110/Users/mencsm/ar6/src/ar6/utils/h5.py\u001b[0m in \u001b[0;36mrecursively_load_dict_contents_from_group\u001b[0;34m(h5file, path)\u001b[0m\n\u001b[1;32m     41\u001b[0m     \u001b[0;32mfor\u001b[0m \u001b[0mkey\u001b[0m\u001b[0;34m,\u001b[0m \u001b[0mitem\u001b[0m \u001b[0;32min\u001b[0m \u001b[0mh5file\u001b[0m\u001b[0;34m[\u001b[0m\u001b[0mpath\u001b[0m\u001b[0;34m]\u001b[0m\u001b[0;34m.\u001b[0m\u001b[0mitems\u001b[0m\u001b[0;34m(\u001b[0m\u001b[0;34m)\u001b[0m\u001b[0;34m:\u001b[0m\u001b[0;34m\u001b[0m\u001b[0;34m\u001b[0m\u001b[0m\n\u001b[1;32m     42\u001b[0m         \u001b[0;32mif\u001b[0m \u001b[0misinstance\u001b[0m\u001b[0;34m(\u001b[0m\u001b[0mitem\u001b[0m\u001b[0;34m,\u001b[0m \u001b[0mh5py\u001b[0m\u001b[0;34m.\u001b[0m\u001b[0m_hl\u001b[0m\u001b[0;34m.\u001b[0m\u001b[0mdataset\u001b[0m\u001b[0;34m.\u001b[0m\u001b[0mDataset\u001b[0m\u001b[0;34m)\u001b[0m\u001b[0;34m:\u001b[0m\u001b[0;34m\u001b[0m\u001b[0;34m\u001b[0m\u001b[0m\n\u001b[0;32m---> 43\u001b[0;31m             \u001b[0mans\u001b[0m\u001b[0;34m[\u001b[0m\u001b[0mkey\u001b[0m\u001b[0;34m]\u001b[0m \u001b[0;34m=\u001b[0m \u001b[0mitem\u001b[0m\u001b[0;34m.\u001b[0m\u001b[0mvalue\u001b[0m\u001b[0;34m\u001b[0m\u001b[0;34m\u001b[0m\u001b[0m\n\u001b[0m\u001b[1;32m     44\u001b[0m         \u001b[0;32melif\u001b[0m \u001b[0misinstance\u001b[0m\u001b[0;34m(\u001b[0m\u001b[0mitem\u001b[0m\u001b[0;34m,\u001b[0m \u001b[0mh5py\u001b[0m\u001b[0;34m.\u001b[0m\u001b[0m_hl\u001b[0m\u001b[0;34m.\u001b[0m\u001b[0mgroup\u001b[0m\u001b[0;34m.\u001b[0m\u001b[0mGroup\u001b[0m\u001b[0;34m)\u001b[0m\u001b[0;34m:\u001b[0m\u001b[0;34m\u001b[0m\u001b[0;34m\u001b[0m\u001b[0m\n\u001b[1;32m     45\u001b[0m             \u001b[0mans\u001b[0m\u001b[0;34m[\u001b[0m\u001b[0mkey\u001b[0m\u001b[0;34m]\u001b[0m \u001b[0;34m=\u001b[0m \u001b[0mrecursively_load_dict_contents_from_group\u001b[0m\u001b[0;34m(\u001b[0m\u001b[0mh5file\u001b[0m\u001b[0;34m,\u001b[0m \u001b[0mpath\u001b[0m \u001b[0;34m+\u001b[0m \u001b[0mkey\u001b[0m \u001b[0;34m+\u001b[0m \u001b[0;34m'/'\u001b[0m\u001b[0;34m)\u001b[0m\u001b[0;34m\u001b[0m\u001b[0;34m\u001b[0m\u001b[0m\n",
      "\u001b[0;31mAttributeError\u001b[0m: 'Dataset' object has no attribute 'value'"
     ]
    }
   ],
   "source": [
    "results = load_dict_from_hdf5('../data_output_large/twolayer_SSPs.h5')"
   ]
  },
  {
   "cell_type": "code",
   "execution_count": 4,
   "metadata": {},
   "outputs": [
    {
     "data": {
      "text/plain": [
       "dict_keys(['ssp119', 'ssp119_climuncert', 'ssp119_remove_co2', 'ssp119_remove_co2_climuncert', 'ssp119_remove_other_anthro', 'ssp119_remove_other_anthro_climuncert', 'ssp119_remove_other_ghg', 'ssp119_remove_other_ghg_climuncert', 'ssp126', 'ssp126_climuncert', 'ssp126_remove_co2', 'ssp126_remove_co2_climuncert', 'ssp126_remove_other_anthro', 'ssp126_remove_other_anthro_climuncert', 'ssp126_remove_other_ghg', 'ssp126_remove_other_ghg_climuncert', 'ssp245', 'ssp245_climuncert', 'ssp245_remove_co2', 'ssp245_remove_co2_climuncert', 'ssp245_remove_other_anthro', 'ssp245_remove_other_anthro_climuncert', 'ssp245_remove_other_ghg', 'ssp245_remove_other_ghg_climuncert', 'ssp370', 'ssp370_climuncert', 'ssp370_remove_co2', 'ssp370_remove_co2_climuncert', 'ssp370_remove_other_anthro', 'ssp370_remove_other_anthro_climuncert', 'ssp370_remove_other_ghg', 'ssp370_remove_other_ghg_climuncert', 'ssp585', 'ssp585_climuncert', 'ssp585_remove_co2', 'ssp585_remove_co2_climuncert', 'ssp585_remove_other_anthro', 'ssp585_remove_other_anthro_climuncert', 'ssp585_remove_other_ghg', 'ssp585_remove_other_ghg_climuncert'])"
      ]
     },
     "execution_count": 4,
     "metadata": {},
     "output_type": "execute_result"
    }
   ],
   "source": [
    "results.keys()"
   ]
  },
  {
   "cell_type": "code",
   "execution_count": 5,
   "metadata": {},
   "outputs": [
    {
     "data": {
      "text/plain": [
       "(351, 2565)"
      ]
     },
     "execution_count": 5,
     "metadata": {},
     "output_type": "execute_result"
    }
   ],
   "source": [
    "results['ssp245']['surface_temperature'].shape"
   ]
  },
  {
   "cell_type": "code",
   "execution_count": 8,
   "metadata": {},
   "outputs": [
    {
     "data": {
      "text/plain": [
       "1.1905754111653173"
      ]
     },
     "execution_count": 8,
     "metadata": {},
     "output_type": "execute_result"
    }
   ],
   "source": [
    "results['ssp245']['surface_temperature'][269].mean()"
   ]
  },
  {
   "cell_type": "code",
   "execution_count": 12,
   "metadata": {},
   "outputs": [
    {
     "name": "stdout",
     "output_type": "stream",
     "text": [
      "ssp119 co2 1.178977620855856\n",
      "ssp119 other_ghg 0.5211981166754862\n",
      "ssp119 other_anthro -0.2800433081055285\n",
      "ssp126 co2 1.5030642318047547\n",
      "ssp126 other_ghg 0.5371340668081277\n",
      "ssp126 other_anthro -0.26266203138022476\n",
      "ssp245 co2 2.193022393047796\n",
      "ssp245 other_ghg 0.8465883643476835\n",
      "ssp245 other_anthro -0.33760202458190014\n",
      "ssp370 co2 2.9069844456625544\n",
      "ssp370 other_ghg 1.354745877754714\n",
      "ssp370 other_anthro -0.6881821951858071\n",
      "ssp585 co2 3.545846238569255\n",
      "ssp585 other_ghg 1.235982213378546\n",
      "ssp585 other_anthro -0.4018650163536325\n"
     ]
    }
   ],
   "source": [
    "forcings = ['co2', 'other_ghg', 'other_anthro']\n",
    "scenarios = ['ssp119', 'ssp126', 'ssp245', 'ssp370', 'ssp585']\n",
    "for scenario in scenarios:\n",
    "    for forcing in forcings:\n",
    "        print(scenario, forcing, (results[scenario]['surface_temperature'][331:351] - results['%s_remove_%s' % (scenario, forcing)]['surface_temperature'][331:351]).mean())"
   ]
  },
  {
   "cell_type": "code",
   "execution_count": 18,
   "metadata": {},
   "outputs": [
    {
     "data": {
      "text/plain": [
       "(20, 2565)"
      ]
     },
     "execution_count": 18,
     "metadata": {},
     "output_type": "execute_result"
    }
   ],
   "source": [
    "(results['%s_remove_%s' % (scenario, forcing)]['surface_temperature'][331:351] - results['%s_remove_%s' % (scenario, forcing)]['surface_temperature'][0]).shape"
   ]
  },
  {
   "cell_type": "code",
   "execution_count": 42,
   "metadata": {},
   "outputs": [],
   "source": [
    "forcings = ['co2', 'other_ghg', 'other_anthro']\n",
    "\n",
    "AR6_forc = {}\n",
    "AR6_ecsforc = {}\n",
    "scenarios = ['ssp119', 'ssp126', 'ssp245', 'ssp370', 'ssp585']\n",
    "\n",
    "base_periods = {\n",
    "    '1750': 0,\n",
    "    '1850-1900': slice(100,151),\n",
    "    '1995-2014': slice(245,265),\n",
    "    '2010-2019': slice(260,270)\n",
    "}\n",
    "\n",
    "for scenario in scenarios:\n",
    "    AR6_forc[scenario] = {}\n",
    "    AR6_ecsforc[scenario] = {}\n",
    "    for forcing in forcings:\n",
    "        AR6_forc[scenario][forcing] = {}\n",
    "        AR6_ecsforc[scenario][forcing] = {}\n",
    "        for base_period in base_periods:\n",
    "            AR6_forc[scenario][forcing][base_period] = np.zeros(5)\n",
    "            AR6_forc[scenario][forcing][base_period] = np.percentile(\n",
    "                (\n",
    "                    (results[scenario]['surface_temperature'][331:351].mean(axis=0) - results[scenario]['surface_temperature'][base_periods[base_period]].mean(axis=0))-\n",
    "                    (results['%s_remove_%s' % (scenario, forcing)]['surface_temperature'][331:351].mean(axis=0) - results['%s_remove_%s' % (scenario, forcing)]['surface_temperature'][base_periods[base_period]].mean(axis=0))\n",
    "                ), (5,16,50,84,95)\n",
    "            )\n",
    "            AR6_ecsforc[scenario][forcing][base_period] = np.zeros(5)\n",
    "            AR6_ecsforc[scenario][forcing][base_period] = np.percentile(\n",
    "                (\n",
    "                    (results['%s_climuncert' % scenario]['surface_temperature'][331:351].mean(axis=0) - results['%s_climuncert' % scenario]['surface_temperature'][base_periods[base_period]].mean(axis=0))-\n",
    "                    (results['%s_remove_%s_climuncert' % (scenario, forcing)]['surface_temperature'][331:351].mean(axis=0) - results['%s_remove_%s_climuncert' % (scenario, forcing)]['surface_temperature'][base_periods[base_period]].mean(axis=0))\n",
    "                ), (5,16,50,84,95)\n",
    "            )\n",
    "    AR6_forc[scenario]['anthro'] = {}\n",
    "    AR6_ecsforc[scenario]['anthro'] = {}\n",
    "    for base_period in base_periods:\n",
    "        AR6_forc[scenario]['anthro'][base_period] = np.percentile(results[scenario]['surface_temperature'][331:351].mean(axis=0) - results[scenario]['surface_temperature'][base_periods[base_period]].mean(axis=0), (5,16,50,84,95))\n",
    "        AR6_ecsforc[scenario]['anthro'][base_period] = np.percentile(results['%s_climuncert' % scenario]['surface_temperature'][331:351].mean(axis=0) - results['%s_climuncert' % scenario]['surface_temperature'][base_periods[base_period]].mean(axis=0), (5,16,50,84,95))"
   ]
  },
  {
   "cell_type": "code",
   "execution_count": 43,
   "metadata": {},
   "outputs": [
    {
     "name": "stdout",
     "output_type": "stream",
     "text": [
      "[1.98667701 2.22667137 2.66397636 3.26794707 3.73775303]\n",
      "[1.56737665 1.77822293 2.16257295 2.7069718  3.13771792]\n",
      "[0.58913202 0.66669288 0.8282277  1.06472218 1.24725346]\n",
      "[-0.69792954 -0.50580782 -0.31784233 -0.19988494 -0.14371631]\n"
     ]
    }
   ],
   "source": [
    "print(AR6_ecsforc['ssp245']['anthro']['1750'])\n",
    "print(AR6_ecsforc['ssp245']['co2']['1750'])\n",
    "print(AR6_ecsforc['ssp245']['other_ghg']['1750'])\n",
    "print(AR6_ecsforc['ssp245']['other_anthro']['1750'])"
   ]
  },
  {
   "cell_type": "code",
   "execution_count": 44,
   "metadata": {},
   "outputs": [
    {
     "name": "stdout",
     "output_type": "stream",
     "text": [
      "ssp119 0.24225383730895733 0.5643103232211051 0.9575484813364052\n",
      "ssp126 0.506950733053811 0.9043159359522661 1.4826491059645592\n",
      "ssp245 1.243934996453968 1.814827243577203 2.585020146104215\n",
      "ssp370 1.997464504676968 2.7563576355060757 3.745606165340795\n",
      "ssp585 2.4421390507522727 3.5006266858546886 4.817334752006395\n"
     ]
    }
   ],
   "source": [
    "chapter4_tas = {}\n",
    "varnames = {\n",
    "    '05': 'Q05',\n",
    "    'central': 'mean',\n",
    "    '95': 'Q95'\n",
    "}\n",
    "for scenario in scenarios:\n",
    "    chapter4_tas[scenario] = {}\n",
    "    for pc in ['05','central','95']:\n",
    "        nc = Dataset('../data_input/chapter4_assessed_ranges/assessed_%s_%s.nc' % (scenario, pc))\n",
    "        chapter4_tas[scenario][pc] = nc.variables[varnames[pc]][:]\n",
    "        #if pc=='95' and scen=='ssp119':\n",
    "            #print(nc.variables['time'])\n",
    "            #print(nc.variables['time'][:])\n",
    "            #print(chapter4_tas[scen][pc])\n",
    "        nc.close()\n",
    "    print(scenario, chapter4_tas[scenario]['05'][-1], chapter4_tas[scenario]['central'][-1], chapter4_tas[scenario]['95'][-1])"
   ]
  },
  {
   "cell_type": "code",
   "execution_count": 45,
   "metadata": {},
   "outputs": [
    {
     "name": "stdout",
     "output_type": "stream",
     "text": [
      "ssp119 [0.25073687 0.57225264 1.14241097]\n",
      "ssp126 [0.52615151 0.92387796 1.62099269]\n",
      "ssp245 [1.25551934 1.84064417 2.8150814 ]\n",
      "ssp370 [1.99659133 2.71999932 3.80112342]\n",
      "ssp585 [2.53961149 3.51098618 5.08651981]\n"
     ]
    }
   ],
   "source": [
    "for scenario in scenarios:\n",
    "    print(scenario, AR6_ecsforc[scenario]['anthro']['1995-2014'][[0,2,4]])"
   ]
  },
  {
   "cell_type": "code",
   "execution_count": 54,
   "metadata": {},
   "outputs": [],
   "source": [
    "output = []\n",
    "for scenario in scenarios:\n",
    "    for base_period in base_periods:\n",
    "        for forcing in ['co2', 'other_ghg', 'other_anthro', 'anthro']:\n",
    "            output.append([scenario, forcing, base_period, \n",
    "                           AR6_ecsforc[scenario][forcing][base_period][0],\n",
    "                           AR6_ecsforc[scenario][forcing][base_period][1],\n",
    "                           AR6_ecsforc[scenario][forcing][base_period][2],\n",
    "                           AR6_ecsforc[scenario][forcing][base_period][3],\n",
    "                           AR6_ecsforc[scenario][forcing][base_period][4],\n",
    "                        ])\n",
    "\n",
    "    output.append([scenario, 'chapter4', '1995-2014', chapter4_tas[scenario]['05'][-1],\n",
    "                   np.nan, \n",
    "                   chapter4_tas[scenario]['central'][-1],\n",
    "                   np.nan,\n",
    "                   chapter4_tas[scenario]['95'][-1]])\n",
    "df = pd.DataFrame(output, columns=['scenario', 'forcing', 'base_period', 'p05','p16','p50','p84','p95'])\n",
    "df.to_csv('../data_output/ts_warming_ranges.csv')"
   ]
  },
  {
   "cell_type": "code",
   "execution_count": null,
   "metadata": {},
   "outputs": [],
   "source": []
  }
 ],
 "metadata": {
  "kernelspec": {
   "display_name": "Python 3",
   "language": "python",
   "name": "python3"
  },
  "language_info": {
   "codemirror_mode": {
    "name": "ipython",
    "version": 3
   },
   "file_extension": ".py",
   "mimetype": "text/x-python",
   "name": "python",
   "nbconvert_exporter": "python",
   "pygments_lexer": "ipython3",
   "version": "3.7.9"
  }
 },
 "nbformat": 4,
 "nbformat_minor": 4
}
